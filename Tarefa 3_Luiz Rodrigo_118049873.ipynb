{
 "cells": [
  {
   "cell_type": "code",
   "execution_count": 128,
   "id": "09dae883",
   "metadata": {},
   "outputs": [
    {
     "data": {
      "text/plain": [
       "bissecao (generic function with 1 method)"
      ]
     },
     "execution_count": 128,
     "metadata": {},
     "output_type": "execute_result"
    }
   ],
   "source": [
    "#Exercicio 1.1\n",
    "# dado a e b, tal que f(a) e f(b) tem sinais opostos, retorna x_final, tal\n",
    "# que |x_final - x_c| <= tamanho_final_do_intervalor/2 com f(x_c) = 0\n",
    "function bissecao(f, a, b, erro)\n",
    "    \n",
    "    if e_raiz(f,a)\n",
    "        return a\n",
    "    end\n",
    "    \n",
    "    if e_raiz(f,b)\n",
    "        return b\n",
    "    end\n",
    "    \n",
    "    if !(tem_sinais_opostos(f,a,b))\n",
    "        return \"Os sinais da função não são opostos nesse intervalo\"\n",
    "    end\n",
    "    \n",
    "    tamanho_final_do_intervalo = 2*erro\n",
    "    \n",
    "    iteracoes = floor(log2((b-a)/tamanho_final_do_intervalo))+1\n",
    "        \n",
    "    for i=1:iteracoes\n",
    "            m=media(a,b)\n",
    "            \n",
    "            if e_raiz(f,m)\n",
    "                return m\n",
    "            end\n",
    "            \n",
    "            if tem_sinais_opostos(f,a,m)\n",
    "                b=m\n",
    "            else\n",
    "                a=m\n",
    "            end\n",
    "    end\n",
    "    \n",
    "    print(\"iterações:\",iteracoes)\n",
    "    x_final = media(a,b)\n",
    "    return x_final\n",
    "        \n",
    "end"
   ]
  },
  {
   "cell_type": "code",
   "execution_count": 112,
   "id": "7536ed84",
   "metadata": {},
   "outputs": [
    {
     "data": {
      "text/plain": [
       "media (generic function with 1 method)"
      ]
     },
     "execution_count": 112,
     "metadata": {},
     "output_type": "execute_result"
    }
   ],
   "source": [
    "function media(x,y)\n",
    "    return (x+y)/2\n",
    "end"
   ]
  },
  {
   "cell_type": "code",
   "execution_count": 111,
   "id": "3285a1fc",
   "metadata": {},
   "outputs": [
    {
     "data": {
      "text/plain": [
       "tem_sinais_opostos (generic function with 1 method)"
      ]
     },
     "execution_count": 111,
     "metadata": {},
     "output_type": "execute_result"
    }
   ],
   "source": [
    "function tem_sinais_opostos(f,a,b)\n",
    "    return f(a)/f(b) < 0\n",
    "end"
   ]
  },
  {
   "cell_type": "code",
   "execution_count": 109,
   "id": "14b1f34a",
   "metadata": {},
   "outputs": [
    {
     "data": {
      "text/plain": [
       "e_raiz (generic function with 1 method)"
      ]
     },
     "execution_count": 109,
     "metadata": {},
     "output_type": "execute_result"
    }
   ],
   "source": [
    "function e_raiz(f,a)\n",
    "    return f(a)==0\n",
    "end"
   ]
  },
  {
   "cell_type": "code",
   "execution_count": null,
   "id": "8a9eeb85",
   "metadata": {},
   "outputs": [],
   "source": []
  },
  {
   "cell_type": "code",
   "execution_count": 129,
   "id": "0a4b2133",
   "metadata": {},
   "outputs": [
    {
     "name": "stdout",
     "output_type": "stream",
     "text": [
      "iterações:30.0"
     ]
    },
    {
     "data": {
      "text/plain": [
       "3.162277666851878"
      ]
     },
     "execution_count": 129,
     "metadata": {},
     "output_type": "execute_result"
    }
   ],
   "source": [
    "#exercicio 1.1\n",
    "g(x) = x^2-10\n",
    "erro = 0.00000001\n",
    "bissecao(g, 0, 20, erro)"
   ]
  },
  {
   "cell_type": "code",
   "execution_count": null,
   "id": "2bb1c25b",
   "metadata": {},
   "outputs": [],
   "source": []
  },
  {
   "cell_type": "code",
   "execution_count": 77,
   "id": "0047fe56",
   "metadata": {},
   "outputs": [
    {
     "data": {
      "text/plain": [
       "bissecao_newton (generic function with 1 method)"
      ]
     },
     "execution_count": 77,
     "metadata": {},
     "output_type": "execute_result"
    }
   ],
   "source": [
    "#exercicio 1.2\n",
    "# dado a e b, tal que f(a) e f(b) tem sinais opostos, retorna x_final, tal\n",
    "# que |x_final - x_c| <= tamanho_final_do_intervalor/2 com f(x_c) = 0. Depois disso há a aproximação utilizando o metodo\n",
    "# de newton\n",
    "function bissecao_newton(f, a, b, derivada)\n",
    "    \n",
    "    #inicio da interpolação \n",
    "    if e_raiz(f,a)\n",
    "        return a\n",
    "    end\n",
    "    \n",
    "    if e_raiz(f,b)\n",
    "        return b\n",
    "    end\n",
    "    \n",
    "    if !(tem_sinais_opostos(f,a,b))\n",
    "        return \"Os sinais da função não são opostos nesse intervalo\"\n",
    "    end\n",
    "    \n",
    "    tamanho_final_do_intervalo = 10^-2\n",
    "        \n",
    "    iteracoes = floor(log2((b-a)/tamanho_final_do_intervalo))+1\n",
    "        \n",
    "    for i=1:iteracoes\n",
    "            m=media(a,b)\n",
    "            \n",
    "            if e_raiz(f,m)\n",
    "                return m\n",
    "            end\n",
    "            \n",
    "            if tem_sinais_opostos(f,a,m)\n",
    "                b=m\n",
    "            else\n",
    "                a=m\n",
    "            end\n",
    "    end\n",
    "    \n",
    "    x_semi_final = media(a,b)\n",
    "    #fim da interpolação\n",
    "    \n",
    "    print(\"x_semi_final: \",x_semi_final)\n",
    "        \n",
    "    #inicio do metodo de newton\n",
    "    x_final = x_semi_final - f(x_semi_final)/derivada(x_semi_final)\n",
    "    \n",
    "    return x_final\n",
    "    #fim do metodo de newton\n",
    "end\n"
   ]
  },
  {
   "cell_type": "code",
   "execution_count": 79,
   "id": "4a5e087f",
   "metadata": {},
   "outputs": [
    {
     "name": "stdout",
     "output_type": "stream",
     "text": [
      "x_semi_final: -1.3824462890625"
     ]
    },
    {
     "data": {
      "text/plain": [
       "-1.3795443138755696"
      ]
     },
     "execution_count": 79,
     "metadata": {},
     "output_type": "execute_result"
    }
   ],
   "source": [
    "#exercicio 1.2\n",
    "f(x)= x^(5)+x^(4)+(x^3)+4\n",
    "derivada(x)= 5*x^4 + 4*(x^3)+3*(x^2)\n",
    "bissecao_newton(f, -100, 100, derivada)"
   ]
  },
  {
   "cell_type": "code",
   "execution_count": 3,
   "id": "cd33bf42",
   "metadata": {
    "scrolled": true
   },
   "outputs": [
    {
     "name": "stdout",
     "output_type": "stream",
     "text": [
      "2.9990234375"
     ]
    }
   ],
   "source": []
  },
  {
   "cell_type": "code",
   "execution_count": 107,
   "id": "33b8f5ed",
   "metadata": {},
   "outputs": [
    {
     "data": {
      "text/plain": [
       "bissecao13 (generic function with 1 method)"
      ]
     },
     "execution_count": 107,
     "metadata": {},
     "output_type": "execute_result"
    }
   ],
   "source": [
    "#Exercicio 1.3\n",
    "# dado a e b, tal que f(a) e f(b) tem sinais opostos, retorna x_final, tal\n",
    "# que |x_final - x_c| <= tamanho_final_do_intervalor/2 com f(x_c) = 0\n",
    "function bissecao131(f, a, b, tamanho_final_do_intervalo)\n",
    "    \n",
    "    if e_raiz(f,a)\n",
    "        return a\n",
    "    end\n",
    "    \n",
    "    if e_raiz(f,b)\n",
    "        return b\n",
    "    end\n",
    "    \n",
    "    if !(tem_sinais_opostos(f,a,b))\n",
    "        return \"Os sinais da função não são opostos nesse intervalo\"\n",
    "    end\n",
    "    \n",
    "    iteracoes = floor(log2((b-a)/tamanho_final_do_intervalo))+1\n",
    "        \n",
    "    for i=1:iteracoes\n",
    "            m=media(a,b)\n",
    "            \n",
    "            if e_raiz(f,m)\n",
    "                return m\n",
    "            end\n",
    "            \n",
    "            if tem_sinais_opostos(f,a,m)\n",
    "                b=m\n",
    "            else\n",
    "                a=m\n",
    "            end\n",
    "    end\n",
    "    \n",
    "    print(\"iterações:\",iteracoes)\n",
    "    x_final = media(a,b)\n",
    "    return x_final\n",
    "        \n",
    "end"
   ]
  },
  {
   "cell_type": "code",
   "execution_count": 118,
   "id": "c3a99ccd",
   "metadata": {},
   "outputs": [
    {
     "name": "stdout",
     "output_type": "stream",
     "text": [
      "iterações:7.0"
     ]
    },
    {
     "data": {
      "text/plain": [
       "1.0988281250000003"
      ]
     },
     "execution_count": 118,
     "metadata": {},
     "output_type": "execute_result"
    }
   ],
   "source": [
    "#Exercicio 1.3.1\n",
    "f(x)=exp(x)-3\n",
    "bissecao13(f,1,1.1,0.001)"
   ]
  },
  {
   "cell_type": "code",
   "execution_count": null,
   "id": "5a5a1e6b",
   "metadata": {},
   "outputs": [],
   "source": []
  },
  {
   "cell_type": "code",
   "execution_count": 130,
   "id": "79cb87a2",
   "metadata": {},
   "outputs": [
    {
     "data": {
      "text/plain": [
       "ln3 (generic function with 1 method)"
      ]
     },
     "execution_count": 130,
     "metadata": {},
     "output_type": "execute_result"
    }
   ],
   "source": [
    "#Exercicio 1.3.2\n",
    "function ln3(numeroDeIteracoes, chute)#numero de iterações e chute inicial\n",
    "   for i=1:numeroDeIteracoes\n",
    "        chute = chute - ((exp(chute)-3)/exp(chute))\n",
    "    end\n",
    "    return chute\n",
    "end"
   ]
  },
  {
   "cell_type": "code",
   "execution_count": 132,
   "id": "1f1a65a3",
   "metadata": {},
   "outputs": [
    {
     "data": {
      "text/plain": [
       "1.0986122886681098"
      ]
     },
     "execution_count": 132,
     "metadata": {},
     "output_type": "execute_result"
    }
   ],
   "source": [
    "#Exercicio 1.3.2\n",
    "ln3(20,1.1)"
   ]
  },
  {
   "cell_type": "code",
   "execution_count": null,
   "id": "81757ea2",
   "metadata": {},
   "outputs": [],
   "source": []
  },
  {
   "cell_type": "code",
   "execution_count": 84,
   "id": "0c1ac29d",
   "metadata": {},
   "outputs": [
    {
     "data": {
      "text/plain": [
       "1.0982678724638968"
      ]
     },
     "execution_count": 84,
     "metadata": {},
     "output_type": "execute_result"
    }
   ],
   "source": [
    "#Exercicio 1.3.3\n",
    "\n",
    "#taylor de ordem 2\n",
    "#f(x) - (f(a) + f'(a)(x-a) + (f''(a) *(x-a)^2)/2      <= M((x-a)^3)/6\n",
    "# a = e\n",
    "1 + ((3-exp(1))/exp(1)) - (((3-exp(1))^2)/2)/((exp(1))^2)"
   ]
  },
  {
   "cell_type": "code",
   "execution_count": 83,
   "id": "40ce1dc0",
   "metadata": {},
   "outputs": [
    {
     "data": {
      "text/plain": [
       "0.00037105636225489186"
      ]
     },
     "execution_count": 83,
     "metadata": {},
     "output_type": "execute_result"
    }
   ],
   "source": [
    "#Erro de taylor em ordem 2, menor que 10^-3\n",
    "\n",
    "#(M(x-a)^3)/6\n",
    "(2/(exp(1))^3) * ((3-exp(1))^3)/6 \n",
    "\n",
    "#erro"
   ]
  },
  {
   "cell_type": "code",
   "execution_count": null,
   "id": "5ca5d135",
   "metadata": {},
   "outputs": [],
   "source": []
  },
  {
   "cell_type": "code",
   "execution_count": 145,
   "id": "00eb81a8",
   "metadata": {},
   "outputs": [
    {
     "data": {
      "text/plain": [
       "fatorial (generic function with 1 method)"
      ]
     },
     "execution_count": 145,
     "metadata": {},
     "output_type": "execute_result"
    }
   ],
   "source": []
  },
  {
   "cell_type": "code",
   "execution_count": 85,
   "id": "0b791bf5",
   "metadata": {},
   "outputs": [],
   "source": [
    "using LinearAlgebra"
   ]
  },
  {
   "cell_type": "code",
   "execution_count": 142,
   "id": "db4a841a",
   "metadata": {},
   "outputs": [
    {
     "data": {
      "text/plain": [
       "interpolação1 (generic function with 1 method)"
      ]
     },
     "execution_count": 142,
     "metadata": {},
     "output_type": "execute_result"
    }
   ],
   "source": [
    "#exercicio 1.3.4\n",
    "function interpolação1(x,y)\n",
    "    #criar a matriz V\n",
    "    V=[x.^0 x.^1]\n",
    "    c=inv(V)*y\n",
    "    return c #vetor de coeficientes\n",
    "end"
   ]
  },
  {
   "cell_type": "code",
   "execution_count": 141,
   "id": "b8a5d1a2",
   "metadata": {},
   "outputs": [
    {
     "data": {
      "text/plain": [
       "2-element Array{Float64,1}:\n",
       " 0.049166805522496304\n",
       " 0.3497919842316417  "
      ]
     },
     "execution_count": 141,
     "metadata": {},
     "output_type": "execute_result"
    }
   ],
   "source": [
    "#exercicio 1.3.4\n",
    "x=[exp(1); exp(1.1)]\n",
    "y=[1, 1.1]\n",
    "interpolação1(x,y)"
   ]
  },
  {
   "cell_type": "code",
   "execution_count": 143,
   "id": "c793198b",
   "metadata": {},
   "outputs": [
    {
     "data": {
      "text/plain": [
       "1.0985427582174214"
      ]
     },
     "execution_count": 143,
     "metadata": {},
     "output_type": "execute_result"
    }
   ],
   "source": [
    "#exercicio 1.3.4\n",
    "0.049166805522496304 + 0.3497919842316417  * 3"
   ]
  },
  {
   "cell_type": "code",
   "execution_count": 146,
   "id": "6949bc2f",
   "metadata": {},
   "outputs": [
    {
     "data": {
      "text/plain": [
       "fatorial (generic function with 1 method)"
      ]
     },
     "execution_count": 146,
     "metadata": {},
     "output_type": "execute_result"
    }
   ],
   "source": [
    "function fatorial(n :: Integer)\n",
    "    if n < 0\n",
    "        error(\"Fatorial somente para n>= 0\")\n",
    "    elseif n==0\n",
    "        return 1\n",
    "    else\n",
    "        return n * fatorial(n-1)\n",
    "    end\n",
    "end"
   ]
  },
  {
   "cell_type": "code",
   "execution_count": 147,
   "id": "bb1d4772",
   "metadata": {},
   "outputs": [
    {
     "data": {
      "text/plain": [
       "-0.0005868223243925245"
      ]
     },
     "execution_count": 147,
     "metadata": {},
     "output_type": "execute_result"
    }
   ],
   "source": [
    "#exercicio 1.3.4\n",
    "#ERRO\n",
    "\n",
    "# o erro é dado por(M(x-xo)(x-x1))/(n+1)!\n",
    "# temos então\n",
    "\n",
    "# f''(x) = -1/x^2\n",
    "\n",
    "# |-1/(e^1)^2| * ((3-e^1) (3-e^1.1)) / 2!\n",
    "\n",
    "((3-exp(1)) * (3-exp(1.1)))/ fatorial(2)\n",
    "\n"
   ]
  },
  {
   "cell_type": "code",
   "execution_count": 148,
   "id": "90382f8c",
   "metadata": {},
   "outputs": [
    {
     "data": {
      "text/plain": [
       "-0.1353352832366127"
      ]
     },
     "execution_count": 148,
     "metadata": {},
     "output_type": "execute_result"
    }
   ],
   "source": [
    "#exercicio 1.3.4\n",
    "\n",
    "#M= \n",
    "\n",
    "-1/(exp(1))^2"
   ]
  },
  {
   "cell_type": "code",
   "execution_count": 149,
   "id": "46301241",
   "metadata": {},
   "outputs": [
    {
     "data": {
      "text/plain": [
       "7.941776548122973e-5"
      ]
     },
     "execution_count": 149,
     "metadata": {},
     "output_type": "execute_result"
    }
   ],
   "source": [
    "#exercicio 1.3.4\n",
    "#Teto do erro\n",
    "\n",
    "-0.1353352832366127   *  ((3-exp(1)) * (3-exp(1.1)))/ fatorial(2)"
   ]
  },
  {
   "cell_type": "code",
   "execution_count": null,
   "id": "b2617803",
   "metadata": {},
   "outputs": [],
   "source": []
  },
  {
   "cell_type": "code",
   "execution_count": 152,
   "id": "8fdf4d4d",
   "metadata": {},
   "outputs": [
    {
     "data": {
      "text/plain": [
       "interpolação2 (generic function with 1 method)"
      ]
     },
     "execution_count": 152,
     "metadata": {},
     "output_type": "execute_result"
    }
   ],
   "source": [
    "#exercicio 1.3.5\n",
    "function interpolação2(x,y)\n",
    "    #criar a matriz V\n",
    "    V=[x.^0 x.^1 x.^2]\n",
    "    c=inv(V)*y\n",
    "    #c=V\\y #resolver o sistema linear Vc=y\n",
    "    return c #vetor de coeficientes\n",
    "end"
   ]
  },
  {
   "cell_type": "code",
   "execution_count": 153,
   "id": "498606d7",
   "metadata": {},
   "outputs": [
    {
     "data": {
      "text/plain": [
       "3-element Array{Float64,1}:\n",
       " -0.3024987510902051 \n",
       "  0.6028903305324462 \n",
       " -0.04528346645540715"
      ]
     },
     "execution_count": 153,
     "metadata": {},
     "output_type": "execute_result"
    }
   ],
   "source": [
    "#exercicio 1.3.5\n",
    "x=[exp(1.1); exp(1.2); exp(1.3)]\n",
    "y=[1.1, 1.2, 1.3]\n",
    "interpolação2(x,y)"
   ]
  },
  {
   "cell_type": "code",
   "execution_count": 189,
   "id": "68457d6f",
   "metadata": {},
   "outputs": [
    {
     "data": {
      "text/plain": [
       "1.0986210424084693"
      ]
     },
     "execution_count": 189,
     "metadata": {},
     "output_type": "execute_result"
    }
   ],
   "source": [
    "#exercicio 1.3.5\n",
    "-0.3024987510902051   + 0.6028903305324462 * 3 + -0.04528346645540715 * 9"
   ]
  },
  {
   "cell_type": "code",
   "execution_count": 200,
   "id": "960893a0",
   "metadata": {},
   "outputs": [
    {
     "data": {
      "text/plain": [
       "-1.0973774030084486e-5"
      ]
     },
     "execution_count": 200,
     "metadata": {},
     "output_type": "execute_result"
    }
   ],
   "source": [
    "#exercicio 1.3.5\n",
    "# Calculando o erro\n",
    "\n",
    "# f'''(x) = 2/x^3\n",
    "\n",
    "# |2/exp(1.1)^3| * ((3-exp(1.1)) (3-e^1.2) (3-e^1.3)) / 3!\n",
    "\n",
    "(2/exp(1.1)^3) * (((3-exp(1.1))*(3-exp(1.2))*(3-exp(1.3))) / fatorial(3))\n"
   ]
  },
  {
   "cell_type": "code",
   "execution_count": null,
   "id": "3f7e02fc",
   "metadata": {},
   "outputs": [],
   "source": []
  },
  {
   "cell_type": "code",
   "execution_count": 171,
   "id": "a76aa4b3",
   "metadata": {},
   "outputs": [
    {
     "data": {
      "text/plain": [
       "interpolação2 (generic function with 1 method)"
      ]
     },
     "execution_count": 171,
     "metadata": {},
     "output_type": "execute_result"
    }
   ],
   "source": [
    "#exercicio 1.4\n",
    "function interpolação2(x,y)\n",
    "    #criar a matriz V\n",
    "    V=[x.^0 x.^1 x.^2]\n",
    "    \n",
    "    c=V\\y #resolver o sistema linear Vc=y\n",
    "    return c #vetor de coeficientes\n",
    "end"
   ]
  },
  {
   "cell_type": "code",
   "execution_count": 170,
   "id": "34fbeedf",
   "metadata": {},
   "outputs": [
    {
     "data": {
      "text/plain": [
       "3-element Array{Float64,1}:\n",
       "  1.039298173214251     \n",
       " -0.00256321507508331   \n",
       " -0.00010708479686368122"
      ]
     },
     "execution_count": 170,
     "metadata": {},
     "output_type": "execute_result"
    }
   ],
   "source": [
    "#exercicio 1.4\n",
    "x=  [30; 45; 60]\n",
    "y = [ (((3)^(1/2))/2) , (((2)^(1/2))/2) , 1/2]\n",
    "interpolação2(x,y)"
   ]
  },
  {
   "cell_type": "code",
   "execution_count": 162,
   "id": "4bd8bbf2",
   "metadata": {},
   "outputs": [
    {
     "data": {
      "text/plain": [
       "0.7654338952290302"
      ]
     },
     "execution_count": 162,
     "metadata": {},
     "output_type": "execute_result"
    }
   ],
   "source": [
    "#exercicio 1.4\n",
    "f(x)= 1.0392981732142514 -0.0025632150750832805*x -0.00010708479686368129*x^2\n",
    "f(40)"
   ]
  },
  {
   "cell_type": "code",
   "execution_count": null,
   "id": "23a7a61a",
   "metadata": {},
   "outputs": [],
   "source": []
  },
  {
   "cell_type": "code",
   "execution_count": 194,
   "id": "6b5064fe",
   "metadata": {},
   "outputs": [
    {
     "data": {
      "text/plain": [
       "interpolação (generic function with 1 method)"
      ]
     },
     "execution_count": 194,
     "metadata": {},
     "output_type": "execute_result"
    }
   ],
   "source": [
    "#Exercicio 1.5\n",
    "function interpolação2(x,y)\n",
    "    #criar a matriz V\n",
    "    V=[x.^0 x.^1 x.^2]\n",
    "    \n",
    "    c=V\\y #resolver o sistema linear Vc=y\n",
    "    return c #vetor de coeficientes\n",
    "end"
   ]
  },
  {
   "cell_type": "code",
   "execution_count": 373,
   "id": "da58eabb",
   "metadata": {},
   "outputs": [
    {
     "data": {
      "text/plain": [
       "3-element Array{Float64,1}:\n",
       "  7.916666666666664   \n",
       "  0.8694444444444445  \n",
       " -0.019444444444444445"
      ]
     },
     "execution_count": 373,
     "metadata": {},
     "output_type": "execute_result"
    }
   ],
   "source": [
    "#Exercicio 1.5\n",
    "y= [15; 16.5; 17.5]\n",
    "x= [34; 30; 25]\n",
    "interpolação2(x,y)"
   ]
  },
  {
   "cell_type": "code",
   "execution_count": 370,
   "id": "e1bd7dd1",
   "metadata": {},
   "outputs": [
    {
     "data": {
      "text/plain": [
       "f (generic function with 2 methods)"
      ]
     },
     "execution_count": 370,
     "metadata": {},
     "output_type": "execute_result"
    }
   ],
   "source": [
    "#Exercicio 1.5\n",
    "f(x)= 7.916666666666664 + 0.8694444444444445*x -0.019444444444444445*x^2"
   ]
  },
  {
   "cell_type": "code",
   "execution_count": 202,
   "id": "45e404ea",
   "metadata": {},
   "outputs": [
    {
     "data": {
      "text/plain": [
       "13.466666666666665"
      ]
     },
     "execution_count": 202,
     "metadata": {},
     "output_type": "execute_result"
    }
   ],
   "source": [
    "f(37)"
   ]
  },
  {
   "cell_type": "code",
   "execution_count": 374,
   "id": "2d34077f",
   "metadata": {},
   "outputs": [
    {
     "data": {
      "text/plain": [
       "3-element Array{Float64,1}:\n",
       " -157.00000000000006  \n",
       "   26.73333333333334  \n",
       "   -0.9333333333333336"
      ]
     },
     "execution_count": 374,
     "metadata": {},
     "output_type": "execute_result"
    }
   ],
   "source": [
    "x= [15; 16.5; 17.5]\n",
    "y= [34; 30; 25]\n",
    "interpolação2(x,y)"
   ]
  },
  {
   "cell_type": "code",
   "execution_count": 375,
   "id": "0c15d91a",
   "metadata": {
    "scrolled": true
   },
   "outputs": [
    {
     "data": {
      "text/plain": [
       "g (generic function with 1 method)"
      ]
     },
     "execution_count": 375,
     "metadata": {},
     "output_type": "execute_result"
    }
   ],
   "source": [
    "#Exercicio 1.5\n",
    "g(x)=  -157.00000000000006 + 26.73333333333334*x -0.9333333333333336*x^2"
   ]
  },
  {
   "cell_type": "code",
   "execution_count": 377,
   "id": "167440c4",
   "metadata": {},
   "outputs": [
    {
     "data": {
      "text/plain": [
       "33.74785185185189"
      ]
     },
     "execution_count": 377,
     "metadata": {},
     "output_type": "execute_result"
    }
   ],
   "source": [
    "g(13.466666666666665)"
   ]
  },
  {
   "cell_type": "code",
   "execution_count": 376,
   "id": "bca0296e",
   "metadata": {},
   "outputs": [
    {
     "name": "stdout",
     "output_type": "stream",
     "text": [
      "iterações:7.0"
     ]
    },
    {
     "data": {
      "text/plain": [
       "8.26171875"
      ]
     },
     "execution_count": 376,
     "metadata": {},
     "output_type": "execute_result"
    }
   ],
   "source": [
    "#Exercicio 1.5\n",
    "bissecao(g,0,15,0.1)"
   ]
  },
  {
   "cell_type": "code",
   "execution_count": null,
   "id": "b9dcd437",
   "metadata": {},
   "outputs": [],
   "source": [
    "#Exercicio 1.5\n",
    "# Morreu em: 13:48"
   ]
  },
  {
   "cell_type": "code",
   "execution_count": null,
   "id": "81425d53",
   "metadata": {},
   "outputs": [],
   "source": []
  },
  {
   "cell_type": "code",
   "execution_count": 484,
   "id": "a8b3832e",
   "metadata": {},
   "outputs": [
    {
     "data": {
      "text/plain": [
       "f (generic function with 2 methods)"
      ]
     },
     "execution_count": 484,
     "metadata": {},
     "output_type": "execute_result"
    }
   ],
   "source": [
    "#Exercicio 1.6\n",
    "#f(x,y)= (75*(y*x)) - (275* y) - (225 * x) + 1625"
   ]
  },
  {
   "cell_type": "code",
   "execution_count": 486,
   "id": "55494f0a",
   "metadata": {},
   "outputs": [
    {
     "data": {
      "text/plain": [
       "1000"
      ]
     },
     "execution_count": 486,
     "metadata": {},
     "output_type": "execute_result"
    }
   ],
   "source": [
    "f(1,2)"
   ]
  },
  {
   "cell_type": "code",
   "execution_count": 464,
   "id": "a1ba2f43",
   "metadata": {},
   "outputs": [
    {
     "data": {
      "text/plain": [
       "f (generic function with 2 methods)"
      ]
     },
     "execution_count": 464,
     "metadata": {},
     "output_type": "execute_result"
    }
   ],
   "source": [
    "#Exercicio 1.6\n",
    "f(x,y)= -275* y -250*x + 75*x*y + 1450"
   ]
  },
  {
   "cell_type": "code",
   "execution_count": 470,
   "id": "c5fbf8fd",
   "metadata": {},
   "outputs": [
    {
     "data": {
      "image/svg+xml": [
       "<?xml version=\"1.0\" encoding=\"utf-8\"?>\n",
       "<svg xmlns=\"http://www.w3.org/2000/svg\" xmlns:xlink=\"http://www.w3.org/1999/xlink\" width=\"600\" height=\"400\" viewBox=\"0 0 2400 1600\">\n",
       "<defs>\n",
       "  <clipPath id=\"clip560\">\n",
       "    <rect x=\"0\" y=\"0\" width=\"2400\" height=\"1600\"/>\n",
       "  </clipPath>\n",
       "</defs>\n",
       "<path clip-path=\"url(#clip560)\" d=\"\n",
       "M0 1600 L2400 1600 L2400 0 L0 0  Z\n",
       "  \" fill=\"#ffffff\" fill-rule=\"evenodd\" fill-opacity=\"1\"/>\n",
       "<defs>\n",
       "  <clipPath id=\"clip561\">\n",
       "    <rect x=\"480\" y=\"0\" width=\"1681\" height=\"1600\"/>\n",
       "  </clipPath>\n",
       "</defs>\n",
       "<path clip-path=\"url(#clip560)\" d=\"\n",
       "M164.885 1486.45 L2352.76 1486.45 L2352.76 47.2441 L164.885 47.2441  Z\n",
       "  \" fill=\"#ffffff\" fill-rule=\"evenodd\" fill-opacity=\"1\"/>\n",
       "<defs>\n",
       "  <clipPath id=\"clip562\">\n",
       "    <rect x=\"164\" y=\"47\" width=\"2189\" height=\"1440\"/>\n",
       "  </clipPath>\n",
       "</defs>\n",
       "<polyline clip-path=\"url(#clip562)\" style=\"stroke:#000000; stroke-width:2; stroke-opacity:0.1; fill:none\" points=\"\n",
       "  226.806,1486.45 226.806,47.2441 \n",
       "  \"/>\n",
       "<polyline clip-path=\"url(#clip562)\" style=\"stroke:#000000; stroke-width:2; stroke-opacity:0.1; fill:none\" points=\"\n",
       "  742.813,1486.45 742.813,47.2441 \n",
       "  \"/>\n",
       "<polyline clip-path=\"url(#clip562)\" style=\"stroke:#000000; stroke-width:2; stroke-opacity:0.1; fill:none\" points=\"\n",
       "  1258.82,1486.45 1258.82,47.2441 \n",
       "  \"/>\n",
       "<polyline clip-path=\"url(#clip562)\" style=\"stroke:#000000; stroke-width:2; stroke-opacity:0.1; fill:none\" points=\"\n",
       "  1774.83,1486.45 1774.83,47.2441 \n",
       "  \"/>\n",
       "<polyline clip-path=\"url(#clip562)\" style=\"stroke:#000000; stroke-width:2; stroke-opacity:0.1; fill:none\" points=\"\n",
       "  2290.84,1486.45 2290.84,47.2441 \n",
       "  \"/>\n",
       "<polyline clip-path=\"url(#clip562)\" style=\"stroke:#000000; stroke-width:2; stroke-opacity:0.1; fill:none\" points=\"\n",
       "  164.885,1445.72 2352.76,1445.72 \n",
       "  \"/>\n",
       "<polyline clip-path=\"url(#clip562)\" style=\"stroke:#000000; stroke-width:2; stroke-opacity:0.1; fill:none\" points=\"\n",
       "  164.885,1106.28 2352.76,1106.28 \n",
       "  \"/>\n",
       "<polyline clip-path=\"url(#clip562)\" style=\"stroke:#000000; stroke-width:2; stroke-opacity:0.1; fill:none\" points=\"\n",
       "  164.885,766.846 2352.76,766.846 \n",
       "  \"/>\n",
       "<polyline clip-path=\"url(#clip562)\" style=\"stroke:#000000; stroke-width:2; stroke-opacity:0.1; fill:none\" points=\"\n",
       "  164.885,427.411 2352.76,427.411 \n",
       "  \"/>\n",
       "<polyline clip-path=\"url(#clip562)\" style=\"stroke:#000000; stroke-width:2; stroke-opacity:0.1; fill:none\" points=\"\n",
       "  164.885,87.9763 2352.76,87.9763 \n",
       "  \"/>\n",
       "<polyline clip-path=\"url(#clip560)\" style=\"stroke:#000000; stroke-width:4; stroke-opacity:1; fill:none\" points=\"\n",
       "  164.885,1486.45 2352.76,1486.45 \n",
       "  \"/>\n",
       "<polyline clip-path=\"url(#clip560)\" style=\"stroke:#000000; stroke-width:4; stroke-opacity:1; fill:none\" points=\"\n",
       "  164.885,1486.45 164.885,47.2441 \n",
       "  \"/>\n",
       "<polyline clip-path=\"url(#clip560)\" style=\"stroke:#000000; stroke-width:4; stroke-opacity:1; fill:none\" points=\"\n",
       "  226.806,1486.45 226.806,1469.18 \n",
       "  \"/>\n",
       "<polyline clip-path=\"url(#clip560)\" style=\"stroke:#000000; stroke-width:4; stroke-opacity:1; fill:none\" points=\"\n",
       "  742.813,1486.45 742.813,1469.18 \n",
       "  \"/>\n",
       "<polyline clip-path=\"url(#clip560)\" style=\"stroke:#000000; stroke-width:4; stroke-opacity:1; fill:none\" points=\"\n",
       "  1258.82,1486.45 1258.82,1469.18 \n",
       "  \"/>\n",
       "<polyline clip-path=\"url(#clip560)\" style=\"stroke:#000000; stroke-width:4; stroke-opacity:1; fill:none\" points=\"\n",
       "  1774.83,1486.45 1774.83,1469.18 \n",
       "  \"/>\n",
       "<polyline clip-path=\"url(#clip560)\" style=\"stroke:#000000; stroke-width:4; stroke-opacity:1; fill:none\" points=\"\n",
       "  2290.84,1486.45 2290.84,1469.18 \n",
       "  \"/>\n",
       "<polyline clip-path=\"url(#clip560)\" style=\"stroke:#000000; stroke-width:4; stroke-opacity:1; fill:none\" points=\"\n",
       "  164.885,1445.72 191.14,1445.72 \n",
       "  \"/>\n",
       "<polyline clip-path=\"url(#clip560)\" style=\"stroke:#000000; stroke-width:4; stroke-opacity:1; fill:none\" points=\"\n",
       "  164.885,1106.28 191.14,1106.28 \n",
       "  \"/>\n",
       "<polyline clip-path=\"url(#clip560)\" style=\"stroke:#000000; stroke-width:4; stroke-opacity:1; fill:none\" points=\"\n",
       "  164.885,766.846 191.14,766.846 \n",
       "  \"/>\n",
       "<polyline clip-path=\"url(#clip560)\" style=\"stroke:#000000; stroke-width:4; stroke-opacity:1; fill:none\" points=\"\n",
       "  164.885,427.411 191.14,427.411 \n",
       "  \"/>\n",
       "<polyline clip-path=\"url(#clip560)\" style=\"stroke:#000000; stroke-width:4; stroke-opacity:1; fill:none\" points=\"\n",
       "  164.885,87.9763 191.14,87.9763 \n",
       "  \"/>\n",
       "<path clip-path=\"url(#clip560)\" d=\"M 0 0 M198.704 1535.98 L206.343 1535.98 L206.343 1509.62 L198.033 1511.29 L198.033 1507.03 L206.297 1505.36 L210.973 1505.36 L210.973 1535.98 L218.612 1535.98 L218.612 1539.92 L198.704 1539.92 L198.704 1535.98 Z\" fill=\"#000000\" fill-rule=\"evenodd\" fill-opacity=\"1\" /><path clip-path=\"url(#clip560)\" d=\"M 0 0 M223.681 1534.04 L228.565 1534.04 L228.565 1539.92 L223.681 1539.92 L223.681 1534.04 Z\" fill=\"#000000\" fill-rule=\"evenodd\" fill-opacity=\"1\" /><path clip-path=\"url(#clip560)\" d=\"M 0 0 M243.635 1508.44 Q240.024 1508.44 238.195 1512 Q236.389 1515.55 236.389 1522.67 Q236.389 1529.78 238.195 1533.35 Q240.024 1536.89 243.635 1536.89 Q247.269 1536.89 249.074 1533.35 Q250.903 1529.78 250.903 1522.67 Q250.903 1515.55 249.074 1512 Q247.269 1508.44 243.635 1508.44 M243.635 1504.73 Q249.445 1504.73 252.5 1509.34 Q255.579 1513.92 255.579 1522.67 Q255.579 1531.4 252.5 1536.01 Q249.445 1540.59 243.635 1540.59 Q237.825 1540.59 234.746 1536.01 Q231.69 1531.4 231.69 1522.67 Q231.69 1513.92 234.746 1509.34 Q237.825 1504.73 243.635 1504.73 Z\" fill=\"#000000\" fill-rule=\"evenodd\" fill-opacity=\"1\" /><path clip-path=\"url(#clip560)\" d=\"M 0 0 M715.209 1535.98 L722.848 1535.98 L722.848 1509.62 L714.538 1511.29 L714.538 1507.03 L722.802 1505.36 L727.478 1505.36 L727.478 1535.98 L735.117 1535.98 L735.117 1539.92 L715.209 1539.92 L715.209 1535.98 Z\" fill=\"#000000\" fill-rule=\"evenodd\" fill-opacity=\"1\" /><path clip-path=\"url(#clip560)\" d=\"M 0 0 M740.186 1534.04 L745.07 1534.04 L745.07 1539.92 L740.186 1539.92 L740.186 1534.04 Z\" fill=\"#000000\" fill-rule=\"evenodd\" fill-opacity=\"1\" /><path clip-path=\"url(#clip560)\" d=\"M 0 0 M750.186 1505.36 L768.542 1505.36 L768.542 1509.3 L754.468 1509.3 L754.468 1517.77 Q755.487 1517.42 756.505 1517.26 Q757.524 1517.07 758.542 1517.07 Q764.329 1517.07 767.709 1520.24 Q771.089 1523.42 771.089 1528.83 Q771.089 1534.41 767.616 1537.51 Q764.144 1540.59 757.825 1540.59 Q755.649 1540.59 753.38 1540.22 Q751.135 1539.85 748.728 1539.11 L748.728 1534.41 Q750.811 1535.54 753.033 1536.1 Q755.255 1536.66 757.732 1536.66 Q761.737 1536.66 764.075 1534.55 Q766.413 1532.44 766.413 1528.83 Q766.413 1525.22 764.075 1523.11 Q761.737 1521.01 757.732 1521.01 Q755.857 1521.01 753.982 1521.42 Q752.13 1521.84 750.186 1522.72 L750.186 1505.36 Z\" fill=\"#000000\" fill-rule=\"evenodd\" fill-opacity=\"1\" /><path clip-path=\"url(#clip560)\" d=\"M 0 0 M1234.99 1535.98 L1251.31 1535.98 L1251.31 1539.92 L1229.36 1539.92 L1229.36 1535.98 Q1232.03 1533.23 1236.61 1528.6 Q1241.22 1523.95 1242.4 1522.61 Q1244.64 1520.08 1245.52 1518.35 Q1246.42 1516.59 1246.42 1514.9 Q1246.42 1512.14 1244.48 1510.41 Q1242.56 1508.67 1239.46 1508.67 Q1237.26 1508.67 1234.8 1509.43 Q1232.37 1510.2 1229.6 1511.75 L1229.6 1507.03 Q1232.42 1505.89 1234.87 1505.31 Q1237.33 1504.73 1239.36 1504.73 Q1244.73 1504.73 1247.93 1507.42 Q1251.12 1510.11 1251.12 1514.6 Q1251.12 1516.73 1250.31 1518.65 Q1249.53 1520.54 1247.42 1523.14 Q1246.84 1523.81 1243.74 1527.03 Q1240.64 1530.22 1234.99 1535.98 Z\" fill=\"#000000\" fill-rule=\"evenodd\" fill-opacity=\"1\" /><path clip-path=\"url(#clip560)\" d=\"M 0 0 M1256.38 1534.04 L1261.26 1534.04 L1261.26 1539.92 L1256.38 1539.92 L1256.38 1534.04 Z\" fill=\"#000000\" fill-rule=\"evenodd\" fill-opacity=\"1\" /><path clip-path=\"url(#clip560)\" d=\"M 0 0 M1276.33 1508.44 Q1272.72 1508.44 1270.89 1512 Q1269.09 1515.55 1269.09 1522.67 Q1269.09 1529.78 1270.89 1533.35 Q1272.72 1536.89 1276.33 1536.89 Q1279.97 1536.89 1281.77 1533.35 Q1283.6 1529.78 1283.6 1522.67 Q1283.6 1515.55 1281.77 1512 Q1279.97 1508.44 1276.33 1508.44 M1276.33 1504.73 Q1282.14 1504.73 1285.2 1509.34 Q1288.28 1513.92 1288.28 1522.67 Q1288.28 1531.4 1285.2 1536.01 Q1282.14 1540.59 1276.33 1540.59 Q1270.52 1540.59 1267.44 1536.01 Q1264.39 1531.4 1264.39 1522.67 Q1264.39 1513.92 1267.44 1509.34 Q1270.52 1504.73 1276.33 1504.73 Z\" fill=\"#000000\" fill-rule=\"evenodd\" fill-opacity=\"1\" /><path clip-path=\"url(#clip560)\" d=\"M 0 0 M1751.49 1535.98 L1767.81 1535.98 L1767.81 1539.92 L1745.87 1539.92 L1745.87 1535.98 Q1748.53 1533.23 1753.11 1528.6 Q1757.72 1523.95 1758.9 1522.61 Q1761.15 1520.08 1762.03 1518.35 Q1762.93 1516.59 1762.93 1514.9 Q1762.93 1512.14 1760.99 1510.41 Q1759.06 1508.67 1755.96 1508.67 Q1753.76 1508.67 1751.31 1509.43 Q1748.88 1510.2 1746.1 1511.75 L1746.1 1507.03 Q1748.93 1505.89 1751.38 1505.31 Q1753.83 1504.73 1755.87 1504.73 Q1761.24 1504.73 1764.43 1507.42 Q1767.63 1510.11 1767.63 1514.6 Q1767.63 1516.73 1766.82 1518.65 Q1766.03 1520.54 1763.93 1523.14 Q1763.35 1523.81 1760.24 1527.03 Q1757.14 1530.22 1751.49 1535.98 Z\" fill=\"#000000\" fill-rule=\"evenodd\" fill-opacity=\"1\" /><path clip-path=\"url(#clip560)\" d=\"M 0 0 M1772.88 1534.04 L1777.77 1534.04 L1777.77 1539.92 L1772.88 1539.92 L1772.88 1534.04 Z\" fill=\"#000000\" fill-rule=\"evenodd\" fill-opacity=\"1\" /><path clip-path=\"url(#clip560)\" d=\"M 0 0 M1782.88 1505.36 L1801.24 1505.36 L1801.24 1509.3 L1787.17 1509.3 L1787.17 1517.77 Q1788.18 1517.42 1789.2 1517.26 Q1790.22 1517.07 1791.24 1517.07 Q1797.03 1517.07 1800.41 1520.24 Q1803.79 1523.42 1803.79 1528.83 Q1803.79 1534.41 1800.31 1537.51 Q1796.84 1540.59 1790.52 1540.59 Q1788.35 1540.59 1786.08 1540.22 Q1783.83 1539.85 1781.42 1539.11 L1781.42 1534.41 Q1783.51 1535.54 1785.73 1536.1 Q1787.95 1536.66 1790.43 1536.66 Q1794.43 1536.66 1796.77 1534.55 Q1799.11 1532.44 1799.11 1528.83 Q1799.11 1525.22 1796.77 1523.11 Q1794.43 1521.01 1790.43 1521.01 Q1788.55 1521.01 1786.68 1521.42 Q1784.83 1521.84 1782.88 1522.72 L1782.88 1505.36 Z\" fill=\"#000000\" fill-rule=\"evenodd\" fill-opacity=\"1\" /><path clip-path=\"url(#clip560)\" d=\"M 0 0 M2276.6 1521.29 Q2279.96 1522 2281.83 1524.27 Q2283.73 1526.54 2283.73 1529.87 Q2283.73 1534.99 2280.21 1537.79 Q2276.69 1540.59 2270.21 1540.59 Q2268.03 1540.59 2265.72 1540.15 Q2263.43 1539.73 2260.97 1538.88 L2260.97 1534.36 Q2262.92 1535.5 2265.23 1536.08 Q2267.55 1536.66 2270.07 1536.66 Q2274.47 1536.66 2276.76 1534.92 Q2279.08 1533.18 2279.08 1529.87 Q2279.08 1526.82 2276.92 1525.11 Q2274.79 1523.37 2270.97 1523.37 L2266.95 1523.37 L2266.95 1519.53 L2271.16 1519.53 Q2274.61 1519.53 2276.44 1518.16 Q2278.27 1516.77 2278.27 1514.18 Q2278.27 1511.52 2276.37 1510.11 Q2274.49 1508.67 2270.97 1508.67 Q2269.05 1508.67 2266.85 1509.09 Q2264.65 1509.5 2262.02 1510.38 L2262.02 1506.22 Q2264.68 1505.48 2266.99 1505.11 Q2269.33 1504.73 2271.39 1504.73 Q2276.71 1504.73 2279.82 1507.17 Q2282.92 1509.57 2282.92 1513.69 Q2282.92 1516.56 2281.27 1518.55 Q2279.63 1520.52 2276.6 1521.29 Z\" fill=\"#000000\" fill-rule=\"evenodd\" fill-opacity=\"1\" /><path clip-path=\"url(#clip560)\" d=\"M 0 0 M2288.8 1534.04 L2293.68 1534.04 L2293.68 1539.92 L2288.8 1539.92 L2288.8 1534.04 Z\" fill=\"#000000\" fill-rule=\"evenodd\" fill-opacity=\"1\" /><path clip-path=\"url(#clip560)\" d=\"M 0 0 M2308.75 1508.44 Q2305.14 1508.44 2303.31 1512 Q2301.51 1515.55 2301.51 1522.67 Q2301.51 1529.78 2303.31 1533.35 Q2305.14 1536.89 2308.75 1536.89 Q2312.39 1536.89 2314.19 1533.35 Q2316.02 1529.78 2316.02 1522.67 Q2316.02 1515.55 2314.19 1512 Q2312.39 1508.44 2308.75 1508.44 M2308.75 1504.73 Q2314.56 1504.73 2317.62 1509.34 Q2320.7 1513.92 2320.7 1522.67 Q2320.7 1531.4 2317.62 1536.01 Q2314.56 1540.59 2308.75 1540.59 Q2302.94 1540.59 2299.86 1536.01 Q2296.81 1531.4 2296.81 1522.67 Q2296.81 1513.92 2299.86 1509.34 Q2302.94 1504.73 2308.75 1504.73 Z\" fill=\"#000000\" fill-rule=\"evenodd\" fill-opacity=\"1\" /><path clip-path=\"url(#clip560)\" d=\"M 0 0 M75.33 1443.85 Q72.1819 1443.85 70.33 1446.01 Q68.5014 1448.16 68.5014 1451.91 Q68.5014 1455.63 70.33 1457.81 Q72.1819 1459.96 75.33 1459.96 Q78.4782 1459.96 80.3068 1457.81 Q82.1587 1455.63 82.1587 1451.91 Q82.1587 1448.16 80.3068 1446.01 Q78.4782 1443.85 75.33 1443.85 M84.6124 1429.2 L84.6124 1433.46 Q82.8531 1432.63 81.0476 1432.19 Q79.2652 1431.75 77.5059 1431.75 Q72.8763 1431.75 70.4226 1434.87 Q67.9921 1438 67.6449 1444.32 Q69.0106 1442.3 71.0708 1441.24 Q73.131 1440.15 75.6078 1440.15 Q80.8161 1440.15 83.8253 1443.32 Q86.8577 1446.47 86.8577 1451.91 Q86.8577 1457.23 83.7096 1460.45 Q80.5615 1463.67 75.33 1463.67 Q69.3347 1463.67 66.1634 1459.08 Q62.9921 1454.48 62.9921 1445.75 Q62.9921 1437.56 66.881 1432.69 Q70.7699 1427.81 77.3208 1427.81 Q79.08 1427.81 80.8624 1428.16 Q82.6679 1428.51 84.6124 1429.2 Z\" fill=\"#000000\" fill-rule=\"evenodd\" fill-opacity=\"1\" /><path clip-path=\"url(#clip560)\" d=\"M 0 0 M101.927 1431.51 Q98.316 1431.51 96.4873 1435.08 Q94.6818 1438.62 94.6818 1445.75 Q94.6818 1452.86 96.4873 1456.42 Q98.316 1459.96 101.927 1459.96 Q105.561 1459.96 107.367 1456.42 Q109.196 1452.86 109.196 1445.75 Q109.196 1438.62 107.367 1435.08 Q105.561 1431.51 101.927 1431.51 M101.927 1427.81 Q107.737 1427.81 110.793 1432.42 Q113.871 1437 113.871 1445.75 Q113.871 1454.48 110.793 1459.08 Q107.737 1463.67 101.927 1463.67 Q96.1169 1463.67 93.0383 1459.08 Q89.9827 1454.48 89.9827 1445.75 Q89.9827 1437 93.0383 1432.42 Q96.1169 1427.81 101.927 1427.81 Z\" fill=\"#000000\" fill-rule=\"evenodd\" fill-opacity=\"1\" /><path clip-path=\"url(#clip560)\" d=\"M 0 0 M128.941 1431.51 Q125.33 1431.51 123.501 1435.08 Q121.696 1438.62 121.696 1445.75 Q121.696 1452.86 123.501 1456.42 Q125.33 1459.96 128.941 1459.96 Q132.575 1459.96 134.381 1456.42 Q136.209 1452.86 136.209 1445.75 Q136.209 1438.62 134.381 1435.08 Q132.575 1431.51 128.941 1431.51 M128.941 1427.81 Q134.751 1427.81 137.807 1432.42 Q140.885 1437 140.885 1445.75 Q140.885 1454.48 137.807 1459.08 Q134.751 1463.67 128.941 1463.67 Q123.131 1463.67 120.052 1459.08 Q116.996 1454.48 116.996 1445.75 Q116.996 1437 120.052 1432.42 Q123.131 1427.81 128.941 1427.81 Z\" fill=\"#000000\" fill-rule=\"evenodd\" fill-opacity=\"1\" /><path clip-path=\"url(#clip560)\" d=\"M 0 0 M76.3254 1104.42 Q73.1773 1104.42 71.3254 1106.57 Q69.4967 1108.72 69.4967 1112.47 Q69.4967 1116.2 71.3254 1118.38 Q73.1773 1120.53 76.3254 1120.53 Q79.4735 1120.53 81.3022 1118.38 Q83.1541 1116.2 83.1541 1112.47 Q83.1541 1108.72 81.3022 1106.57 Q79.4735 1104.42 76.3254 1104.42 M85.6077 1089.76 L85.6077 1094.02 Q83.8485 1093.19 82.0429 1092.75 Q80.2606 1092.31 78.5013 1092.31 Q73.8717 1092.31 71.418 1095.44 Q68.9875 1098.56 68.6402 1104.88 Q70.006 1102.87 72.0662 1101.8 Q74.1263 1100.71 76.6032 1100.71 Q81.8115 1100.71 84.8207 1103.89 Q87.8531 1107.03 87.8531 1112.47 Q87.8531 1117.8 84.705 1121.01 Q81.5568 1124.23 76.3254 1124.23 Q70.33 1124.23 67.1588 1119.65 Q63.9875 1115.04 63.9875 1106.32 Q63.9875 1098.12 67.8764 1093.26 Q71.7652 1088.38 78.3161 1088.38 Q80.0754 1088.38 81.8578 1088.72 Q83.6633 1089.07 85.6077 1089.76 Z\" fill=\"#000000\" fill-rule=\"evenodd\" fill-opacity=\"1\" /><path clip-path=\"url(#clip560)\" d=\"M 0 0 M92.9688 1089 L111.325 1089 L111.325 1092.94 L97.2512 1092.94 L97.2512 1101.41 Q98.2697 1101.06 99.2882 1100.9 Q100.307 1100.71 101.325 1100.71 Q107.112 1100.71 110.492 1103.89 Q113.871 1107.06 113.871 1112.47 Q113.871 1118.05 110.399 1121.15 Q106.927 1124.23 100.608 1124.23 Q98.4318 1124.23 96.1632 1123.86 Q93.9179 1123.49 91.5105 1122.75 L91.5105 1118.05 Q93.5938 1119.19 95.816 1119.74 Q98.0382 1120.3 100.515 1120.3 Q104.52 1120.3 106.858 1118.19 Q109.196 1116.08 109.196 1112.47 Q109.196 1108.86 106.858 1106.76 Q104.52 1104.65 100.515 1104.65 Q98.6401 1104.65 96.7651 1105.07 Q94.9133 1105.48 92.9688 1106.36 L92.9688 1089 Z\" fill=\"#000000\" fill-rule=\"evenodd\" fill-opacity=\"1\" /><path clip-path=\"url(#clip560)\" d=\"M 0 0 M128.941 1092.08 Q125.33 1092.08 123.501 1095.64 Q121.696 1099.19 121.696 1106.32 Q121.696 1113.42 123.501 1116.99 Q125.33 1120.53 128.941 1120.53 Q132.575 1120.53 134.381 1116.99 Q136.209 1113.42 136.209 1106.32 Q136.209 1099.19 134.381 1095.64 Q132.575 1092.08 128.941 1092.08 M128.941 1088.38 Q134.751 1088.38 137.807 1092.98 Q140.885 1097.57 140.885 1106.32 Q140.885 1115.04 137.807 1119.65 Q134.751 1124.23 128.941 1124.23 Q123.131 1124.23 120.052 1119.65 Q116.996 1115.04 116.996 1106.32 Q116.996 1097.57 120.052 1092.98 Q123.131 1088.38 128.941 1088.38 Z\" fill=\"#000000\" fill-rule=\"evenodd\" fill-opacity=\"1\" /><path clip-path=\"url(#clip560)\" d=\"M 0 0 M64.6356 749.566 L86.8577 749.566 L86.8577 751.557 L74.3115 784.126 L69.4273 784.126 L81.2328 753.501 L64.6356 753.501 L64.6356 749.566 Z\" fill=\"#000000\" fill-rule=\"evenodd\" fill-opacity=\"1\" /><path clip-path=\"url(#clip560)\" d=\"M 0 0 M101.927 752.645 Q98.316 752.645 96.4873 756.209 Q94.6818 759.751 94.6818 766.881 Q94.6818 773.987 96.4873 777.552 Q98.316 781.094 101.927 781.094 Q105.561 781.094 107.367 777.552 Q109.196 773.987 109.196 766.881 Q109.196 759.751 107.367 756.209 Q105.561 752.645 101.927 752.645 M101.927 748.941 Q107.737 748.941 110.793 753.547 Q113.871 758.131 113.871 766.881 Q113.871 775.608 110.793 780.214 Q107.737 784.797 101.927 784.797 Q96.1169 784.797 93.0383 780.214 Q89.9827 775.608 89.9827 766.881 Q89.9827 758.131 93.0383 753.547 Q96.1169 748.941 101.927 748.941 Z\" fill=\"#000000\" fill-rule=\"evenodd\" fill-opacity=\"1\" /><path clip-path=\"url(#clip560)\" d=\"M 0 0 M128.941 752.645 Q125.33 752.645 123.501 756.209 Q121.696 759.751 121.696 766.881 Q121.696 773.987 123.501 777.552 Q125.33 781.094 128.941 781.094 Q132.575 781.094 134.381 777.552 Q136.209 773.987 136.209 766.881 Q136.209 759.751 134.381 756.209 Q132.575 752.645 128.941 752.645 M128.941 748.941 Q134.751 748.941 137.807 753.547 Q140.885 758.131 140.885 766.881 Q140.885 775.608 137.807 780.214 Q134.751 784.797 128.941 784.797 Q123.131 784.797 120.052 780.214 Q116.996 775.608 116.996 766.881 Q116.996 758.131 120.052 753.547 Q123.131 748.941 128.941 748.941 Z\" fill=\"#000000\" fill-rule=\"evenodd\" fill-opacity=\"1\" /><path clip-path=\"url(#clip560)\" d=\"M 0 0 M65.631 410.131 L87.8531 410.131 L87.8531 412.122 L75.3069 444.691 L70.4226 444.691 L82.2281 414.066 L65.631 414.066 L65.631 410.131 Z\" fill=\"#000000\" fill-rule=\"evenodd\" fill-opacity=\"1\" /><path clip-path=\"url(#clip560)\" d=\"M 0 0 M92.9688 410.131 L111.325 410.131 L111.325 414.066 L97.2512 414.066 L97.2512 422.538 Q98.2697 422.191 99.2882 422.029 Q100.307 421.844 101.325 421.844 Q107.112 421.844 110.492 425.015 Q113.871 428.187 113.871 433.603 Q113.871 439.182 110.399 442.284 Q106.927 445.362 100.608 445.362 Q98.4318 445.362 96.1632 444.992 Q93.9179 444.622 91.5105 443.881 L91.5105 439.182 Q93.5938 440.316 95.816 440.872 Q98.0382 441.427 100.515 441.427 Q104.52 441.427 106.858 439.321 Q109.196 437.214 109.196 433.603 Q109.196 429.992 106.858 427.886 Q104.52 425.779 100.515 425.779 Q98.6401 425.779 96.7651 426.196 Q94.9133 426.613 92.9688 427.492 L92.9688 410.131 Z\" fill=\"#000000\" fill-rule=\"evenodd\" fill-opacity=\"1\" /><path clip-path=\"url(#clip560)\" d=\"M 0 0 M128.941 413.21 Q125.33 413.21 123.501 416.775 Q121.696 420.316 121.696 427.446 Q121.696 434.552 123.501 438.117 Q125.33 441.659 128.941 441.659 Q132.575 441.659 134.381 438.117 Q136.209 434.552 136.209 427.446 Q136.209 420.316 134.381 416.775 Q132.575 413.21 128.941 413.21 M128.941 409.506 Q134.751 409.506 137.807 414.113 Q140.885 418.696 140.885 427.446 Q140.885 436.173 137.807 440.779 Q134.751 445.362 128.941 445.362 Q123.131 445.362 120.052 440.779 Q116.996 436.173 116.996 427.446 Q116.996 418.696 120.052 414.113 Q123.131 409.506 128.941 409.506 Z\" fill=\"#000000\" fill-rule=\"evenodd\" fill-opacity=\"1\" /><path clip-path=\"url(#clip560)\" d=\"M 0 0 M75.006 88.8443 Q71.6726 88.8443 69.7513 90.6267 Q67.8532 92.4091 67.8532 95.5341 Q67.8532 98.6591 69.7513 100.441 Q71.6726 102.224 75.006 102.224 Q78.3393 102.224 80.2606 100.441 Q82.1818 98.6359 82.1818 95.5341 Q82.1818 92.4091 80.2606 90.6267 Q78.3624 88.8443 75.006 88.8443 M70.33 86.8536 Q67.3208 86.1129 65.631 84.0527 Q63.9643 81.9925 63.9643 79.0296 Q63.9643 74.8861 66.9041 72.4787 Q69.8671 70.0713 75.006 70.0713 Q80.168 70.0713 83.1078 72.4787 Q86.0476 74.8861 86.0476 79.0296 Q86.0476 81.9925 84.3578 84.0527 Q82.6911 86.1129 79.705 86.8536 Q83.0846 87.6406 84.9596 89.9323 Q86.8577 92.2239 86.8577 95.5341 Q86.8577 100.557 83.7791 103.242 Q80.7235 105.928 75.006 105.928 Q69.2884 105.928 66.2097 103.242 Q63.1542 100.557 63.1542 95.5341 Q63.1542 92.2239 65.0523 89.9323 Q66.9504 87.6406 70.33 86.8536 M68.6171 79.4694 Q68.6171 82.1545 70.2838 83.6592 Q71.9736 85.1638 75.006 85.1638 Q78.0152 85.1638 79.705 83.6592 Q81.418 82.1545 81.418 79.4694 Q81.418 76.7842 79.705 75.2796 Q78.0152 73.775 75.006 73.775 Q71.9736 73.775 70.2838 75.2796 Q68.6171 76.7842 68.6171 79.4694 Z\" fill=\"#000000\" fill-rule=\"evenodd\" fill-opacity=\"1\" /><path clip-path=\"url(#clip560)\" d=\"M 0 0 M101.927 73.775 Q98.316 73.775 96.4873 77.3398 Q94.6818 80.8814 94.6818 88.011 Q94.6818 95.1174 96.4873 98.6822 Q98.316 102.224 101.927 102.224 Q105.561 102.224 107.367 98.6822 Q109.196 95.1174 109.196 88.011 Q109.196 80.8814 107.367 77.3398 Q105.561 73.775 101.927 73.775 M101.927 70.0713 Q107.737 70.0713 110.793 74.6777 Q113.871 79.261 113.871 88.011 Q113.871 96.7378 110.793 101.344 Q107.737 105.928 101.927 105.928 Q96.1169 105.928 93.0383 101.344 Q89.9827 96.7378 89.9827 88.011 Q89.9827 79.261 93.0383 74.6777 Q96.1169 70.0713 101.927 70.0713 Z\" fill=\"#000000\" fill-rule=\"evenodd\" fill-opacity=\"1\" /><path clip-path=\"url(#clip560)\" d=\"M 0 0 M128.941 73.775 Q125.33 73.775 123.501 77.3398 Q121.696 80.8814 121.696 88.011 Q121.696 95.1174 123.501 98.6822 Q125.33 102.224 128.941 102.224 Q132.575 102.224 134.381 98.6822 Q136.209 95.1174 136.209 88.011 Q136.209 80.8814 134.381 77.3398 Q132.575 73.775 128.941 73.775 M128.941 70.0713 Q134.751 70.0713 137.807 74.6777 Q140.885 79.261 140.885 88.011 Q140.885 96.7378 137.807 101.344 Q134.751 105.928 128.941 105.928 Q123.131 105.928 120.052 101.344 Q116.996 96.7378 116.996 88.011 Q116.996 79.261 120.052 74.6777 Q123.131 70.0713 128.941 70.0713 Z\" fill=\"#000000\" fill-rule=\"evenodd\" fill-opacity=\"1\" /><polyline clip-path=\"url(#clip562)\" style=\"stroke:#009af9; stroke-width:4; stroke-opacity:1; fill:none\" points=\"\n",
       "  226.806,87.9763 246.963,101.236 433.343,223.838 545.35,297.517 640.05,359.812 742.921,427.482 837.758,489.867 939.435,556.751 1057.24,634.242 1161.92,703.107 \n",
       "  1253.73,763.496 1353.82,829.335 1454.5,895.566 1565.82,968.793 1671.74,1038.47 1781.87,1110.91 1874.57,1171.89 1987.75,1246.35 2094.15,1316.33 2264.6,1428.46 \n",
       "  2290.84,1445.72 \n",
       "  \"/>\n",
       "<path clip-path=\"url(#clip560)\" d=\"\n",
       "M1989.74 251.724 L2280.76 251.724 L2280.76 130.764 L1989.74 130.764  Z\n",
       "  \" fill=\"#ffffff\" fill-rule=\"evenodd\" fill-opacity=\"1\"/>\n",
       "<polyline clip-path=\"url(#clip560)\" style=\"stroke:#000000; stroke-width:4; stroke-opacity:1; fill:none\" points=\"\n",
       "  1989.74,251.724 2280.76,251.724 2280.76,130.764 1989.74,130.764 1989.74,251.724 \n",
       "  \"/>\n",
       "<polyline clip-path=\"url(#clip560)\" style=\"stroke:#009af9; stroke-width:4; stroke-opacity:1; fill:none\" points=\"\n",
       "  2013.74,191.244 2157.74,191.244 \n",
       "  \"/>\n",
       "<path clip-path=\"url(#clip560)\" d=\"M 0 0 M2195.58 210.931 Q2193.77 215.561 2192.06 216.973 Q2190.35 218.385 2187.48 218.385 L2184.08 218.385 L2184.08 214.82 L2186.58 214.82 Q2188.33 214.82 2189.31 213.987 Q2190.28 213.154 2191.46 210.052 L2192.22 208.107 L2181.74 182.598 L2186.25 182.598 L2194.35 202.876 L2202.46 182.598 L2206.97 182.598 L2195.58 210.931 Z\" fill=\"#000000\" fill-rule=\"evenodd\" fill-opacity=\"1\" /><path clip-path=\"url(#clip560)\" d=\"M 0 0 M2212.85 204.589 L2220.49 204.589 L2220.49 178.223 L2212.18 179.89 L2212.18 175.631 L2220.44 173.964 L2225.12 173.964 L2225.12 204.589 L2232.76 204.589 L2232.76 208.524 L2212.85 208.524 L2212.85 204.589 Z\" fill=\"#000000\" fill-rule=\"evenodd\" fill-opacity=\"1\" /></svg>\n"
      ]
     },
     "execution_count": 470,
     "metadata": {},
     "output_type": "execute_result"
    }
   ],
   "source": [
    "fx2(x)=-275* 2 -250*x + 75*x*2 + 1450\n",
    "plot(fx2,1,3)"
   ]
  },
  {
   "cell_type": "code",
   "execution_count": 472,
   "id": "7e22f061",
   "metadata": {},
   "outputs": [
    {
     "data": {
      "image/svg+xml": [
       "<?xml version=\"1.0\" encoding=\"utf-8\"?>\n",
       "<svg xmlns=\"http://www.w3.org/2000/svg\" xmlns:xlink=\"http://www.w3.org/1999/xlink\" width=\"600\" height=\"400\" viewBox=\"0 0 2400 1600\">\n",
       "<defs>\n",
       "  <clipPath id=\"clip640\">\n",
       "    <rect x=\"0\" y=\"0\" width=\"2400\" height=\"1600\"/>\n",
       "  </clipPath>\n",
       "</defs>\n",
       "<path clip-path=\"url(#clip640)\" d=\"\n",
       "M0 1600 L2400 1600 L2400 0 L0 0  Z\n",
       "  \" fill=\"#ffffff\" fill-rule=\"evenodd\" fill-opacity=\"1\"/>\n",
       "<defs>\n",
       "  <clipPath id=\"clip641\">\n",
       "    <rect x=\"480\" y=\"0\" width=\"1681\" height=\"1600\"/>\n",
       "  </clipPath>\n",
       "</defs>\n",
       "<path clip-path=\"url(#clip640)\" d=\"\n",
       "M166.205 1486.45 L2352.76 1486.45 L2352.76 47.2441 L166.205 47.2441  Z\n",
       "  \" fill=\"#ffffff\" fill-rule=\"evenodd\" fill-opacity=\"1\"/>\n",
       "<defs>\n",
       "  <clipPath id=\"clip642\">\n",
       "    <rect x=\"166\" y=\"47\" width=\"2188\" height=\"1440\"/>\n",
       "  </clipPath>\n",
       "</defs>\n",
       "<polyline clip-path=\"url(#clip642)\" style=\"stroke:#000000; stroke-width:2; stroke-opacity:0.1; fill:none\" points=\"\n",
       "  228.088,1486.45 228.088,47.2441 \n",
       "  \"/>\n",
       "<polyline clip-path=\"url(#clip642)\" style=\"stroke:#000000; stroke-width:2; stroke-opacity:0.1; fill:none\" points=\"\n",
       "  743.784,1486.45 743.784,47.2441 \n",
       "  \"/>\n",
       "<polyline clip-path=\"url(#clip642)\" style=\"stroke:#000000; stroke-width:2; stroke-opacity:0.1; fill:none\" points=\"\n",
       "  1259.48,1486.45 1259.48,47.2441 \n",
       "  \"/>\n",
       "<polyline clip-path=\"url(#clip642)\" style=\"stroke:#000000; stroke-width:2; stroke-opacity:0.1; fill:none\" points=\"\n",
       "  1775.18,1486.45 1775.18,47.2441 \n",
       "  \"/>\n",
       "<polyline clip-path=\"url(#clip642)\" style=\"stroke:#000000; stroke-width:2; stroke-opacity:0.1; fill:none\" points=\"\n",
       "  2290.87,1486.45 2290.87,47.2441 \n",
       "  \"/>\n",
       "<polyline clip-path=\"url(#clip642)\" style=\"stroke:#000000; stroke-width:2; stroke-opacity:0.1; fill:none\" points=\"\n",
       "  166.205,1445.72 2352.76,1445.72 \n",
       "  \"/>\n",
       "<polyline clip-path=\"url(#clip642)\" style=\"stroke:#000000; stroke-width:2; stroke-opacity:0.1; fill:none\" points=\"\n",
       "  166.205,1106.28 2352.76,1106.28 \n",
       "  \"/>\n",
       "<polyline clip-path=\"url(#clip642)\" style=\"stroke:#000000; stroke-width:2; stroke-opacity:0.1; fill:none\" points=\"\n",
       "  166.205,766.846 2352.76,766.846 \n",
       "  \"/>\n",
       "<polyline clip-path=\"url(#clip642)\" style=\"stroke:#000000; stroke-width:2; stroke-opacity:0.1; fill:none\" points=\"\n",
       "  166.205,427.411 2352.76,427.411 \n",
       "  \"/>\n",
       "<polyline clip-path=\"url(#clip642)\" style=\"stroke:#000000; stroke-width:2; stroke-opacity:0.1; fill:none\" points=\"\n",
       "  166.205,87.9763 2352.76,87.9763 \n",
       "  \"/>\n",
       "<polyline clip-path=\"url(#clip640)\" style=\"stroke:#000000; stroke-width:4; stroke-opacity:1; fill:none\" points=\"\n",
       "  166.205,1486.45 2352.76,1486.45 \n",
       "  \"/>\n",
       "<polyline clip-path=\"url(#clip640)\" style=\"stroke:#000000; stroke-width:4; stroke-opacity:1; fill:none\" points=\"\n",
       "  166.205,1486.45 166.205,47.2441 \n",
       "  \"/>\n",
       "<polyline clip-path=\"url(#clip640)\" style=\"stroke:#000000; stroke-width:4; stroke-opacity:1; fill:none\" points=\"\n",
       "  228.088,1486.45 228.088,1469.18 \n",
       "  \"/>\n",
       "<polyline clip-path=\"url(#clip640)\" style=\"stroke:#000000; stroke-width:4; stroke-opacity:1; fill:none\" points=\"\n",
       "  743.784,1486.45 743.784,1469.18 \n",
       "  \"/>\n",
       "<polyline clip-path=\"url(#clip640)\" style=\"stroke:#000000; stroke-width:4; stroke-opacity:1; fill:none\" points=\"\n",
       "  1259.48,1486.45 1259.48,1469.18 \n",
       "  \"/>\n",
       "<polyline clip-path=\"url(#clip640)\" style=\"stroke:#000000; stroke-width:4; stroke-opacity:1; fill:none\" points=\"\n",
       "  1775.18,1486.45 1775.18,1469.18 \n",
       "  \"/>\n",
       "<polyline clip-path=\"url(#clip640)\" style=\"stroke:#000000; stroke-width:4; stroke-opacity:1; fill:none\" points=\"\n",
       "  2290.87,1486.45 2290.87,1469.18 \n",
       "  \"/>\n",
       "<polyline clip-path=\"url(#clip640)\" style=\"stroke:#000000; stroke-width:4; stroke-opacity:1; fill:none\" points=\"\n",
       "  166.205,1445.72 192.443,1445.72 \n",
       "  \"/>\n",
       "<polyline clip-path=\"url(#clip640)\" style=\"stroke:#000000; stroke-width:4; stroke-opacity:1; fill:none\" points=\"\n",
       "  166.205,1106.28 192.443,1106.28 \n",
       "  \"/>\n",
       "<polyline clip-path=\"url(#clip640)\" style=\"stroke:#000000; stroke-width:4; stroke-opacity:1; fill:none\" points=\"\n",
       "  166.205,766.846 192.443,766.846 \n",
       "  \"/>\n",
       "<polyline clip-path=\"url(#clip640)\" style=\"stroke:#000000; stroke-width:4; stroke-opacity:1; fill:none\" points=\"\n",
       "  166.205,427.411 192.443,427.411 \n",
       "  \"/>\n",
       "<polyline clip-path=\"url(#clip640)\" style=\"stroke:#000000; stroke-width:4; stroke-opacity:1; fill:none\" points=\"\n",
       "  166.205,87.9763 192.443,87.9763 \n",
       "  \"/>\n",
       "<path clip-path=\"url(#clip640)\" d=\"M 0 0 M199.986 1535.98 L207.625 1535.98 L207.625 1509.62 L199.315 1511.29 L199.315 1507.03 L207.579 1505.36 L212.255 1505.36 L212.255 1535.98 L219.894 1535.98 L219.894 1539.92 L199.986 1539.92 L199.986 1535.98 Z\" fill=\"#000000\" fill-rule=\"evenodd\" fill-opacity=\"1\" /><path clip-path=\"url(#clip640)\" d=\"M 0 0 M224.963 1534.04 L229.847 1534.04 L229.847 1539.92 L224.963 1539.92 L224.963 1534.04 Z\" fill=\"#000000\" fill-rule=\"evenodd\" fill-opacity=\"1\" /><path clip-path=\"url(#clip640)\" d=\"M 0 0 M244.917 1508.44 Q241.306 1508.44 239.477 1512 Q237.671 1515.55 237.671 1522.67 Q237.671 1529.78 239.477 1533.35 Q241.306 1536.89 244.917 1536.89 Q248.551 1536.89 250.357 1533.35 Q252.185 1529.78 252.185 1522.67 Q252.185 1515.55 250.357 1512 Q248.551 1508.44 244.917 1508.44 M244.917 1504.73 Q250.727 1504.73 253.782 1509.34 Q256.861 1513.92 256.861 1522.67 Q256.861 1531.4 253.782 1536.01 Q250.727 1540.59 244.917 1540.59 Q239.107 1540.59 236.028 1536.01 Q232.972 1531.4 232.972 1522.67 Q232.972 1513.92 236.028 1509.34 Q239.107 1504.73 244.917 1504.73 Z\" fill=\"#000000\" fill-rule=\"evenodd\" fill-opacity=\"1\" /><path clip-path=\"url(#clip640)\" d=\"M 0 0 M716.18 1535.98 L723.819 1535.98 L723.819 1509.62 L715.509 1511.29 L715.509 1507.03 L723.773 1505.36 L728.449 1505.36 L728.449 1535.98 L736.088 1535.98 L736.088 1539.92 L716.18 1539.92 L716.18 1535.98 Z\" fill=\"#000000\" fill-rule=\"evenodd\" fill-opacity=\"1\" /><path clip-path=\"url(#clip640)\" d=\"M 0 0 M741.157 1534.04 L746.041 1534.04 L746.041 1539.92 L741.157 1539.92 L741.157 1534.04 Z\" fill=\"#000000\" fill-rule=\"evenodd\" fill-opacity=\"1\" /><path clip-path=\"url(#clip640)\" d=\"M 0 0 M751.157 1505.36 L769.513 1505.36 L769.513 1509.3 L755.439 1509.3 L755.439 1517.77 Q756.458 1517.42 757.476 1517.26 Q758.495 1517.07 759.513 1517.07 Q765.3 1517.07 768.68 1520.24 Q772.06 1523.42 772.06 1528.83 Q772.06 1534.41 768.587 1537.51 Q765.115 1540.59 758.796 1540.59 Q756.62 1540.59 754.351 1540.22 Q752.106 1539.85 749.699 1539.11 L749.699 1534.41 Q751.782 1535.54 754.004 1536.1 Q756.226 1536.66 758.703 1536.66 Q762.708 1536.66 765.046 1534.55 Q767.384 1532.44 767.384 1528.83 Q767.384 1525.22 765.046 1523.11 Q762.708 1521.01 758.703 1521.01 Q756.828 1521.01 754.953 1521.42 Q753.101 1521.84 751.157 1522.72 L751.157 1505.36 Z\" fill=\"#000000\" fill-rule=\"evenodd\" fill-opacity=\"1\" /><path clip-path=\"url(#clip640)\" d=\"M 0 0 M1235.65 1535.98 L1251.97 1535.98 L1251.97 1539.92 L1230.02 1539.92 L1230.02 1535.98 Q1232.69 1533.23 1237.27 1528.6 Q1241.88 1523.95 1243.06 1522.61 Q1245.3 1520.08 1246.18 1518.35 Q1247.08 1516.59 1247.08 1514.9 Q1247.08 1512.14 1245.14 1510.41 Q1243.22 1508.67 1240.12 1508.67 Q1237.92 1508.67 1235.46 1509.43 Q1233.03 1510.2 1230.26 1511.75 L1230.26 1507.03 Q1233.08 1505.89 1235.53 1505.31 Q1237.99 1504.73 1240.02 1504.73 Q1245.39 1504.73 1248.59 1507.42 Q1251.78 1510.11 1251.78 1514.6 Q1251.78 1516.73 1250.97 1518.65 Q1250.19 1520.54 1248.08 1523.14 Q1247.5 1523.81 1244.4 1527.03 Q1241.3 1530.22 1235.65 1535.98 Z\" fill=\"#000000\" fill-rule=\"evenodd\" fill-opacity=\"1\" /><path clip-path=\"url(#clip640)\" d=\"M 0 0 M1257.04 1534.04 L1261.92 1534.04 L1261.92 1539.92 L1257.04 1539.92 L1257.04 1534.04 Z\" fill=\"#000000\" fill-rule=\"evenodd\" fill-opacity=\"1\" /><path clip-path=\"url(#clip640)\" d=\"M 0 0 M1276.99 1508.44 Q1273.38 1508.44 1271.55 1512 Q1269.75 1515.55 1269.75 1522.67 Q1269.75 1529.78 1271.55 1533.35 Q1273.38 1536.89 1276.99 1536.89 Q1280.63 1536.89 1282.43 1533.35 Q1284.26 1529.78 1284.26 1522.67 Q1284.26 1515.55 1282.43 1512 Q1280.63 1508.44 1276.99 1508.44 M1276.99 1504.73 Q1282.8 1504.73 1285.86 1509.34 Q1288.94 1513.92 1288.94 1522.67 Q1288.94 1531.4 1285.86 1536.01 Q1282.8 1540.59 1276.99 1540.59 Q1271.18 1540.59 1268.1 1536.01 Q1265.05 1531.4 1265.05 1522.67 Q1265.05 1513.92 1268.1 1509.34 Q1271.18 1504.73 1276.99 1504.73 Z\" fill=\"#000000\" fill-rule=\"evenodd\" fill-opacity=\"1\" /><path clip-path=\"url(#clip640)\" d=\"M 0 0 M1751.84 1535.98 L1768.16 1535.98 L1768.16 1539.92 L1746.22 1539.92 L1746.22 1535.98 Q1748.88 1533.23 1753.46 1528.6 Q1758.07 1523.95 1759.25 1522.61 Q1761.5 1520.08 1762.38 1518.35 Q1763.28 1516.59 1763.28 1514.9 Q1763.28 1512.14 1761.33 1510.41 Q1759.41 1508.67 1756.31 1508.67 Q1754.11 1508.67 1751.66 1509.43 Q1749.23 1510.2 1746.45 1511.75 L1746.45 1507.03 Q1749.27 1505.89 1751.73 1505.31 Q1754.18 1504.73 1756.22 1504.73 Q1761.59 1504.73 1764.78 1507.42 Q1767.98 1510.11 1767.98 1514.6 Q1767.98 1516.73 1767.17 1518.65 Q1766.38 1520.54 1764.27 1523.14 Q1763.69 1523.81 1760.59 1527.03 Q1757.49 1530.22 1751.84 1535.98 Z\" fill=\"#000000\" fill-rule=\"evenodd\" fill-opacity=\"1\" /><path clip-path=\"url(#clip640)\" d=\"M 0 0 M1773.23 1534.04 L1778.12 1534.04 L1778.12 1539.92 L1773.23 1539.92 L1773.23 1534.04 Z\" fill=\"#000000\" fill-rule=\"evenodd\" fill-opacity=\"1\" /><path clip-path=\"url(#clip640)\" d=\"M 0 0 M1783.23 1505.36 L1801.59 1505.36 L1801.59 1509.3 L1787.51 1509.3 L1787.51 1517.77 Q1788.53 1517.42 1789.55 1517.26 Q1790.57 1517.07 1791.59 1517.07 Q1797.38 1517.07 1800.75 1520.24 Q1804.13 1523.42 1804.13 1528.83 Q1804.13 1534.41 1800.66 1537.51 Q1797.19 1540.59 1790.87 1540.59 Q1788.69 1540.59 1786.43 1540.22 Q1784.18 1539.85 1781.77 1539.11 L1781.77 1534.41 Q1783.86 1535.54 1786.08 1536.1 Q1788.3 1536.66 1790.78 1536.66 Q1794.78 1536.66 1797.12 1534.55 Q1799.46 1532.44 1799.46 1528.83 Q1799.46 1525.22 1797.12 1523.11 Q1794.78 1521.01 1790.78 1521.01 Q1788.9 1521.01 1787.03 1521.42 Q1785.18 1521.84 1783.23 1522.72 L1783.23 1505.36 Z\" fill=\"#000000\" fill-rule=\"evenodd\" fill-opacity=\"1\" /><path clip-path=\"url(#clip640)\" d=\"M 0 0 M2276.64 1521.29 Q2279.99 1522 2281.87 1524.27 Q2283.77 1526.54 2283.77 1529.87 Q2283.77 1534.99 2280.25 1537.79 Q2276.73 1540.59 2270.25 1540.59 Q2268.07 1540.59 2265.76 1540.15 Q2263.47 1539.73 2261.01 1538.88 L2261.01 1534.36 Q2262.96 1535.5 2265.27 1536.08 Q2267.59 1536.66 2270.11 1536.66 Q2274.51 1536.66 2276.8 1534.92 Q2279.11 1533.18 2279.11 1529.87 Q2279.11 1526.82 2276.96 1525.11 Q2274.83 1523.37 2271.01 1523.37 L2266.98 1523.37 L2266.98 1519.53 L2271.2 1519.53 Q2274.65 1519.53 2276.47 1518.16 Q2278.3 1516.77 2278.3 1514.18 Q2278.3 1511.52 2276.4 1510.11 Q2274.53 1508.67 2271.01 1508.67 Q2269.09 1508.67 2266.89 1509.09 Q2264.69 1509.5 2262.05 1510.38 L2262.05 1506.22 Q2264.72 1505.48 2267.03 1505.11 Q2269.37 1504.73 2271.43 1504.73 Q2276.75 1504.73 2279.85 1507.17 Q2282.96 1509.57 2282.96 1513.69 Q2282.96 1516.56 2281.31 1518.55 Q2279.67 1520.52 2276.64 1521.29 Z\" fill=\"#000000\" fill-rule=\"evenodd\" fill-opacity=\"1\" /><path clip-path=\"url(#clip640)\" d=\"M 0 0 M2288.84 1534.04 L2293.72 1534.04 L2293.72 1539.92 L2288.84 1539.92 L2288.84 1534.04 Z\" fill=\"#000000\" fill-rule=\"evenodd\" fill-opacity=\"1\" /><path clip-path=\"url(#clip640)\" d=\"M 0 0 M2308.79 1508.44 Q2305.18 1508.44 2303.35 1512 Q2301.54 1515.55 2301.54 1522.67 Q2301.54 1529.78 2303.35 1533.35 Q2305.18 1536.89 2308.79 1536.89 Q2312.42 1536.89 2314.23 1533.35 Q2316.06 1529.78 2316.06 1522.67 Q2316.06 1515.55 2314.23 1512 Q2312.42 1508.44 2308.79 1508.44 M2308.79 1504.73 Q2314.6 1504.73 2317.65 1509.34 Q2320.73 1513.92 2320.73 1522.67 Q2320.73 1531.4 2317.65 1536.01 Q2314.6 1540.59 2308.79 1540.59 Q2302.98 1540.59 2299.9 1536.01 Q2296.84 1531.4 2296.84 1522.67 Q2296.84 1513.92 2299.9 1509.34 Q2302.98 1504.73 2308.79 1504.73 Z\" fill=\"#000000\" fill-rule=\"evenodd\" fill-opacity=\"1\" /><path clip-path=\"url(#clip640)\" d=\"M 0 0 M78.5939 1432.51 L66.7884 1450.96 L78.5939 1450.96 L78.5939 1432.51 M77.367 1428.44 L83.2466 1428.44 L83.2466 1450.96 L88.1772 1450.96 L88.1772 1454.85 L83.2466 1454.85 L83.2466 1463 L78.5939 1463 L78.5939 1454.85 L62.9921 1454.85 L62.9921 1450.33 L77.367 1428.44 Z\" fill=\"#000000\" fill-rule=\"evenodd\" fill-opacity=\"1\" /><path clip-path=\"url(#clip640)\" d=\"M 0 0 M103.247 1431.51 Q99.6354 1431.51 97.8068 1435.08 Q96.0012 1438.62 96.0012 1445.75 Q96.0012 1452.86 97.8068 1456.42 Q99.6354 1459.96 103.247 1459.96 Q106.881 1459.96 108.686 1456.42 Q110.515 1452.86 110.515 1445.75 Q110.515 1438.62 108.686 1435.08 Q106.881 1431.51 103.247 1431.51 M103.247 1427.81 Q109.057 1427.81 112.112 1432.42 Q115.191 1437 115.191 1445.75 Q115.191 1454.48 112.112 1459.08 Q109.057 1463.67 103.247 1463.67 Q97.4364 1463.67 94.3577 1459.08 Q91.3022 1454.48 91.3022 1445.75 Q91.3022 1437 94.3577 1432.42 Q97.4364 1427.81 103.247 1427.81 Z\" fill=\"#000000\" fill-rule=\"evenodd\" fill-opacity=\"1\" /><path clip-path=\"url(#clip640)\" d=\"M 0 0 M130.26 1431.51 Q126.649 1431.51 124.82 1435.08 Q123.015 1438.62 123.015 1445.75 Q123.015 1452.86 124.82 1456.42 Q126.649 1459.96 130.26 1459.96 Q133.895 1459.96 135.7 1456.42 Q137.529 1452.86 137.529 1445.75 Q137.529 1438.62 135.7 1435.08 Q133.895 1431.51 130.26 1431.51 M130.26 1427.81 Q136.07 1427.81 139.126 1432.42 Q142.205 1437 142.205 1445.75 Q142.205 1454.48 139.126 1459.08 Q136.07 1463.67 130.26 1463.67 Q124.45 1463.67 121.371 1459.08 Q118.316 1454.48 118.316 1445.75 Q118.316 1437 121.371 1432.42 Q124.45 1427.81 130.26 1427.81 Z\" fill=\"#000000\" fill-rule=\"evenodd\" fill-opacity=\"1\" /><path clip-path=\"url(#clip640)\" d=\"M 0 0 M81.1865 1093.07 L69.381 1111.52 L81.1865 1111.52 L81.1865 1093.07 M79.9596 1089 L85.8392 1089 L85.8392 1111.52 L90.7698 1111.52 L90.7698 1115.41 L85.8392 1115.41 L85.8392 1123.56 L81.1865 1123.56 L81.1865 1115.41 L65.5847 1115.41 L65.5847 1110.9 L79.9596 1089 Z\" fill=\"#000000\" fill-rule=\"evenodd\" fill-opacity=\"1\" /><path clip-path=\"url(#clip640)\" d=\"M 0 0 M99.8669 1119.63 L116.186 1119.63 L116.186 1123.56 L94.242 1123.56 L94.242 1119.63 Q96.904 1116.87 101.487 1112.24 Q106.094 1107.59 107.274 1106.25 Q109.52 1103.72 110.399 1101.99 Q111.302 1100.23 111.302 1098.54 Q111.302 1095.78 109.358 1094.05 Q107.436 1092.31 104.334 1092.31 Q102.135 1092.31 99.6817 1093.07 Q97.2512 1093.84 94.4734 1095.39 L94.4734 1090.67 Q97.2975 1089.53 99.7512 1088.95 Q102.205 1088.38 104.242 1088.38 Q109.612 1088.38 112.807 1091.06 Q116.001 1093.75 116.001 1098.24 Q116.001 1100.37 115.191 1102.29 Q114.404 1104.19 112.297 1106.78 Q111.719 1107.45 108.617 1110.67 Q105.515 1113.86 99.8669 1119.63 Z\" fill=\"#000000\" fill-rule=\"evenodd\" fill-opacity=\"1\" /><path clip-path=\"url(#clip640)\" d=\"M 0 0 M121.302 1089 L139.658 1089 L139.658 1092.94 L125.584 1092.94 L125.584 1101.41 Q126.603 1101.06 127.621 1100.9 Q128.64 1100.71 129.658 1100.71 Q135.445 1100.71 138.825 1103.89 Q142.205 1107.06 142.205 1112.47 Q142.205 1118.05 138.732 1121.15 Q135.26 1124.23 128.941 1124.23 Q126.765 1124.23 124.496 1123.86 Q122.251 1123.49 119.844 1122.75 L119.844 1118.05 Q121.927 1119.19 124.149 1119.74 Q126.371 1120.3 128.848 1120.3 Q132.853 1120.3 135.191 1118.19 Q137.529 1116.08 137.529 1112.47 Q137.529 1108.86 135.191 1106.76 Q132.853 1104.65 128.848 1104.65 Q126.973 1104.65 125.098 1105.07 Q123.246 1105.48 121.302 1106.36 L121.302 1089 Z\" fill=\"#000000\" fill-rule=\"evenodd\" fill-opacity=\"1\" /><path clip-path=\"url(#clip640)\" d=\"M 0 0 M79.5893 753.64 L67.7838 772.089 L79.5893 772.089 L79.5893 753.64 M78.3624 749.566 L84.242 749.566 L84.242 772.089 L89.1725 772.089 L89.1725 775.978 L84.242 775.978 L84.242 784.126 L79.5893 784.126 L79.5893 775.978 L63.9875 775.978 L63.9875 771.464 L78.3624 749.566 Z\" fill=\"#000000\" fill-rule=\"evenodd\" fill-opacity=\"1\" /><path clip-path=\"url(#clip640)\" d=\"M 0 0 M94.2883 749.566 L112.645 749.566 L112.645 753.501 L98.5706 753.501 L98.5706 761.973 Q99.5892 761.626 100.608 761.464 Q101.626 761.279 102.645 761.279 Q108.432 761.279 111.811 764.45 Q115.191 767.621 115.191 773.038 Q115.191 778.617 111.719 781.719 Q108.247 784.797 101.927 784.797 Q99.7512 784.797 97.4827 784.427 Q95.2373 784.057 92.8299 783.316 L92.8299 778.617 Q94.9133 779.751 97.1355 780.307 Q99.3577 780.862 101.835 780.862 Q105.839 780.862 108.177 778.756 Q110.515 776.649 110.515 773.038 Q110.515 769.427 108.177 767.321 Q105.839 765.214 101.835 765.214 Q99.9595 765.214 98.0845 765.631 Q96.2327 766.047 94.2883 766.927 L94.2883 749.566 Z\" fill=\"#000000\" fill-rule=\"evenodd\" fill-opacity=\"1\" /><path clip-path=\"url(#clip640)\" d=\"M 0 0 M130.26 752.645 Q126.649 752.645 124.82 756.209 Q123.015 759.751 123.015 766.881 Q123.015 773.987 124.82 777.552 Q126.649 781.094 130.26 781.094 Q133.895 781.094 135.7 777.552 Q137.529 773.987 137.529 766.881 Q137.529 759.751 135.7 756.209 Q133.895 752.645 130.26 752.645 M130.26 748.941 Q136.07 748.941 139.126 753.547 Q142.205 758.131 142.205 766.881 Q142.205 775.608 139.126 780.214 Q136.07 784.797 130.26 784.797 Q124.45 784.797 121.371 780.214 Q118.316 775.608 118.316 766.881 Q118.316 758.131 121.371 753.547 Q124.45 748.941 130.26 748.941 Z\" fill=\"#000000\" fill-rule=\"evenodd\" fill-opacity=\"1\" /><path clip-path=\"url(#clip640)\" d=\"M 0 0 M80.492 414.205 L68.6865 432.654 L80.492 432.654 L80.492 414.205 M79.2652 410.131 L85.1448 410.131 L85.1448 432.654 L90.0753 432.654 L90.0753 436.543 L85.1448 436.543 L85.1448 444.691 L80.492 444.691 L80.492 436.543 L64.8903 436.543 L64.8903 432.029 L79.2652 410.131 Z\" fill=\"#000000\" fill-rule=\"evenodd\" fill-opacity=\"1\" /><path clip-path=\"url(#clip640)\" d=\"M 0 0 M93.9642 410.131 L116.186 410.131 L116.186 412.122 L103.64 444.691 L98.7558 444.691 L110.561 414.066 L93.9642 414.066 L93.9642 410.131 Z\" fill=\"#000000\" fill-rule=\"evenodd\" fill-opacity=\"1\" /><path clip-path=\"url(#clip640)\" d=\"M 0 0 M121.302 410.131 L139.658 410.131 L139.658 414.066 L125.584 414.066 L125.584 422.538 Q126.603 422.191 127.621 422.029 Q128.64 421.844 129.658 421.844 Q135.445 421.844 138.825 425.015 Q142.205 428.187 142.205 433.603 Q142.205 439.182 138.732 442.284 Q135.26 445.362 128.941 445.362 Q126.765 445.362 124.496 444.992 Q122.251 444.622 119.844 443.881 L119.844 439.182 Q121.927 440.316 124.149 440.872 Q126.371 441.427 128.848 441.427 Q132.853 441.427 135.191 439.321 Q137.529 437.214 137.529 433.603 Q137.529 429.992 135.191 427.886 Q132.853 425.779 128.848 425.779 Q126.973 425.779 125.098 426.196 Q123.246 426.613 121.302 427.492 L121.302 410.131 Z\" fill=\"#000000\" fill-rule=\"evenodd\" fill-opacity=\"1\" /><path clip-path=\"url(#clip640)\" d=\"M 0 0 M67.2745 70.6963 L85.6309 70.6963 L85.6309 74.6314 L71.5569 74.6314 L71.5569 83.1036 Q72.5754 82.7564 73.5939 82.5944 Q74.6124 82.4092 75.6309 82.4092 Q81.418 82.4092 84.7976 85.5805 Q88.1772 88.7517 88.1772 94.1684 Q88.1772 99.747 84.705 102.849 Q81.2328 105.928 74.9134 105.928 Q72.7374 105.928 70.4689 105.557 Q68.2236 105.187 65.8162 104.446 L65.8162 99.747 Q67.8995 100.881 70.1217 101.437 Q72.3439 101.992 74.8208 101.992 Q78.8254 101.992 81.1633 99.8859 Q83.5013 97.7795 83.5013 94.1684 Q83.5013 90.5573 81.1633 88.4508 Q78.8254 86.3443 74.8208 86.3443 Q72.9458 86.3443 71.0708 86.761 Q69.2189 87.1777 67.2745 88.0573 L67.2745 70.6963 Z\" fill=\"#000000\" fill-rule=\"evenodd\" fill-opacity=\"1\" /><path clip-path=\"url(#clip640)\" d=\"M 0 0 M103.247 73.775 Q99.6354 73.775 97.8068 77.3398 Q96.0012 80.8814 96.0012 88.011 Q96.0012 95.1174 97.8068 98.6822 Q99.6354 102.224 103.247 102.224 Q106.881 102.224 108.686 98.6822 Q110.515 95.1174 110.515 88.011 Q110.515 80.8814 108.686 77.3398 Q106.881 73.775 103.247 73.775 M103.247 70.0713 Q109.057 70.0713 112.112 74.6777 Q115.191 79.261 115.191 88.011 Q115.191 96.7378 112.112 101.344 Q109.057 105.928 103.247 105.928 Q97.4364 105.928 94.3577 101.344 Q91.3022 96.7378 91.3022 88.011 Q91.3022 79.261 94.3577 74.6777 Q97.4364 70.0713 103.247 70.0713 Z\" fill=\"#000000\" fill-rule=\"evenodd\" fill-opacity=\"1\" /><path clip-path=\"url(#clip640)\" d=\"M 0 0 M130.26 73.775 Q126.649 73.775 124.82 77.3398 Q123.015 80.8814 123.015 88.011 Q123.015 95.1174 124.82 98.6822 Q126.649 102.224 130.26 102.224 Q133.895 102.224 135.7 98.6822 Q137.529 95.1174 137.529 88.011 Q137.529 80.8814 135.7 77.3398 Q133.895 73.775 130.26 73.775 M130.26 70.0713 Q136.07 70.0713 139.126 74.6777 Q142.205 79.261 142.205 88.011 Q142.205 96.7378 139.126 101.344 Q136.07 105.928 130.26 105.928 Q124.45 105.928 121.371 101.344 Q118.316 96.7378 118.316 88.011 Q118.316 79.261 121.371 74.6777 Q124.45 70.0713 130.26 70.0713 Z\" fill=\"#000000\" fill-rule=\"evenodd\" fill-opacity=\"1\" /><polyline clip-path=\"url(#clip642)\" style=\"stroke:#009af9; stroke-width:4; stroke-opacity:1; fill:none\" points=\"\n",
       "  228.088,1445.72 248.233,1432.46 434.501,1309.85 546.44,1236.17 641.083,1173.88 743.891,1106.21 838.672,1043.82 940.287,976.941 1058.02,899.45 1162.64,830.585 \n",
       "  1254.39,770.196 1354.42,704.357 1455.04,638.126 1566.29,564.899 1672.15,495.226 1782.21,422.781 1874.86,361.799 1987.97,287.346 2094.31,217.358 2264.66,105.232 \n",
       "  2290.87,87.9763 \n",
       "  \"/>\n",
       "<path clip-path=\"url(#clip640)\" d=\"\n",
       "M1989.74 251.724 L2280.76 251.724 L2280.76 130.764 L1989.74 130.764  Z\n",
       "  \" fill=\"#ffffff\" fill-rule=\"evenodd\" fill-opacity=\"1\"/>\n",
       "<polyline clip-path=\"url(#clip640)\" style=\"stroke:#000000; stroke-width:4; stroke-opacity:1; fill:none\" points=\"\n",
       "  1989.74,251.724 2280.76,251.724 2280.76,130.764 1989.74,130.764 1989.74,251.724 \n",
       "  \"/>\n",
       "<polyline clip-path=\"url(#clip640)\" style=\"stroke:#009af9; stroke-width:4; stroke-opacity:1; fill:none\" points=\"\n",
       "  2013.74,191.244 2157.74,191.244 \n",
       "  \"/>\n",
       "<path clip-path=\"url(#clip640)\" d=\"M 0 0 M2195.58 210.931 Q2193.77 215.561 2192.06 216.973 Q2190.35 218.385 2187.48 218.385 L2184.08 218.385 L2184.08 214.82 L2186.58 214.82 Q2188.33 214.82 2189.31 213.987 Q2190.28 213.154 2191.46 210.052 L2192.22 208.107 L2181.74 182.598 L2186.25 182.598 L2194.35 202.876 L2202.46 182.598 L2206.97 182.598 L2195.58 210.931 Z\" fill=\"#000000\" fill-rule=\"evenodd\" fill-opacity=\"1\" /><path clip-path=\"url(#clip640)\" d=\"M 0 0 M2212.85 204.589 L2220.49 204.589 L2220.49 178.223 L2212.18 179.89 L2212.18 175.631 L2220.44 173.964 L2225.12 173.964 L2225.12 204.589 L2232.76 204.589 L2232.76 208.524 L2212.85 208.524 L2212.85 204.589 Z\" fill=\"#000000\" fill-rule=\"evenodd\" fill-opacity=\"1\" /></svg>\n"
      ]
     },
     "execution_count": 472,
     "metadata": {},
     "output_type": "execute_result"
    }
   ],
   "source": [
    "fx4(x)=-275* 4 -250*x + 75*x*4 + 1450\n",
    "plot(fx4,1,3)"
   ]
  },
  {
   "cell_type": "code",
   "execution_count": 475,
   "id": "7ade2d92",
   "metadata": {},
   "outputs": [
    {
     "data": {
      "image/svg+xml": [
       "<?xml version=\"1.0\" encoding=\"utf-8\"?>\n",
       "<svg xmlns=\"http://www.w3.org/2000/svg\" xmlns:xlink=\"http://www.w3.org/1999/xlink\" width=\"600\" height=\"400\" viewBox=\"0 0 2400 1600\">\n",
       "<defs>\n",
       "  <clipPath id=\"clip720\">\n",
       "    <rect x=\"0\" y=\"0\" width=\"2400\" height=\"1600\"/>\n",
       "  </clipPath>\n",
       "</defs>\n",
       "<path clip-path=\"url(#clip720)\" d=\"\n",
       "M0 1600 L2400 1600 L2400 0 L0 0  Z\n",
       "  \" fill=\"#ffffff\" fill-rule=\"evenodd\" fill-opacity=\"1\"/>\n",
       "<defs>\n",
       "  <clipPath id=\"clip721\">\n",
       "    <rect x=\"480\" y=\"0\" width=\"1681\" height=\"1600\"/>\n",
       "  </clipPath>\n",
       "</defs>\n",
       "<path clip-path=\"url(#clip720)\" d=\"\n",
       "M166.205 1486.45 L2352.76 1486.45 L2352.76 47.2441 L166.205 47.2441  Z\n",
       "  \" fill=\"#ffffff\" fill-rule=\"evenodd\" fill-opacity=\"1\"/>\n",
       "<defs>\n",
       "  <clipPath id=\"clip722\">\n",
       "    <rect x=\"166\" y=\"47\" width=\"2188\" height=\"1440\"/>\n",
       "  </clipPath>\n",
       "</defs>\n",
       "<polyline clip-path=\"url(#clip722)\" style=\"stroke:#000000; stroke-width:2; stroke-opacity:0.1; fill:none\" points=\"\n",
       "  228.088,1486.45 228.088,47.2441 \n",
       "  \"/>\n",
       "<polyline clip-path=\"url(#clip722)\" style=\"stroke:#000000; stroke-width:2; stroke-opacity:0.1; fill:none\" points=\"\n",
       "  743.784,1486.45 743.784,47.2441 \n",
       "  \"/>\n",
       "<polyline clip-path=\"url(#clip722)\" style=\"stroke:#000000; stroke-width:2; stroke-opacity:0.1; fill:none\" points=\"\n",
       "  1259.48,1486.45 1259.48,47.2441 \n",
       "  \"/>\n",
       "<polyline clip-path=\"url(#clip722)\" style=\"stroke:#000000; stroke-width:2; stroke-opacity:0.1; fill:none\" points=\"\n",
       "  1775.18,1486.45 1775.18,47.2441 \n",
       "  \"/>\n",
       "<polyline clip-path=\"url(#clip722)\" style=\"stroke:#000000; stroke-width:2; stroke-opacity:0.1; fill:none\" points=\"\n",
       "  2290.87,1486.45 2290.87,47.2441 \n",
       "  \"/>\n",
       "<polyline clip-path=\"url(#clip722)\" style=\"stroke:#000000; stroke-width:2; stroke-opacity:0.1; fill:none\" points=\"\n",
       "  166.205,1445.72 2352.76,1445.72 \n",
       "  \"/>\n",
       "<polyline clip-path=\"url(#clip722)\" style=\"stroke:#000000; stroke-width:2; stroke-opacity:0.1; fill:none\" points=\"\n",
       "  166.205,1106.28 2352.76,1106.28 \n",
       "  \"/>\n",
       "<polyline clip-path=\"url(#clip722)\" style=\"stroke:#000000; stroke-width:2; stroke-opacity:0.1; fill:none\" points=\"\n",
       "  166.205,766.846 2352.76,766.846 \n",
       "  \"/>\n",
       "<polyline clip-path=\"url(#clip722)\" style=\"stroke:#000000; stroke-width:2; stroke-opacity:0.1; fill:none\" points=\"\n",
       "  166.205,427.411 2352.76,427.411 \n",
       "  \"/>\n",
       "<polyline clip-path=\"url(#clip722)\" style=\"stroke:#000000; stroke-width:2; stroke-opacity:0.1; fill:none\" points=\"\n",
       "  166.205,87.9763 2352.76,87.9763 \n",
       "  \"/>\n",
       "<polyline clip-path=\"url(#clip720)\" style=\"stroke:#000000; stroke-width:4; stroke-opacity:1; fill:none\" points=\"\n",
       "  166.205,1486.45 2352.76,1486.45 \n",
       "  \"/>\n",
       "<polyline clip-path=\"url(#clip720)\" style=\"stroke:#000000; stroke-width:4; stroke-opacity:1; fill:none\" points=\"\n",
       "  166.205,1486.45 166.205,47.2441 \n",
       "  \"/>\n",
       "<polyline clip-path=\"url(#clip720)\" style=\"stroke:#000000; stroke-width:4; stroke-opacity:1; fill:none\" points=\"\n",
       "  228.088,1486.45 228.088,1469.18 \n",
       "  \"/>\n",
       "<polyline clip-path=\"url(#clip720)\" style=\"stroke:#000000; stroke-width:4; stroke-opacity:1; fill:none\" points=\"\n",
       "  743.784,1486.45 743.784,1469.18 \n",
       "  \"/>\n",
       "<polyline clip-path=\"url(#clip720)\" style=\"stroke:#000000; stroke-width:4; stroke-opacity:1; fill:none\" points=\"\n",
       "  1259.48,1486.45 1259.48,1469.18 \n",
       "  \"/>\n",
       "<polyline clip-path=\"url(#clip720)\" style=\"stroke:#000000; stroke-width:4; stroke-opacity:1; fill:none\" points=\"\n",
       "  1775.18,1486.45 1775.18,1469.18 \n",
       "  \"/>\n",
       "<polyline clip-path=\"url(#clip720)\" style=\"stroke:#000000; stroke-width:4; stroke-opacity:1; fill:none\" points=\"\n",
       "  2290.87,1486.45 2290.87,1469.18 \n",
       "  \"/>\n",
       "<polyline clip-path=\"url(#clip720)\" style=\"stroke:#000000; stroke-width:4; stroke-opacity:1; fill:none\" points=\"\n",
       "  166.205,1445.72 192.443,1445.72 \n",
       "  \"/>\n",
       "<polyline clip-path=\"url(#clip720)\" style=\"stroke:#000000; stroke-width:4; stroke-opacity:1; fill:none\" points=\"\n",
       "  166.205,1106.28 192.443,1106.28 \n",
       "  \"/>\n",
       "<polyline clip-path=\"url(#clip720)\" style=\"stroke:#000000; stroke-width:4; stroke-opacity:1; fill:none\" points=\"\n",
       "  166.205,766.846 192.443,766.846 \n",
       "  \"/>\n",
       "<polyline clip-path=\"url(#clip720)\" style=\"stroke:#000000; stroke-width:4; stroke-opacity:1; fill:none\" points=\"\n",
       "  166.205,427.411 192.443,427.411 \n",
       "  \"/>\n",
       "<polyline clip-path=\"url(#clip720)\" style=\"stroke:#000000; stroke-width:4; stroke-opacity:1; fill:none\" points=\"\n",
       "  166.205,87.9763 192.443,87.9763 \n",
       "  \"/>\n",
       "<path clip-path=\"url(#clip720)\" d=\"M 0 0 M204.257 1535.98 L220.577 1535.98 L220.577 1539.92 L198.632 1539.92 L198.632 1535.98 Q201.294 1533.23 205.878 1528.6 Q210.484 1523.95 211.665 1522.61 Q213.91 1520.08 214.79 1518.35 Q215.692 1516.59 215.692 1514.9 Q215.692 1512.14 213.748 1510.41 Q211.827 1508.67 208.725 1508.67 Q206.526 1508.67 204.072 1509.43 Q201.642 1510.2 198.864 1511.75 L198.864 1507.03 Q201.688 1505.89 204.142 1505.31 Q206.595 1504.73 208.632 1504.73 Q214.003 1504.73 217.197 1507.42 Q220.391 1510.11 220.391 1514.6 Q220.391 1516.73 219.581 1518.65 Q218.794 1520.54 216.688 1523.14 Q216.109 1523.81 213.007 1527.03 Q209.905 1530.22 204.257 1535.98 Z\" fill=\"#000000\" fill-rule=\"evenodd\" fill-opacity=\"1\" /><path clip-path=\"url(#clip720)\" d=\"M 0 0 M225.646 1534.04 L230.53 1534.04 L230.53 1539.92 L225.646 1539.92 L225.646 1534.04 Z\" fill=\"#000000\" fill-rule=\"evenodd\" fill-opacity=\"1\" /><path clip-path=\"url(#clip720)\" d=\"M 0 0 M245.6 1508.44 Q241.989 1508.44 240.16 1512 Q238.354 1515.55 238.354 1522.67 Q238.354 1529.78 240.16 1533.35 Q241.989 1536.89 245.6 1536.89 Q249.234 1536.89 251.039 1533.35 Q252.868 1529.78 252.868 1522.67 Q252.868 1515.55 251.039 1512 Q249.234 1508.44 245.6 1508.44 M245.6 1504.73 Q251.41 1504.73 254.465 1509.34 Q257.544 1513.92 257.544 1522.67 Q257.544 1531.4 254.465 1536.01 Q251.41 1540.59 245.6 1540.59 Q239.79 1540.59 236.711 1536.01 Q233.655 1531.4 233.655 1522.67 Q233.655 1513.92 236.711 1509.34 Q239.79 1504.73 245.6 1504.73 Z\" fill=\"#000000\" fill-rule=\"evenodd\" fill-opacity=\"1\" /><path clip-path=\"url(#clip720)\" d=\"M 0 0 M720.451 1535.98 L736.77 1535.98 L736.77 1539.92 L714.826 1539.92 L714.826 1535.98 Q717.488 1533.23 722.071 1528.6 Q726.678 1523.95 727.858 1522.61 Q730.104 1520.08 730.983 1518.35 Q731.886 1516.59 731.886 1514.9 Q731.886 1512.14 729.942 1510.41 Q728.02 1508.67 724.919 1508.67 Q722.72 1508.67 720.266 1509.43 Q717.835 1510.2 715.058 1511.75 L715.058 1507.03 Q717.882 1505.89 720.335 1505.31 Q722.789 1504.73 724.826 1504.73 Q730.196 1504.73 733.391 1507.42 Q736.585 1510.11 736.585 1514.6 Q736.585 1516.73 735.775 1518.65 Q734.988 1520.54 732.882 1523.14 Q732.303 1523.81 729.201 1527.03 Q726.099 1530.22 720.451 1535.98 Z\" fill=\"#000000\" fill-rule=\"evenodd\" fill-opacity=\"1\" /><path clip-path=\"url(#clip720)\" d=\"M 0 0 M741.84 1534.04 L746.724 1534.04 L746.724 1539.92 L741.84 1539.92 L741.84 1534.04 Z\" fill=\"#000000\" fill-rule=\"evenodd\" fill-opacity=\"1\" /><path clip-path=\"url(#clip720)\" d=\"M 0 0 M751.84 1505.36 L770.196 1505.36 L770.196 1509.3 L756.122 1509.3 L756.122 1517.77 Q757.141 1517.42 758.159 1517.26 Q759.178 1517.07 760.196 1517.07 Q765.983 1517.07 769.363 1520.24 Q772.742 1523.42 772.742 1528.83 Q772.742 1534.41 769.27 1537.51 Q765.798 1540.59 759.479 1540.59 Q757.303 1540.59 755.034 1540.22 Q752.789 1539.85 750.381 1539.11 L750.381 1534.41 Q752.465 1535.54 754.687 1536.1 Q756.909 1536.66 759.386 1536.66 Q763.391 1536.66 765.729 1534.55 Q768.067 1532.44 768.067 1528.83 Q768.067 1525.22 765.729 1523.11 Q763.391 1521.01 759.386 1521.01 Q757.511 1521.01 755.636 1521.42 Q753.784 1521.84 751.84 1522.72 L751.84 1505.36 Z\" fill=\"#000000\" fill-rule=\"evenodd\" fill-opacity=\"1\" /><path clip-path=\"url(#clip720)\" d=\"M 0 0 M1245.24 1521.29 Q1248.6 1522 1250.48 1524.27 Q1252.37 1526.54 1252.37 1529.87 Q1252.37 1534.99 1248.86 1537.79 Q1245.34 1540.59 1238.86 1540.59 Q1236.68 1540.59 1234.36 1540.15 Q1232.07 1539.73 1229.62 1538.88 L1229.62 1534.36 Q1231.56 1535.5 1233.88 1536.08 Q1236.19 1536.66 1238.72 1536.66 Q1243.11 1536.66 1245.41 1534.92 Q1247.72 1533.18 1247.72 1529.87 Q1247.72 1526.82 1245.57 1525.11 Q1243.44 1523.37 1239.62 1523.37 L1235.59 1523.37 L1235.59 1519.53 L1239.8 1519.53 Q1243.25 1519.53 1245.08 1518.16 Q1246.91 1516.77 1246.91 1514.18 Q1246.91 1511.52 1245.01 1510.11 Q1243.14 1508.67 1239.62 1508.67 Q1237.7 1508.67 1235.5 1509.09 Q1233.3 1509.5 1230.66 1510.38 L1230.66 1506.22 Q1233.32 1505.48 1235.64 1505.11 Q1237.98 1504.73 1240.04 1504.73 Q1245.36 1504.73 1248.46 1507.17 Q1251.56 1509.57 1251.56 1513.69 Q1251.56 1516.56 1249.92 1518.55 Q1248.28 1520.52 1245.24 1521.29 Z\" fill=\"#000000\" fill-rule=\"evenodd\" fill-opacity=\"1\" /><path clip-path=\"url(#clip720)\" d=\"M 0 0 M1257.44 1534.04 L1262.33 1534.04 L1262.33 1539.92 L1257.44 1539.92 L1257.44 1534.04 Z\" fill=\"#000000\" fill-rule=\"evenodd\" fill-opacity=\"1\" /><path clip-path=\"url(#clip720)\" d=\"M 0 0 M1277.4 1508.44 Q1273.79 1508.44 1271.96 1512 Q1270.15 1515.55 1270.15 1522.67 Q1270.15 1529.78 1271.96 1533.35 Q1273.79 1536.89 1277.4 1536.89 Q1281.03 1536.89 1282.84 1533.35 Q1284.67 1529.78 1284.67 1522.67 Q1284.67 1515.55 1282.84 1512 Q1281.03 1508.44 1277.4 1508.44 M1277.4 1504.73 Q1283.21 1504.73 1286.26 1509.34 Q1289.34 1513.92 1289.34 1522.67 Q1289.34 1531.4 1286.26 1536.01 Q1283.21 1540.59 1277.4 1540.59 Q1271.59 1540.59 1268.51 1536.01 Q1265.45 1531.4 1265.45 1522.67 Q1265.45 1513.92 1268.51 1509.34 Q1271.59 1504.73 1277.4 1504.73 Z\" fill=\"#000000\" fill-rule=\"evenodd\" fill-opacity=\"1\" /><path clip-path=\"url(#clip720)\" d=\"M 0 0 M1761.44 1521.29 Q1764.79 1522 1766.67 1524.27 Q1768.57 1526.54 1768.57 1529.87 Q1768.57 1534.99 1765.05 1537.79 Q1761.53 1540.59 1755.05 1540.59 Q1752.87 1540.59 1750.56 1540.15 Q1748.27 1539.73 1745.81 1538.88 L1745.81 1534.36 Q1747.76 1535.5 1750.07 1536.08 Q1752.39 1536.66 1754.91 1536.66 Q1759.31 1536.66 1761.6 1534.92 Q1763.91 1533.18 1763.91 1529.87 Q1763.91 1526.82 1761.76 1525.11 Q1759.63 1523.37 1755.81 1523.37 L1751.79 1523.37 L1751.79 1519.53 L1756 1519.53 Q1759.45 1519.53 1761.28 1518.16 Q1763.1 1516.77 1763.1 1514.18 Q1763.1 1511.52 1761.21 1510.11 Q1759.33 1508.67 1755.81 1508.67 Q1753.89 1508.67 1751.69 1509.09 Q1749.49 1509.5 1746.85 1510.38 L1746.85 1506.22 Q1749.52 1505.48 1751.83 1505.11 Q1754.17 1504.73 1756.23 1504.73 Q1761.55 1504.73 1764.66 1507.17 Q1767.76 1509.57 1767.76 1513.69 Q1767.76 1516.56 1766.11 1518.55 Q1764.47 1520.52 1761.44 1521.29 Z\" fill=\"#000000\" fill-rule=\"evenodd\" fill-opacity=\"1\" /><path clip-path=\"url(#clip720)\" d=\"M 0 0 M1773.64 1534.04 L1778.52 1534.04 L1778.52 1539.92 L1773.64 1539.92 L1773.64 1534.04 Z\" fill=\"#000000\" fill-rule=\"evenodd\" fill-opacity=\"1\" /><path clip-path=\"url(#clip720)\" d=\"M 0 0 M1783.64 1505.36 L1801.99 1505.36 L1801.99 1509.3 L1787.92 1509.3 L1787.92 1517.77 Q1788.94 1517.42 1789.96 1517.26 Q1790.97 1517.07 1791.99 1517.07 Q1797.78 1517.07 1801.16 1520.24 Q1804.54 1523.42 1804.54 1528.83 Q1804.54 1534.41 1801.07 1537.51 Q1797.6 1540.59 1791.28 1540.59 Q1789.1 1540.59 1786.83 1540.22 Q1784.59 1539.85 1782.18 1539.11 L1782.18 1534.41 Q1784.26 1535.54 1786.48 1536.1 Q1788.71 1536.66 1791.18 1536.66 Q1795.19 1536.66 1797.53 1534.55 Q1799.86 1532.44 1799.86 1528.83 Q1799.86 1525.22 1797.53 1523.11 Q1795.19 1521.01 1791.18 1521.01 Q1789.31 1521.01 1787.43 1521.42 Q1785.58 1521.84 1783.64 1522.72 L1783.64 1505.36 Z\" fill=\"#000000\" fill-rule=\"evenodd\" fill-opacity=\"1\" /><path clip-path=\"url(#clip720)\" d=\"M 0 0 M2275.4 1509.43 L2263.59 1527.88 L2275.4 1527.88 L2275.4 1509.43 M2274.17 1505.36 L2280.05 1505.36 L2280.05 1527.88 L2284.98 1527.88 L2284.98 1531.77 L2280.05 1531.77 L2280.05 1539.92 L2275.4 1539.92 L2275.4 1531.77 L2259.8 1531.77 L2259.8 1527.26 L2274.17 1505.36 Z\" fill=\"#000000\" fill-rule=\"evenodd\" fill-opacity=\"1\" /><path clip-path=\"url(#clip720)\" d=\"M 0 0 M2290.05 1534.04 L2294.93 1534.04 L2294.93 1539.92 L2290.05 1539.92 L2290.05 1534.04 Z\" fill=\"#000000\" fill-rule=\"evenodd\" fill-opacity=\"1\" /><path clip-path=\"url(#clip720)\" d=\"M 0 0 M2310 1508.44 Q2306.39 1508.44 2304.56 1512 Q2302.76 1515.55 2302.76 1522.67 Q2302.76 1529.78 2304.56 1533.35 Q2306.39 1536.89 2310 1536.89 Q2313.64 1536.89 2315.44 1533.35 Q2317.27 1529.78 2317.27 1522.67 Q2317.27 1515.55 2315.44 1512 Q2313.64 1508.44 2310 1508.44 M2310 1504.73 Q2315.81 1504.73 2318.87 1509.34 Q2321.95 1513.92 2321.95 1522.67 Q2321.95 1531.4 2318.87 1536.01 Q2315.81 1540.59 2310 1540.59 Q2304.19 1540.59 2301.12 1536.01 Q2298.06 1531.4 2298.06 1522.67 Q2298.06 1513.92 2301.12 1509.34 Q2304.19 1504.73 2310 1504.73 Z\" fill=\"#000000\" fill-rule=\"evenodd\" fill-opacity=\"1\" /><path clip-path=\"url(#clip720)\" d=\"M 0 0 M78.5939 1432.51 L66.7884 1450.96 L78.5939 1450.96 L78.5939 1432.51 M77.367 1428.44 L83.2466 1428.44 L83.2466 1450.96 L88.1772 1450.96 L88.1772 1454.85 L83.2466 1454.85 L83.2466 1463 L78.5939 1463 L78.5939 1454.85 L62.9921 1454.85 L62.9921 1450.33 L77.367 1428.44 Z\" fill=\"#000000\" fill-rule=\"evenodd\" fill-opacity=\"1\" /><path clip-path=\"url(#clip720)\" d=\"M 0 0 M103.247 1431.51 Q99.6354 1431.51 97.8068 1435.08 Q96.0012 1438.62 96.0012 1445.75 Q96.0012 1452.86 97.8068 1456.42 Q99.6354 1459.96 103.247 1459.96 Q106.881 1459.96 108.686 1456.42 Q110.515 1452.86 110.515 1445.75 Q110.515 1438.62 108.686 1435.08 Q106.881 1431.51 103.247 1431.51 M103.247 1427.81 Q109.057 1427.81 112.112 1432.42 Q115.191 1437 115.191 1445.75 Q115.191 1454.48 112.112 1459.08 Q109.057 1463.67 103.247 1463.67 Q97.4364 1463.67 94.3577 1459.08 Q91.3022 1454.48 91.3022 1445.75 Q91.3022 1437 94.3577 1432.42 Q97.4364 1427.81 103.247 1427.81 Z\" fill=\"#000000\" fill-rule=\"evenodd\" fill-opacity=\"1\" /><path clip-path=\"url(#clip720)\" d=\"M 0 0 M130.26 1431.51 Q126.649 1431.51 124.82 1435.08 Q123.015 1438.62 123.015 1445.75 Q123.015 1452.86 124.82 1456.42 Q126.649 1459.96 130.26 1459.96 Q133.895 1459.96 135.7 1456.42 Q137.529 1452.86 137.529 1445.75 Q137.529 1438.62 135.7 1435.08 Q133.895 1431.51 130.26 1431.51 M130.26 1427.81 Q136.07 1427.81 139.126 1432.42 Q142.205 1437 142.205 1445.75 Q142.205 1454.48 139.126 1459.08 Q136.07 1463.67 130.26 1463.67 Q124.45 1463.67 121.371 1459.08 Q118.316 1454.48 118.316 1445.75 Q118.316 1437 121.371 1432.42 Q124.45 1427.81 130.26 1427.81 Z\" fill=\"#000000\" fill-rule=\"evenodd\" fill-opacity=\"1\" /><path clip-path=\"url(#clip720)\" d=\"M 0 0 M67.2745 1089 L85.6309 1089 L85.6309 1092.94 L71.5569 1092.94 L71.5569 1101.41 Q72.5754 1101.06 73.5939 1100.9 Q74.6124 1100.71 75.6309 1100.71 Q81.418 1100.71 84.7976 1103.89 Q88.1772 1107.06 88.1772 1112.47 Q88.1772 1118.05 84.705 1121.15 Q81.2328 1124.23 74.9134 1124.23 Q72.7374 1124.23 70.4689 1123.86 Q68.2236 1123.49 65.8162 1122.75 L65.8162 1118.05 Q67.8995 1119.19 70.1217 1119.74 Q72.3439 1120.3 74.8208 1120.3 Q78.8254 1120.3 81.1633 1118.19 Q83.5013 1116.08 83.5013 1112.47 Q83.5013 1108.86 81.1633 1106.76 Q78.8254 1104.65 74.8208 1104.65 Q72.9458 1104.65 71.0708 1105.07 Q69.2189 1105.48 67.2745 1106.36 L67.2745 1089 Z\" fill=\"#000000\" fill-rule=\"evenodd\" fill-opacity=\"1\" /><path clip-path=\"url(#clip720)\" d=\"M 0 0 M103.247 1092.08 Q99.6354 1092.08 97.8068 1095.64 Q96.0012 1099.19 96.0012 1106.32 Q96.0012 1113.42 97.8068 1116.99 Q99.6354 1120.53 103.247 1120.53 Q106.881 1120.53 108.686 1116.99 Q110.515 1113.42 110.515 1106.32 Q110.515 1099.19 108.686 1095.64 Q106.881 1092.08 103.247 1092.08 M103.247 1088.38 Q109.057 1088.38 112.112 1092.98 Q115.191 1097.57 115.191 1106.32 Q115.191 1115.04 112.112 1119.65 Q109.057 1124.23 103.247 1124.23 Q97.4364 1124.23 94.3577 1119.65 Q91.3022 1115.04 91.3022 1106.32 Q91.3022 1097.57 94.3577 1092.98 Q97.4364 1088.38 103.247 1088.38 Z\" fill=\"#000000\" fill-rule=\"evenodd\" fill-opacity=\"1\" /><path clip-path=\"url(#clip720)\" d=\"M 0 0 M130.26 1092.08 Q126.649 1092.08 124.82 1095.64 Q123.015 1099.19 123.015 1106.32 Q123.015 1113.42 124.82 1116.99 Q126.649 1120.53 130.26 1120.53 Q133.895 1120.53 135.7 1116.99 Q137.529 1113.42 137.529 1106.32 Q137.529 1099.19 135.7 1095.64 Q133.895 1092.08 130.26 1092.08 M130.26 1088.38 Q136.07 1088.38 139.126 1092.98 Q142.205 1097.57 142.205 1106.32 Q142.205 1115.04 139.126 1119.65 Q136.07 1124.23 130.26 1124.23 Q124.45 1124.23 121.371 1119.65 Q118.316 1115.04 118.316 1106.32 Q118.316 1097.57 121.371 1092.98 Q124.45 1088.38 130.26 1088.38 Z\" fill=\"#000000\" fill-rule=\"evenodd\" fill-opacity=\"1\" /><path clip-path=\"url(#clip720)\" d=\"M 0 0 M76.6495 764.983 Q73.5013 764.983 71.6495 767.135 Q69.8208 769.288 69.8208 773.038 Q69.8208 776.765 71.6495 778.941 Q73.5013 781.094 76.6495 781.094 Q79.7976 781.094 81.6263 778.941 Q83.4781 776.765 83.4781 773.038 Q83.4781 769.288 81.6263 767.135 Q79.7976 764.983 76.6495 764.983 M85.9318 750.33 L85.9318 754.589 Q84.1726 753.756 82.367 753.316 Q80.5846 752.876 78.8254 752.876 Q74.1958 752.876 71.7421 756.001 Q69.3115 759.126 68.9643 765.446 Q70.33 763.432 72.3902 762.367 Q74.4504 761.279 76.9272 761.279 Q82.1355 761.279 85.1448 764.45 Q88.1772 767.598 88.1772 773.038 Q88.1772 778.362 85.029 781.58 Q81.8809 784.797 76.6495 784.797 Q70.6541 784.797 67.4828 780.214 Q64.3116 775.608 64.3116 766.881 Q64.3116 758.686 68.2004 753.825 Q72.0893 748.941 78.6402 748.941 Q80.3994 748.941 82.1818 749.288 Q83.9874 749.635 85.9318 750.33 Z\" fill=\"#000000\" fill-rule=\"evenodd\" fill-opacity=\"1\" /><path clip-path=\"url(#clip720)\" d=\"M 0 0 M103.247 752.645 Q99.6354 752.645 97.8068 756.209 Q96.0012 759.751 96.0012 766.881 Q96.0012 773.987 97.8068 777.552 Q99.6354 781.094 103.247 781.094 Q106.881 781.094 108.686 777.552 Q110.515 773.987 110.515 766.881 Q110.515 759.751 108.686 756.209 Q106.881 752.645 103.247 752.645 M103.247 748.941 Q109.057 748.941 112.112 753.547 Q115.191 758.131 115.191 766.881 Q115.191 775.608 112.112 780.214 Q109.057 784.797 103.247 784.797 Q97.4364 784.797 94.3577 780.214 Q91.3022 775.608 91.3022 766.881 Q91.3022 758.131 94.3577 753.547 Q97.4364 748.941 103.247 748.941 Z\" fill=\"#000000\" fill-rule=\"evenodd\" fill-opacity=\"1\" /><path clip-path=\"url(#clip720)\" d=\"M 0 0 M130.26 752.645 Q126.649 752.645 124.82 756.209 Q123.015 759.751 123.015 766.881 Q123.015 773.987 124.82 777.552 Q126.649 781.094 130.26 781.094 Q133.895 781.094 135.7 777.552 Q137.529 773.987 137.529 766.881 Q137.529 759.751 135.7 756.209 Q133.895 752.645 130.26 752.645 M130.26 748.941 Q136.07 748.941 139.126 753.547 Q142.205 758.131 142.205 766.881 Q142.205 775.608 139.126 780.214 Q136.07 784.797 130.26 784.797 Q124.45 784.797 121.371 780.214 Q118.316 775.608 118.316 766.881 Q118.316 758.131 121.371 753.547 Q124.45 748.941 130.26 748.941 Z\" fill=\"#000000\" fill-rule=\"evenodd\" fill-opacity=\"1\" /><path clip-path=\"url(#clip720)\" d=\"M 0 0 M65.9551 410.131 L88.1772 410.131 L88.1772 412.122 L75.6309 444.691 L70.7467 444.691 L82.5522 414.066 L65.9551 414.066 L65.9551 410.131 Z\" fill=\"#000000\" fill-rule=\"evenodd\" fill-opacity=\"1\" /><path clip-path=\"url(#clip720)\" d=\"M 0 0 M103.247 413.21 Q99.6354 413.21 97.8068 416.775 Q96.0012 420.316 96.0012 427.446 Q96.0012 434.552 97.8068 438.117 Q99.6354 441.659 103.247 441.659 Q106.881 441.659 108.686 438.117 Q110.515 434.552 110.515 427.446 Q110.515 420.316 108.686 416.775 Q106.881 413.21 103.247 413.21 M103.247 409.506 Q109.057 409.506 112.112 414.113 Q115.191 418.696 115.191 427.446 Q115.191 436.173 112.112 440.779 Q109.057 445.362 103.247 445.362 Q97.4364 445.362 94.3577 440.779 Q91.3022 436.173 91.3022 427.446 Q91.3022 418.696 94.3577 414.113 Q97.4364 409.506 103.247 409.506 Z\" fill=\"#000000\" fill-rule=\"evenodd\" fill-opacity=\"1\" /><path clip-path=\"url(#clip720)\" d=\"M 0 0 M130.26 413.21 Q126.649 413.21 124.82 416.775 Q123.015 420.316 123.015 427.446 Q123.015 434.552 124.82 438.117 Q126.649 441.659 130.26 441.659 Q133.895 441.659 135.7 438.117 Q137.529 434.552 137.529 427.446 Q137.529 420.316 135.7 416.775 Q133.895 413.21 130.26 413.21 M130.26 409.506 Q136.07 409.506 139.126 414.113 Q142.205 418.696 142.205 427.446 Q142.205 436.173 139.126 440.779 Q136.07 445.362 130.26 445.362 Q124.45 445.362 121.371 440.779 Q118.316 436.173 118.316 427.446 Q118.316 418.696 121.371 414.113 Q124.45 409.506 130.26 409.506 Z\" fill=\"#000000\" fill-rule=\"evenodd\" fill-opacity=\"1\" /><path clip-path=\"url(#clip720)\" d=\"M 0 0 M76.3254 88.8443 Q72.9921 88.8443 71.0708 90.6267 Q69.1726 92.4091 69.1726 95.5341 Q69.1726 98.6591 71.0708 100.441 Q72.9921 102.224 76.3254 102.224 Q79.6587 102.224 81.58 100.441 Q83.5013 98.6359 83.5013 95.5341 Q83.5013 92.4091 81.58 90.6267 Q79.6819 88.8443 76.3254 88.8443 M71.6495 86.8536 Q68.6402 86.1129 66.9504 84.0527 Q65.2838 81.9925 65.2838 79.0296 Q65.2838 74.8861 68.2236 72.4787 Q71.1865 70.0713 76.3254 70.0713 Q81.4874 70.0713 84.4272 72.4787 Q87.367 74.8861 87.367 79.0296 Q87.367 81.9925 85.6772 84.0527 Q84.0105 86.1129 81.0244 86.8536 Q84.404 87.6406 86.279 89.9323 Q88.1772 92.2239 88.1772 95.5341 Q88.1772 100.557 85.0985 103.242 Q82.0429 105.928 76.3254 105.928 Q70.6078 105.928 67.5291 103.242 Q64.4736 100.557 64.4736 95.5341 Q64.4736 92.2239 66.3717 89.9323 Q68.2699 87.6406 71.6495 86.8536 M69.9365 79.4694 Q69.9365 82.1545 71.6032 83.6592 Q73.293 85.1638 76.3254 85.1638 Q79.3346 85.1638 81.0244 83.6592 Q82.7374 82.1545 82.7374 79.4694 Q82.7374 76.7842 81.0244 75.2796 Q79.3346 73.775 76.3254 73.775 Q73.293 73.775 71.6032 75.2796 Q69.9365 76.7842 69.9365 79.4694 Z\" fill=\"#000000\" fill-rule=\"evenodd\" fill-opacity=\"1\" /><path clip-path=\"url(#clip720)\" d=\"M 0 0 M103.247 73.775 Q99.6354 73.775 97.8068 77.3398 Q96.0012 80.8814 96.0012 88.011 Q96.0012 95.1174 97.8068 98.6822 Q99.6354 102.224 103.247 102.224 Q106.881 102.224 108.686 98.6822 Q110.515 95.1174 110.515 88.011 Q110.515 80.8814 108.686 77.3398 Q106.881 73.775 103.247 73.775 M103.247 70.0713 Q109.057 70.0713 112.112 74.6777 Q115.191 79.261 115.191 88.011 Q115.191 96.7378 112.112 101.344 Q109.057 105.928 103.247 105.928 Q97.4364 105.928 94.3577 101.344 Q91.3022 96.7378 91.3022 88.011 Q91.3022 79.261 94.3577 74.6777 Q97.4364 70.0713 103.247 70.0713 Z\" fill=\"#000000\" fill-rule=\"evenodd\" fill-opacity=\"1\" /><path clip-path=\"url(#clip720)\" d=\"M 0 0 M130.26 73.775 Q126.649 73.775 124.82 77.3398 Q123.015 80.8814 123.015 88.011 Q123.015 95.1174 124.82 98.6822 Q126.649 102.224 130.26 102.224 Q133.895 102.224 135.7 98.6822 Q137.529 95.1174 137.529 88.011 Q137.529 80.8814 135.7 77.3398 Q133.895 73.775 130.26 73.775 M130.26 70.0713 Q136.07 70.0713 139.126 74.6777 Q142.205 79.261 142.205 88.011 Q142.205 96.7378 139.126 101.344 Q136.07 105.928 130.26 105.928 Q124.45 105.928 121.371 101.344 Q118.316 96.7378 118.316 88.011 Q118.316 79.261 121.371 74.6777 Q124.45 70.0713 130.26 70.0713 Z\" fill=\"#000000\" fill-rule=\"evenodd\" fill-opacity=\"1\" /><polyline clip-path=\"url(#clip722)\" style=\"stroke:#009af9; stroke-width:4; stroke-opacity:1; fill:none\" points=\"\n",
       "  228.088,87.9763 248.233,101.236 434.501,223.838 546.44,297.517 641.083,359.812 743.891,427.482 838.672,489.867 940.287,556.751 1058.02,634.242 1162.64,703.107 \n",
       "  1254.39,763.496 1354.42,829.335 1455.04,895.566 1566.29,968.793 1672.15,1038.47 1782.21,1110.91 1874.86,1171.89 1987.97,1246.35 2094.31,1316.33 2264.66,1428.46 \n",
       "  2290.87,1445.72 \n",
       "  \"/>\n",
       "<path clip-path=\"url(#clip720)\" d=\"\n",
       "M1989.74 251.724 L2280.76 251.724 L2280.76 130.764 L1989.74 130.764  Z\n",
       "  \" fill=\"#ffffff\" fill-rule=\"evenodd\" fill-opacity=\"1\"/>\n",
       "<polyline clip-path=\"url(#clip720)\" style=\"stroke:#000000; stroke-width:4; stroke-opacity:1; fill:none\" points=\"\n",
       "  1989.74,251.724 2280.76,251.724 2280.76,130.764 1989.74,130.764 1989.74,251.724 \n",
       "  \"/>\n",
       "<polyline clip-path=\"url(#clip720)\" style=\"stroke:#009af9; stroke-width:4; stroke-opacity:1; fill:none\" points=\"\n",
       "  2013.74,191.244 2157.74,191.244 \n",
       "  \"/>\n",
       "<path clip-path=\"url(#clip720)\" d=\"M 0 0 M2195.58 210.931 Q2193.77 215.561 2192.06 216.973 Q2190.35 218.385 2187.48 218.385 L2184.08 218.385 L2184.08 214.82 L2186.58 214.82 Q2188.33 214.82 2189.31 213.987 Q2190.28 213.154 2191.46 210.052 L2192.22 208.107 L2181.74 182.598 L2186.25 182.598 L2194.35 202.876 L2202.46 182.598 L2206.97 182.598 L2195.58 210.931 Z\" fill=\"#000000\" fill-rule=\"evenodd\" fill-opacity=\"1\" /><path clip-path=\"url(#clip720)\" d=\"M 0 0 M2212.85 204.589 L2220.49 204.589 L2220.49 178.223 L2212.18 179.89 L2212.18 175.631 L2220.44 173.964 L2225.12 173.964 L2225.12 204.589 L2232.76 204.589 L2232.76 208.524 L2212.85 208.524 L2212.85 204.589 Z\" fill=\"#000000\" fill-rule=\"evenodd\" fill-opacity=\"1\" /></svg>\n"
      ]
     },
     "execution_count": 475,
     "metadata": {},
     "output_type": "execute_result"
    }
   ],
   "source": [
    "f1y(y)= -275* y -250*1 + 75*1*y + 1450\n",
    "plot(f1y,2,4)"
   ]
  },
  {
   "cell_type": "code",
   "execution_count": 477,
   "id": "e32214b3",
   "metadata": {},
   "outputs": [
    {
     "data": {
      "image/svg+xml": [
       "<?xml version=\"1.0\" encoding=\"utf-8\"?>\n",
       "<svg xmlns=\"http://www.w3.org/2000/svg\" xmlns:xlink=\"http://www.w3.org/1999/xlink\" width=\"600\" height=\"400\" viewBox=\"0 0 2400 1600\">\n",
       "<defs>\n",
       "  <clipPath id=\"clip800\">\n",
       "    <rect x=\"0\" y=\"0\" width=\"2400\" height=\"1600\"/>\n",
       "  </clipPath>\n",
       "</defs>\n",
       "<path clip-path=\"url(#clip800)\" d=\"\n",
       "M0 1600 L2400 1600 L2400 0 L0 0  Z\n",
       "  \" fill=\"#ffffff\" fill-rule=\"evenodd\" fill-opacity=\"1\"/>\n",
       "<defs>\n",
       "  <clipPath id=\"clip801\">\n",
       "    <rect x=\"480\" y=\"0\" width=\"1681\" height=\"1600\"/>\n",
       "  </clipPath>\n",
       "</defs>\n",
       "<path clip-path=\"url(#clip800)\" d=\"\n",
       "M164.885 1486.45 L2352.76 1486.45 L2352.76 47.2441 L164.885 47.2441  Z\n",
       "  \" fill=\"#ffffff\" fill-rule=\"evenodd\" fill-opacity=\"1\"/>\n",
       "<defs>\n",
       "  <clipPath id=\"clip802\">\n",
       "    <rect x=\"164\" y=\"47\" width=\"2189\" height=\"1440\"/>\n",
       "  </clipPath>\n",
       "</defs>\n",
       "<polyline clip-path=\"url(#clip802)\" style=\"stroke:#000000; stroke-width:2; stroke-opacity:0.1; fill:none\" points=\"\n",
       "  226.806,1486.45 226.806,47.2441 \n",
       "  \"/>\n",
       "<polyline clip-path=\"url(#clip802)\" style=\"stroke:#000000; stroke-width:2; stroke-opacity:0.1; fill:none\" points=\"\n",
       "  742.813,1486.45 742.813,47.2441 \n",
       "  \"/>\n",
       "<polyline clip-path=\"url(#clip802)\" style=\"stroke:#000000; stroke-width:2; stroke-opacity:0.1; fill:none\" points=\"\n",
       "  1258.82,1486.45 1258.82,47.2441 \n",
       "  \"/>\n",
       "<polyline clip-path=\"url(#clip802)\" style=\"stroke:#000000; stroke-width:2; stroke-opacity:0.1; fill:none\" points=\"\n",
       "  1774.83,1486.45 1774.83,47.2441 \n",
       "  \"/>\n",
       "<polyline clip-path=\"url(#clip802)\" style=\"stroke:#000000; stroke-width:2; stroke-opacity:0.1; fill:none\" points=\"\n",
       "  2290.84,1486.45 2290.84,47.2441 \n",
       "  \"/>\n",
       "<polyline clip-path=\"url(#clip802)\" style=\"stroke:#000000; stroke-width:2; stroke-opacity:0.1; fill:none\" points=\"\n",
       "  164.885,1445.72 2352.76,1445.72 \n",
       "  \"/>\n",
       "<polyline clip-path=\"url(#clip802)\" style=\"stroke:#000000; stroke-width:2; stroke-opacity:0.1; fill:none\" points=\"\n",
       "  164.885,1106.28 2352.76,1106.28 \n",
       "  \"/>\n",
       "<polyline clip-path=\"url(#clip802)\" style=\"stroke:#000000; stroke-width:2; stroke-opacity:0.1; fill:none\" points=\"\n",
       "  164.885,766.846 2352.76,766.846 \n",
       "  \"/>\n",
       "<polyline clip-path=\"url(#clip802)\" style=\"stroke:#000000; stroke-width:2; stroke-opacity:0.1; fill:none\" points=\"\n",
       "  164.885,427.411 2352.76,427.411 \n",
       "  \"/>\n",
       "<polyline clip-path=\"url(#clip802)\" style=\"stroke:#000000; stroke-width:2; stroke-opacity:0.1; fill:none\" points=\"\n",
       "  164.885,87.9763 2352.76,87.9763 \n",
       "  \"/>\n",
       "<polyline clip-path=\"url(#clip800)\" style=\"stroke:#000000; stroke-width:4; stroke-opacity:1; fill:none\" points=\"\n",
       "  164.885,1486.45 2352.76,1486.45 \n",
       "  \"/>\n",
       "<polyline clip-path=\"url(#clip800)\" style=\"stroke:#000000; stroke-width:4; stroke-opacity:1; fill:none\" points=\"\n",
       "  164.885,1486.45 164.885,47.2441 \n",
       "  \"/>\n",
       "<polyline clip-path=\"url(#clip800)\" style=\"stroke:#000000; stroke-width:4; stroke-opacity:1; fill:none\" points=\"\n",
       "  226.806,1486.45 226.806,1469.18 \n",
       "  \"/>\n",
       "<polyline clip-path=\"url(#clip800)\" style=\"stroke:#000000; stroke-width:4; stroke-opacity:1; fill:none\" points=\"\n",
       "  742.813,1486.45 742.813,1469.18 \n",
       "  \"/>\n",
       "<polyline clip-path=\"url(#clip800)\" style=\"stroke:#000000; stroke-width:4; stroke-opacity:1; fill:none\" points=\"\n",
       "  1258.82,1486.45 1258.82,1469.18 \n",
       "  \"/>\n",
       "<polyline clip-path=\"url(#clip800)\" style=\"stroke:#000000; stroke-width:4; stroke-opacity:1; fill:none\" points=\"\n",
       "  1774.83,1486.45 1774.83,1469.18 \n",
       "  \"/>\n",
       "<polyline clip-path=\"url(#clip800)\" style=\"stroke:#000000; stroke-width:4; stroke-opacity:1; fill:none\" points=\"\n",
       "  2290.84,1486.45 2290.84,1469.18 \n",
       "  \"/>\n",
       "<polyline clip-path=\"url(#clip800)\" style=\"stroke:#000000; stroke-width:4; stroke-opacity:1; fill:none\" points=\"\n",
       "  164.885,1445.72 191.14,1445.72 \n",
       "  \"/>\n",
       "<polyline clip-path=\"url(#clip800)\" style=\"stroke:#000000; stroke-width:4; stroke-opacity:1; fill:none\" points=\"\n",
       "  164.885,1106.28 191.14,1106.28 \n",
       "  \"/>\n",
       "<polyline clip-path=\"url(#clip800)\" style=\"stroke:#000000; stroke-width:4; stroke-opacity:1; fill:none\" points=\"\n",
       "  164.885,766.846 191.14,766.846 \n",
       "  \"/>\n",
       "<polyline clip-path=\"url(#clip800)\" style=\"stroke:#000000; stroke-width:4; stroke-opacity:1; fill:none\" points=\"\n",
       "  164.885,427.411 191.14,427.411 \n",
       "  \"/>\n",
       "<polyline clip-path=\"url(#clip800)\" style=\"stroke:#000000; stroke-width:4; stroke-opacity:1; fill:none\" points=\"\n",
       "  164.885,87.9763 191.14,87.9763 \n",
       "  \"/>\n",
       "<path clip-path=\"url(#clip800)\" d=\"M 0 0 M202.975 1535.98 L219.295 1535.98 L219.295 1539.92 L197.35 1539.92 L197.35 1535.98 Q200.012 1533.23 204.596 1528.6 Q209.202 1523.95 210.383 1522.61 Q212.628 1520.08 213.508 1518.35 Q214.41 1516.59 214.41 1514.9 Q214.41 1512.14 212.466 1510.41 Q210.545 1508.67 207.443 1508.67 Q205.244 1508.67 202.79 1509.43 Q200.359 1510.2 197.582 1511.75 L197.582 1507.03 Q200.406 1505.89 202.859 1505.31 Q205.313 1504.73 207.35 1504.73 Q212.721 1504.73 215.915 1507.42 Q219.109 1510.11 219.109 1514.6 Q219.109 1516.73 218.299 1518.65 Q217.512 1520.54 215.406 1523.14 Q214.827 1523.81 211.725 1527.03 Q208.623 1530.22 202.975 1535.98 Z\" fill=\"#000000\" fill-rule=\"evenodd\" fill-opacity=\"1\" /><path clip-path=\"url(#clip800)\" d=\"M 0 0 M224.364 1534.04 L229.248 1534.04 L229.248 1539.92 L224.364 1539.92 L224.364 1534.04 Z\" fill=\"#000000\" fill-rule=\"evenodd\" fill-opacity=\"1\" /><path clip-path=\"url(#clip800)\" d=\"M 0 0 M244.318 1508.44 Q240.706 1508.44 238.878 1512 Q237.072 1515.55 237.072 1522.67 Q237.072 1529.78 238.878 1533.35 Q240.706 1536.89 244.318 1536.89 Q247.952 1536.89 249.757 1533.35 Q251.586 1529.78 251.586 1522.67 Q251.586 1515.55 249.757 1512 Q247.952 1508.44 244.318 1508.44 M244.318 1504.73 Q250.128 1504.73 253.183 1509.34 Q256.262 1513.92 256.262 1522.67 Q256.262 1531.4 253.183 1536.01 Q250.128 1540.59 244.318 1540.59 Q238.507 1540.59 235.429 1536.01 Q232.373 1531.4 232.373 1522.67 Q232.373 1513.92 235.429 1509.34 Q238.507 1504.73 244.318 1504.73 Z\" fill=\"#000000\" fill-rule=\"evenodd\" fill-opacity=\"1\" /><path clip-path=\"url(#clip800)\" d=\"M 0 0 M719.48 1535.98 L735.799 1535.98 L735.799 1539.92 L713.855 1539.92 L713.855 1535.98 Q716.517 1533.23 721.1 1528.6 Q725.707 1523.95 726.887 1522.61 Q729.133 1520.08 730.012 1518.35 Q730.915 1516.59 730.915 1514.9 Q730.915 1512.14 728.971 1510.41 Q727.05 1508.67 723.948 1508.67 Q721.749 1508.67 719.295 1509.43 Q716.864 1510.2 714.087 1511.75 L714.087 1507.03 Q716.911 1505.89 719.364 1505.31 Q721.818 1504.73 723.855 1504.73 Q729.225 1504.73 732.42 1507.42 Q735.614 1510.11 735.614 1514.6 Q735.614 1516.73 734.804 1518.65 Q734.017 1520.54 731.911 1523.14 Q731.332 1523.81 728.23 1527.03 Q725.128 1530.22 719.48 1535.98 Z\" fill=\"#000000\" fill-rule=\"evenodd\" fill-opacity=\"1\" /><path clip-path=\"url(#clip800)\" d=\"M 0 0 M740.869 1534.04 L745.753 1534.04 L745.753 1539.92 L740.869 1539.92 L740.869 1534.04 Z\" fill=\"#000000\" fill-rule=\"evenodd\" fill-opacity=\"1\" /><path clip-path=\"url(#clip800)\" d=\"M 0 0 M750.869 1505.36 L769.225 1505.36 L769.225 1509.3 L755.151 1509.3 L755.151 1517.77 Q756.17 1517.42 757.188 1517.26 Q758.207 1517.07 759.225 1517.07 Q765.012 1517.07 768.392 1520.24 Q771.772 1523.42 771.772 1528.83 Q771.772 1534.41 768.299 1537.51 Q764.827 1540.59 758.508 1540.59 Q756.332 1540.59 754.063 1540.22 Q751.818 1539.85 749.411 1539.11 L749.411 1534.41 Q751.494 1535.54 753.716 1536.1 Q755.938 1536.66 758.415 1536.66 Q762.42 1536.66 764.758 1534.55 Q767.096 1532.44 767.096 1528.83 Q767.096 1525.22 764.758 1523.11 Q762.42 1521.01 758.415 1521.01 Q756.54 1521.01 754.665 1521.42 Q752.813 1521.84 750.869 1522.72 L750.869 1505.36 Z\" fill=\"#000000\" fill-rule=\"evenodd\" fill-opacity=\"1\" /><path clip-path=\"url(#clip800)\" d=\"M 0 0 M1244.58 1521.29 Q1247.94 1522 1249.82 1524.27 Q1251.71 1526.54 1251.71 1529.87 Q1251.71 1534.99 1248.2 1537.79 Q1244.68 1540.59 1238.2 1540.59 Q1236.02 1540.59 1233.7 1540.15 Q1231.41 1539.73 1228.96 1538.88 L1228.96 1534.36 Q1230.9 1535.5 1233.22 1536.08 Q1235.53 1536.66 1238.06 1536.66 Q1242.45 1536.66 1244.75 1534.92 Q1247.06 1533.18 1247.06 1529.87 Q1247.06 1526.82 1244.91 1525.11 Q1242.78 1523.37 1238.96 1523.37 L1234.93 1523.37 L1234.93 1519.53 L1239.14 1519.53 Q1242.59 1519.53 1244.42 1518.16 Q1246.25 1516.77 1246.25 1514.18 Q1246.25 1511.52 1244.35 1510.11 Q1242.48 1508.67 1238.96 1508.67 Q1237.04 1508.67 1234.84 1509.09 Q1232.64 1509.5 1230 1510.38 L1230 1506.22 Q1232.66 1505.48 1234.98 1505.11 Q1237.32 1504.73 1239.38 1504.73 Q1244.7 1504.73 1247.8 1507.17 Q1250.9 1509.57 1250.9 1513.69 Q1250.9 1516.56 1249.26 1518.55 Q1247.62 1520.52 1244.58 1521.29 Z\" fill=\"#000000\" fill-rule=\"evenodd\" fill-opacity=\"1\" /><path clip-path=\"url(#clip800)\" d=\"M 0 0 M1256.78 1534.04 L1261.67 1534.04 L1261.67 1539.92 L1256.78 1539.92 L1256.78 1534.04 Z\" fill=\"#000000\" fill-rule=\"evenodd\" fill-opacity=\"1\" /><path clip-path=\"url(#clip800)\" d=\"M 0 0 M1276.74 1508.44 Q1273.13 1508.44 1271.3 1512 Q1269.49 1515.55 1269.49 1522.67 Q1269.49 1529.78 1271.3 1533.35 Q1273.13 1536.89 1276.74 1536.89 Q1280.37 1536.89 1282.18 1533.35 Q1284.01 1529.78 1284.01 1522.67 Q1284.01 1515.55 1282.18 1512 Q1280.37 1508.44 1276.74 1508.44 M1276.74 1504.73 Q1282.55 1504.73 1285.6 1509.34 Q1288.68 1513.92 1288.68 1522.67 Q1288.68 1531.4 1285.6 1536.01 Q1282.55 1540.59 1276.74 1540.59 Q1270.93 1540.59 1267.85 1536.01 Q1264.79 1531.4 1264.79 1522.67 Q1264.79 1513.92 1267.85 1509.34 Q1270.93 1504.73 1276.74 1504.73 Z\" fill=\"#000000\" fill-rule=\"evenodd\" fill-opacity=\"1\" /><path clip-path=\"url(#clip800)\" d=\"M 0 0 M1761.09 1521.29 Q1764.45 1522 1766.32 1524.27 Q1768.22 1526.54 1768.22 1529.87 Q1768.22 1534.99 1764.7 1537.79 Q1761.18 1540.59 1754.7 1540.59 Q1752.52 1540.59 1750.21 1540.15 Q1747.92 1539.73 1745.46 1538.88 L1745.46 1534.36 Q1747.41 1535.5 1749.72 1536.08 Q1752.04 1536.66 1754.56 1536.66 Q1758.96 1536.66 1761.25 1534.92 Q1763.57 1533.18 1763.57 1529.87 Q1763.57 1526.82 1761.41 1525.11 Q1759.28 1523.37 1755.46 1523.37 L1751.44 1523.37 L1751.44 1519.53 L1755.65 1519.53 Q1759.1 1519.53 1760.93 1518.16 Q1762.76 1516.77 1762.76 1514.18 Q1762.76 1511.52 1760.86 1510.11 Q1758.98 1508.67 1755.46 1508.67 Q1753.54 1508.67 1751.34 1509.09 Q1749.15 1509.5 1746.51 1510.38 L1746.51 1506.22 Q1749.17 1505.48 1751.48 1505.11 Q1753.82 1504.73 1755.88 1504.73 Q1761.21 1504.73 1764.31 1507.17 Q1767.41 1509.57 1767.41 1513.69 Q1767.41 1516.56 1765.77 1518.55 Q1764.12 1520.52 1761.09 1521.29 Z\" fill=\"#000000\" fill-rule=\"evenodd\" fill-opacity=\"1\" /><path clip-path=\"url(#clip800)\" d=\"M 0 0 M1773.29 1534.04 L1778.17 1534.04 L1778.17 1539.92 L1773.29 1539.92 L1773.29 1534.04 Z\" fill=\"#000000\" fill-rule=\"evenodd\" fill-opacity=\"1\" /><path clip-path=\"url(#clip800)\" d=\"M 0 0 M1783.29 1505.36 L1801.64 1505.36 L1801.64 1509.3 L1787.57 1509.3 L1787.57 1517.77 Q1788.59 1517.42 1789.61 1517.26 Q1790.63 1517.07 1791.64 1517.07 Q1797.43 1517.07 1800.81 1520.24 Q1804.19 1523.42 1804.19 1528.83 Q1804.19 1534.41 1800.72 1537.51 Q1797.25 1540.59 1790.93 1540.59 Q1788.75 1540.59 1786.48 1540.22 Q1784.24 1539.85 1781.83 1539.11 L1781.83 1534.41 Q1783.91 1535.54 1786.14 1536.1 Q1788.36 1536.66 1790.83 1536.66 Q1794.84 1536.66 1797.18 1534.55 Q1799.52 1532.44 1799.52 1528.83 Q1799.52 1525.22 1797.18 1523.11 Q1794.84 1521.01 1790.83 1521.01 Q1788.96 1521.01 1787.08 1521.42 Q1785.23 1521.84 1783.29 1522.72 L1783.29 1505.36 Z\" fill=\"#000000\" fill-rule=\"evenodd\" fill-opacity=\"1\" /><path clip-path=\"url(#clip800)\" d=\"M 0 0 M2275.36 1509.43 L2263.56 1527.88 L2275.36 1527.88 L2275.36 1509.43 M2274.13 1505.36 L2280.01 1505.36 L2280.01 1527.88 L2284.94 1527.88 L2284.94 1531.77 L2280.01 1531.77 L2280.01 1539.92 L2275.36 1539.92 L2275.36 1531.77 L2259.76 1531.77 L2259.76 1527.26 L2274.13 1505.36 Z\" fill=\"#000000\" fill-rule=\"evenodd\" fill-opacity=\"1\" /><path clip-path=\"url(#clip800)\" d=\"M 0 0 M2290.01 1534.04 L2294.9 1534.04 L2294.9 1539.92 L2290.01 1539.92 L2290.01 1534.04 Z\" fill=\"#000000\" fill-rule=\"evenodd\" fill-opacity=\"1\" /><path clip-path=\"url(#clip800)\" d=\"M 0 0 M2309.97 1508.44 Q2306.36 1508.44 2304.53 1512 Q2302.72 1515.55 2302.72 1522.67 Q2302.72 1529.78 2304.53 1533.35 Q2306.36 1536.89 2309.97 1536.89 Q2313.6 1536.89 2315.41 1533.35 Q2317.24 1529.78 2317.24 1522.67 Q2317.24 1515.55 2315.41 1512 Q2313.6 1508.44 2309.97 1508.44 M2309.97 1504.73 Q2315.78 1504.73 2318.83 1509.34 Q2321.91 1513.92 2321.91 1522.67 Q2321.91 1531.4 2318.83 1536.01 Q2315.78 1540.59 2309.97 1540.59 Q2304.16 1540.59 2301.08 1536.01 Q2298.02 1531.4 2298.02 1522.67 Q2298.02 1513.92 2301.08 1509.34 Q2304.16 1504.73 2309.97 1504.73 Z\" fill=\"#000000\" fill-rule=\"evenodd\" fill-opacity=\"1\" /><path clip-path=\"url(#clip800)\" d=\"M 0 0 M65.9551 1428.44 L84.3115 1428.44 L84.3115 1432.37 L70.2375 1432.37 L70.2375 1440.84 Q71.256 1440.5 72.2745 1440.33 Q73.293 1440.15 74.3115 1440.15 Q80.0985 1440.15 83.4781 1443.32 Q86.8577 1446.49 86.8577 1451.91 Q86.8577 1457.49 83.3855 1460.59 Q79.9133 1463.67 73.5939 1463.67 Q71.418 1463.67 69.1495 1463.3 Q66.9041 1462.93 64.4967 1462.19 L64.4967 1457.49 Q66.5801 1458.62 68.8023 1459.18 Q71.0245 1459.73 73.5013 1459.73 Q77.5059 1459.73 79.8439 1457.63 Q82.1818 1455.52 82.1818 1451.91 Q82.1818 1448.3 79.8439 1446.19 Q77.5059 1444.08 73.5013 1444.08 Q71.6263 1444.08 69.7513 1444.5 Q67.8995 1444.92 65.9551 1445.8 L65.9551 1428.44 Z\" fill=\"#000000\" fill-rule=\"evenodd\" fill-opacity=\"1\" /><path clip-path=\"url(#clip800)\" d=\"M 0 0 M101.927 1431.51 Q98.316 1431.51 96.4873 1435.08 Q94.6818 1438.62 94.6818 1445.75 Q94.6818 1452.86 96.4873 1456.42 Q98.316 1459.96 101.927 1459.96 Q105.561 1459.96 107.367 1456.42 Q109.196 1452.86 109.196 1445.75 Q109.196 1438.62 107.367 1435.08 Q105.561 1431.51 101.927 1431.51 M101.927 1427.81 Q107.737 1427.81 110.793 1432.42 Q113.871 1437 113.871 1445.75 Q113.871 1454.48 110.793 1459.08 Q107.737 1463.67 101.927 1463.67 Q96.1169 1463.67 93.0383 1459.08 Q89.9827 1454.48 89.9827 1445.75 Q89.9827 1437 93.0383 1432.42 Q96.1169 1427.81 101.927 1427.81 Z\" fill=\"#000000\" fill-rule=\"evenodd\" fill-opacity=\"1\" /><path clip-path=\"url(#clip800)\" d=\"M 0 0 M128.941 1431.51 Q125.33 1431.51 123.501 1435.08 Q121.696 1438.62 121.696 1445.75 Q121.696 1452.86 123.501 1456.42 Q125.33 1459.96 128.941 1459.96 Q132.575 1459.96 134.381 1456.42 Q136.209 1452.86 136.209 1445.75 Q136.209 1438.62 134.381 1435.08 Q132.575 1431.51 128.941 1431.51 M128.941 1427.81 Q134.751 1427.81 137.807 1432.42 Q140.885 1437 140.885 1445.75 Q140.885 1454.48 137.807 1459.08 Q134.751 1463.67 128.941 1463.67 Q123.131 1463.67 120.052 1459.08 Q116.996 1454.48 116.996 1445.75 Q116.996 1437 120.052 1432.42 Q123.131 1427.81 128.941 1427.81 Z\" fill=\"#000000\" fill-rule=\"evenodd\" fill-opacity=\"1\" /><path clip-path=\"url(#clip800)\" d=\"M 0 0 M68.5477 1089 L86.904 1089 L86.904 1092.94 L72.83 1092.94 L72.83 1101.41 Q73.8485 1101.06 74.8671 1100.9 Q75.8856 1100.71 76.9041 1100.71 Q82.6911 1100.71 86.0707 1103.89 Q89.4503 1107.06 89.4503 1112.47 Q89.4503 1118.05 85.9781 1121.15 Q82.5059 1124.23 76.1865 1124.23 Q74.0106 1124.23 71.7421 1123.86 Q69.4967 1123.49 67.0893 1122.75 L67.0893 1118.05 Q69.1726 1119.19 71.3949 1119.74 Q73.6171 1120.3 76.0939 1120.3 Q80.0985 1120.3 82.4365 1118.19 Q84.7744 1116.08 84.7744 1112.47 Q84.7744 1108.86 82.4365 1106.76 Q80.0985 1104.65 76.0939 1104.65 Q74.2189 1104.65 72.3439 1105.07 Q70.4921 1105.48 68.5477 1106.36 L68.5477 1089 Z\" fill=\"#000000\" fill-rule=\"evenodd\" fill-opacity=\"1\" /><path clip-path=\"url(#clip800)\" d=\"M 0 0 M98.5475 1119.63 L114.867 1119.63 L114.867 1123.56 L92.9225 1123.56 L92.9225 1119.63 Q95.5845 1116.87 100.168 1112.24 Q104.774 1107.59 105.955 1106.25 Q108.2 1103.72 109.08 1101.99 Q109.983 1100.23 109.983 1098.54 Q109.983 1095.78 108.038 1094.05 Q106.117 1092.31 103.015 1092.31 Q100.816 1092.31 98.3623 1093.07 Q95.9318 1093.84 93.154 1095.39 L93.154 1090.67 Q95.9781 1089.53 98.4318 1088.95 Q100.885 1088.38 102.922 1088.38 Q108.293 1088.38 111.487 1091.06 Q114.682 1093.75 114.682 1098.24 Q114.682 1100.37 113.871 1102.29 Q113.084 1104.19 110.978 1106.78 Q110.399 1107.45 107.297 1110.67 Q104.196 1113.86 98.5475 1119.63 Z\" fill=\"#000000\" fill-rule=\"evenodd\" fill-opacity=\"1\" /><path clip-path=\"url(#clip800)\" d=\"M 0 0 M119.983 1089 L138.339 1089 L138.339 1092.94 L124.265 1092.94 L124.265 1101.41 Q125.283 1101.06 126.302 1100.9 Q127.32 1100.71 128.339 1100.71 Q134.126 1100.71 137.506 1103.89 Q140.885 1107.06 140.885 1112.47 Q140.885 1118.05 137.413 1121.15 Q133.941 1124.23 127.621 1124.23 Q125.445 1124.23 123.177 1123.86 Q120.932 1123.49 118.524 1122.75 L118.524 1118.05 Q120.608 1119.19 122.83 1119.74 Q125.052 1120.3 127.529 1120.3 Q131.533 1120.3 133.871 1118.19 Q136.209 1116.08 136.209 1112.47 Q136.209 1108.86 133.871 1106.76 Q131.533 1104.65 127.529 1104.65 Q125.654 1104.65 123.779 1105.07 Q121.927 1105.48 119.983 1106.36 L119.983 1089 Z\" fill=\"#000000\" fill-rule=\"evenodd\" fill-opacity=\"1\" /><path clip-path=\"url(#clip800)\" d=\"M 0 0 M66.9504 749.566 L85.3068 749.566 L85.3068 753.501 L71.2328 753.501 L71.2328 761.973 Q72.2513 761.626 73.2698 761.464 Q74.2884 761.279 75.3069 761.279 Q81.0939 761.279 84.4735 764.45 Q87.8531 767.621 87.8531 773.038 Q87.8531 778.617 84.3809 781.719 Q80.9087 784.797 74.5893 784.797 Q72.4134 784.797 70.1449 784.427 Q67.8995 784.057 65.4921 783.316 L65.4921 778.617 Q67.5754 779.751 69.7976 780.307 Q72.0199 780.862 74.4967 780.862 Q78.5013 780.862 80.8393 778.756 Q83.1772 776.649 83.1772 773.038 Q83.1772 769.427 80.8393 767.321 Q78.5013 765.214 74.4967 765.214 Q72.6217 765.214 70.7467 765.631 Q68.8949 766.047 66.9504 766.927 L66.9504 749.566 Z\" fill=\"#000000\" fill-rule=\"evenodd\" fill-opacity=\"1\" /><path clip-path=\"url(#clip800)\" d=\"M 0 0 M92.9688 749.566 L111.325 749.566 L111.325 753.501 L97.2512 753.501 L97.2512 761.973 Q98.2697 761.626 99.2882 761.464 Q100.307 761.279 101.325 761.279 Q107.112 761.279 110.492 764.45 Q113.871 767.621 113.871 773.038 Q113.871 778.617 110.399 781.719 Q106.927 784.797 100.608 784.797 Q98.4318 784.797 96.1632 784.427 Q93.9179 784.057 91.5105 783.316 L91.5105 778.617 Q93.5938 779.751 95.816 780.307 Q98.0382 780.862 100.515 780.862 Q104.52 780.862 106.858 778.756 Q109.196 776.649 109.196 773.038 Q109.196 769.427 106.858 767.321 Q104.52 765.214 100.515 765.214 Q98.6401 765.214 96.7651 765.631 Q94.9133 766.047 92.9688 766.927 L92.9688 749.566 Z\" fill=\"#000000\" fill-rule=\"evenodd\" fill-opacity=\"1\" /><path clip-path=\"url(#clip800)\" d=\"M 0 0 M128.941 752.645 Q125.33 752.645 123.501 756.209 Q121.696 759.751 121.696 766.881 Q121.696 773.987 123.501 777.552 Q125.33 781.094 128.941 781.094 Q132.575 781.094 134.381 777.552 Q136.209 773.987 136.209 766.881 Q136.209 759.751 134.381 756.209 Q132.575 752.645 128.941 752.645 M128.941 748.941 Q134.751 748.941 137.807 753.547 Q140.885 758.131 140.885 766.881 Q140.885 775.608 137.807 780.214 Q134.751 784.797 128.941 784.797 Q123.131 784.797 120.052 780.214 Q116.996 775.608 116.996 766.881 Q116.996 758.131 120.052 753.547 Q123.131 748.941 128.941 748.941 Z\" fill=\"#000000\" fill-rule=\"evenodd\" fill-opacity=\"1\" /><path clip-path=\"url(#clip800)\" d=\"M 0 0 M67.8532 410.131 L86.2096 410.131 L86.2096 414.066 L72.1356 414.066 L72.1356 422.538 Q73.1541 422.191 74.1726 422.029 Q75.1911 421.844 76.2096 421.844 Q81.9967 421.844 85.3763 425.015 Q88.7559 428.187 88.7559 433.603 Q88.7559 439.182 85.2837 442.284 Q81.8115 445.362 75.4921 445.362 Q73.3161 445.362 71.0476 444.992 Q68.8023 444.622 66.3949 443.881 L66.3949 439.182 Q68.4782 440.316 70.7004 440.872 Q72.9226 441.427 75.3995 441.427 Q79.4041 441.427 81.742 439.321 Q84.08 437.214 84.08 433.603 Q84.08 429.992 81.742 427.886 Q79.4041 425.779 75.3995 425.779 Q73.5245 425.779 71.6495 426.196 Q69.7976 426.613 67.8532 427.492 L67.8532 410.131 Z\" fill=\"#000000\" fill-rule=\"evenodd\" fill-opacity=\"1\" /><path clip-path=\"url(#clip800)\" d=\"M 0 0 M92.6447 410.131 L114.867 410.131 L114.867 412.122 L102.321 444.691 L97.4364 444.691 L109.242 414.066 L92.6447 414.066 L92.6447 410.131 Z\" fill=\"#000000\" fill-rule=\"evenodd\" fill-opacity=\"1\" /><path clip-path=\"url(#clip800)\" d=\"M 0 0 M119.983 410.131 L138.339 410.131 L138.339 414.066 L124.265 414.066 L124.265 422.538 Q125.283 422.191 126.302 422.029 Q127.32 421.844 128.339 421.844 Q134.126 421.844 137.506 425.015 Q140.885 428.187 140.885 433.603 Q140.885 439.182 137.413 442.284 Q133.941 445.362 127.621 445.362 Q125.445 445.362 123.177 444.992 Q120.932 444.622 118.524 443.881 L118.524 439.182 Q120.608 440.316 122.83 440.872 Q125.052 441.427 127.529 441.427 Q131.533 441.427 133.871 439.321 Q136.209 437.214 136.209 433.603 Q136.209 429.992 133.871 427.886 Q131.533 425.779 127.529 425.779 Q125.654 425.779 123.779 426.196 Q121.927 426.613 119.983 427.492 L119.983 410.131 Z\" fill=\"#000000\" fill-rule=\"evenodd\" fill-opacity=\"1\" /><path clip-path=\"url(#clip800)\" d=\"M 0 0 M75.33 86.1129 Q72.1819 86.1129 70.33 88.2656 Q68.5014 90.4184 68.5014 94.1684 Q68.5014 97.8952 70.33 100.071 Q72.1819 102.224 75.33 102.224 Q78.4782 102.224 80.3068 100.071 Q82.1587 97.8952 82.1587 94.1684 Q82.1587 90.4184 80.3068 88.2656 Q78.4782 86.1129 75.33 86.1129 M84.6124 71.4602 L84.6124 75.7194 Q82.8531 74.8861 81.0476 74.4463 Q79.2652 74.0064 77.5059 74.0064 Q72.8763 74.0064 70.4226 77.1314 Q67.9921 80.2564 67.6449 86.5758 Q69.0106 84.5619 71.0708 83.4971 Q73.131 82.4092 75.6078 82.4092 Q80.8161 82.4092 83.8253 85.5805 Q86.8577 88.7286 86.8577 94.1684 Q86.8577 99.4924 83.7096 102.71 Q80.5615 105.928 75.33 105.928 Q69.3347 105.928 66.1634 101.344 Q62.9921 96.7378 62.9921 88.011 Q62.9921 79.8166 66.881 74.9555 Q70.7699 70.0713 77.3208 70.0713 Q79.08 70.0713 80.8624 70.4185 Q82.6679 70.7657 84.6124 71.4602 Z\" fill=\"#000000\" fill-rule=\"evenodd\" fill-opacity=\"1\" /><path clip-path=\"url(#clip800)\" d=\"M 0 0 M101.927 73.775 Q98.316 73.775 96.4873 77.3398 Q94.6818 80.8814 94.6818 88.011 Q94.6818 95.1174 96.4873 98.6822 Q98.316 102.224 101.927 102.224 Q105.561 102.224 107.367 98.6822 Q109.196 95.1174 109.196 88.011 Q109.196 80.8814 107.367 77.3398 Q105.561 73.775 101.927 73.775 M101.927 70.0713 Q107.737 70.0713 110.793 74.6777 Q113.871 79.261 113.871 88.011 Q113.871 96.7378 110.793 101.344 Q107.737 105.928 101.927 105.928 Q96.1169 105.928 93.0383 101.344 Q89.9827 96.7378 89.9827 88.011 Q89.9827 79.261 93.0383 74.6777 Q96.1169 70.0713 101.927 70.0713 Z\" fill=\"#000000\" fill-rule=\"evenodd\" fill-opacity=\"1\" /><path clip-path=\"url(#clip800)\" d=\"M 0 0 M128.941 73.775 Q125.33 73.775 123.501 77.3398 Q121.696 80.8814 121.696 88.011 Q121.696 95.1174 123.501 98.6822 Q125.33 102.224 128.941 102.224 Q132.575 102.224 134.381 98.6822 Q136.209 95.1174 136.209 88.011 Q136.209 80.8814 134.381 77.3398 Q132.575 73.775 128.941 73.775 M128.941 70.0713 Q134.751 70.0713 137.807 74.6777 Q140.885 79.261 140.885 88.011 Q140.885 96.7378 137.807 101.344 Q134.751 105.928 128.941 105.928 Q123.131 105.928 120.052 101.344 Q116.996 96.7378 116.996 88.011 Q116.996 79.261 120.052 74.6777 Q123.131 70.0713 128.941 70.0713 Z\" fill=\"#000000\" fill-rule=\"evenodd\" fill-opacity=\"1\" /><polyline clip-path=\"url(#clip802)\" style=\"stroke:#009af9; stroke-width:4; stroke-opacity:1; fill:none\" points=\"\n",
       "  226.806,87.9763 246.963,101.236 433.343,223.838 545.35,297.517 640.05,359.812 742.921,427.482 837.758,489.867 939.435,556.751 1057.24,634.242 1161.92,703.107 \n",
       "  1253.73,763.496 1353.82,829.335 1454.5,895.566 1565.82,968.793 1671.74,1038.47 1781.87,1110.91 1874.57,1171.89 1987.75,1246.35 2094.15,1316.33 2264.6,1428.46 \n",
       "  2290.84,1445.72 \n",
       "  \"/>\n",
       "<path clip-path=\"url(#clip800)\" d=\"\n",
       "M1989.74 251.724 L2280.76 251.724 L2280.76 130.764 L1989.74 130.764  Z\n",
       "  \" fill=\"#ffffff\" fill-rule=\"evenodd\" fill-opacity=\"1\"/>\n",
       "<polyline clip-path=\"url(#clip800)\" style=\"stroke:#000000; stroke-width:4; stroke-opacity:1; fill:none\" points=\"\n",
       "  1989.74,251.724 2280.76,251.724 2280.76,130.764 1989.74,130.764 1989.74,251.724 \n",
       "  \"/>\n",
       "<polyline clip-path=\"url(#clip800)\" style=\"stroke:#009af9; stroke-width:4; stroke-opacity:1; fill:none\" points=\"\n",
       "  2013.74,191.244 2157.74,191.244 \n",
       "  \"/>\n",
       "<path clip-path=\"url(#clip800)\" d=\"M 0 0 M2195.58 210.931 Q2193.77 215.561 2192.06 216.973 Q2190.35 218.385 2187.48 218.385 L2184.08 218.385 L2184.08 214.82 L2186.58 214.82 Q2188.33 214.82 2189.31 213.987 Q2190.28 213.154 2191.46 210.052 L2192.22 208.107 L2181.74 182.598 L2186.25 182.598 L2194.35 202.876 L2202.46 182.598 L2206.97 182.598 L2195.58 210.931 Z\" fill=\"#000000\" fill-rule=\"evenodd\" fill-opacity=\"1\" /><path clip-path=\"url(#clip800)\" d=\"M 0 0 M2212.85 204.589 L2220.49 204.589 L2220.49 178.223 L2212.18 179.89 L2212.18 175.631 L2220.44 173.964 L2225.12 173.964 L2225.12 204.589 L2232.76 204.589 L2232.76 208.524 L2212.85 208.524 L2212.85 204.589 Z\" fill=\"#000000\" fill-rule=\"evenodd\" fill-opacity=\"1\" /></svg>\n"
      ]
     },
     "execution_count": 477,
     "metadata": {},
     "output_type": "execute_result"
    }
   ],
   "source": [
    "f3y(y)= -275* y -250*3 + 75*3*y + 1450\n",
    "plot(f2y,2,4)"
   ]
  },
  {
   "cell_type": "code",
   "execution_count": 466,
   "id": "b6fbbc62",
   "metadata": {},
   "outputs": [
    {
     "ename": "MethodError",
     "evalue": "\u001b[91mMethodError: no method matching -(::Int64, ::Array{Int64,1})\u001b[39m\n\u001b[91m\u001b[0mClosest candidates are:\u001b[39m\n\u001b[91m\u001b[0m  -(\u001b[91m::ChainRulesCore.NotImplemented\u001b[39m, ::Any) at C:\\Users\\rodri\\.julia\\packages\\ChainRulesCore\\IFusD\\src\\tangent_arithmetic.jl:49\u001b[39m\n\u001b[91m\u001b[0m  -(\u001b[91m::ChainRulesCore.ZeroTangent\u001b[39m, ::Any) at C:\\Users\\rodri\\.julia\\packages\\ChainRulesCore\\IFusD\\src\\tangent_arithmetic.jl:101\u001b[39m\n\u001b[91m\u001b[0m  -(\u001b[91m::ChainRulesCore.NoTangent\u001b[39m, ::Any) at C:\\Users\\rodri\\.julia\\packages\\ChainRulesCore\\IFusD\\src\\tangent_arithmetic.jl:61\u001b[39m\n\u001b[91m\u001b[0m  ...\u001b[39m",
     "output_type": "error",
     "traceback": [
      "\u001b[91mMethodError: no method matching -(::Int64, ::Array{Int64,1})\u001b[39m\n\u001b[91m\u001b[0mClosest candidates are:\u001b[39m\n\u001b[91m\u001b[0m  -(\u001b[91m::ChainRulesCore.NotImplemented\u001b[39m, ::Any) at C:\\Users\\rodri\\.julia\\packages\\ChainRulesCore\\IFusD\\src\\tangent_arithmetic.jl:49\u001b[39m\n\u001b[91m\u001b[0m  -(\u001b[91m::ChainRulesCore.ZeroTangent\u001b[39m, ::Any) at C:\\Users\\rodri\\.julia\\packages\\ChainRulesCore\\IFusD\\src\\tangent_arithmetic.jl:101\u001b[39m\n\u001b[91m\u001b[0m  -(\u001b[91m::ChainRulesCore.NoTangent\u001b[39m, ::Any) at C:\\Users\\rodri\\.julia\\packages\\ChainRulesCore\\IFusD\\src\\tangent_arithmetic.jl:61\u001b[39m\n\u001b[91m\u001b[0m  ...\u001b[39m",
      "",
      "Stacktrace:",
      " [1] f(::Array{Int64,1}, ::Int64) at .\\In[464]:2",
      " [2] top-level scope at In[466]:1"
     ]
    }
   ],
   "source": [
    "plot(f(x,2),1,3)"
   ]
  },
  {
   "cell_type": "code",
   "execution_count": 489,
   "id": "8f052c8c",
   "metadata": {},
   "outputs": [
    {
     "data": {
      "text/plain": [
       "600"
      ]
     },
     "execution_count": 489,
     "metadata": {},
     "output_type": "execute_result"
    }
   ],
   "source": [
    "f(3,2)"
   ]
  },
  {
   "cell_type": "code",
   "execution_count": 490,
   "id": "cf02cc79",
   "metadata": {},
   "outputs": [
    {
     "data": {
      "text/plain": [
       "400"
      ]
     },
     "execution_count": 490,
     "metadata": {},
     "output_type": "execute_result"
    }
   ],
   "source": [
    "f(1,4)"
   ]
  },
  {
   "cell_type": "code",
   "execution_count": 491,
   "id": "923f0ac8",
   "metadata": {},
   "outputs": [
    {
     "data": {
      "text/plain": [
       "500"
      ]
     },
     "execution_count": 491,
     "metadata": {},
     "output_type": "execute_result"
    }
   ],
   "source": [
    "f(3,4)"
   ]
  },
  {
   "cell_type": "code",
   "execution_count": 135,
   "id": "35f0a39f",
   "metadata": {},
   "outputs": [
    {
     "data": {
      "text/plain": [
       "533.3333333333334"
      ]
     },
     "execution_count": 135,
     "metadata": {},
     "output_type": "execute_result"
    }
   ],
   "source": [
    "f(3.66666666667,3.33333333333)"
   ]
  },
  {
   "cell_type": "code",
   "execution_count": null,
   "id": "0c4df11f",
   "metadata": {},
   "outputs": [],
   "source": [
    "#Exercicio 1.7\n",
    "#x = [x0,x1,x2,x3,x4]\n",
    "#y = [y0,y1,y2,y3,y4,y5,y6,y7]\n",
    "function interpolação4(x,y)\n",
    "    #criar a matriz V\n",
    "    V=[x.^0 x.^1 x.^2 x.^3]\n",
    "    \n",
    "    #c=V\\y #resolver o sistema linear Vc=y\n",
    "    return c #vetor de coeficientes\n",
    "end"
   ]
  },
  {
   "cell_type": "code",
   "execution_count": 369,
   "id": "25d26525",
   "metadata": {
    "scrolled": true
   },
   "outputs": [
    {
     "data": {
      "text/plain": [
       "8×8 Array{Int64,2}:\n",
       " 1  -2  4  -8  0   0   0  0\n",
       " 1   1  1   1  0   0   0  0\n",
       " 1   0  0   0  0   0   0  0\n",
       " 0   0  0   0  1   0   0  0\n",
       " 0   0  0   0  1   1   1  1\n",
       " 0   0  0   0  1   2   4  8\n",
       " 0   1  0   0  0  -1   0  0\n",
       " 0   0  1   0  0   0  -1  0"
      ]
     },
     "execution_count": 369,
     "metadata": {},
     "output_type": "execute_result"
    }
   ],
   "source": [
    "#xs[x0, x1, x2, x3, x4]\n",
    "xs=[-2,1,0,1,2]\n",
    "y =[4, 1, 0, 0, 1, 4, 0, 0]\n",
    "\n",
    "px=[xs[1],xs[2],xs[3]]\n",
    "qx=[xs[3],xs[4],xs[5]]\n",
    "\n",
    "V=[px.^0 px.^1 px.^2 px.^3 px*0 px*0 px*0 px*0]\n",
    "W=[qx*0 qx*0 qx*0 qx*0 qx.^0 qx.^1 qx.^2 qx.^3]\n",
    "\n",
    "D1 = [0 1 2*xs[3]  3*((px[3])^2) 0 -1 -2*xs[3] -3*(xs[3]^2)]\n",
    "\n",
    "D2 = [0 0 1 6*xs[3] 0 0 -1 (-6)*xs[3]]\n",
    "\n",
    "matrizz=[V;W;D1;D2]"
   ]
  },
  {
   "cell_type": "code",
   "execution_count": 512,
   "id": "5510978f",
   "metadata": {},
   "outputs": [
    {
     "data": {
      "text/plain": [
       "interpolaPQ_e_plota (generic function with 1 method)"
      ]
     },
     "execution_count": 512,
     "metadata": {},
     "output_type": "execute_result"
    }
   ],
   "source": [
    "#Exercicio 1.7\n",
    "#x = [x0,x1,x2,x3,x4]\n",
    "#y = [y0,y1,y2,y3,y4,y5,y6,y7]\n",
    "function interpolaPQ_e_plota(xs,ys)\n",
    "    #criar a matriz\n",
    "    px=[xs[1],xs[2],xs[3]] #pontos x0 até x2 da função p(x)\n",
    "    qx=[xs[3],xs[4],xs[5]] #pontos x2 até x4 da função q(x) \n",
    "\n",
    "    p3=[px.^0 px.^1 px.^2 px.^3 px*0 px*0 px*0 px*0] #calculando as potencias de p3(x0) até p3(x2)\n",
    "    q3=[qx*0 qx*0 qx*0 qx*0 qx.^0 qx.^1 qx.^2 qx.^3] #calculando as potencias de q3(x2) até q3(x4)\n",
    "\n",
    "    D1 = [0 1 2*xs[3]  3*((px[3])^2) 0 -1 -2*xs[3] -3*(xs[3]^2)] #p'(x2)= q'(x2) -> p'(x2)-q'(x2) = 0\n",
    "                                                                 #derivada de p(x2) igual a derivada que q(x2)\n",
    "\n",
    "    D2 = [0 0 1 6*xs[3] 0 0 -1 (-6)*xs[3]] #p''(x2)= q''(x2) -> p''(x2)-q''(x2) = 0\n",
    "                                            #derivada de p(x2) igual a derivada que q(x2)\n",
    "\n",
    "    V=[p3;q3;D1;D2] #unindo tudo em uma matriz só \n",
    "    \n",
    "    y=[ys[1] ,ys[2],ys[3],ys[3],ys[4],ys[5],0,0] #os pontos de y passados como parametro,\n",
    "                                                 #repetindo o ponto ys[3] devido a junção das equaçoes no ponto x2 \n",
    "    \n",
    "    c=V\\y #resolver o sistema linear Vc=y\n",
    "    \n",
    "    p(x) = c[1] + c[2]*x + c[3]*x^2 + c[4]*x^3 #P3(x)\n",
    "    q(x) = c[5] + c[6]*x + c[7]*x^2 + c[8]*x^3 #Q3(x)\n",
    "        \n",
    "    plot(p,xs[1],xs[3],lw=3,c=:yellow,lab=\"p(x)\")  #plotando a equação p(x)\n",
    "    plot!(q,xs[3],xs[4],lw=3,c=:black,lab=\"q(x)\")  #plotando a equação q(x)\n",
    "    \n",
    "end"
   ]
  },
  {
   "cell_type": "code",
   "execution_count": 533,
   "id": "7baebbb4",
   "metadata": {},
   "outputs": [
    {
     "data": {
      "image/svg+xml": [
       "<?xml version=\"1.0\" encoding=\"utf-8\"?>\n",
       "<svg xmlns=\"http://www.w3.org/2000/svg\" xmlns:xlink=\"http://www.w3.org/1999/xlink\" width=\"600\" height=\"400\" viewBox=\"0 0 2400 1600\">\n",
       "<defs>\n",
       "  <clipPath id=\"clip440\">\n",
       "    <rect x=\"0\" y=\"0\" width=\"2400\" height=\"1600\"/>\n",
       "  </clipPath>\n",
       "</defs>\n",
       "<path clip-path=\"url(#clip440)\" d=\"\n",
       "M0 1600 L2400 1600 L2400 0 L0 0  Z\n",
       "  \" fill=\"#ffffff\" fill-rule=\"evenodd\" fill-opacity=\"1\"/>\n",
       "<defs>\n",
       "  <clipPath id=\"clip441\">\n",
       "    <rect x=\"480\" y=\"0\" width=\"1681\" height=\"1600\"/>\n",
       "  </clipPath>\n",
       "</defs>\n",
       "<path clip-path=\"url(#clip440)\" d=\"\n",
       "M134.584 1486.45 L2352.76 1486.45 L2352.76 47.2441 L134.584 47.2441  Z\n",
       "  \" fill=\"#ffffff\" fill-rule=\"evenodd\" fill-opacity=\"1\"/>\n",
       "<defs>\n",
       "  <clipPath id=\"clip442\">\n",
       "    <rect x=\"134\" y=\"47\" width=\"2219\" height=\"1440\"/>\n",
       "  </clipPath>\n",
       "</defs>\n",
       "<polyline clip-path=\"url(#clip442)\" style=\"stroke:#000000; stroke-width:2; stroke-opacity:0.1; fill:none\" points=\"\n",
       "  197.363,1486.45 197.363,47.2441 \n",
       "  \"/>\n",
       "<polyline clip-path=\"url(#clip442)\" style=\"stroke:#000000; stroke-width:2; stroke-opacity:0.1; fill:none\" points=\"\n",
       "  615.886,1486.45 615.886,47.2441 \n",
       "  \"/>\n",
       "<polyline clip-path=\"url(#clip442)\" style=\"stroke:#000000; stroke-width:2; stroke-opacity:0.1; fill:none\" points=\"\n",
       "  1034.41,1486.45 1034.41,47.2441 \n",
       "  \"/>\n",
       "<polyline clip-path=\"url(#clip442)\" style=\"stroke:#000000; stroke-width:2; stroke-opacity:0.1; fill:none\" points=\"\n",
       "  1452.93,1486.45 1452.93,47.2441 \n",
       "  \"/>\n",
       "<polyline clip-path=\"url(#clip442)\" style=\"stroke:#000000; stroke-width:2; stroke-opacity:0.1; fill:none\" points=\"\n",
       "  1871.45,1486.45 1871.45,47.2441 \n",
       "  \"/>\n",
       "<polyline clip-path=\"url(#clip442)\" style=\"stroke:#000000; stroke-width:2; stroke-opacity:0.1; fill:none\" points=\"\n",
       "  2289.98,1486.45 2289.98,47.2441 \n",
       "  \"/>\n",
       "<polyline clip-path=\"url(#clip442)\" style=\"stroke:#000000; stroke-width:2; stroke-opacity:0.1; fill:none\" points=\"\n",
       "  134.584,1445.72 2352.76,1445.72 \n",
       "  \"/>\n",
       "<polyline clip-path=\"url(#clip442)\" style=\"stroke:#000000; stroke-width:2; stroke-opacity:0.1; fill:none\" points=\"\n",
       "  134.584,1021.42 2352.76,1021.42 \n",
       "  \"/>\n",
       "<polyline clip-path=\"url(#clip442)\" style=\"stroke:#000000; stroke-width:2; stroke-opacity:0.1; fill:none\" points=\"\n",
       "  134.584,597.129 2352.76,597.129 \n",
       "  \"/>\n",
       "<polyline clip-path=\"url(#clip442)\" style=\"stroke:#000000; stroke-width:2; stroke-opacity:0.1; fill:none\" points=\"\n",
       "  134.584,172.835 2352.76,172.835 \n",
       "  \"/>\n",
       "<polyline clip-path=\"url(#clip440)\" style=\"stroke:#000000; stroke-width:4; stroke-opacity:1; fill:none\" points=\"\n",
       "  134.584,1486.45 2352.76,1486.45 \n",
       "  \"/>\n",
       "<polyline clip-path=\"url(#clip440)\" style=\"stroke:#000000; stroke-width:4; stroke-opacity:1; fill:none\" points=\"\n",
       "  134.584,1486.45 134.584,47.2441 \n",
       "  \"/>\n",
       "<polyline clip-path=\"url(#clip440)\" style=\"stroke:#000000; stroke-width:4; stroke-opacity:1; fill:none\" points=\"\n",
       "  197.363,1486.45 197.363,1469.18 \n",
       "  \"/>\n",
       "<polyline clip-path=\"url(#clip440)\" style=\"stroke:#000000; stroke-width:4; stroke-opacity:1; fill:none\" points=\"\n",
       "  615.886,1486.45 615.886,1469.18 \n",
       "  \"/>\n",
       "<polyline clip-path=\"url(#clip440)\" style=\"stroke:#000000; stroke-width:4; stroke-opacity:1; fill:none\" points=\"\n",
       "  1034.41,1486.45 1034.41,1469.18 \n",
       "  \"/>\n",
       "<polyline clip-path=\"url(#clip440)\" style=\"stroke:#000000; stroke-width:4; stroke-opacity:1; fill:none\" points=\"\n",
       "  1452.93,1486.45 1452.93,1469.18 \n",
       "  \"/>\n",
       "<polyline clip-path=\"url(#clip440)\" style=\"stroke:#000000; stroke-width:4; stroke-opacity:1; fill:none\" points=\"\n",
       "  1871.45,1486.45 1871.45,1469.18 \n",
       "  \"/>\n",
       "<polyline clip-path=\"url(#clip440)\" style=\"stroke:#000000; stroke-width:4; stroke-opacity:1; fill:none\" points=\"\n",
       "  2289.98,1486.45 2289.98,1469.18 \n",
       "  \"/>\n",
       "<polyline clip-path=\"url(#clip440)\" style=\"stroke:#000000; stroke-width:4; stroke-opacity:1; fill:none\" points=\"\n",
       "  134.584,1445.72 161.203,1445.72 \n",
       "  \"/>\n",
       "<polyline clip-path=\"url(#clip440)\" style=\"stroke:#000000; stroke-width:4; stroke-opacity:1; fill:none\" points=\"\n",
       "  134.584,1021.42 161.203,1021.42 \n",
       "  \"/>\n",
       "<polyline clip-path=\"url(#clip440)\" style=\"stroke:#000000; stroke-width:4; stroke-opacity:1; fill:none\" points=\"\n",
       "  134.584,597.129 161.203,597.129 \n",
       "  \"/>\n",
       "<polyline clip-path=\"url(#clip440)\" style=\"stroke:#000000; stroke-width:4; stroke-opacity:1; fill:none\" points=\"\n",
       "  134.584,172.835 161.203,172.835 \n",
       "  \"/>\n",
       "<path clip-path=\"url(#clip440)\" d=\"M 0 0 M177.375 1525.04 L189.851 1525.04 L189.851 1528.83 L177.375 1528.83 L177.375 1525.04 Z\" fill=\"#000000\" fill-rule=\"evenodd\" fill-opacity=\"1\" /><path clip-path=\"url(#clip440)\" d=\"M 0 0 M207.768 1509.43 L195.962 1527.88 L207.768 1527.88 L207.768 1509.43 M206.541 1505.36 L212.421 1505.36 L212.421 1527.88 L217.351 1527.88 L217.351 1531.77 L212.421 1531.77 L212.421 1539.92 L207.768 1539.92 L207.768 1531.77 L192.166 1531.77 L192.166 1527.26 L206.541 1505.36 Z\" fill=\"#000000\" fill-rule=\"evenodd\" fill-opacity=\"1\" /><path clip-path=\"url(#clip440)\" d=\"M 0 0 M596.465 1525.04 L608.941 1525.04 L608.941 1528.83 L596.465 1528.83 L596.465 1525.04 Z\" fill=\"#000000\" fill-rule=\"evenodd\" fill-opacity=\"1\" /><path clip-path=\"url(#clip440)\" d=\"M 0 0 M628.177 1521.29 Q631.534 1522 633.409 1524.27 Q635.307 1526.54 635.307 1529.87 Q635.307 1534.99 631.789 1537.79 Q628.27 1540.59 621.789 1540.59 Q619.613 1540.59 617.298 1540.15 Q615.006 1539.73 612.552 1538.88 L612.552 1534.36 Q614.497 1535.5 616.812 1536.08 Q619.127 1536.66 621.65 1536.66 Q626.048 1536.66 628.339 1534.92 Q630.654 1533.18 630.654 1529.87 Q630.654 1526.82 628.501 1525.11 Q626.372 1523.37 622.552 1523.37 L618.525 1523.37 L618.525 1519.53 L622.738 1519.53 Q626.187 1519.53 628.015 1518.16 Q629.844 1516.77 629.844 1514.18 Q629.844 1511.52 627.946 1510.11 Q626.071 1508.67 622.552 1508.67 Q620.631 1508.67 618.432 1509.09 Q616.233 1509.5 613.594 1510.38 L613.594 1506.22 Q616.256 1505.48 618.571 1505.11 Q620.909 1504.73 622.969 1504.73 Q628.293 1504.73 631.395 1507.17 Q634.497 1509.57 634.497 1513.69 Q634.497 1516.56 632.853 1518.55 Q631.21 1520.52 628.177 1521.29 Z\" fill=\"#000000\" fill-rule=\"evenodd\" fill-opacity=\"1\" /><path clip-path=\"url(#clip440)\" d=\"M 0 0 M1015.46 1525.04 L1027.94 1525.04 L1027.94 1528.83 L1015.46 1528.83 L1015.46 1525.04 Z\" fill=\"#000000\" fill-rule=\"evenodd\" fill-opacity=\"1\" /><path clip-path=\"url(#clip440)\" d=\"M 0 0 M1037.04 1535.98 L1053.36 1535.98 L1053.36 1539.92 L1031.41 1539.92 L1031.41 1535.98 Q1034.07 1533.23 1038.66 1528.6 Q1043.26 1523.95 1044.44 1522.61 Q1046.69 1520.08 1047.57 1518.35 Q1048.47 1516.59 1048.47 1514.9 Q1048.47 1512.14 1046.53 1510.41 Q1044.61 1508.67 1041.5 1508.67 Q1039.3 1508.67 1036.85 1509.43 Q1034.42 1510.2 1031.64 1511.75 L1031.64 1507.03 Q1034.47 1505.89 1036.92 1505.31 Q1039.37 1504.73 1041.41 1504.73 Q1046.78 1504.73 1049.98 1507.42 Q1053.17 1510.11 1053.17 1514.6 Q1053.17 1516.73 1052.36 1518.65 Q1051.57 1520.54 1049.47 1523.14 Q1048.89 1523.81 1045.79 1527.03 Q1042.68 1530.22 1037.04 1535.98 Z\" fill=\"#000000\" fill-rule=\"evenodd\" fill-opacity=\"1\" /><path clip-path=\"url(#clip440)\" d=\"M 0 0 M1433.8 1525.04 L1446.28 1525.04 L1446.28 1528.83 L1433.8 1528.83 L1433.8 1525.04 Z\" fill=\"#000000\" fill-rule=\"evenodd\" fill-opacity=\"1\" /><path clip-path=\"url(#clip440)\" d=\"M 0 0 M1452.16 1535.98 L1459.8 1535.98 L1459.8 1509.62 L1451.48 1511.29 L1451.48 1507.03 L1459.75 1505.36 L1464.42 1505.36 L1464.42 1535.98 L1472.06 1535.98 L1472.06 1539.92 L1452.16 1539.92 L1452.16 1535.98 Z\" fill=\"#000000\" fill-rule=\"evenodd\" fill-opacity=\"1\" /><path clip-path=\"url(#clip440)\" d=\"M 0 0 M1871.45 1508.44 Q1867.84 1508.44 1866.01 1512 Q1864.21 1515.55 1864.21 1522.67 Q1864.21 1529.78 1866.01 1533.35 Q1867.84 1536.89 1871.45 1536.89 Q1875.09 1536.89 1876.89 1533.35 Q1878.72 1529.78 1878.72 1522.67 Q1878.72 1515.55 1876.89 1512 Q1875.09 1508.44 1871.45 1508.44 M1871.45 1504.73 Q1877.26 1504.73 1880.32 1509.34 Q1883.4 1513.92 1883.4 1522.67 Q1883.4 1531.4 1880.32 1536.01 Q1877.26 1540.59 1871.45 1540.59 Q1865.64 1540.59 1862.57 1536.01 Q1859.51 1531.4 1859.51 1522.67 Q1859.51 1513.92 1862.57 1509.34 Q1865.64 1504.73 1871.45 1504.73 Z\" fill=\"#000000\" fill-rule=\"evenodd\" fill-opacity=\"1\" /><path clip-path=\"url(#clip440)\" d=\"M 0 0 M2280.36 1535.98 L2288 1535.98 L2288 1509.62 L2279.69 1511.29 L2279.69 1507.03 L2287.95 1505.36 L2292.63 1505.36 L2292.63 1535.98 L2300.27 1535.98 L2300.27 1539.92 L2280.36 1539.92 L2280.36 1535.98 Z\" fill=\"#000000\" fill-rule=\"evenodd\" fill-opacity=\"1\" /><path clip-path=\"url(#clip440)\" d=\"M 0 0 M98.6401 1431.51 Q95.029 1431.51 93.2003 1435.08 Q91.3948 1438.62 91.3948 1445.75 Q91.3948 1452.86 93.2003 1456.42 Q95.029 1459.96 98.6401 1459.96 Q102.274 1459.96 104.08 1456.42 Q105.909 1452.86 105.909 1445.75 Q105.909 1438.62 104.08 1435.08 Q102.274 1431.51 98.6401 1431.51 M98.6401 1427.81 Q104.45 1427.81 107.506 1432.42 Q110.584 1437 110.584 1445.75 Q110.584 1454.48 107.506 1459.08 Q104.45 1463.67 98.6401 1463.67 Q92.8299 1463.67 89.7512 1459.08 Q86.6957 1454.48 86.6957 1445.75 Q86.6957 1437 89.7512 1432.42 Q92.8299 1427.81 98.6401 1427.81 Z\" fill=\"#000000\" fill-rule=\"evenodd\" fill-opacity=\"1\" /><path clip-path=\"url(#clip440)\" d=\"M 0 0 M89.6818 1004.14 L108.038 1004.14 L108.038 1008.08 L93.9642 1008.08 L93.9642 1016.55 Q94.9827 1016.2 96.0012 1016.04 Q97.0197 1015.86 98.0382 1015.86 Q103.825 1015.86 107.205 1019.03 Q110.584 1022.2 110.584 1027.61 Q110.584 1033.19 107.112 1036.29 Q103.64 1039.37 97.3206 1039.37 Q95.1447 1039.37 92.8762 1039 Q90.6309 1038.63 88.2235 1037.89 L88.2235 1033.19 Q90.3068 1034.33 92.529 1034.88 Q94.7512 1035.44 97.2281 1035.44 Q101.233 1035.44 103.571 1033.33 Q105.909 1031.23 105.909 1027.61 Q105.909 1024 103.571 1021.9 Q101.233 1019.79 97.2281 1019.79 Q95.3531 1019.79 93.4781 1020.21 Q91.6262 1020.62 89.6818 1021.5 L89.6818 1004.14 Z\" fill=\"#000000\" fill-rule=\"evenodd\" fill-opacity=\"1\" /><path clip-path=\"url(#clip440)\" d=\"M 0 0 M63.6634 610.473 L71.3023 610.473 L71.3023 584.108 L62.9921 585.774 L62.9921 581.515 L71.256 579.849 L75.9319 579.849 L75.9319 610.473 L83.5707 610.473 L83.5707 614.409 L63.6634 614.409 L63.6634 610.473 Z\" fill=\"#000000\" fill-rule=\"evenodd\" fill-opacity=\"1\" /><path clip-path=\"url(#clip440)\" d=\"M 0 0 M98.6401 582.927 Q95.029 582.927 93.2003 586.492 Q91.3948 590.034 91.3948 597.163 Q91.3948 604.27 93.2003 607.835 Q95.029 611.376 98.6401 611.376 Q102.274 611.376 104.08 607.835 Q105.909 604.27 105.909 597.163 Q105.909 590.034 104.08 586.492 Q102.274 582.927 98.6401 582.927 M98.6401 579.224 Q104.45 579.224 107.506 583.83 Q110.584 588.413 110.584 597.163 Q110.584 605.89 107.506 610.497 Q104.45 615.08 98.6401 615.08 Q92.8299 615.08 89.7512 610.497 Q86.6957 605.89 86.6957 597.163 Q86.6957 588.413 89.7512 583.83 Q92.8299 579.224 98.6401 579.224 Z\" fill=\"#000000\" fill-rule=\"evenodd\" fill-opacity=\"1\" /><path clip-path=\"url(#clip440)\" d=\"M 0 0 M64.6588 186.18 L72.2976 186.18 L72.2976 159.814 L63.9875 161.481 L63.9875 157.222 L72.2513 155.555 L76.9272 155.555 L76.9272 186.18 L84.5661 186.18 L84.5661 190.115 L64.6588 190.115 L64.6588 186.18 Z\" fill=\"#000000\" fill-rule=\"evenodd\" fill-opacity=\"1\" /><path clip-path=\"url(#clip440)\" d=\"M 0 0 M89.6818 155.555 L108.038 155.555 L108.038 159.49 L93.9642 159.49 L93.9642 167.962 Q94.9827 167.615 96.0012 167.453 Q97.0197 167.268 98.0382 167.268 Q103.825 167.268 107.205 170.439 Q110.584 173.61 110.584 179.027 Q110.584 184.606 107.112 187.708 Q103.64 190.786 97.3206 190.786 Q95.1447 190.786 92.8762 190.416 Q90.6309 190.046 88.2235 189.305 L88.2235 184.606 Q90.3068 185.74 92.529 186.296 Q94.7512 186.851 97.2281 186.851 Q101.233 186.851 103.571 184.745 Q105.909 182.638 105.909 179.027 Q105.909 175.416 103.571 173.31 Q101.233 171.203 97.2281 171.203 Q95.3531 171.203 93.4781 171.62 Q91.6262 172.036 89.6818 172.916 L89.6818 155.555 Z\" fill=\"#000000\" fill-rule=\"evenodd\" fill-opacity=\"1\" /><polyline clip-path=\"url(#clip442)\" style=\"stroke:#ffff00; stroke-width:12; stroke-opacity:1; fill:none\" points=\"\n",
       "  197.363,87.9763 213.712,114.366 364.881,346.105 455.727,474.72 532.536,577.223 615.973,682.093 692.894,772.798 775.361,863.676 870.908,960.726 955.819,1039.55 \n",
       "  1030.28,1102.92 1111.46,1165.89 1193.12,1222.8 1283.41,1278.19 1369.32,1323.56 1458.64,1363.16 1533.83,1390.49 1625.63,1416.44 1711.93,1433.39 1850.18,1445.5 \n",
       "  1871.45,1445.72 \n",
       "  \"/>\n",
       "<polyline clip-path=\"url(#clip442)\" style=\"stroke:#000000; stroke-width:12; stroke-opacity:1; fill:none\" points=\"\n",
       "  1871.45,1445.72 1875.54,1445.71 1913.33,1444.87 1936.05,1443.69 1955.25,1442.31 1976.11,1440.41 1995.34,1438.28 2015.95,1435.6 2039.84,1431.98 2061.07,1428.3 \n",
       "  2079.68,1424.71 2099.98,1420.42 2120.39,1415.69 2142.97,1410 2164.44,1404.13 2186.77,1397.55 2205.57,1391.63 2228.52,1383.95 2250.1,1376.26 2284.66,1363 \n",
       "  2289.98,1360.86 \n",
       "  \"/>\n",
       "<path clip-path=\"url(#clip440)\" d=\"\n",
       "M1961.94 312.204 L2280.76 312.204 L2280.76 130.764 L1961.94 130.764  Z\n",
       "  \" fill=\"#ffffff\" fill-rule=\"evenodd\" fill-opacity=\"1\"/>\n",
       "<polyline clip-path=\"url(#clip440)\" style=\"stroke:#000000; stroke-width:4; stroke-opacity:1; fill:none\" points=\"\n",
       "  1961.94,312.204 2280.76,312.204 2280.76,130.764 1961.94,130.764 1961.94,312.204 \n",
       "  \"/>\n",
       "<polyline clip-path=\"url(#clip440)\" style=\"stroke:#ffff00; stroke-width:4; stroke-opacity:1; fill:none\" points=\"\n",
       "  1985.94,191.244 2129.94,191.244 \n",
       "  \"/>\n",
       "<path clip-path=\"url(#clip440)\" d=\"M 0 0 M2158.22 204.635 L2158.22 218.385 L2153.94 218.385 L2153.94 182.598 L2158.22 182.598 L2158.22 186.533 Q2159.56 184.219 2161.6 183.108 Q2163.66 181.973 2166.51 181.973 Q2171.23 181.973 2174.17 185.723 Q2177.13 189.473 2177.13 195.584 Q2177.13 201.695 2174.17 205.445 Q2171.23 209.195 2166.51 209.195 Q2163.66 209.195 2161.6 208.084 Q2159.56 206.95 2158.22 204.635 M2172.71 195.584 Q2172.71 190.885 2170.77 188.223 Q2168.84 185.538 2165.46 185.538 Q2162.08 185.538 2160.14 188.223 Q2158.22 190.885 2158.22 195.584 Q2158.22 200.283 2160.14 202.969 Q2162.08 205.631 2165.46 205.631 Q2168.84 205.631 2170.77 202.969 Q2172.71 200.283 2172.71 195.584 Z\" fill=\"#000000\" fill-rule=\"evenodd\" fill-opacity=\"1\" /><path clip-path=\"url(#clip440)\" d=\"M 0 0 M2191.83 172.552 Q2188.73 177.876 2187.22 183.084 Q2185.72 188.293 2185.72 193.64 Q2185.72 198.987 2187.22 204.242 Q2188.75 209.473 2191.83 214.774 L2188.13 214.774 Q2184.65 209.334 2182.92 204.08 Q2181.21 198.825 2181.21 193.64 Q2181.21 188.478 2182.92 183.246 Q2184.63 178.015 2188.13 172.552 L2191.83 172.552 Z\" fill=\"#000000\" fill-rule=\"evenodd\" fill-opacity=\"1\" /><path clip-path=\"url(#clip440)\" d=\"M 0 0 M2217.85 182.598 L2208.47 195.214 L2218.33 208.524 L2213.31 208.524 L2205.77 198.339 L2198.22 208.524 L2193.2 208.524 L2203.27 194.959 L2194.05 182.598 L2199.08 182.598 L2205.95 191.834 L2212.83 182.598 L2217.85 182.598 Z\" fill=\"#000000\" fill-rule=\"evenodd\" fill-opacity=\"1\" /><path clip-path=\"url(#clip440)\" d=\"M 0 0 M2222.13 172.552 L2225.83 172.552 Q2229.31 178.015 2231.02 183.246 Q2232.76 188.478 2232.76 193.64 Q2232.76 198.825 2231.02 204.08 Q2229.31 209.334 2225.83 214.774 L2222.13 214.774 Q2225.21 209.473 2226.71 204.242 Q2228.24 198.987 2228.24 193.64 Q2228.24 188.293 2226.71 183.084 Q2225.21 177.876 2222.13 172.552 Z\" fill=\"#000000\" fill-rule=\"evenodd\" fill-opacity=\"1\" /><polyline clip-path=\"url(#clip440)\" style=\"stroke:#000000; stroke-width:4; stroke-opacity:1; fill:none\" points=\"\n",
       "  1985.94,251.724 2129.94,251.724 \n",
       "  \"/>\n",
       "<path clip-path=\"url(#clip440)\" d=\"M 0 0 M2158.34 256.064 Q2158.34 260.763 2160.26 263.449 Q2162.2 266.111 2165.58 266.111 Q2168.96 266.111 2170.9 263.449 Q2172.85 260.763 2172.85 256.064 Q2172.85 251.365 2170.9 248.703 Q2168.96 246.018 2165.58 246.018 Q2162.2 246.018 2160.26 248.703 Q2158.34 251.365 2158.34 256.064 M2172.85 265.115 Q2171.51 267.43 2169.45 268.564 Q2167.41 269.675 2164.54 269.675 Q2159.84 269.675 2156.88 265.925 Q2153.94 262.175 2153.94 256.064 Q2153.94 249.953 2156.88 246.203 Q2159.84 242.453 2164.54 242.453 Q2167.41 242.453 2169.45 243.588 Q2171.51 244.699 2172.85 247.013 L2172.85 243.078 L2177.11 243.078 L2177.11 278.865 L2172.85 278.865 L2172.85 265.115 Z\" fill=\"#000000\" fill-rule=\"evenodd\" fill-opacity=\"1\" /><path clip-path=\"url(#clip440)\" d=\"M 0 0 M2191.81 233.032 Q2188.71 238.356 2187.2 243.564 Q2185.7 248.773 2185.7 254.12 Q2185.7 259.467 2187.2 264.722 Q2188.73 269.953 2191.81 275.254 L2188.1 275.254 Q2184.63 269.814 2182.9 264.56 Q2181.18 259.305 2181.18 254.12 Q2181.18 248.958 2182.9 243.726 Q2184.61 238.495 2188.1 233.032 L2191.81 233.032 Z\" fill=\"#000000\" fill-rule=\"evenodd\" fill-opacity=\"1\" /><path clip-path=\"url(#clip440)\" d=\"M 0 0 M2217.83 243.078 L2208.45 255.694 L2218.31 269.004 L2213.29 269.004 L2205.74 258.819 L2198.2 269.004 L2193.17 269.004 L2203.24 255.439 L2194.03 243.078 L2199.05 243.078 L2205.93 252.314 L2212.8 243.078 L2217.83 243.078 Z\" fill=\"#000000\" fill-rule=\"evenodd\" fill-opacity=\"1\" /><path clip-path=\"url(#clip440)\" d=\"M 0 0 M2222.11 233.032 L2225.81 233.032 Q2229.28 238.495 2231 243.726 Q2232.73 248.958 2232.73 254.12 Q2232.73 259.305 2231 264.56 Q2229.28 269.814 2225.81 275.254 L2222.11 275.254 Q2225.19 269.953 2226.69 264.722 Q2228.22 259.467 2228.22 254.12 Q2228.22 248.773 2226.69 243.564 Q2225.19 238.356 2222.11 233.032 Z\" fill=\"#000000\" fill-rule=\"evenodd\" fill-opacity=\"1\" /></svg>\n"
      ]
     },
     "execution_count": 533,
     "metadata": {},
     "output_type": "execute_result"
    }
   ],
   "source": [
    "x=[-4, -1, 0, 1, 4]\n",
    "y=[16, 1, 0, 1, 16]\n",
    "\n",
    "interpolaPQ_e_plota(x,y)"
   ]
  },
  {
   "cell_type": "code",
   "execution_count": null,
   "id": "05175d82",
   "metadata": {},
   "outputs": [],
   "source": []
  },
  {
   "cell_type": "code",
   "execution_count": 2,
   "id": "70d4e1e7",
   "metadata": {},
   "outputs": [
    {
     "name": "stdout",
     "output_type": "stream",
     "text": [
      "\u001b[32m\u001b[1m  Updating\u001b[22m\u001b[39m registry at `C:\\Users\\rodri\\.julia\\registries\\General`\n",
      "\u001b[32m\u001b[1m  Updating\u001b[22m\u001b[39m git-repo `https://github.com/JuliaRegistries/General.git`\n",
      "\u001b[2K\u001b[?25h[1mFetching:\u001b[22m\u001b[39m [========================================>]  100.0 %.0 %\u001b[32m\u001b[1m Resolving\u001b[22m\u001b[39m package versions...\n",
      "\u001b[32m\u001b[1m  Updating\u001b[22m\u001b[39m `C:\\Users\\rodri\\Calculo numérico\\Project.toml`\n",
      "\u001b[90m [no changes]\u001b[39m\n",
      "\u001b[32m\u001b[1m  Updating\u001b[22m\u001b[39m `C:\\Users\\rodri\\Calculo numérico\\Manifest.toml`\n",
      "\u001b[90m [no changes]\u001b[39m\n",
      "\u001b[32m\u001b[1m Resolving\u001b[22m\u001b[39m package versions...\n",
      "\u001b[32m\u001b[1m  Updating\u001b[22m\u001b[39m `C:\\Users\\rodri\\Calculo numérico\\Project.toml`\n",
      "\u001b[90m [no changes]\u001b[39m\n",
      "\u001b[32m\u001b[1m  Updating\u001b[22m\u001b[39m `C:\\Users\\rodri\\Calculo numérico\\Manifest.toml`\n",
      "\u001b[90m [no changes]\u001b[39m\n",
      "\u001b[32m\u001b[1m Resolving\u001b[22m\u001b[39m package versions...\n",
      "\u001b[32m\u001b[1m  Updating\u001b[22m\u001b[39m `C:\\Users\\rodri\\Calculo numérico\\Project.toml`\n",
      "\u001b[90m [no changes]\u001b[39m\n",
      "\u001b[32m\u001b[1m  Updating\u001b[22m\u001b[39m `C:\\Users\\rodri\\Calculo numérico\\Manifest.toml`\n",
      "\u001b[90m [no changes]\u001b[39m\n",
      "\u001b[32m\u001b[1m Resolving\u001b[22m\u001b[39m package versions...\n",
      "\u001b[32m\u001b[1m  Updating\u001b[22m\u001b[39m `C:\\Users\\rodri\\Calculo numérico\\Project.toml`\n",
      "\u001b[90m [no changes]\u001b[39m\n",
      "\u001b[32m\u001b[1m  Updating\u001b[22m\u001b[39m `C:\\Users\\rodri\\Calculo numérico\\Manifest.toml`\n",
      "\u001b[90m [no changes]\u001b[39m\n"
     ]
    }
   ],
   "source": [
    "using Pkg\n",
    "pkg\"activate .\"\n",
    "pkg\"add Plots\"\n",
    "pkg\"add GR\"\n",
    "pkg\"add ORCA\"\n",
    "pkg\"add PlotlyJS\""
   ]
  },
  {
   "cell_type": "code",
   "execution_count": 3,
   "id": "dfd395c9",
   "metadata": {},
   "outputs": [
    {
     "name": "stdout",
     "output_type": "stream",
     "text": [
      "\u001b[32m\u001b[1m    Status\u001b[22m\u001b[39m `C:\\Users\\rodri\\Calculo numérico\\Project.toml`\n",
      " \u001b[90m [28b8d3ca]\u001b[39m\u001b[37m GR v0.50.1\u001b[39m\n",
      " \u001b[90m [47be7bcc]\u001b[39m\u001b[37m ORCA v0.3.1\u001b[39m\n",
      " \u001b[90m [f0f68f2c]\u001b[39m\u001b[37m PlotlyJS v0.13.1\u001b[39m\n",
      " \u001b[90m [91a5bcdd]\u001b[39m\u001b[37m Plots v1.4.3\u001b[39m\n"
     ]
    }
   ],
   "source": [
    "pkg\"status\""
   ]
  },
  {
   "cell_type": "code",
   "execution_count": 5,
   "id": "e7c23e75",
   "metadata": {},
   "outputs": [],
   "source": [
    "using Plots"
   ]
  },
  {
   "cell_type": "code",
   "execution_count": 517,
   "id": "5c1a8ff3",
   "metadata": {},
   "outputs": [
    {
     "ename": "UndefVarError",
     "evalue": "\u001b[91mUndefVarError: p not defined\u001b[39m",
     "output_type": "error",
     "traceback": [
      "\u001b[91mUndefVarError: p not defined\u001b[39m",
      "",
      "Stacktrace:",
      " [1] top-level scope at In[517]:1"
     ]
    }
   ],
   "source": [
    "plot(p,-10,54,lw=3,c=:yellow,lab=\"p(x)\")\n",
    "plot!(q,53,100,lw=3,c=:black,lab=\"q(x)\")"
   ]
  },
  {
   "cell_type": "markdown",
   "id": "db50cbd2",
   "metadata": {},
   "source": []
  },
  {
   "cell_type": "code",
   "execution_count": 344,
   "id": "3619dd10",
   "metadata": {},
   "outputs": [
    {
     "data": {
      "text/plain": [
       "1600.0"
      ]
     },
     "execution_count": 344,
     "metadata": {},
     "output_type": "execute_result"
    }
   ],
   "source": [
    "p(40)"
   ]
  },
  {
   "cell_type": "code",
   "execution_count": 345,
   "id": "fe95fefd",
   "metadata": {},
   "outputs": [
    {
     "data": {
      "text/plain": [
       "1600.0"
      ]
     },
     "execution_count": 345,
     "metadata": {},
     "output_type": "execute_result"
    }
   ],
   "source": [
    "q(40)"
   ]
  },
  {
   "cell_type": "code",
   "execution_count": 319,
   "id": "149ba550",
   "metadata": {},
   "outputs": [
    {
     "data": {
      "text/plain": [
       "60.00000000000006"
      ]
     },
     "execution_count": 319,
     "metadata": {},
     "output_type": "execute_result"
    }
   ],
   "source": []
  },
  {
   "cell_type": "code",
   "execution_count": null,
   "id": "5238770b",
   "metadata": {},
   "outputs": [],
   "source": []
  },
  {
   "cell_type": "code",
   "execution_count": null,
   "id": "5d5f277b",
   "metadata": {},
   "outputs": [],
   "source": []
  },
  {
   "cell_type": "code",
   "execution_count": 33,
   "id": "94256448",
   "metadata": {},
   "outputs": [
    {
     "data": {
      "text/plain": [
       "vandermonde (generic function with 1 method)"
      ]
     },
     "execution_count": 33,
     "metadata": {},
     "output_type": "execute_result"
    }
   ],
   "source": [
    "#execicio 1.2\n",
    "function vandermonde(x,y,grau)\n",
    "    n,=size(y)\n",
    "    V=zeros(n, grau+1)\n",
    "    for i=1:n #linhas\n",
    "        for j=1:(grau+1)\n",
    "            V[i,j]=x[i]^(j-1)\n",
    "        end\n",
    "    end\n",
    "    return V\n",
    "end"
   ]
  },
  {
   "cell_type": "code",
   "execution_count": 34,
   "id": "242fa64d",
   "metadata": {},
   "outputs": [
    {
     "data": {
      "text/plain": [
       "regressão (generic function with 1 method)"
      ]
     },
     "execution_count": 34,
     "metadata": {},
     "output_type": "execute_result"
    }
   ],
   "source": [
    "function regressão(x,y,grau)\n",
    "    V=vandermonde(x,y,grau)\n",
    "    c=V\\y #minimos quadrados\n",
    "    return c\n",
    "end"
   ]
  },
  {
   "cell_type": "code",
   "execution_count": 35,
   "id": "d1b63b33",
   "metadata": {},
   "outputs": [
    {
     "data": {
      "image/svg+xml": [
       "<?xml version=\"1.0\" encoding=\"utf-8\"?>\n",
       "<svg xmlns=\"http://www.w3.org/2000/svg\" xmlns:xlink=\"http://www.w3.org/1999/xlink\" width=\"600\" height=\"400\" viewBox=\"0 0 2400 1600\">\n",
       "<defs>\n",
       "  <clipPath id=\"clip580\">\n",
       "    <rect x=\"0\" y=\"0\" width=\"2400\" height=\"1600\"/>\n",
       "  </clipPath>\n",
       "</defs>\n",
       "<path clip-path=\"url(#clip580)\" d=\"\n",
       "M0 1600 L2400 1600 L2400 0 L0 0  Z\n",
       "  \" fill=\"#ffffff\" fill-rule=\"evenodd\" fill-opacity=\"1\"/>\n",
       "<defs>\n",
       "  <clipPath id=\"clip581\">\n",
       "    <rect x=\"480\" y=\"0\" width=\"1681\" height=\"1600\"/>\n",
       "  </clipPath>\n",
       "</defs>\n",
       "<path clip-path=\"url(#clip580)\" d=\"\n",
       "M137.246 1486.45 L2352.76 1486.45 L2352.76 47.2441 L137.246 47.2441  Z\n",
       "  \" fill=\"#ffffff\" fill-rule=\"evenodd\" fill-opacity=\"1\"/>\n",
       "<defs>\n",
       "  <clipPath id=\"clip582\">\n",
       "    <rect x=\"137\" y=\"47\" width=\"2217\" height=\"1440\"/>\n",
       "  </clipPath>\n",
       "</defs>\n",
       "<polyline clip-path=\"url(#clip582)\" style=\"stroke:#000000; stroke-width:2; stroke-opacity:0.1; fill:none\" points=\"\n",
       "  199.95,1486.45 199.95,47.2441 \n",
       "  \"/>\n",
       "<polyline clip-path=\"url(#clip582)\" style=\"stroke:#000000; stroke-width:2; stroke-opacity:0.1; fill:none\" points=\"\n",
       "  617.97,1486.45 617.97,47.2441 \n",
       "  \"/>\n",
       "<polyline clip-path=\"url(#clip582)\" style=\"stroke:#000000; stroke-width:2; stroke-opacity:0.1; fill:none\" points=\"\n",
       "  1035.99,1486.45 1035.99,47.2441 \n",
       "  \"/>\n",
       "<polyline clip-path=\"url(#clip582)\" style=\"stroke:#000000; stroke-width:2; stroke-opacity:0.1; fill:none\" points=\"\n",
       "  1454.01,1486.45 1454.01,47.2441 \n",
       "  \"/>\n",
       "<polyline clip-path=\"url(#clip582)\" style=\"stroke:#000000; stroke-width:2; stroke-opacity:0.1; fill:none\" points=\"\n",
       "  1872.03,1486.45 1872.03,47.2441 \n",
       "  \"/>\n",
       "<polyline clip-path=\"url(#clip582)\" style=\"stroke:#000000; stroke-width:2; stroke-opacity:0.1; fill:none\" points=\"\n",
       "  2290.05,1486.45 2290.05,47.2441 \n",
       "  \"/>\n",
       "<polyline clip-path=\"url(#clip582)\" style=\"stroke:#000000; stroke-width:2; stroke-opacity:0.1; fill:none\" points=\"\n",
       "  137.246,1240.86 2352.76,1240.86 \n",
       "  \"/>\n",
       "<polyline clip-path=\"url(#clip582)\" style=\"stroke:#000000; stroke-width:2; stroke-opacity:0.1; fill:none\" points=\"\n",
       "  137.246,955.168 2352.76,955.168 \n",
       "  \"/>\n",
       "<polyline clip-path=\"url(#clip582)\" style=\"stroke:#000000; stroke-width:2; stroke-opacity:0.1; fill:none\" points=\"\n",
       "  137.246,669.472 2352.76,669.472 \n",
       "  \"/>\n",
       "<polyline clip-path=\"url(#clip582)\" style=\"stroke:#000000; stroke-width:2; stroke-opacity:0.1; fill:none\" points=\"\n",
       "  137.246,383.776 2352.76,383.776 \n",
       "  \"/>\n",
       "<polyline clip-path=\"url(#clip582)\" style=\"stroke:#000000; stroke-width:2; stroke-opacity:0.1; fill:none\" points=\"\n",
       "  137.246,98.0798 2352.76,98.0798 \n",
       "  \"/>\n",
       "<polyline clip-path=\"url(#clip580)\" style=\"stroke:#000000; stroke-width:4; stroke-opacity:1; fill:none\" points=\"\n",
       "  137.246,1486.45 2352.76,1486.45 \n",
       "  \"/>\n",
       "<polyline clip-path=\"url(#clip580)\" style=\"stroke:#000000; stroke-width:4; stroke-opacity:1; fill:none\" points=\"\n",
       "  137.246,1486.45 137.246,47.2441 \n",
       "  \"/>\n",
       "<polyline clip-path=\"url(#clip580)\" style=\"stroke:#000000; stroke-width:4; stroke-opacity:1; fill:none\" points=\"\n",
       "  199.95,1486.45 199.95,1469.18 \n",
       "  \"/>\n",
       "<polyline clip-path=\"url(#clip580)\" style=\"stroke:#000000; stroke-width:4; stroke-opacity:1; fill:none\" points=\"\n",
       "  617.97,1486.45 617.97,1469.18 \n",
       "  \"/>\n",
       "<polyline clip-path=\"url(#clip580)\" style=\"stroke:#000000; stroke-width:4; stroke-opacity:1; fill:none\" points=\"\n",
       "  1035.99,1486.45 1035.99,1469.18 \n",
       "  \"/>\n",
       "<polyline clip-path=\"url(#clip580)\" style=\"stroke:#000000; stroke-width:4; stroke-opacity:1; fill:none\" points=\"\n",
       "  1454.01,1486.45 1454.01,1469.18 \n",
       "  \"/>\n",
       "<polyline clip-path=\"url(#clip580)\" style=\"stroke:#000000; stroke-width:4; stroke-opacity:1; fill:none\" points=\"\n",
       "  1872.03,1486.45 1872.03,1469.18 \n",
       "  \"/>\n",
       "<polyline clip-path=\"url(#clip580)\" style=\"stroke:#000000; stroke-width:4; stroke-opacity:1; fill:none\" points=\"\n",
       "  2290.05,1486.45 2290.05,1469.18 \n",
       "  \"/>\n",
       "<polyline clip-path=\"url(#clip580)\" style=\"stroke:#000000; stroke-width:4; stroke-opacity:1; fill:none\" points=\"\n",
       "  137.246,1240.86 163.833,1240.86 \n",
       "  \"/>\n",
       "<polyline clip-path=\"url(#clip580)\" style=\"stroke:#000000; stroke-width:4; stroke-opacity:1; fill:none\" points=\"\n",
       "  137.246,955.168 163.833,955.168 \n",
       "  \"/>\n",
       "<polyline clip-path=\"url(#clip580)\" style=\"stroke:#000000; stroke-width:4; stroke-opacity:1; fill:none\" points=\"\n",
       "  137.246,669.472 163.833,669.472 \n",
       "  \"/>\n",
       "<polyline clip-path=\"url(#clip580)\" style=\"stroke:#000000; stroke-width:4; stroke-opacity:1; fill:none\" points=\"\n",
       "  137.246,383.776 163.833,383.776 \n",
       "  \"/>\n",
       "<polyline clip-path=\"url(#clip580)\" style=\"stroke:#000000; stroke-width:4; stroke-opacity:1; fill:none\" points=\"\n",
       "  137.246,98.0798 163.833,98.0798 \n",
       "  \"/>\n",
       "<path clip-path=\"url(#clip580)\" d=\"M 0 0 M158.839 1535.98 L166.478 1535.98 L166.478 1509.62 L158.167 1511.29 L158.167 1507.03 L166.431 1505.36 L171.107 1505.36 L171.107 1535.98 L178.746 1535.98 L178.746 1539.92 L158.839 1539.92 L158.839 1535.98 Z\" fill=\"#000000\" fill-rule=\"evenodd\" fill-opacity=\"1\" /><path clip-path=\"url(#clip580)\" d=\"M 0 0 M183.862 1505.36 L202.218 1505.36 L202.218 1509.3 L188.144 1509.3 L188.144 1517.77 Q189.163 1517.42 190.181 1517.26 Q191.2 1517.07 192.218 1517.07 Q198.005 1517.07 201.385 1520.24 Q204.764 1523.42 204.764 1528.83 Q204.764 1534.41 201.292 1537.51 Q197.82 1540.59 191.501 1540.59 Q189.325 1540.59 187.056 1540.22 Q184.811 1539.85 182.403 1539.11 L182.403 1534.41 Q184.487 1535.54 186.709 1536.1 Q188.931 1536.66 191.408 1536.66 Q195.413 1536.66 197.751 1534.55 Q200.088 1532.44 200.088 1528.83 Q200.088 1525.22 197.751 1523.11 Q195.413 1521.01 191.408 1521.01 Q189.533 1521.01 187.658 1521.42 Q185.806 1521.84 183.862 1522.72 L183.862 1505.36 Z\" fill=\"#000000\" fill-rule=\"evenodd\" fill-opacity=\"1\" /><path clip-path=\"url(#clip580)\" d=\"M 0 0 M209.834 1534.04 L214.718 1534.04 L214.718 1539.92 L209.834 1539.92 L209.834 1534.04 Z\" fill=\"#000000\" fill-rule=\"evenodd\" fill-opacity=\"1\" /><path clip-path=\"url(#clip580)\" d=\"M 0 0 M229.787 1508.44 Q226.176 1508.44 224.348 1512 Q222.542 1515.55 222.542 1522.67 Q222.542 1529.78 224.348 1533.35 Q226.176 1536.89 229.787 1536.89 Q233.422 1536.89 235.227 1533.35 Q237.056 1529.78 237.056 1522.67 Q237.056 1515.55 235.227 1512 Q233.422 1508.44 229.787 1508.44 M229.787 1504.73 Q235.598 1504.73 238.653 1509.34 Q241.732 1513.92 241.732 1522.67 Q241.732 1531.4 238.653 1536.01 Q235.598 1540.59 229.787 1540.59 Q223.977 1540.59 220.899 1536.01 Q217.843 1531.4 217.843 1522.67 Q217.843 1513.92 220.899 1509.34 Q223.977 1504.73 229.787 1504.73 Z\" fill=\"#000000\" fill-rule=\"evenodd\" fill-opacity=\"1\" /><path clip-path=\"url(#clip580)\" d=\"M 0 0 M577.357 1535.98 L584.996 1535.98 L584.996 1509.62 L576.686 1511.29 L576.686 1507.03 L584.95 1505.36 L589.625 1505.36 L589.625 1535.98 L597.264 1535.98 L597.264 1539.92 L577.357 1539.92 L577.357 1535.98 Z\" fill=\"#000000\" fill-rule=\"evenodd\" fill-opacity=\"1\" /><path clip-path=\"url(#clip580)\" d=\"M 0 0 M602.38 1505.36 L620.736 1505.36 L620.736 1509.3 L606.662 1509.3 L606.662 1517.77 Q607.681 1517.42 608.699 1517.26 Q609.718 1517.07 610.736 1517.07 Q616.523 1517.07 619.903 1520.24 Q623.283 1523.42 623.283 1528.83 Q623.283 1534.41 619.81 1537.51 Q616.338 1540.59 610.019 1540.59 Q607.843 1540.59 605.574 1540.22 Q603.329 1539.85 600.922 1539.11 L600.922 1534.41 Q603.005 1535.54 605.227 1536.1 Q607.449 1536.66 609.926 1536.66 Q613.931 1536.66 616.269 1534.55 Q618.607 1532.44 618.607 1528.83 Q618.607 1525.22 616.269 1523.11 Q613.931 1521.01 609.926 1521.01 Q608.051 1521.01 606.176 1521.42 Q604.324 1521.84 602.38 1522.72 L602.38 1505.36 Z\" fill=\"#000000\" fill-rule=\"evenodd\" fill-opacity=\"1\" /><path clip-path=\"url(#clip580)\" d=\"M 0 0 M628.352 1534.04 L633.236 1534.04 L633.236 1539.92 L628.352 1539.92 L628.352 1534.04 Z\" fill=\"#000000\" fill-rule=\"evenodd\" fill-opacity=\"1\" /><path clip-path=\"url(#clip580)\" d=\"M 0 0 M638.352 1505.36 L656.708 1505.36 L656.708 1509.3 L642.634 1509.3 L642.634 1517.77 Q643.653 1517.42 644.671 1517.26 Q645.69 1517.07 646.709 1517.07 Q652.496 1517.07 655.875 1520.24 Q659.255 1523.42 659.255 1528.83 Q659.255 1534.41 655.783 1537.51 Q652.31 1540.59 645.991 1540.59 Q643.815 1540.59 641.546 1540.22 Q639.301 1539.85 636.894 1539.11 L636.894 1534.41 Q638.977 1535.54 641.199 1536.1 Q643.421 1536.66 645.898 1536.66 Q649.903 1536.66 652.241 1534.55 Q654.579 1532.44 654.579 1528.83 Q654.579 1525.22 652.241 1523.11 Q649.903 1521.01 645.898 1521.01 Q644.023 1521.01 642.148 1521.42 Q640.296 1521.84 638.352 1522.72 L638.352 1505.36 Z\" fill=\"#000000\" fill-rule=\"evenodd\" fill-opacity=\"1\" /><path clip-path=\"url(#clip580)\" d=\"M 0 0 M994.301 1535.98 L1001.94 1535.98 L1001.94 1509.62 L993.63 1511.29 L993.63 1507.03 L1001.89 1505.36 L1006.57 1505.36 L1006.57 1535.98 L1014.21 1535.98 L1014.21 1539.92 L994.301 1539.92 L994.301 1535.98 Z\" fill=\"#000000\" fill-rule=\"evenodd\" fill-opacity=\"1\" /><path clip-path=\"url(#clip580)\" d=\"M 0 0 M1029.86 1520.78 Q1026.71 1520.78 1024.86 1522.93 Q1023.03 1525.08 1023.03 1528.83 Q1023.03 1532.56 1024.86 1534.73 Q1026.71 1536.89 1029.86 1536.89 Q1033 1536.89 1034.83 1534.73 Q1036.69 1532.56 1036.69 1528.83 Q1036.69 1525.08 1034.83 1522.93 Q1033 1520.78 1029.86 1520.78 M1039.14 1506.12 L1039.14 1510.38 Q1037.38 1509.55 1035.57 1509.11 Q1033.79 1508.67 1032.03 1508.67 Q1027.4 1508.67 1024.95 1511.8 Q1022.52 1514.92 1022.17 1521.24 Q1023.54 1519.23 1025.6 1518.16 Q1027.66 1517.07 1030.13 1517.07 Q1035.34 1517.07 1038.35 1520.24 Q1041.38 1523.39 1041.38 1528.83 Q1041.38 1534.16 1038.24 1537.37 Q1035.09 1540.59 1029.86 1540.59 Q1023.86 1540.59 1020.69 1536.01 Q1017.52 1531.4 1017.52 1522.67 Q1017.52 1514.48 1021.41 1509.62 Q1025.3 1504.73 1031.85 1504.73 Q1033.61 1504.73 1035.39 1505.08 Q1037.19 1505.43 1039.14 1506.12 Z\" fill=\"#000000\" fill-rule=\"evenodd\" fill-opacity=\"1\" /><path clip-path=\"url(#clip580)\" d=\"M 0 0 M1046.45 1534.04 L1051.34 1534.04 L1051.34 1539.92 L1046.45 1539.92 L1046.45 1534.04 Z\" fill=\"#000000\" fill-rule=\"evenodd\" fill-opacity=\"1\" /><path clip-path=\"url(#clip580)\" d=\"M 0 0 M1066.41 1508.44 Q1062.8 1508.44 1060.97 1512 Q1059.16 1515.55 1059.16 1522.67 Q1059.16 1529.78 1060.97 1533.35 Q1062.8 1536.89 1066.41 1536.89 Q1070.04 1536.89 1071.85 1533.35 Q1073.68 1529.78 1073.68 1522.67 Q1073.68 1515.55 1071.85 1512 Q1070.04 1508.44 1066.41 1508.44 M1066.41 1504.73 Q1072.22 1504.73 1075.27 1509.34 Q1078.35 1513.92 1078.35 1522.67 Q1078.35 1531.4 1075.27 1536.01 Q1072.22 1540.59 1066.41 1540.59 Q1060.6 1540.59 1057.52 1536.01 Q1054.46 1531.4 1054.46 1522.67 Q1054.46 1513.92 1057.52 1509.34 Q1060.6 1504.73 1066.41 1504.73 Z\" fill=\"#000000\" fill-rule=\"evenodd\" fill-opacity=\"1\" /><path clip-path=\"url(#clip580)\" d=\"M 0 0 M1412.82 1535.98 L1420.46 1535.98 L1420.46 1509.62 L1412.15 1511.29 L1412.15 1507.03 L1420.41 1505.36 L1425.09 1505.36 L1425.09 1535.98 L1432.73 1535.98 L1432.73 1539.92 L1412.82 1539.92 L1412.82 1535.98 Z\" fill=\"#000000\" fill-rule=\"evenodd\" fill-opacity=\"1\" /><path clip-path=\"url(#clip580)\" d=\"M 0 0 M1448.37 1520.78 Q1445.23 1520.78 1443.38 1522.93 Q1441.55 1525.08 1441.55 1528.83 Q1441.55 1532.56 1443.38 1534.73 Q1445.23 1536.89 1448.37 1536.89 Q1451.52 1536.89 1453.35 1534.73 Q1455.2 1532.56 1455.2 1528.83 Q1455.2 1525.08 1453.35 1522.93 Q1451.52 1520.78 1448.37 1520.78 M1457.66 1506.12 L1457.66 1510.38 Q1455.9 1509.55 1454.09 1509.11 Q1452.31 1508.67 1450.55 1508.67 Q1445.92 1508.67 1443.47 1511.8 Q1441.04 1514.92 1440.69 1521.24 Q1442.06 1519.23 1444.12 1518.16 Q1446.18 1517.07 1448.65 1517.07 Q1453.86 1517.07 1456.87 1520.24 Q1459.9 1523.39 1459.9 1528.83 Q1459.9 1534.16 1456.75 1537.37 Q1453.61 1540.59 1448.37 1540.59 Q1442.38 1540.59 1439.21 1536.01 Q1436.04 1531.4 1436.04 1522.67 Q1436.04 1514.48 1439.93 1509.62 Q1443.81 1504.73 1450.37 1504.73 Q1452.12 1504.73 1453.91 1505.08 Q1455.71 1505.43 1457.66 1506.12 Z\" fill=\"#000000\" fill-rule=\"evenodd\" fill-opacity=\"1\" /><path clip-path=\"url(#clip580)\" d=\"M 0 0 M1464.97 1534.04 L1469.86 1534.04 L1469.86 1539.92 L1464.97 1539.92 L1464.97 1534.04 Z\" fill=\"#000000\" fill-rule=\"evenodd\" fill-opacity=\"1\" /><path clip-path=\"url(#clip580)\" d=\"M 0 0 M1474.97 1505.36 L1493.33 1505.36 L1493.33 1509.3 L1479.25 1509.3 L1479.25 1517.77 Q1480.27 1517.42 1481.29 1517.26 Q1482.31 1517.07 1483.33 1517.07 Q1489.12 1517.07 1492.5 1520.24 Q1495.87 1523.42 1495.87 1528.83 Q1495.87 1534.41 1492.4 1537.51 Q1488.93 1540.59 1482.61 1540.59 Q1480.43 1540.59 1478.17 1540.22 Q1475.92 1539.85 1473.51 1539.11 L1473.51 1534.41 Q1475.6 1535.54 1477.82 1536.1 Q1480.04 1536.66 1482.52 1536.66 Q1486.52 1536.66 1488.86 1534.55 Q1491.2 1532.44 1491.2 1528.83 Q1491.2 1525.22 1488.86 1523.11 Q1486.52 1521.01 1482.52 1521.01 Q1480.64 1521.01 1478.77 1521.42 Q1476.92 1521.84 1474.97 1522.72 L1474.97 1505.36 Z\" fill=\"#000000\" fill-rule=\"evenodd\" fill-opacity=\"1\" /><path clip-path=\"url(#clip580)\" d=\"M 0 0 M1830.87 1535.98 L1838.51 1535.98 L1838.51 1509.62 L1830.2 1511.29 L1830.2 1507.03 L1838.47 1505.36 L1843.14 1505.36 L1843.14 1535.98 L1850.78 1535.98 L1850.78 1539.92 L1830.87 1539.92 L1830.87 1535.98 Z\" fill=\"#000000\" fill-rule=\"evenodd\" fill-opacity=\"1\" /><path clip-path=\"url(#clip580)\" d=\"M 0 0 M1854.67 1505.36 L1876.89 1505.36 L1876.89 1507.35 L1864.35 1539.92 L1859.46 1539.92 L1871.27 1509.3 L1854.67 1509.3 L1854.67 1505.36 Z\" fill=\"#000000\" fill-rule=\"evenodd\" fill-opacity=\"1\" /><path clip-path=\"url(#clip580)\" d=\"M 0 0 M1881.96 1534.04 L1886.85 1534.04 L1886.85 1539.92 L1881.96 1539.92 L1881.96 1534.04 Z\" fill=\"#000000\" fill-rule=\"evenodd\" fill-opacity=\"1\" /><path clip-path=\"url(#clip580)\" d=\"M 0 0 M1901.92 1508.44 Q1898.31 1508.44 1896.48 1512 Q1894.67 1515.55 1894.67 1522.67 Q1894.67 1529.78 1896.48 1533.35 Q1898.31 1536.89 1901.92 1536.89 Q1905.55 1536.89 1907.36 1533.35 Q1909.18 1529.78 1909.18 1522.67 Q1909.18 1515.55 1907.36 1512 Q1905.55 1508.44 1901.92 1508.44 M1901.92 1504.73 Q1907.73 1504.73 1910.78 1509.34 Q1913.86 1513.92 1913.86 1522.67 Q1913.86 1531.4 1910.78 1536.01 Q1907.73 1540.59 1901.92 1540.59 Q1896.11 1540.59 1893.03 1536.01 Q1889.97 1531.4 1889.97 1522.67 Q1889.97 1513.92 1893.03 1509.34 Q1896.11 1504.73 1901.92 1504.73 Z\" fill=\"#000000\" fill-rule=\"evenodd\" fill-opacity=\"1\" /><path clip-path=\"url(#clip580)\" d=\"M 0 0 M2249.39 1535.98 L2257.03 1535.98 L2257.03 1509.62 L2248.72 1511.29 L2248.72 1507.03 L2256.99 1505.36 L2261.66 1505.36 L2261.66 1535.98 L2269.3 1535.98 L2269.3 1539.92 L2249.39 1539.92 L2249.39 1535.98 Z\" fill=\"#000000\" fill-rule=\"evenodd\" fill-opacity=\"1\" /><path clip-path=\"url(#clip580)\" d=\"M 0 0 M2273.19 1505.36 L2295.41 1505.36 L2295.41 1507.35 L2282.87 1539.92 L2277.98 1539.92 L2289.79 1509.3 L2273.19 1509.3 L2273.19 1505.36 Z\" fill=\"#000000\" fill-rule=\"evenodd\" fill-opacity=\"1\" /><path clip-path=\"url(#clip580)\" d=\"M 0 0 M2300.48 1534.04 L2305.37 1534.04 L2305.37 1539.92 L2300.48 1539.92 L2300.48 1534.04 Z\" fill=\"#000000\" fill-rule=\"evenodd\" fill-opacity=\"1\" /><path clip-path=\"url(#clip580)\" d=\"M 0 0 M2310.48 1505.36 L2328.84 1505.36 L2328.84 1509.3 L2314.76 1509.3 L2314.76 1517.77 Q2315.78 1517.42 2316.8 1517.26 Q2317.82 1517.07 2318.84 1517.07 Q2324.62 1517.07 2328 1520.24 Q2331.38 1523.42 2331.38 1528.83 Q2331.38 1534.41 2327.91 1537.51 Q2324.44 1540.59 2318.12 1540.59 Q2315.94 1540.59 2313.68 1540.22 Q2311.43 1539.85 2309.02 1539.11 L2309.02 1534.41 Q2311.11 1535.54 2313.33 1536.1 Q2315.55 1536.66 2318.03 1536.66 Q2322.03 1536.66 2324.37 1534.55 Q2326.71 1532.44 2326.71 1528.83 Q2326.71 1525.22 2324.37 1523.11 Q2322.03 1521.01 2318.03 1521.01 Q2316.15 1521.01 2314.28 1521.42 Q2312.43 1521.84 2310.48 1522.72 L2310.48 1505.36 Z\" fill=\"#000000\" fill-rule=\"evenodd\" fill-opacity=\"1\" /><path clip-path=\"url(#clip580)\" d=\"M 0 0 M69.7513 1254.21 L86.0707 1254.21 L86.0707 1258.14 L64.1264 1258.14 L64.1264 1254.21 Q66.7884 1251.45 71.3717 1246.83 Q75.9782 1242.17 77.1587 1240.83 Q79.4041 1238.31 80.2837 1236.57 Q81.1865 1234.81 81.1865 1233.12 Q81.1865 1230.37 79.242 1228.63 Q77.3208 1226.89 74.2189 1226.89 Q72.0199 1226.89 69.5662 1227.66 Q67.1356 1228.42 64.3579 1229.97 L64.3579 1225.25 Q67.1819 1224.12 69.6356 1223.54 Q72.0893 1222.96 74.1263 1222.96 Q79.4967 1222.96 82.6911 1225.64 Q85.8855 1228.33 85.8855 1232.82 Q85.8855 1234.95 85.0753 1236.87 Q84.2883 1238.77 82.1818 1241.36 Q81.6031 1242.03 78.5013 1245.25 Q75.3995 1248.45 69.7513 1254.21 Z\" fill=\"#000000\" fill-rule=\"evenodd\" fill-opacity=\"1\" /><path clip-path=\"url(#clip580)\" d=\"M 0 0 M101.719 1239 Q98.5706 1239 96.7188 1241.15 Q94.8901 1243.31 94.8901 1247.06 Q94.8901 1250.78 96.7188 1252.96 Q98.5706 1255.11 101.719 1255.11 Q104.867 1255.11 106.696 1252.96 Q108.547 1250.78 108.547 1247.06 Q108.547 1243.31 106.696 1241.15 Q104.867 1239 101.719 1239 M111.001 1224.35 L111.001 1228.61 Q109.242 1227.77 107.436 1227.33 Q105.654 1226.89 103.895 1226.89 Q99.2651 1226.89 96.8114 1230.02 Q94.3808 1233.14 94.0336 1239.46 Q95.3994 1237.45 97.4595 1236.39 Q99.5197 1235.3 101.997 1235.3 Q107.205 1235.3 110.214 1238.47 Q113.246 1241.62 113.246 1247.06 Q113.246 1252.38 110.098 1255.6 Q106.95 1258.82 101.719 1258.82 Q95.7234 1258.82 92.5522 1254.23 Q89.3809 1249.63 89.3809 1240.9 Q89.3809 1232.7 93.2697 1227.84 Q97.1586 1222.96 103.71 1222.96 Q105.469 1222.96 107.251 1223.31 Q109.057 1223.65 111.001 1224.35 Z\" fill=\"#000000\" fill-rule=\"evenodd\" fill-opacity=\"1\" /><path clip-path=\"url(#clip580)\" d=\"M 0 0 M70.006 968.513 L86.3253 968.513 L86.3253 972.448 L64.381 972.448 L64.381 968.513 Q67.043 965.758 71.6263 961.129 Q76.2328 956.476 77.4133 955.134 Q79.6587 952.61 80.5383 950.874 Q81.4411 949.115 81.4411 947.425 Q81.4411 944.671 79.4967 942.935 Q77.5754 941.198 74.4735 941.198 Q72.2745 941.198 69.8208 941.962 Q67.3903 942.726 64.6125 944.277 L64.6125 939.555 Q67.4365 938.421 69.8902 937.842 Q72.3439 937.263 74.381 937.263 Q79.7513 937.263 82.9457 939.948 Q86.1402 942.634 86.1402 947.124 Q86.1402 949.254 85.33 951.175 Q84.5429 953.073 82.4365 955.666 Q81.8578 956.337 78.7559 959.555 Q75.6541 962.749 70.006 968.513 Z\" fill=\"#000000\" fill-rule=\"evenodd\" fill-opacity=\"1\" /><path clip-path=\"url(#clip580)\" d=\"M 0 0 M101.395 956.036 Q98.0614 956.036 96.1401 957.819 Q94.242 959.601 94.242 962.726 Q94.242 965.851 96.1401 967.633 Q98.0614 969.416 101.395 969.416 Q104.728 969.416 106.649 967.633 Q108.571 965.828 108.571 962.726 Q108.571 959.601 106.649 957.819 Q104.751 956.036 101.395 956.036 M96.7188 954.046 Q93.7096 953.305 92.0197 951.245 Q90.3531 949.184 90.3531 946.222 Q90.3531 942.078 93.2929 939.671 Q96.2558 937.263 101.395 937.263 Q106.557 937.263 109.497 939.671 Q112.436 942.078 112.436 946.222 Q112.436 949.184 110.746 951.245 Q109.08 953.305 106.094 954.046 Q109.473 954.833 111.348 957.124 Q113.246 959.416 113.246 962.726 Q113.246 967.749 110.168 970.434 Q107.112 973.12 101.395 973.12 Q95.6771 973.12 92.5984 970.434 Q89.5429 967.749 89.5429 962.726 Q89.5429 959.416 91.441 957.124 Q93.3392 954.833 96.7188 954.046 M95.0058 946.661 Q95.0058 949.347 96.6725 950.851 Q98.3623 952.356 101.395 952.356 Q104.404 952.356 106.094 950.851 Q107.807 949.347 107.807 946.661 Q107.807 943.976 106.094 942.472 Q104.404 940.967 101.395 940.967 Q98.3623 940.967 96.6725 942.472 Q95.0058 943.976 95.0058 946.661 Z\" fill=\"#000000\" fill-rule=\"evenodd\" fill-opacity=\"1\" /><path clip-path=\"url(#clip580)\" d=\"M 0 0 M79.1032 668.118 Q82.4596 668.836 84.3346 671.104 Q86.2327 673.373 86.2327 676.706 Q86.2327 681.822 82.7142 684.622 Q79.1957 687.423 72.7143 687.423 Q70.5384 687.423 68.2236 686.984 Q65.9319 686.567 63.4782 685.71 L63.4782 681.197 Q65.4227 682.331 67.7375 682.91 Q70.0523 683.488 72.5754 683.488 Q76.9735 683.488 79.2652 681.752 Q81.58 680.016 81.58 676.706 Q81.58 673.65 79.4272 671.937 Q77.2976 670.201 73.4782 670.201 L69.4504 670.201 L69.4504 666.359 L73.6634 666.359 Q77.1124 666.359 78.9411 664.993 Q80.7698 663.604 80.7698 661.011 Q80.7698 658.349 78.8717 656.937 Q76.9967 655.502 73.4782 655.502 Q71.5569 655.502 69.3578 655.919 Q67.1588 656.336 64.5199 657.215 L64.5199 653.049 Q67.1819 652.308 69.4967 651.937 Q71.8347 651.567 73.8948 651.567 Q79.2189 651.567 82.3207 653.998 Q85.4226 656.405 85.4226 660.525 Q85.4226 663.396 83.7791 665.386 Q82.1355 667.354 79.1032 668.118 Z\" fill=\"#000000\" fill-rule=\"evenodd\" fill-opacity=\"1\" /><path clip-path=\"url(#clip580)\" d=\"M 0 0 M101.302 655.271 Q97.691 655.271 95.8623 658.836 Q94.0568 662.377 94.0568 669.507 Q94.0568 676.613 95.8623 680.178 Q97.691 683.72 101.302 683.72 Q104.936 683.72 106.742 680.178 Q108.571 676.613 108.571 669.507 Q108.571 662.377 106.742 658.836 Q104.936 655.271 101.302 655.271 M101.302 651.567 Q107.112 651.567 110.168 656.174 Q113.246 660.757 113.246 669.507 Q113.246 678.234 110.168 682.84 Q107.112 687.423 101.302 687.423 Q95.492 687.423 92.4133 682.84 Q89.3577 678.234 89.3577 669.507 Q89.3577 660.757 92.4133 656.174 Q95.492 651.567 101.302 651.567 Z\" fill=\"#000000\" fill-rule=\"evenodd\" fill-opacity=\"1\" /><path clip-path=\"url(#clip580)\" d=\"M 0 0 M80.7004 382.422 Q84.0568 383.139 85.9318 385.408 Q87.83 387.676 87.83 391.01 Q87.83 396.125 84.3115 398.926 Q80.793 401.727 74.3115 401.727 Q72.1356 401.727 69.8208 401.287 Q67.5291 400.871 65.0754 400.014 L65.0754 395.5 Q67.0199 396.635 69.3347 397.213 Q71.6495 397.792 74.1726 397.792 Q78.5707 397.792 80.8624 396.056 Q83.1772 394.32 83.1772 391.01 Q83.1772 387.954 81.0244 386.241 Q78.8948 384.505 75.0754 384.505 L71.0476 384.505 L71.0476 380.663 L75.2606 380.663 Q78.7096 380.663 80.5383 379.297 Q82.367 377.908 82.367 375.315 Q82.367 372.653 80.4689 371.241 Q78.5939 369.806 75.0754 369.806 Q73.1541 369.806 70.955 370.223 Q68.756 370.639 66.1171 371.519 L66.1171 367.352 Q68.7791 366.612 71.0939 366.241 Q73.4319 365.871 75.4921 365.871 Q80.8161 365.871 83.9179 368.301 Q87.0198 370.709 87.0198 374.829 Q87.0198 377.7 85.3763 379.69 Q83.7328 381.658 80.7004 382.422 Z\" fill=\"#000000\" fill-rule=\"evenodd\" fill-opacity=\"1\" /><path clip-path=\"url(#clip580)\" d=\"M 0 0 M96.9271 397.121 L113.246 397.121 L113.246 401.056 L91.3022 401.056 L91.3022 397.121 Q93.9642 394.366 98.5475 389.737 Q103.154 385.084 104.334 383.741 Q106.58 381.218 107.459 379.482 Q108.362 377.723 108.362 376.033 Q108.362 373.278 106.418 371.542 Q104.497 369.806 101.395 369.806 Q99.1956 369.806 96.7419 370.57 Q94.3114 371.334 91.5336 372.885 L91.5336 368.163 Q94.3577 367.028 96.8114 366.45 Q99.2651 365.871 101.302 365.871 Q106.672 365.871 109.867 368.556 Q113.061 371.241 113.061 375.732 Q113.061 377.862 112.251 379.783 Q111.464 381.681 109.358 384.274 Q108.779 384.945 105.677 388.162 Q102.575 391.357 96.9271 397.121 Z\" fill=\"#000000\" fill-rule=\"evenodd\" fill-opacity=\"1\" /><path clip-path=\"url(#clip580)\" d=\"M 0 0 M78.617 96.7256 Q81.9735 97.4432 83.8485 99.7117 Q85.7466 101.98 85.7466 105.314 Q85.7466 110.429 82.2281 113.23 Q78.7096 116.031 72.2282 116.031 Q70.0523 116.031 67.7375 115.591 Q65.4458 115.175 62.9921 114.318 L62.9921 109.804 Q64.9366 110.939 67.2514 111.517 Q69.5662 112.096 72.0893 112.096 Q76.4874 112.096 78.7791 110.36 Q81.0939 108.624 81.0939 105.314 Q81.0939 102.258 78.9411 100.545 Q76.8115 98.8089 72.9921 98.8089 L68.9643 98.8089 L68.9643 94.9664 L73.1773 94.9664 Q76.6263 94.9664 78.455 93.6006 Q80.2837 92.2118 80.2837 89.6192 Q80.2837 86.9572 78.3856 85.5451 Q76.5106 84.11 72.9921 84.11 Q71.0708 84.11 68.8717 84.5266 Q66.6727 84.9433 64.0338 85.8229 L64.0338 81.6563 Q66.6958 80.9155 69.0106 80.5452 Q71.3486 80.1748 73.4087 80.1748 Q78.7328 80.1748 81.8346 82.6053 Q84.9365 85.0127 84.9365 89.1331 Q84.9365 92.0034 83.2929 93.9942 Q81.6494 95.9617 78.617 96.7256 Z\" fill=\"#000000\" fill-rule=\"evenodd\" fill-opacity=\"1\" /><path clip-path=\"url(#clip580)\" d=\"M 0 0 M103.663 84.8738 L91.8577 103.323 L103.663 103.323 L103.663 84.8738 M102.436 80.7998 L108.316 80.7998 L108.316 103.323 L113.246 103.323 L113.246 107.212 L108.316 107.212 L108.316 115.36 L103.663 115.36 L103.663 107.212 L88.0614 107.212 L88.0614 102.698 L102.436 80.7998 Z\" fill=\"#000000\" fill-rule=\"evenodd\" fill-opacity=\"1\" /><circle clip-path=\"url(#clip582)\" cx=\"199.95\" cy=\"87.9763\" r=\"10\" fill=\"#add8e6\" fill-rule=\"evenodd\" fill-opacity=\"1\" stroke=\"#000000\" stroke-opacity=\"1\" stroke-width=\"3.2\"/>\n",
       "<circle clip-path=\"url(#clip582)\" cx=\"1454.01\" cy=\"681.12\" r=\"10\" fill=\"#add8e6\" fill-rule=\"evenodd\" fill-opacity=\"1\" stroke=\"#000000\" stroke-opacity=\"1\" stroke-width=\"3.2\"/>\n",
       "<circle clip-path=\"url(#clip582)\" cx=\"2290.05\" cy=\"1445.72\" r=\"10\" fill=\"#add8e6\" fill-rule=\"evenodd\" fill-opacity=\"1\" stroke=\"#000000\" stroke-opacity=\"1\" stroke-width=\"3.2\"/>\n",
       "</svg>\n"
      ]
     },
     "execution_count": 35,
     "metadata": {},
     "output_type": "execute_result"
    }
   ],
   "source": [
    "#1.5 liviaaaaaaaaaaaaa\n",
    "x=[15;16.5;17.5]\n",
    "y=[34;30;25]\n",
    "\n",
    "ruido=randn(3)*0.3\n",
    "\n",
    "y=y+ruido\n",
    "#Desenho no mundo original\n",
    "scatter(x, y, c=:lightblue, ms=3, leg=false)"
   ]
  },
  {
   "cell_type": "code",
   "execution_count": 36,
   "id": "3df7b87d",
   "metadata": {},
   "outputs": [
    {
     "data": {
      "image/svg+xml": [
       "<?xml version=\"1.0\" encoding=\"utf-8\"?>\n",
       "<svg xmlns=\"http://www.w3.org/2000/svg\" xmlns:xlink=\"http://www.w3.org/1999/xlink\" width=\"600\" height=\"400\" viewBox=\"0 0 2400 1600\">\n",
       "<defs>\n",
       "  <clipPath id=\"clip620\">\n",
       "    <rect x=\"0\" y=\"0\" width=\"2400\" height=\"1600\"/>\n",
       "  </clipPath>\n",
       "</defs>\n",
       "<path clip-path=\"url(#clip620)\" d=\"\n",
       "M0 1600 L2400 1600 L2400 0 L0 0  Z\n",
       "  \" fill=\"#ffffff\" fill-rule=\"evenodd\" fill-opacity=\"1\"/>\n",
       "<defs>\n",
       "  <clipPath id=\"clip621\">\n",
       "    <rect x=\"480\" y=\"0\" width=\"1681\" height=\"1600\"/>\n",
       "  </clipPath>\n",
       "</defs>\n",
       "<path clip-path=\"url(#clip620)\" d=\"\n",
       "M147.2 1486.45 L2352.76 1486.45 L2352.76 47.2441 L147.2 47.2441  Z\n",
       "  \" fill=\"#ffffff\" fill-rule=\"evenodd\" fill-opacity=\"1\"/>\n",
       "<defs>\n",
       "  <clipPath id=\"clip622\">\n",
       "    <rect x=\"147\" y=\"47\" width=\"2207\" height=\"1440\"/>\n",
       "  </clipPath>\n",
       "</defs>\n",
       "<polyline clip-path=\"url(#clip622)\" style=\"stroke:#000000; stroke-width:2; stroke-opacity:0.1; fill:none\" points=\"\n",
       "  209.622,1486.45 209.622,47.2441 \n",
       "  \"/>\n",
       "<polyline clip-path=\"url(#clip622)\" style=\"stroke:#000000; stroke-width:2; stroke-opacity:0.1; fill:none\" points=\"\n",
       "  625.764,1486.45 625.764,47.2441 \n",
       "  \"/>\n",
       "<polyline clip-path=\"url(#clip622)\" style=\"stroke:#000000; stroke-width:2; stroke-opacity:0.1; fill:none\" points=\"\n",
       "  1041.91,1486.45 1041.91,47.2441 \n",
       "  \"/>\n",
       "<polyline clip-path=\"url(#clip622)\" style=\"stroke:#000000; stroke-width:2; stroke-opacity:0.1; fill:none\" points=\"\n",
       "  1458.05,1486.45 1458.05,47.2441 \n",
       "  \"/>\n",
       "<polyline clip-path=\"url(#clip622)\" style=\"stroke:#000000; stroke-width:2; stroke-opacity:0.1; fill:none\" points=\"\n",
       "  1874.19,1486.45 1874.19,47.2441 \n",
       "  \"/>\n",
       "<polyline clip-path=\"url(#clip622)\" style=\"stroke:#000000; stroke-width:2; stroke-opacity:0.1; fill:none\" points=\"\n",
       "  2290.33,1486.45 2290.33,47.2441 \n",
       "  \"/>\n",
       "<polyline clip-path=\"url(#clip622)\" style=\"stroke:#000000; stroke-width:2; stroke-opacity:0.1; fill:none\" points=\"\n",
       "  147.2,1451.37 2352.76,1451.37 \n",
       "  \"/>\n",
       "<polyline clip-path=\"url(#clip622)\" style=\"stroke:#000000; stroke-width:2; stroke-opacity:0.1; fill:none\" points=\"\n",
       "  147.2,1036.25 2352.76,1036.25 \n",
       "  \"/>\n",
       "<polyline clip-path=\"url(#clip622)\" style=\"stroke:#000000; stroke-width:2; stroke-opacity:0.1; fill:none\" points=\"\n",
       "  147.2,621.141 2352.76,621.141 \n",
       "  \"/>\n",
       "<polyline clip-path=\"url(#clip622)\" style=\"stroke:#000000; stroke-width:2; stroke-opacity:0.1; fill:none\" points=\"\n",
       "  147.2,206.029 2352.76,206.029 \n",
       "  \"/>\n",
       "<polyline clip-path=\"url(#clip620)\" style=\"stroke:#000000; stroke-width:4; stroke-opacity:1; fill:none\" points=\"\n",
       "  147.2,1486.45 2352.76,1486.45 \n",
       "  \"/>\n",
       "<polyline clip-path=\"url(#clip620)\" style=\"stroke:#000000; stroke-width:4; stroke-opacity:1; fill:none\" points=\"\n",
       "  147.2,1486.45 147.2,47.2441 \n",
       "  \"/>\n",
       "<polyline clip-path=\"url(#clip620)\" style=\"stroke:#000000; stroke-width:4; stroke-opacity:1; fill:none\" points=\"\n",
       "  209.622,1486.45 209.622,1469.18 \n",
       "  \"/>\n",
       "<polyline clip-path=\"url(#clip620)\" style=\"stroke:#000000; stroke-width:4; stroke-opacity:1; fill:none\" points=\"\n",
       "  625.764,1486.45 625.764,1469.18 \n",
       "  \"/>\n",
       "<polyline clip-path=\"url(#clip620)\" style=\"stroke:#000000; stroke-width:4; stroke-opacity:1; fill:none\" points=\"\n",
       "  1041.91,1486.45 1041.91,1469.18 \n",
       "  \"/>\n",
       "<polyline clip-path=\"url(#clip620)\" style=\"stroke:#000000; stroke-width:4; stroke-opacity:1; fill:none\" points=\"\n",
       "  1458.05,1486.45 1458.05,1469.18 \n",
       "  \"/>\n",
       "<polyline clip-path=\"url(#clip620)\" style=\"stroke:#000000; stroke-width:4; stroke-opacity:1; fill:none\" points=\"\n",
       "  1874.19,1486.45 1874.19,1469.18 \n",
       "  \"/>\n",
       "<polyline clip-path=\"url(#clip620)\" style=\"stroke:#000000; stroke-width:4; stroke-opacity:1; fill:none\" points=\"\n",
       "  2290.33,1486.45 2290.33,1469.18 \n",
       "  \"/>\n",
       "<polyline clip-path=\"url(#clip620)\" style=\"stroke:#000000; stroke-width:4; stroke-opacity:1; fill:none\" points=\"\n",
       "  147.2,1451.37 173.667,1451.37 \n",
       "  \"/>\n",
       "<polyline clip-path=\"url(#clip620)\" style=\"stroke:#000000; stroke-width:4; stroke-opacity:1; fill:none\" points=\"\n",
       "  147.2,1036.25 173.667,1036.25 \n",
       "  \"/>\n",
       "<polyline clip-path=\"url(#clip620)\" style=\"stroke:#000000; stroke-width:4; stroke-opacity:1; fill:none\" points=\"\n",
       "  147.2,621.141 173.667,621.141 \n",
       "  \"/>\n",
       "<polyline clip-path=\"url(#clip620)\" style=\"stroke:#000000; stroke-width:4; stroke-opacity:1; fill:none\" points=\"\n",
       "  147.2,206.029 173.667,206.029 \n",
       "  \"/>\n",
       "<path clip-path=\"url(#clip620)\" d=\"M 0 0 M168.511 1535.98 L176.149 1535.98 L176.149 1509.62 L167.839 1511.29 L167.839 1507.03 L176.103 1505.36 L180.779 1505.36 L180.779 1535.98 L188.418 1535.98 L188.418 1539.92 L168.511 1539.92 L168.511 1535.98 Z\" fill=\"#000000\" fill-rule=\"evenodd\" fill-opacity=\"1\" /><path clip-path=\"url(#clip620)\" d=\"M 0 0 M193.534 1505.36 L211.89 1505.36 L211.89 1509.3 L197.816 1509.3 L197.816 1517.77 Q198.835 1517.42 199.853 1517.26 Q200.872 1517.07 201.89 1517.07 Q207.677 1517.07 211.057 1520.24 Q214.436 1523.42 214.436 1528.83 Q214.436 1534.41 210.964 1537.51 Q207.492 1540.59 201.172 1540.59 Q198.997 1540.59 196.728 1540.22 Q194.483 1539.85 192.075 1539.11 L192.075 1534.41 Q194.159 1535.54 196.381 1536.1 Q198.603 1536.66 201.08 1536.66 Q205.085 1536.66 207.422 1534.55 Q209.76 1532.44 209.76 1528.83 Q209.76 1525.22 207.422 1523.11 Q205.085 1521.01 201.08 1521.01 Q199.205 1521.01 197.33 1521.42 Q195.478 1521.84 193.534 1522.72 L193.534 1505.36 Z\" fill=\"#000000\" fill-rule=\"evenodd\" fill-opacity=\"1\" /><path clip-path=\"url(#clip620)\" d=\"M 0 0 M219.506 1534.04 L224.39 1534.04 L224.39 1539.92 L219.506 1539.92 L219.506 1534.04 Z\" fill=\"#000000\" fill-rule=\"evenodd\" fill-opacity=\"1\" /><path clip-path=\"url(#clip620)\" d=\"M 0 0 M239.459 1508.44 Q235.848 1508.44 234.02 1512 Q232.214 1515.55 232.214 1522.67 Q232.214 1529.78 234.02 1533.35 Q235.848 1536.89 239.459 1536.89 Q243.094 1536.89 244.899 1533.35 Q246.728 1529.78 246.728 1522.67 Q246.728 1515.55 244.899 1512 Q243.094 1508.44 239.459 1508.44 M239.459 1504.73 Q245.269 1504.73 248.325 1509.34 Q251.404 1513.92 251.404 1522.67 Q251.404 1531.4 248.325 1536.01 Q245.269 1540.59 239.459 1540.59 Q233.649 1540.59 230.57 1536.01 Q227.515 1531.4 227.515 1522.67 Q227.515 1513.92 230.57 1509.34 Q233.649 1504.73 239.459 1504.73 Z\" fill=\"#000000\" fill-rule=\"evenodd\" fill-opacity=\"1\" /><path clip-path=\"url(#clip620)\" d=\"M 0 0 M585.151 1535.98 L592.79 1535.98 L592.79 1509.62 L584.48 1511.29 L584.48 1507.03 L592.743 1505.36 L597.419 1505.36 L597.419 1535.98 L605.058 1535.98 L605.058 1539.92 L585.151 1539.92 L585.151 1535.98 Z\" fill=\"#000000\" fill-rule=\"evenodd\" fill-opacity=\"1\" /><path clip-path=\"url(#clip620)\" d=\"M 0 0 M610.174 1505.36 L628.53 1505.36 L628.53 1509.3 L614.456 1509.3 L614.456 1517.77 Q615.475 1517.42 616.493 1517.26 Q617.512 1517.07 618.53 1517.07 Q624.317 1517.07 627.697 1520.24 Q631.077 1523.42 631.077 1528.83 Q631.077 1534.41 627.604 1537.51 Q624.132 1540.59 617.813 1540.59 Q615.637 1540.59 613.368 1540.22 Q611.123 1539.85 608.716 1539.11 L608.716 1534.41 Q610.799 1535.54 613.021 1536.1 Q615.243 1536.66 617.72 1536.66 Q621.725 1536.66 624.063 1534.55 Q626.401 1532.44 626.401 1528.83 Q626.401 1525.22 624.063 1523.11 Q621.725 1521.01 617.72 1521.01 Q615.845 1521.01 613.97 1521.42 Q612.118 1521.84 610.174 1522.72 L610.174 1505.36 Z\" fill=\"#000000\" fill-rule=\"evenodd\" fill-opacity=\"1\" /><path clip-path=\"url(#clip620)\" d=\"M 0 0 M636.146 1534.04 L641.03 1534.04 L641.03 1539.92 L636.146 1539.92 L636.146 1534.04 Z\" fill=\"#000000\" fill-rule=\"evenodd\" fill-opacity=\"1\" /><path clip-path=\"url(#clip620)\" d=\"M 0 0 M646.146 1505.36 L664.502 1505.36 L664.502 1509.3 L650.428 1509.3 L650.428 1517.77 Q651.447 1517.42 652.465 1517.26 Q653.484 1517.07 654.502 1517.07 Q660.289 1517.07 663.669 1520.24 Q667.049 1523.42 667.049 1528.83 Q667.049 1534.41 663.576 1537.51 Q660.104 1540.59 653.785 1540.59 Q651.609 1540.59 649.34 1540.22 Q647.095 1539.85 644.688 1539.11 L644.688 1534.41 Q646.771 1535.54 648.993 1536.1 Q651.215 1536.66 653.692 1536.66 Q657.697 1536.66 660.035 1534.55 Q662.373 1532.44 662.373 1528.83 Q662.373 1525.22 660.035 1523.11 Q657.697 1521.01 653.692 1521.01 Q651.817 1521.01 649.942 1521.42 Q648.09 1521.84 646.146 1522.72 L646.146 1505.36 Z\" fill=\"#000000\" fill-rule=\"evenodd\" fill-opacity=\"1\" /><path clip-path=\"url(#clip620)\" d=\"M 0 0 M1000.22 1535.98 L1007.86 1535.98 L1007.86 1509.62 L999.546 1511.29 L999.546 1507.03 L1007.81 1505.36 L1012.49 1505.36 L1012.49 1535.98 L1020.12 1535.98 L1020.12 1539.92 L1000.22 1539.92 L1000.22 1535.98 Z\" fill=\"#000000\" fill-rule=\"evenodd\" fill-opacity=\"1\" /><path clip-path=\"url(#clip620)\" d=\"M 0 0 M1035.77 1520.78 Q1032.62 1520.78 1030.77 1522.93 Q1028.94 1525.08 1028.94 1528.83 Q1028.94 1532.56 1030.77 1534.73 Q1032.62 1536.89 1035.77 1536.89 Q1038.92 1536.89 1040.75 1534.73 Q1042.6 1532.56 1042.6 1528.83 Q1042.6 1525.08 1040.75 1522.93 Q1038.92 1520.78 1035.77 1520.78 M1045.05 1506.12 L1045.05 1510.38 Q1043.3 1509.55 1041.49 1509.11 Q1039.71 1508.67 1037.95 1508.67 Q1033.32 1508.67 1030.87 1511.8 Q1028.43 1514.92 1028.09 1521.24 Q1029.45 1519.23 1031.51 1518.16 Q1033.57 1517.07 1036.05 1517.07 Q1041.26 1517.07 1044.27 1520.24 Q1047.3 1523.39 1047.3 1528.83 Q1047.3 1534.16 1044.15 1537.37 Q1041 1540.59 1035.77 1540.59 Q1029.78 1540.59 1026.61 1536.01 Q1023.43 1531.4 1023.43 1522.67 Q1023.43 1514.48 1027.32 1509.62 Q1031.21 1504.73 1037.76 1504.73 Q1039.52 1504.73 1041.3 1505.08 Q1043.11 1505.43 1045.05 1506.12 Z\" fill=\"#000000\" fill-rule=\"evenodd\" fill-opacity=\"1\" /><path clip-path=\"url(#clip620)\" d=\"M 0 0 M1052.37 1534.04 L1057.25 1534.04 L1057.25 1539.92 L1052.37 1539.92 L1052.37 1534.04 Z\" fill=\"#000000\" fill-rule=\"evenodd\" fill-opacity=\"1\" /><path clip-path=\"url(#clip620)\" d=\"M 0 0 M1072.32 1508.44 Q1068.71 1508.44 1066.88 1512 Q1065.08 1515.55 1065.08 1522.67 Q1065.08 1529.78 1066.88 1533.35 Q1068.71 1536.89 1072.32 1536.89 Q1075.96 1536.89 1077.76 1533.35 Q1079.59 1529.78 1079.59 1522.67 Q1079.59 1515.55 1077.76 1512 Q1075.96 1508.44 1072.32 1508.44 M1072.32 1504.73 Q1078.13 1504.73 1081.19 1509.34 Q1084.27 1513.92 1084.27 1522.67 Q1084.27 1531.4 1081.19 1536.01 Q1078.13 1540.59 1072.32 1540.59 Q1066.51 1540.59 1063.43 1536.01 Q1060.38 1531.4 1060.38 1522.67 Q1060.38 1513.92 1063.43 1509.34 Q1066.51 1504.73 1072.32 1504.73 Z\" fill=\"#000000\" fill-rule=\"evenodd\" fill-opacity=\"1\" /><path clip-path=\"url(#clip620)\" d=\"M 0 0 M1416.86 1535.98 L1424.5 1535.98 L1424.5 1509.62 L1416.19 1511.29 L1416.19 1507.03 L1424.45 1505.36 L1429.13 1505.36 L1429.13 1535.98 L1436.76 1535.98 L1436.76 1539.92 L1416.86 1539.92 L1416.86 1535.98 Z\" fill=\"#000000\" fill-rule=\"evenodd\" fill-opacity=\"1\" /><path clip-path=\"url(#clip620)\" d=\"M 0 0 M1452.41 1520.78 Q1449.26 1520.78 1447.41 1522.93 Q1445.58 1525.08 1445.58 1528.83 Q1445.58 1532.56 1447.41 1534.73 Q1449.26 1536.89 1452.41 1536.89 Q1455.56 1536.89 1457.39 1534.73 Q1459.24 1532.56 1459.24 1528.83 Q1459.24 1525.08 1457.39 1522.93 Q1455.56 1520.78 1452.41 1520.78 M1461.7 1506.12 L1461.7 1510.38 Q1459.94 1509.55 1458.13 1509.11 Q1456.35 1508.67 1454.59 1508.67 Q1449.96 1508.67 1447.51 1511.8 Q1445.07 1514.92 1444.73 1521.24 Q1446.09 1519.23 1448.15 1518.16 Q1450.21 1517.07 1452.69 1517.07 Q1457.9 1517.07 1460.91 1520.24 Q1463.94 1523.39 1463.94 1528.83 Q1463.94 1534.16 1460.79 1537.37 Q1457.64 1540.59 1452.41 1540.59 Q1446.42 1540.59 1443.25 1536.01 Q1440.07 1531.4 1440.07 1522.67 Q1440.07 1514.48 1443.96 1509.62 Q1447.85 1504.73 1454.4 1504.73 Q1456.16 1504.73 1457.95 1505.08 Q1459.75 1505.43 1461.7 1506.12 Z\" fill=\"#000000\" fill-rule=\"evenodd\" fill-opacity=\"1\" /><path clip-path=\"url(#clip620)\" d=\"M 0 0 M1469.01 1534.04 L1473.89 1534.04 L1473.89 1539.92 L1469.01 1539.92 L1469.01 1534.04 Z\" fill=\"#000000\" fill-rule=\"evenodd\" fill-opacity=\"1\" /><path clip-path=\"url(#clip620)\" d=\"M 0 0 M1479.01 1505.36 L1497.37 1505.36 L1497.37 1509.3 L1483.29 1509.3 L1483.29 1517.77 Q1484.31 1517.42 1485.33 1517.26 Q1486.35 1517.07 1487.37 1517.07 Q1493.15 1517.07 1496.53 1520.24 Q1499.91 1523.42 1499.91 1528.83 Q1499.91 1534.41 1496.44 1537.51 Q1492.97 1540.59 1486.65 1540.59 Q1484.47 1540.59 1482.2 1540.22 Q1479.96 1539.85 1477.55 1539.11 L1477.55 1534.41 Q1479.63 1535.54 1481.86 1536.1 Q1484.08 1536.66 1486.56 1536.66 Q1490.56 1536.66 1492.9 1534.55 Q1495.24 1532.44 1495.24 1528.83 Q1495.24 1525.22 1492.9 1523.11 Q1490.56 1521.01 1486.56 1521.01 Q1484.68 1521.01 1482.81 1521.42 Q1480.95 1521.84 1479.01 1522.72 L1479.01 1505.36 Z\" fill=\"#000000\" fill-rule=\"evenodd\" fill-opacity=\"1\" /><path clip-path=\"url(#clip620)\" d=\"M 0 0 M1833.03 1535.98 L1840.67 1535.98 L1840.67 1509.62 L1832.36 1511.29 L1832.36 1507.03 L1840.63 1505.36 L1845.3 1505.36 L1845.3 1535.98 L1852.94 1535.98 L1852.94 1539.92 L1833.03 1539.92 L1833.03 1535.98 Z\" fill=\"#000000\" fill-rule=\"evenodd\" fill-opacity=\"1\" /><path clip-path=\"url(#clip620)\" d=\"M 0 0 M1856.83 1505.36 L1879.05 1505.36 L1879.05 1507.35 L1866.51 1539.92 L1861.62 1539.92 L1873.43 1509.3 L1856.83 1509.3 L1856.83 1505.36 Z\" fill=\"#000000\" fill-rule=\"evenodd\" fill-opacity=\"1\" /><path clip-path=\"url(#clip620)\" d=\"M 0 0 M1884.12 1534.04 L1889.01 1534.04 L1889.01 1539.92 L1884.12 1539.92 L1884.12 1534.04 Z\" fill=\"#000000\" fill-rule=\"evenodd\" fill-opacity=\"1\" /><path clip-path=\"url(#clip620)\" d=\"M 0 0 M1904.08 1508.44 Q1900.46 1508.44 1898.64 1512 Q1896.83 1515.55 1896.83 1522.67 Q1896.83 1529.78 1898.64 1533.35 Q1900.46 1536.89 1904.08 1536.89 Q1907.71 1536.89 1909.52 1533.35 Q1911.34 1529.78 1911.34 1522.67 Q1911.34 1515.55 1909.52 1512 Q1907.71 1508.44 1904.08 1508.44 M1904.08 1504.73 Q1909.89 1504.73 1912.94 1509.34 Q1916.02 1513.92 1916.02 1522.67 Q1916.02 1531.4 1912.94 1536.01 Q1909.89 1540.59 1904.08 1540.59 Q1898.27 1540.59 1895.19 1536.01 Q1892.13 1531.4 1892.13 1522.67 Q1892.13 1513.92 1895.19 1509.34 Q1898.27 1504.73 1904.08 1504.73 Z\" fill=\"#000000\" fill-rule=\"evenodd\" fill-opacity=\"1\" /><path clip-path=\"url(#clip620)\" d=\"M 0 0 M2249.68 1535.98 L2257.31 1535.98 L2257.31 1509.62 L2249 1511.29 L2249 1507.03 L2257.27 1505.36 L2261.94 1505.36 L2261.94 1535.98 L2269.58 1535.98 L2269.58 1539.92 L2249.68 1539.92 L2249.68 1535.98 Z\" fill=\"#000000\" fill-rule=\"evenodd\" fill-opacity=\"1\" /><path clip-path=\"url(#clip620)\" d=\"M 0 0 M2273.47 1505.36 L2295.69 1505.36 L2295.69 1507.35 L2283.15 1539.92 L2278.26 1539.92 L2290.07 1509.3 L2273.47 1509.3 L2273.47 1505.36 Z\" fill=\"#000000\" fill-rule=\"evenodd\" fill-opacity=\"1\" /><path clip-path=\"url(#clip620)\" d=\"M 0 0 M2300.76 1534.04 L2305.65 1534.04 L2305.65 1539.92 L2300.76 1539.92 L2300.76 1534.04 Z\" fill=\"#000000\" fill-rule=\"evenodd\" fill-opacity=\"1\" /><path clip-path=\"url(#clip620)\" d=\"M 0 0 M2310.76 1505.36 L2329.12 1505.36 L2329.12 1509.3 L2315.05 1509.3 L2315.05 1517.77 Q2316.06 1517.42 2317.08 1517.26 Q2318.1 1517.07 2319.12 1517.07 Q2324.91 1517.07 2328.29 1520.24 Q2331.67 1523.42 2331.67 1528.83 Q2331.67 1534.41 2328.19 1537.51 Q2324.72 1540.59 2318.4 1540.59 Q2316.23 1540.59 2313.96 1540.22 Q2311.71 1539.85 2309.3 1539.11 L2309.3 1534.41 Q2311.39 1535.54 2313.61 1536.1 Q2315.83 1536.66 2318.31 1536.66 Q2322.31 1536.66 2324.65 1534.55 Q2326.99 1532.44 2326.99 1528.83 Q2326.99 1525.22 2324.65 1523.11 Q2322.31 1521.01 2318.31 1521.01 Q2316.43 1521.01 2314.56 1521.42 Q2312.71 1521.84 2310.76 1522.72 L2310.76 1505.36 Z\" fill=\"#000000\" fill-rule=\"evenodd\" fill-opacity=\"1\" /><path clip-path=\"url(#clip620)\" d=\"M 0 0 M80.7004 1450.01 Q84.0568 1450.73 85.9318 1453 Q87.83 1455.27 87.83 1458.6 Q87.83 1463.72 84.3115 1466.52 Q80.793 1469.32 74.3115 1469.32 Q72.1356 1469.32 69.8208 1468.88 Q67.5291 1468.46 65.0754 1467.61 L65.0754 1463.09 Q67.0199 1464.23 69.3347 1464.8 Q71.6495 1465.38 74.1726 1465.38 Q78.5707 1465.38 80.8624 1463.65 Q83.1772 1461.91 83.1772 1458.6 Q83.1772 1455.55 81.0244 1453.83 Q78.8948 1452.1 75.0754 1452.1 L71.0476 1452.1 L71.0476 1448.25 L75.2606 1448.25 Q78.7096 1448.25 80.5383 1446.89 Q82.367 1445.5 82.367 1442.91 Q82.367 1440.24 80.4689 1438.83 Q78.5939 1437.4 75.0754 1437.4 Q73.1541 1437.4 70.955 1437.81 Q68.756 1438.23 66.1171 1439.11 L66.1171 1434.94 Q68.7791 1434.2 71.0939 1433.83 Q73.4319 1433.46 75.4921 1433.46 Q80.8161 1433.46 83.9179 1435.89 Q87.0198 1438.3 87.0198 1442.42 Q87.0198 1445.29 85.3763 1447.28 Q83.7328 1449.25 80.7004 1450.01 Z\" fill=\"#000000\" fill-rule=\"evenodd\" fill-opacity=\"1\" /><path clip-path=\"url(#clip620)\" d=\"M 0 0 M92.8994 1462.77 L97.7836 1462.77 L97.7836 1468.65 L92.8994 1468.65 L92.8994 1462.77 Z\" fill=\"#000000\" fill-rule=\"evenodd\" fill-opacity=\"1\" /><path clip-path=\"url(#clip620)\" d=\"M 0 0 M106.881 1464.71 L123.2 1464.71 L123.2 1468.65 L101.256 1468.65 L101.256 1464.71 Q103.918 1461.96 108.501 1457.33 Q113.108 1452.67 114.288 1451.33 Q116.534 1448.81 117.413 1447.07 Q118.316 1445.31 118.316 1443.62 Q118.316 1440.87 116.371 1439.13 Q114.45 1437.4 111.348 1437.4 Q109.149 1437.4 106.696 1438.16 Q104.265 1438.92 101.487 1440.48 L101.487 1435.75 Q104.311 1434.62 106.765 1434.04 Q109.219 1433.46 111.256 1433.46 Q116.626 1433.46 119.821 1436.15 Q123.015 1438.83 123.015 1443.32 Q123.015 1445.45 122.205 1447.37 Q121.418 1449.27 119.311 1451.86 Q118.733 1452.54 115.631 1455.75 Q112.529 1458.95 106.881 1464.71 Z\" fill=\"#000000\" fill-rule=\"evenodd\" fill-opacity=\"1\" /><path clip-path=\"url(#clip620)\" d=\"M 0 0 M79.7513 1034.9 Q83.1078 1035.62 84.9827 1037.89 Q86.8809 1040.15 86.8809 1043.49 Q86.8809 1048.6 83.3624 1051.4 Q79.8439 1054.21 73.3624 1054.21 Q71.1865 1054.21 68.8717 1053.77 Q66.5801 1053.35 64.1264 1052.49 L64.1264 1047.98 Q66.0708 1049.11 68.3856 1049.69 Q70.7004 1050.27 73.2236 1050.27 Q77.6217 1050.27 79.9133 1048.53 Q82.2281 1046.8 82.2281 1043.49 Q82.2281 1040.43 80.0754 1038.72 Q77.9457 1036.98 74.1263 1036.98 L70.0986 1036.98 L70.0986 1033.14 L74.3115 1033.14 Q77.7606 1033.14 79.5893 1031.77 Q81.418 1030.39 81.418 1027.79 Q81.418 1025.13 79.5198 1023.72 Q77.6448 1022.28 74.1263 1022.28 Q72.205 1022.28 70.006 1022.7 Q67.8069 1023.12 65.168 1024 L65.168 1019.83 Q67.8301 1019.09 70.1449 1018.72 Q72.4828 1018.35 74.543 1018.35 Q79.867 1018.35 82.9689 1020.78 Q86.0707 1023.19 86.0707 1027.31 Q86.0707 1030.18 84.4272 1032.17 Q82.7837 1034.14 79.7513 1034.9 Z\" fill=\"#000000\" fill-rule=\"evenodd\" fill-opacity=\"1\" /><path clip-path=\"url(#clip620)\" d=\"M 0 0 M91.9503 1047.65 L96.8345 1047.65 L96.8345 1053.53 L91.9503 1053.53 L91.9503 1047.65 Z\" fill=\"#000000\" fill-rule=\"evenodd\" fill-opacity=\"1\" /><path clip-path=\"url(#clip620)\" d=\"M 0 0 M116.071 1034.9 Q119.427 1035.62 121.302 1037.89 Q123.2 1040.15 123.2 1043.49 Q123.2 1048.6 119.682 1051.4 Q116.163 1054.21 109.682 1054.21 Q107.506 1054.21 105.191 1053.77 Q102.899 1053.35 100.446 1052.49 L100.446 1047.98 Q102.39 1049.11 104.705 1049.69 Q107.02 1050.27 109.543 1050.27 Q113.941 1050.27 116.233 1048.53 Q118.547 1046.8 118.547 1043.49 Q118.547 1040.43 116.395 1038.72 Q114.265 1036.98 110.446 1036.98 L106.418 1036.98 L106.418 1033.14 L110.631 1033.14 Q114.08 1033.14 115.909 1031.77 Q117.737 1030.39 117.737 1027.79 Q117.737 1025.13 115.839 1023.72 Q113.964 1022.28 110.446 1022.28 Q108.524 1022.28 106.325 1022.7 Q104.126 1023.12 101.487 1024 L101.487 1019.83 Q104.149 1019.09 106.464 1018.72 Q108.802 1018.35 110.862 1018.35 Q116.186 1018.35 119.288 1020.78 Q122.39 1023.19 122.39 1027.31 Q122.39 1030.18 120.746 1032.17 Q119.103 1034.14 116.071 1034.9 Z\" fill=\"#000000\" fill-rule=\"evenodd\" fill-opacity=\"1\" /><path clip-path=\"url(#clip620)\" d=\"M 0 0 M78.617 619.787 Q81.9735 620.505 83.8485 622.773 Q85.7466 625.042 85.7466 628.375 Q85.7466 633.491 82.2281 636.292 Q78.7096 639.093 72.2282 639.093 Q70.0523 639.093 67.7375 638.653 Q65.4458 638.236 62.9921 637.38 L62.9921 632.866 Q64.9366 634 67.2514 634.579 Q69.5662 635.157 72.0893 635.157 Q76.4874 635.157 78.7791 633.421 Q81.0939 631.685 81.0939 628.375 Q81.0939 625.32 78.9411 623.607 Q76.8115 621.871 72.9921 621.871 L68.9643 621.871 L68.9643 618.028 L73.1773 618.028 Q76.6263 618.028 78.455 616.662 Q80.2837 615.273 80.2837 612.681 Q80.2837 610.019 78.3856 608.607 Q76.5106 607.172 72.9921 607.172 Q71.0708 607.172 68.8717 607.588 Q66.6727 608.005 64.0338 608.884 L64.0338 604.718 Q66.6958 603.977 69.0106 603.607 Q71.3486 603.236 73.4087 603.236 Q78.7328 603.236 81.8346 605.667 Q84.9365 608.074 84.9365 612.195 Q84.9365 615.065 83.2929 617.056 Q81.6494 619.023 78.617 619.787 Z\" fill=\"#000000\" fill-rule=\"evenodd\" fill-opacity=\"1\" /><path clip-path=\"url(#clip620)\" d=\"M 0 0 M90.8161 632.542 L95.7003 632.542 L95.7003 638.421 L90.8161 638.421 L90.8161 632.542 Z\" fill=\"#000000\" fill-rule=\"evenodd\" fill-opacity=\"1\" /><path clip-path=\"url(#clip620)\" d=\"M 0 0 M113.617 607.935 L101.811 626.384 L113.617 626.384 L113.617 607.935 M112.39 603.861 L118.27 603.861 L118.27 626.384 L123.2 626.384 L123.2 630.273 L118.27 630.273 L118.27 638.421 L113.617 638.421 L113.617 630.273 L98.0151 630.273 L98.0151 625.759 L112.39 603.861 Z\" fill=\"#000000\" fill-rule=\"evenodd\" fill-opacity=\"1\" /><path clip-path=\"url(#clip620)\" d=\"M 0 0 M80.0985 204.674 Q83.455 205.392 85.33 207.661 Q87.2281 209.929 87.2281 213.262 Q87.2281 218.378 83.7096 221.179 Q80.1911 223.98 73.7097 223.98 Q71.5337 223.98 69.2189 223.54 Q66.9273 223.123 64.4736 222.267 L64.4736 217.753 Q66.418 218.887 68.7328 219.466 Q71.0476 220.045 73.5708 220.045 Q77.9689 220.045 80.2606 218.309 Q82.5754 216.573 82.5754 213.262 Q82.5754 210.207 80.4226 208.494 Q78.293 206.758 74.4735 206.758 L70.4458 206.758 L70.4458 202.915 L74.6587 202.915 Q78.1078 202.915 79.9365 201.55 Q81.7652 200.161 81.7652 197.568 Q81.7652 194.906 79.867 193.494 Q77.992 192.059 74.4735 192.059 Q72.5523 192.059 70.3532 192.475 Q68.1541 192.892 65.5153 193.772 L65.5153 189.605 Q68.1773 188.864 70.4921 188.494 Q72.83 188.124 74.8902 188.124 Q80.2143 188.124 83.3161 190.554 Q86.4179 192.962 86.4179 197.082 Q86.4179 199.952 84.7744 201.943 Q83.1309 203.911 80.0985 204.674 Z\" fill=\"#000000\" fill-rule=\"evenodd\" fill-opacity=\"1\" /><path clip-path=\"url(#clip620)\" d=\"M 0 0 M92.2975 217.429 L97.1818 217.429 L97.1818 223.309 L92.2975 223.309 L92.2975 217.429 Z\" fill=\"#000000\" fill-rule=\"evenodd\" fill-opacity=\"1\" /><path clip-path=\"url(#clip620)\" d=\"M 0 0 M102.297 188.749 L120.654 188.749 L120.654 192.684 L106.58 192.684 L106.58 201.156 Q107.598 200.809 108.617 200.647 Q109.635 200.462 110.654 200.462 Q116.441 200.462 119.821 203.633 Q123.2 206.804 123.2 212.221 Q123.2 217.799 119.728 220.901 Q116.256 223.98 109.936 223.98 Q107.76 223.98 105.492 223.61 Q103.247 223.239 100.839 222.498 L100.839 217.799 Q102.922 218.934 105.145 219.489 Q107.367 220.045 109.844 220.045 Q113.848 220.045 116.186 217.938 Q118.524 215.832 118.524 212.221 Q118.524 208.61 116.186 206.503 Q113.848 204.397 109.844 204.397 Q107.969 204.397 106.094 204.813 Q104.242 205.23 102.297 206.11 L102.297 188.749 Z\" fill=\"#000000\" fill-rule=\"evenodd\" fill-opacity=\"1\" /><circle clip-path=\"url(#clip622)\" cx=\"209.622\" cy=\"87.9763\" r=\"10\" fill=\"#add8e6\" fill-rule=\"evenodd\" fill-opacity=\"1\" stroke=\"#000000\" stroke-opacity=\"1\" stroke-width=\"3.2\"/>\n",
       "<circle clip-path=\"url(#clip622)\" cx=\"1458.05\" cy=\"627.469\" r=\"10\" fill=\"#add8e6\" fill-rule=\"evenodd\" fill-opacity=\"1\" stroke=\"#000000\" stroke-opacity=\"1\" stroke-width=\"3.2\"/>\n",
       "<circle clip-path=\"url(#clip622)\" cx=\"2290.33\" cy=\"1445.72\" r=\"10\" fill=\"#add8e6\" fill-rule=\"evenodd\" fill-opacity=\"1\" stroke=\"#000000\" stroke-opacity=\"1\" stroke-width=\"3.2\"/>\n",
       "</svg>\n"
      ]
     },
     "execution_count": 36,
     "metadata": {},
     "output_type": "execute_result"
    }
   ],
   "source": [
    "#Mundo barra\n",
    "x_barra=x\n",
    "y_barra=log.(y)\n",
    "scatter(x_barra, y_barra, c=:lightblue, ms=3, leg=false)"
   ]
  },
  {
   "cell_type": "code",
   "execution_count": 37,
   "id": "f19de015",
   "metadata": {},
   "outputs": [
    {
     "data": {
      "image/svg+xml": [
       "<?xml version=\"1.0\" encoding=\"utf-8\"?>\n",
       "<svg xmlns=\"http://www.w3.org/2000/svg\" xmlns:xlink=\"http://www.w3.org/1999/xlink\" width=\"600\" height=\"400\" viewBox=\"0 0 2400 1600\">\n",
       "<defs>\n",
       "  <clipPath id=\"clip660\">\n",
       "    <rect x=\"0\" y=\"0\" width=\"2400\" height=\"1600\"/>\n",
       "  </clipPath>\n",
       "</defs>\n",
       "<path clip-path=\"url(#clip660)\" d=\"\n",
       "M0 1600 L2400 1600 L2400 0 L0 0  Z\n",
       "  \" fill=\"#ffffff\" fill-rule=\"evenodd\" fill-opacity=\"1\"/>\n",
       "<defs>\n",
       "  <clipPath id=\"clip661\">\n",
       "    <rect x=\"480\" y=\"0\" width=\"1681\" height=\"1600\"/>\n",
       "  </clipPath>\n",
       "</defs>\n",
       "<path clip-path=\"url(#clip660)\" d=\"\n",
       "M147.2 1486.45 L2352.76 1486.45 L2352.76 47.2441 L147.2 47.2441  Z\n",
       "  \" fill=\"#ffffff\" fill-rule=\"evenodd\" fill-opacity=\"1\"/>\n",
       "<defs>\n",
       "  <clipPath id=\"clip662\">\n",
       "    <rect x=\"147\" y=\"47\" width=\"2207\" height=\"1440\"/>\n",
       "  </clipPath>\n",
       "</defs>\n",
       "<polyline clip-path=\"url(#clip662)\" style=\"stroke:#000000; stroke-width:2; stroke-opacity:0.1; fill:none\" points=\"\n",
       "  209.622,1486.45 209.622,47.2441 \n",
       "  \"/>\n",
       "<polyline clip-path=\"url(#clip662)\" style=\"stroke:#000000; stroke-width:2; stroke-opacity:0.1; fill:none\" points=\"\n",
       "  903.193,1486.45 903.193,47.2441 \n",
       "  \"/>\n",
       "<polyline clip-path=\"url(#clip662)\" style=\"stroke:#000000; stroke-width:2; stroke-opacity:0.1; fill:none\" points=\"\n",
       "  1596.76,1486.45 1596.76,47.2441 \n",
       "  \"/>\n",
       "<polyline clip-path=\"url(#clip662)\" style=\"stroke:#000000; stroke-width:2; stroke-opacity:0.1; fill:none\" points=\"\n",
       "  2290.33,1486.45 2290.33,47.2441 \n",
       "  \"/>\n",
       "<polyline clip-path=\"url(#clip662)\" style=\"stroke:#000000; stroke-width:2; stroke-opacity:0.1; fill:none\" points=\"\n",
       "  147.2,1317.25 2352.76,1317.25 \n",
       "  \"/>\n",
       "<polyline clip-path=\"url(#clip662)\" style=\"stroke:#000000; stroke-width:2; stroke-opacity:0.1; fill:none\" points=\"\n",
       "  147.2,961.85 2352.76,961.85 \n",
       "  \"/>\n",
       "<polyline clip-path=\"url(#clip662)\" style=\"stroke:#000000; stroke-width:2; stroke-opacity:0.1; fill:none\" points=\"\n",
       "  147.2,606.446 2352.76,606.446 \n",
       "  \"/>\n",
       "<polyline clip-path=\"url(#clip662)\" style=\"stroke:#000000; stroke-width:2; stroke-opacity:0.1; fill:none\" points=\"\n",
       "  147.2,251.042 2352.76,251.042 \n",
       "  \"/>\n",
       "<polyline clip-path=\"url(#clip660)\" style=\"stroke:#000000; stroke-width:4; stroke-opacity:1; fill:none\" points=\"\n",
       "  147.2,1486.45 2352.76,1486.45 \n",
       "  \"/>\n",
       "<polyline clip-path=\"url(#clip660)\" style=\"stroke:#000000; stroke-width:4; stroke-opacity:1; fill:none\" points=\"\n",
       "  147.2,1486.45 147.2,47.2441 \n",
       "  \"/>\n",
       "<polyline clip-path=\"url(#clip660)\" style=\"stroke:#000000; stroke-width:4; stroke-opacity:1; fill:none\" points=\"\n",
       "  209.622,1486.45 209.622,1469.18 \n",
       "  \"/>\n",
       "<polyline clip-path=\"url(#clip660)\" style=\"stroke:#000000; stroke-width:4; stroke-opacity:1; fill:none\" points=\"\n",
       "  903.193,1486.45 903.193,1469.18 \n",
       "  \"/>\n",
       "<polyline clip-path=\"url(#clip660)\" style=\"stroke:#000000; stroke-width:4; stroke-opacity:1; fill:none\" points=\"\n",
       "  1596.76,1486.45 1596.76,1469.18 \n",
       "  \"/>\n",
       "<polyline clip-path=\"url(#clip660)\" style=\"stroke:#000000; stroke-width:4; stroke-opacity:1; fill:none\" points=\"\n",
       "  2290.33,1486.45 2290.33,1469.18 \n",
       "  \"/>\n",
       "<polyline clip-path=\"url(#clip660)\" style=\"stroke:#000000; stroke-width:4; stroke-opacity:1; fill:none\" points=\"\n",
       "  147.2,1317.25 173.667,1317.25 \n",
       "  \"/>\n",
       "<polyline clip-path=\"url(#clip660)\" style=\"stroke:#000000; stroke-width:4; stroke-opacity:1; fill:none\" points=\"\n",
       "  147.2,961.85 173.667,961.85 \n",
       "  \"/>\n",
       "<polyline clip-path=\"url(#clip660)\" style=\"stroke:#000000; stroke-width:4; stroke-opacity:1; fill:none\" points=\"\n",
       "  147.2,606.446 173.667,606.446 \n",
       "  \"/>\n",
       "<polyline clip-path=\"url(#clip660)\" style=\"stroke:#000000; stroke-width:4; stroke-opacity:1; fill:none\" points=\"\n",
       "  147.2,251.042 173.667,251.042 \n",
       "  \"/>\n",
       "<path clip-path=\"url(#clip660)\" d=\"M 0 0 M186.994 1535.98 L194.633 1535.98 L194.633 1509.62 L186.323 1511.29 L186.323 1507.03 L194.587 1505.36 L199.263 1505.36 L199.263 1535.98 L206.902 1535.98 L206.902 1539.92 L186.994 1539.92 L186.994 1535.98 Z\" fill=\"#000000\" fill-rule=\"evenodd\" fill-opacity=\"1\" /><path clip-path=\"url(#clip660)\" d=\"M 0 0 M212.017 1505.36 L230.374 1505.36 L230.374 1509.3 L216.3 1509.3 L216.3 1517.77 Q217.318 1517.42 218.337 1517.26 Q219.355 1517.07 220.374 1517.07 Q226.161 1517.07 229.54 1520.24 Q232.92 1523.42 232.92 1528.83 Q232.92 1534.41 229.448 1537.51 Q225.976 1540.59 219.656 1540.59 Q217.48 1540.59 215.212 1540.22 Q212.966 1539.85 210.559 1539.11 L210.559 1534.41 Q212.642 1535.54 214.865 1536.1 Q217.087 1536.66 219.564 1536.66 Q223.568 1536.66 225.906 1534.55 Q228.244 1532.44 228.244 1528.83 Q228.244 1525.22 225.906 1523.11 Q223.568 1521.01 219.564 1521.01 Q217.689 1521.01 215.814 1521.42 Q213.962 1521.84 212.017 1522.72 L212.017 1505.36 Z\" fill=\"#000000\" fill-rule=\"evenodd\" fill-opacity=\"1\" /><path clip-path=\"url(#clip660)\" d=\"M 0 0 M879.987 1535.98 L887.625 1535.98 L887.625 1509.62 L879.315 1511.29 L879.315 1507.03 L887.579 1505.36 L892.255 1505.36 L892.255 1535.98 L899.894 1535.98 L899.894 1539.92 L879.987 1539.92 L879.987 1535.98 Z\" fill=\"#000000\" fill-rule=\"evenodd\" fill-opacity=\"1\" /><path clip-path=\"url(#clip660)\" d=\"M 0 0 M915.542 1520.78 Q912.394 1520.78 910.542 1522.93 Q908.713 1525.08 908.713 1528.83 Q908.713 1532.56 910.542 1534.73 Q912.394 1536.89 915.542 1536.89 Q918.69 1536.89 920.519 1534.73 Q922.371 1532.56 922.371 1528.83 Q922.371 1525.08 920.519 1522.93 Q918.69 1520.78 915.542 1520.78 M924.824 1506.12 L924.824 1510.38 Q923.065 1509.55 921.26 1509.11 Q919.477 1508.67 917.718 1508.67 Q913.088 1508.67 910.635 1511.8 Q908.204 1514.92 907.857 1521.24 Q909.223 1519.23 911.283 1518.16 Q913.343 1517.07 915.82 1517.07 Q921.028 1517.07 924.037 1520.24 Q927.07 1523.39 927.07 1528.83 Q927.07 1534.16 923.922 1537.37 Q920.773 1540.59 915.542 1540.59 Q909.547 1540.59 906.375 1536.01 Q903.204 1531.4 903.204 1522.67 Q903.204 1514.48 907.093 1509.62 Q910.982 1504.73 917.533 1504.73 Q919.292 1504.73 921.074 1505.08 Q922.88 1505.43 924.824 1506.12 Z\" fill=\"#000000\" fill-rule=\"evenodd\" fill-opacity=\"1\" /><path clip-path=\"url(#clip660)\" d=\"M 0 0 M1574.09 1535.98 L1581.73 1535.98 L1581.73 1509.62 L1573.42 1511.29 L1573.42 1507.03 L1581.68 1505.36 L1586.36 1505.36 L1586.36 1535.98 L1594 1535.98 L1594 1539.92 L1574.09 1539.92 L1574.09 1535.98 Z\" fill=\"#000000\" fill-rule=\"evenodd\" fill-opacity=\"1\" /><path clip-path=\"url(#clip660)\" d=\"M 0 0 M1597.89 1505.36 L1620.11 1505.36 L1620.11 1507.35 L1607.56 1539.92 L1602.68 1539.92 L1614.48 1509.3 L1597.89 1509.3 L1597.89 1505.36 Z\" fill=\"#000000\" fill-rule=\"evenodd\" fill-opacity=\"1\" /><path clip-path=\"url(#clip660)\" d=\"M 0 0 M2267.26 1535.98 L2274.89 1535.98 L2274.89 1509.62 L2266.58 1511.29 L2266.58 1507.03 L2274.85 1505.36 L2279.52 1505.36 L2279.52 1535.98 L2287.16 1535.98 L2287.16 1539.92 L2267.26 1539.92 L2267.26 1535.98 Z\" fill=\"#000000\" fill-rule=\"evenodd\" fill-opacity=\"1\" /><path clip-path=\"url(#clip660)\" d=\"M 0 0 M2302.23 1523.51 Q2298.9 1523.51 2296.98 1525.29 Q2295.08 1527.07 2295.08 1530.2 Q2295.08 1533.32 2296.98 1535.11 Q2298.9 1536.89 2302.23 1536.89 Q2305.57 1536.89 2307.49 1535.11 Q2309.41 1533.3 2309.41 1530.2 Q2309.41 1527.07 2307.49 1525.29 Q2305.59 1523.51 2302.23 1523.51 M2297.56 1521.52 Q2294.55 1520.78 2292.86 1518.72 Q2291.19 1516.66 2291.19 1513.69 Q2291.19 1509.55 2294.13 1507.14 Q2297.09 1504.73 2302.23 1504.73 Q2307.39 1504.73 2310.33 1507.14 Q2313.27 1509.55 2313.27 1513.69 Q2313.27 1516.66 2311.58 1518.72 Q2309.92 1520.78 2306.93 1521.52 Q2310.31 1522.3 2312.19 1524.6 Q2314.08 1526.89 2314.08 1530.2 Q2314.08 1535.22 2311.01 1537.91 Q2307.95 1540.59 2302.23 1540.59 Q2296.52 1540.59 2293.44 1537.91 Q2290.38 1535.22 2290.38 1530.2 Q2290.38 1526.89 2292.28 1524.6 Q2294.18 1522.3 2297.56 1521.52 M2295.84 1514.13 Q2295.84 1516.82 2297.51 1518.32 Q2299.2 1519.83 2302.23 1519.83 Q2305.24 1519.83 2306.93 1518.32 Q2308.64 1516.82 2308.64 1514.13 Q2308.64 1511.45 2306.93 1509.94 Q2305.24 1508.44 2302.23 1508.44 Q2299.2 1508.44 2297.51 1509.94 Q2295.84 1511.45 2295.84 1514.13 Z\" fill=\"#000000\" fill-rule=\"evenodd\" fill-opacity=\"1\" /><path clip-path=\"url(#clip660)\" d=\"M 0 0 M80.7004 1315.9 Q84.0568 1316.62 85.9318 1318.89 Q87.83 1321.15 87.83 1324.49 Q87.83 1329.6 84.3115 1332.4 Q80.793 1335.21 74.3115 1335.21 Q72.1356 1335.21 69.8208 1334.77 Q67.5291 1334.35 65.0754 1333.49 L65.0754 1328.98 Q67.0199 1330.11 69.3347 1330.69 Q71.6495 1331.27 74.1726 1331.27 Q78.5707 1331.27 80.8624 1329.53 Q83.1772 1327.8 83.1772 1324.49 Q83.1772 1321.43 81.0244 1319.72 Q78.8948 1317.98 75.0754 1317.98 L71.0476 1317.98 L71.0476 1314.14 L75.2606 1314.14 Q78.7096 1314.14 80.5383 1312.77 Q82.367 1311.39 82.367 1308.79 Q82.367 1306.13 80.4689 1304.72 Q78.5939 1303.28 75.0754 1303.28 Q73.1541 1303.28 70.955 1303.7 Q68.756 1304.12 66.1171 1305 L66.1171 1300.83 Q68.7791 1300.09 71.0939 1299.72 Q73.4319 1299.35 75.4921 1299.35 Q80.8161 1299.35 83.9179 1301.78 Q87.0198 1304.19 87.0198 1308.31 Q87.0198 1311.18 85.3763 1313.17 Q83.7328 1315.14 80.7004 1315.9 Z\" fill=\"#000000\" fill-rule=\"evenodd\" fill-opacity=\"1\" /><path clip-path=\"url(#clip660)\" d=\"M 0 0 M92.8994 1328.65 L97.7836 1328.65 L97.7836 1334.53 L92.8994 1334.53 L92.8994 1328.65 Z\" fill=\"#000000\" fill-rule=\"evenodd\" fill-opacity=\"1\" /><path clip-path=\"url(#clip660)\" d=\"M 0 0 M106.881 1330.6 L123.2 1330.6 L123.2 1334.53 L101.256 1334.53 L101.256 1330.6 Q103.918 1327.84 108.501 1323.21 Q113.108 1318.56 114.288 1317.22 Q116.534 1314.7 117.413 1312.96 Q118.316 1311.2 118.316 1309.51 Q118.316 1306.76 116.371 1305.02 Q114.45 1303.28 111.348 1303.28 Q109.149 1303.28 106.696 1304.05 Q104.265 1304.81 101.487 1306.36 L101.487 1301.64 Q104.311 1300.51 106.765 1299.93 Q109.219 1299.35 111.256 1299.35 Q116.626 1299.35 119.821 1302.03 Q123.015 1304.72 123.015 1309.21 Q123.015 1311.34 122.205 1313.26 Q121.418 1315.16 119.311 1317.75 Q118.733 1318.42 115.631 1321.64 Q112.529 1324.83 106.881 1330.6 Z\" fill=\"#000000\" fill-rule=\"evenodd\" fill-opacity=\"1\" /><path clip-path=\"url(#clip660)\" d=\"M 0 0 M79.7513 960.496 Q83.1078 961.213 84.9827 963.482 Q86.8809 965.75 86.8809 969.084 Q86.8809 974.199 83.3624 977 Q79.8439 979.801 73.3624 979.801 Q71.1865 979.801 68.8717 979.361 Q66.5801 978.945 64.1264 978.088 L64.1264 973.574 Q66.0708 974.708 68.3856 975.287 Q70.7004 975.866 73.2236 975.866 Q77.6217 975.866 79.9133 974.13 Q82.2281 972.394 82.2281 969.084 Q82.2281 966.028 80.0754 964.315 Q77.9457 962.579 74.1263 962.579 L70.0986 962.579 L70.0986 958.736 L74.3115 958.736 Q77.7606 958.736 79.5893 957.371 Q81.418 955.982 81.418 953.389 Q81.418 950.727 79.5198 949.315 Q77.6448 947.88 74.1263 947.88 Q72.205 947.88 70.006 948.297 Q67.8069 948.713 65.168 949.593 L65.168 945.426 Q67.8301 944.685 70.1449 944.315 Q72.4828 943.945 74.543 943.945 Q79.867 943.945 82.9689 946.375 Q86.0707 948.783 86.0707 952.903 Q86.0707 955.773 84.4272 957.764 Q82.7837 959.732 79.7513 960.496 Z\" fill=\"#000000\" fill-rule=\"evenodd\" fill-opacity=\"1\" /><path clip-path=\"url(#clip660)\" d=\"M 0 0 M91.9503 973.25 L96.8345 973.25 L96.8345 979.13 L91.9503 979.13 L91.9503 973.25 Z\" fill=\"#000000\" fill-rule=\"evenodd\" fill-opacity=\"1\" /><path clip-path=\"url(#clip660)\" d=\"M 0 0 M116.071 960.496 Q119.427 961.213 121.302 963.482 Q123.2 965.75 123.2 969.084 Q123.2 974.199 119.682 977 Q116.163 979.801 109.682 979.801 Q107.506 979.801 105.191 979.361 Q102.899 978.945 100.446 978.088 L100.446 973.574 Q102.39 974.708 104.705 975.287 Q107.02 975.866 109.543 975.866 Q113.941 975.866 116.233 974.13 Q118.547 972.394 118.547 969.084 Q118.547 966.028 116.395 964.315 Q114.265 962.579 110.446 962.579 L106.418 962.579 L106.418 958.736 L110.631 958.736 Q114.08 958.736 115.909 957.371 Q117.737 955.982 117.737 953.389 Q117.737 950.727 115.839 949.315 Q113.964 947.88 110.446 947.88 Q108.524 947.88 106.325 948.297 Q104.126 948.713 101.487 949.593 L101.487 945.426 Q104.149 944.685 106.464 944.315 Q108.802 943.945 110.862 943.945 Q116.186 943.945 119.288 946.375 Q122.39 948.783 122.39 952.903 Q122.39 955.773 120.746 957.764 Q119.103 959.732 116.071 960.496 Z\" fill=\"#000000\" fill-rule=\"evenodd\" fill-opacity=\"1\" /><path clip-path=\"url(#clip660)\" d=\"M 0 0 M78.617 605.091 Q81.9735 605.809 83.8485 608.078 Q85.7466 610.346 85.7466 613.679 Q85.7466 618.795 82.2281 621.596 Q78.7096 624.397 72.2282 624.397 Q70.0523 624.397 67.7375 623.957 Q65.4458 623.54 62.9921 622.684 L62.9921 618.17 Q64.9366 619.304 67.2514 619.883 Q69.5662 620.462 72.0893 620.462 Q76.4874 620.462 78.7791 618.726 Q81.0939 616.99 81.0939 613.679 Q81.0939 610.624 78.9411 608.911 Q76.8115 607.175 72.9921 607.175 L68.9643 607.175 L68.9643 603.332 L73.1773 603.332 Q76.6263 603.332 78.455 601.967 Q80.2837 600.578 80.2837 597.985 Q80.2837 595.323 78.3856 593.911 Q76.5106 592.476 72.9921 592.476 Q71.0708 592.476 68.8717 592.892 Q66.6727 593.309 64.0338 594.189 L64.0338 590.022 Q66.6958 589.281 69.0106 588.911 Q71.3486 588.541 73.4087 588.541 Q78.7328 588.541 81.8346 590.971 Q84.9365 593.379 84.9365 597.499 Q84.9365 600.369 83.2929 602.36 Q81.6494 604.328 78.617 605.091 Z\" fill=\"#000000\" fill-rule=\"evenodd\" fill-opacity=\"1\" /><path clip-path=\"url(#clip660)\" d=\"M 0 0 M90.8161 617.846 L95.7003 617.846 L95.7003 623.726 L90.8161 623.726 L90.8161 617.846 Z\" fill=\"#000000\" fill-rule=\"evenodd\" fill-opacity=\"1\" /><path clip-path=\"url(#clip660)\" d=\"M 0 0 M113.617 593.24 L101.811 611.689 L113.617 611.689 L113.617 593.24 M112.39 589.166 L118.27 589.166 L118.27 611.689 L123.2 611.689 L123.2 615.578 L118.27 615.578 L118.27 623.726 L113.617 623.726 L113.617 615.578 L98.0151 615.578 L98.0151 611.064 L112.39 589.166 Z\" fill=\"#000000\" fill-rule=\"evenodd\" fill-opacity=\"1\" /><path clip-path=\"url(#clip660)\" d=\"M 0 0 M80.0985 249.687 Q83.455 250.405 85.33 252.673 Q87.2281 254.942 87.2281 258.275 Q87.2281 263.391 83.7096 266.192 Q80.1911 268.993 73.7097 268.993 Q71.5337 268.993 69.2189 268.553 Q66.9273 268.136 64.4736 267.28 L64.4736 262.766 Q66.418 263.9 68.7328 264.479 Q71.0476 265.058 73.5708 265.058 Q77.9689 265.058 80.2606 263.322 Q82.5754 261.585 82.5754 258.275 Q82.5754 255.22 80.4226 253.507 Q78.293 251.771 74.4735 251.771 L70.4458 251.771 L70.4458 247.928 L74.6587 247.928 Q78.1078 247.928 79.9365 246.562 Q81.7652 245.174 81.7652 242.581 Q81.7652 239.919 79.867 238.507 Q77.992 237.072 74.4735 237.072 Q72.5523 237.072 70.3532 237.488 Q68.1541 237.905 65.5153 238.785 L65.5153 234.618 Q68.1773 233.877 70.4921 233.507 Q72.83 233.137 74.8902 233.137 Q80.2143 233.137 83.3161 235.567 Q86.4179 237.974 86.4179 242.095 Q86.4179 244.965 84.7744 246.956 Q83.1309 248.923 80.0985 249.687 Z\" fill=\"#000000\" fill-rule=\"evenodd\" fill-opacity=\"1\" /><path clip-path=\"url(#clip660)\" d=\"M 0 0 M92.2975 262.442 L97.1818 262.442 L97.1818 268.322 L92.2975 268.322 L92.2975 262.442 Z\" fill=\"#000000\" fill-rule=\"evenodd\" fill-opacity=\"1\" /><path clip-path=\"url(#clip660)\" d=\"M 0 0 M102.297 233.762 L120.654 233.762 L120.654 237.697 L106.58 237.697 L106.58 246.169 Q107.598 245.822 108.617 245.66 Q109.635 245.474 110.654 245.474 Q116.441 245.474 119.821 248.646 Q123.2 251.817 123.2 257.234 Q123.2 262.812 119.728 265.914 Q116.256 268.993 109.936 268.993 Q107.76 268.993 105.492 268.622 Q103.247 268.252 100.839 267.511 L100.839 262.812 Q102.922 263.947 105.145 264.502 Q107.367 265.058 109.844 265.058 Q113.848 265.058 116.186 262.951 Q118.524 260.845 118.524 257.234 Q118.524 253.623 116.186 251.516 Q113.848 249.41 109.844 249.41 Q107.969 249.41 106.094 249.826 Q104.242 250.243 102.297 251.123 L102.297 233.762 Z\" fill=\"#000000\" fill-rule=\"evenodd\" fill-opacity=\"1\" /><circle clip-path=\"url(#clip662)\" cx=\"209.622\" cy=\"149.969\" r=\"10\" fill=\"#add8e6\" fill-rule=\"evenodd\" fill-opacity=\"1\" stroke=\"#000000\" stroke-opacity=\"1\" stroke-width=\"3.2\"/>\n",
       "<circle clip-path=\"url(#clip662)\" cx=\"1249.98\" cy=\"611.863\" r=\"10\" fill=\"#add8e6\" fill-rule=\"evenodd\" fill-opacity=\"1\" stroke=\"#000000\" stroke-opacity=\"1\" stroke-width=\"3.2\"/>\n",
       "<circle clip-path=\"url(#clip662)\" cx=\"1943.55\" cy=\"1312.42\" r=\"10\" fill=\"#add8e6\" fill-rule=\"evenodd\" fill-opacity=\"1\" stroke=\"#000000\" stroke-opacity=\"1\" stroke-width=\"3.2\"/>\n",
       "<polyline clip-path=\"url(#clip662)\" style=\"stroke:#e26f46; stroke-width:4; stroke-opacity:1; fill:none\" points=\"\n",
       "  209.622,87.9763 229.941,101.236 417.828,223.838 530.74,297.517 626.205,359.812 729.908,427.482 825.512,489.867 928.01,556.751 1046.76,634.242 1152.3,703.107 \n",
       "  1244.84,763.496 1345.74,829.335 1447.24,895.566 1559.46,968.793 1666.23,1038.47 1777.25,1110.91 1870.71,1171.89 1984.8,1246.35 2092.06,1316.33 2263.89,1428.46 \n",
       "  2290.33,1445.72 \n",
       "  \"/>\n",
       "</svg>\n"
      ]
     },
     "execution_count": 37,
     "metadata": {},
     "output_type": "execute_result"
    }
   ],
   "source": [
    "V=vandermonde(x_barra,y_barra,1)\n",
    "c_barra=regressão(x_barra,y_barra,1)\n",
    "reta_barra(x)=c_barra[1]+c_barra[2]*x\n",
    "scatter(x_barra, y_barra, c=:lightblue, ms=3, leg=false)\n",
    "plot!(reta_barra,15,18)"
   ]
  },
  {
   "cell_type": "code",
   "execution_count": 38,
   "id": "98191ff0",
   "metadata": {},
   "outputs": [
    {
     "data": {
      "image/svg+xml": [
       "<?xml version=\"1.0\" encoding=\"utf-8\"?>\n",
       "<svg xmlns=\"http://www.w3.org/2000/svg\" xmlns:xlink=\"http://www.w3.org/1999/xlink\" width=\"600\" height=\"400\" viewBox=\"0 0 2400 1600\">\n",
       "<defs>\n",
       "  <clipPath id=\"clip700\">\n",
       "    <rect x=\"0\" y=\"0\" width=\"2400\" height=\"1600\"/>\n",
       "  </clipPath>\n",
       "</defs>\n",
       "<path clip-path=\"url(#clip700)\" d=\"\n",
       "M0 1600 L2400 1600 L2400 0 L0 0  Z\n",
       "  \" fill=\"#ffffff\" fill-rule=\"evenodd\" fill-opacity=\"1\"/>\n",
       "<defs>\n",
       "  <clipPath id=\"clip701\">\n",
       "    <rect x=\"480\" y=\"0\" width=\"1681\" height=\"1600\"/>\n",
       "  </clipPath>\n",
       "</defs>\n",
       "<path clip-path=\"url(#clip700)\" d=\"\n",
       "M162.964 1486.45 L2352.76 1486.45 L2352.76 47.2441 L162.964 47.2441  Z\n",
       "  \" fill=\"#ffffff\" fill-rule=\"evenodd\" fill-opacity=\"1\"/>\n",
       "<defs>\n",
       "  <clipPath id=\"clip702\">\n",
       "    <rect x=\"162\" y=\"47\" width=\"2191\" height=\"1440\"/>\n",
       "  </clipPath>\n",
       "</defs>\n",
       "<polyline clip-path=\"url(#clip702)\" style=\"stroke:#000000; stroke-width:2; stroke-opacity:0.1; fill:none\" points=\"\n",
       "  224.939,1486.45 224.939,47.2441 \n",
       "  \"/>\n",
       "<polyline clip-path=\"url(#clip702)\" style=\"stroke:#000000; stroke-width:2; stroke-opacity:0.1; fill:none\" points=\"\n",
       "  655.323,1486.45 655.323,47.2441 \n",
       "  \"/>\n",
       "<polyline clip-path=\"url(#clip702)\" style=\"stroke:#000000; stroke-width:2; stroke-opacity:0.1; fill:none\" points=\"\n",
       "  1085.71,1486.45 1085.71,47.2441 \n",
       "  \"/>\n",
       "<polyline clip-path=\"url(#clip702)\" style=\"stroke:#000000; stroke-width:2; stroke-opacity:0.1; fill:none\" points=\"\n",
       "  1516.09,1486.45 1516.09,47.2441 \n",
       "  \"/>\n",
       "<polyline clip-path=\"url(#clip702)\" style=\"stroke:#000000; stroke-width:2; stroke-opacity:0.1; fill:none\" points=\"\n",
       "  1946.47,1486.45 1946.47,47.2441 \n",
       "  \"/>\n",
       "<polyline clip-path=\"url(#clip702)\" style=\"stroke:#000000; stroke-width:2; stroke-opacity:0.1; fill:none\" points=\"\n",
       "  162.964,1189.55 2352.76,1189.55 \n",
       "  \"/>\n",
       "<polyline clip-path=\"url(#clip702)\" style=\"stroke:#000000; stroke-width:2; stroke-opacity:0.1; fill:none\" points=\"\n",
       "  162.964,855.838 2352.76,855.838 \n",
       "  \"/>\n",
       "<polyline clip-path=\"url(#clip702)\" style=\"stroke:#000000; stroke-width:2; stroke-opacity:0.1; fill:none\" points=\"\n",
       "  162.964,522.129 2352.76,522.129 \n",
       "  \"/>\n",
       "<polyline clip-path=\"url(#clip702)\" style=\"stroke:#000000; stroke-width:2; stroke-opacity:0.1; fill:none\" points=\"\n",
       "  162.964,188.421 2352.76,188.421 \n",
       "  \"/>\n",
       "<polyline clip-path=\"url(#clip700)\" style=\"stroke:#000000; stroke-width:4; stroke-opacity:1; fill:none\" points=\"\n",
       "  162.964,1486.45 2352.76,1486.45 \n",
       "  \"/>\n",
       "<polyline clip-path=\"url(#clip700)\" style=\"stroke:#000000; stroke-width:4; stroke-opacity:1; fill:none\" points=\"\n",
       "  162.964,1486.45 162.964,47.2441 \n",
       "  \"/>\n",
       "<polyline clip-path=\"url(#clip700)\" style=\"stroke:#000000; stroke-width:4; stroke-opacity:1; fill:none\" points=\"\n",
       "  224.939,1486.45 224.939,1469.18 \n",
       "  \"/>\n",
       "<polyline clip-path=\"url(#clip700)\" style=\"stroke:#000000; stroke-width:4; stroke-opacity:1; fill:none\" points=\"\n",
       "  655.323,1486.45 655.323,1469.18 \n",
       "  \"/>\n",
       "<polyline clip-path=\"url(#clip700)\" style=\"stroke:#000000; stroke-width:4; stroke-opacity:1; fill:none\" points=\"\n",
       "  1085.71,1486.45 1085.71,1469.18 \n",
       "  \"/>\n",
       "<polyline clip-path=\"url(#clip700)\" style=\"stroke:#000000; stroke-width:4; stroke-opacity:1; fill:none\" points=\"\n",
       "  1516.09,1486.45 1516.09,1469.18 \n",
       "  \"/>\n",
       "<polyline clip-path=\"url(#clip700)\" style=\"stroke:#000000; stroke-width:4; stroke-opacity:1; fill:none\" points=\"\n",
       "  1946.47,1486.45 1946.47,1469.18 \n",
       "  \"/>\n",
       "<polyline clip-path=\"url(#clip700)\" style=\"stroke:#000000; stroke-width:4; stroke-opacity:1; fill:none\" points=\"\n",
       "  162.964,1189.55 189.241,1189.55 \n",
       "  \"/>\n",
       "<polyline clip-path=\"url(#clip700)\" style=\"stroke:#000000; stroke-width:4; stroke-opacity:1; fill:none\" points=\"\n",
       "  162.964,855.838 189.241,855.838 \n",
       "  \"/>\n",
       "<polyline clip-path=\"url(#clip700)\" style=\"stroke:#000000; stroke-width:4; stroke-opacity:1; fill:none\" points=\"\n",
       "  162.964,522.129 189.241,522.129 \n",
       "  \"/>\n",
       "<polyline clip-path=\"url(#clip700)\" style=\"stroke:#000000; stroke-width:4; stroke-opacity:1; fill:none\" points=\"\n",
       "  162.964,188.421 189.241,188.421 \n",
       "  \"/>\n",
       "<path clip-path=\"url(#clip700)\" d=\"M 0 0 M224.939 1508.44 Q221.328 1508.44 219.499 1512 Q217.694 1515.55 217.694 1522.67 Q217.694 1529.78 219.499 1533.35 Q221.328 1536.89 224.939 1536.89 Q228.573 1536.89 230.379 1533.35 Q232.208 1529.78 232.208 1522.67 Q232.208 1515.55 230.379 1512 Q228.573 1508.44 224.939 1508.44 M224.939 1504.73 Q230.749 1504.73 233.805 1509.34 Q236.884 1513.92 236.884 1522.67 Q236.884 1531.4 233.805 1536.01 Q230.749 1540.59 224.939 1540.59 Q219.129 1540.59 216.05 1536.01 Q212.995 1531.4 212.995 1522.67 Q212.995 1513.92 216.05 1509.34 Q219.129 1504.73 224.939 1504.73 Z\" fill=\"#000000\" fill-rule=\"evenodd\" fill-opacity=\"1\" /><path clip-path=\"url(#clip700)\" d=\"M 0 0 M645.601 1505.36 L663.957 1505.36 L663.957 1509.3 L649.883 1509.3 L649.883 1517.77 Q650.902 1517.42 651.92 1517.26 Q652.939 1517.07 653.957 1517.07 Q659.744 1517.07 663.124 1520.24 Q666.503 1523.42 666.503 1528.83 Q666.503 1534.41 663.031 1537.51 Q659.559 1540.59 653.24 1540.59 Q651.064 1540.59 648.795 1540.22 Q646.55 1539.85 644.142 1539.11 L644.142 1534.41 Q646.226 1535.54 648.448 1536.1 Q650.67 1536.66 653.147 1536.66 Q657.152 1536.66 659.489 1534.55 Q661.827 1532.44 661.827 1528.83 Q661.827 1525.22 659.489 1523.11 Q657.152 1521.01 653.147 1521.01 Q651.272 1521.01 649.397 1521.42 Q647.545 1521.84 645.601 1522.72 L645.601 1505.36 Z\" fill=\"#000000\" fill-rule=\"evenodd\" fill-opacity=\"1\" /><path clip-path=\"url(#clip700)\" d=\"M 0 0 M1062.58 1535.98 L1070.22 1535.98 L1070.22 1509.62 L1061.91 1511.29 L1061.91 1507.03 L1070.17 1505.36 L1074.85 1505.36 L1074.85 1535.98 L1082.49 1535.98 L1082.49 1539.92 L1062.58 1539.92 L1062.58 1535.98 Z\" fill=\"#000000\" fill-rule=\"evenodd\" fill-opacity=\"1\" /><path clip-path=\"url(#clip700)\" d=\"M 0 0 M1097.56 1508.44 Q1093.95 1508.44 1092.12 1512 Q1090.31 1515.55 1090.31 1522.67 Q1090.31 1529.78 1092.12 1533.35 Q1093.95 1536.89 1097.56 1536.89 Q1101.19 1536.89 1103 1533.35 Q1104.83 1529.78 1104.83 1522.67 Q1104.83 1515.55 1103 1512 Q1101.19 1508.44 1097.56 1508.44 M1097.56 1504.73 Q1103.37 1504.73 1106.42 1509.34 Q1109.5 1513.92 1109.5 1522.67 Q1109.5 1531.4 1106.42 1536.01 Q1103.37 1540.59 1097.56 1540.59 Q1091.75 1540.59 1088.67 1536.01 Q1085.61 1531.4 1085.61 1522.67 Q1085.61 1513.92 1088.67 1509.34 Q1091.75 1504.73 1097.56 1504.73 Z\" fill=\"#000000\" fill-rule=\"evenodd\" fill-opacity=\"1\" /><path clip-path=\"url(#clip700)\" d=\"M 0 0 M1493.46 1535.98 L1501.1 1535.98 L1501.1 1509.62 L1492.79 1511.29 L1492.79 1507.03 L1501.06 1505.36 L1505.73 1505.36 L1505.73 1535.98 L1513.37 1535.98 L1513.37 1539.92 L1493.46 1539.92 L1493.46 1535.98 Z\" fill=\"#000000\" fill-rule=\"evenodd\" fill-opacity=\"1\" /><path clip-path=\"url(#clip700)\" d=\"M 0 0 M1518.49 1505.36 L1536.84 1505.36 L1536.84 1509.3 L1522.77 1509.3 L1522.77 1517.77 Q1523.79 1517.42 1524.81 1517.26 Q1525.82 1517.07 1526.84 1517.07 Q1532.63 1517.07 1536.01 1520.24 Q1539.39 1523.42 1539.39 1528.83 Q1539.39 1534.41 1535.92 1537.51 Q1532.44 1540.59 1526.12 1540.59 Q1523.95 1540.59 1521.68 1540.22 Q1519.43 1539.85 1517.03 1539.11 L1517.03 1534.41 Q1519.11 1535.54 1521.33 1536.1 Q1523.56 1536.66 1526.03 1536.66 Q1530.04 1536.66 1532.37 1534.55 Q1534.71 1532.44 1534.71 1528.83 Q1534.71 1525.22 1532.37 1523.11 Q1530.04 1521.01 1526.03 1521.01 Q1524.16 1521.01 1522.28 1521.42 Q1520.43 1521.84 1518.49 1522.72 L1518.49 1505.36 Z\" fill=\"#000000\" fill-rule=\"evenodd\" fill-opacity=\"1\" /><path clip-path=\"url(#clip700)\" d=\"M 0 0 M1927.62 1535.98 L1943.94 1535.98 L1943.94 1539.92 L1921.99 1539.92 L1921.99 1535.98 Q1924.66 1533.23 1929.24 1528.6 Q1933.85 1523.95 1935.03 1522.61 Q1937.27 1520.08 1938.15 1518.35 Q1939.05 1516.59 1939.05 1514.9 Q1939.05 1512.14 1937.11 1510.41 Q1935.19 1508.67 1932.09 1508.67 Q1929.89 1508.67 1927.43 1509.43 Q1925 1510.2 1922.23 1511.75 L1922.23 1507.03 Q1925.05 1505.89 1927.5 1505.31 Q1929.96 1504.73 1931.99 1504.73 Q1937.37 1504.73 1940.56 1507.42 Q1943.75 1510.11 1943.75 1514.6 Q1943.75 1516.73 1942.94 1518.65 Q1942.16 1520.54 1940.05 1523.14 Q1939.47 1523.81 1936.37 1527.03 Q1933.27 1530.22 1927.62 1535.98 Z\" fill=\"#000000\" fill-rule=\"evenodd\" fill-opacity=\"1\" /><path clip-path=\"url(#clip700)\" d=\"M 0 0 M1959.01 1508.44 Q1955.4 1508.44 1953.57 1512 Q1951.76 1515.55 1951.76 1522.67 Q1951.76 1529.78 1953.57 1533.35 Q1955.4 1536.89 1959.01 1536.89 Q1962.64 1536.89 1964.45 1533.35 Q1966.28 1529.78 1966.28 1522.67 Q1966.28 1515.55 1964.45 1512 Q1962.64 1508.44 1959.01 1508.44 M1959.01 1504.73 Q1964.82 1504.73 1967.87 1509.34 Q1970.95 1513.92 1970.95 1522.67 Q1970.95 1531.4 1967.87 1536.01 Q1964.82 1540.59 1959.01 1540.59 Q1953.2 1540.59 1950.12 1536.01 Q1947.06 1531.4 1947.06 1522.67 Q1947.06 1513.92 1950.12 1509.34 Q1953.2 1504.73 1959.01 1504.73 Z\" fill=\"#000000\" fill-rule=\"evenodd\" fill-opacity=\"1\" /><path clip-path=\"url(#clip700)\" d=\"M 0 0 M91.0475 1172.27 L109.404 1172.27 L109.404 1176.2 L95.3299 1176.2 L95.3299 1184.67 Q96.3484 1184.33 97.3669 1184.16 Q98.3855 1183.98 99.404 1183.98 Q105.191 1183.98 108.571 1187.15 Q111.95 1190.32 111.95 1195.74 Q111.95 1201.32 108.478 1204.42 Q105.006 1207.5 98.6864 1207.5 Q96.5105 1207.5 94.242 1207.13 Q91.9966 1206.76 89.5892 1206.02 L89.5892 1201.32 Q91.6725 1202.45 93.8947 1203.01 Q96.1169 1203.56 98.5938 1203.56 Q102.598 1203.56 104.936 1201.46 Q107.274 1199.35 107.274 1195.74 Q107.274 1192.13 104.936 1190.02 Q102.598 1187.91 98.5938 1187.91 Q96.7188 1187.91 94.8438 1188.33 Q92.992 1188.75 91.0475 1189.63 L91.0475 1172.27 Z\" fill=\"#000000\" fill-rule=\"evenodd\" fill-opacity=\"1\" /><path clip-path=\"url(#clip700)\" d=\"M 0 0 M127.02 1175.34 Q123.408 1175.34 121.58 1178.91 Q119.774 1182.45 119.774 1189.58 Q119.774 1196.69 121.58 1200.25 Q123.408 1203.79 127.02 1203.79 Q130.654 1203.79 132.459 1200.25 Q134.288 1196.69 134.288 1189.58 Q134.288 1182.45 132.459 1178.91 Q130.654 1175.34 127.02 1175.34 M127.02 1171.64 Q132.83 1171.64 135.885 1176.25 Q138.964 1180.83 138.964 1189.58 Q138.964 1198.31 135.885 1202.91 Q132.83 1207.5 127.02 1207.5 Q121.209 1207.5 118.131 1202.91 Q115.075 1198.31 115.075 1189.58 Q115.075 1180.83 118.131 1176.25 Q121.209 1171.64 127.02 1171.64 Z\" fill=\"#000000\" fill-rule=\"evenodd\" fill-opacity=\"1\" /><path clip-path=\"url(#clip700)\" d=\"M 0 0 M65.0292 869.183 L72.668 869.183 L72.668 842.817 L64.3579 844.484 L64.3579 840.224 L72.6217 838.558 L77.2976 838.558 L77.2976 869.183 L84.9365 869.183 L84.9365 873.118 L65.0292 873.118 L65.0292 869.183 Z\" fill=\"#000000\" fill-rule=\"evenodd\" fill-opacity=\"1\" /><path clip-path=\"url(#clip700)\" d=\"M 0 0 M100.006 841.636 Q96.3947 841.636 94.566 845.201 Q92.7605 848.743 92.7605 855.872 Q92.7605 862.979 94.566 866.544 Q96.3947 870.085 100.006 870.085 Q103.64 870.085 105.446 866.544 Q107.274 862.979 107.274 855.872 Q107.274 848.743 105.446 845.201 Q103.64 841.636 100.006 841.636 M100.006 837.933 Q105.816 837.933 108.872 842.539 Q111.95 847.122 111.95 855.872 Q111.95 864.599 108.872 869.206 Q105.816 873.789 100.006 873.789 Q94.1957 873.789 91.117 869.206 Q88.0614 864.599 88.0614 855.872 Q88.0614 847.122 91.117 842.539 Q94.1957 837.933 100.006 837.933 Z\" fill=\"#000000\" fill-rule=\"evenodd\" fill-opacity=\"1\" /><path clip-path=\"url(#clip700)\" d=\"M 0 0 M127.02 841.636 Q123.408 841.636 121.58 845.201 Q119.774 848.743 119.774 855.872 Q119.774 862.979 121.58 866.544 Q123.408 870.085 127.02 870.085 Q130.654 870.085 132.459 866.544 Q134.288 862.979 134.288 855.872 Q134.288 848.743 132.459 845.201 Q130.654 841.636 127.02 841.636 M127.02 837.933 Q132.83 837.933 135.885 842.539 Q138.964 847.122 138.964 855.872 Q138.964 864.599 135.885 869.206 Q132.83 873.789 127.02 873.789 Q121.209 873.789 118.131 869.206 Q115.075 864.599 115.075 855.872 Q115.075 847.122 118.131 842.539 Q121.209 837.933 127.02 837.933 Z\" fill=\"#000000\" fill-rule=\"evenodd\" fill-opacity=\"1\" /><path clip-path=\"url(#clip700)\" d=\"M 0 0 M66.0245 535.474 L73.6634 535.474 L73.6634 509.108 L65.3532 510.775 L65.3532 506.516 L73.6171 504.849 L78.293 504.849 L78.293 535.474 L85.9318 535.474 L85.9318 539.409 L66.0245 539.409 L66.0245 535.474 Z\" fill=\"#000000\" fill-rule=\"evenodd\" fill-opacity=\"1\" /><path clip-path=\"url(#clip700)\" d=\"M 0 0 M91.0475 504.849 L109.404 504.849 L109.404 508.784 L95.3299 508.784 L95.3299 517.257 Q96.3484 516.909 97.3669 516.747 Q98.3855 516.562 99.404 516.562 Q105.191 516.562 108.571 519.733 Q111.95 522.905 111.95 528.321 Q111.95 533.9 108.478 537.002 Q105.006 540.081 98.6864 540.081 Q96.5105 540.081 94.242 539.71 Q91.9966 539.34 89.5892 538.599 L89.5892 533.9 Q91.6725 535.034 93.8947 535.59 Q96.1169 536.145 98.5938 536.145 Q102.598 536.145 104.936 534.039 Q107.274 531.932 107.274 528.321 Q107.274 524.71 104.936 522.604 Q102.598 520.497 98.5938 520.497 Q96.7188 520.497 94.8438 520.914 Q92.992 521.331 91.0475 522.21 L91.0475 504.849 Z\" fill=\"#000000\" fill-rule=\"evenodd\" fill-opacity=\"1\" /><path clip-path=\"url(#clip700)\" d=\"M 0 0 M127.02 507.928 Q123.408 507.928 121.58 511.493 Q119.774 515.034 119.774 522.164 Q119.774 529.27 121.58 532.835 Q123.408 536.377 127.02 536.377 Q130.654 536.377 132.459 532.835 Q134.288 529.27 134.288 522.164 Q134.288 515.034 132.459 511.493 Q130.654 507.928 127.02 507.928 M127.02 504.224 Q132.83 504.224 135.885 508.831 Q138.964 513.414 138.964 522.164 Q138.964 530.891 135.885 535.497 Q132.83 540.081 127.02 540.081 Q121.209 540.081 118.131 535.497 Q115.075 530.891 115.075 522.164 Q115.075 513.414 118.131 508.831 Q121.209 504.224 127.02 504.224 Z\" fill=\"#000000\" fill-rule=\"evenodd\" fill-opacity=\"1\" /><path clip-path=\"url(#clip700)\" d=\"M 0 0 M68.6171 201.766 L84.9365 201.766 L84.9365 205.701 L62.9921 205.701 L62.9921 201.766 Q65.6541 199.011 70.2375 194.381 Q74.8439 189.729 76.0245 188.386 Q78.2698 185.863 79.1494 184.127 Q80.0522 182.368 80.0522 180.678 Q80.0522 177.923 78.1078 176.187 Q76.1865 174.451 73.0847 174.451 Q70.8856 174.451 68.4319 175.215 Q66.0014 175.979 63.2236 177.53 L63.2236 172.807 Q66.0477 171.673 68.5014 171.095 Q70.955 170.516 72.9921 170.516 Q78.3624 170.516 81.5568 173.201 Q84.7513 175.886 84.7513 180.377 Q84.7513 182.506 83.9411 184.428 Q83.1541 186.326 81.0476 188.918 Q80.4689 189.59 77.367 192.807 Q74.2652 196.002 68.6171 201.766 Z\" fill=\"#000000\" fill-rule=\"evenodd\" fill-opacity=\"1\" /><path clip-path=\"url(#clip700)\" d=\"M 0 0 M100.006 174.219 Q96.3947 174.219 94.566 177.784 Q92.7605 181.326 92.7605 188.456 Q92.7605 195.562 94.566 199.127 Q96.3947 202.668 100.006 202.668 Q103.64 202.668 105.446 199.127 Q107.274 195.562 107.274 188.456 Q107.274 181.326 105.446 177.784 Q103.64 174.219 100.006 174.219 M100.006 170.516 Q105.816 170.516 108.872 175.122 Q111.95 179.706 111.95 188.456 Q111.95 197.182 108.872 201.789 Q105.816 206.372 100.006 206.372 Q94.1957 206.372 91.117 201.789 Q88.0614 197.182 88.0614 188.456 Q88.0614 179.706 91.117 175.122 Q94.1957 170.516 100.006 170.516 Z\" fill=\"#000000\" fill-rule=\"evenodd\" fill-opacity=\"1\" /><path clip-path=\"url(#clip700)\" d=\"M 0 0 M127.02 174.219 Q123.408 174.219 121.58 177.784 Q119.774 181.326 119.774 188.456 Q119.774 195.562 121.58 199.127 Q123.408 202.668 127.02 202.668 Q130.654 202.668 132.459 199.127 Q134.288 195.562 134.288 188.456 Q134.288 181.326 132.459 177.784 Q130.654 174.219 127.02 174.219 M127.02 170.516 Q132.83 170.516 135.885 175.122 Q138.964 179.706 138.964 188.456 Q138.964 197.182 135.885 201.789 Q132.83 206.372 127.02 206.372 Q121.209 206.372 118.131 201.789 Q115.075 197.182 115.075 188.456 Q115.075 179.706 118.131 175.122 Q121.209 170.516 127.02 170.516 Z\" fill=\"#000000\" fill-rule=\"evenodd\" fill-opacity=\"1\" /><circle clip-path=\"url(#clip702)\" cx=\"1516.09\" cy=\"1295.28\" r=\"10\" fill=\"#add8e6\" fill-rule=\"evenodd\" fill-opacity=\"1\" stroke=\"#000000\" stroke-opacity=\"1\" stroke-width=\"3.2\"/>\n",
       "<circle clip-path=\"url(#clip702)\" cx=\"1645.21\" cy=\"1322.4\" r=\"10\" fill=\"#add8e6\" fill-rule=\"evenodd\" fill-opacity=\"1\" stroke=\"#000000\" stroke-opacity=\"1\" stroke-width=\"3.2\"/>\n",
       "<circle clip-path=\"url(#clip702)\" cx=\"1731.28\" cy=\"1356.38\" r=\"10\" fill=\"#add8e6\" fill-rule=\"evenodd\" fill-opacity=\"1\" stroke=\"#000000\" stroke-opacity=\"1\" stroke-width=\"3.2\"/>\n",
       "<polyline clip-path=\"url(#clip702)\" style=\"stroke:#e26f46; stroke-width:4; stroke-opacity:1; fill:none\" points=\"\n",
       "  224.939,87.9763 235.027,108.284 245.114,128.304 338.386,300.511 431.657,451.458 487.71,533.054 543.762,608.437 591.154,667.677 638.546,723.082 741.507,831.398 \n",
       "  836.428,918.219 938.194,999.236 1056.1,1079.64 1160.88,1140.67 1252.76,1187.24 1352.94,1231.58 1453.71,1270.28 1565.13,1307.12 1671.14,1337.18 1781.36,1364.01 \n",
       "  1874.15,1383.58 1987.43,1404.23 2093.92,1420.86 2264.53,1442.79 2290.78,1445.72 \n",
       "  \"/>\n",
       "</svg>\n"
      ]
     },
     "execution_count": 38,
     "metadata": {},
     "output_type": "execute_result"
    }
   ],
   "source": [
    "#y=2^x\n",
    "x=[15;16.5;17.5]\n",
    "y=[34;30;25]\n",
    "ruido=rand(3)*0.2\n",
    "y=y+ruido\n",
    "\n",
    "# Dicionário (troca de variável) indo pro mundo barra\n",
    "x_barra=x\n",
    "y_barra=log.(y)\n",
    "\n",
    "#Regressão com grau = 1(reta) no Mundo barra\n",
    "V=vandermonde(x_barra,y_barra,1)\n",
    "c_barra=regressão(x_barra,y_barra,1)\n",
    "\n",
    "\n",
    "#Dicionário (troca de variável) voltando pro mundo original\n",
    "c1=exp(c_barra[1])\n",
    "c2=c_barra[2]\n",
    "exponencial(x)=c1*exp(c2*x) #modelo exponecial\n",
    "\n",
    "scatter(x, y, c=:lightblue, ms=3, leg=false)\n",
    "plot!(exponencial,0,24)"
   ]
  },
  {
   "cell_type": "code",
   "execution_count": 39,
   "id": "1f72ffb8",
   "metadata": {},
   "outputs": [
    {
     "data": {
      "text/plain": [
       "37.332653631838994"
      ]
     },
     "execution_count": 39,
     "metadata": {},
     "output_type": "execute_result"
    }
   ],
   "source": [
    "exponencial(14.4)"
   ]
  },
  {
   "cell_type": "code",
   "execution_count": null,
   "id": "fcc571ef",
   "metadata": {},
   "outputs": [],
   "source": []
  }
 ],
 "metadata": {
  "kernelspec": {
   "display_name": "Julia 1.0.5",
   "language": "julia",
   "name": "julia-1.0"
  },
  "language_info": {
   "file_extension": ".jl",
   "mimetype": "application/julia",
   "name": "julia",
   "version": "1.0.5"
  }
 },
 "nbformat": 4,
 "nbformat_minor": 5
}
