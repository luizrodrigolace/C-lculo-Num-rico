{
 "cells": [
  {
   "cell_type": "code",
   "execution_count": 31,
   "id": "1335bdeb",
   "metadata": {},
   "outputs": [],
   "source": [
    "using Plots"
   ]
  },
  {
   "cell_type": "code",
   "execution_count": 1,
   "id": "af2ad3ee",
   "metadata": {},
   "outputs": [],
   "source": [
    "# Exercicio 1"
   ]
  },
  {
   "cell_type": "code",
   "execution_count": 13,
   "id": "888095b3",
   "metadata": {},
   "outputs": [],
   "source": [
    "using LinearAlgebra"
   ]
  },
  {
   "cell_type": "code",
   "execution_count": 14,
   "id": "192dded7",
   "metadata": {},
   "outputs": [
    {
     "data": {
      "text/plain": [
       "resolve_diagonal (generic function with 1 method)"
      ]
     },
     "execution_count": 14,
     "metadata": {},
     "output_type": "execute_result"
    }
   ],
   "source": [
    "# Matriz Diagonal\n",
    "# Recebe como parâmetro duas matrizes A e b e retorna x tal que Ax = b.\n",
    "#(A deve ser uma matriz diagonal)\n",
    "function resolve_diagonal(A, b)\n",
    "    #Pega tamanho da matriz A\n",
    "    n = size(A, 1)\n",
    " \n",
    "    #Cria matriz x zerada do tamanho (nx1)\n",
    "    x = zeros(n, 1)\n",
    " \n",
    "    #Lopping que realiza a resolução do sistema\n",
    "    for i = 1:n\n",
    "        x[i] = b[i] / A[i, i]\n",
    "    end\n",
    " \n",
    "    #Retorna x tal que Ax = b\n",
    "    x\n",
    "end\n"
   ]
  },
  {
   "cell_type": "code",
   "execution_count": 15,
   "id": "c883f5c0",
   "metadata": {},
   "outputs": [
    {
     "data": {
      "text/plain": [
       "true"
      ]
     },
     "execution_count": 15,
     "metadata": {},
     "output_type": "execute_result"
    }
   ],
   "source": [
    "#Teste da matriz diagonal\n",
    "#criando matriz A\n",
    "Teste1 = [2 0 0 ;0 3 0; 0 0 4]\n",
    "#Gerando valores aleatorios para a matriz x\n",
    "x_verdadeiro=randn(3,1)\n",
    "\n",
    "#Multiplicando os numeros aleatorios pela matriz A (b=AX)\n",
    "b= Teste1*x_verdadeiro\n",
    "\n",
    "#Aplicando a função\n",
    "x_calculado=resolve_diagonal(Teste1 ,b)\n",
    "\n",
    "#Conferindo se o valor é o esperado\n",
    "norm(x_verdadeiro-x_calculado) < 0.000000000001"
   ]
  },
  {
   "cell_type": "code",
   "execution_count": 16,
   "id": "deda3e2a",
   "metadata": {},
   "outputs": [
    {
     "data": {
      "text/plain": [
       "true"
      ]
     },
     "execution_count": 16,
     "metadata": {},
     "output_type": "execute_result"
    }
   ],
   "source": [
    "#Testando a função matriz diagonal\n",
    "#Criando a matriz A\n",
    "Teste2= [10 0 0 0 0;0 3 0 0 0; 0 0 7 0 0; 0 0 0 9 0; 0 0 0 0 6]\n",
    "\n",
    "#Valores aleatorios para a matriz x\n",
    "x_verdadeiro=randn(5,1)\n",
    "\n",
    "#Multiplicando os números aleatorios pela matriz A (b=Ax)\n",
    "b= Teste2*x_verdadeiro\n",
    "\n",
    "#Aplicando a função\n",
    "x_calculado=resolve_diagonal(Teste2,b)\n",
    "\n",
    "\n",
    "#Verificando se o valor é o esperado\n",
    "norm(x_verdadeiro-x_calculado) < 0.000000000001"
   ]
  },
  {
   "cell_type": "code",
   "execution_count": 17,
   "id": "f9869d25",
   "metadata": {},
   "outputs": [
    {
     "data": {
      "text/plain": [
       "true"
      ]
     },
     "execution_count": 17,
     "metadata": {},
     "output_type": "execute_result"
    }
   ],
   "source": [
    "#Testando a frunção matriz diagonal\n",
    "#criando matriz A\n",
    "Teste3 = [10 0 0 0 0 0 0;0 8 0 0 0 0 0; 0 0 17 0 0 0 0; 0 0 0 99 0 0 0; 0 0 0 0 66 0 0; 0 0 0 0 0 111 0; 0 0 0 0 0 0 7 ]\n",
    "\n",
    "#Ferando valores aleatorios para a matriz x\n",
    "x_verdadeiro=randn(7,1)\n",
    "\n",
    "#Multiplicando os números aleatorios pela matriz A (b=Ax)\n",
    "b= Teste3*x_verdadeiro\n",
    "\n",
    "#Aplicando a função\n",
    "x_calculado=resolve_diagonal(Teste3,b)\n",
    "\n",
    "#Conferindo se o valor é o esperado\n",
    "norm(x_verdadeiro-x_calculado) < 0.000000000001"
   ]
  },
  {
   "cell_type": "code",
   "execution_count": null,
   "id": "9e55c074",
   "metadata": {},
   "outputs": [],
   "source": []
  },
  {
   "cell_type": "code",
   "execution_count": 18,
   "id": "0734fada",
   "metadata": {},
   "outputs": [
    {
     "data": {
      "text/plain": [
       "resolve_triangular_superior (generic function with 1 method)"
      ]
     },
     "execution_count": 18,
     "metadata": {},
     "output_type": "execute_result"
    }
   ],
   "source": [
    "# Matriz Diagonal Superior\n",
    "# Recebe como parâmetro duas matrizes A e b e retorna x tal que Ax = b.\n",
    "# A deve ser triangular superior\n",
    "function resolve_triangular_superior(A, b)\n",
    "   #Recebe tamanho da matriz A\n",
    "    n = size(A, 1)\n",
    " \n",
    "   #Cria matriz zerada de x(nx1)\n",
    "    x = zeros(n, 1)\n",
    "    \n",
    "   #Matriz triangular superior, então pegamos a matriz ao \"contrário\" para iniciarmos a substituição dos valores e solução\n",
    "    for i = reverse(1:n)\n",
    "        #x recebe o que está em b \n",
    "        x[i] = b[i]\n",
    "        \n",
    "        #Diminui dos outros coeficientes (substituindo)\n",
    "        for j = reverse(i+1:n)\n",
    "            x[i] -= A[i, j] * x[j]\n",
    "        end\n",
    " \n",
    "       #Realiza a divisão do coeficiente pela 'resposta' \n",
    "        x[i] /= A[i, i]\n",
    "    end\n",
    " \n",
    "    #Retorna a matriz x de Ax=b\n",
    "    x\n",
    "end"
   ]
  },
  {
   "cell_type": "code",
   "execution_count": 19,
   "id": "e1add73d",
   "metadata": {},
   "outputs": [
    {
     "data": {
      "text/plain": [
       "true"
      ]
     },
     "execution_count": 19,
     "metadata": {},
     "output_type": "execute_result"
    }
   ],
   "source": [
    "#matriz triangular superior\n",
    "A = [2 2 2 ;0 3 3; 0 0 4]\n",
    "\n",
    "#Gerando valores aleatorios para a matriz x\n",
    "x_verdadeiro=randn(3,1)\n",
    "\n",
    "#Encontrando b por meio de b = Ax\n",
    "b= A*x_verdadeiro\n",
    "\n",
    "#Chamando a função \n",
    "x_calculado=resolve_triangular_superior(A ,b)\n",
    "\n",
    "#Conferindo se o valor é o esperado\n",
    "norm(x_verdadeiro-x_calculado) < 0.000000000001"
   ]
  },
  {
   "cell_type": "code",
   "execution_count": 20,
   "id": "f24341b8",
   "metadata": {},
   "outputs": [
    {
     "data": {
      "text/plain": [
       "true"
      ]
     },
     "execution_count": 20,
     "metadata": {},
     "output_type": "execute_result"
    }
   ],
   "source": [
    "#matriz triangular superior\n",
    "A = [10 244 421 33 1;0 3 33 22 11; 0 0 7 6 5; 0 0 0 92 1; 0 0 0 0 68]\n",
    "\n",
    "#Gerando valores aleatorios para a matriz x\n",
    "x_verdadeiro=randn(5,1)\n",
    "\n",
    "#Encontrando b por meio de b = Ax\n",
    "b= A*x_verdadeiro\n",
    "\n",
    "#Chamando a função \n",
    "x_calculado=resolve_triangular_superior(A,b)\n",
    "\n",
    "#Conferindo se o valor é o esperado\n",
    "norm(x_verdadeiro-x_calculado) < 0.000000000001"
   ]
  },
  {
   "cell_type": "code",
   "execution_count": 21,
   "id": "00c50aaf",
   "metadata": {},
   "outputs": [
    {
     "data": {
      "text/plain": [
       "true"
      ]
     },
     "execution_count": 21,
     "metadata": {},
     "output_type": "execute_result"
    }
   ],
   "source": [
    "#matriz triangular superior\n",
    "A = [10 20 30 40 50 60 70;0 82 2 3 40 1 1; 0 0 17 20 30 40 110; 0 0 0 99 33 55 44; 0 0 0 0 66 11 22; 0 0 0 0 0 111 3; 0 0 0 0 0 0 7 ]\n",
    "\n",
    "#Gerando valores aleatorios para a matriz x\n",
    "x_verdadeiro=randn(7,1)\n",
    "\n",
    "#Encontrando b por meio de b = Ax\n",
    "b= A*x_verdadeiro\n",
    "\n",
    "#Chamando a função \n",
    "x_calculado=resolve_triangular_superior(A,b)\n",
    "\n",
    "#Conferindo se o valor é o esperado\n",
    "norm(x_verdadeiro-x_calculado) < 0.000000000001"
   ]
  },
  {
   "cell_type": "code",
   "execution_count": null,
   "id": "80b84c13",
   "metadata": {},
   "outputs": [],
   "source": []
  },
  {
   "cell_type": "code",
   "execution_count": 22,
   "id": "13b1f5b8",
   "metadata": {},
   "outputs": [
    {
     "data": {
      "text/plain": [
       "resolve_triangular_inferior (generic function with 1 method)"
      ]
     },
     "execution_count": 22,
     "metadata": {},
     "output_type": "execute_result"
    }
   ],
   "source": [
    "# Matriz Diagonal Inferior\n",
    "# Recebe como parâmetro duas matrizes A e b e retorna x tal que Ax = b.\n",
    "# A deve ser triangular inferior\n",
    "function resolve_triangular_inferior(A, b)\n",
    "    #Recebe tamanho da matriz A\n",
    "    n = size(A, 1)\n",
    " \n",
    "    #Cria matriz zerada de x(nx1)\n",
    "    x = zeros(n, 1)\n",
    "    \n",
    "       for i = 1:n\n",
    "       #Dizemos que x é igual a b, pois é triangular inferior\n",
    "        x[i] = b[i]\n",
    " \n",
    "        #Diminui dos outros coeficientes (substituindo)\n",
    "        for j = 1:i-1\n",
    "            x[i] -= A[i, j] * x[j]\n",
    "        end\n",
    "       #Realiza a divisão do valor do coeficiente pela 'resposta' \n",
    "        x[i] /= A[i, i]\n",
    "    end\n",
    "    #Retorna a matriz x de Ax=b\n",
    "    x\n",
    "end"
   ]
  },
  {
   "cell_type": "code",
   "execution_count": 23,
   "id": "58ac040c",
   "metadata": {},
   "outputs": [
    {
     "data": {
      "text/plain": [
       "true"
      ]
     },
     "execution_count": 23,
     "metadata": {},
     "output_type": "execute_result"
    }
   ],
   "source": [
    "#matriz triangular inferior\n",
    "A = [1 0 0; 3 2 0; 1 4 3]\n",
    "\n",
    "# Gerando valores aleatorios para a matriz x\n",
    "x_verdadeiro=randn(3,1)\n",
    "\n",
    "#Encontrando b por meio de b = Ax\n",
    "b = A*x_verdadeiro\n",
    "\n",
    "#Chamando a função\n",
    "x_calculado=resolve_triangular_inferior(A ,b)\n",
    "\n",
    "#Conferindo se o valor é o esperado\n",
    "norm(x_verdadeiro-x_calculado) < 0.000000000001"
   ]
  },
  {
   "cell_type": "code",
   "execution_count": 24,
   "id": "49dbe5d2",
   "metadata": {},
   "outputs": [
    {
     "data": {
      "text/plain": [
       "true"
      ]
     },
     "execution_count": 24,
     "metadata": {},
     "output_type": "execute_result"
    }
   ],
   "source": [
    "#matriz triangular inferior\n",
    "A= [10 0 0 0 0;3 3 0 0 0; 7 6 5 0 0; 1 92 33 1 0; 244 421 33 1 68]\n",
    "\n",
    "# Gerando valores aleatorios para a matriz x\n",
    "x_verdadeiro=randn(5,1)\n",
    "\n",
    "#Encontrando b por meio de b = Ax\n",
    "b= A*x_verdadeiro\n",
    "\n",
    "#Chamando a função\n",
    "x_calculado=resolve_triangular_inferior(A,b)\n",
    "\n",
    "#Conferindo se o valor é o esperado\n",
    "norm(x_verdadeiro-x_calculado) < 0.000000000001"
   ]
  },
  {
   "cell_type": "code",
   "execution_count": 25,
   "id": "8268dbee",
   "metadata": {},
   "outputs": [
    {
     "data": {
      "text/plain": [
       "true"
      ]
     },
     "execution_count": 25,
     "metadata": {},
     "output_type": "execute_result"
    }
   ],
   "source": [
    "#matriz triangular inferior\n",
    "A = [1 0 0; 1 1 0; 1 1 1]\n",
    "\n",
    "# Gerando valores aleatorios para a matriz x\n",
    "x_verdadeiro=randn(3,1)\n",
    "\n",
    "#Encontrando b por meio de b = Ax\n",
    "b= A*x_verdadeiro\n",
    "\n",
    "#Chamando a função\n",
    "x_calculado=resolve_triangular_inferior(A ,b)\n",
    "\n",
    "#Conferindo se o valor é o esperado\n",
    "norm(x_verdadeiro-x_calculado) < 0.000000000001"
   ]
  },
  {
   "cell_type": "code",
   "execution_count": 26,
   "id": "d78dbd23",
   "metadata": {},
   "outputs": [
    {
     "data": {
      "text/plain": [
       "decomposicao_lu (generic function with 1 method)"
      ]
     },
     "execution_count": 26,
     "metadata": {},
     "output_type": "execute_result"
    }
   ],
   "source": [
    "#Código baseado nas observações feitas em sala de aula e\n",
    "#nas explicações encontradas no site: https://www.ime.unicamp.br/~pjssilva/pdfs/notas_de_aula/ms211/Sistemas_Lineares.pdf\n",
    "function decomposicao_lu(A)\n",
    "    #Cria matriz U e passa a copia de A\n",
    "    U = copy(A)\n",
    "    #Pega o tamanho de A\n",
    "    n = size(A, 1)\n",
    "    #Cria matriz L, identidade\n",
    "    L = Matrix{Float64}(I, n, n)\n",
    "    \n",
    "    #Colocando zeros abaixo da posição i x i usando a linha i\n",
    "    for i = 1:n\n",
    "        for j = i+1:n\n",
    "            coef=U[j, i] / U[i, i]\n",
    "            L[j, i] = coef\n",
    "            U[j, :] -= coef * U[i, :]\n",
    "        end\n",
    "    end\n",
    " \n",
    "    #Retornando matriz L (triangular inferior),U (Triangular superior)\n",
    "    L, U\n",
    "end"
   ]
  },
  {
   "cell_type": "code",
   "execution_count": 27,
   "id": "4edc45fb",
   "metadata": {},
   "outputs": [
    {
     "data": {
      "text/plain": [
       "([1.0 0.0 0.0 0.0; 2.0 1.0 0.0 0.0; 2.0 1.0 1.0 0.0; 3.0 0.0 3.0 1.0], [2 3 1 1; 0 1 2 1; 0 0 2 1; 0 0 0 2])"
      ]
     },
     "execution_count": 27,
     "metadata": {},
     "output_type": "execute_result"
    }
   ],
   "source": [
    "# Matriz que vamos decompor\n",
    "k = [2 3 1 1; 4 7 4 3; 4 7 6 4; 6 9 9 8]\n",
    "\n",
    "#Chamando a função\n",
    "l,U=decomposicao_lu(k)"
   ]
  },
  {
   "cell_type": "code",
   "execution_count": 28,
   "id": "3f4adef8",
   "metadata": {},
   "outputs": [
    {
     "data": {
      "text/plain": [
       "4×4 Array{Float64,2}:\n",
       " 1.0  0.0  0.0  0.0\n",
       " 2.0  1.0  0.0  0.0\n",
       " 2.0  1.0  1.0  0.0\n",
       " 3.0  0.0  3.0  1.0"
      ]
     },
     "execution_count": 28,
     "metadata": {},
     "output_type": "execute_result"
    }
   ],
   "source": [
    "#matriz l\n",
    "l"
   ]
  },
  {
   "cell_type": "code",
   "execution_count": 29,
   "id": "4cb17f13",
   "metadata": {},
   "outputs": [
    {
     "data": {
      "text/plain": [
       "4×4 Array{Int64,2}:\n",
       " 2  3  1  1\n",
       " 0  1  2  1\n",
       " 0  0  2  1\n",
       " 0  0  0  2"
      ]
     },
     "execution_count": 29,
     "metadata": {},
     "output_type": "execute_result"
    }
   ],
   "source": [
    "#matriz U\n",
    "U"
   ]
  },
  {
   "cell_type": "code",
   "execution_count": null,
   "id": "c6b8ac77",
   "metadata": {},
   "outputs": [],
   "source": []
  },
  {
   "cell_type": "code",
   "execution_count": 30,
   "id": "df41dac8",
   "metadata": {},
   "outputs": [
    {
     "data": {
      "text/plain": [
       "([1.0], [3 6 4 2])"
      ]
     },
     "execution_count": 30,
     "metadata": {},
     "output_type": "execute_result"
    }
   ],
   "source": [
    "# Matriz que vamos decompor\n",
    "k = [3 6 4 2]\n",
    "\n",
    "#Chamando a função\n",
    "l,U=decomposicao_lu(k)"
   ]
  },
  {
   "cell_type": "code",
   "execution_count": 31,
   "id": "d1deeeaa",
   "metadata": {},
   "outputs": [
    {
     "data": {
      "text/plain": [
       "1×1 Array{Float64,2}:\n",
       " 1.0"
      ]
     },
     "execution_count": 31,
     "metadata": {},
     "output_type": "execute_result"
    }
   ],
   "source": [
    "#matriz l\n",
    "l"
   ]
  },
  {
   "cell_type": "code",
   "execution_count": 32,
   "id": "8940f7a6",
   "metadata": {},
   "outputs": [
    {
     "data": {
      "text/plain": [
       "1×4 Array{Int64,2}:\n",
       " 3  6  4  2"
      ]
     },
     "execution_count": 32,
     "metadata": {},
     "output_type": "execute_result"
    }
   ],
   "source": [
    "#matriz U\n",
    "U"
   ]
  },
  {
   "cell_type": "code",
   "execution_count": 33,
   "id": "5f0e7de2",
   "metadata": {},
   "outputs": [
    {
     "data": {
      "text/plain": [
       "([1.0 0.0 0.0; 5.0 1.0 0.0; 7.0 1.5 1.0], [1 2 3; 0 -6 -12; 0 0 1])"
      ]
     },
     "execution_count": 33,
     "metadata": {},
     "output_type": "execute_result"
    }
   ],
   "source": [
    "# Matriz que vamos decompor\n",
    "k = [1 2 3; 5 4 3; 7 5 4]\n",
    "\n",
    "#Chamando a função\n",
    "l,U=decomposicao_lu(k)"
   ]
  },
  {
   "cell_type": "code",
   "execution_count": 34,
   "id": "c466b0ed",
   "metadata": {},
   "outputs": [
    {
     "data": {
      "text/plain": [
       "3×3 Array{Float64,2}:\n",
       " 1.0  0.0  0.0\n",
       " 5.0  1.0  0.0\n",
       " 7.0  1.5  1.0"
      ]
     },
     "execution_count": 34,
     "metadata": {},
     "output_type": "execute_result"
    }
   ],
   "source": [
    "#matriz l\n",
    "l"
   ]
  },
  {
   "cell_type": "code",
   "execution_count": 35,
   "id": "da129aed",
   "metadata": {},
   "outputs": [
    {
     "data": {
      "text/plain": [
       "3×3 Array{Int64,2}:\n",
       " 1   2    3\n",
       " 0  -6  -12\n",
       " 0   0    1"
      ]
     },
     "execution_count": 35,
     "metadata": {},
     "output_type": "execute_result"
    }
   ],
   "source": [
    "#matriz U\n",
    "U"
   ]
  },
  {
   "cell_type": "code",
   "execution_count": null,
   "id": "2ff3f638",
   "metadata": {},
   "outputs": [],
   "source": []
  },
  {
   "cell_type": "code",
   "execution_count": 36,
   "id": "d232ec4e",
   "metadata": {},
   "outputs": [
    {
     "data": {
      "text/plain": [
       "MatrizInversa (generic function with 1 method)"
      ]
     },
     "execution_count": 36,
     "metadata": {},
     "output_type": "execute_result"
    }
   ],
   "source": [
    "#Função que recebe uma matriz T e retorna sua inversa\n",
    "function MatrizInversa(T)\n",
    " \n",
    "    #Pega o tamanho de t\n",
    "    n = size(T,1)\n",
    " \n",
    "    #Cria matriz identidade\n",
    "    identidade = Matrix{Int64}(I,n,n)\n",
    " \n",
    "    #Realiza a decomposição lu\n",
    "    L,U = decomposicao_lu(T)\n",
    " \n",
    "    #Matriz triangular\n",
    "    y = L\\identidade\n",
    "    x=U\\y\n",
    "    #Retorna a inversa de t\n",
    "    return x\n",
    "end"
   ]
  },
  {
   "cell_type": "code",
   "execution_count": 37,
   "id": "3530ddcf",
   "metadata": {},
   "outputs": [
    {
     "data": {
      "text/plain": [
       "3×3 Array{Float64,2}:\n",
       "  1.05      -0.2  -0.35     \n",
       " -0.3        0.2   0.1      \n",
       " -0.383333   0.2   0.0166667"
      ]
     },
     "execution_count": 37,
     "metadata": {},
     "output_type": "execute_result"
    }
   ],
   "source": [
    "#Matriz A\n",
    "a = [1 4 -3; 2 7 0; -1 8 -9]\n",
    "#Matriz inversa de A\n",
    "MatrizInversa(a)"
   ]
  },
  {
   "cell_type": "code",
   "execution_count": 38,
   "id": "8a78aa15",
   "metadata": {},
   "outputs": [
    {
     "data": {
      "text/plain": [
       "2×2 Array{Float64,2}:\n",
       "  0.428571  0.142857 \n",
       " -0.285714  0.0714286"
      ]
     },
     "execution_count": 38,
     "metadata": {},
     "output_type": "execute_result"
    }
   ],
   "source": [
    "#Matriz A\n",
    "a = [1 -2; 4 6]\n",
    "#Matriz inversa de A\n",
    "MatrizInversa(a)"
   ]
  },
  {
   "cell_type": "code",
   "execution_count": 39,
   "id": "e08845a7",
   "metadata": {},
   "outputs": [
    {
     "data": {
      "text/plain": [
       "2×2 Array{Float64,2}:\n",
       " -2.0   1.0\n",
       "  1.5  -0.5"
      ]
     },
     "execution_count": 39,
     "metadata": {},
     "output_type": "execute_result"
    }
   ],
   "source": [
    "#Matriz A\n",
    "a = [1 2; 3 4]\n",
    "#Matriz inversa de A\n",
    "MatrizInversa(a)"
   ]
  },
  {
   "cell_type": "code",
   "execution_count": 40,
   "id": "faf0b56a",
   "metadata": {},
   "outputs": [],
   "source": [
    "#Exercicio 2 "
   ]
  },
  {
   "cell_type": "code",
   "execution_count": null,
   "id": "b6b57324",
   "metadata": {},
   "outputs": [],
   "source": [
    "# Dado o PVC y′′(x) = 4x com y(0) = 5 e y(10) = 20"
   ]
  },
  {
   "cell_type": "code",
   "execution_count": null,
   "id": "b210f087",
   "metadata": {},
   "outputs": [],
   "source": [
    "#(a) Monte o sistema linear que aproxima pelo metodo de diferencas finitas com n = 6 intervalos na discretizacao."
   ]
  },
  {
   "cell_type": "code",
   "execution_count": 13,
   "id": "1237a600",
   "metadata": {},
   "outputs": [],
   "source": [
    "using LinearAlgebra"
   ]
  },
  {
   "cell_type": "code",
   "execution_count": 41,
   "id": "11aa4d75",
   "metadata": {},
   "outputs": [
    {
     "data": {
      "text/plain": [
       "Gauss_Seidel (generic function with 1 method)"
      ]
     },
     "execution_count": 41,
     "metadata": {},
     "output_type": "execute_result"
    }
   ],
   "source": [
    "function Gauss_Seidel(A,b) \n",
    "    #Tamanho da matriz A\n",
    "    n,=size(A)\n",
    " \n",
    "    #Diagonal da matriz A\n",
    "    M = Diagonal(A)\n",
    " \n",
    "    #Diagonal da A zerada\n",
    "    K=A-M\n",
    "   \n",
    "    #chute inicial\n",
    "    x = randn(n,1)\n",
    "   \n",
    "    #Aproximando de Ax = b \n",
    "    for i=1:500\n",
    "        x = inv(M)*(-K*x+b)\n",
    "    end\n",
    "    #retorna os coeficientes\n",
    "    return x\n",
    "end\n"
   ]
  },
  {
   "cell_type": "code",
   "execution_count": 43,
   "id": "9297d162",
   "metadata": {},
   "outputs": [
    {
     "data": {
      "text/plain": [
       "criação_da_matriz (generic function with 1 method)"
      ]
     },
     "execution_count": 43,
     "metadata": {},
     "output_type": "execute_result"
    }
   ],
   "source": [
    "function criação_da_matriz(n)\n",
    "    A=zeros(n,n)\n",
    "    \n",
    "    #\"manual\"\n",
    "    A[1,1]=-2\n",
    "    A[1,2]=1\n",
    "    A[n,n-1]=1\n",
    "    A[n,n]=-2\n",
    "    \n",
    "    #tridiagonal\n",
    "    for i= 2:(n-1)\n",
    "        A[i,i]=-2\n",
    "        A[i,i+1]=1\n",
    "        A[i,i-1]=1\n",
    "    end\n",
    "    return A\n",
    "end"
   ]
  },
  {
   "cell_type": "code",
   "execution_count": 44,
   "id": "e4a20249",
   "metadata": {},
   "outputs": [
    {
     "data": {
      "text/plain": [
       "7-element Array{Float64,1}:\n",
       "  0.0               \n",
       "  1.6666666666666667\n",
       "  3.3333333333333335\n",
       "  5.0               \n",
       "  6.666666666666667 \n",
       "  8.333333333333334 \n",
       " 10.0               "
      ]
     },
     "execution_count": 44,
     "metadata": {},
     "output_type": "execute_result"
    }
   ],
   "source": [
    "#calculando os pontos de x, sabendo que y(0) = 5 e y(10) = 20 e n=6. Como h=(b-a)/n; h=10/6\n",
    "x = [0; 10/6; (10/6)*2; (10/6)*3; (10/6)*4; (10/6)*5; 10]"
   ]
  },
  {
   "cell_type": "code",
   "execution_count": 45,
   "id": "fa416d67",
   "metadata": {},
   "outputs": [
    {
     "data": {
      "text/plain": [
       "22.222222222222225"
      ]
     },
     "execution_count": 45,
     "metadata": {},
     "output_type": "execute_result"
    }
   ],
   "source": [
    "p = ((10/6)^2)*8"
   ]
  },
  {
   "cell_type": "code",
   "execution_count": 46,
   "id": "5458a78d",
   "metadata": {},
   "outputs": [
    {
     "data": {
      "text/plain": [
       "5-element Array{Float64,1}:\n",
       "  32.037037037037045\n",
       "  74.07407407407409 \n",
       " 111.11111111111113 \n",
       " 148.14814814814818 \n",
       " 165.18518518518522 "
      ]
     },
     "execution_count": 46,
     "metadata": {},
     "output_type": "execute_result"
    }
   ],
   "source": [
    "B = [(p*x[2])-5; p*x[3]; p*x[4]; p*x[5]; (p*x[6])-20]"
   ]
  },
  {
   "cell_type": "code",
   "execution_count": 47,
   "id": "c19fd876",
   "metadata": {},
   "outputs": [
    {
     "data": {
      "text/plain": [
       "5×5 Array{Float64,2}:\n",
       " -2.0   1.0   0.0   0.0   0.0\n",
       "  1.0  -2.0   1.0   0.0   0.0\n",
       "  0.0   1.0  -2.0   1.0   0.0\n",
       "  0.0   0.0   1.0  -2.0   1.0\n",
       "  0.0   0.0   0.0   1.0  -2.0"
      ]
     },
     "execution_count": 47,
     "metadata": {},
     "output_type": "execute_result"
    }
   ],
   "source": [
    "A = criação_da_matriz(5)"
   ]
  },
  {
   "cell_type": "code",
   "execution_count": 48,
   "id": "887aecdd",
   "metadata": {},
   "outputs": [
    {
     "data": {
      "text/plain": [
       "5×1 Array{Float64,2}:\n",
       " -208.54938271604937\n",
       " -385.06172839506166\n",
       " -487.4999999999999 \n",
       " -478.8271604938271 \n",
       " -322.0061728395061 "
      ]
     },
     "execution_count": 48,
     "metadata": {},
     "output_type": "execute_result"
    }
   ],
   "source": [
    "Gauss_Seidel(A,B)"
   ]
  },
  {
   "cell_type": "code",
   "execution_count": 49,
   "id": "c85755e1",
   "metadata": {},
   "outputs": [],
   "source": [
    "#exercicio 2c\n",
    "using Plots"
   ]
  },
  {
   "cell_type": "code",
   "execution_count": 50,
   "id": "c207cad6",
   "metadata": {},
   "outputs": [
    {
     "data": {
      "image/svg+xml": [
       "<?xml version=\"1.0\" encoding=\"utf-8\"?>\n",
       "<svg xmlns=\"http://www.w3.org/2000/svg\" xmlns:xlink=\"http://www.w3.org/1999/xlink\" width=\"600\" height=\"400\" viewBox=\"0 0 2400 1600\">\n",
       "<defs>\n",
       "  <clipPath id=\"clip270\">\n",
       "    <rect x=\"0\" y=\"0\" width=\"2400\" height=\"1600\"/>\n",
       "  </clipPath>\n",
       "</defs>\n",
       "<path clip-path=\"url(#clip270)\" d=\"\n",
       "M0 1600 L2400 1600 L2400 0 L0 0  Z\n",
       "  \" fill=\"#ffffff\" fill-rule=\"evenodd\" fill-opacity=\"1\"/>\n",
       "<defs>\n",
       "  <clipPath id=\"clip271\">\n",
       "    <rect x=\"480\" y=\"0\" width=\"1681\" height=\"1600\"/>\n",
       "  </clipPath>\n",
       "</defs>\n",
       "<path clip-path=\"url(#clip270)\" d=\"\n",
       "M180.996 1486.45 L2352.76 1486.45 L2352.76 47.2441 L180.996 47.2441  Z\n",
       "  \" fill=\"#ffffff\" fill-rule=\"evenodd\" fill-opacity=\"1\"/>\n",
       "<defs>\n",
       "  <clipPath id=\"clip272\">\n",
       "    <rect x=\"180\" y=\"47\" width=\"2173\" height=\"1440\"/>\n",
       "  </clipPath>\n",
       "</defs>\n",
       "<polyline clip-path=\"url(#clip272)\" style=\"stroke:#000000; stroke-width:2; stroke-opacity:0.1; fill:none\" points=\"\n",
       "  242.461,1486.45 242.461,47.2441 \n",
       "  \"/>\n",
       "<polyline clip-path=\"url(#clip272)\" style=\"stroke:#000000; stroke-width:2; stroke-opacity:0.1; fill:none\" points=\"\n",
       "  754.669,1486.45 754.669,47.2441 \n",
       "  \"/>\n",
       "<polyline clip-path=\"url(#clip272)\" style=\"stroke:#000000; stroke-width:2; stroke-opacity:0.1; fill:none\" points=\"\n",
       "  1266.88,1486.45 1266.88,47.2441 \n",
       "  \"/>\n",
       "<polyline clip-path=\"url(#clip272)\" style=\"stroke:#000000; stroke-width:2; stroke-opacity:0.1; fill:none\" points=\"\n",
       "  1779.08,1486.45 1779.08,47.2441 \n",
       "  \"/>\n",
       "<polyline clip-path=\"url(#clip272)\" style=\"stroke:#000000; stroke-width:2; stroke-opacity:0.1; fill:none\" points=\"\n",
       "  2291.29,1486.45 2291.29,47.2441 \n",
       "  \"/>\n",
       "<polyline clip-path=\"url(#clip272)\" style=\"stroke:#000000; stroke-width:2; stroke-opacity:0.1; fill:none\" points=\"\n",
       "  180.996,1479.16 2352.76,1479.16 \n",
       "  \"/>\n",
       "<polyline clip-path=\"url(#clip272)\" style=\"stroke:#000000; stroke-width:2; stroke-opacity:0.1; fill:none\" points=\"\n",
       "  180.996,1211.62 2352.76,1211.62 \n",
       "  \"/>\n",
       "<polyline clip-path=\"url(#clip272)\" style=\"stroke:#000000; stroke-width:2; stroke-opacity:0.1; fill:none\" points=\"\n",
       "  180.996,944.088 2352.76,944.088 \n",
       "  \"/>\n",
       "<polyline clip-path=\"url(#clip272)\" style=\"stroke:#000000; stroke-width:2; stroke-opacity:0.1; fill:none\" points=\"\n",
       "  180.996,676.553 2352.76,676.553 \n",
       "  \"/>\n",
       "<polyline clip-path=\"url(#clip272)\" style=\"stroke:#000000; stroke-width:2; stroke-opacity:0.1; fill:none\" points=\"\n",
       "  180.996,409.018 2352.76,409.018 \n",
       "  \"/>\n",
       "<polyline clip-path=\"url(#clip272)\" style=\"stroke:#000000; stroke-width:2; stroke-opacity:0.1; fill:none\" points=\"\n",
       "  180.996,141.483 2352.76,141.483 \n",
       "  \"/>\n",
       "<polyline clip-path=\"url(#clip270)\" style=\"stroke:#000000; stroke-width:4; stroke-opacity:1; fill:none\" points=\"\n",
       "  180.996,1486.45 2352.76,1486.45 \n",
       "  \"/>\n",
       "<polyline clip-path=\"url(#clip270)\" style=\"stroke:#000000; stroke-width:4; stroke-opacity:1; fill:none\" points=\"\n",
       "  180.996,1486.45 180.996,47.2441 \n",
       "  \"/>\n",
       "<polyline clip-path=\"url(#clip270)\" style=\"stroke:#000000; stroke-width:4; stroke-opacity:1; fill:none\" points=\"\n",
       "  242.461,1486.45 242.461,1469.18 \n",
       "  \"/>\n",
       "<polyline clip-path=\"url(#clip270)\" style=\"stroke:#000000; stroke-width:4; stroke-opacity:1; fill:none\" points=\"\n",
       "  754.669,1486.45 754.669,1469.18 \n",
       "  \"/>\n",
       "<polyline clip-path=\"url(#clip270)\" style=\"stroke:#000000; stroke-width:4; stroke-opacity:1; fill:none\" points=\"\n",
       "  1266.88,1486.45 1266.88,1469.18 \n",
       "  \"/>\n",
       "<polyline clip-path=\"url(#clip270)\" style=\"stroke:#000000; stroke-width:4; stroke-opacity:1; fill:none\" points=\"\n",
       "  1779.08,1486.45 1779.08,1469.18 \n",
       "  \"/>\n",
       "<polyline clip-path=\"url(#clip270)\" style=\"stroke:#000000; stroke-width:4; stroke-opacity:1; fill:none\" points=\"\n",
       "  2291.29,1486.45 2291.29,1469.18 \n",
       "  \"/>\n",
       "<polyline clip-path=\"url(#clip270)\" style=\"stroke:#000000; stroke-width:4; stroke-opacity:1; fill:none\" points=\"\n",
       "  180.996,1479.16 207.057,1479.16 \n",
       "  \"/>\n",
       "<polyline clip-path=\"url(#clip270)\" style=\"stroke:#000000; stroke-width:4; stroke-opacity:1; fill:none\" points=\"\n",
       "  180.996,1211.62 207.057,1211.62 \n",
       "  \"/>\n",
       "<polyline clip-path=\"url(#clip270)\" style=\"stroke:#000000; stroke-width:4; stroke-opacity:1; fill:none\" points=\"\n",
       "  180.996,944.088 207.057,944.088 \n",
       "  \"/>\n",
       "<polyline clip-path=\"url(#clip270)\" style=\"stroke:#000000; stroke-width:4; stroke-opacity:1; fill:none\" points=\"\n",
       "  180.996,676.553 207.057,676.553 \n",
       "  \"/>\n",
       "<polyline clip-path=\"url(#clip270)\" style=\"stroke:#000000; stroke-width:4; stroke-opacity:1; fill:none\" points=\"\n",
       "  180.996,409.018 207.057,409.018 \n",
       "  \"/>\n",
       "<polyline clip-path=\"url(#clip270)\" style=\"stroke:#000000; stroke-width:4; stroke-opacity:1; fill:none\" points=\"\n",
       "  180.996,141.483 207.057,141.483 \n",
       "  \"/>\n",
       "<path clip-path=\"url(#clip270)\" d=\"M 0 0 M223.977 1508.44 Q220.366 1508.44 218.538 1512 Q216.732 1515.55 216.732 1522.67 Q216.732 1529.78 218.538 1533.35 Q220.366 1536.89 223.977 1536.89 Q227.612 1536.89 229.417 1533.35 Q231.246 1529.78 231.246 1522.67 Q231.246 1515.55 229.417 1512 Q227.612 1508.44 223.977 1508.44 M223.977 1504.73 Q229.788 1504.73 232.843 1509.34 Q235.922 1513.92 235.922 1522.67 Q235.922 1531.4 232.843 1536.01 Q229.788 1540.59 223.977 1540.59 Q218.167 1540.59 215.089 1536.01 Q212.033 1531.4 212.033 1522.67 Q212.033 1513.92 215.089 1509.34 Q218.167 1504.73 223.977 1504.73 Z\" fill=\"#000000\" fill-rule=\"evenodd\" fill-opacity=\"1\" /><path clip-path=\"url(#clip270)\" d=\"M 0 0 M240.991 1534.04 L245.875 1534.04 L245.875 1539.92 L240.991 1539.92 L240.991 1534.04 Z\" fill=\"#000000\" fill-rule=\"evenodd\" fill-opacity=\"1\" /><path clip-path=\"url(#clip270)\" d=\"M 0 0 M260.945 1508.44 Q257.334 1508.44 255.505 1512 Q253.7 1515.55 253.7 1522.67 Q253.7 1529.78 255.505 1533.35 Q257.334 1536.89 260.945 1536.89 Q264.579 1536.89 266.385 1533.35 Q268.213 1529.78 268.213 1522.67 Q268.213 1515.55 266.385 1512 Q264.579 1508.44 260.945 1508.44 M260.945 1504.73 Q266.755 1504.73 269.811 1509.34 Q272.889 1513.92 272.889 1522.67 Q272.889 1531.4 269.811 1536.01 Q266.755 1540.59 260.945 1540.59 Q255.135 1540.59 252.056 1536.01 Q249 1531.4 249 1522.67 Q249 1513.92 252.056 1509.34 Q255.135 1504.73 260.945 1504.73 Z\" fill=\"#000000\" fill-rule=\"evenodd\" fill-opacity=\"1\" /><path clip-path=\"url(#clip270)\" d=\"M 0 0 M731.335 1535.98 L747.655 1535.98 L747.655 1539.92 L725.71 1539.92 L725.71 1535.98 Q728.372 1533.23 732.956 1528.6 Q737.562 1523.95 738.743 1522.61 Q740.988 1520.08 741.868 1518.35 Q742.771 1516.59 742.771 1514.9 Q742.771 1512.14 740.826 1510.41 Q738.905 1508.67 735.803 1508.67 Q733.604 1508.67 731.15 1509.43 Q728.72 1510.2 725.942 1511.75 L725.942 1507.03 Q728.766 1505.89 731.22 1505.31 Q733.673 1504.73 735.71 1504.73 Q741.081 1504.73 744.275 1507.42 Q747.47 1510.11 747.47 1514.6 Q747.47 1516.73 746.659 1518.65 Q745.872 1520.54 743.766 1523.14 Q743.187 1523.81 740.085 1527.03 Q736.984 1530.22 731.335 1535.98 Z\" fill=\"#000000\" fill-rule=\"evenodd\" fill-opacity=\"1\" /><path clip-path=\"url(#clip270)\" d=\"M 0 0 M752.724 1534.04 L757.608 1534.04 L757.608 1539.92 L752.724 1539.92 L752.724 1534.04 Z\" fill=\"#000000\" fill-rule=\"evenodd\" fill-opacity=\"1\" /><path clip-path=\"url(#clip270)\" d=\"M 0 0 M762.724 1505.36 L781.081 1505.36 L781.081 1509.3 L767.007 1509.3 L767.007 1517.77 Q768.025 1517.42 769.044 1517.26 Q770.062 1517.07 771.081 1517.07 Q776.868 1517.07 780.247 1520.24 Q783.627 1523.42 783.627 1528.83 Q783.627 1534.41 780.155 1537.51 Q776.682 1540.59 770.363 1540.59 Q768.187 1540.59 765.919 1540.22 Q763.673 1539.85 761.266 1539.11 L761.266 1534.41 Q763.349 1535.54 765.571 1536.1 Q767.794 1536.66 770.27 1536.66 Q774.275 1536.66 776.613 1534.55 Q778.951 1532.44 778.951 1528.83 Q778.951 1525.22 776.613 1523.11 Q774.275 1521.01 770.27 1521.01 Q768.395 1521.01 766.52 1521.42 Q764.669 1521.84 762.724 1522.72 L762.724 1505.36 Z\" fill=\"#000000\" fill-rule=\"evenodd\" fill-opacity=\"1\" /><path clip-path=\"url(#clip270)\" d=\"M 0 0 M1238.67 1505.36 L1257.03 1505.36 L1257.03 1509.3 L1242.95 1509.3 L1242.95 1517.77 Q1243.97 1517.42 1244.99 1517.26 Q1246.01 1517.07 1247.03 1517.07 Q1252.81 1517.07 1256.19 1520.24 Q1259.57 1523.42 1259.57 1528.83 Q1259.57 1534.41 1256.1 1537.51 Q1252.63 1540.59 1246.31 1540.59 Q1244.13 1540.59 1241.86 1540.22 Q1239.62 1539.85 1237.21 1539.11 L1237.21 1534.41 Q1239.3 1535.54 1241.52 1536.1 Q1243.74 1536.66 1246.22 1536.66 Q1250.22 1536.66 1252.56 1534.55 Q1254.9 1532.44 1254.9 1528.83 Q1254.9 1525.22 1252.56 1523.11 Q1250.22 1521.01 1246.22 1521.01 Q1244.34 1521.01 1242.47 1521.42 Q1240.61 1521.84 1238.67 1522.72 L1238.67 1505.36 Z\" fill=\"#000000\" fill-rule=\"evenodd\" fill-opacity=\"1\" /><path clip-path=\"url(#clip270)\" d=\"M 0 0 M1264.64 1534.04 L1269.53 1534.04 L1269.53 1539.92 L1264.64 1539.92 L1264.64 1534.04 Z\" fill=\"#000000\" fill-rule=\"evenodd\" fill-opacity=\"1\" /><path clip-path=\"url(#clip270)\" d=\"M 0 0 M1284.6 1508.44 Q1280.98 1508.44 1279.16 1512 Q1277.35 1515.55 1277.35 1522.67 Q1277.35 1529.78 1279.16 1533.35 Q1280.98 1536.89 1284.6 1536.89 Q1288.23 1536.89 1290.04 1533.35 Q1291.86 1529.78 1291.86 1522.67 Q1291.86 1515.55 1290.04 1512 Q1288.23 1508.44 1284.6 1508.44 M1284.6 1504.73 Q1290.41 1504.73 1293.46 1509.34 Q1296.54 1513.92 1296.54 1522.67 Q1296.54 1531.4 1293.46 1536.01 Q1290.41 1540.59 1284.6 1540.59 Q1278.79 1540.59 1275.71 1536.01 Q1272.65 1531.4 1272.65 1522.67 Q1272.65 1513.92 1275.71 1509.34 Q1278.79 1504.73 1284.6 1504.73 Z\" fill=\"#000000\" fill-rule=\"evenodd\" fill-opacity=\"1\" /><path clip-path=\"url(#clip270)\" d=\"M 0 0 M1749.99 1505.36 L1772.21 1505.36 L1772.21 1507.35 L1759.66 1539.92 L1754.78 1539.92 L1766.58 1509.3 L1749.99 1509.3 L1749.99 1505.36 Z\" fill=\"#000000\" fill-rule=\"evenodd\" fill-opacity=\"1\" /><path clip-path=\"url(#clip270)\" d=\"M 0 0 M1777.28 1534.04 L1782.16 1534.04 L1782.16 1539.92 L1777.28 1539.92 L1777.28 1534.04 Z\" fill=\"#000000\" fill-rule=\"evenodd\" fill-opacity=\"1\" /><path clip-path=\"url(#clip270)\" d=\"M 0 0 M1787.28 1505.36 L1805.63 1505.36 L1805.63 1509.3 L1791.56 1509.3 L1791.56 1517.77 Q1792.58 1517.42 1793.6 1517.26 Q1794.62 1517.07 1795.63 1517.07 Q1801.42 1517.07 1804.8 1520.24 Q1808.18 1523.42 1808.18 1528.83 Q1808.18 1534.41 1804.71 1537.51 Q1801.24 1540.59 1794.92 1540.59 Q1792.74 1540.59 1790.47 1540.22 Q1788.23 1539.85 1785.82 1539.11 L1785.82 1534.41 Q1787.9 1535.54 1790.13 1536.1 Q1792.35 1536.66 1794.82 1536.66 Q1798.83 1536.66 1801.17 1534.55 Q1803.5 1532.44 1803.5 1528.83 Q1803.5 1525.22 1801.17 1523.11 Q1798.83 1521.01 1794.82 1521.01 Q1792.95 1521.01 1791.07 1521.42 Q1789.22 1521.84 1787.28 1522.72 L1787.28 1505.36 Z\" fill=\"#000000\" fill-rule=\"evenodd\" fill-opacity=\"1\" /><path clip-path=\"url(#clip270)\" d=\"M 0 0 M2249.68 1535.98 L2257.32 1535.98 L2257.32 1509.62 L2249.01 1511.29 L2249.01 1507.03 L2257.27 1505.36 L2261.95 1505.36 L2261.95 1535.98 L2269.59 1535.98 L2269.59 1539.92 L2249.68 1539.92 L2249.68 1535.98 Z\" fill=\"#000000\" fill-rule=\"evenodd\" fill-opacity=\"1\" /><path clip-path=\"url(#clip270)\" d=\"M 0 0 M2284.66 1508.44 Q2281.05 1508.44 2279.22 1512 Q2277.41 1515.55 2277.41 1522.67 Q2277.41 1529.78 2279.22 1533.35 Q2281.05 1536.89 2284.66 1536.89 Q2288.29 1536.89 2290.1 1533.35 Q2291.93 1529.78 2291.93 1522.67 Q2291.93 1515.55 2290.1 1512 Q2288.29 1508.44 2284.66 1508.44 M2284.66 1504.73 Q2290.47 1504.73 2293.52 1509.34 Q2296.6 1513.92 2296.6 1522.67 Q2296.6 1531.4 2293.52 1536.01 Q2290.47 1540.59 2284.66 1540.59 Q2278.85 1540.59 2275.77 1536.01 Q2272.71 1531.4 2272.71 1522.67 Q2272.71 1513.92 2275.77 1509.34 Q2278.85 1504.73 2284.66 1504.73 Z\" fill=\"#000000\" fill-rule=\"evenodd\" fill-opacity=\"1\" /><path clip-path=\"url(#clip270)\" d=\"M 0 0 M2301.67 1534.04 L2306.56 1534.04 L2306.56 1539.92 L2301.67 1539.92 L2301.67 1534.04 Z\" fill=\"#000000\" fill-rule=\"evenodd\" fill-opacity=\"1\" /><path clip-path=\"url(#clip270)\" d=\"M 0 0 M2321.63 1508.44 Q2318.02 1508.44 2316.19 1512 Q2314.38 1515.55 2314.38 1522.67 Q2314.38 1529.78 2316.19 1533.35 Q2318.02 1536.89 2321.63 1536.89 Q2325.26 1536.89 2327.07 1533.35 Q2328.89 1529.78 2328.89 1522.67 Q2328.89 1515.55 2327.07 1512 Q2325.26 1508.44 2321.63 1508.44 M2321.63 1504.73 Q2327.44 1504.73 2330.49 1509.34 Q2333.57 1513.92 2333.57 1522.67 Q2333.57 1531.4 2330.49 1536.01 Q2327.44 1540.59 2321.63 1540.59 Q2315.82 1540.59 2312.74 1536.01 Q2309.68 1531.4 2309.68 1522.67 Q2309.68 1513.92 2312.74 1509.34 Q2315.82 1504.73 2321.63 1504.73 Z\" fill=\"#000000\" fill-rule=\"evenodd\" fill-opacity=\"1\" /><path clip-path=\"url(#clip270)\" d=\"M 0 0 M64.4736 1481.55 L76.9504 1481.55 L76.9504 1485.35 L64.4736 1485.35 L64.4736 1481.55 Z\" fill=\"#000000\" fill-rule=\"evenodd\" fill-opacity=\"1\" /><path clip-path=\"url(#clip270)\" d=\"M 0 0 M82.0661 1461.88 L100.422 1461.88 L100.422 1465.81 L86.3485 1465.81 L86.3485 1474.28 Q87.367 1473.94 88.3855 1473.78 Q89.404 1473.59 90.4225 1473.59 Q96.2095 1473.59 99.5892 1476.76 Q102.969 1479.93 102.969 1485.35 Q102.969 1490.93 99.4966 1494.03 Q96.0244 1497.11 89.7049 1497.11 Q87.529 1497.11 85.2605 1496.74 Q83.0152 1496.37 80.6078 1495.63 L80.6078 1490.93 Q82.6911 1492.06 84.9133 1492.62 Q87.1355 1493.17 89.6124 1493.17 Q93.617 1493.17 95.9549 1491.07 Q98.2929 1488.96 98.2929 1485.35 Q98.2929 1481.74 95.9549 1479.63 Q93.617 1477.53 89.6124 1477.53 Q87.7374 1477.53 85.8624 1477.94 Q84.0105 1478.36 82.0661 1479.24 L82.0661 1461.88 Z\" fill=\"#000000\" fill-rule=\"evenodd\" fill-opacity=\"1\" /><path clip-path=\"url(#clip270)\" d=\"M 0 0 M118.038 1464.96 Q114.427 1464.96 112.598 1468.52 Q110.793 1472.06 110.793 1479.19 Q110.793 1486.3 112.598 1489.86 Q114.427 1493.41 118.038 1493.41 Q121.672 1493.41 123.478 1489.86 Q125.307 1486.3 125.307 1479.19 Q125.307 1472.06 123.478 1468.52 Q121.672 1464.96 118.038 1464.96 M118.038 1461.25 Q123.848 1461.25 126.904 1465.86 Q129.983 1470.44 129.983 1479.19 Q129.983 1487.92 126.904 1492.53 Q123.848 1497.11 118.038 1497.11 Q112.228 1497.11 109.149 1492.53 Q106.094 1487.92 106.094 1479.19 Q106.094 1470.44 109.149 1465.86 Q112.228 1461.25 118.038 1461.25 Z\" fill=\"#000000\" fill-rule=\"evenodd\" fill-opacity=\"1\" /><path clip-path=\"url(#clip270)\" d=\"M 0 0 M145.052 1464.96 Q141.441 1464.96 139.612 1468.52 Q137.807 1472.06 137.807 1479.19 Q137.807 1486.3 139.612 1489.86 Q141.441 1493.41 145.052 1493.41 Q148.686 1493.41 150.492 1489.86 Q152.32 1486.3 152.32 1479.19 Q152.32 1472.06 150.492 1468.52 Q148.686 1464.96 145.052 1464.96 M145.052 1461.25 Q150.862 1461.25 153.918 1465.86 Q156.996 1470.44 156.996 1479.19 Q156.996 1487.92 153.918 1492.53 Q150.862 1497.11 145.052 1497.11 Q139.242 1497.11 136.163 1492.53 Q133.107 1487.92 133.107 1479.19 Q133.107 1470.44 136.163 1465.86 Q139.242 1461.25 145.052 1461.25 Z\" fill=\"#000000\" fill-rule=\"evenodd\" fill-opacity=\"1\" /><path clip-path=\"url(#clip270)\" d=\"M 0 0 M62.9921 1214.02 L75.4689 1214.02 L75.4689 1217.81 L62.9921 1217.81 L62.9921 1214.02 Z\" fill=\"#000000\" fill-rule=\"evenodd\" fill-opacity=\"1\" /><path clip-path=\"url(#clip270)\" d=\"M 0 0 M93.3855 1198.42 L81.58 1216.87 L93.3855 1216.87 L93.3855 1198.42 M92.1586 1194.34 L98.0382 1194.34 L98.0382 1216.87 L102.969 1216.87 L102.969 1220.75 L98.0382 1220.75 L98.0382 1228.9 L93.3855 1228.9 L93.3855 1220.75 L77.7837 1220.75 L77.7837 1216.24 L92.1586 1194.34 Z\" fill=\"#000000\" fill-rule=\"evenodd\" fill-opacity=\"1\" /><path clip-path=\"url(#clip270)\" d=\"M 0 0 M118.038 1197.42 Q114.427 1197.42 112.598 1200.99 Q110.793 1204.53 110.793 1211.66 Q110.793 1218.76 112.598 1222.33 Q114.427 1225.87 118.038 1225.87 Q121.672 1225.87 123.478 1222.33 Q125.307 1218.76 125.307 1211.66 Q125.307 1204.53 123.478 1200.99 Q121.672 1197.42 118.038 1197.42 M118.038 1193.72 Q123.848 1193.72 126.904 1198.32 Q129.983 1202.91 129.983 1211.66 Q129.983 1220.38 126.904 1224.99 Q123.848 1229.57 118.038 1229.57 Q112.228 1229.57 109.149 1224.99 Q106.094 1220.38 106.094 1211.66 Q106.094 1202.91 109.149 1198.32 Q112.228 1193.72 118.038 1193.72 Z\" fill=\"#000000\" fill-rule=\"evenodd\" fill-opacity=\"1\" /><path clip-path=\"url(#clip270)\" d=\"M 0 0 M145.052 1197.42 Q141.441 1197.42 139.612 1200.99 Q137.807 1204.53 137.807 1211.66 Q137.807 1218.76 139.612 1222.33 Q141.441 1225.87 145.052 1225.87 Q148.686 1225.87 150.492 1222.33 Q152.32 1218.76 152.32 1211.66 Q152.32 1204.53 150.492 1200.99 Q148.686 1197.42 145.052 1197.42 M145.052 1193.72 Q150.862 1193.72 153.918 1198.32 Q156.996 1202.91 156.996 1211.66 Q156.996 1220.38 153.918 1224.99 Q150.862 1229.57 145.052 1229.57 Q139.242 1229.57 136.163 1224.99 Q133.107 1220.38 133.107 1211.66 Q133.107 1202.91 136.163 1198.32 Q139.242 1193.72 145.052 1193.72 Z\" fill=\"#000000\" fill-rule=\"evenodd\" fill-opacity=\"1\" /><path clip-path=\"url(#clip270)\" d=\"M 0 0 M64.1264 946.484 L76.6032 946.484 L76.6032 950.28 L64.1264 950.28 L64.1264 946.484 Z\" fill=\"#000000\" fill-rule=\"evenodd\" fill-opacity=\"1\" /><path clip-path=\"url(#clip270)\" d=\"M 0 0 M95.8392 942.734 Q99.1956 943.451 101.071 945.72 Q102.969 947.988 102.969 951.322 Q102.969 956.437 99.4503 959.238 Q95.9318 962.039 89.4503 962.039 Q87.2744 962.039 84.9596 961.599 Q82.6679 961.183 80.2143 960.326 L80.2143 955.812 Q82.1587 956.947 84.4735 957.525 Q86.7883 958.104 89.3114 958.104 Q93.7096 958.104 96.0012 956.368 Q98.316 954.632 98.316 951.322 Q98.316 948.266 96.1632 946.553 Q94.0336 944.817 90.2142 944.817 L86.1864 944.817 L86.1864 940.974 L90.3994 940.974 Q93.8484 940.974 95.6771 939.609 Q97.5058 938.22 97.5058 935.627 Q97.5058 932.965 95.6077 931.553 Q93.7327 930.118 90.2142 930.118 Q88.2929 930.118 86.0939 930.535 Q83.8948 930.951 81.2559 931.831 L81.2559 927.664 Q83.9179 926.924 86.2327 926.553 Q88.5707 926.183 90.6309 926.183 Q95.9549 926.183 99.0567 928.613 Q102.159 931.021 102.159 935.141 Q102.159 938.011 100.515 940.002 Q98.8716 941.97 95.8392 942.734 Z\" fill=\"#000000\" fill-rule=\"evenodd\" fill-opacity=\"1\" /><path clip-path=\"url(#clip270)\" d=\"M 0 0 M118.038 929.887 Q114.427 929.887 112.598 933.451 Q110.793 936.993 110.793 944.123 Q110.793 951.229 112.598 954.794 Q114.427 958.335 118.038 958.335 Q121.672 958.335 123.478 954.794 Q125.307 951.229 125.307 944.123 Q125.307 936.993 123.478 933.451 Q121.672 929.887 118.038 929.887 M118.038 926.183 Q123.848 926.183 126.904 930.789 Q129.983 935.373 129.983 944.123 Q129.983 952.849 126.904 957.456 Q123.848 962.039 118.038 962.039 Q112.228 962.039 109.149 957.456 Q106.094 952.849 106.094 944.123 Q106.094 935.373 109.149 930.789 Q112.228 926.183 118.038 926.183 Z\" fill=\"#000000\" fill-rule=\"evenodd\" fill-opacity=\"1\" /><path clip-path=\"url(#clip270)\" d=\"M 0 0 M145.052 929.887 Q141.441 929.887 139.612 933.451 Q137.807 936.993 137.807 944.123 Q137.807 951.229 139.612 954.794 Q141.441 958.335 145.052 958.335 Q148.686 958.335 150.492 954.794 Q152.32 951.229 152.32 944.123 Q152.32 936.993 150.492 933.451 Q148.686 929.887 145.052 929.887 M145.052 926.183 Q150.862 926.183 153.918 930.789 Q156.996 935.373 156.996 944.123 Q156.996 952.849 153.918 957.456 Q150.862 962.039 145.052 962.039 Q139.242 962.039 136.163 957.456 Q133.107 952.849 133.107 944.123 Q133.107 935.373 136.163 930.789 Q139.242 926.183 145.052 926.183 Z\" fill=\"#000000\" fill-rule=\"evenodd\" fill-opacity=\"1\" /><path clip-path=\"url(#clip270)\" d=\"M 0 0 M65.0754 678.949 L77.5522 678.949 L77.5522 682.745 L65.0754 682.745 L65.0754 678.949 Z\" fill=\"#000000\" fill-rule=\"evenodd\" fill-opacity=\"1\" /><path clip-path=\"url(#clip270)\" d=\"M 0 0 M86.6494 689.898 L102.969 689.898 L102.969 693.833 L81.0244 693.833 L81.0244 689.898 Q83.6865 687.143 88.2698 682.514 Q92.8762 677.861 94.0568 676.518 Q96.3021 673.995 97.1818 672.259 Q98.0845 670.5 98.0845 668.81 Q98.0845 666.055 96.1401 664.319 Q94.2188 662.583 91.117 662.583 Q88.9179 662.583 86.4642 663.347 Q84.0337 664.111 81.2559 665.662 L81.2559 660.94 Q84.08 659.805 86.5337 659.227 Q88.9874 658.648 91.0244 658.648 Q96.3947 658.648 99.5892 661.333 Q102.784 664.018 102.784 668.509 Q102.784 670.639 101.973 672.56 Q101.186 674.458 99.0799 677.051 Q98.5012 677.722 95.3994 680.94 Q92.2975 684.134 86.6494 689.898 Z\" fill=\"#000000\" fill-rule=\"evenodd\" fill-opacity=\"1\" /><path clip-path=\"url(#clip270)\" d=\"M 0 0 M118.038 662.352 Q114.427 662.352 112.598 665.916 Q110.793 669.458 110.793 676.588 Q110.793 683.694 112.598 687.259 Q114.427 690.801 118.038 690.801 Q121.672 690.801 123.478 687.259 Q125.307 683.694 125.307 676.588 Q125.307 669.458 123.478 665.916 Q121.672 662.352 118.038 662.352 M118.038 658.648 Q123.848 658.648 126.904 663.254 Q129.983 667.838 129.983 676.588 Q129.983 685.314 126.904 689.921 Q123.848 694.504 118.038 694.504 Q112.228 694.504 109.149 689.921 Q106.094 685.314 106.094 676.588 Q106.094 667.838 109.149 663.254 Q112.228 658.648 118.038 658.648 Z\" fill=\"#000000\" fill-rule=\"evenodd\" fill-opacity=\"1\" /><path clip-path=\"url(#clip270)\" d=\"M 0 0 M145.052 662.352 Q141.441 662.352 139.612 665.916 Q137.807 669.458 137.807 676.588 Q137.807 683.694 139.612 687.259 Q141.441 690.801 145.052 690.801 Q148.686 690.801 150.492 687.259 Q152.32 683.694 152.32 676.588 Q152.32 669.458 150.492 665.916 Q148.686 662.352 145.052 662.352 M145.052 658.648 Q150.862 658.648 153.918 663.254 Q156.996 667.838 156.996 676.588 Q156.996 685.314 153.918 689.921 Q150.862 694.504 145.052 694.504 Q139.242 694.504 136.163 689.921 Q133.107 685.314 133.107 676.588 Q133.107 667.838 136.163 663.254 Q139.242 658.648 145.052 658.648 Z\" fill=\"#000000\" fill-rule=\"evenodd\" fill-opacity=\"1\" /><path clip-path=\"url(#clip270)\" d=\"M 0 0 M64.7051 411.414 L77.1819 411.414 L77.1819 415.21 L64.7051 415.21 L64.7051 411.414 Z\" fill=\"#000000\" fill-rule=\"evenodd\" fill-opacity=\"1\" /><path clip-path=\"url(#clip270)\" d=\"M 0 0 M83.0615 422.363 L90.7003 422.363 L90.7003 395.997 L82.3902 397.664 L82.3902 393.405 L90.654 391.738 L95.3299 391.738 L95.3299 422.363 L102.969 422.363 L102.969 426.298 L83.0615 426.298 L83.0615 422.363 Z\" fill=\"#000000\" fill-rule=\"evenodd\" fill-opacity=\"1\" /><path clip-path=\"url(#clip270)\" d=\"M 0 0 M118.038 394.817 Q114.427 394.817 112.598 398.382 Q110.793 401.923 110.793 409.053 Q110.793 416.159 112.598 419.724 Q114.427 423.266 118.038 423.266 Q121.672 423.266 123.478 419.724 Q125.307 416.159 125.307 409.053 Q125.307 401.923 123.478 398.382 Q121.672 394.817 118.038 394.817 M118.038 391.113 Q123.848 391.113 126.904 395.72 Q129.983 400.303 129.983 409.053 Q129.983 417.78 126.904 422.386 Q123.848 426.969 118.038 426.969 Q112.228 426.969 109.149 422.386 Q106.094 417.78 106.094 409.053 Q106.094 400.303 109.149 395.72 Q112.228 391.113 118.038 391.113 Z\" fill=\"#000000\" fill-rule=\"evenodd\" fill-opacity=\"1\" /><path clip-path=\"url(#clip270)\" d=\"M 0 0 M145.052 394.817 Q141.441 394.817 139.612 398.382 Q137.807 401.923 137.807 409.053 Q137.807 416.159 139.612 419.724 Q141.441 423.266 145.052 423.266 Q148.686 423.266 150.492 419.724 Q152.32 416.159 152.32 409.053 Q152.32 401.923 150.492 398.382 Q148.686 394.817 145.052 394.817 M145.052 391.113 Q150.862 391.113 153.918 395.72 Q156.996 400.303 156.996 409.053 Q156.996 417.78 153.918 422.386 Q150.862 426.969 145.052 426.969 Q139.242 426.969 136.163 422.386 Q133.107 417.78 133.107 409.053 Q133.107 400.303 136.163 395.72 Q139.242 391.113 145.052 391.113 Z\" fill=\"#000000\" fill-rule=\"evenodd\" fill-opacity=\"1\" /><path clip-path=\"url(#clip270)\" d=\"M 0 0 M145.052 127.282 Q141.441 127.282 139.612 130.847 Q137.807 134.388 137.807 141.518 Q137.807 148.624 139.612 152.189 Q141.441 155.731 145.052 155.731 Q148.686 155.731 150.492 152.189 Q152.32 148.624 152.32 141.518 Q152.32 134.388 150.492 130.847 Q148.686 127.282 145.052 127.282 M145.052 123.578 Q150.862 123.578 153.918 128.185 Q156.996 132.768 156.996 141.518 Q156.996 150.245 153.918 154.851 Q150.862 159.435 145.052 159.435 Q139.242 159.435 136.163 154.851 Q133.107 150.245 133.107 141.518 Q133.107 132.768 136.163 128.185 Q139.242 123.578 145.052 123.578 Z\" fill=\"#000000\" fill-rule=\"evenodd\" fill-opacity=\"1\" /><circle clip-path=\"url(#clip272)\" cx=\"242.461\" cy=\"128.107\" r=\"10\" fill=\"#add8e6\" fill-rule=\"evenodd\" fill-opacity=\"1\" stroke=\"#000000\" stroke-opacity=\"1\" stroke-width=\"3.2\"/>\n",
       "<circle clip-path=\"url(#clip272)\" cx=\"583.933\" cy=\"699.426\" r=\"10\" fill=\"#add8e6\" fill-rule=\"evenodd\" fill-opacity=\"1\" stroke=\"#000000\" stroke-opacity=\"1\" stroke-width=\"3.2\"/>\n",
       "<circle clip-path=\"url(#clip272)\" cx=\"925.404\" cy=\"1171.66\" r=\"10\" fill=\"#add8e6\" fill-rule=\"evenodd\" fill-opacity=\"1\" stroke=\"#000000\" stroke-opacity=\"1\" stroke-width=\"3.2\"/>\n",
       "<circle clip-path=\"url(#clip272)\" cx=\"1266.88\" cy=\"1445.72\" r=\"10\" fill=\"#add8e6\" fill-rule=\"evenodd\" fill-opacity=\"1\" stroke=\"#000000\" stroke-opacity=\"1\" stroke-width=\"3.2\"/>\n",
       "<circle clip-path=\"url(#clip272)\" cx=\"1608.35\" cy=\"1422.51\" r=\"10\" fill=\"#add8e6\" fill-rule=\"evenodd\" fill-opacity=\"1\" stroke=\"#000000\" stroke-opacity=\"1\" stroke-width=\"3.2\"/>\n",
       "<circle clip-path=\"url(#clip272)\" cx=\"1949.82\" cy=\"1002.96\" r=\"10\" fill=\"#add8e6\" fill-rule=\"evenodd\" fill-opacity=\"1\" stroke=\"#000000\" stroke-opacity=\"1\" stroke-width=\"3.2\"/>\n",
       "<circle clip-path=\"url(#clip272)\" cx=\"2291.29\" cy=\"87.9763\" r=\"10\" fill=\"#add8e6\" fill-rule=\"evenodd\" fill-opacity=\"1\" stroke=\"#000000\" stroke-opacity=\"1\" stroke-width=\"3.2\"/>\n",
       "</svg>\n"
      ]
     },
     "execution_count": 50,
     "metadata": {},
     "output_type": "execute_result"
    }
   ],
   "source": [
    "x = [0; 10/6; (10/6)*2; (10/6)*3; (10/6)*4; (10/6)*5; 10]           #pontos de x\n",
    "y = [ 5;  -208.54938271604937; -385.06172839506166; -487.4999999999999; -478.8271604938271; -322.0061728395061; 20] #pontos de y\n",
    "scatter(x, y, c=:lightblue, ms=3, leg=false) #plotando os pontos"
   ]
  },
  {
   "cell_type": "code",
   "execution_count": 51,
   "id": "fc3b627e",
   "metadata": {},
   "outputs": [
    {
     "data": {
      "text/plain": [
       "interpolação2 (generic function with 1 method)"
      ]
     },
     "execution_count": 51,
     "metadata": {},
     "output_type": "execute_result"
    }
   ],
   "source": [
    "# fazendo interpolação de grau 2\n",
    "function interpolação2(x,y)\n",
    "    #criar a matriz V\n",
    "    V=[x.^0 x.^1 x.^2]   # calcula a potencia ponto a ponto de x\n",
    "    c=V\\y                #resolve o sistema linear\n",
    "    return c             #retorna os coeficientes\n",
    "end"
   ]
  },
  {
   "cell_type": "code",
   "execution_count": 52,
   "id": "3ac3ef15",
   "metadata": {},
   "outputs": [
    {
     "data": {
      "text/plain": [
       "interpolação3 (generic function with 1 method)"
      ]
     },
     "execution_count": 52,
     "metadata": {},
     "output_type": "execute_result"
    }
   ],
   "source": [
    "# fazendo interpolação de grau 3\n",
    "function interpolação3(x,y)\n",
    "    #criar a matriz V\n",
    "    V=[x.^0 x.^1 x.^2 x.^3]  # calcula a potencia ponto a ponto de x\n",
    "    c=V\\y                    #resolve o sistema linear\n",
    "    return c #retorna os coeficientes\n",
    "end"
   ]
  },
  {
   "cell_type": "code",
   "execution_count": 53,
   "id": "bb23dd47",
   "metadata": {},
   "outputs": [
    {
     "data": {
      "text/plain": [
       "poli2 (generic function with 1 method)"
      ]
     },
     "execution_count": 53,
     "metadata": {},
     "output_type": "execute_result"
    }
   ],
   "source": [
    "c2 = interpolação2(x,y)\n",
    "poli2(x) = c2[1] + c2[2]*x + c2[3]*x^2"
   ]
  },
  {
   "cell_type": "code",
   "execution_count": 54,
   "id": "3d860483",
   "metadata": {},
   "outputs": [
    {
     "data": {
      "image/svg+xml": [
       "<?xml version=\"1.0\" encoding=\"utf-8\"?>\n",
       "<svg xmlns=\"http://www.w3.org/2000/svg\" xmlns:xlink=\"http://www.w3.org/1999/xlink\" width=\"600\" height=\"400\" viewBox=\"0 0 2400 1600\">\n",
       "<defs>\n",
       "  <clipPath id=\"clip310\">\n",
       "    <rect x=\"0\" y=\"0\" width=\"2400\" height=\"1600\"/>\n",
       "  </clipPath>\n",
       "</defs>\n",
       "<path clip-path=\"url(#clip310)\" d=\"\n",
       "M0 1600 L2400 1600 L2400 0 L0 0  Z\n",
       "  \" fill=\"#ffffff\" fill-rule=\"evenodd\" fill-opacity=\"1\"/>\n",
       "<defs>\n",
       "  <clipPath id=\"clip311\">\n",
       "    <rect x=\"480\" y=\"0\" width=\"1681\" height=\"1600\"/>\n",
       "  </clipPath>\n",
       "</defs>\n",
       "<path clip-path=\"url(#clip310)\" d=\"\n",
       "M180.996 1486.45 L2352.76 1486.45 L2352.76 47.2441 L180.996 47.2441  Z\n",
       "  \" fill=\"#ffffff\" fill-rule=\"evenodd\" fill-opacity=\"1\"/>\n",
       "<defs>\n",
       "  <clipPath id=\"clip312\">\n",
       "    <rect x=\"180\" y=\"47\" width=\"2173\" height=\"1440\"/>\n",
       "  </clipPath>\n",
       "</defs>\n",
       "<polyline clip-path=\"url(#clip312)\" style=\"stroke:#000000; stroke-width:2; stroke-opacity:0.1; fill:none\" points=\"\n",
       "  242.461,1486.45 242.461,47.2441 \n",
       "  \"/>\n",
       "<polyline clip-path=\"url(#clip312)\" style=\"stroke:#000000; stroke-width:2; stroke-opacity:0.1; fill:none\" points=\"\n",
       "  754.669,1486.45 754.669,47.2441 \n",
       "  \"/>\n",
       "<polyline clip-path=\"url(#clip312)\" style=\"stroke:#000000; stroke-width:2; stroke-opacity:0.1; fill:none\" points=\"\n",
       "  1266.88,1486.45 1266.88,47.2441 \n",
       "  \"/>\n",
       "<polyline clip-path=\"url(#clip312)\" style=\"stroke:#000000; stroke-width:2; stroke-opacity:0.1; fill:none\" points=\"\n",
       "  1779.08,1486.45 1779.08,47.2441 \n",
       "  \"/>\n",
       "<polyline clip-path=\"url(#clip312)\" style=\"stroke:#000000; stroke-width:2; stroke-opacity:0.1; fill:none\" points=\"\n",
       "  2291.29,1486.45 2291.29,47.2441 \n",
       "  \"/>\n",
       "<polyline clip-path=\"url(#clip312)\" style=\"stroke:#000000; stroke-width:2; stroke-opacity:0.1; fill:none\" points=\"\n",
       "  180.996,1476.88 2352.76,1476.88 \n",
       "  \"/>\n",
       "<polyline clip-path=\"url(#clip312)\" style=\"stroke:#000000; stroke-width:2; stroke-opacity:0.1; fill:none\" points=\"\n",
       "  180.996,1220.64 2352.76,1220.64 \n",
       "  \"/>\n",
       "<polyline clip-path=\"url(#clip312)\" style=\"stroke:#000000; stroke-width:2; stroke-opacity:0.1; fill:none\" points=\"\n",
       "  180.996,964.404 2352.76,964.404 \n",
       "  \"/>\n",
       "<polyline clip-path=\"url(#clip312)\" style=\"stroke:#000000; stroke-width:2; stroke-opacity:0.1; fill:none\" points=\"\n",
       "  180.996,708.166 2352.76,708.166 \n",
       "  \"/>\n",
       "<polyline clip-path=\"url(#clip312)\" style=\"stroke:#000000; stroke-width:2; stroke-opacity:0.1; fill:none\" points=\"\n",
       "  180.996,451.929 2352.76,451.929 \n",
       "  \"/>\n",
       "<polyline clip-path=\"url(#clip312)\" style=\"stroke:#000000; stroke-width:2; stroke-opacity:0.1; fill:none\" points=\"\n",
       "  180.996,195.691 2352.76,195.691 \n",
       "  \"/>\n",
       "<polyline clip-path=\"url(#clip310)\" style=\"stroke:#000000; stroke-width:4; stroke-opacity:1; fill:none\" points=\"\n",
       "  180.996,1486.45 2352.76,1486.45 \n",
       "  \"/>\n",
       "<polyline clip-path=\"url(#clip310)\" style=\"stroke:#000000; stroke-width:4; stroke-opacity:1; fill:none\" points=\"\n",
       "  180.996,1486.45 180.996,47.2441 \n",
       "  \"/>\n",
       "<polyline clip-path=\"url(#clip310)\" style=\"stroke:#000000; stroke-width:4; stroke-opacity:1; fill:none\" points=\"\n",
       "  242.461,1486.45 242.461,1469.18 \n",
       "  \"/>\n",
       "<polyline clip-path=\"url(#clip310)\" style=\"stroke:#000000; stroke-width:4; stroke-opacity:1; fill:none\" points=\"\n",
       "  754.669,1486.45 754.669,1469.18 \n",
       "  \"/>\n",
       "<polyline clip-path=\"url(#clip310)\" style=\"stroke:#000000; stroke-width:4; stroke-opacity:1; fill:none\" points=\"\n",
       "  1266.88,1486.45 1266.88,1469.18 \n",
       "  \"/>\n",
       "<polyline clip-path=\"url(#clip310)\" style=\"stroke:#000000; stroke-width:4; stroke-opacity:1; fill:none\" points=\"\n",
       "  1779.08,1486.45 1779.08,1469.18 \n",
       "  \"/>\n",
       "<polyline clip-path=\"url(#clip310)\" style=\"stroke:#000000; stroke-width:4; stroke-opacity:1; fill:none\" points=\"\n",
       "  2291.29,1486.45 2291.29,1469.18 \n",
       "  \"/>\n",
       "<polyline clip-path=\"url(#clip310)\" style=\"stroke:#000000; stroke-width:4; stroke-opacity:1; fill:none\" points=\"\n",
       "  180.996,1476.88 207.057,1476.88 \n",
       "  \"/>\n",
       "<polyline clip-path=\"url(#clip310)\" style=\"stroke:#000000; stroke-width:4; stroke-opacity:1; fill:none\" points=\"\n",
       "  180.996,1220.64 207.057,1220.64 \n",
       "  \"/>\n",
       "<polyline clip-path=\"url(#clip310)\" style=\"stroke:#000000; stroke-width:4; stroke-opacity:1; fill:none\" points=\"\n",
       "  180.996,964.404 207.057,964.404 \n",
       "  \"/>\n",
       "<polyline clip-path=\"url(#clip310)\" style=\"stroke:#000000; stroke-width:4; stroke-opacity:1; fill:none\" points=\"\n",
       "  180.996,708.166 207.057,708.166 \n",
       "  \"/>\n",
       "<polyline clip-path=\"url(#clip310)\" style=\"stroke:#000000; stroke-width:4; stroke-opacity:1; fill:none\" points=\"\n",
       "  180.996,451.929 207.057,451.929 \n",
       "  \"/>\n",
       "<polyline clip-path=\"url(#clip310)\" style=\"stroke:#000000; stroke-width:4; stroke-opacity:1; fill:none\" points=\"\n",
       "  180.996,195.691 207.057,195.691 \n",
       "  \"/>\n",
       "<path clip-path=\"url(#clip310)\" d=\"M 0 0 M223.977 1508.44 Q220.366 1508.44 218.538 1512 Q216.732 1515.55 216.732 1522.67 Q216.732 1529.78 218.538 1533.35 Q220.366 1536.89 223.977 1536.89 Q227.612 1536.89 229.417 1533.35 Q231.246 1529.78 231.246 1522.67 Q231.246 1515.55 229.417 1512 Q227.612 1508.44 223.977 1508.44 M223.977 1504.73 Q229.788 1504.73 232.843 1509.34 Q235.922 1513.92 235.922 1522.67 Q235.922 1531.4 232.843 1536.01 Q229.788 1540.59 223.977 1540.59 Q218.167 1540.59 215.089 1536.01 Q212.033 1531.4 212.033 1522.67 Q212.033 1513.92 215.089 1509.34 Q218.167 1504.73 223.977 1504.73 Z\" fill=\"#000000\" fill-rule=\"evenodd\" fill-opacity=\"1\" /><path clip-path=\"url(#clip310)\" d=\"M 0 0 M240.991 1534.04 L245.875 1534.04 L245.875 1539.92 L240.991 1539.92 L240.991 1534.04 Z\" fill=\"#000000\" fill-rule=\"evenodd\" fill-opacity=\"1\" /><path clip-path=\"url(#clip310)\" d=\"M 0 0 M260.945 1508.44 Q257.334 1508.44 255.505 1512 Q253.7 1515.55 253.7 1522.67 Q253.7 1529.78 255.505 1533.35 Q257.334 1536.89 260.945 1536.89 Q264.579 1536.89 266.385 1533.35 Q268.213 1529.78 268.213 1522.67 Q268.213 1515.55 266.385 1512 Q264.579 1508.44 260.945 1508.44 M260.945 1504.73 Q266.755 1504.73 269.811 1509.34 Q272.889 1513.92 272.889 1522.67 Q272.889 1531.4 269.811 1536.01 Q266.755 1540.59 260.945 1540.59 Q255.135 1540.59 252.056 1536.01 Q249 1531.4 249 1522.67 Q249 1513.92 252.056 1509.34 Q255.135 1504.73 260.945 1504.73 Z\" fill=\"#000000\" fill-rule=\"evenodd\" fill-opacity=\"1\" /><path clip-path=\"url(#clip310)\" d=\"M 0 0 M731.335 1535.98 L747.655 1535.98 L747.655 1539.92 L725.71 1539.92 L725.71 1535.98 Q728.372 1533.23 732.956 1528.6 Q737.562 1523.95 738.743 1522.61 Q740.988 1520.08 741.868 1518.35 Q742.771 1516.59 742.771 1514.9 Q742.771 1512.14 740.826 1510.41 Q738.905 1508.67 735.803 1508.67 Q733.604 1508.67 731.15 1509.43 Q728.72 1510.2 725.942 1511.75 L725.942 1507.03 Q728.766 1505.89 731.22 1505.31 Q733.673 1504.73 735.71 1504.73 Q741.081 1504.73 744.275 1507.42 Q747.47 1510.11 747.47 1514.6 Q747.47 1516.73 746.659 1518.65 Q745.872 1520.54 743.766 1523.14 Q743.187 1523.81 740.085 1527.03 Q736.984 1530.22 731.335 1535.98 Z\" fill=\"#000000\" fill-rule=\"evenodd\" fill-opacity=\"1\" /><path clip-path=\"url(#clip310)\" d=\"M 0 0 M752.724 1534.04 L757.608 1534.04 L757.608 1539.92 L752.724 1539.92 L752.724 1534.04 Z\" fill=\"#000000\" fill-rule=\"evenodd\" fill-opacity=\"1\" /><path clip-path=\"url(#clip310)\" d=\"M 0 0 M762.724 1505.36 L781.081 1505.36 L781.081 1509.3 L767.007 1509.3 L767.007 1517.77 Q768.025 1517.42 769.044 1517.26 Q770.062 1517.07 771.081 1517.07 Q776.868 1517.07 780.247 1520.24 Q783.627 1523.42 783.627 1528.83 Q783.627 1534.41 780.155 1537.51 Q776.682 1540.59 770.363 1540.59 Q768.187 1540.59 765.919 1540.22 Q763.673 1539.85 761.266 1539.11 L761.266 1534.41 Q763.349 1535.54 765.571 1536.1 Q767.794 1536.66 770.27 1536.66 Q774.275 1536.66 776.613 1534.55 Q778.951 1532.44 778.951 1528.83 Q778.951 1525.22 776.613 1523.11 Q774.275 1521.01 770.27 1521.01 Q768.395 1521.01 766.52 1521.42 Q764.669 1521.84 762.724 1522.72 L762.724 1505.36 Z\" fill=\"#000000\" fill-rule=\"evenodd\" fill-opacity=\"1\" /><path clip-path=\"url(#clip310)\" d=\"M 0 0 M1238.67 1505.36 L1257.03 1505.36 L1257.03 1509.3 L1242.95 1509.3 L1242.95 1517.77 Q1243.97 1517.42 1244.99 1517.26 Q1246.01 1517.07 1247.03 1517.07 Q1252.81 1517.07 1256.19 1520.24 Q1259.57 1523.42 1259.57 1528.83 Q1259.57 1534.41 1256.1 1537.51 Q1252.63 1540.59 1246.31 1540.59 Q1244.13 1540.59 1241.86 1540.22 Q1239.62 1539.85 1237.21 1539.11 L1237.21 1534.41 Q1239.3 1535.54 1241.52 1536.1 Q1243.74 1536.66 1246.22 1536.66 Q1250.22 1536.66 1252.56 1534.55 Q1254.9 1532.44 1254.9 1528.83 Q1254.9 1525.22 1252.56 1523.11 Q1250.22 1521.01 1246.22 1521.01 Q1244.34 1521.01 1242.47 1521.42 Q1240.61 1521.84 1238.67 1522.72 L1238.67 1505.36 Z\" fill=\"#000000\" fill-rule=\"evenodd\" fill-opacity=\"1\" /><path clip-path=\"url(#clip310)\" d=\"M 0 0 M1264.64 1534.04 L1269.53 1534.04 L1269.53 1539.92 L1264.64 1539.92 L1264.64 1534.04 Z\" fill=\"#000000\" fill-rule=\"evenodd\" fill-opacity=\"1\" /><path clip-path=\"url(#clip310)\" d=\"M 0 0 M1284.6 1508.44 Q1280.98 1508.44 1279.16 1512 Q1277.35 1515.55 1277.35 1522.67 Q1277.35 1529.78 1279.16 1533.35 Q1280.98 1536.89 1284.6 1536.89 Q1288.23 1536.89 1290.04 1533.35 Q1291.86 1529.78 1291.86 1522.67 Q1291.86 1515.55 1290.04 1512 Q1288.23 1508.44 1284.6 1508.44 M1284.6 1504.73 Q1290.41 1504.73 1293.46 1509.34 Q1296.54 1513.92 1296.54 1522.67 Q1296.54 1531.4 1293.46 1536.01 Q1290.41 1540.59 1284.6 1540.59 Q1278.79 1540.59 1275.71 1536.01 Q1272.65 1531.4 1272.65 1522.67 Q1272.65 1513.92 1275.71 1509.34 Q1278.79 1504.73 1284.6 1504.73 Z\" fill=\"#000000\" fill-rule=\"evenodd\" fill-opacity=\"1\" /><path clip-path=\"url(#clip310)\" d=\"M 0 0 M1749.99 1505.36 L1772.21 1505.36 L1772.21 1507.35 L1759.66 1539.92 L1754.78 1539.92 L1766.58 1509.3 L1749.99 1509.3 L1749.99 1505.36 Z\" fill=\"#000000\" fill-rule=\"evenodd\" fill-opacity=\"1\" /><path clip-path=\"url(#clip310)\" d=\"M 0 0 M1777.28 1534.04 L1782.16 1534.04 L1782.16 1539.92 L1777.28 1539.92 L1777.28 1534.04 Z\" fill=\"#000000\" fill-rule=\"evenodd\" fill-opacity=\"1\" /><path clip-path=\"url(#clip310)\" d=\"M 0 0 M1787.28 1505.36 L1805.63 1505.36 L1805.63 1509.3 L1791.56 1509.3 L1791.56 1517.77 Q1792.58 1517.42 1793.6 1517.26 Q1794.62 1517.07 1795.63 1517.07 Q1801.42 1517.07 1804.8 1520.24 Q1808.18 1523.42 1808.18 1528.83 Q1808.18 1534.41 1804.71 1537.51 Q1801.24 1540.59 1794.92 1540.59 Q1792.74 1540.59 1790.47 1540.22 Q1788.23 1539.85 1785.82 1539.11 L1785.82 1534.41 Q1787.9 1535.54 1790.13 1536.1 Q1792.35 1536.66 1794.82 1536.66 Q1798.83 1536.66 1801.17 1534.55 Q1803.5 1532.44 1803.5 1528.83 Q1803.5 1525.22 1801.17 1523.11 Q1798.83 1521.01 1794.82 1521.01 Q1792.95 1521.01 1791.07 1521.42 Q1789.22 1521.84 1787.28 1522.72 L1787.28 1505.36 Z\" fill=\"#000000\" fill-rule=\"evenodd\" fill-opacity=\"1\" /><path clip-path=\"url(#clip310)\" d=\"M 0 0 M2249.68 1535.98 L2257.32 1535.98 L2257.32 1509.62 L2249.01 1511.29 L2249.01 1507.03 L2257.27 1505.36 L2261.95 1505.36 L2261.95 1535.98 L2269.59 1535.98 L2269.59 1539.92 L2249.68 1539.92 L2249.68 1535.98 Z\" fill=\"#000000\" fill-rule=\"evenodd\" fill-opacity=\"1\" /><path clip-path=\"url(#clip310)\" d=\"M 0 0 M2284.66 1508.44 Q2281.05 1508.44 2279.22 1512 Q2277.41 1515.55 2277.41 1522.67 Q2277.41 1529.78 2279.22 1533.35 Q2281.05 1536.89 2284.66 1536.89 Q2288.29 1536.89 2290.1 1533.35 Q2291.93 1529.78 2291.93 1522.67 Q2291.93 1515.55 2290.1 1512 Q2288.29 1508.44 2284.66 1508.44 M2284.66 1504.73 Q2290.47 1504.73 2293.52 1509.34 Q2296.6 1513.92 2296.6 1522.67 Q2296.6 1531.4 2293.52 1536.01 Q2290.47 1540.59 2284.66 1540.59 Q2278.85 1540.59 2275.77 1536.01 Q2272.71 1531.4 2272.71 1522.67 Q2272.71 1513.92 2275.77 1509.34 Q2278.85 1504.73 2284.66 1504.73 Z\" fill=\"#000000\" fill-rule=\"evenodd\" fill-opacity=\"1\" /><path clip-path=\"url(#clip310)\" d=\"M 0 0 M2301.67 1534.04 L2306.56 1534.04 L2306.56 1539.92 L2301.67 1539.92 L2301.67 1534.04 Z\" fill=\"#000000\" fill-rule=\"evenodd\" fill-opacity=\"1\" /><path clip-path=\"url(#clip310)\" d=\"M 0 0 M2321.63 1508.44 Q2318.02 1508.44 2316.19 1512 Q2314.38 1515.55 2314.38 1522.67 Q2314.38 1529.78 2316.19 1533.35 Q2318.02 1536.89 2321.63 1536.89 Q2325.26 1536.89 2327.07 1533.35 Q2328.89 1529.78 2328.89 1522.67 Q2328.89 1515.55 2327.07 1512 Q2325.26 1508.44 2321.63 1508.44 M2321.63 1504.73 Q2327.44 1504.73 2330.49 1509.34 Q2333.57 1513.92 2333.57 1522.67 Q2333.57 1531.4 2330.49 1536.01 Q2327.44 1540.59 2321.63 1540.59 Q2315.82 1540.59 2312.74 1536.01 Q2309.68 1531.4 2309.68 1522.67 Q2309.68 1513.92 2312.74 1509.34 Q2315.82 1504.73 2321.63 1504.73 Z\" fill=\"#000000\" fill-rule=\"evenodd\" fill-opacity=\"1\" /><path clip-path=\"url(#clip310)\" d=\"M 0 0 M64.4736 1479.28 L76.9504 1479.28 L76.9504 1483.07 L64.4736 1483.07 L64.4736 1479.28 Z\" fill=\"#000000\" fill-rule=\"evenodd\" fill-opacity=\"1\" /><path clip-path=\"url(#clip310)\" d=\"M 0 0 M82.0661 1459.6 L100.422 1459.6 L100.422 1463.53 L86.3485 1463.53 L86.3485 1472.01 Q87.367 1471.66 88.3855 1471.5 Q89.404 1471.31 90.4225 1471.31 Q96.2095 1471.31 99.5892 1474.48 Q102.969 1477.65 102.969 1483.07 Q102.969 1488.65 99.4966 1491.75 Q96.0244 1494.83 89.7049 1494.83 Q87.529 1494.83 85.2605 1494.46 Q83.0152 1494.09 80.6078 1493.35 L80.6078 1488.65 Q82.6911 1489.78 84.9133 1490.34 Q87.1355 1490.9 89.6124 1490.9 Q93.617 1490.9 95.9549 1488.79 Q98.2929 1486.68 98.2929 1483.07 Q98.2929 1479.46 95.9549 1477.35 Q93.617 1475.25 89.6124 1475.25 Q87.7374 1475.25 85.8624 1475.66 Q84.0105 1476.08 82.0661 1476.96 L82.0661 1459.6 Z\" fill=\"#000000\" fill-rule=\"evenodd\" fill-opacity=\"1\" /><path clip-path=\"url(#clip310)\" d=\"M 0 0 M118.038 1462.68 Q114.427 1462.68 112.598 1466.24 Q110.793 1469.78 110.793 1476.91 Q110.793 1484.02 112.598 1487.59 Q114.427 1491.13 118.038 1491.13 Q121.672 1491.13 123.478 1487.59 Q125.307 1484.02 125.307 1476.91 Q125.307 1469.78 123.478 1466.24 Q121.672 1462.68 118.038 1462.68 M118.038 1458.97 Q123.848 1458.97 126.904 1463.58 Q129.983 1468.16 129.983 1476.91 Q129.983 1485.64 126.904 1490.25 Q123.848 1494.83 118.038 1494.83 Q112.228 1494.83 109.149 1490.25 Q106.094 1485.64 106.094 1476.91 Q106.094 1468.16 109.149 1463.58 Q112.228 1458.97 118.038 1458.97 Z\" fill=\"#000000\" fill-rule=\"evenodd\" fill-opacity=\"1\" /><path clip-path=\"url(#clip310)\" d=\"M 0 0 M145.052 1462.68 Q141.441 1462.68 139.612 1466.24 Q137.807 1469.78 137.807 1476.91 Q137.807 1484.02 139.612 1487.59 Q141.441 1491.13 145.052 1491.13 Q148.686 1491.13 150.492 1487.59 Q152.32 1484.02 152.32 1476.91 Q152.32 1469.78 150.492 1466.24 Q148.686 1462.68 145.052 1462.68 M145.052 1458.97 Q150.862 1458.97 153.918 1463.58 Q156.996 1468.16 156.996 1476.91 Q156.996 1485.64 153.918 1490.25 Q150.862 1494.83 145.052 1494.83 Q139.242 1494.83 136.163 1490.25 Q133.107 1485.64 133.107 1476.91 Q133.107 1468.16 136.163 1463.58 Q139.242 1458.97 145.052 1458.97 Z\" fill=\"#000000\" fill-rule=\"evenodd\" fill-opacity=\"1\" /><path clip-path=\"url(#clip310)\" d=\"M 0 0 M62.9921 1223.04 L75.4689 1223.04 L75.4689 1226.83 L62.9921 1226.83 L62.9921 1223.04 Z\" fill=\"#000000\" fill-rule=\"evenodd\" fill-opacity=\"1\" /><path clip-path=\"url(#clip310)\" d=\"M 0 0 M93.3855 1207.44 L81.58 1225.88 L93.3855 1225.88 L93.3855 1207.44 M92.1586 1203.36 L98.0382 1203.36 L98.0382 1225.88 L102.969 1225.88 L102.969 1229.77 L98.0382 1229.77 L98.0382 1237.92 L93.3855 1237.92 L93.3855 1229.77 L77.7837 1229.77 L77.7837 1225.26 L92.1586 1203.36 Z\" fill=\"#000000\" fill-rule=\"evenodd\" fill-opacity=\"1\" /><path clip-path=\"url(#clip310)\" d=\"M 0 0 M118.038 1206.44 Q114.427 1206.44 112.598 1210.01 Q110.793 1213.55 110.793 1220.68 Q110.793 1227.78 112.598 1231.35 Q114.427 1234.89 118.038 1234.89 Q121.672 1234.89 123.478 1231.35 Q125.307 1227.78 125.307 1220.68 Q125.307 1213.55 123.478 1210.01 Q121.672 1206.44 118.038 1206.44 M118.038 1202.74 Q123.848 1202.74 126.904 1207.34 Q129.983 1211.93 129.983 1220.68 Q129.983 1229.4 126.904 1234.01 Q123.848 1238.59 118.038 1238.59 Q112.228 1238.59 109.149 1234.01 Q106.094 1229.4 106.094 1220.68 Q106.094 1211.93 109.149 1207.34 Q112.228 1202.74 118.038 1202.74 Z\" fill=\"#000000\" fill-rule=\"evenodd\" fill-opacity=\"1\" /><path clip-path=\"url(#clip310)\" d=\"M 0 0 M145.052 1206.44 Q141.441 1206.44 139.612 1210.01 Q137.807 1213.55 137.807 1220.68 Q137.807 1227.78 139.612 1231.35 Q141.441 1234.89 145.052 1234.89 Q148.686 1234.89 150.492 1231.35 Q152.32 1227.78 152.32 1220.68 Q152.32 1213.55 150.492 1210.01 Q148.686 1206.44 145.052 1206.44 M145.052 1202.74 Q150.862 1202.74 153.918 1207.34 Q156.996 1211.93 156.996 1220.68 Q156.996 1229.4 153.918 1234.01 Q150.862 1238.59 145.052 1238.59 Q139.242 1238.59 136.163 1234.01 Q133.107 1229.4 133.107 1220.68 Q133.107 1211.93 136.163 1207.34 Q139.242 1202.74 145.052 1202.74 Z\" fill=\"#000000\" fill-rule=\"evenodd\" fill-opacity=\"1\" /><path clip-path=\"url(#clip310)\" d=\"M 0 0 M64.1264 966.8 L76.6032 966.8 L76.6032 970.596 L64.1264 970.596 L64.1264 966.8 Z\" fill=\"#000000\" fill-rule=\"evenodd\" fill-opacity=\"1\" /><path clip-path=\"url(#clip310)\" d=\"M 0 0 M95.8392 963.05 Q99.1956 963.768 101.071 966.036 Q102.969 968.305 102.969 971.638 Q102.969 976.754 99.4503 979.554 Q95.9318 982.355 89.4503 982.355 Q87.2744 982.355 84.9596 981.916 Q82.6679 981.499 80.2143 980.642 L80.2143 976.129 Q82.1587 977.263 84.4735 977.842 Q86.7883 978.42 89.3114 978.42 Q93.7096 978.42 96.0012 976.684 Q98.316 974.948 98.316 971.638 Q98.316 968.582 96.1632 966.869 Q94.0336 965.133 90.2142 965.133 L86.1864 965.133 L86.1864 961.291 L90.3994 961.291 Q93.8484 961.291 95.6771 959.925 Q97.5058 958.536 97.5058 955.943 Q97.5058 953.281 95.6077 951.869 Q93.7327 950.434 90.2142 950.434 Q88.2929 950.434 86.0939 950.851 Q83.8948 951.268 81.2559 952.147 L81.2559 947.981 Q83.9179 947.24 86.2327 946.869 Q88.5707 946.499 90.6309 946.499 Q95.9549 946.499 99.0567 948.93 Q102.159 951.337 102.159 955.457 Q102.159 958.328 100.515 960.318 Q98.8716 962.286 95.8392 963.05 Z\" fill=\"#000000\" fill-rule=\"evenodd\" fill-opacity=\"1\" /><path clip-path=\"url(#clip310)\" d=\"M 0 0 M118.038 950.203 Q114.427 950.203 112.598 953.768 Q110.793 957.309 110.793 964.439 Q110.793 971.545 112.598 975.11 Q114.427 978.652 118.038 978.652 Q121.672 978.652 123.478 975.11 Q125.307 971.545 125.307 964.439 Q125.307 957.309 123.478 953.768 Q121.672 950.203 118.038 950.203 M118.038 946.499 Q123.848 946.499 126.904 951.106 Q129.983 955.689 129.983 964.439 Q129.983 973.166 126.904 977.772 Q123.848 982.355 118.038 982.355 Q112.228 982.355 109.149 977.772 Q106.094 973.166 106.094 964.439 Q106.094 955.689 109.149 951.106 Q112.228 946.499 118.038 946.499 Z\" fill=\"#000000\" fill-rule=\"evenodd\" fill-opacity=\"1\" /><path clip-path=\"url(#clip310)\" d=\"M 0 0 M145.052 950.203 Q141.441 950.203 139.612 953.768 Q137.807 957.309 137.807 964.439 Q137.807 971.545 139.612 975.11 Q141.441 978.652 145.052 978.652 Q148.686 978.652 150.492 975.11 Q152.32 971.545 152.32 964.439 Q152.32 957.309 150.492 953.768 Q148.686 950.203 145.052 950.203 M145.052 946.499 Q150.862 946.499 153.918 951.106 Q156.996 955.689 156.996 964.439 Q156.996 973.166 153.918 977.772 Q150.862 982.355 145.052 982.355 Q139.242 982.355 136.163 977.772 Q133.107 973.166 133.107 964.439 Q133.107 955.689 136.163 951.106 Q139.242 946.499 145.052 946.499 Z\" fill=\"#000000\" fill-rule=\"evenodd\" fill-opacity=\"1\" /><path clip-path=\"url(#clip310)\" d=\"M 0 0 M65.0754 710.562 L77.5522 710.562 L77.5522 714.358 L65.0754 714.358 L65.0754 710.562 Z\" fill=\"#000000\" fill-rule=\"evenodd\" fill-opacity=\"1\" /><path clip-path=\"url(#clip310)\" d=\"M 0 0 M86.6494 721.511 L102.969 721.511 L102.969 725.446 L81.0244 725.446 L81.0244 721.511 Q83.6865 718.757 88.2698 714.127 Q92.8762 709.474 94.0568 708.132 Q96.3021 705.609 97.1818 703.872 Q98.0845 702.113 98.0845 700.423 Q98.0845 697.669 96.1401 695.933 Q94.2188 694.197 91.117 694.197 Q88.9179 694.197 86.4642 694.96 Q84.0337 695.724 81.2559 697.275 L81.2559 692.553 Q84.08 691.419 86.5337 690.84 Q88.9874 690.261 91.0244 690.261 Q96.3947 690.261 99.5892 692.947 Q102.784 695.632 102.784 700.122 Q102.784 702.252 101.973 704.173 Q101.186 706.071 99.0799 708.664 Q98.5012 709.335 95.3994 712.553 Q92.2975 715.747 86.6494 721.511 Z\" fill=\"#000000\" fill-rule=\"evenodd\" fill-opacity=\"1\" /><path clip-path=\"url(#clip310)\" d=\"M 0 0 M118.038 693.965 Q114.427 693.965 112.598 697.53 Q110.793 701.072 110.793 708.201 Q110.793 715.308 112.598 718.872 Q114.427 722.414 118.038 722.414 Q121.672 722.414 123.478 718.872 Q125.307 715.308 125.307 708.201 Q125.307 701.072 123.478 697.53 Q121.672 693.965 118.038 693.965 M118.038 690.261 Q123.848 690.261 126.904 694.868 Q129.983 699.451 129.983 708.201 Q129.983 716.928 126.904 721.534 Q123.848 726.118 118.038 726.118 Q112.228 726.118 109.149 721.534 Q106.094 716.928 106.094 708.201 Q106.094 699.451 109.149 694.868 Q112.228 690.261 118.038 690.261 Z\" fill=\"#000000\" fill-rule=\"evenodd\" fill-opacity=\"1\" /><path clip-path=\"url(#clip310)\" d=\"M 0 0 M145.052 693.965 Q141.441 693.965 139.612 697.53 Q137.807 701.072 137.807 708.201 Q137.807 715.308 139.612 718.872 Q141.441 722.414 145.052 722.414 Q148.686 722.414 150.492 718.872 Q152.32 715.308 152.32 708.201 Q152.32 701.072 150.492 697.53 Q148.686 693.965 145.052 693.965 M145.052 690.261 Q150.862 690.261 153.918 694.868 Q156.996 699.451 156.996 708.201 Q156.996 716.928 153.918 721.534 Q150.862 726.118 145.052 726.118 Q139.242 726.118 136.163 721.534 Q133.107 716.928 133.107 708.201 Q133.107 699.451 136.163 694.868 Q139.242 690.261 145.052 690.261 Z\" fill=\"#000000\" fill-rule=\"evenodd\" fill-opacity=\"1\" /><path clip-path=\"url(#clip310)\" d=\"M 0 0 M64.7051 454.325 L77.1819 454.325 L77.1819 458.121 L64.7051 458.121 L64.7051 454.325 Z\" fill=\"#000000\" fill-rule=\"evenodd\" fill-opacity=\"1\" /><path clip-path=\"url(#clip310)\" d=\"M 0 0 M83.0615 465.274 L90.7003 465.274 L90.7003 438.908 L82.3902 440.575 L82.3902 436.315 L90.654 434.649 L95.3299 434.649 L95.3299 465.274 L102.969 465.274 L102.969 469.209 L83.0615 469.209 L83.0615 465.274 Z\" fill=\"#000000\" fill-rule=\"evenodd\" fill-opacity=\"1\" /><path clip-path=\"url(#clip310)\" d=\"M 0 0 M118.038 437.727 Q114.427 437.727 112.598 441.292 Q110.793 444.834 110.793 451.963 Q110.793 459.07 112.598 462.635 Q114.427 466.176 118.038 466.176 Q121.672 466.176 123.478 462.635 Q125.307 459.07 125.307 451.963 Q125.307 444.834 123.478 441.292 Q121.672 437.727 118.038 437.727 M118.038 434.024 Q123.848 434.024 126.904 438.63 Q129.983 443.213 129.983 451.963 Q129.983 460.69 126.904 465.297 Q123.848 469.88 118.038 469.88 Q112.228 469.88 109.149 465.297 Q106.094 460.69 106.094 451.963 Q106.094 443.213 109.149 438.63 Q112.228 434.024 118.038 434.024 Z\" fill=\"#000000\" fill-rule=\"evenodd\" fill-opacity=\"1\" /><path clip-path=\"url(#clip310)\" d=\"M 0 0 M145.052 437.727 Q141.441 437.727 139.612 441.292 Q137.807 444.834 137.807 451.963 Q137.807 459.07 139.612 462.635 Q141.441 466.176 145.052 466.176 Q148.686 466.176 150.492 462.635 Q152.32 459.07 152.32 451.963 Q152.32 444.834 150.492 441.292 Q148.686 437.727 145.052 437.727 M145.052 434.024 Q150.862 434.024 153.918 438.63 Q156.996 443.213 156.996 451.963 Q156.996 460.69 153.918 465.297 Q150.862 469.88 145.052 469.88 Q139.242 469.88 136.163 465.297 Q133.107 460.69 133.107 451.963 Q133.107 443.213 136.163 438.63 Q139.242 434.024 145.052 434.024 Z\" fill=\"#000000\" fill-rule=\"evenodd\" fill-opacity=\"1\" /><path clip-path=\"url(#clip310)\" d=\"M 0 0 M145.052 181.49 Q141.441 181.49 139.612 185.054 Q137.807 188.596 137.807 195.726 Q137.807 202.832 139.612 206.397 Q141.441 209.939 145.052 209.939 Q148.686 209.939 150.492 206.397 Q152.32 202.832 152.32 195.726 Q152.32 188.596 150.492 185.054 Q148.686 181.49 145.052 181.49 M145.052 177.786 Q150.862 177.786 153.918 182.392 Q156.996 186.976 156.996 195.726 Q156.996 204.453 153.918 209.059 Q150.862 213.642 145.052 213.642 Q139.242 213.642 136.163 209.059 Q133.107 204.453 133.107 195.726 Q133.107 186.976 136.163 182.392 Q139.242 177.786 145.052 177.786 Z\" fill=\"#000000\" fill-rule=\"evenodd\" fill-opacity=\"1\" /><circle clip-path=\"url(#clip312)\" cx=\"242.461\" cy=\"182.879\" r=\"10\" fill=\"#add8e6\" fill-rule=\"evenodd\" fill-opacity=\"1\" stroke=\"#000000\" stroke-opacity=\"1\" stroke-width=\"3.2\"/>\n",
       "<circle clip-path=\"url(#clip312)\" cx=\"583.933\" cy=\"730.073\" r=\"10\" fill=\"#add8e6\" fill-rule=\"evenodd\" fill-opacity=\"1\" stroke=\"#000000\" stroke-opacity=\"1\" stroke-width=\"3.2\"/>\n",
       "<circle clip-path=\"url(#clip312)\" cx=\"925.404\" cy=\"1182.36\" r=\"10\" fill=\"#add8e6\" fill-rule=\"evenodd\" fill-opacity=\"1\" stroke=\"#000000\" stroke-opacity=\"1\" stroke-width=\"3.2\"/>\n",
       "<circle clip-path=\"url(#clip312)\" cx=\"1266.88\" cy=\"1444.85\" r=\"10\" fill=\"#add8e6\" fill-rule=\"evenodd\" fill-opacity=\"1\" stroke=\"#000000\" stroke-opacity=\"1\" stroke-width=\"3.2\"/>\n",
       "<circle clip-path=\"url(#clip312)\" cx=\"1608.35\" cy=\"1422.63\" r=\"10\" fill=\"#add8e6\" fill-rule=\"evenodd\" fill-opacity=\"1\" stroke=\"#000000\" stroke-opacity=\"1\" stroke-width=\"3.2\"/>\n",
       "<circle clip-path=\"url(#clip312)\" cx=\"1949.82\" cy=\"1020.79\" r=\"10\" fill=\"#add8e6\" fill-rule=\"evenodd\" fill-opacity=\"1\" stroke=\"#000000\" stroke-opacity=\"1\" stroke-width=\"3.2\"/>\n",
       "<circle clip-path=\"url(#clip312)\" cx=\"2291.29\" cy=\"144.443\" r=\"10\" fill=\"#add8e6\" fill-rule=\"evenodd\" fill-opacity=\"1\" stroke=\"#000000\" stroke-opacity=\"1\" stroke-width=\"3.2\"/>\n",
       "<polyline clip-path=\"url(#clip312)\" style=\"stroke:#e26f46; stroke-width:4; stroke-opacity:1; fill:none\" points=\"\n",
       "  242.461,87.9763 252.465,113.617 262.47,139.013 354.973,362.262 447.477,564.617 503.068,676.173 558.659,780.184 605.66,862.236 652.662,938.895 703.718,1016.06 \n",
       "  754.775,1086.85 801.845,1146.48 848.915,1200.7 899.378,1252.82 949.842,1298.72 1008.31,1344.12 1066.78,1381.18 1118.74,1407.11 1170.69,1426.45 1216.26,1437.98 \n",
       "  1261.82,1444.45 1311.5,1445.72 1361.17,1440.96 1411.14,1430.1 1461.11,1413.14 1516.36,1387.29 1571.61,1353.99 1624.18,1315.38 1676.75,1270.03 1731.41,1215.72 \n",
       "  1786.07,1154.11 1832.08,1096.6 1878.09,1033.92 1934.27,950.378 1990.44,859.136 2043.25,766.339 2096.05,666.734 2180.65,492.968 2265.25,301.726 2278.27,270.743 \n",
       "  2291.29,239.346 \n",
       "  \"/>\n",
       "</svg>\n"
      ]
     },
     "execution_count": 54,
     "metadata": {},
     "output_type": "execute_result"
    }
   ],
   "source": [
    "scatter(x, y, c=:lightblue, ms=3, leg=false)\n",
    "plot!(poli2,0,10)"
   ]
  },
  {
   "cell_type": "code",
   "execution_count": 55,
   "id": "55a680d3",
   "metadata": {},
   "outputs": [
    {
     "data": {
      "text/plain": [
       "poli3 (generic function with 1 method)"
      ]
     },
     "execution_count": 55,
     "metadata": {},
     "output_type": "execute_result"
    }
   ],
   "source": [
    "c3 = interpolação3(x,y)\n",
    "poli3(x) = c3[1] + c3[2]*x + c3[3]*x^2 + c3[4]*x^3"
   ]
  },
  {
   "cell_type": "code",
   "execution_count": 61,
   "id": "4185f99c",
   "metadata": {},
   "outputs": [
    {
     "data": {
      "image/svg+xml": [
       "<?xml version=\"1.0\" encoding=\"utf-8\"?>\n",
       "<svg xmlns=\"http://www.w3.org/2000/svg\" xmlns:xlink=\"http://www.w3.org/1999/xlink\" width=\"600\" height=\"400\" viewBox=\"0 0 2400 1600\">\n",
       "<defs>\n",
       "  <clipPath id=\"clip350\">\n",
       "    <rect x=\"0\" y=\"0\" width=\"2400\" height=\"1600\"/>\n",
       "  </clipPath>\n",
       "</defs>\n",
       "<path clip-path=\"url(#clip350)\" d=\"\n",
       "M0 1600 L2400 1600 L2400 0 L0 0  Z\n",
       "  \" fill=\"#ffffff\" fill-rule=\"evenodd\" fill-opacity=\"1\"/>\n",
       "<defs>\n",
       "  <clipPath id=\"clip351\">\n",
       "    <rect x=\"480\" y=\"0\" width=\"1681\" height=\"1600\"/>\n",
       "  </clipPath>\n",
       "</defs>\n",
       "<path clip-path=\"url(#clip350)\" d=\"\n",
       "M180.996 1486.45 L2352.76 1486.45 L2352.76 47.2441 L180.996 47.2441  Z\n",
       "  \" fill=\"#ffffff\" fill-rule=\"evenodd\" fill-opacity=\"1\"/>\n",
       "<defs>\n",
       "  <clipPath id=\"clip352\">\n",
       "    <rect x=\"180\" y=\"47\" width=\"2173\" height=\"1440\"/>\n",
       "  </clipPath>\n",
       "</defs>\n",
       "<polyline clip-path=\"url(#clip352)\" style=\"stroke:#000000; stroke-width:2; stroke-opacity:0.1; fill:none\" points=\"\n",
       "  242.461,1486.45 242.461,47.2441 \n",
       "  \"/>\n",
       "<polyline clip-path=\"url(#clip352)\" style=\"stroke:#000000; stroke-width:2; stroke-opacity:0.1; fill:none\" points=\"\n",
       "  754.669,1486.45 754.669,47.2441 \n",
       "  \"/>\n",
       "<polyline clip-path=\"url(#clip352)\" style=\"stroke:#000000; stroke-width:2; stroke-opacity:0.1; fill:none\" points=\"\n",
       "  1266.88,1486.45 1266.88,47.2441 \n",
       "  \"/>\n",
       "<polyline clip-path=\"url(#clip352)\" style=\"stroke:#000000; stroke-width:2; stroke-opacity:0.1; fill:none\" points=\"\n",
       "  1779.08,1486.45 1779.08,47.2441 \n",
       "  \"/>\n",
       "<polyline clip-path=\"url(#clip352)\" style=\"stroke:#000000; stroke-width:2; stroke-opacity:0.1; fill:none\" points=\"\n",
       "  2291.29,1486.45 2291.29,47.2441 \n",
       "  \"/>\n",
       "<polyline clip-path=\"url(#clip352)\" style=\"stroke:#000000; stroke-width:2; stroke-opacity:0.1; fill:none\" points=\"\n",
       "  180.996,1446.94 2352.76,1446.94 \n",
       "  \"/>\n",
       "<polyline clip-path=\"url(#clip352)\" style=\"stroke:#000000; stroke-width:2; stroke-opacity:0.1; fill:none\" points=\"\n",
       "  180.996,1185.6 2352.76,1185.6 \n",
       "  \"/>\n",
       "<polyline clip-path=\"url(#clip352)\" style=\"stroke:#000000; stroke-width:2; stroke-opacity:0.1; fill:none\" points=\"\n",
       "  180.996,924.259 2352.76,924.259 \n",
       "  \"/>\n",
       "<polyline clip-path=\"url(#clip352)\" style=\"stroke:#000000; stroke-width:2; stroke-opacity:0.1; fill:none\" points=\"\n",
       "  180.996,662.92 2352.76,662.92 \n",
       "  \"/>\n",
       "<polyline clip-path=\"url(#clip352)\" style=\"stroke:#000000; stroke-width:2; stroke-opacity:0.1; fill:none\" points=\"\n",
       "  180.996,401.582 2352.76,401.582 \n",
       "  \"/>\n",
       "<polyline clip-path=\"url(#clip352)\" style=\"stroke:#000000; stroke-width:2; stroke-opacity:0.1; fill:none\" points=\"\n",
       "  180.996,140.244 2352.76,140.244 \n",
       "  \"/>\n",
       "<polyline clip-path=\"url(#clip350)\" style=\"stroke:#000000; stroke-width:4; stroke-opacity:1; fill:none\" points=\"\n",
       "  180.996,1486.45 2352.76,1486.45 \n",
       "  \"/>\n",
       "<polyline clip-path=\"url(#clip350)\" style=\"stroke:#000000; stroke-width:4; stroke-opacity:1; fill:none\" points=\"\n",
       "  180.996,1486.45 180.996,47.2441 \n",
       "  \"/>\n",
       "<polyline clip-path=\"url(#clip350)\" style=\"stroke:#000000; stroke-width:4; stroke-opacity:1; fill:none\" points=\"\n",
       "  242.461,1486.45 242.461,1469.18 \n",
       "  \"/>\n",
       "<polyline clip-path=\"url(#clip350)\" style=\"stroke:#000000; stroke-width:4; stroke-opacity:1; fill:none\" points=\"\n",
       "  754.669,1486.45 754.669,1469.18 \n",
       "  \"/>\n",
       "<polyline clip-path=\"url(#clip350)\" style=\"stroke:#000000; stroke-width:4; stroke-opacity:1; fill:none\" points=\"\n",
       "  1266.88,1486.45 1266.88,1469.18 \n",
       "  \"/>\n",
       "<polyline clip-path=\"url(#clip350)\" style=\"stroke:#000000; stroke-width:4; stroke-opacity:1; fill:none\" points=\"\n",
       "  1779.08,1486.45 1779.08,1469.18 \n",
       "  \"/>\n",
       "<polyline clip-path=\"url(#clip350)\" style=\"stroke:#000000; stroke-width:4; stroke-opacity:1; fill:none\" points=\"\n",
       "  2291.29,1486.45 2291.29,1469.18 \n",
       "  \"/>\n",
       "<polyline clip-path=\"url(#clip350)\" style=\"stroke:#000000; stroke-width:4; stroke-opacity:1; fill:none\" points=\"\n",
       "  180.996,1446.94 207.057,1446.94 \n",
       "  \"/>\n",
       "<polyline clip-path=\"url(#clip350)\" style=\"stroke:#000000; stroke-width:4; stroke-opacity:1; fill:none\" points=\"\n",
       "  180.996,1185.6 207.057,1185.6 \n",
       "  \"/>\n",
       "<polyline clip-path=\"url(#clip350)\" style=\"stroke:#000000; stroke-width:4; stroke-opacity:1; fill:none\" points=\"\n",
       "  180.996,924.259 207.057,924.259 \n",
       "  \"/>\n",
       "<polyline clip-path=\"url(#clip350)\" style=\"stroke:#000000; stroke-width:4; stroke-opacity:1; fill:none\" points=\"\n",
       "  180.996,662.92 207.057,662.92 \n",
       "  \"/>\n",
       "<polyline clip-path=\"url(#clip350)\" style=\"stroke:#000000; stroke-width:4; stroke-opacity:1; fill:none\" points=\"\n",
       "  180.996,401.582 207.057,401.582 \n",
       "  \"/>\n",
       "<polyline clip-path=\"url(#clip350)\" style=\"stroke:#000000; stroke-width:4; stroke-opacity:1; fill:none\" points=\"\n",
       "  180.996,140.244 207.057,140.244 \n",
       "  \"/>\n",
       "<path clip-path=\"url(#clip350)\" d=\"M 0 0 M223.977 1508.44 Q220.366 1508.44 218.538 1512 Q216.732 1515.55 216.732 1522.67 Q216.732 1529.78 218.538 1533.35 Q220.366 1536.89 223.977 1536.89 Q227.612 1536.89 229.417 1533.35 Q231.246 1529.78 231.246 1522.67 Q231.246 1515.55 229.417 1512 Q227.612 1508.44 223.977 1508.44 M223.977 1504.73 Q229.788 1504.73 232.843 1509.34 Q235.922 1513.92 235.922 1522.67 Q235.922 1531.4 232.843 1536.01 Q229.788 1540.59 223.977 1540.59 Q218.167 1540.59 215.089 1536.01 Q212.033 1531.4 212.033 1522.67 Q212.033 1513.92 215.089 1509.34 Q218.167 1504.73 223.977 1504.73 Z\" fill=\"#000000\" fill-rule=\"evenodd\" fill-opacity=\"1\" /><path clip-path=\"url(#clip350)\" d=\"M 0 0 M240.991 1534.04 L245.875 1534.04 L245.875 1539.92 L240.991 1539.92 L240.991 1534.04 Z\" fill=\"#000000\" fill-rule=\"evenodd\" fill-opacity=\"1\" /><path clip-path=\"url(#clip350)\" d=\"M 0 0 M260.945 1508.44 Q257.334 1508.44 255.505 1512 Q253.7 1515.55 253.7 1522.67 Q253.7 1529.78 255.505 1533.35 Q257.334 1536.89 260.945 1536.89 Q264.579 1536.89 266.385 1533.35 Q268.213 1529.78 268.213 1522.67 Q268.213 1515.55 266.385 1512 Q264.579 1508.44 260.945 1508.44 M260.945 1504.73 Q266.755 1504.73 269.811 1509.34 Q272.889 1513.92 272.889 1522.67 Q272.889 1531.4 269.811 1536.01 Q266.755 1540.59 260.945 1540.59 Q255.135 1540.59 252.056 1536.01 Q249 1531.4 249 1522.67 Q249 1513.92 252.056 1509.34 Q255.135 1504.73 260.945 1504.73 Z\" fill=\"#000000\" fill-rule=\"evenodd\" fill-opacity=\"1\" /><path clip-path=\"url(#clip350)\" d=\"M 0 0 M731.335 1535.98 L747.655 1535.98 L747.655 1539.92 L725.71 1539.92 L725.71 1535.98 Q728.372 1533.23 732.956 1528.6 Q737.562 1523.95 738.743 1522.61 Q740.988 1520.08 741.868 1518.35 Q742.771 1516.59 742.771 1514.9 Q742.771 1512.14 740.826 1510.41 Q738.905 1508.67 735.803 1508.67 Q733.604 1508.67 731.15 1509.43 Q728.72 1510.2 725.942 1511.75 L725.942 1507.03 Q728.766 1505.89 731.22 1505.31 Q733.673 1504.73 735.71 1504.73 Q741.081 1504.73 744.275 1507.42 Q747.47 1510.11 747.47 1514.6 Q747.47 1516.73 746.659 1518.65 Q745.872 1520.54 743.766 1523.14 Q743.187 1523.81 740.085 1527.03 Q736.984 1530.22 731.335 1535.98 Z\" fill=\"#000000\" fill-rule=\"evenodd\" fill-opacity=\"1\" /><path clip-path=\"url(#clip350)\" d=\"M 0 0 M752.724 1534.04 L757.608 1534.04 L757.608 1539.92 L752.724 1539.92 L752.724 1534.04 Z\" fill=\"#000000\" fill-rule=\"evenodd\" fill-opacity=\"1\" /><path clip-path=\"url(#clip350)\" d=\"M 0 0 M762.724 1505.36 L781.081 1505.36 L781.081 1509.3 L767.007 1509.3 L767.007 1517.77 Q768.025 1517.42 769.044 1517.26 Q770.062 1517.07 771.081 1517.07 Q776.868 1517.07 780.247 1520.24 Q783.627 1523.42 783.627 1528.83 Q783.627 1534.41 780.155 1537.51 Q776.682 1540.59 770.363 1540.59 Q768.187 1540.59 765.919 1540.22 Q763.673 1539.85 761.266 1539.11 L761.266 1534.41 Q763.349 1535.54 765.571 1536.1 Q767.794 1536.66 770.27 1536.66 Q774.275 1536.66 776.613 1534.55 Q778.951 1532.44 778.951 1528.83 Q778.951 1525.22 776.613 1523.11 Q774.275 1521.01 770.27 1521.01 Q768.395 1521.01 766.52 1521.42 Q764.669 1521.84 762.724 1522.72 L762.724 1505.36 Z\" fill=\"#000000\" fill-rule=\"evenodd\" fill-opacity=\"1\" /><path clip-path=\"url(#clip350)\" d=\"M 0 0 M1238.67 1505.36 L1257.03 1505.36 L1257.03 1509.3 L1242.95 1509.3 L1242.95 1517.77 Q1243.97 1517.42 1244.99 1517.26 Q1246.01 1517.07 1247.03 1517.07 Q1252.81 1517.07 1256.19 1520.24 Q1259.57 1523.42 1259.57 1528.83 Q1259.57 1534.41 1256.1 1537.51 Q1252.63 1540.59 1246.31 1540.59 Q1244.13 1540.59 1241.86 1540.22 Q1239.62 1539.85 1237.21 1539.11 L1237.21 1534.41 Q1239.3 1535.54 1241.52 1536.1 Q1243.74 1536.66 1246.22 1536.66 Q1250.22 1536.66 1252.56 1534.55 Q1254.9 1532.44 1254.9 1528.83 Q1254.9 1525.22 1252.56 1523.11 Q1250.22 1521.01 1246.22 1521.01 Q1244.34 1521.01 1242.47 1521.42 Q1240.61 1521.84 1238.67 1522.72 L1238.67 1505.36 Z\" fill=\"#000000\" fill-rule=\"evenodd\" fill-opacity=\"1\" /><path clip-path=\"url(#clip350)\" d=\"M 0 0 M1264.64 1534.04 L1269.53 1534.04 L1269.53 1539.92 L1264.64 1539.92 L1264.64 1534.04 Z\" fill=\"#000000\" fill-rule=\"evenodd\" fill-opacity=\"1\" /><path clip-path=\"url(#clip350)\" d=\"M 0 0 M1284.6 1508.44 Q1280.98 1508.44 1279.16 1512 Q1277.35 1515.55 1277.35 1522.67 Q1277.35 1529.78 1279.16 1533.35 Q1280.98 1536.89 1284.6 1536.89 Q1288.23 1536.89 1290.04 1533.35 Q1291.86 1529.78 1291.86 1522.67 Q1291.86 1515.55 1290.04 1512 Q1288.23 1508.44 1284.6 1508.44 M1284.6 1504.73 Q1290.41 1504.73 1293.46 1509.34 Q1296.54 1513.92 1296.54 1522.67 Q1296.54 1531.4 1293.46 1536.01 Q1290.41 1540.59 1284.6 1540.59 Q1278.79 1540.59 1275.71 1536.01 Q1272.65 1531.4 1272.65 1522.67 Q1272.65 1513.92 1275.71 1509.34 Q1278.79 1504.73 1284.6 1504.73 Z\" fill=\"#000000\" fill-rule=\"evenodd\" fill-opacity=\"1\" /><path clip-path=\"url(#clip350)\" d=\"M 0 0 M1749.99 1505.36 L1772.21 1505.36 L1772.21 1507.35 L1759.66 1539.92 L1754.78 1539.92 L1766.58 1509.3 L1749.99 1509.3 L1749.99 1505.36 Z\" fill=\"#000000\" fill-rule=\"evenodd\" fill-opacity=\"1\" /><path clip-path=\"url(#clip350)\" d=\"M 0 0 M1777.28 1534.04 L1782.16 1534.04 L1782.16 1539.92 L1777.28 1539.92 L1777.28 1534.04 Z\" fill=\"#000000\" fill-rule=\"evenodd\" fill-opacity=\"1\" /><path clip-path=\"url(#clip350)\" d=\"M 0 0 M1787.28 1505.36 L1805.63 1505.36 L1805.63 1509.3 L1791.56 1509.3 L1791.56 1517.77 Q1792.58 1517.42 1793.6 1517.26 Q1794.62 1517.07 1795.63 1517.07 Q1801.42 1517.07 1804.8 1520.24 Q1808.18 1523.42 1808.18 1528.83 Q1808.18 1534.41 1804.71 1537.51 Q1801.24 1540.59 1794.92 1540.59 Q1792.74 1540.59 1790.47 1540.22 Q1788.23 1539.85 1785.82 1539.11 L1785.82 1534.41 Q1787.9 1535.54 1790.13 1536.1 Q1792.35 1536.66 1794.82 1536.66 Q1798.83 1536.66 1801.17 1534.55 Q1803.5 1532.44 1803.5 1528.83 Q1803.5 1525.22 1801.17 1523.11 Q1798.83 1521.01 1794.82 1521.01 Q1792.95 1521.01 1791.07 1521.42 Q1789.22 1521.84 1787.28 1522.72 L1787.28 1505.36 Z\" fill=\"#000000\" fill-rule=\"evenodd\" fill-opacity=\"1\" /><path clip-path=\"url(#clip350)\" d=\"M 0 0 M2249.68 1535.98 L2257.32 1535.98 L2257.32 1509.62 L2249.01 1511.29 L2249.01 1507.03 L2257.27 1505.36 L2261.95 1505.36 L2261.95 1535.98 L2269.59 1535.98 L2269.59 1539.92 L2249.68 1539.92 L2249.68 1535.98 Z\" fill=\"#000000\" fill-rule=\"evenodd\" fill-opacity=\"1\" /><path clip-path=\"url(#clip350)\" d=\"M 0 0 M2284.66 1508.44 Q2281.05 1508.44 2279.22 1512 Q2277.41 1515.55 2277.41 1522.67 Q2277.41 1529.78 2279.22 1533.35 Q2281.05 1536.89 2284.66 1536.89 Q2288.29 1536.89 2290.1 1533.35 Q2291.93 1529.78 2291.93 1522.67 Q2291.93 1515.55 2290.1 1512 Q2288.29 1508.44 2284.66 1508.44 M2284.66 1504.73 Q2290.47 1504.73 2293.52 1509.34 Q2296.6 1513.92 2296.6 1522.67 Q2296.6 1531.4 2293.52 1536.01 Q2290.47 1540.59 2284.66 1540.59 Q2278.85 1540.59 2275.77 1536.01 Q2272.71 1531.4 2272.71 1522.67 Q2272.71 1513.92 2275.77 1509.34 Q2278.85 1504.73 2284.66 1504.73 Z\" fill=\"#000000\" fill-rule=\"evenodd\" fill-opacity=\"1\" /><path clip-path=\"url(#clip350)\" d=\"M 0 0 M2301.67 1534.04 L2306.56 1534.04 L2306.56 1539.92 L2301.67 1539.92 L2301.67 1534.04 Z\" fill=\"#000000\" fill-rule=\"evenodd\" fill-opacity=\"1\" /><path clip-path=\"url(#clip350)\" d=\"M 0 0 M2321.63 1508.44 Q2318.02 1508.44 2316.19 1512 Q2314.38 1515.55 2314.38 1522.67 Q2314.38 1529.78 2316.19 1533.35 Q2318.02 1536.89 2321.63 1536.89 Q2325.26 1536.89 2327.07 1533.35 Q2328.89 1529.78 2328.89 1522.67 Q2328.89 1515.55 2327.07 1512 Q2325.26 1508.44 2321.63 1508.44 M2321.63 1504.73 Q2327.44 1504.73 2330.49 1509.34 Q2333.57 1513.92 2333.57 1522.67 Q2333.57 1531.4 2330.49 1536.01 Q2327.44 1540.59 2321.63 1540.59 Q2315.82 1540.59 2312.74 1536.01 Q2309.68 1531.4 2309.68 1522.67 Q2309.68 1513.92 2312.74 1509.34 Q2315.82 1504.73 2321.63 1504.73 Z\" fill=\"#000000\" fill-rule=\"evenodd\" fill-opacity=\"1\" /><path clip-path=\"url(#clip350)\" d=\"M 0 0 M64.4736 1449.33 L76.9504 1449.33 L76.9504 1453.13 L64.4736 1453.13 L64.4736 1449.33 Z\" fill=\"#000000\" fill-rule=\"evenodd\" fill-opacity=\"1\" /><path clip-path=\"url(#clip350)\" d=\"M 0 0 M82.0661 1429.66 L100.422 1429.66 L100.422 1433.59 L86.3485 1433.59 L86.3485 1442.06 Q87.367 1441.72 88.3855 1441.55 Q89.404 1441.37 90.4225 1441.37 Q96.2095 1441.37 99.5892 1444.54 Q102.969 1447.71 102.969 1453.13 Q102.969 1458.71 99.4966 1461.81 Q96.0244 1464.89 89.7049 1464.89 Q87.529 1464.89 85.2605 1464.52 Q83.0152 1464.15 80.6078 1463.4 L80.6078 1458.71 Q82.6911 1459.84 84.9133 1460.4 Q87.1355 1460.95 89.6124 1460.95 Q93.617 1460.95 95.9549 1458.84 Q98.2929 1456.74 98.2929 1453.13 Q98.2929 1449.52 95.9549 1447.41 Q93.617 1445.3 89.6124 1445.3 Q87.7374 1445.3 85.8624 1445.72 Q84.0105 1446.14 82.0661 1447.02 L82.0661 1429.66 Z\" fill=\"#000000\" fill-rule=\"evenodd\" fill-opacity=\"1\" /><path clip-path=\"url(#clip350)\" d=\"M 0 0 M118.038 1432.73 Q114.427 1432.73 112.598 1436.3 Q110.793 1439.84 110.793 1446.97 Q110.793 1454.08 112.598 1457.64 Q114.427 1461.18 118.038 1461.18 Q121.672 1461.18 123.478 1457.64 Q125.307 1454.08 125.307 1446.97 Q125.307 1439.84 123.478 1436.3 Q121.672 1432.73 118.038 1432.73 M118.038 1429.03 Q123.848 1429.03 126.904 1433.64 Q129.983 1438.22 129.983 1446.97 Q129.983 1455.7 126.904 1460.3 Q123.848 1464.89 118.038 1464.89 Q112.228 1464.89 109.149 1460.3 Q106.094 1455.7 106.094 1446.97 Q106.094 1438.22 109.149 1433.64 Q112.228 1429.03 118.038 1429.03 Z\" fill=\"#000000\" fill-rule=\"evenodd\" fill-opacity=\"1\" /><path clip-path=\"url(#clip350)\" d=\"M 0 0 M145.052 1432.73 Q141.441 1432.73 139.612 1436.3 Q137.807 1439.84 137.807 1446.97 Q137.807 1454.08 139.612 1457.64 Q141.441 1461.18 145.052 1461.18 Q148.686 1461.18 150.492 1457.64 Q152.32 1454.08 152.32 1446.97 Q152.32 1439.84 150.492 1436.3 Q148.686 1432.73 145.052 1432.73 M145.052 1429.03 Q150.862 1429.03 153.918 1433.64 Q156.996 1438.22 156.996 1446.97 Q156.996 1455.7 153.918 1460.3 Q150.862 1464.89 145.052 1464.89 Q139.242 1464.89 136.163 1460.3 Q133.107 1455.7 133.107 1446.97 Q133.107 1438.22 136.163 1433.64 Q139.242 1429.03 145.052 1429.03 Z\" fill=\"#000000\" fill-rule=\"evenodd\" fill-opacity=\"1\" /><path clip-path=\"url(#clip350)\" d=\"M 0 0 M62.9921 1187.99 L75.4689 1187.99 L75.4689 1191.79 L62.9921 1191.79 L62.9921 1187.99 Z\" fill=\"#000000\" fill-rule=\"evenodd\" fill-opacity=\"1\" /><path clip-path=\"url(#clip350)\" d=\"M 0 0 M93.3855 1172.39 L81.58 1190.84 L93.3855 1190.84 L93.3855 1172.39 M92.1586 1168.32 L98.0382 1168.32 L98.0382 1190.84 L102.969 1190.84 L102.969 1194.73 L98.0382 1194.73 L98.0382 1202.88 L93.3855 1202.88 L93.3855 1194.73 L77.7837 1194.73 L77.7837 1190.21 L92.1586 1168.32 Z\" fill=\"#000000\" fill-rule=\"evenodd\" fill-opacity=\"1\" /><path clip-path=\"url(#clip350)\" d=\"M 0 0 M118.038 1171.4 Q114.427 1171.4 112.598 1174.96 Q110.793 1178.5 110.793 1185.63 Q110.793 1192.74 112.598 1196.3 Q114.427 1199.84 118.038 1199.84 Q121.672 1199.84 123.478 1196.3 Q125.307 1192.74 125.307 1185.63 Q125.307 1178.5 123.478 1174.96 Q121.672 1171.4 118.038 1171.4 M118.038 1167.69 Q123.848 1167.69 126.904 1172.3 Q129.983 1176.88 129.983 1185.63 Q129.983 1194.36 126.904 1198.96 Q123.848 1203.55 118.038 1203.55 Q112.228 1203.55 109.149 1198.96 Q106.094 1194.36 106.094 1185.63 Q106.094 1176.88 109.149 1172.3 Q112.228 1167.69 118.038 1167.69 Z\" fill=\"#000000\" fill-rule=\"evenodd\" fill-opacity=\"1\" /><path clip-path=\"url(#clip350)\" d=\"M 0 0 M145.052 1171.4 Q141.441 1171.4 139.612 1174.96 Q137.807 1178.5 137.807 1185.63 Q137.807 1192.74 139.612 1196.3 Q141.441 1199.84 145.052 1199.84 Q148.686 1199.84 150.492 1196.3 Q152.32 1192.74 152.32 1185.63 Q152.32 1178.5 150.492 1174.96 Q148.686 1171.4 145.052 1171.4 M145.052 1167.69 Q150.862 1167.69 153.918 1172.3 Q156.996 1176.88 156.996 1185.63 Q156.996 1194.36 153.918 1198.96 Q150.862 1203.55 145.052 1203.55 Q139.242 1203.55 136.163 1198.96 Q133.107 1194.36 133.107 1185.63 Q133.107 1176.88 136.163 1172.3 Q139.242 1167.69 145.052 1167.69 Z\" fill=\"#000000\" fill-rule=\"evenodd\" fill-opacity=\"1\" /><path clip-path=\"url(#clip350)\" d=\"M 0 0 M64.1264 926.654 L76.6032 926.654 L76.6032 930.451 L64.1264 930.451 L64.1264 926.654 Z\" fill=\"#000000\" fill-rule=\"evenodd\" fill-opacity=\"1\" /><path clip-path=\"url(#clip350)\" d=\"M 0 0 M95.8392 922.905 Q99.1956 923.622 101.071 925.891 Q102.969 928.159 102.969 931.492 Q102.969 936.608 99.4503 939.409 Q95.9318 942.21 89.4503 942.21 Q87.2744 942.21 84.9596 941.77 Q82.6679 941.353 80.2143 940.497 L80.2143 935.983 Q82.1587 937.117 84.4735 937.696 Q86.7883 938.275 89.3114 938.275 Q93.7096 938.275 96.0012 936.539 Q98.316 934.803 98.316 931.492 Q98.316 928.437 96.1632 926.724 Q94.0336 924.988 90.2142 924.988 L86.1864 924.988 L86.1864 921.145 L90.3994 921.145 Q93.8484 921.145 95.6771 919.78 Q97.5058 918.391 97.5058 915.798 Q97.5058 913.136 95.6077 911.724 Q93.7327 910.289 90.2142 910.289 Q88.2929 910.289 86.0939 910.705 Q83.8948 911.122 81.2559 912.002 L81.2559 907.835 Q83.9179 907.094 86.2327 906.724 Q88.5707 906.354 90.6309 906.354 Q95.9549 906.354 99.0567 908.784 Q102.159 911.192 102.159 915.312 Q102.159 918.182 100.515 920.173 Q98.8716 922.141 95.8392 922.905 Z\" fill=\"#000000\" fill-rule=\"evenodd\" fill-opacity=\"1\" /><path clip-path=\"url(#clip350)\" d=\"M 0 0 M118.038 910.057 Q114.427 910.057 112.598 913.622 Q110.793 917.164 110.793 924.293 Q110.793 931.4 112.598 934.965 Q114.427 938.506 118.038 938.506 Q121.672 938.506 123.478 934.965 Q125.307 931.4 125.307 924.293 Q125.307 917.164 123.478 913.622 Q121.672 910.057 118.038 910.057 M118.038 906.354 Q123.848 906.354 126.904 910.96 Q129.983 915.543 129.983 924.293 Q129.983 933.02 126.904 937.627 Q123.848 942.21 118.038 942.21 Q112.228 942.21 109.149 937.627 Q106.094 933.02 106.094 924.293 Q106.094 915.543 109.149 910.96 Q112.228 906.354 118.038 906.354 Z\" fill=\"#000000\" fill-rule=\"evenodd\" fill-opacity=\"1\" /><path clip-path=\"url(#clip350)\" d=\"M 0 0 M145.052 910.057 Q141.441 910.057 139.612 913.622 Q137.807 917.164 137.807 924.293 Q137.807 931.4 139.612 934.965 Q141.441 938.506 145.052 938.506 Q148.686 938.506 150.492 934.965 Q152.32 931.4 152.32 924.293 Q152.32 917.164 150.492 913.622 Q148.686 910.057 145.052 910.057 M145.052 906.354 Q150.862 906.354 153.918 910.96 Q156.996 915.543 156.996 924.293 Q156.996 933.02 153.918 937.627 Q150.862 942.21 145.052 942.21 Q139.242 942.21 136.163 937.627 Q133.107 933.02 133.107 924.293 Q133.107 915.543 136.163 910.96 Q139.242 906.354 145.052 906.354 Z\" fill=\"#000000\" fill-rule=\"evenodd\" fill-opacity=\"1\" /><path clip-path=\"url(#clip350)\" d=\"M 0 0 M65.0754 665.316 L77.5522 665.316 L77.5522 669.113 L65.0754 669.113 L65.0754 665.316 Z\" fill=\"#000000\" fill-rule=\"evenodd\" fill-opacity=\"1\" /><path clip-path=\"url(#clip350)\" d=\"M 0 0 M86.6494 676.265 L102.969 676.265 L102.969 680.2 L81.0244 680.2 L81.0244 676.265 Q83.6865 673.511 88.2698 668.881 Q92.8762 664.228 94.0568 662.886 Q96.3021 660.363 97.1818 658.626 Q98.0845 656.867 98.0845 655.177 Q98.0845 652.423 96.1401 650.687 Q94.2188 648.951 91.117 648.951 Q88.9179 648.951 86.4642 649.714 Q84.0337 650.478 81.2559 652.029 L81.2559 647.307 Q84.08 646.173 86.5337 645.594 Q88.9874 645.015 91.0244 645.015 Q96.3947 645.015 99.5892 647.701 Q102.784 650.386 102.784 654.876 Q102.784 657.006 101.973 658.927 Q101.186 660.826 99.0799 663.418 Q98.5012 664.089 95.3994 667.307 Q92.2975 670.501 86.6494 676.265 Z\" fill=\"#000000\" fill-rule=\"evenodd\" fill-opacity=\"1\" /><path clip-path=\"url(#clip350)\" d=\"M 0 0 M118.038 648.719 Q114.427 648.719 112.598 652.284 Q110.793 655.826 110.793 662.955 Q110.793 670.062 112.598 673.626 Q114.427 677.168 118.038 677.168 Q121.672 677.168 123.478 673.626 Q125.307 670.062 125.307 662.955 Q125.307 655.826 123.478 652.284 Q121.672 648.719 118.038 648.719 M118.038 645.015 Q123.848 645.015 126.904 649.622 Q129.983 654.205 129.983 662.955 Q129.983 671.682 126.904 676.288 Q123.848 680.872 118.038 680.872 Q112.228 680.872 109.149 676.288 Q106.094 671.682 106.094 662.955 Q106.094 654.205 109.149 649.622 Q112.228 645.015 118.038 645.015 Z\" fill=\"#000000\" fill-rule=\"evenodd\" fill-opacity=\"1\" /><path clip-path=\"url(#clip350)\" d=\"M 0 0 M145.052 648.719 Q141.441 648.719 139.612 652.284 Q137.807 655.826 137.807 662.955 Q137.807 670.062 139.612 673.626 Q141.441 677.168 145.052 677.168 Q148.686 677.168 150.492 673.626 Q152.32 670.062 152.32 662.955 Q152.32 655.826 150.492 652.284 Q148.686 648.719 145.052 648.719 M145.052 645.015 Q150.862 645.015 153.918 649.622 Q156.996 654.205 156.996 662.955 Q156.996 671.682 153.918 676.288 Q150.862 680.872 145.052 680.872 Q139.242 680.872 136.163 676.288 Q133.107 671.682 133.107 662.955 Q133.107 654.205 136.163 649.622 Q139.242 645.015 145.052 645.015 Z\" fill=\"#000000\" fill-rule=\"evenodd\" fill-opacity=\"1\" /><path clip-path=\"url(#clip350)\" d=\"M 0 0 M64.7051 403.978 L77.1819 403.978 L77.1819 407.774 L64.7051 407.774 L64.7051 403.978 Z\" fill=\"#000000\" fill-rule=\"evenodd\" fill-opacity=\"1\" /><path clip-path=\"url(#clip350)\" d=\"M 0 0 M83.0615 414.927 L90.7003 414.927 L90.7003 388.561 L82.3902 390.228 L82.3902 385.969 L90.654 384.302 L95.3299 384.302 L95.3299 414.927 L102.969 414.927 L102.969 418.862 L83.0615 418.862 L83.0615 414.927 Z\" fill=\"#000000\" fill-rule=\"evenodd\" fill-opacity=\"1\" /><path clip-path=\"url(#clip350)\" d=\"M 0 0 M118.038 387.381 Q114.427 387.381 112.598 390.946 Q110.793 394.487 110.793 401.617 Q110.793 408.723 112.598 412.288 Q114.427 415.83 118.038 415.83 Q121.672 415.83 123.478 412.288 Q125.307 408.723 125.307 401.617 Q125.307 394.487 123.478 390.946 Q121.672 387.381 118.038 387.381 M118.038 383.677 Q123.848 383.677 126.904 388.284 Q129.983 392.867 129.983 401.617 Q129.983 410.344 126.904 414.95 Q123.848 419.533 118.038 419.533 Q112.228 419.533 109.149 414.95 Q106.094 410.344 106.094 401.617 Q106.094 392.867 109.149 388.284 Q112.228 383.677 118.038 383.677 Z\" fill=\"#000000\" fill-rule=\"evenodd\" fill-opacity=\"1\" /><path clip-path=\"url(#clip350)\" d=\"M 0 0 M145.052 387.381 Q141.441 387.381 139.612 390.946 Q137.807 394.487 137.807 401.617 Q137.807 408.723 139.612 412.288 Q141.441 415.83 145.052 415.83 Q148.686 415.83 150.492 412.288 Q152.32 408.723 152.32 401.617 Q152.32 394.487 150.492 390.946 Q148.686 387.381 145.052 387.381 M145.052 383.677 Q150.862 383.677 153.918 388.284 Q156.996 392.867 156.996 401.617 Q156.996 410.344 153.918 414.95 Q150.862 419.533 145.052 419.533 Q139.242 419.533 136.163 414.95 Q133.107 410.344 133.107 401.617 Q133.107 392.867 136.163 388.284 Q139.242 383.677 145.052 383.677 Z\" fill=\"#000000\" fill-rule=\"evenodd\" fill-opacity=\"1\" /><path clip-path=\"url(#clip350)\" d=\"M 0 0 M145.052 126.043 Q141.441 126.043 139.612 129.607 Q137.807 133.149 137.807 140.279 Q137.807 147.385 139.612 150.95 Q141.441 154.492 145.052 154.492 Q148.686 154.492 150.492 150.95 Q152.32 147.385 152.32 140.279 Q152.32 133.149 150.492 129.607 Q148.686 126.043 145.052 126.043 M145.052 122.339 Q150.862 122.339 153.918 126.945 Q156.996 131.529 156.996 140.279 Q156.996 149.005 153.918 153.612 Q150.862 158.195 145.052 158.195 Q139.242 158.195 136.163 153.612 Q133.107 149.005 133.107 140.279 Q133.107 131.529 136.163 126.945 Q139.242 122.339 145.052 122.339 Z\" fill=\"#000000\" fill-rule=\"evenodd\" fill-opacity=\"1\" /><circle clip-path=\"url(#clip352)\" cx=\"242.461\" cy=\"127.177\" r=\"10\" fill=\"#add8e6\" fill-rule=\"evenodd\" fill-opacity=\"1\" stroke=\"#000000\" stroke-opacity=\"1\" stroke-width=\"3.2\"/>\n",
       "<circle clip-path=\"url(#clip352)\" cx=\"583.933\" cy=\"685.263\" r=\"10\" fill=\"#add8e6\" fill-rule=\"evenodd\" fill-opacity=\"1\" stroke=\"#000000\" stroke-opacity=\"1\" stroke-width=\"3.2\"/>\n",
       "<circle clip-path=\"url(#clip352)\" cx=\"925.404\" cy=\"1146.56\" r=\"10\" fill=\"#add8e6\" fill-rule=\"evenodd\" fill-opacity=\"1\" stroke=\"#000000\" stroke-opacity=\"1\" stroke-width=\"3.2\"/>\n",
       "<circle clip-path=\"url(#clip352)\" cx=\"1266.88\" cy=\"1414.27\" r=\"10\" fill=\"#add8e6\" fill-rule=\"evenodd\" fill-opacity=\"1\" stroke=\"#000000\" stroke-opacity=\"1\" stroke-width=\"3.2\"/>\n",
       "<circle clip-path=\"url(#clip352)\" cx=\"1608.35\" cy=\"1391.6\" r=\"10\" fill=\"#add8e6\" fill-rule=\"evenodd\" fill-opacity=\"1\" stroke=\"#000000\" stroke-opacity=\"1\" stroke-width=\"3.2\"/>\n",
       "<circle clip-path=\"url(#clip352)\" cx=\"1949.82\" cy=\"981.769\" r=\"10\" fill=\"#add8e6\" fill-rule=\"evenodd\" fill-opacity=\"1\" stroke=\"#000000\" stroke-opacity=\"1\" stroke-width=\"3.2\"/>\n",
       "<circle clip-path=\"url(#clip352)\" cx=\"2291.29\" cy=\"87.9763\" r=\"10\" fill=\"#add8e6\" fill-rule=\"evenodd\" fill-opacity=\"1\" stroke=\"#000000\" stroke-opacity=\"1\" stroke-width=\"3.2\"/>\n",
       "<polyline clip-path=\"url(#clip352)\" style=\"stroke:#e26f46; stroke-width:4; stroke-opacity:1; fill:none\" points=\"\n",
       "  242.461,127.177 262.47,160.82 447.477,468.44 558.659,646.086 652.662,789.005 754.775,934.204 848.915,1056.62 899.378,1116.99 949.842,1173.3 1008.31,1233.03 \n",
       "  1066.78,1286.41 1118.74,1328.11 1170.69,1364.05 1216.26,1390.58 1261.82,1412.18 1311.5,1429.87 1361.17,1441.15 1411.14,1445.72 1461.11,1443.19 1516.36,1431.78 \n",
       "  1571.61,1410.91 1624.18,1381.9 1676.75,1343.62 1731.41,1293.58 1786.07,1232.74 1832.08,1172.84 1878.09,1104.77 1934.27,1010.22 1990.44,902.694 2043.25,789.398 \n",
       "  2096.05,663.895 2138.35,554.315 2180.65,436.49 2222.95,310.234 2265.25,175.363 2271.76,153.831 2278.27,132.089 2284.78,110.138 2291.29,87.9763 \n",
       "  \"/>\n",
       "</svg>\n"
      ]
     },
     "execution_count": 61,
     "metadata": {},
     "output_type": "execute_result"
    }
   ],
   "source": [
    "scatter(x, y, c=:lightblue, ms=3, leg=false)\n",
    "plot!(poli3,0,10)"
   ]
  },
  {
   "cell_type": "code",
   "execution_count": 62,
   "id": "4583f916",
   "metadata": {},
   "outputs": [
    {
     "data": {
      "text/plain": [
       "-376.29584004849994"
      ]
     },
     "execution_count": 62,
     "metadata": {},
     "output_type": "execute_result"
    }
   ],
   "source": [
    "poli3(3.2345)"
   ]
  },
  {
   "cell_type": "code",
   "execution_count": 63,
   "id": "d5a56dea",
   "metadata": {},
   "outputs": [],
   "source": [
    "#exercicio 3"
   ]
  },
  {
   "cell_type": "code",
   "execution_count": 68,
   "id": "1d0f1fed",
   "metadata": {},
   "outputs": [
    {
     "data": {
      "text/plain": [
       "sistema_denso (generic function with 1 method)"
      ]
     },
     "execution_count": 68,
     "metadata": {},
     "output_type": "execute_result"
    }
   ],
   "source": [
    "# Função que dado A e b de um sistema do tipo Ax=b retorna x\n",
    "function sistema_denso(A,b)\n",
    "    #Realiza a decomposição LU\n",
    "    L,U=decomposicao_lu(A)\n",
    "    \n",
    "    #Resolve matriz triangular inferior\n",
    "    y=resolve_triangular_inferior(L,b)\n",
    "    \n",
    "    \n",
    "    #Resolve matriz triangular superior\n",
    "    x=resolve_triangular_superior(U,y)\n",
    "    \n",
    "    #Retorna x de Ax=b\n",
    "    return x\n",
    "end"
   ]
  },
  {
   "cell_type": "code",
   "execution_count": 69,
   "id": "f44db007",
   "metadata": {},
   "outputs": [
    {
     "data": {
      "text/plain": [
       "4×1 Array{Float64,2}:\n",
       " 13.125\n",
       " 20.625\n",
       " 11.875\n",
       " 19.375"
      ]
     },
     "execution_count": 69,
     "metadata": {},
     "output_type": "execute_result"
    }
   ],
   "source": [
    "#Matriz A de Ax=b\n",
    "A = [-4.0 1 1 0; 1 -4 0 1; 1 0 -4 1; 0 1 1 -4]\n",
    "#Matriz b de Ax=b\n",
    "b = [-20;-50;-15;-45]\n",
    " \n",
    "#Resolvendo o sistema Ax=b via LU\n",
    "sistema_denso(A,b)"
   ]
  },
  {
   "cell_type": "code",
   "execution_count": 72,
   "id": "426b0a97",
   "metadata": {},
   "outputs": [
    {
     "data": {
      "text/plain": [
       "criação_da_matriz (generic function with 1 method)"
      ]
     },
     "execution_count": 72,
     "metadata": {},
     "output_type": "execute_result"
    }
   ],
   "source": [
    "#Função que dado um n desejado cria uma matriz (nxn) no modelo do nosso problema \n",
    "#(funciona somente para n’s que são quadrados perfeitos)\n",
    "function criação_da_matriz(n)\n",
    "   #Cria uma matriz de zeros(nxn) \n",
    "    A=zeros(n,n)\n",
    "   \n",
    "    rq=Int(sqrt(n))\n",
    "  \n",
    "    #Passando os valores na primeira e última linha da matriz\n",
    "    A[1,1]=-4\n",
    "    A[1,2]=1\n",
    "    A[n,n-1]=1\n",
    "    A[n,n]=-4\n",
    "   \n",
    "    #tridiagonal\n",
    "    for i= 2:(n-1)\n",
    "        A[i,i]=-4\n",
    "        A[i,i+1]=1\n",
    "        A[i,i-1]=1\n",
    "       \n",
    "        if (i%rq == 0)\n",
    "            A[i,i+1] = 0\n",
    "        end\n",
    "    end\n",
    "   \n",
    "    # 1's de baixo\n",
    "    for i = (rq+1) : n\n",
    "        A[i, i-rq] = 1\n",
    "    end\n",
    "   \n",
    "    # 1's de cima\n",
    "    for i = 1 : n - rq\n",
    "        A[i, i+rq] = 1\n",
    "    end\n",
    "   \n",
    "    # passando 1 para 0 a cada rq\n",
    "    for i = rq : n-rq\n",
    "        if i % rq == 0\n",
    "            A[i+1,i] = 0\n",
    "        end\n",
    "    end\n",
    " \n",
    "    #Retorna a matriz criada\n",
    "    return A\n",
    "end"
   ]
  },
  {
   "cell_type": "code",
   "execution_count": 73,
   "id": "ae8c70f6",
   "metadata": {},
   "outputs": [
    {
     "data": {
      "text/plain": [
       "4×4 Array{Float64,2}:\n",
       " -4.0   1.0   1.0   0.0\n",
       "  1.0  -4.0   0.0   1.0\n",
       "  1.0   0.0  -4.0   1.0\n",
       "  0.0   1.0   1.0  -4.0"
      ]
     },
     "execution_count": 73,
     "metadata": {},
     "output_type": "execute_result"
    }
   ],
   "source": [
    "criação_da_matriz(4)"
   ]
  },
  {
   "cell_type": "code",
   "execution_count": 78,
   "id": "54ea9f2a",
   "metadata": {},
   "outputs": [
    {
     "data": {
      "text/plain": [
       "25×25 Array{Float64,2}:\n",
       " -4.0   1.0   0.0   0.0   0.0   1.0  …   0.0   0.0   0.0   0.0   0.0   0.0\n",
       "  1.0  -4.0   1.0   0.0   0.0   0.0      0.0   0.0   0.0   0.0   0.0   0.0\n",
       "  0.0   1.0  -4.0   1.0   0.0   0.0      0.0   0.0   0.0   0.0   0.0   0.0\n",
       "  0.0   0.0   1.0  -4.0   1.0   0.0      0.0   0.0   0.0   0.0   0.0   0.0\n",
       "  0.0   0.0   0.0   1.0  -4.0   0.0      0.0   0.0   0.0   0.0   0.0   0.0\n",
       "  1.0   0.0   0.0   0.0   0.0  -4.0  …   0.0   0.0   0.0   0.0   0.0   0.0\n",
       "  0.0   1.0   0.0   0.0   0.0   1.0      0.0   0.0   0.0   0.0   0.0   0.0\n",
       "  0.0   0.0   1.0   0.0   0.0   0.0      0.0   0.0   0.0   0.0   0.0   0.0\n",
       "  0.0   0.0   0.0   1.0   0.0   0.0      0.0   0.0   0.0   0.0   0.0   0.0\n",
       "  0.0   0.0   0.0   0.0   1.0   0.0      0.0   0.0   0.0   0.0   0.0   0.0\n",
       "  0.0   0.0   0.0   0.0   0.0   1.0  …   0.0   0.0   0.0   0.0   0.0   0.0\n",
       "  0.0   0.0   0.0   0.0   0.0   0.0      0.0   0.0   0.0   0.0   0.0   0.0\n",
       "  0.0   0.0   0.0   0.0   0.0   0.0      0.0   0.0   0.0   0.0   0.0   0.0\n",
       "  0.0   0.0   0.0   0.0   0.0   0.0      0.0   0.0   0.0   0.0   0.0   0.0\n",
       "  0.0   0.0   0.0   0.0   0.0   0.0      1.0   0.0   0.0   0.0   0.0   0.0\n",
       "  0.0   0.0   0.0   0.0   0.0   0.0  …   0.0   1.0   0.0   0.0   0.0   0.0\n",
       "  0.0   0.0   0.0   0.0   0.0   0.0      0.0   0.0   1.0   0.0   0.0   0.0\n",
       "  0.0   0.0   0.0   0.0   0.0   0.0      0.0   0.0   0.0   1.0   0.0   0.0\n",
       "  0.0   0.0   0.0   0.0   0.0   0.0      1.0   0.0   0.0   0.0   1.0   0.0\n",
       "  0.0   0.0   0.0   0.0   0.0   0.0     -4.0   0.0   0.0   0.0   0.0   1.0\n",
       "  0.0   0.0   0.0   0.0   0.0   0.0  …   0.0  -4.0   1.0   0.0   0.0   0.0\n",
       "  0.0   0.0   0.0   0.0   0.0   0.0      0.0   1.0  -4.0   1.0   0.0   0.0\n",
       "  0.0   0.0   0.0   0.0   0.0   0.0      0.0   0.0   1.0  -4.0   1.0   0.0\n",
       "  0.0   0.0   0.0   0.0   0.0   0.0      0.0   0.0   0.0   1.0  -4.0   1.0\n",
       "  0.0   0.0   0.0   0.0   0.0   0.0      1.0   0.0   0.0   0.0   1.0  -4.0"
      ]
     },
     "execution_count": 78,
     "metadata": {},
     "output_type": "execute_result"
    }
   ],
   "source": [
    "A = criação_da_matriz(25)"
   ]
  },
  {
   "cell_type": "code",
   "execution_count": 75,
   "id": "e86b3cb7",
   "metadata": {
    "scrolled": false
   },
   "outputs": [
    {
     "data": {
      "text/plain": [
       "matriz_resultado (generic function with 1 method)"
      ]
     },
     "execution_count": 75,
     "metadata": {},
     "output_type": "execute_result"
    }
   ],
   "source": [
    "#Função que encontra a matriz b de (Ax=b) do problema modelado (só funciona para n’s que são quadrados perfeitos)\n",
    "function matriz_resultado(n)\n",
    "   #Cria uma matriz de zeros(nxn) \n",
    "    A=zeros(n,1)\n",
    "   \n",
    "    rq=Int(sqrt(n))\n",
    "   \n",
    "    #canto superior esquerdo\n",
    "    A[1,1]  = -45\n",
    "   \n",
    "    #canto superior direito\n",
    "    A[rq,1] = -40\n",
    "   \n",
    "    #canto inferior esquerdo\n",
    "    A[n-rq+1,1] = -55\n",
    "   \n",
    "    #canto inferior direito\n",
    "    A[n,1] = -50\n",
    "   \n",
    "    #cima\n",
    "    for i = 2:rq-1\n",
    "        A[i,1] = -20\n",
    "    end\n",
    "   \n",
    "    #lado esquerdo\n",
    "    for i = 1 : rq-2\n",
    "        A[(i*rq)+1,1] = -25\n",
    "    end\n",
    "   \n",
    "    #lado direito\n",
    "    for i = 2 : rq-1\n",
    "        A[(i*rq),1] = -20\n",
    "    end\n",
    "   \n",
    "    #baixo\n",
    "    for i = n-rq+2 : n-1\n",
    "        A[i,1] = -30\n",
    "    end\n",
    " \n",
    "    #Retorna a matriz criada\n",
    "    return A\n",
    "end"
   ]
  },
  {
   "cell_type": "code",
   "execution_count": 79,
   "id": "51bb9ae5",
   "metadata": {},
   "outputs": [
    {
     "data": {
      "text/plain": [
       "25×1 Array{Float64,2}:\n",
       " -45.0\n",
       " -20.0\n",
       " -20.0\n",
       " -20.0\n",
       " -40.0\n",
       " -25.0\n",
       "   0.0\n",
       "   0.0\n",
       "   0.0\n",
       " -20.0\n",
       " -25.0\n",
       "   0.0\n",
       "   0.0\n",
       "   0.0\n",
       " -20.0\n",
       " -25.0\n",
       "   0.0\n",
       "   0.0\n",
       "   0.0\n",
       " -20.0\n",
       " -55.0\n",
       " -30.0\n",
       " -30.0\n",
       " -30.0\n",
       " -50.0"
      ]
     },
     "execution_count": 79,
     "metadata": {},
     "output_type": "execute_result"
    }
   ],
   "source": [
    "B = matriz_resultado(25)"
   ]
  },
  {
   "cell_type": "code",
   "execution_count": 80,
   "id": "23828d61",
   "metadata": {},
   "outputs": [
    {
     "data": {
      "text/plain": [
       "25×1 Array{Float64,2}:\n",
       " 22.656565656565654\n",
       " 21.762286324786324\n",
       " 21.28651903651904 \n",
       " 20.89359945609946 \n",
       " 20.46969696969697 \n",
       " 23.863976301476303\n",
       " 23.106060606060602\n",
       " 22.49019036519036 \n",
       " 21.818181818181817\n",
       " 20.98518842268842 \n",
       " 24.69327894327894 \n",
       " 24.30778943278943 \n",
       " 23.75             \n",
       " 22.903749028749036\n",
       " 21.65287490287491 \n",
       " 25.601350038850036\n",
       " 25.68181818181818 \n",
       " 25.29827117327117 \n",
       " 24.393939393939394\n",
       " 22.722562160062164\n",
       " 27.030303030303024\n",
       " 27.519862082362078\n",
       " 27.367327117327115\n",
       " 26.65117521367521 \n",
       " 24.84343434343434 "
      ]
     },
     "execution_count": 80,
     "metadata": {},
     "output_type": "execute_result"
    }
   ],
   "source": [
    "A = criação_da_matriz(25)\n",
    "B = matriz_resultado(25)\n",
    "sistema_denso(A,B)\n"
   ]
  },
  {
   "cell_type": "code",
   "execution_count": 82,
   "id": "4072b2de",
   "metadata": {},
   "outputs": [],
   "source": [
    "using Dates"
   ]
  },
  {
   "cell_type": "code",
   "execution_count": 90,
   "id": "7b0583ed",
   "metadata": {},
   "outputs": [
    {
     "data": {
      "text/plain": [
       "108140000000 nanoseconds"
      ]
     },
     "execution_count": 90,
     "metadata": {},
     "output_type": "execute_result"
    }
   ],
   "source": [
    "A = criação_da_matriz(2116)\n",
    "b = matriz_resultado(2116)\n",
    " \n",
    "#Inicio do processo\n",
    "rightnow = Dates.Time(Dates.now())\n",
    " \n",
    "#Chamando a função que calcula o sistema\n",
    "sistema_denso(A,b)\n",
    " \n",
    "#Final do processo\n",
    "rightnow2 = Dates.Time(Dates.now())\n",
    " \n",
    "#Duração\n",
    "dif = (rightnow2 - rightnow)"
   ]
  },
  {
   "cell_type": "code",
   "execution_count": 91,
   "id": "b379382a",
   "metadata": {},
   "outputs": [
    {
     "data": {
      "text/plain": [
       "1.8023333333333333"
      ]
     },
     "execution_count": 91,
     "metadata": {},
     "output_type": "execute_result"
    }
   ],
   "source": [
    "108140000000 /60000000000"
   ]
  },
  {
   "cell_type": "code",
   "execution_count": 69,
   "id": "1a464e00",
   "metadata": {},
   "outputs": [
    {
     "data": {
      "text/plain": [
       "Gauss_Jacobi (generic function with 1 method)"
      ]
     },
     "execution_count": 69,
     "metadata": {},
     "output_type": "execute_result"
    }
   ],
   "source": [
    "function Gauss_Jacobi(A,b) #Dado A(nxn) e b(nx1), retorn um x tal que Ax ≈ b\n",
    "    n,=size(A)\n",
    "    \n",
    "    M=LowerTriangular(A) #parte diagonal da A\n",
    "    K=A-M\n",
    "    \n",
    "    #chute inicial\n",
    "    x= randn(n,1)\n",
    "    \n",
    "    for i=1:500\n",
    "        x= inv(M)*(-K*x+b)\n",
    "    end\n",
    "    \n",
    "    return x\n",
    "end"
   ]
  },
  {
   "cell_type": "code",
   "execution_count": 70,
   "id": "c97818c3",
   "metadata": {},
   "outputs": [],
   "source": [
    "using LinearAlgebra"
   ]
  },
  {
   "cell_type": "code",
   "execution_count": 76,
   "id": "5ab68bd3",
   "metadata": {},
   "outputs": [
    {
     "data": {
      "text/plain": [
       "25×1 Array{Float64,2}:\n",
       " 22.656565656565654\n",
       " 21.762286324786324\n",
       " 21.28651903651903 \n",
       " 20.89359945609945 \n",
       " 20.46969696969697 \n",
       " 23.8639763014763  \n",
       " 23.106060606060602\n",
       " 22.49019036519036 \n",
       " 21.818181818181813\n",
       " 20.98518842268842 \n",
       " 24.69327894327894 \n",
       " 24.30778943278943 \n",
       " 23.749999999999996\n",
       " 22.903749028749026\n",
       " 21.6528749028749  \n",
       " 25.60135003885004 \n",
       " 25.68181818181818 \n",
       " 25.29827117327117 \n",
       " 24.39393939393939 \n",
       " 22.722562160062154\n",
       " 27.03030303030303 \n",
       " 27.51986208236208 \n",
       " 27.367327117327115\n",
       " 26.65117521367521 \n",
       " 24.843434343434343"
      ]
     },
     "execution_count": 76,
     "metadata": {},
     "output_type": "execute_result"
    }
   ],
   "source": [
    "A = criação_da_matriz(25)\n",
    "b = matriz_resultado(25)\n",
    "\n",
    "Gauss_Jacobi(A,b)"
   ]
  },
  {
   "cell_type": "code",
   "execution_count": 33,
   "id": "6f4382b5",
   "metadata": {},
   "outputs": [],
   "source": [
    "using Dates\n",
    "import Dates"
   ]
  },
  {
   "cell_type": "code",
   "execution_count": 67,
   "id": "6cdbb739",
   "metadata": {},
   "outputs": [
    {
     "data": {
      "text/plain": [
       "147532000000 nanoseconds"
      ]
     },
     "execution_count": 67,
     "metadata": {},
     "output_type": "execute_result"
    }
   ],
   "source": [
    "A = criação_da_matriz(2025) \n",
    "b = matriz_resultado(2025)\n",
    "\n",
    "rightnow = Dates.Time(Dates.now())\n",
    "Gauss_Jacobi(A,b)\n",
    "rightnow2 = Dates.Time(Dates.now())\n",
    "\n",
    "dif = rightnow2 - rightnow\n"
   ]
  },
  {
   "cell_type": "code",
   "execution_count": 68,
   "id": "95a6b33b",
   "metadata": {},
   "outputs": [
    {
     "data": {
      "text/plain": [
       "2.4588666666666668"
      ]
     },
     "execution_count": 68,
     "metadata": {},
     "output_type": "execute_result"
    }
   ],
   "source": [
    "147532000000/60000000000"
   ]
  },
  {
   "cell_type": "code",
   "execution_count": 71,
   "id": "3c1fb7ae",
   "metadata": {},
   "outputs": [
    {
     "data": {
      "text/plain": [
       "123680000000 nanoseconds"
      ]
     },
     "execution_count": 71,
     "metadata": {},
     "output_type": "execute_result"
    }
   ],
   "source": [
    "A = criação_da_matriz(1849)\n",
    "b = matriz_resultado(1849)\n",
    "\n",
    "rightnow = Dates.Time(Dates.now())\n",
    "Gauss_Jacobi(A,b)\n",
    "rightnow2 = Dates.Time(Dates.now())\n",
    "\n",
    "dif = rightnow2 - rightnow"
   ]
  },
  {
   "cell_type": "code",
   "execution_count": 72,
   "id": "c988ef93",
   "metadata": {},
   "outputs": [
    {
     "data": {
      "text/plain": [
       "2.0613333333333332"
      ]
     },
     "execution_count": 72,
     "metadata": {},
     "output_type": "execute_result"
    }
   ],
   "source": [
    "123680000000/60000000000"
   ]
  },
  {
   "cell_type": "code",
   "execution_count": 76,
   "id": "53075afd",
   "metadata": {},
   "outputs": [
    {
     "data": {
      "text/plain": [
       "100659000000 nanoseconds"
      ]
     },
     "execution_count": 76,
     "metadata": {},
     "output_type": "execute_result"
    }
   ],
   "source": [
    "A = criação_da_matriz(1764)\n",
    "b = matriz_resultado(1764)\n",
    "\n",
    "rightnow = Dates.Time(Dates.now())\n",
    "Gauss_Jacobi(A,b)\n",
    "rightnow2 = Dates.Time(Dates.now())\n",
    "\n",
    "dif = (rightnow2 - rightnow)"
   ]
  },
  {
   "cell_type": "code",
   "execution_count": 78,
   "id": "af1a9b9e",
   "metadata": {},
   "outputs": [
    {
     "data": {
      "text/plain": [
       "1.67765"
      ]
     },
     "execution_count": 78,
     "metadata": {},
     "output_type": "execute_result"
    }
   ],
   "source": [
    "100659000000/60000000000"
   ]
  },
  {
   "cell_type": "code",
   "execution_count": 79,
   "id": "351eead9",
   "metadata": {},
   "outputs": [
    {
     "ename": "InexactError",
     "evalue": "\u001b[91mInexactError: Int64(Int64, 1.67765)\u001b[39m",
     "output_type": "error",
     "traceback": [
      "\u001b[91mInexactError: Int64(Int64, 1.67765)\u001b[39m",
      "",
      "Stacktrace:",
      " [1] Type at .\\float.jl:703 [inlined]",
      " [2] convert at .\\number.jl:7 [inlined]",
      " [3] Type at C:\\cygwin\\home\\Administrator\\buildbot\\worker\\package_win64\\build\\usr\\share\\julia\\stdlib\\v1.0\\Dates\\src\\types.jl:33 [inlined]",
      " [4] /(::Nanosecond, ::Int64) at C:\\cygwin\\home\\Administrator\\buildbot\\worker\\package_win64\\build\\usr\\share\\julia\\stdlib\\v1.0\\Dates\\src\\periods.jl:81",
      " [5] top-level scope at In[79]:1"
     ]
    }
   ],
   "source": [
    "dif/60000000000"
   ]
  },
  {
   "cell_type": "code",
   "execution_count": null,
   "id": "27f24068",
   "metadata": {},
   "outputs": [],
   "source": []
  },
  {
   "cell_type": "code",
   "execution_count": null,
   "id": "3b7c121a",
   "metadata": {},
   "outputs": [],
   "source": []
  },
  {
   "cell_type": "code",
   "execution_count": 32,
   "id": "7de171bd",
   "metadata": {},
   "outputs": [],
   "source": [
    "#Exercicio 4 a\n",
    "using LinearAlgebra"
   ]
  },
  {
   "cell_type": "code",
   "execution_count": 33,
   "id": "8a961c08",
   "metadata": {},
   "outputs": [
    {
     "data": {
      "text/plain": [
       "sistema_triangular_inferior (generic function with 1 method)"
      ]
     },
     "execution_count": 33,
     "metadata": {},
     "output_type": "execute_result"
    }
   ],
   "source": [
    "function sistema_triangular_inferior(A, b)\n",
    "    n = size(A, 1)\n",
    "    x = zeros(n, 1)\n",
    "    for i = 1:n\n",
    "        x[i] = b[i]\n",
    "        for j = 1:i-1\n",
    "            x[i] -= A[i, j] * x[j]\n",
    "        end\n",
    "        x[i] /= A[i, i]\n",
    "    end\n",
    "    x\n",
    "end"
   ]
  },
  {
   "cell_type": "code",
   "execution_count": 34,
   "id": "55e94386",
   "metadata": {},
   "outputs": [
    {
     "data": {
      "text/plain": [
       "sistema_triangular_superior (generic function with 1 method)"
      ]
     },
     "execution_count": 34,
     "metadata": {},
     "output_type": "execute_result"
    }
   ],
   "source": [
    "function sistema_triangular_superior(A, b)\n",
    "    n = size(A, 1)\n",
    "    x = zeros(n, 1)\n",
    "    for i = reverse(1:n)\n",
    "        x[i] = b[i]\n",
    "        for j = reverse(i+1:n)\n",
    "            x[i] -= A[i, j] * x[j]\n",
    "        end\n",
    "        x[i] /= A[i, i]\n",
    "    end\n",
    "    x\n",
    "end"
   ]
  },
  {
   "cell_type": "code",
   "execution_count": 35,
   "id": "c4710749",
   "metadata": {},
   "outputs": [
    {
     "data": {
      "text/plain": [
       "decomposicao_lu (generic function with 1 method)"
      ]
     },
     "execution_count": 35,
     "metadata": {},
     "output_type": "execute_result"
    }
   ],
   "source": [
    "function decomposicao_lu(A)\n",
    "    U = copy(A)\n",
    "    n = size(A, 1)\n",
    "    L = Matrix{Float64}(I, n, n) #Matriz identidade\n",
    "    for i = 1:n\n",
    "        for j = i+1:n\n",
    "            coef=U[j, i] / U[i, i]\n",
    "            L[j, i] = coef\n",
    "            U[j, :] -= coef * U[i, :]\n",
    "        end\n",
    "    end\n",
    "    L, U\n",
    "end"
   ]
  },
  {
   "cell_type": "code",
   "execution_count": 36,
   "id": "77420987",
   "metadata": {},
   "outputs": [
    {
     "data": {
      "text/plain": [
       "sistema_denso (generic function with 1 method)"
      ]
     },
     "execution_count": 36,
     "metadata": {},
     "output_type": "execute_result"
    }
   ],
   "source": [
    "function sistema_denso(A,b)\n",
    "    L,U=decomposicao_lu(A)\n",
    "    y=sistema_triangular_inferior(L,b)\n",
    "    x=sistema_triangular_superior(U,y)\n",
    "    return x\n",
    "end"
   ]
  },
  {
   "cell_type": "code",
   "execution_count": 40,
   "id": "920132ca",
   "metadata": {},
   "outputs": [
    {
     "data": {
      "text/plain": [
       "8-element Array{Int64,1}:\n",
       "  7000\n",
       "  3500\n",
       "  9000\n",
       " 30000\n",
       "  3000\n",
       "     0\n",
       "  3000\n",
       "   500"
      ]
     },
     "execution_count": 40,
     "metadata": {},
     "output_type": "execute_result"
    }
   ],
   "source": [
    "A = [1 0 0 0 0 0 0 0; \n",
    "     0 1 0 0 0 0 0 0; \n",
    "     0 0 1 0 0 0 0 0;\n",
    "    -1 0 0 1 0 0 0 0;\n",
    "     0 0 -1 0 1 0 0 0;\n",
    "     0 -1 0 -1 0 1 0 0;\n",
    "     0 0 0 0 -1 0 1 0;\n",
    "     0 0 0 0 0 -1 -1 1]\n",
    "\n",
    "B =[7000;3500;9000;30000;3000;0;3000;500]"
   ]
  },
  {
   "cell_type": "code",
   "execution_count": 41,
   "id": "67deee4a",
   "metadata": {},
   "outputs": [
    {
     "data": {
      "text/plain": [
       "8×1 Array{Float64,2}:\n",
       "  7000.0\n",
       "  3500.0\n",
       "  9000.0\n",
       " 37000.0\n",
       " 12000.0\n",
       " 40500.0\n",
       " 15000.0\n",
       " 56000.0"
      ]
     },
     "execution_count": 41,
     "metadata": {},
     "output_type": "execute_result"
    }
   ],
   "source": [
    "sistema_denso(A,B)"
   ]
  },
  {
   "cell_type": "code",
   "execution_count": null,
   "id": "aa6fb352",
   "metadata": {},
   "outputs": [],
   "source": []
  },
  {
   "cell_type": "code",
   "execution_count": 45,
   "id": "783c76dd",
   "metadata": {},
   "outputs": [
    {
     "data": {
      "text/plain": [
       "8-element Array{Int64,1}:\n",
       "  7000\n",
       "  3500\n",
       "  9000\n",
       " 30000\n",
       "  3000\n",
       "     0\n",
       "  3000\n",
       "   500"
      ]
     },
     "execution_count": 45,
     "metadata": {},
     "output_type": "execute_result"
    }
   ],
   "source": [
    "A = [1 0 0 0 0 0 0 0 0; \n",
    "     0 1 0 0 0 0 0 0 0; \n",
    "     0 0 1 0 0 0 0 0 0;\n",
    "    -1 0 0 1 0 0 0 0 -1;\n",
    "     0 0 -1 0 1 0 0 0 1;\n",
    "     0 -1 0 -1 0 1 0 0 0;\n",
    "     0 0 0 0 -1 0 1 0 0;\n",
    "     0 0 0 0 0 -1 -1 1 0]\n",
    "\n",
    "B =[7000;3500;9000;30000;3000;0;3000;500]"
   ]
  },
  {
   "cell_type": "code",
   "execution_count": 46,
   "id": "e48894ee",
   "metadata": {},
   "outputs": [
    {
     "data": {
      "text/plain": [
       "8×1 Array{Float64,2}:\n",
       "  7000.0\n",
       "  3500.0\n",
       "  9000.0\n",
       " 37000.0\n",
       " 12000.0\n",
       " 40500.0\n",
       " 15000.0\n",
       " 56000.0"
      ]
     },
     "execution_count": 46,
     "metadata": {},
     "output_type": "execute_result"
    }
   ],
   "source": [
    "sistema_denso(A,B)"
   ]
  },
  {
   "cell_type": "code",
   "execution_count": null,
   "id": "d2034f51",
   "metadata": {},
   "outputs": [],
   "source": []
  }
 ],
 "metadata": {
  "kernelspec": {
   "display_name": "Julia 1.0.5",
   "language": "julia",
   "name": "julia-1.0"
  },
  "language_info": {
   "file_extension": ".jl",
   "mimetype": "application/julia",
   "name": "julia",
   "version": "1.0.5"
  }
 },
 "nbformat": 4,
 "nbformat_minor": 5
}
