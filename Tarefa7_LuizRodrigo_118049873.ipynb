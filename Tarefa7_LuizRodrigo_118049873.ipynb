{
 "cells": [
  {
   "cell_type": "code",
   "execution_count": null,
   "id": "3b1d7586",
   "metadata": {},
   "outputs": [],
   "source": [
    "# Biblioteca Calculo Numerico\n",
    "# Augusto Guimarães - DRE:119025393,\n",
    "# Livia Barbosa Fonseca - DRE: 118039721 e\n",
    "# Luiz Rodrigo Lace - DRE: 118049873"
   ]
  },
  {
   "cell_type": "code",
   "execution_count": 3,
   "id": "ce854977",
   "metadata": {},
   "outputs": [],
   "source": [
    "using LinearAlgebra\n",
    "using Plots"
   ]
  },
  {
   "cell_type": "code",
   "execution_count": 20,
   "id": "9b521413",
   "metadata": {},
   "outputs": [],
   "source": [
    "# 2) Problema: Achar um valor aproximado de uma função com informações de derivadas\n",
    "# Entradas: uma valor x, um valor a,  “informações das derivadas em a” , M (maior valor da n-derivada no intervalo )\n",
    "# Saída: um valor y e um valor E\n",
    "# Especificação: |y - f(x)|<= E"
   ]
  },
  {
   "cell_type": "code",
   "execution_count": 2,
   "id": "d90344d1",
   "metadata": {},
   "outputs": [
    {
     "data": {
      "text/plain": [
       "taylor_de_ordem_0 (generic function with 1 method)"
      ]
     },
     "execution_count": 2,
     "metadata": {},
     "output_type": "execute_result"
    }
   ],
   "source": [
    "# Taylor de ordem 0\n",
    "# A função retorna um valor aproximado de uma função no ponto x utilizando o polinômio de taylor de ordem 0 \n",
    "# em torno de um ponto a e o erro E tal que |f(x) - f(a)|<= E\n",
    "# Lembrando que o polinomio de Taylor pode ser escrito como:\n",
    "# Pn(x) = Somatorio (fn(a)/n!)(x - a)^n \n",
    "# Nesse caso não precisamos da derevida \n",
    "function taylor_de_ordem_0(x,a, fa, M)\n",
    "    fx_aproximado = fa\n",
    "    erro_maximo = M*(x-a)\n",
    "    return fx_aproximado, erro_maximo\n",
    "end"
   ]
  },
  {
   "cell_type": "code",
   "execution_count": 3,
   "id": "d0760dcf",
   "metadata": {},
   "outputs": [
    {
     "name": "stdout",
     "output_type": "stream",
     "text": [
      "0.955336489125606\n",
      "1\n",
      "0.3\n"
     ]
    }
   ],
   "source": [
    "# Exemplo 1\n",
    "# f(x) = cos(x)\n",
    "x = 0.3\n",
    "a = 0\n",
    "fa = 1\n",
    "M = 1\n",
    "fx = cos(0.3)\n",
    "fx_aproximado, erro_maximo = taylor_de_ordem_0(x,a, fa, M)\n",
    "println(fx)\n",
    "println(fx_aproximado)\n",
    "println(erro_maximo)"
   ]
  },
  {
   "cell_type": "code",
   "execution_count": 4,
   "id": "122de36a",
   "metadata": {},
   "outputs": [
    {
     "name": "stdout",
     "output_type": "stream",
     "text": [
      "0.3894183423086505\n",
      "0.5\n",
      "-0.1235987755982988\n"
     ]
    }
   ],
   "source": [
    "# Exemplo 2\n",
    "# f(x) = sen(x)\n",
    "x = 0.4\n",
    "a = pi/6\n",
    "fa = 1/2\n",
    "M = 1\n",
    "fx = sin(0.4)\n",
    "fx_aproximado, erro_maximo = taylor_de_ordem_0(x,a, fa, M)\n",
    "println(fx)\n",
    "println(fx_aproximado)\n",
    "println(erro_maximo)"
   ]
  },
  {
   "cell_type": "code",
   "execution_count": 5,
   "id": "fe49541b",
   "metadata": {},
   "outputs": [
    {
     "name": "stdout",
     "output_type": "stream",
     "text": [
      "0.4054651081081644\n",
      "0\n",
      "0.5\n"
     ]
    }
   ],
   "source": [
    "# Exemplo 3\n",
    "# f(x) = ln(x)\n",
    "x = 1.5\n",
    "a = 1\n",
    "fa = 0\n",
    "M = 1\n",
    "fx = log(1.5)\n",
    "fx_aproximado, erro_maximo = taylor_de_ordem_0(x,a, fa, M)\n",
    "println(fx)\n",
    "println(fx_aproximado)\n",
    "println(erro_maximo)"
   ]
  },
  {
   "cell_type": "code",
   "execution_count": 6,
   "id": "1e645717",
   "metadata": {},
   "outputs": [
    {
     "data": {
      "text/plain": [
       "taylor_de_ordem_1 (generic function with 1 method)"
      ]
     },
     "execution_count": 6,
     "metadata": {},
     "output_type": "execute_result"
    }
   ],
   "source": [
    "# Taylor de ordem 1\n",
    "# A função retorna um valor aproximado de uma função no ponto x utilizando o polinômio de taylor de ordem 1 \n",
    "# em torno de um ponto a e o erro E tal que |f(x) - f(a)|<= E\n",
    "function taylor_de_ordem_1(x,a, fa, dfa, M)\n",
    "    fx_aproximado = fa + dfa*(x-a)\n",
    "    erro_maximo = M*(x-a)^2/2\n",
    "    return fx_aproximado, erro_maximo\n",
    "end"
   ]
  },
  {
   "cell_type": "code",
   "execution_count": 7,
   "id": "c2b0fb76",
   "metadata": {},
   "outputs": [
    {
     "name": "stdout",
     "output_type": "stream",
     "text": [
      "0.3894183423086505\n",
      "0.39296032045522106\n",
      "0.007638328664699311\n"
     ]
    }
   ],
   "source": [
    "# Exemplo 1\n",
    "# f(x) = sen(x)\n",
    "x = 0.4\n",
    "a = pi/6\n",
    "fa = 1/2\n",
    "dfa = sqrt(3)/2\n",
    "M = 1\n",
    "fx = sin(0.4)\n",
    "fx_aproximado, erro_maximo = taylor_de_ordem_1(x,a, fa,dfa, M)\n",
    "println(fx)\n",
    "println(fx_aproximado)\n",
    "println(erro_maximo)"
   ]
  },
  {
   "cell_type": "code",
   "execution_count": 8,
   "id": "7bf4f210",
   "metadata": {},
   "outputs": [
    {
     "name": "stdout",
     "output_type": "stream",
     "text": [
      "0.4054651081081644\n",
      "0.5\n",
      "0.125\n"
     ]
    }
   ],
   "source": [
    "# Exemplo 2\n",
    "# f(x) = ln(x)\n",
    "x = 1.5\n",
    "a = 1\n",
    "fa = 0\n",
    "dfa = 1\n",
    "M = 1\n",
    "fx = log(1.5)\n",
    "fx_aproximado, erro_maximo = taylor_de_ordem_1(x,a, fa,dfa, M)\n",
    "println(fx)\n",
    "println(fx_aproximado)\n",
    "println(erro_maximo)"
   ]
  },
  {
   "cell_type": "code",
   "execution_count": 9,
   "id": "51de06f5",
   "metadata": {},
   "outputs": [
    {
     "name": "stdout",
     "output_type": "stream",
     "text": [
      "0.6216099682706644\n",
      "0.6260710453884506\n",
      "0.006566790476338984\n"
     ]
    }
   ],
   "source": [
    "# Exemplo 3\n",
    "# f(x) = cos(x)\n",
    "x = 0.9\n",
    "a = pi/4\n",
    "fa = sqrt(2)/2\n",
    "dfa = -sqrt(2)/2\n",
    "M = 1\n",
    "fx = cos(0.9)\n",
    "fx_aproximado, erro_maximo = taylor_de_ordem_1(x,a, fa,dfa, M)\n",
    "println(fx)\n",
    "println(fx_aproximado)\n",
    "println(erro_maximo)"
   ]
  },
  {
   "cell_type": "code",
   "execution_count": 25,
   "id": "f539a189",
   "metadata": {},
   "outputs": [
    {
     "data": {
      "text/plain": [
       "taylor_de_ordem_2 (generic function with 1 method)"
      ]
     },
     "execution_count": 25,
     "metadata": {},
     "output_type": "execute_result"
    }
   ],
   "source": [
    "# Taylor de ordem 2\n",
    "# A função retorna um valor aproximado de uma função no ponto x utilizando o polinômio de taylor de ordem 2 \n",
    "# em torno de um ponto a e o erro E tal que |f(x) - f(a)|<= E\n",
    "function taylor_de_ordem_2(x,a, fa, dfa, M)\n",
    "    fx_aproximado = fa + dfa[1]*(x-a) + (dfa[2]*(x-a)^2)/2\n",
    "    erro_maximo = M*(x-a)^3/6\n",
    "    return fx_aproximado, erro_maximo\n",
    "end"
   ]
  },
  {
   "cell_type": "code",
   "execution_count": 26,
   "id": "8fc636ce",
   "metadata": {},
   "outputs": [
    {
     "name": "stdout",
     "output_type": "stream",
     "text": [
      "0.3894183423086505\n",
      "0.3891411561228714\n",
      "-0.0003146960235247411\n"
     ]
    }
   ],
   "source": [
    "# Exemplo 1\n",
    "# f(x) = sen(x)\n",
    "x = 0.4\n",
    "a = pi/6\n",
    "fa = 1/2\n",
    "dfa = [sqrt(3)/2, -1/2]\n",
    "M = 1\n",
    "fx = sin(0.4)\n",
    "fx_aproximado, erro_maximo = taylor_de_ordem_2(x,a, fa,dfa, M)\n",
    "println(fx)\n",
    "println(fx_aproximado)\n",
    "println(erro_maximo)"
   ]
  },
  {
   "cell_type": "code",
   "execution_count": 27,
   "id": "2942cfba",
   "metadata": {},
   "outputs": [
    {
     "name": "stdout",
     "output_type": "stream",
     "text": [
      "0.6216099682706644\n",
      "0.6214276233120001\n",
      "0.0002508554163908644\n"
     ]
    }
   ],
   "source": [
    "# Exemplo 2\n",
    "# f(x) = cos(x)\n",
    "x = 0.9\n",
    "a = pi/4\n",
    "fa = sqrt(2)/2\n",
    "dfa = [-sqrt(2)/2, -sqrt(2)/2]\n",
    "M = 1\n",
    "fx = cos(0.9)\n",
    "fx_aproximado, erro_maximo = taylor_de_ordem_2(x,a, fa,dfa, M)\n",
    "println(fx)\n",
    "println(fx_aproximado)\n",
    "println(erro_maximo)"
   ]
  },
  {
   "cell_type": "code",
   "execution_count": 28,
   "id": "8de8e2eb",
   "metadata": {},
   "outputs": [
    {
     "name": "stdout",
     "output_type": "stream",
     "text": [
      "0.4054651081081644\n",
      "0.375\n",
      "0.041666666666666664\n"
     ]
    }
   ],
   "source": [
    "# Exemplo 3\n",
    "# f(x) = ln(x)\n",
    "x = 1.5\n",
    "a = 1\n",
    "fa = 0\n",
    "dfa = [1,-1]\n",
    "M = 2\n",
    "fx = log(1.5)\n",
    "fx_aproximado, erro_maximo = taylor_de_ordem_2(x,a, fa,dfa, M)\n",
    "println(fx)\n",
    "println(fx_aproximado)\n",
    "println(erro_maximo)"
   ]
  },
  {
   "cell_type": "code",
   "execution_count": 29,
   "id": "51cf8d9d",
   "metadata": {},
   "outputs": [
    {
     "data": {
      "text/plain": [
       "taylor_de_ordem_n (generic function with 1 method)"
      ]
     },
     "execution_count": 29,
     "metadata": {},
     "output_type": "execute_result"
    }
   ],
   "source": [
    "# Taylor de ordem n\n",
    "# A função retorna um valor aproximado de uma função no ponto x utilizando o polinômio de taylor de ordem n \n",
    "# em torno de um ponto a e o erro E tal que |f(x) - f(a)|<= E\n",
    "function taylor_de_ordem_n(x,a, fa, dfa, M)\n",
    "    fx_aproximado = fa\n",
    "    n = length(dfa)\n",
    "    fat = 1\n",
    "    fat_erro = 1\n",
    "    for i in 1:n\n",
    "        fat = fat * i\n",
    "        fat_erro = fat_erro * (i+1)\n",
    "        fx_aproximado = fx_aproximado + (dfa[i]*(x-a)^i)/fat\n",
    "    end\n",
    "    erro_maximo = M*(x-a)^(n+1)/fat_erro \n",
    "    return fx_aproximado, erro_maximo\n",
    "end"
   ]
  },
  {
   "cell_type": "code",
   "execution_count": 30,
   "id": "7fe2d627",
   "metadata": {},
   "outputs": [
    {
     "name": "stdout",
     "output_type": "stream",
     "text": [
      "0.4054651081081644\n",
      "0.4046875\n",
      "0.0011160714285714285\n"
     ]
    }
   ],
   "source": [
    "# Exemplo 1\n",
    "# f(x) = ln(x)\n",
    "x = 1.5\n",
    "a = 1\n",
    "fa = 0\n",
    "dfa = [1,-1, 2, -6, 24, -120]\n",
    "M = 720\n",
    "fx = log(1.5)\n",
    "fx_aproximado, erro_maximo = taylor_de_ordem_n(x,a, fa,dfa, M)\n",
    "println(fx)\n",
    "println(fx_aproximado)\n",
    "println(erro_maximo)"
   ]
  },
  {
   "cell_type": "code",
   "execution_count": 31,
   "id": "7f64d8a0",
   "metadata": {},
   "outputs": [
    {
     "name": "stdout",
     "output_type": "stream",
     "text": [
      "0.955336489125606\n",
      "0.9553375\n",
      "2.0249999999999994e-5\n"
     ]
    }
   ],
   "source": [
    "# Exemplo 2\n",
    "# f(x) = cos(x)\n",
    "x = 0.3\n",
    "a = 0\n",
    "fa = 1\n",
    "dfa = [0,-1, 0, 1]\n",
    "M = 1\n",
    "fx = cos(0.3)\n",
    "fx_aproximado, erro_maximo = taylor_de_ordem_n(x,a, fa,dfa, M)\n",
    "println(fx)\n",
    "println(fx_aproximado)\n",
    "println(erro_maximo)"
   ]
  },
  {
   "cell_type": "code",
   "execution_count": 32,
   "id": "02871ec5",
   "metadata": {},
   "outputs": [
    {
     "name": "stdout",
     "output_type": "stream",
     "text": [
      "0.29552020666133955\n",
      "0.29552025\n",
      "1.0124999999999998e-6\n"
     ]
    }
   ],
   "source": [
    "# Exemplo 3\n",
    "# f(x) = sin(x)\n",
    "x = 0.3\n",
    "a = 0\n",
    "fa = 0\n",
    "dfa = [1,0, -1, 0,1]\n",
    "M = 1\n",
    "fx = sin(0.3)\n",
    "fx_aproximado, erro_maximo = taylor_de_ordem_n(x,a, fa,dfa, M)\n",
    "println(fx)\n",
    "println(fx_aproximado)\n",
    "println(erro_maximo)"
   ]
  },
  {
   "cell_type": "code",
   "execution_count": null,
   "id": "c8fb94b0",
   "metadata": {},
   "outputs": [],
   "source": [
    "# 3)Problema: Encontrar raíz aproximadamente (Resolver equações não-lineares) (uma variável e uma equação)\n",
    "# Entrada: uma função f, erro, um intervalo\n",
    "# Saída: um número real x ou aviso que não teve troca de sinal no intervalo\n",
    "# Especificação: f(r)=0 e  |x-r| <= erro"
   ]
  },
  {
   "cell_type": "code",
   "execution_count": 2,
   "id": "1befd544",
   "metadata": {},
   "outputs": [
    {
     "data": {
      "text/plain": [
       "newton (generic function with 1 method)"
      ]
     },
     "execution_count": 2,
     "metadata": {},
     "output_type": "execute_result"
    }
   ],
   "source": [
    "#método de newton\n",
    "function newton(f,derivada,chute)\n",
    "    chute = chute - f(chute)/derivada(chute) # faz x = x-f(x)/f''(x)\n",
    "    return chute #retorna a aproximação\n",
    "end"
   ]
  },
  {
   "cell_type": "code",
   "execution_count": 3,
   "id": "f8396d01",
   "metadata": {},
   "outputs": [
    {
     "data": {
      "text/plain": [
       "true"
      ]
     },
     "execution_count": 3,
     "metadata": {},
     "output_type": "execute_result"
    }
   ],
   "source": [
    "#Exemplo 1\n",
    "\n",
    "#Função desejada e sua derivada\n",
    "f(x) = x^2 - 2\n",
    "derivada1(x)= 2*x\n",
    "\n",
    "#Encontrando os valores x^2=2 e via Metodo de newton \n",
    "v1_verdadeiro = sqrt(2)\n",
    "v1_calculado = newton(f,derivada1,1)\n",
    "\n",
    "#Conferindo se o valor é o esperado\n",
    "norm(v1_verdadeiro-v1_calculado) < 0.1"
   ]
  },
  {
   "cell_type": "code",
   "execution_count": 4,
   "id": "fd89d150",
   "metadata": {},
   "outputs": [
    {
     "data": {
      "text/plain": [
       "true"
      ]
     },
     "execution_count": 4,
     "metadata": {},
     "output_type": "execute_result"
    }
   ],
   "source": [
    "#Exemplo 2\n",
    "\n",
    "#Função desejada e sua derivada\n",
    "g(x) = x^2 - 25\n",
    "derivada2(x) = 2*x\n",
    "\n",
    "#Encontrando os valores x^2=25 e via Metodo de newton \n",
    "v2_verdadeiro = sqrt(25)\n",
    "v2_calculado = newton(g,derivada2,5)\n",
    "\n",
    "#Conferindo se o valor é o esperado\n",
    "norm(v2_verdadeiro-v2_calculado) < 0.1"
   ]
  },
  {
   "cell_type": "code",
   "execution_count": 5,
   "id": "682f6e42",
   "metadata": {},
   "outputs": [
    {
     "data": {
      "text/plain": [
       "true"
      ]
     },
     "execution_count": 5,
     "metadata": {},
     "output_type": "execute_result"
    }
   ],
   "source": [
    "#Exemplo 3\n",
    "\n",
    "#Função desejada e sua derivada\n",
    "h(x) = x^2 - 49\n",
    "derivada2(x) = 2*x\n",
    "\n",
    "#Encontrando os valores x^2=49 e via Metodo de newton \n",
    "v3_verdadeiro = sqrt(49)\n",
    "v3_calculado = newton(h,derivada2,7)\n",
    "\n",
    "#Conferindo se o valor é o esperado\n",
    "norm(v3_verdadeiro-v3_calculado) < 0.1"
   ]
  },
  {
   "cell_type": "code",
   "execution_count": 6,
   "id": "5c9e07e6",
   "metadata": {},
   "outputs": [
    {
     "data": {
      "text/plain": [
       "bissecao (generic function with 1 method)"
      ]
     },
     "execution_count": 6,
     "metadata": {},
     "output_type": "execute_result"
    }
   ],
   "source": [
    "# Dado a e b, tal que f(a) e f(b) tem sinais opostos, retorna x_final, tal\n",
    "# que |x_final - x_c| <= tamanho_final_do_intervalor/2 com f(x_c) = 0\n",
    "function bissecao(f, a, b, erro)\n",
    "    \n",
    "    #função para calcular a média entre dois pontos\n",
    "    function media(x,y)\n",
    "        return (x+y)/2\n",
    "    end\n",
    "    \n",
    "    #função para verificar se temos pontos positivos e negativos na função\n",
    "    function tem_sinais_opostos(f,a,b)\n",
    "        return f(a)/f(b) < 0\n",
    "    end\n",
    "    \n",
    "    #função \n",
    "    function e_raiz(f,a)\n",
    "        return f(a)==0\n",
    "    end\n",
    "    \n",
    "    #Se não tiver sinais opostos, retorna uma mensagem\n",
    "    if !(tem_sinais_opostos(f,a,b))\n",
    "        return \"Os sinais da função não são opostos nesse intervalo\"\n",
    "    end\n",
    "    \n",
    "    #calcula o tamanho do intervalo final a partir do erro passado pelo parametro \n",
    "    tamanho_final_do_intervalo = 2*erro\n",
    "    \n",
    "    #calculando o número de interações, arredondando pra cima, a partir do tamanho do intervalo final\n",
    "    iteracoes = floor(log2((b-a)/tamanho_final_do_intervalo))+1\n",
    "    \n",
    "    \n",
    "    for i=1:iteracoes\n",
    "            m=media(a,b) #calcula a média entre dois pontos\n",
    "            \n",
    "            if e_raiz(f,m)\n",
    "                return m #verifica se m é a raiz que estamos buscando\n",
    "            end\n",
    "            \n",
    "            #procurando onde estão os proximos pontos a partir do novo intervalo dividido pela metade\n",
    "            if tem_sinais_opostos(f,a,m) \n",
    "                b=m \n",
    "            else\n",
    "                a=m\n",
    "            end\n",
    "    end\n",
    "    \n",
    "    #print(\"iterações:\",iteracoes)\n",
    "    x_final = media(a,b) #dividindo o ultimo intervalo pela metade w\n",
    "    return x_final\n",
    "        \n",
    "end"
   ]
  },
  {
   "cell_type": "code",
   "execution_count": 18,
   "id": "759720d6",
   "metadata": {},
   "outputs": [
    {
     "data": {
      "text/plain": [
       "true"
      ]
     },
     "execution_count": 18,
     "metadata": {},
     "output_type": "execute_result"
    }
   ],
   "source": [
    "# Exemplo 1\n",
    "# Vamos calcular a raíz de 10. Sabemos que raíz de 10 pode ser escrita como:\n",
    "g(x) = x^2-10\n",
    "erro = 0.00000001\n",
    "\n",
    "v1_verdadeiro = sqrt(10)\n",
    "v1_calculado = bissecao(g, 0, 20, erro)\n",
    "\n",
    "# Conferindo se o valor é o esperado\n",
    "norm(v1_verdadeiro-v1_calculado) < 0.0000001"
   ]
  },
  {
   "cell_type": "code",
   "execution_count": 19,
   "id": "5cd0626d",
   "metadata": {},
   "outputs": [
    {
     "data": {
      "text/plain": [
       "true"
      ]
     },
     "execution_count": 19,
     "metadata": {},
     "output_type": "execute_result"
    }
   ],
   "source": [
    "# Exemplo 2\n",
    "# Vamos calcular a raíz de 2. Sabemos que raíz de 2 pode ser escrita como:\n",
    "h(x) = x^2-2\n",
    "erro = 0.00000001\n",
    "\n",
    "v2_verdadeiro = sqrt(2)\n",
    "v2_calculado = bissecao(h, 0, 20, erro)\n",
    "\n",
    "# Conferindo se o valor é o esperado\n",
    "norm(v2_verdadeiro-v2_calculado) < 0.0000001"
   ]
  },
  {
   "cell_type": "code",
   "execution_count": 20,
   "id": "3f1b482c",
   "metadata": {},
   "outputs": [
    {
     "data": {
      "text/plain": [
       "true"
      ]
     },
     "execution_count": 20,
     "metadata": {},
     "output_type": "execute_result"
    }
   ],
   "source": [
    "# Exemplo 3\n",
    "# Vamos calcular a raíz cubica de 2. Sabemos que raíz cubica de 2 pode ser escrita como:\n",
    "f(x) = x^3-2\n",
    "erro = 0.00000001\n",
    "\n",
    "v3_verdadeiro = 2^(1/3)\n",
    "v3_calculado = bissecao(f, 0, 20, erro)\n",
    "\n",
    "# Conferindo se o valor é o esperado\n",
    "norm(v3_verdadeiro-v3_calculado) < 0.0000001"
   ]
  },
  {
   "cell_type": "code",
   "execution_count": null,
   "id": "50e766f7",
   "metadata": {},
   "outputs": [],
   "source": [
    "# 4)Problema: Interpolação Polinomial\n",
    "# Entrada: n pontos: (x_0,y_0) … (x_n,y_n)\n",
    "# Saída: um polinômio F(x) com grau no máximo n\n",
    "# Especificação: Para todo 1<=i<=n, F(x_i)=y_i"
   ]
  },
  {
   "cell_type": "code",
   "execution_count": 33,
   "id": "4318ad8f",
   "metadata": {},
   "outputs": [
    {
     "data": {
      "text/plain": [
       "vandermonde (generic function with 1 method)"
      ]
     },
     "execution_count": 33,
     "metadata": {},
     "output_type": "execute_result"
    }
   ],
   "source": [
    "# A função recebe um conjunto de pontos e o grau e retorna matriz de Vandermonde\n",
    "function vandermonde(x,y,grau)\n",
    "    n,=size(y)\n",
    "    V=zeros(n,grau+1)\n",
    "    for i=1:n #linhas\n",
    "        for j=1:(grau+1)\n",
    "            V[i,j]=x[i]^(j-1)\n",
    "        end\n",
    "    end\n",
    "    return V\n",
    "end"
   ]
  },
  {
   "cell_type": "code",
   "execution_count": 34,
   "id": "a3880f54",
   "metadata": {},
   "outputs": [
    {
     "data": {
      "text/plain": [
       "Interpolação_Polinomial_Vandermonde (generic function with 1 method)"
      ]
     },
     "execution_count": 34,
     "metadata": {},
     "output_type": "execute_result"
    }
   ],
   "source": [
    "# Interpolação por Vandermonde \n",
    "# A função recebe um conjunto de pontos x,y e monta a matriz de Vandermond\n",
    "# Em seguida, por minimos quadrados,faz a interpolação desses pontos\n",
    "# Retorna um conjunto de coeficientes de f(x)\n",
    "function Interpolação_Polinomial_Vandermonde(x,y)\n",
    "    #Gera a matriz de vandermonde \n",
    "    n,=size(y)\n",
    "    grau = n - 1\n",
    "    A=zeros(n,grau+1)\n",
    "    f=zeros(n)\n",
    "    A= vandermonde(x,y,grau)\n",
    "    #Determina os coeficientes por minimos quadrados\n",
    "    a = sistema_denso(A'*A,A'*y)\n",
    "    for i=1:n\n",
    "        f[i]=a[i]\n",
    "    end\n",
    "    return f\n",
    "end"
   ]
  },
  {
   "cell_type": "code",
   "execution_count": 35,
   "id": "94bf4445",
   "metadata": {},
   "outputs": [
    {
     "data": {
      "text/plain": [
       "Interpolaçao_Lagrange (generic function with 1 method)"
      ]
     },
     "execution_count": 35,
     "metadata": {},
     "output_type": "execute_result"
    }
   ],
   "source": [
    "# Função calcula o polinômio de Lagrange dado um conjunto de  pontos_x e pontos_y\n",
    "# Retorna o polinomio de Lagrange\n",
    "using Polynomials\n",
    "function Interpolaçao_Lagrange(pontos_x, pontos_y)\n",
    "    grau = length(pontos_x)\n",
    "    # Vamos criar um polinomio de uma variavel\n",
    "    # Inicialemente ele está \"vazio\"\n",
    "    poli_lagrange = Polynomial(0.0)\n",
    "    for i in 1 : grau\n",
    "        # Pegamos os valores de y que vamos utilizar para multplicar (x - x_j)/x_i - x_j)\n",
    "        y = Polynomial(pontos_y[i])\n",
    "        for j in 1 : grau\n",
    "            if i != j\n",
    "                #Toda vez que y multiplica (x - x_j)/x_i - x_j) gera um polinomio\n",
    "                #A soma desses polinomios resulta em polinomio que repsenta y*produtorio((x - x_j)/x_i - x_j) )\n",
    "                #O somatorio desses produtorios resulta no polinimo de lagrange\n",
    "                y = y * Polynomial([-pontos_x[j], 1.0]) / (pontos_x[i] - pontos_x[j])\n",
    "            end\n",
    "        end\n",
    "        # Somamos todos os polinomios e salvamos no poli_lagrange\n",
    "        poli_lagrange += y\n",
    "    end\n",
    "    return poli_lagrange\n",
    "end"
   ]
  },
  {
   "cell_type": "code",
   "execution_count": 36,
   "id": "7c945600",
   "metadata": {},
   "outputs": [
    {
     "name": "stdout",
     "output_type": "stream",
     "text": [
      "[7.0000000000000275, -0.5500000000000035, 0.015000000000000088]\n",
      "7.0 - 0.55*x + 0.015*x^2"
     ]
    }
   ],
   "source": [
    "# Exemplo 1\n",
    "# Devido Unicidade da Interpolação Polinomial, dando os dois metodos resultam no mesmo polinomio \n",
    "x = [10.0, 20, 30]\n",
    "y = [3.0, 2, 4]\n",
    "print(Interpolação_Polinomial_Vandermonde(x,y))\n",
    "print('\\n')\n",
    "print(Interpolaçao_Lagrange(x,y))"
   ]
  },
  {
   "cell_type": "code",
   "execution_count": 37,
   "id": "b1523d07",
   "metadata": {},
   "outputs": [
    {
     "name": "stdout",
     "output_type": "stream",
     "text": [
      "[-4.999999999999995, -1.7890451025388236e-14, 1.0000000000000056]\n",
      "-5.0 + 3.33067e-16*x + 1.0*x^2"
     ]
    }
   ],
   "source": [
    "# Exemplo 2\n",
    "# Devido Unicidade da Interpolação Polinomial, dando os dois metodos resultam no mesmo polinomio\n",
    "x=[0,1,3]\n",
    "y=[-5,-4,4]\n",
    "print(Interpolação_Polinomial_Vandermonde(x,y))\n",
    "print('\\n')\n",
    "print(Interpolaçao_Lagrange(x,y))"
   ]
  },
  {
   "cell_type": "code",
   "execution_count": 38,
   "id": "d3074284",
   "metadata": {},
   "outputs": [
    {
     "name": "stdout",
     "output_type": "stream",
     "text": [
      "[-4.999999999999967, 2.058333333333157, -1.2999999999999035, 0.24166666666665407]\n",
      "-5.0 + 2.05833*x - 1.3*x^2 + 0.241667*x^3"
     ]
    }
   ],
   "source": [
    "# Exemplo 3\n",
    "# Devido Unicidade da Interpolação Polinomial, dando os dois metodos resultam no mesmo polinomio\n",
    "x=[0,1,3,5]\n",
    "y=[-5,-4,-4,3]\n",
    "print(Interpolação_Polinomial_Vandermonde(x,y))\n",
    "print('\\n')\n",
    "print(Interpolaçao_Lagrange(x,y))"
   ]
  },
  {
   "cell_type": "code",
   "execution_count": null,
   "id": "bcebe2c7",
   "metadata": {},
   "outputs": [],
   "source": [
    "# 5)Problema: Regressão Polinomial (“Interpolação aproximada”)\n",
    "# Entrada: n pontos: (x_0,y_0) … (x_n,y_n) e um natural k\n",
    "# Saída: um polinômio F(x) com grau no máximo k\n",
    "# Especificação: Para todo 1<=i<=n, F(x_i) aproximadamente y_i"
   ]
  },
  {
   "cell_type": "code",
   "execution_count": 39,
   "id": "6f839eef",
   "metadata": {},
   "outputs": [
    {
     "data": {
      "text/plain": [
       "regressão_coeficientes_lineares (generic function with 1 method)"
      ]
     },
     "execution_count": 39,
     "metadata": {},
     "output_type": "execute_result"
    }
   ],
   "source": [
    "# Faca regressão polinomial dado um conjunto de pontos x e y e retorna um polinomio de grau k\n",
    "function regressão_coeficientes_lineares(x,y,k)\n",
    "    V=vandermonde(x,y,k)\n",
    "    c=sistema_denso(V'*V,V'*y) #mínimos quadrados\n",
    "    f(x) =sum(c[i+1]*x^i for i in 0:k)\n",
    "    return f\n",
    "end"
   ]
  },
  {
   "cell_type": "code",
   "execution_count": 40,
   "id": "eca8ba36",
   "metadata": {},
   "outputs": [
    {
     "data": {
      "text/plain": [
       "(::var\"#f#4\"{Int64, Matrix{Float64}}) (generic function with 1 method)"
      ]
     },
     "execution_count": 40,
     "metadata": {},
     "output_type": "execute_result"
    }
   ],
   "source": [
    "# Exemplo 1\n",
    "n = 30\n",
    "x = range(0,1,length=n)\n",
    "y = -5*x.^5 +4*x.^4 -3*x.^3 +2*x.^2 - 1*x.^1 .+1  + randn(n)*0.3 #ruido\n",
    "polinomio = regressão_coeficientes_lineares(x,y,30)"
   ]
  },
  {
   "cell_type": "code",
   "execution_count": 41,
   "id": "c219ac15",
   "metadata": {},
   "outputs": [
    {
     "data": {
      "image/svg+xml": [
       "<?xml version=\"1.0\" encoding=\"utf-8\"?>\n",
       "<svg xmlns=\"http://www.w3.org/2000/svg\" xmlns:xlink=\"http://www.w3.org/1999/xlink\" width=\"600\" height=\"400\" viewBox=\"0 0 2400 1600\">\n",
       "<defs>\n",
       "  <clipPath id=\"clip350\">\n",
       "    <rect x=\"0\" y=\"0\" width=\"2400\" height=\"1600\"/>\n",
       "  </clipPath>\n",
       "</defs>\n",
       "<path clip-path=\"url(#clip350)\" d=\"\n",
       "M0 1600 L2400 1600 L2400 0 L0 0  Z\n",
       "  \" fill=\"#ffffff\" fill-rule=\"evenodd\" fill-opacity=\"1\"/>\n",
       "<defs>\n",
       "  <clipPath id=\"clip351\">\n",
       "    <rect x=\"480\" y=\"0\" width=\"1681\" height=\"1600\"/>\n",
       "  </clipPath>\n",
       "</defs>\n",
       "<path clip-path=\"url(#clip350)\" d=\"\n",
       "M147.478 1486.45 L2352.76 1486.45 L2352.76 47.2441 L147.478 47.2441  Z\n",
       "  \" fill=\"#ffffff\" fill-rule=\"evenodd\" fill-opacity=\"1\"/>\n",
       "<defs>\n",
       "  <clipPath id=\"clip352\">\n",
       "    <rect x=\"147\" y=\"47\" width=\"2206\" height=\"1440\"/>\n",
       "  </clipPath>\n",
       "</defs>\n",
       "<polyline clip-path=\"url(#clip352)\" style=\"stroke:#000000; stroke-linecap:butt; stroke-linejoin:round; stroke-width:2; stroke-opacity:0.1; fill:none\" points=\"\n",
       "  209.891,1486.45 209.891,47.2441 \n",
       "  \"/>\n",
       "<polyline clip-path=\"url(#clip352)\" style=\"stroke:#000000; stroke-linecap:butt; stroke-linejoin:round; stroke-width:2; stroke-opacity:0.1; fill:none\" points=\"\n",
       "  730.004,1486.45 730.004,47.2441 \n",
       "  \"/>\n",
       "<polyline clip-path=\"url(#clip352)\" style=\"stroke:#000000; stroke-linecap:butt; stroke-linejoin:round; stroke-width:2; stroke-opacity:0.1; fill:none\" points=\"\n",
       "  1250.12,1486.45 1250.12,47.2441 \n",
       "  \"/>\n",
       "<polyline clip-path=\"url(#clip352)\" style=\"stroke:#000000; stroke-linecap:butt; stroke-linejoin:round; stroke-width:2; stroke-opacity:0.1; fill:none\" points=\"\n",
       "  1770.23,1486.45 1770.23,47.2441 \n",
       "  \"/>\n",
       "<polyline clip-path=\"url(#clip352)\" style=\"stroke:#000000; stroke-linecap:butt; stroke-linejoin:round; stroke-width:2; stroke-opacity:0.1; fill:none\" points=\"\n",
       "  2290.34,1486.45 2290.34,47.2441 \n",
       "  \"/>\n",
       "<polyline clip-path=\"url(#clip350)\" style=\"stroke:#000000; stroke-linecap:butt; stroke-linejoin:round; stroke-width:4; stroke-opacity:1; fill:none\" points=\"\n",
       "  147.478,1486.45 2352.76,1486.45 \n",
       "  \"/>\n",
       "<polyline clip-path=\"url(#clip350)\" style=\"stroke:#000000; stroke-linecap:butt; stroke-linejoin:round; stroke-width:4; stroke-opacity:1; fill:none\" points=\"\n",
       "  209.891,1486.45 209.891,1467.55 \n",
       "  \"/>\n",
       "<polyline clip-path=\"url(#clip350)\" style=\"stroke:#000000; stroke-linecap:butt; stroke-linejoin:round; stroke-width:4; stroke-opacity:1; fill:none\" points=\"\n",
       "  730.004,1486.45 730.004,1467.55 \n",
       "  \"/>\n",
       "<polyline clip-path=\"url(#clip350)\" style=\"stroke:#000000; stroke-linecap:butt; stroke-linejoin:round; stroke-width:4; stroke-opacity:1; fill:none\" points=\"\n",
       "  1250.12,1486.45 1250.12,1467.55 \n",
       "  \"/>\n",
       "<polyline clip-path=\"url(#clip350)\" style=\"stroke:#000000; stroke-linecap:butt; stroke-linejoin:round; stroke-width:4; stroke-opacity:1; fill:none\" points=\"\n",
       "  1770.23,1486.45 1770.23,1467.55 \n",
       "  \"/>\n",
       "<polyline clip-path=\"url(#clip350)\" style=\"stroke:#000000; stroke-linecap:butt; stroke-linejoin:round; stroke-width:4; stroke-opacity:1; fill:none\" points=\"\n",
       "  2290.34,1486.45 2290.34,1467.55 \n",
       "  \"/>\n",
       "<path clip-path=\"url(#clip350)\" d=\"M172.195 1517.37 Q168.584 1517.37 166.755 1520.93 Q164.95 1524.47 164.95 1531.6 Q164.95 1538.71 166.755 1542.27 Q168.584 1545.82 172.195 1545.82 Q175.829 1545.82 177.635 1542.27 Q179.463 1538.71 179.463 1531.6 Q179.463 1524.47 177.635 1520.93 Q175.829 1517.37 172.195 1517.37 M172.195 1513.66 Q178.005 1513.66 181.061 1518.27 Q184.139 1522.85 184.139 1531.6 Q184.139 1540.33 181.061 1544.94 Q178.005 1549.52 172.195 1549.52 Q166.385 1549.52 163.306 1544.94 Q160.251 1540.33 160.251 1531.6 Q160.251 1522.85 163.306 1518.27 Q166.385 1513.66 172.195 1513.66 Z\" fill=\"#000000\" fill-rule=\"evenodd\" fill-opacity=\"1\" /><path clip-path=\"url(#clip350)\" d=\"M192.357 1542.97 L197.241 1542.97 L197.241 1548.85 L192.357 1548.85 L192.357 1542.97 Z\" fill=\"#000000\" fill-rule=\"evenodd\" fill-opacity=\"1\" /><path clip-path=\"url(#clip350)\" d=\"M217.426 1517.37 Q213.815 1517.37 211.986 1520.93 Q210.181 1524.47 210.181 1531.6 Q210.181 1538.71 211.986 1542.27 Q213.815 1545.82 217.426 1545.82 Q221.06 1545.82 222.866 1542.27 Q224.695 1538.71 224.695 1531.6 Q224.695 1524.47 222.866 1520.93 Q221.06 1517.37 217.426 1517.37 M217.426 1513.66 Q223.236 1513.66 226.292 1518.27 Q229.371 1522.85 229.371 1531.6 Q229.371 1540.33 226.292 1544.94 Q223.236 1549.52 217.426 1549.52 Q211.616 1549.52 208.537 1544.94 Q205.482 1540.33 205.482 1531.6 Q205.482 1522.85 208.537 1518.27 Q211.616 1513.66 217.426 1513.66 Z\" fill=\"#000000\" fill-rule=\"evenodd\" fill-opacity=\"1\" /><path clip-path=\"url(#clip350)\" d=\"M247.588 1517.37 Q243.977 1517.37 242.148 1520.93 Q240.343 1524.47 240.343 1531.6 Q240.343 1538.71 242.148 1542.27 Q243.977 1545.82 247.588 1545.82 Q251.222 1545.82 253.028 1542.27 Q254.856 1538.71 254.856 1531.6 Q254.856 1524.47 253.028 1520.93 Q251.222 1517.37 247.588 1517.37 M247.588 1513.66 Q253.398 1513.66 256.454 1518.27 Q259.532 1522.85 259.532 1531.6 Q259.532 1540.33 256.454 1544.94 Q253.398 1549.52 247.588 1549.52 Q241.778 1549.52 238.699 1544.94 Q235.644 1540.33 235.644 1531.6 Q235.644 1522.85 238.699 1518.27 Q241.778 1513.66 247.588 1513.66 Z\" fill=\"#000000\" fill-rule=\"evenodd\" fill-opacity=\"1\" /><path clip-path=\"url(#clip350)\" d=\"M692.805 1517.37 Q689.194 1517.37 687.366 1520.93 Q685.56 1524.47 685.56 1531.6 Q685.56 1538.71 687.366 1542.27 Q689.194 1545.82 692.805 1545.82 Q696.44 1545.82 698.245 1542.27 Q700.074 1538.71 700.074 1531.6 Q700.074 1524.47 698.245 1520.93 Q696.44 1517.37 692.805 1517.37 M692.805 1513.66 Q698.615 1513.66 701.671 1518.27 Q704.75 1522.85 704.75 1531.6 Q704.75 1540.33 701.671 1544.94 Q698.615 1549.52 692.805 1549.52 Q686.995 1549.52 683.916 1544.94 Q680.861 1540.33 680.861 1531.6 Q680.861 1522.85 683.916 1518.27 Q686.995 1513.66 692.805 1513.66 Z\" fill=\"#000000\" fill-rule=\"evenodd\" fill-opacity=\"1\" /><path clip-path=\"url(#clip350)\" d=\"M712.967 1542.97 L717.851 1542.97 L717.851 1548.85 L712.967 1548.85 L712.967 1542.97 Z\" fill=\"#000000\" fill-rule=\"evenodd\" fill-opacity=\"1\" /><path clip-path=\"url(#clip350)\" d=\"M732.064 1544.91 L748.384 1544.91 L748.384 1548.85 L726.439 1548.85 L726.439 1544.91 Q729.101 1542.16 733.685 1537.53 Q738.291 1532.88 739.472 1531.53 Q741.717 1529.01 742.597 1527.27 Q743.499 1525.51 743.499 1523.82 Q743.499 1521.07 741.555 1519.33 Q739.634 1517.6 736.532 1517.6 Q734.333 1517.6 731.879 1518.36 Q729.449 1519.13 726.671 1520.68 L726.671 1515.95 Q729.495 1514.82 731.949 1514.24 Q734.402 1513.66 736.439 1513.66 Q741.81 1513.66 745.004 1516.35 Q748.199 1519.03 748.199 1523.52 Q748.199 1525.65 747.388 1527.57 Q746.601 1529.47 744.495 1532.07 Q743.916 1532.74 740.814 1535.95 Q737.712 1539.15 732.064 1544.91 Z\" fill=\"#000000\" fill-rule=\"evenodd\" fill-opacity=\"1\" /><path clip-path=\"url(#clip350)\" d=\"M758.245 1514.29 L776.601 1514.29 L776.601 1518.22 L762.527 1518.22 L762.527 1526.7 Q763.546 1526.35 764.564 1526.19 Q765.583 1526 766.601 1526 Q772.388 1526 775.768 1529.17 Q779.147 1532.34 779.147 1537.76 Q779.147 1543.34 775.675 1546.44 Q772.203 1549.52 765.884 1549.52 Q763.708 1549.52 761.439 1549.15 Q759.194 1548.78 756.786 1548.04 L756.786 1543.34 Q758.87 1544.47 761.092 1545.03 Q763.314 1545.58 765.791 1545.58 Q769.796 1545.58 772.134 1543.48 Q774.472 1541.37 774.472 1537.76 Q774.472 1534.15 772.134 1532.04 Q769.796 1529.94 765.791 1529.94 Q763.916 1529.94 762.041 1530.35 Q760.189 1530.77 758.245 1531.65 L758.245 1514.29 Z\" fill=\"#000000\" fill-rule=\"evenodd\" fill-opacity=\"1\" /><path clip-path=\"url(#clip350)\" d=\"M1212.42 1517.37 Q1208.81 1517.37 1206.98 1520.93 Q1205.18 1524.47 1205.18 1531.6 Q1205.18 1538.71 1206.98 1542.27 Q1208.81 1545.82 1212.42 1545.82 Q1216.05 1545.82 1217.86 1542.27 Q1219.69 1538.71 1219.69 1531.6 Q1219.69 1524.47 1217.86 1520.93 Q1216.05 1517.37 1212.42 1517.37 M1212.42 1513.66 Q1218.23 1513.66 1221.29 1518.27 Q1224.36 1522.85 1224.36 1531.6 Q1224.36 1540.33 1221.29 1544.94 Q1218.23 1549.52 1212.42 1549.52 Q1206.61 1549.52 1203.53 1544.94 Q1200.48 1540.33 1200.48 1531.6 Q1200.48 1522.85 1203.53 1518.27 Q1206.61 1513.66 1212.42 1513.66 Z\" fill=\"#000000\" fill-rule=\"evenodd\" fill-opacity=\"1\" /><path clip-path=\"url(#clip350)\" d=\"M1232.58 1542.97 L1237.47 1542.97 L1237.47 1548.85 L1232.58 1548.85 L1232.58 1542.97 Z\" fill=\"#000000\" fill-rule=\"evenodd\" fill-opacity=\"1\" /><path clip-path=\"url(#clip350)\" d=\"M1247.7 1514.29 L1266.05 1514.29 L1266.05 1518.22 L1251.98 1518.22 L1251.98 1526.7 Q1253 1526.35 1254.02 1526.19 Q1255.04 1526 1256.05 1526 Q1261.84 1526 1265.22 1529.17 Q1268.6 1532.34 1268.6 1537.76 Q1268.6 1543.34 1265.13 1546.44 Q1261.66 1549.52 1255.34 1549.52 Q1253.16 1549.52 1250.89 1549.15 Q1248.65 1548.78 1246.24 1548.04 L1246.24 1543.34 Q1248.32 1544.47 1250.55 1545.03 Q1252.77 1545.58 1255.24 1545.58 Q1259.25 1545.58 1261.59 1543.48 Q1263.92 1541.37 1263.92 1537.76 Q1263.92 1534.15 1261.59 1532.04 Q1259.25 1529.94 1255.24 1529.94 Q1253.37 1529.94 1251.49 1530.35 Q1249.64 1530.77 1247.7 1531.65 L1247.7 1514.29 Z\" fill=\"#000000\" fill-rule=\"evenodd\" fill-opacity=\"1\" /><path clip-path=\"url(#clip350)\" d=\"M1287.81 1517.37 Q1284.2 1517.37 1282.37 1520.93 Q1280.57 1524.47 1280.57 1531.6 Q1280.57 1538.71 1282.37 1542.27 Q1284.2 1545.82 1287.81 1545.82 Q1291.45 1545.82 1293.25 1542.27 Q1295.08 1538.71 1295.08 1531.6 Q1295.08 1524.47 1293.25 1520.93 Q1291.45 1517.37 1287.81 1517.37 M1287.81 1513.66 Q1293.62 1513.66 1296.68 1518.27 Q1299.76 1522.85 1299.76 1531.6 Q1299.76 1540.33 1296.68 1544.94 Q1293.62 1549.52 1287.81 1549.52 Q1282 1549.52 1278.92 1544.94 Q1275.87 1540.33 1275.87 1531.6 Q1275.87 1522.85 1278.92 1518.27 Q1282 1513.66 1287.81 1513.66 Z\" fill=\"#000000\" fill-rule=\"evenodd\" fill-opacity=\"1\" /><path clip-path=\"url(#clip350)\" d=\"M1733.03 1517.37 Q1729.42 1517.37 1727.59 1520.93 Q1725.79 1524.47 1725.79 1531.6 Q1725.79 1538.71 1727.59 1542.27 Q1729.42 1545.82 1733.03 1545.82 Q1736.67 1545.82 1738.47 1542.27 Q1740.3 1538.71 1740.3 1531.6 Q1740.3 1524.47 1738.47 1520.93 Q1736.67 1517.37 1733.03 1517.37 M1733.03 1513.66 Q1738.84 1513.66 1741.9 1518.27 Q1744.98 1522.85 1744.98 1531.6 Q1744.98 1540.33 1741.9 1544.94 Q1738.84 1549.52 1733.03 1549.52 Q1727.22 1549.52 1724.14 1544.94 Q1721.09 1540.33 1721.09 1531.6 Q1721.09 1522.85 1724.14 1518.27 Q1727.22 1513.66 1733.03 1513.66 Z\" fill=\"#000000\" fill-rule=\"evenodd\" fill-opacity=\"1\" /><path clip-path=\"url(#clip350)\" d=\"M1753.19 1542.97 L1758.08 1542.97 L1758.08 1548.85 L1753.19 1548.85 L1753.19 1542.97 Z\" fill=\"#000000\" fill-rule=\"evenodd\" fill-opacity=\"1\" /><path clip-path=\"url(#clip350)\" d=\"M1767.08 1514.29 L1789.3 1514.29 L1789.3 1516.28 L1776.76 1548.85 L1771.87 1548.85 L1783.68 1518.22 L1767.08 1518.22 L1767.08 1514.29 Z\" fill=\"#000000\" fill-rule=\"evenodd\" fill-opacity=\"1\" /><path clip-path=\"url(#clip350)\" d=\"M1798.47 1514.29 L1816.83 1514.29 L1816.83 1518.22 L1802.75 1518.22 L1802.75 1526.7 Q1803.77 1526.35 1804.79 1526.19 Q1805.81 1526 1806.83 1526 Q1812.61 1526 1815.99 1529.17 Q1819.37 1532.34 1819.37 1537.76 Q1819.37 1543.34 1815.9 1546.44 Q1812.43 1549.52 1806.11 1549.52 Q1803.93 1549.52 1801.66 1549.15 Q1799.42 1548.78 1797.01 1548.04 L1797.01 1543.34 Q1799.1 1544.47 1801.32 1545.03 Q1803.54 1545.58 1806.02 1545.58 Q1810.02 1545.58 1812.36 1543.48 Q1814.7 1541.37 1814.7 1537.76 Q1814.7 1534.15 1812.36 1532.04 Q1810.02 1529.94 1806.02 1529.94 Q1804.14 1529.94 1802.27 1530.35 Q1800.41 1530.77 1798.47 1531.65 L1798.47 1514.29 Z\" fill=\"#000000\" fill-rule=\"evenodd\" fill-opacity=\"1\" /><path clip-path=\"url(#clip350)\" d=\"M2242.41 1544.91 L2250.05 1544.91 L2250.05 1518.55 L2241.74 1520.21 L2241.74 1515.95 L2250.01 1514.29 L2254.68 1514.29 L2254.68 1544.91 L2262.32 1544.91 L2262.32 1548.85 L2242.41 1548.85 L2242.41 1544.91 Z\" fill=\"#000000\" fill-rule=\"evenodd\" fill-opacity=\"1\" /><path clip-path=\"url(#clip350)\" d=\"M2271.77 1542.97 L2276.65 1542.97 L2276.65 1548.85 L2271.77 1548.85 L2271.77 1542.97 Z\" fill=\"#000000\" fill-rule=\"evenodd\" fill-opacity=\"1\" /><path clip-path=\"url(#clip350)\" d=\"M2296.84 1517.37 Q2293.22 1517.37 2291.4 1520.93 Q2289.59 1524.47 2289.59 1531.6 Q2289.59 1538.71 2291.4 1542.27 Q2293.22 1545.82 2296.84 1545.82 Q2300.47 1545.82 2302.28 1542.27 Q2304.1 1538.71 2304.1 1531.6 Q2304.1 1524.47 2302.28 1520.93 Q2300.47 1517.37 2296.84 1517.37 M2296.84 1513.66 Q2302.65 1513.66 2305.7 1518.27 Q2308.78 1522.85 2308.78 1531.6 Q2308.78 1540.33 2305.7 1544.94 Q2302.65 1549.52 2296.84 1549.52 Q2291.03 1549.52 2287.95 1544.94 Q2284.89 1540.33 2284.89 1531.6 Q2284.89 1522.85 2287.95 1518.27 Q2291.03 1513.66 2296.84 1513.66 Z\" fill=\"#000000\" fill-rule=\"evenodd\" fill-opacity=\"1\" /><path clip-path=\"url(#clip350)\" d=\"M2327 1517.37 Q2323.39 1517.37 2321.56 1520.93 Q2319.75 1524.47 2319.75 1531.6 Q2319.75 1538.71 2321.56 1542.27 Q2323.39 1545.82 2327 1545.82 Q2330.63 1545.82 2332.44 1542.27 Q2334.27 1538.71 2334.27 1531.6 Q2334.27 1524.47 2332.44 1520.93 Q2330.63 1517.37 2327 1517.37 M2327 1513.66 Q2332.81 1513.66 2335.86 1518.27 Q2338.94 1522.85 2338.94 1531.6 Q2338.94 1540.33 2335.86 1544.94 Q2332.81 1549.52 2327 1549.52 Q2321.19 1549.52 2318.11 1544.94 Q2315.05 1540.33 2315.05 1531.6 Q2315.05 1522.85 2318.11 1518.27 Q2321.19 1513.66 2327 1513.66 Z\" fill=\"#000000\" fill-rule=\"evenodd\" fill-opacity=\"1\" /><polyline clip-path=\"url(#clip352)\" style=\"stroke:#000000; stroke-linecap:butt; stroke-linejoin:round; stroke-width:2; stroke-opacity:0.1; fill:none\" points=\"\n",
       "  147.478,1445.72 2352.76,1445.72 \n",
       "  \"/>\n",
       "<polyline clip-path=\"url(#clip352)\" style=\"stroke:#000000; stroke-linecap:butt; stroke-linejoin:round; stroke-width:2; stroke-opacity:0.1; fill:none\" points=\"\n",
       "  147.478,1106.28 2352.76,1106.28 \n",
       "  \"/>\n",
       "<polyline clip-path=\"url(#clip352)\" style=\"stroke:#000000; stroke-linecap:butt; stroke-linejoin:round; stroke-width:2; stroke-opacity:0.1; fill:none\" points=\"\n",
       "  147.478,766.846 2352.76,766.846 \n",
       "  \"/>\n",
       "<polyline clip-path=\"url(#clip352)\" style=\"stroke:#000000; stroke-linecap:butt; stroke-linejoin:round; stroke-width:2; stroke-opacity:0.1; fill:none\" points=\"\n",
       "  147.478,427.411 2352.76,427.411 \n",
       "  \"/>\n",
       "<polyline clip-path=\"url(#clip352)\" style=\"stroke:#000000; stroke-linecap:butt; stroke-linejoin:round; stroke-width:2; stroke-opacity:0.1; fill:none\" points=\"\n",
       "  147.478,87.9763 2352.76,87.9763 \n",
       "  \"/>\n",
       "<polyline clip-path=\"url(#clip350)\" style=\"stroke:#000000; stroke-linecap:butt; stroke-linejoin:round; stroke-width:4; stroke-opacity:1; fill:none\" points=\"\n",
       "  147.478,1486.45 147.478,47.2441 \n",
       "  \"/>\n",
       "<polyline clip-path=\"url(#clip350)\" style=\"stroke:#000000; stroke-linecap:butt; stroke-linejoin:round; stroke-width:4; stroke-opacity:1; fill:none\" points=\"\n",
       "  147.478,1445.72 166.376,1445.72 \n",
       "  \"/>\n",
       "<polyline clip-path=\"url(#clip350)\" style=\"stroke:#000000; stroke-linecap:butt; stroke-linejoin:round; stroke-width:4; stroke-opacity:1; fill:none\" points=\"\n",
       "  147.478,1106.28 166.376,1106.28 \n",
       "  \"/>\n",
       "<polyline clip-path=\"url(#clip350)\" style=\"stroke:#000000; stroke-linecap:butt; stroke-linejoin:round; stroke-width:4; stroke-opacity:1; fill:none\" points=\"\n",
       "  147.478,766.846 166.376,766.846 \n",
       "  \"/>\n",
       "<polyline clip-path=\"url(#clip350)\" style=\"stroke:#000000; stroke-linecap:butt; stroke-linejoin:round; stroke-width:4; stroke-opacity:1; fill:none\" points=\"\n",
       "  147.478,427.411 166.376,427.411 \n",
       "  \"/>\n",
       "<polyline clip-path=\"url(#clip350)\" style=\"stroke:#000000; stroke-linecap:butt; stroke-linejoin:round; stroke-width:4; stroke-opacity:1; fill:none\" points=\"\n",
       "  147.478,87.9763 166.376,87.9763 \n",
       "  \"/>\n",
       "<path clip-path=\"url(#clip350)\" d=\"M51.3625 1446.17 L81.0383 1446.17 L81.0383 1450.1 L51.3625 1450.1 L51.3625 1446.17 Z\" fill=\"#000000\" fill-rule=\"evenodd\" fill-opacity=\"1\" /><path clip-path=\"url(#clip350)\" d=\"M95.1586 1459.06 L111.478 1459.06 L111.478 1463 L89.5336 1463 L89.5336 1459.06 Q92.1956 1456.31 96.7789 1451.68 Q101.385 1447.02 102.566 1445.68 Q104.811 1443.16 105.691 1441.42 Q106.594 1439.66 106.594 1437.97 Q106.594 1435.22 104.649 1433.48 Q102.728 1431.75 99.6261 1431.75 Q97.4271 1431.75 94.9734 1432.51 Q92.5428 1433.27 89.7651 1434.82 L89.7651 1430.1 Q92.5891 1428.97 95.0428 1428.39 Q97.4965 1427.81 99.5335 1427.81 Q104.904 1427.81 108.098 1430.5 Q111.293 1433.18 111.293 1437.67 Q111.293 1439.8 110.483 1441.72 Q109.696 1443.62 107.589 1446.21 Q107.01 1446.88 103.909 1450.1 Q100.807 1453.3 95.1586 1459.06 Z\" fill=\"#000000\" fill-rule=\"evenodd\" fill-opacity=\"1\" /><path clip-path=\"url(#clip350)\" d=\"M50.9921 1106.73 L80.6679 1106.73 L80.6679 1110.67 L50.9921 1110.67 L50.9921 1106.73 Z\" fill=\"#000000\" fill-rule=\"evenodd\" fill-opacity=\"1\" /><path clip-path=\"url(#clip350)\" d=\"M91.5706 1119.63 L99.2095 1119.63 L99.2095 1093.26 L90.8993 1094.93 L90.8993 1090.67 L99.1632 1089 L103.839 1089 L103.839 1119.63 L111.478 1119.63 L111.478 1123.56 L91.5706 1123.56 L91.5706 1119.63 Z\" fill=\"#000000\" fill-rule=\"evenodd\" fill-opacity=\"1\" /><path clip-path=\"url(#clip350)\" d=\"M99.5335 752.645 Q95.9224 752.645 94.0937 756.209 Q92.2882 759.751 92.2882 766.881 Q92.2882 773.987 94.0937 777.552 Q95.9224 781.094 99.5335 781.094 Q103.168 781.094 104.973 777.552 Q106.802 773.987 106.802 766.881 Q106.802 759.751 104.973 756.209 Q103.168 752.645 99.5335 752.645 M99.5335 748.941 Q105.344 748.941 108.399 753.547 Q111.478 758.131 111.478 766.881 Q111.478 775.608 108.399 780.214 Q105.344 784.797 99.5335 784.797 Q93.7234 784.797 90.6447 780.214 Q87.5892 775.608 87.5892 766.881 Q87.5892 758.131 90.6447 753.547 Q93.7234 748.941 99.5335 748.941 Z\" fill=\"#000000\" fill-rule=\"evenodd\" fill-opacity=\"1\" /><path clip-path=\"url(#clip350)\" d=\"M91.5706 440.756 L99.2095 440.756 L99.2095 414.39 L90.8993 416.057 L90.8993 411.798 L99.1632 410.131 L103.839 410.131 L103.839 440.756 L111.478 440.756 L111.478 444.691 L91.5706 444.691 L91.5706 440.756 Z\" fill=\"#000000\" fill-rule=\"evenodd\" fill-opacity=\"1\" /><path clip-path=\"url(#clip350)\" d=\"M95.1586 101.321 L111.478 101.321 L111.478 105.256 L89.5336 105.256 L89.5336 101.321 Q92.1956 98.5665 96.7789 93.9369 Q101.385 89.2841 102.566 87.9416 Q104.811 85.4184 105.691 83.6823 Q106.594 81.9231 106.594 80.2333 Q106.594 77.4786 104.649 75.7425 Q102.728 74.0064 99.6261 74.0064 Q97.4271 74.0064 94.9734 74.7703 Q92.5428 75.5342 89.7651 77.0851 L89.7651 72.3629 Q92.5891 71.2287 95.0428 70.65 Q97.4965 70.0713 99.5335 70.0713 Q104.904 70.0713 108.098 72.7565 Q111.293 75.4416 111.293 79.9323 Q111.293 82.062 110.483 83.9832 Q109.696 85.8814 107.589 88.474 Q107.01 89.1453 103.909 92.3628 Q100.807 95.5573 95.1586 101.321 Z\" fill=\"#000000\" fill-rule=\"evenodd\" fill-opacity=\"1\" /><circle clip-path=\"url(#clip352)\" cx=\"209.891\" cy=\"386.781\" r=\"14\" fill=\"#009af9\" fill-rule=\"evenodd\" fill-opacity=\"1\" stroke=\"#000000\" stroke-opacity=\"1\" stroke-width=\"3.2\"/>\n",
       "<circle clip-path=\"url(#clip352)\" cx=\"281.631\" cy=\"293.454\" r=\"14\" fill=\"#009af9\" fill-rule=\"evenodd\" fill-opacity=\"1\" stroke=\"#000000\" stroke-opacity=\"1\" stroke-width=\"3.2\"/>\n",
       "<circle clip-path=\"url(#clip352)\" cx=\"353.371\" cy=\"649.096\" r=\"14\" fill=\"#009af9\" fill-rule=\"evenodd\" fill-opacity=\"1\" stroke=\"#000000\" stroke-opacity=\"1\" stroke-width=\"3.2\"/>\n",
       "<circle clip-path=\"url(#clip352)\" cx=\"425.111\" cy=\"405.237\" r=\"14\" fill=\"#009af9\" fill-rule=\"evenodd\" fill-opacity=\"1\" stroke=\"#000000\" stroke-opacity=\"1\" stroke-width=\"3.2\"/>\n",
       "<circle clip-path=\"url(#clip352)\" cx=\"496.85\" cy=\"559.271\" r=\"14\" fill=\"#009af9\" fill-rule=\"evenodd\" fill-opacity=\"1\" stroke=\"#000000\" stroke-opacity=\"1\" stroke-width=\"3.2\"/>\n",
       "<circle clip-path=\"url(#clip352)\" cx=\"568.59\" cy=\"397.983\" r=\"14\" fill=\"#009af9\" fill-rule=\"evenodd\" fill-opacity=\"1\" stroke=\"#000000\" stroke-opacity=\"1\" stroke-width=\"3.2\"/>\n",
       "<circle clip-path=\"url(#clip352)\" cx=\"640.33\" cy=\"549.958\" r=\"14\" fill=\"#009af9\" fill-rule=\"evenodd\" fill-opacity=\"1\" stroke=\"#000000\" stroke-opacity=\"1\" stroke-width=\"3.2\"/>\n",
       "<circle clip-path=\"url(#clip352)\" cx=\"712.069\" cy=\"699.338\" r=\"14\" fill=\"#009af9\" fill-rule=\"evenodd\" fill-opacity=\"1\" stroke=\"#000000\" stroke-opacity=\"1\" stroke-width=\"3.2\"/>\n",
       "<circle clip-path=\"url(#clip352)\" cx=\"783.809\" cy=\"362.352\" r=\"14\" fill=\"#009af9\" fill-rule=\"evenodd\" fill-opacity=\"1\" stroke=\"#000000\" stroke-opacity=\"1\" stroke-width=\"3.2\"/>\n",
       "<circle clip-path=\"url(#clip352)\" cx=\"855.549\" cy=\"565.678\" r=\"14\" fill=\"#009af9\" fill-rule=\"evenodd\" fill-opacity=\"1\" stroke=\"#000000\" stroke-opacity=\"1\" stroke-width=\"3.2\"/>\n",
       "<circle clip-path=\"url(#clip352)\" cx=\"927.288\" cy=\"428.743\" r=\"14\" fill=\"#009af9\" fill-rule=\"evenodd\" fill-opacity=\"1\" stroke=\"#000000\" stroke-opacity=\"1\" stroke-width=\"3.2\"/>\n",
       "<circle clip-path=\"url(#clip352)\" cx=\"999.028\" cy=\"559.156\" r=\"14\" fill=\"#009af9\" fill-rule=\"evenodd\" fill-opacity=\"1\" stroke=\"#000000\" stroke-opacity=\"1\" stroke-width=\"3.2\"/>\n",
       "<circle clip-path=\"url(#clip352)\" cx=\"1070.77\" cy=\"549.028\" r=\"14\" fill=\"#009af9\" fill-rule=\"evenodd\" fill-opacity=\"1\" stroke=\"#000000\" stroke-opacity=\"1\" stroke-width=\"3.2\"/>\n",
       "<circle clip-path=\"url(#clip352)\" cx=\"1142.51\" cy=\"363.983\" r=\"14\" fill=\"#009af9\" fill-rule=\"evenodd\" fill-opacity=\"1\" stroke=\"#000000\" stroke-opacity=\"1\" stroke-width=\"3.2\"/>\n",
       "<circle clip-path=\"url(#clip352)\" cx=\"1214.25\" cy=\"458.94\" r=\"14\" fill=\"#009af9\" fill-rule=\"evenodd\" fill-opacity=\"1\" stroke=\"#000000\" stroke-opacity=\"1\" stroke-width=\"3.2\"/>\n",
       "<circle clip-path=\"url(#clip352)\" cx=\"1285.99\" cy=\"406.286\" r=\"14\" fill=\"#009af9\" fill-rule=\"evenodd\" fill-opacity=\"1\" stroke=\"#000000\" stroke-opacity=\"1\" stroke-width=\"3.2\"/>\n",
       "<circle clip-path=\"url(#clip352)\" cx=\"1357.73\" cy=\"489.116\" r=\"14\" fill=\"#009af9\" fill-rule=\"evenodd\" fill-opacity=\"1\" stroke=\"#000000\" stroke-opacity=\"1\" stroke-width=\"3.2\"/>\n",
       "<circle clip-path=\"url(#clip352)\" cx=\"1429.47\" cy=\"519.491\" r=\"14\" fill=\"#009af9\" fill-rule=\"evenodd\" fill-opacity=\"1\" stroke=\"#000000\" stroke-opacity=\"1\" stroke-width=\"3.2\"/>\n",
       "<circle clip-path=\"url(#clip352)\" cx=\"1501.21\" cy=\"575.589\" r=\"14\" fill=\"#009af9\" fill-rule=\"evenodd\" fill-opacity=\"1\" stroke=\"#000000\" stroke-opacity=\"1\" stroke-width=\"3.2\"/>\n",
       "<circle clip-path=\"url(#clip352)\" cx=\"1572.95\" cy=\"586.041\" r=\"14\" fill=\"#009af9\" fill-rule=\"evenodd\" fill-opacity=\"1\" stroke=\"#000000\" stroke-opacity=\"1\" stroke-width=\"3.2\"/>\n",
       "<circle clip-path=\"url(#clip352)\" cx=\"1644.69\" cy=\"667.499\" r=\"14\" fill=\"#009af9\" fill-rule=\"evenodd\" fill-opacity=\"1\" stroke=\"#000000\" stroke-opacity=\"1\" stroke-width=\"3.2\"/>\n",
       "<circle clip-path=\"url(#clip352)\" cx=\"1716.42\" cy=\"625.176\" r=\"14\" fill=\"#009af9\" fill-rule=\"evenodd\" fill-opacity=\"1\" stroke=\"#000000\" stroke-opacity=\"1\" stroke-width=\"3.2\"/>\n",
       "<circle clip-path=\"url(#clip352)\" cx=\"1788.16\" cy=\"822.325\" r=\"14\" fill=\"#009af9\" fill-rule=\"evenodd\" fill-opacity=\"1\" stroke=\"#000000\" stroke-opacity=\"1\" stroke-width=\"3.2\"/>\n",
       "<circle clip-path=\"url(#clip352)\" cx=\"1859.9\" cy=\"643.848\" r=\"14\" fill=\"#009af9\" fill-rule=\"evenodd\" fill-opacity=\"1\" stroke=\"#000000\" stroke-opacity=\"1\" stroke-width=\"3.2\"/>\n",
       "<circle clip-path=\"url(#clip352)\" cx=\"1931.64\" cy=\"783.305\" r=\"14\" fill=\"#009af9\" fill-rule=\"evenodd\" fill-opacity=\"1\" stroke=\"#000000\" stroke-opacity=\"1\" stroke-width=\"3.2\"/>\n",
       "<circle clip-path=\"url(#clip352)\" cx=\"2003.38\" cy=\"731.106\" r=\"14\" fill=\"#009af9\" fill-rule=\"evenodd\" fill-opacity=\"1\" stroke=\"#000000\" stroke-opacity=\"1\" stroke-width=\"3.2\"/>\n",
       "<circle clip-path=\"url(#clip352)\" cx=\"2075.12\" cy=\"1164.24\" r=\"14\" fill=\"#009af9\" fill-rule=\"evenodd\" fill-opacity=\"1\" stroke=\"#000000\" stroke-opacity=\"1\" stroke-width=\"3.2\"/>\n",
       "<circle clip-path=\"url(#clip352)\" cx=\"2146.86\" cy=\"1209.48\" r=\"14\" fill=\"#009af9\" fill-rule=\"evenodd\" fill-opacity=\"1\" stroke=\"#000000\" stroke-opacity=\"1\" stroke-width=\"3.2\"/>\n",
       "<circle clip-path=\"url(#clip352)\" cx=\"2218.6\" cy=\"1205.4\" r=\"14\" fill=\"#009af9\" fill-rule=\"evenodd\" fill-opacity=\"1\" stroke=\"#000000\" stroke-opacity=\"1\" stroke-width=\"3.2\"/>\n",
       "<circle clip-path=\"url(#clip352)\" cx=\"2290.34\" cy=\"1332.58\" r=\"14\" fill=\"#009af9\" fill-rule=\"evenodd\" fill-opacity=\"1\" stroke=\"#000000\" stroke-opacity=\"1\" stroke-width=\"3.2\"/>\n",
       "<polyline clip-path=\"url(#clip352)\" style=\"stroke:#ff0000; stroke-linecap:butt; stroke-linejoin:round; stroke-width:4; stroke-opacity:1; fill:none\" points=\"\n",
       "  209.891,376.131 214.971,346.145 220.05,323.141 225.129,306.312 230.209,294.912 241.95,285.662 253.692,294.462 265.433,315.298 277.174,343.357 300.657,406.979 \n",
       "  324.14,465.15 347.623,508.023 371.106,532.76 394.589,540.907 418.072,536.387 474.52,502.365 530.969,478.096 578.696,482.362 626.423,504.613 678.268,533.371 \n",
       "  730.112,550.762 777.909,549.718 825.705,534.171 928.19,488.79 1046.93,476.021 1152.45,470.376 1244.98,440.454 1295.43,429.456 1345.87,437.378 1396.61,470.402 \n",
       "  1447.35,523.051 1503.46,584.393 1559.56,625.317 1612.94,637.561 1666.32,639.669 1721.82,661.059 1777.32,713.688 1824.05,757.887 1870.77,763.865 1899.29,741.842 \n",
       "  1927.81,709.959 1942.07,696.515 1956.33,689.263 1970.59,691.966 1984.85,708.221 1998.26,738.488 2011.66,784.754 2025.07,847.006 2038.47,923.376 2051.88,1009.82 \n",
       "  2065.28,1099.99 2078.69,1185.41 2092.09,1256.07 2102.83,1294.95 2113.57,1312.72 2124.31,1305.73 2135.04,1272.49 2145.78,1214.64 2156.52,1138.05 2167.26,1053.7 \n",
       "  2178,978.292 2183.37,950.745 2188.73,934.24 2194.1,932.283 2199.47,948.507 2204.84,986.531 2210.21,1049.77 2215.58,1141.2 2220.95,1263.01 2226.32,1416.26 \n",
       "  2231.69,1600.34 2237.06,1812.43 2242.43,2046.71 2247.79,2293.53 2253.16,2538.32 2255.85,2653.76 2258.53,2760.38 2261.22,2854.37 2263.9,2931.37 2265.55,2968.17 \n",
       "  2267.21,2995.33 2268.86,3011.45 2270.51,3015.01 2272.16,3004.35 2273.82,2977.69 2275.47,2933.14 2277.12,2868.62 2278.77,2781.93 2280.43,2670.69 2282.08,2532.38 \n",
       "  2283.73,2364.27 2284.56,2268.13 2285.38,2163.44 2286.21,2049.8 2287.04,1926.79 2287.86,1794.01 2288.69,1651 2289.52,1497.33 2290.34,1332.53 \n",
       "  \"/>\n",
       "</svg>\n"
      ]
     },
     "execution_count": 41,
     "metadata": {},
     "output_type": "execute_result"
    }
   ],
   "source": [
    "scatter(x,y,leg=false)\n",
    "plot!(polinomio,c=:red,\n",
    "    xaxis=([0,1]),\n",
    "    yaxis=([-2,2]))"
   ]
  },
  {
   "cell_type": "code",
   "execution_count": 42,
   "id": "3f7631dd",
   "metadata": {},
   "outputs": [
    {
     "data": {
      "image/svg+xml": [
       "<?xml version=\"1.0\" encoding=\"utf-8\"?>\n",
       "<svg xmlns=\"http://www.w3.org/2000/svg\" xmlns:xlink=\"http://www.w3.org/1999/xlink\" width=\"600\" height=\"400\" viewBox=\"0 0 2400 1600\">\n",
       "<defs>\n",
       "  <clipPath id=\"clip390\">\n",
       "    <rect x=\"0\" y=\"0\" width=\"2400\" height=\"1600\"/>\n",
       "  </clipPath>\n",
       "</defs>\n",
       "<path clip-path=\"url(#clip390)\" d=\"\n",
       "M0 1600 L2400 1600 L2400 0 L0 0  Z\n",
       "  \" fill=\"#ffffff\" fill-rule=\"evenodd\" fill-opacity=\"1\"/>\n",
       "<defs>\n",
       "  <clipPath id=\"clip391\">\n",
       "    <rect x=\"480\" y=\"0\" width=\"1681\" height=\"1600\"/>\n",
       "  </clipPath>\n",
       "</defs>\n",
       "<path clip-path=\"url(#clip390)\" d=\"\n",
       "M147.478 1486.45 L2352.76 1486.45 L2352.76 47.2441 L147.478 47.2441  Z\n",
       "  \" fill=\"#ffffff\" fill-rule=\"evenodd\" fill-opacity=\"1\"/>\n",
       "<defs>\n",
       "  <clipPath id=\"clip392\">\n",
       "    <rect x=\"147\" y=\"47\" width=\"2206\" height=\"1440\"/>\n",
       "  </clipPath>\n",
       "</defs>\n",
       "<polyline clip-path=\"url(#clip392)\" style=\"stroke:#000000; stroke-linecap:butt; stroke-linejoin:round; stroke-width:2; stroke-opacity:0.1; fill:none\" points=\"\n",
       "  209.891,1486.45 209.891,47.2441 \n",
       "  \"/>\n",
       "<polyline clip-path=\"url(#clip392)\" style=\"stroke:#000000; stroke-linecap:butt; stroke-linejoin:round; stroke-width:2; stroke-opacity:0.1; fill:none\" points=\"\n",
       "  730.004,1486.45 730.004,47.2441 \n",
       "  \"/>\n",
       "<polyline clip-path=\"url(#clip392)\" style=\"stroke:#000000; stroke-linecap:butt; stroke-linejoin:round; stroke-width:2; stroke-opacity:0.1; fill:none\" points=\"\n",
       "  1250.12,1486.45 1250.12,47.2441 \n",
       "  \"/>\n",
       "<polyline clip-path=\"url(#clip392)\" style=\"stroke:#000000; stroke-linecap:butt; stroke-linejoin:round; stroke-width:2; stroke-opacity:0.1; fill:none\" points=\"\n",
       "  1770.23,1486.45 1770.23,47.2441 \n",
       "  \"/>\n",
       "<polyline clip-path=\"url(#clip392)\" style=\"stroke:#000000; stroke-linecap:butt; stroke-linejoin:round; stroke-width:2; stroke-opacity:0.1; fill:none\" points=\"\n",
       "  2290.34,1486.45 2290.34,47.2441 \n",
       "  \"/>\n",
       "<polyline clip-path=\"url(#clip390)\" style=\"stroke:#000000; stroke-linecap:butt; stroke-linejoin:round; stroke-width:4; stroke-opacity:1; fill:none\" points=\"\n",
       "  147.478,1486.45 2352.76,1486.45 \n",
       "  \"/>\n",
       "<polyline clip-path=\"url(#clip390)\" style=\"stroke:#000000; stroke-linecap:butt; stroke-linejoin:round; stroke-width:4; stroke-opacity:1; fill:none\" points=\"\n",
       "  209.891,1486.45 209.891,1467.55 \n",
       "  \"/>\n",
       "<polyline clip-path=\"url(#clip390)\" style=\"stroke:#000000; stroke-linecap:butt; stroke-linejoin:round; stroke-width:4; stroke-opacity:1; fill:none\" points=\"\n",
       "  730.004,1486.45 730.004,1467.55 \n",
       "  \"/>\n",
       "<polyline clip-path=\"url(#clip390)\" style=\"stroke:#000000; stroke-linecap:butt; stroke-linejoin:round; stroke-width:4; stroke-opacity:1; fill:none\" points=\"\n",
       "  1250.12,1486.45 1250.12,1467.55 \n",
       "  \"/>\n",
       "<polyline clip-path=\"url(#clip390)\" style=\"stroke:#000000; stroke-linecap:butt; stroke-linejoin:round; stroke-width:4; stroke-opacity:1; fill:none\" points=\"\n",
       "  1770.23,1486.45 1770.23,1467.55 \n",
       "  \"/>\n",
       "<polyline clip-path=\"url(#clip390)\" style=\"stroke:#000000; stroke-linecap:butt; stroke-linejoin:round; stroke-width:4; stroke-opacity:1; fill:none\" points=\"\n",
       "  2290.34,1486.45 2290.34,1467.55 \n",
       "  \"/>\n",
       "<path clip-path=\"url(#clip390)\" d=\"M172.195 1517.37 Q168.584 1517.37 166.755 1520.93 Q164.95 1524.47 164.95 1531.6 Q164.95 1538.71 166.755 1542.27 Q168.584 1545.82 172.195 1545.82 Q175.829 1545.82 177.635 1542.27 Q179.463 1538.71 179.463 1531.6 Q179.463 1524.47 177.635 1520.93 Q175.829 1517.37 172.195 1517.37 M172.195 1513.66 Q178.005 1513.66 181.061 1518.27 Q184.139 1522.85 184.139 1531.6 Q184.139 1540.33 181.061 1544.94 Q178.005 1549.52 172.195 1549.52 Q166.385 1549.52 163.306 1544.94 Q160.251 1540.33 160.251 1531.6 Q160.251 1522.85 163.306 1518.27 Q166.385 1513.66 172.195 1513.66 Z\" fill=\"#000000\" fill-rule=\"evenodd\" fill-opacity=\"1\" /><path clip-path=\"url(#clip390)\" d=\"M192.357 1542.97 L197.241 1542.97 L197.241 1548.85 L192.357 1548.85 L192.357 1542.97 Z\" fill=\"#000000\" fill-rule=\"evenodd\" fill-opacity=\"1\" /><path clip-path=\"url(#clip390)\" d=\"M217.426 1517.37 Q213.815 1517.37 211.986 1520.93 Q210.181 1524.47 210.181 1531.6 Q210.181 1538.71 211.986 1542.27 Q213.815 1545.82 217.426 1545.82 Q221.06 1545.82 222.866 1542.27 Q224.695 1538.71 224.695 1531.6 Q224.695 1524.47 222.866 1520.93 Q221.06 1517.37 217.426 1517.37 M217.426 1513.66 Q223.236 1513.66 226.292 1518.27 Q229.371 1522.85 229.371 1531.6 Q229.371 1540.33 226.292 1544.94 Q223.236 1549.52 217.426 1549.52 Q211.616 1549.52 208.537 1544.94 Q205.482 1540.33 205.482 1531.6 Q205.482 1522.85 208.537 1518.27 Q211.616 1513.66 217.426 1513.66 Z\" fill=\"#000000\" fill-rule=\"evenodd\" fill-opacity=\"1\" /><path clip-path=\"url(#clip390)\" d=\"M247.588 1517.37 Q243.977 1517.37 242.148 1520.93 Q240.343 1524.47 240.343 1531.6 Q240.343 1538.71 242.148 1542.27 Q243.977 1545.82 247.588 1545.82 Q251.222 1545.82 253.028 1542.27 Q254.856 1538.71 254.856 1531.6 Q254.856 1524.47 253.028 1520.93 Q251.222 1517.37 247.588 1517.37 M247.588 1513.66 Q253.398 1513.66 256.454 1518.27 Q259.532 1522.85 259.532 1531.6 Q259.532 1540.33 256.454 1544.94 Q253.398 1549.52 247.588 1549.52 Q241.778 1549.52 238.699 1544.94 Q235.644 1540.33 235.644 1531.6 Q235.644 1522.85 238.699 1518.27 Q241.778 1513.66 247.588 1513.66 Z\" fill=\"#000000\" fill-rule=\"evenodd\" fill-opacity=\"1\" /><path clip-path=\"url(#clip390)\" d=\"M692.805 1517.37 Q689.194 1517.37 687.366 1520.93 Q685.56 1524.47 685.56 1531.6 Q685.56 1538.71 687.366 1542.27 Q689.194 1545.82 692.805 1545.82 Q696.44 1545.82 698.245 1542.27 Q700.074 1538.71 700.074 1531.6 Q700.074 1524.47 698.245 1520.93 Q696.44 1517.37 692.805 1517.37 M692.805 1513.66 Q698.615 1513.66 701.671 1518.27 Q704.75 1522.85 704.75 1531.6 Q704.75 1540.33 701.671 1544.94 Q698.615 1549.52 692.805 1549.52 Q686.995 1549.52 683.916 1544.94 Q680.861 1540.33 680.861 1531.6 Q680.861 1522.85 683.916 1518.27 Q686.995 1513.66 692.805 1513.66 Z\" fill=\"#000000\" fill-rule=\"evenodd\" fill-opacity=\"1\" /><path clip-path=\"url(#clip390)\" d=\"M712.967 1542.97 L717.851 1542.97 L717.851 1548.85 L712.967 1548.85 L712.967 1542.97 Z\" fill=\"#000000\" fill-rule=\"evenodd\" fill-opacity=\"1\" /><path clip-path=\"url(#clip390)\" d=\"M732.064 1544.91 L748.384 1544.91 L748.384 1548.85 L726.439 1548.85 L726.439 1544.91 Q729.101 1542.16 733.685 1537.53 Q738.291 1532.88 739.472 1531.53 Q741.717 1529.01 742.597 1527.27 Q743.499 1525.51 743.499 1523.82 Q743.499 1521.07 741.555 1519.33 Q739.634 1517.6 736.532 1517.6 Q734.333 1517.6 731.879 1518.36 Q729.449 1519.13 726.671 1520.68 L726.671 1515.95 Q729.495 1514.82 731.949 1514.24 Q734.402 1513.66 736.439 1513.66 Q741.81 1513.66 745.004 1516.35 Q748.199 1519.03 748.199 1523.52 Q748.199 1525.65 747.388 1527.57 Q746.601 1529.47 744.495 1532.07 Q743.916 1532.74 740.814 1535.95 Q737.712 1539.15 732.064 1544.91 Z\" fill=\"#000000\" fill-rule=\"evenodd\" fill-opacity=\"1\" /><path clip-path=\"url(#clip390)\" d=\"M758.245 1514.29 L776.601 1514.29 L776.601 1518.22 L762.527 1518.22 L762.527 1526.7 Q763.546 1526.35 764.564 1526.19 Q765.583 1526 766.601 1526 Q772.388 1526 775.768 1529.17 Q779.147 1532.34 779.147 1537.76 Q779.147 1543.34 775.675 1546.44 Q772.203 1549.52 765.884 1549.52 Q763.708 1549.52 761.439 1549.15 Q759.194 1548.78 756.786 1548.04 L756.786 1543.34 Q758.87 1544.47 761.092 1545.03 Q763.314 1545.58 765.791 1545.58 Q769.796 1545.58 772.134 1543.48 Q774.472 1541.37 774.472 1537.76 Q774.472 1534.15 772.134 1532.04 Q769.796 1529.94 765.791 1529.94 Q763.916 1529.94 762.041 1530.35 Q760.189 1530.77 758.245 1531.65 L758.245 1514.29 Z\" fill=\"#000000\" fill-rule=\"evenodd\" fill-opacity=\"1\" /><path clip-path=\"url(#clip390)\" d=\"M1212.42 1517.37 Q1208.81 1517.37 1206.98 1520.93 Q1205.18 1524.47 1205.18 1531.6 Q1205.18 1538.71 1206.98 1542.27 Q1208.81 1545.82 1212.42 1545.82 Q1216.05 1545.82 1217.86 1542.27 Q1219.69 1538.71 1219.69 1531.6 Q1219.69 1524.47 1217.86 1520.93 Q1216.05 1517.37 1212.42 1517.37 M1212.42 1513.66 Q1218.23 1513.66 1221.29 1518.27 Q1224.36 1522.85 1224.36 1531.6 Q1224.36 1540.33 1221.29 1544.94 Q1218.23 1549.52 1212.42 1549.52 Q1206.61 1549.52 1203.53 1544.94 Q1200.48 1540.33 1200.48 1531.6 Q1200.48 1522.85 1203.53 1518.27 Q1206.61 1513.66 1212.42 1513.66 Z\" fill=\"#000000\" fill-rule=\"evenodd\" fill-opacity=\"1\" /><path clip-path=\"url(#clip390)\" d=\"M1232.58 1542.97 L1237.47 1542.97 L1237.47 1548.85 L1232.58 1548.85 L1232.58 1542.97 Z\" fill=\"#000000\" fill-rule=\"evenodd\" fill-opacity=\"1\" /><path clip-path=\"url(#clip390)\" d=\"M1247.7 1514.29 L1266.05 1514.29 L1266.05 1518.22 L1251.98 1518.22 L1251.98 1526.7 Q1253 1526.35 1254.02 1526.19 Q1255.04 1526 1256.05 1526 Q1261.84 1526 1265.22 1529.17 Q1268.6 1532.34 1268.6 1537.76 Q1268.6 1543.34 1265.13 1546.44 Q1261.66 1549.52 1255.34 1549.52 Q1253.16 1549.52 1250.89 1549.15 Q1248.65 1548.78 1246.24 1548.04 L1246.24 1543.34 Q1248.32 1544.47 1250.55 1545.03 Q1252.77 1545.58 1255.24 1545.58 Q1259.25 1545.58 1261.59 1543.48 Q1263.92 1541.37 1263.92 1537.76 Q1263.92 1534.15 1261.59 1532.04 Q1259.25 1529.94 1255.24 1529.94 Q1253.37 1529.94 1251.49 1530.35 Q1249.64 1530.77 1247.7 1531.65 L1247.7 1514.29 Z\" fill=\"#000000\" fill-rule=\"evenodd\" fill-opacity=\"1\" /><path clip-path=\"url(#clip390)\" d=\"M1287.81 1517.37 Q1284.2 1517.37 1282.37 1520.93 Q1280.57 1524.47 1280.57 1531.6 Q1280.57 1538.71 1282.37 1542.27 Q1284.2 1545.82 1287.81 1545.82 Q1291.45 1545.82 1293.25 1542.27 Q1295.08 1538.71 1295.08 1531.6 Q1295.08 1524.47 1293.25 1520.93 Q1291.45 1517.37 1287.81 1517.37 M1287.81 1513.66 Q1293.62 1513.66 1296.68 1518.27 Q1299.76 1522.85 1299.76 1531.6 Q1299.76 1540.33 1296.68 1544.94 Q1293.62 1549.52 1287.81 1549.52 Q1282 1549.52 1278.92 1544.94 Q1275.87 1540.33 1275.87 1531.6 Q1275.87 1522.85 1278.92 1518.27 Q1282 1513.66 1287.81 1513.66 Z\" fill=\"#000000\" fill-rule=\"evenodd\" fill-opacity=\"1\" /><path clip-path=\"url(#clip390)\" d=\"M1733.03 1517.37 Q1729.42 1517.37 1727.59 1520.93 Q1725.79 1524.47 1725.79 1531.6 Q1725.79 1538.71 1727.59 1542.27 Q1729.42 1545.82 1733.03 1545.82 Q1736.67 1545.82 1738.47 1542.27 Q1740.3 1538.71 1740.3 1531.6 Q1740.3 1524.47 1738.47 1520.93 Q1736.67 1517.37 1733.03 1517.37 M1733.03 1513.66 Q1738.84 1513.66 1741.9 1518.27 Q1744.98 1522.85 1744.98 1531.6 Q1744.98 1540.33 1741.9 1544.94 Q1738.84 1549.52 1733.03 1549.52 Q1727.22 1549.52 1724.14 1544.94 Q1721.09 1540.33 1721.09 1531.6 Q1721.09 1522.85 1724.14 1518.27 Q1727.22 1513.66 1733.03 1513.66 Z\" fill=\"#000000\" fill-rule=\"evenodd\" fill-opacity=\"1\" /><path clip-path=\"url(#clip390)\" d=\"M1753.19 1542.97 L1758.08 1542.97 L1758.08 1548.85 L1753.19 1548.85 L1753.19 1542.97 Z\" fill=\"#000000\" fill-rule=\"evenodd\" fill-opacity=\"1\" /><path clip-path=\"url(#clip390)\" d=\"M1767.08 1514.29 L1789.3 1514.29 L1789.3 1516.28 L1776.76 1548.85 L1771.87 1548.85 L1783.68 1518.22 L1767.08 1518.22 L1767.08 1514.29 Z\" fill=\"#000000\" fill-rule=\"evenodd\" fill-opacity=\"1\" /><path clip-path=\"url(#clip390)\" d=\"M1798.47 1514.29 L1816.83 1514.29 L1816.83 1518.22 L1802.75 1518.22 L1802.75 1526.7 Q1803.77 1526.35 1804.79 1526.19 Q1805.81 1526 1806.83 1526 Q1812.61 1526 1815.99 1529.17 Q1819.37 1532.34 1819.37 1537.76 Q1819.37 1543.34 1815.9 1546.44 Q1812.43 1549.52 1806.11 1549.52 Q1803.93 1549.52 1801.66 1549.15 Q1799.42 1548.78 1797.01 1548.04 L1797.01 1543.34 Q1799.1 1544.47 1801.32 1545.03 Q1803.54 1545.58 1806.02 1545.58 Q1810.02 1545.58 1812.36 1543.48 Q1814.7 1541.37 1814.7 1537.76 Q1814.7 1534.15 1812.36 1532.04 Q1810.02 1529.94 1806.02 1529.94 Q1804.14 1529.94 1802.27 1530.35 Q1800.41 1530.77 1798.47 1531.65 L1798.47 1514.29 Z\" fill=\"#000000\" fill-rule=\"evenodd\" fill-opacity=\"1\" /><path clip-path=\"url(#clip390)\" d=\"M2242.41 1544.91 L2250.05 1544.91 L2250.05 1518.55 L2241.74 1520.21 L2241.74 1515.95 L2250.01 1514.29 L2254.68 1514.29 L2254.68 1544.91 L2262.32 1544.91 L2262.32 1548.85 L2242.41 1548.85 L2242.41 1544.91 Z\" fill=\"#000000\" fill-rule=\"evenodd\" fill-opacity=\"1\" /><path clip-path=\"url(#clip390)\" d=\"M2271.77 1542.97 L2276.65 1542.97 L2276.65 1548.85 L2271.77 1548.85 L2271.77 1542.97 Z\" fill=\"#000000\" fill-rule=\"evenodd\" fill-opacity=\"1\" /><path clip-path=\"url(#clip390)\" d=\"M2296.84 1517.37 Q2293.22 1517.37 2291.4 1520.93 Q2289.59 1524.47 2289.59 1531.6 Q2289.59 1538.71 2291.4 1542.27 Q2293.22 1545.82 2296.84 1545.82 Q2300.47 1545.82 2302.28 1542.27 Q2304.1 1538.71 2304.1 1531.6 Q2304.1 1524.47 2302.28 1520.93 Q2300.47 1517.37 2296.84 1517.37 M2296.84 1513.66 Q2302.65 1513.66 2305.7 1518.27 Q2308.78 1522.85 2308.78 1531.6 Q2308.78 1540.33 2305.7 1544.94 Q2302.65 1549.52 2296.84 1549.52 Q2291.03 1549.52 2287.95 1544.94 Q2284.89 1540.33 2284.89 1531.6 Q2284.89 1522.85 2287.95 1518.27 Q2291.03 1513.66 2296.84 1513.66 Z\" fill=\"#000000\" fill-rule=\"evenodd\" fill-opacity=\"1\" /><path clip-path=\"url(#clip390)\" d=\"M2327 1517.37 Q2323.39 1517.37 2321.56 1520.93 Q2319.75 1524.47 2319.75 1531.6 Q2319.75 1538.71 2321.56 1542.27 Q2323.39 1545.82 2327 1545.82 Q2330.63 1545.82 2332.44 1542.27 Q2334.27 1538.71 2334.27 1531.6 Q2334.27 1524.47 2332.44 1520.93 Q2330.63 1517.37 2327 1517.37 M2327 1513.66 Q2332.81 1513.66 2335.86 1518.27 Q2338.94 1522.85 2338.94 1531.6 Q2338.94 1540.33 2335.86 1544.94 Q2332.81 1549.52 2327 1549.52 Q2321.19 1549.52 2318.11 1544.94 Q2315.05 1540.33 2315.05 1531.6 Q2315.05 1522.85 2318.11 1518.27 Q2321.19 1513.66 2327 1513.66 Z\" fill=\"#000000\" fill-rule=\"evenodd\" fill-opacity=\"1\" /><polyline clip-path=\"url(#clip392)\" style=\"stroke:#000000; stroke-linecap:butt; stroke-linejoin:round; stroke-width:2; stroke-opacity:0.1; fill:none\" points=\"\n",
       "  147.478,1445.72 2352.76,1445.72 \n",
       "  \"/>\n",
       "<polyline clip-path=\"url(#clip392)\" style=\"stroke:#000000; stroke-linecap:butt; stroke-linejoin:round; stroke-width:2; stroke-opacity:0.1; fill:none\" points=\"\n",
       "  147.478,1106.28 2352.76,1106.28 \n",
       "  \"/>\n",
       "<polyline clip-path=\"url(#clip392)\" style=\"stroke:#000000; stroke-linecap:butt; stroke-linejoin:round; stroke-width:2; stroke-opacity:0.1; fill:none\" points=\"\n",
       "  147.478,766.846 2352.76,766.846 \n",
       "  \"/>\n",
       "<polyline clip-path=\"url(#clip392)\" style=\"stroke:#000000; stroke-linecap:butt; stroke-linejoin:round; stroke-width:2; stroke-opacity:0.1; fill:none\" points=\"\n",
       "  147.478,427.411 2352.76,427.411 \n",
       "  \"/>\n",
       "<polyline clip-path=\"url(#clip392)\" style=\"stroke:#000000; stroke-linecap:butt; stroke-linejoin:round; stroke-width:2; stroke-opacity:0.1; fill:none\" points=\"\n",
       "  147.478,87.9763 2352.76,87.9763 \n",
       "  \"/>\n",
       "<polyline clip-path=\"url(#clip390)\" style=\"stroke:#000000; stroke-linecap:butt; stroke-linejoin:round; stroke-width:4; stroke-opacity:1; fill:none\" points=\"\n",
       "  147.478,1486.45 147.478,47.2441 \n",
       "  \"/>\n",
       "<polyline clip-path=\"url(#clip390)\" style=\"stroke:#000000; stroke-linecap:butt; stroke-linejoin:round; stroke-width:4; stroke-opacity:1; fill:none\" points=\"\n",
       "  147.478,1445.72 166.376,1445.72 \n",
       "  \"/>\n",
       "<polyline clip-path=\"url(#clip390)\" style=\"stroke:#000000; stroke-linecap:butt; stroke-linejoin:round; stroke-width:4; stroke-opacity:1; fill:none\" points=\"\n",
       "  147.478,1106.28 166.376,1106.28 \n",
       "  \"/>\n",
       "<polyline clip-path=\"url(#clip390)\" style=\"stroke:#000000; stroke-linecap:butt; stroke-linejoin:round; stroke-width:4; stroke-opacity:1; fill:none\" points=\"\n",
       "  147.478,766.846 166.376,766.846 \n",
       "  \"/>\n",
       "<polyline clip-path=\"url(#clip390)\" style=\"stroke:#000000; stroke-linecap:butt; stroke-linejoin:round; stroke-width:4; stroke-opacity:1; fill:none\" points=\"\n",
       "  147.478,427.411 166.376,427.411 \n",
       "  \"/>\n",
       "<polyline clip-path=\"url(#clip390)\" style=\"stroke:#000000; stroke-linecap:butt; stroke-linejoin:round; stroke-width:4; stroke-opacity:1; fill:none\" points=\"\n",
       "  147.478,87.9763 166.376,87.9763 \n",
       "  \"/>\n",
       "<path clip-path=\"url(#clip390)\" d=\"M51.3625 1446.17 L81.0383 1446.17 L81.0383 1450.1 L51.3625 1450.1 L51.3625 1446.17 Z\" fill=\"#000000\" fill-rule=\"evenodd\" fill-opacity=\"1\" /><path clip-path=\"url(#clip390)\" d=\"M95.1586 1459.06 L111.478 1459.06 L111.478 1463 L89.5336 1463 L89.5336 1459.06 Q92.1956 1456.31 96.7789 1451.68 Q101.385 1447.02 102.566 1445.68 Q104.811 1443.16 105.691 1441.42 Q106.594 1439.66 106.594 1437.97 Q106.594 1435.22 104.649 1433.48 Q102.728 1431.75 99.6261 1431.75 Q97.4271 1431.75 94.9734 1432.51 Q92.5428 1433.27 89.7651 1434.82 L89.7651 1430.1 Q92.5891 1428.97 95.0428 1428.39 Q97.4965 1427.81 99.5335 1427.81 Q104.904 1427.81 108.098 1430.5 Q111.293 1433.18 111.293 1437.67 Q111.293 1439.8 110.483 1441.72 Q109.696 1443.62 107.589 1446.21 Q107.01 1446.88 103.909 1450.1 Q100.807 1453.3 95.1586 1459.06 Z\" fill=\"#000000\" fill-rule=\"evenodd\" fill-opacity=\"1\" /><path clip-path=\"url(#clip390)\" d=\"M50.9921 1106.73 L80.6679 1106.73 L80.6679 1110.67 L50.9921 1110.67 L50.9921 1106.73 Z\" fill=\"#000000\" fill-rule=\"evenodd\" fill-opacity=\"1\" /><path clip-path=\"url(#clip390)\" d=\"M91.5706 1119.63 L99.2095 1119.63 L99.2095 1093.26 L90.8993 1094.93 L90.8993 1090.67 L99.1632 1089 L103.839 1089 L103.839 1119.63 L111.478 1119.63 L111.478 1123.56 L91.5706 1123.56 L91.5706 1119.63 Z\" fill=\"#000000\" fill-rule=\"evenodd\" fill-opacity=\"1\" /><path clip-path=\"url(#clip390)\" d=\"M99.5335 752.645 Q95.9224 752.645 94.0937 756.209 Q92.2882 759.751 92.2882 766.881 Q92.2882 773.987 94.0937 777.552 Q95.9224 781.094 99.5335 781.094 Q103.168 781.094 104.973 777.552 Q106.802 773.987 106.802 766.881 Q106.802 759.751 104.973 756.209 Q103.168 752.645 99.5335 752.645 M99.5335 748.941 Q105.344 748.941 108.399 753.547 Q111.478 758.131 111.478 766.881 Q111.478 775.608 108.399 780.214 Q105.344 784.797 99.5335 784.797 Q93.7234 784.797 90.6447 780.214 Q87.5892 775.608 87.5892 766.881 Q87.5892 758.131 90.6447 753.547 Q93.7234 748.941 99.5335 748.941 Z\" fill=\"#000000\" fill-rule=\"evenodd\" fill-opacity=\"1\" /><path clip-path=\"url(#clip390)\" d=\"M91.5706 440.756 L99.2095 440.756 L99.2095 414.39 L90.8993 416.057 L90.8993 411.798 L99.1632 410.131 L103.839 410.131 L103.839 440.756 L111.478 440.756 L111.478 444.691 L91.5706 444.691 L91.5706 440.756 Z\" fill=\"#000000\" fill-rule=\"evenodd\" fill-opacity=\"1\" /><path clip-path=\"url(#clip390)\" d=\"M95.1586 101.321 L111.478 101.321 L111.478 105.256 L89.5336 105.256 L89.5336 101.321 Q92.1956 98.5665 96.7789 93.9369 Q101.385 89.2841 102.566 87.9416 Q104.811 85.4184 105.691 83.6823 Q106.594 81.9231 106.594 80.2333 Q106.594 77.4786 104.649 75.7425 Q102.728 74.0064 99.6261 74.0064 Q97.4271 74.0064 94.9734 74.7703 Q92.5428 75.5342 89.7651 77.0851 L89.7651 72.3629 Q92.5891 71.2287 95.0428 70.65 Q97.4965 70.0713 99.5335 70.0713 Q104.904 70.0713 108.098 72.7565 Q111.293 75.4416 111.293 79.9323 Q111.293 82.062 110.483 83.9832 Q109.696 85.8814 107.589 88.474 Q107.01 89.1453 103.909 92.3628 Q100.807 95.5573 95.1586 101.321 Z\" fill=\"#000000\" fill-rule=\"evenodd\" fill-opacity=\"1\" /><circle clip-path=\"url(#clip392)\" cx=\"209.891\" cy=\"346.021\" r=\"14\" fill=\"#009af9\" fill-rule=\"evenodd\" fill-opacity=\"1\" stroke=\"#000000\" stroke-opacity=\"1\" stroke-width=\"3.2\"/>\n",
       "<circle clip-path=\"url(#clip392)\" cx=\"313.914\" cy=\"305.391\" r=\"14\" fill=\"#009af9\" fill-rule=\"evenodd\" fill-opacity=\"1\" stroke=\"#000000\" stroke-opacity=\"1\" stroke-width=\"3.2\"/>\n",
       "<circle clip-path=\"url(#clip392)\" cx=\"417.937\" cy=\"258.486\" r=\"14\" fill=\"#009af9\" fill-rule=\"evenodd\" fill-opacity=\"1\" stroke=\"#000000\" stroke-opacity=\"1\" stroke-width=\"3.2\"/>\n",
       "<circle clip-path=\"url(#clip392)\" cx=\"521.959\" cy=\"682.675\" r=\"14\" fill=\"#009af9\" fill-rule=\"evenodd\" fill-opacity=\"1\" stroke=\"#000000\" stroke-opacity=\"1\" stroke-width=\"3.2\"/>\n",
       "<circle clip-path=\"url(#clip392)\" cx=\"625.982\" cy=\"722.77\" r=\"14\" fill=\"#009af9\" fill-rule=\"evenodd\" fill-opacity=\"1\" stroke=\"#000000\" stroke-opacity=\"1\" stroke-width=\"3.2\"/>\n",
       "<circle clip-path=\"url(#clip392)\" cx=\"730.004\" cy=\"571.056\" r=\"14\" fill=\"#009af9\" fill-rule=\"evenodd\" fill-opacity=\"1\" stroke=\"#000000\" stroke-opacity=\"1\" stroke-width=\"3.2\"/>\n",
       "<circle clip-path=\"url(#clip392)\" cx=\"834.027\" cy=\"240.429\" r=\"14\" fill=\"#009af9\" fill-rule=\"evenodd\" fill-opacity=\"1\" stroke=\"#000000\" stroke-opacity=\"1\" stroke-width=\"3.2\"/>\n",
       "<circle clip-path=\"url(#clip392)\" cx=\"938.049\" cy=\"550.47\" r=\"14\" fill=\"#009af9\" fill-rule=\"evenodd\" fill-opacity=\"1\" stroke=\"#000000\" stroke-opacity=\"1\" stroke-width=\"3.2\"/>\n",
       "<circle clip-path=\"url(#clip392)\" cx=\"1042.07\" cy=\"554.53\" r=\"14\" fill=\"#009af9\" fill-rule=\"evenodd\" fill-opacity=\"1\" stroke=\"#000000\" stroke-opacity=\"1\" stroke-width=\"3.2\"/>\n",
       "<circle clip-path=\"url(#clip392)\" cx=\"1146.09\" cy=\"401.081\" r=\"14\" fill=\"#009af9\" fill-rule=\"evenodd\" fill-opacity=\"1\" stroke=\"#000000\" stroke-opacity=\"1\" stroke-width=\"3.2\"/>\n",
       "<circle clip-path=\"url(#clip392)\" cx=\"1250.12\" cy=\"548.197\" r=\"14\" fill=\"#009af9\" fill-rule=\"evenodd\" fill-opacity=\"1\" stroke=\"#000000\" stroke-opacity=\"1\" stroke-width=\"3.2\"/>\n",
       "<circle clip-path=\"url(#clip392)\" cx=\"1354.14\" cy=\"476.26\" r=\"14\" fill=\"#009af9\" fill-rule=\"evenodd\" fill-opacity=\"1\" stroke=\"#000000\" stroke-opacity=\"1\" stroke-width=\"3.2\"/>\n",
       "<circle clip-path=\"url(#clip392)\" cx=\"1458.16\" cy=\"453.506\" r=\"14\" fill=\"#009af9\" fill-rule=\"evenodd\" fill-opacity=\"1\" stroke=\"#000000\" stroke-opacity=\"1\" stroke-width=\"3.2\"/>\n",
       "<circle clip-path=\"url(#clip392)\" cx=\"1562.18\" cy=\"553.577\" r=\"14\" fill=\"#009af9\" fill-rule=\"evenodd\" fill-opacity=\"1\" stroke=\"#000000\" stroke-opacity=\"1\" stroke-width=\"3.2\"/>\n",
       "<circle clip-path=\"url(#clip392)\" cx=\"1666.21\" cy=\"451.177\" r=\"14\" fill=\"#009af9\" fill-rule=\"evenodd\" fill-opacity=\"1\" stroke=\"#000000\" stroke-opacity=\"1\" stroke-width=\"3.2\"/>\n",
       "<circle clip-path=\"url(#clip392)\" cx=\"1770.23\" cy=\"576.269\" r=\"14\" fill=\"#009af9\" fill-rule=\"evenodd\" fill-opacity=\"1\" stroke=\"#000000\" stroke-opacity=\"1\" stroke-width=\"3.2\"/>\n",
       "<circle clip-path=\"url(#clip392)\" cx=\"1874.25\" cy=\"714.852\" r=\"14\" fill=\"#009af9\" fill-rule=\"evenodd\" fill-opacity=\"1\" stroke=\"#000000\" stroke-opacity=\"1\" stroke-width=\"3.2\"/>\n",
       "<circle clip-path=\"url(#clip392)\" cx=\"1978.27\" cy=\"908.223\" r=\"14\" fill=\"#009af9\" fill-rule=\"evenodd\" fill-opacity=\"1\" stroke=\"#000000\" stroke-opacity=\"1\" stroke-width=\"3.2\"/>\n",
       "<circle clip-path=\"url(#clip392)\" cx=\"2082.3\" cy=\"879.355\" r=\"14\" fill=\"#009af9\" fill-rule=\"evenodd\" fill-opacity=\"1\" stroke=\"#000000\" stroke-opacity=\"1\" stroke-width=\"3.2\"/>\n",
       "<circle clip-path=\"url(#clip392)\" cx=\"2186.32\" cy=\"1197.52\" r=\"14\" fill=\"#009af9\" fill-rule=\"evenodd\" fill-opacity=\"1\" stroke=\"#000000\" stroke-opacity=\"1\" stroke-width=\"3.2\"/>\n",
       "<circle clip-path=\"url(#clip392)\" cx=\"2290.34\" cy=\"1330.59\" r=\"14\" fill=\"#009af9\" fill-rule=\"evenodd\" fill-opacity=\"1\" stroke=\"#000000\" stroke-opacity=\"1\" stroke-width=\"3.2\"/>\n",
       "<polyline clip-path=\"url(#clip392)\" style=\"stroke:#ff0000; stroke-linecap:butt; stroke-linejoin:round; stroke-width:4; stroke-opacity:1; fill:none\" points=\"\n",
       "  209.891,279.536 230.209,285.909 418.072,344.837 530.969,380.251 626.423,410.192 730.112,442.717 825.705,472.702 928.19,504.849 1046.93,542.095 1152.45,575.195 \n",
       "  1244.98,604.22 1345.87,635.865 1447.35,667.699 1559.56,702.895 1666.32,736.383 1777.32,771.203 1870.77,800.514 1984.85,836.299 2092.09,869.938 2263.9,923.831 \n",
       "  2290.34,932.125 \n",
       "  \"/>\n",
       "</svg>\n"
      ]
     },
     "execution_count": 42,
     "metadata": {},
     "output_type": "execute_result"
    }
   ],
   "source": [
    "# Exemplo 2\n",
    "n = 21\n",
    "x = range(0,1,length=n)\n",
    "y = -5*x.^5 +4*x.^4 -3*x.^3 +2*x.^2 - 1*x.^1 .+1  + randn(n)*0.3 #ruido\n",
    "polinomio = regressão_coeficientes_lineares(x,y,1)\n",
    "scatter(x,y,leg=false)\n",
    "plot!(polinomio,c=:red,\n",
    "    xaxis=([0,1]),\n",
    "    yaxis=([-2,2]))"
   ]
  },
  {
   "cell_type": "code",
   "execution_count": 43,
   "id": "c932cbf5",
   "metadata": {},
   "outputs": [
    {
     "data": {
      "image/svg+xml": [
       "<?xml version=\"1.0\" encoding=\"utf-8\"?>\n",
       "<svg xmlns=\"http://www.w3.org/2000/svg\" xmlns:xlink=\"http://www.w3.org/1999/xlink\" width=\"600\" height=\"400\" viewBox=\"0 0 2400 1600\">\n",
       "<defs>\n",
       "  <clipPath id=\"clip430\">\n",
       "    <rect x=\"0\" y=\"0\" width=\"2400\" height=\"1600\"/>\n",
       "  </clipPath>\n",
       "</defs>\n",
       "<path clip-path=\"url(#clip430)\" d=\"\n",
       "M0 1600 L2400 1600 L2400 0 L0 0  Z\n",
       "  \" fill=\"#ffffff\" fill-rule=\"evenodd\" fill-opacity=\"1\"/>\n",
       "<defs>\n",
       "  <clipPath id=\"clip431\">\n",
       "    <rect x=\"480\" y=\"0\" width=\"1681\" height=\"1600\"/>\n",
       "  </clipPath>\n",
       "</defs>\n",
       "<path clip-path=\"url(#clip430)\" d=\"\n",
       "M147.478 1486.45 L2352.76 1486.45 L2352.76 47.2441 L147.478 47.2441  Z\n",
       "  \" fill=\"#ffffff\" fill-rule=\"evenodd\" fill-opacity=\"1\"/>\n",
       "<defs>\n",
       "  <clipPath id=\"clip432\">\n",
       "    <rect x=\"147\" y=\"47\" width=\"2206\" height=\"1440\"/>\n",
       "  </clipPath>\n",
       "</defs>\n",
       "<polyline clip-path=\"url(#clip432)\" style=\"stroke:#000000; stroke-linecap:butt; stroke-linejoin:round; stroke-width:2; stroke-opacity:0.1; fill:none\" points=\"\n",
       "  209.891,1486.45 209.891,47.2441 \n",
       "  \"/>\n",
       "<polyline clip-path=\"url(#clip432)\" style=\"stroke:#000000; stroke-linecap:butt; stroke-linejoin:round; stroke-width:2; stroke-opacity:0.1; fill:none\" points=\"\n",
       "  730.004,1486.45 730.004,47.2441 \n",
       "  \"/>\n",
       "<polyline clip-path=\"url(#clip432)\" style=\"stroke:#000000; stroke-linecap:butt; stroke-linejoin:round; stroke-width:2; stroke-opacity:0.1; fill:none\" points=\"\n",
       "  1250.12,1486.45 1250.12,47.2441 \n",
       "  \"/>\n",
       "<polyline clip-path=\"url(#clip432)\" style=\"stroke:#000000; stroke-linecap:butt; stroke-linejoin:round; stroke-width:2; stroke-opacity:0.1; fill:none\" points=\"\n",
       "  1770.23,1486.45 1770.23,47.2441 \n",
       "  \"/>\n",
       "<polyline clip-path=\"url(#clip432)\" style=\"stroke:#000000; stroke-linecap:butt; stroke-linejoin:round; stroke-width:2; stroke-opacity:0.1; fill:none\" points=\"\n",
       "  2290.34,1486.45 2290.34,47.2441 \n",
       "  \"/>\n",
       "<polyline clip-path=\"url(#clip430)\" style=\"stroke:#000000; stroke-linecap:butt; stroke-linejoin:round; stroke-width:4; stroke-opacity:1; fill:none\" points=\"\n",
       "  147.478,1486.45 2352.76,1486.45 \n",
       "  \"/>\n",
       "<polyline clip-path=\"url(#clip430)\" style=\"stroke:#000000; stroke-linecap:butt; stroke-linejoin:round; stroke-width:4; stroke-opacity:1; fill:none\" points=\"\n",
       "  209.891,1486.45 209.891,1467.55 \n",
       "  \"/>\n",
       "<polyline clip-path=\"url(#clip430)\" style=\"stroke:#000000; stroke-linecap:butt; stroke-linejoin:round; stroke-width:4; stroke-opacity:1; fill:none\" points=\"\n",
       "  730.004,1486.45 730.004,1467.55 \n",
       "  \"/>\n",
       "<polyline clip-path=\"url(#clip430)\" style=\"stroke:#000000; stroke-linecap:butt; stroke-linejoin:round; stroke-width:4; stroke-opacity:1; fill:none\" points=\"\n",
       "  1250.12,1486.45 1250.12,1467.55 \n",
       "  \"/>\n",
       "<polyline clip-path=\"url(#clip430)\" style=\"stroke:#000000; stroke-linecap:butt; stroke-linejoin:round; stroke-width:4; stroke-opacity:1; fill:none\" points=\"\n",
       "  1770.23,1486.45 1770.23,1467.55 \n",
       "  \"/>\n",
       "<polyline clip-path=\"url(#clip430)\" style=\"stroke:#000000; stroke-linecap:butt; stroke-linejoin:round; stroke-width:4; stroke-opacity:1; fill:none\" points=\"\n",
       "  2290.34,1486.45 2290.34,1467.55 \n",
       "  \"/>\n",
       "<path clip-path=\"url(#clip430)\" d=\"M172.195 1517.37 Q168.584 1517.37 166.755 1520.93 Q164.95 1524.47 164.95 1531.6 Q164.95 1538.71 166.755 1542.27 Q168.584 1545.82 172.195 1545.82 Q175.829 1545.82 177.635 1542.27 Q179.463 1538.71 179.463 1531.6 Q179.463 1524.47 177.635 1520.93 Q175.829 1517.37 172.195 1517.37 M172.195 1513.66 Q178.005 1513.66 181.061 1518.27 Q184.139 1522.85 184.139 1531.6 Q184.139 1540.33 181.061 1544.94 Q178.005 1549.52 172.195 1549.52 Q166.385 1549.52 163.306 1544.94 Q160.251 1540.33 160.251 1531.6 Q160.251 1522.85 163.306 1518.27 Q166.385 1513.66 172.195 1513.66 Z\" fill=\"#000000\" fill-rule=\"evenodd\" fill-opacity=\"1\" /><path clip-path=\"url(#clip430)\" d=\"M192.357 1542.97 L197.241 1542.97 L197.241 1548.85 L192.357 1548.85 L192.357 1542.97 Z\" fill=\"#000000\" fill-rule=\"evenodd\" fill-opacity=\"1\" /><path clip-path=\"url(#clip430)\" d=\"M217.426 1517.37 Q213.815 1517.37 211.986 1520.93 Q210.181 1524.47 210.181 1531.6 Q210.181 1538.71 211.986 1542.27 Q213.815 1545.82 217.426 1545.82 Q221.06 1545.82 222.866 1542.27 Q224.695 1538.71 224.695 1531.6 Q224.695 1524.47 222.866 1520.93 Q221.06 1517.37 217.426 1517.37 M217.426 1513.66 Q223.236 1513.66 226.292 1518.27 Q229.371 1522.85 229.371 1531.6 Q229.371 1540.33 226.292 1544.94 Q223.236 1549.52 217.426 1549.52 Q211.616 1549.52 208.537 1544.94 Q205.482 1540.33 205.482 1531.6 Q205.482 1522.85 208.537 1518.27 Q211.616 1513.66 217.426 1513.66 Z\" fill=\"#000000\" fill-rule=\"evenodd\" fill-opacity=\"1\" /><path clip-path=\"url(#clip430)\" d=\"M247.588 1517.37 Q243.977 1517.37 242.148 1520.93 Q240.343 1524.47 240.343 1531.6 Q240.343 1538.71 242.148 1542.27 Q243.977 1545.82 247.588 1545.82 Q251.222 1545.82 253.028 1542.27 Q254.856 1538.71 254.856 1531.6 Q254.856 1524.47 253.028 1520.93 Q251.222 1517.37 247.588 1517.37 M247.588 1513.66 Q253.398 1513.66 256.454 1518.27 Q259.532 1522.85 259.532 1531.6 Q259.532 1540.33 256.454 1544.94 Q253.398 1549.52 247.588 1549.52 Q241.778 1549.52 238.699 1544.94 Q235.644 1540.33 235.644 1531.6 Q235.644 1522.85 238.699 1518.27 Q241.778 1513.66 247.588 1513.66 Z\" fill=\"#000000\" fill-rule=\"evenodd\" fill-opacity=\"1\" /><path clip-path=\"url(#clip430)\" d=\"M692.805 1517.37 Q689.194 1517.37 687.366 1520.93 Q685.56 1524.47 685.56 1531.6 Q685.56 1538.71 687.366 1542.27 Q689.194 1545.82 692.805 1545.82 Q696.44 1545.82 698.245 1542.27 Q700.074 1538.71 700.074 1531.6 Q700.074 1524.47 698.245 1520.93 Q696.44 1517.37 692.805 1517.37 M692.805 1513.66 Q698.615 1513.66 701.671 1518.27 Q704.75 1522.85 704.75 1531.6 Q704.75 1540.33 701.671 1544.94 Q698.615 1549.52 692.805 1549.52 Q686.995 1549.52 683.916 1544.94 Q680.861 1540.33 680.861 1531.6 Q680.861 1522.85 683.916 1518.27 Q686.995 1513.66 692.805 1513.66 Z\" fill=\"#000000\" fill-rule=\"evenodd\" fill-opacity=\"1\" /><path clip-path=\"url(#clip430)\" d=\"M712.967 1542.97 L717.851 1542.97 L717.851 1548.85 L712.967 1548.85 L712.967 1542.97 Z\" fill=\"#000000\" fill-rule=\"evenodd\" fill-opacity=\"1\" /><path clip-path=\"url(#clip430)\" d=\"M732.064 1544.91 L748.384 1544.91 L748.384 1548.85 L726.439 1548.85 L726.439 1544.91 Q729.101 1542.16 733.685 1537.53 Q738.291 1532.88 739.472 1531.53 Q741.717 1529.01 742.597 1527.27 Q743.499 1525.51 743.499 1523.82 Q743.499 1521.07 741.555 1519.33 Q739.634 1517.6 736.532 1517.6 Q734.333 1517.6 731.879 1518.36 Q729.449 1519.13 726.671 1520.68 L726.671 1515.95 Q729.495 1514.82 731.949 1514.24 Q734.402 1513.66 736.439 1513.66 Q741.81 1513.66 745.004 1516.35 Q748.199 1519.03 748.199 1523.52 Q748.199 1525.65 747.388 1527.57 Q746.601 1529.47 744.495 1532.07 Q743.916 1532.74 740.814 1535.95 Q737.712 1539.15 732.064 1544.91 Z\" fill=\"#000000\" fill-rule=\"evenodd\" fill-opacity=\"1\" /><path clip-path=\"url(#clip430)\" d=\"M758.245 1514.29 L776.601 1514.29 L776.601 1518.22 L762.527 1518.22 L762.527 1526.7 Q763.546 1526.35 764.564 1526.19 Q765.583 1526 766.601 1526 Q772.388 1526 775.768 1529.17 Q779.147 1532.34 779.147 1537.76 Q779.147 1543.34 775.675 1546.44 Q772.203 1549.52 765.884 1549.52 Q763.708 1549.52 761.439 1549.15 Q759.194 1548.78 756.786 1548.04 L756.786 1543.34 Q758.87 1544.47 761.092 1545.03 Q763.314 1545.58 765.791 1545.58 Q769.796 1545.58 772.134 1543.48 Q774.472 1541.37 774.472 1537.76 Q774.472 1534.15 772.134 1532.04 Q769.796 1529.94 765.791 1529.94 Q763.916 1529.94 762.041 1530.35 Q760.189 1530.77 758.245 1531.65 L758.245 1514.29 Z\" fill=\"#000000\" fill-rule=\"evenodd\" fill-opacity=\"1\" /><path clip-path=\"url(#clip430)\" d=\"M1212.42 1517.37 Q1208.81 1517.37 1206.98 1520.93 Q1205.18 1524.47 1205.18 1531.6 Q1205.18 1538.71 1206.98 1542.27 Q1208.81 1545.82 1212.42 1545.82 Q1216.05 1545.82 1217.86 1542.27 Q1219.69 1538.71 1219.69 1531.6 Q1219.69 1524.47 1217.86 1520.93 Q1216.05 1517.37 1212.42 1517.37 M1212.42 1513.66 Q1218.23 1513.66 1221.29 1518.27 Q1224.36 1522.85 1224.36 1531.6 Q1224.36 1540.33 1221.29 1544.94 Q1218.23 1549.52 1212.42 1549.52 Q1206.61 1549.52 1203.53 1544.94 Q1200.48 1540.33 1200.48 1531.6 Q1200.48 1522.85 1203.53 1518.27 Q1206.61 1513.66 1212.42 1513.66 Z\" fill=\"#000000\" fill-rule=\"evenodd\" fill-opacity=\"1\" /><path clip-path=\"url(#clip430)\" d=\"M1232.58 1542.97 L1237.47 1542.97 L1237.47 1548.85 L1232.58 1548.85 L1232.58 1542.97 Z\" fill=\"#000000\" fill-rule=\"evenodd\" fill-opacity=\"1\" /><path clip-path=\"url(#clip430)\" d=\"M1247.7 1514.29 L1266.05 1514.29 L1266.05 1518.22 L1251.98 1518.22 L1251.98 1526.7 Q1253 1526.35 1254.02 1526.19 Q1255.04 1526 1256.05 1526 Q1261.84 1526 1265.22 1529.17 Q1268.6 1532.34 1268.6 1537.76 Q1268.6 1543.34 1265.13 1546.44 Q1261.66 1549.52 1255.34 1549.52 Q1253.16 1549.52 1250.89 1549.15 Q1248.65 1548.78 1246.24 1548.04 L1246.24 1543.34 Q1248.32 1544.47 1250.55 1545.03 Q1252.77 1545.58 1255.24 1545.58 Q1259.25 1545.58 1261.59 1543.48 Q1263.92 1541.37 1263.92 1537.76 Q1263.92 1534.15 1261.59 1532.04 Q1259.25 1529.94 1255.24 1529.94 Q1253.37 1529.94 1251.49 1530.35 Q1249.64 1530.77 1247.7 1531.65 L1247.7 1514.29 Z\" fill=\"#000000\" fill-rule=\"evenodd\" fill-opacity=\"1\" /><path clip-path=\"url(#clip430)\" d=\"M1287.81 1517.37 Q1284.2 1517.37 1282.37 1520.93 Q1280.57 1524.47 1280.57 1531.6 Q1280.57 1538.71 1282.37 1542.27 Q1284.2 1545.82 1287.81 1545.82 Q1291.45 1545.82 1293.25 1542.27 Q1295.08 1538.71 1295.08 1531.6 Q1295.08 1524.47 1293.25 1520.93 Q1291.45 1517.37 1287.81 1517.37 M1287.81 1513.66 Q1293.62 1513.66 1296.68 1518.27 Q1299.76 1522.85 1299.76 1531.6 Q1299.76 1540.33 1296.68 1544.94 Q1293.62 1549.52 1287.81 1549.52 Q1282 1549.52 1278.92 1544.94 Q1275.87 1540.33 1275.87 1531.6 Q1275.87 1522.85 1278.92 1518.27 Q1282 1513.66 1287.81 1513.66 Z\" fill=\"#000000\" fill-rule=\"evenodd\" fill-opacity=\"1\" /><path clip-path=\"url(#clip430)\" d=\"M1733.03 1517.37 Q1729.42 1517.37 1727.59 1520.93 Q1725.79 1524.47 1725.79 1531.6 Q1725.79 1538.71 1727.59 1542.27 Q1729.42 1545.82 1733.03 1545.82 Q1736.67 1545.82 1738.47 1542.27 Q1740.3 1538.71 1740.3 1531.6 Q1740.3 1524.47 1738.47 1520.93 Q1736.67 1517.37 1733.03 1517.37 M1733.03 1513.66 Q1738.84 1513.66 1741.9 1518.27 Q1744.98 1522.85 1744.98 1531.6 Q1744.98 1540.33 1741.9 1544.94 Q1738.84 1549.52 1733.03 1549.52 Q1727.22 1549.52 1724.14 1544.94 Q1721.09 1540.33 1721.09 1531.6 Q1721.09 1522.85 1724.14 1518.27 Q1727.22 1513.66 1733.03 1513.66 Z\" fill=\"#000000\" fill-rule=\"evenodd\" fill-opacity=\"1\" /><path clip-path=\"url(#clip430)\" d=\"M1753.19 1542.97 L1758.08 1542.97 L1758.08 1548.85 L1753.19 1548.85 L1753.19 1542.97 Z\" fill=\"#000000\" fill-rule=\"evenodd\" fill-opacity=\"1\" /><path clip-path=\"url(#clip430)\" d=\"M1767.08 1514.29 L1789.3 1514.29 L1789.3 1516.28 L1776.76 1548.85 L1771.87 1548.85 L1783.68 1518.22 L1767.08 1518.22 L1767.08 1514.29 Z\" fill=\"#000000\" fill-rule=\"evenodd\" fill-opacity=\"1\" /><path clip-path=\"url(#clip430)\" d=\"M1798.47 1514.29 L1816.83 1514.29 L1816.83 1518.22 L1802.75 1518.22 L1802.75 1526.7 Q1803.77 1526.35 1804.79 1526.19 Q1805.81 1526 1806.83 1526 Q1812.61 1526 1815.99 1529.17 Q1819.37 1532.34 1819.37 1537.76 Q1819.37 1543.34 1815.9 1546.44 Q1812.43 1549.52 1806.11 1549.52 Q1803.93 1549.52 1801.66 1549.15 Q1799.42 1548.78 1797.01 1548.04 L1797.01 1543.34 Q1799.1 1544.47 1801.32 1545.03 Q1803.54 1545.58 1806.02 1545.58 Q1810.02 1545.58 1812.36 1543.48 Q1814.7 1541.37 1814.7 1537.76 Q1814.7 1534.15 1812.36 1532.04 Q1810.02 1529.94 1806.02 1529.94 Q1804.14 1529.94 1802.27 1530.35 Q1800.41 1530.77 1798.47 1531.65 L1798.47 1514.29 Z\" fill=\"#000000\" fill-rule=\"evenodd\" fill-opacity=\"1\" /><path clip-path=\"url(#clip430)\" d=\"M2242.41 1544.91 L2250.05 1544.91 L2250.05 1518.55 L2241.74 1520.21 L2241.74 1515.95 L2250.01 1514.29 L2254.68 1514.29 L2254.68 1544.91 L2262.32 1544.91 L2262.32 1548.85 L2242.41 1548.85 L2242.41 1544.91 Z\" fill=\"#000000\" fill-rule=\"evenodd\" fill-opacity=\"1\" /><path clip-path=\"url(#clip430)\" d=\"M2271.77 1542.97 L2276.65 1542.97 L2276.65 1548.85 L2271.77 1548.85 L2271.77 1542.97 Z\" fill=\"#000000\" fill-rule=\"evenodd\" fill-opacity=\"1\" /><path clip-path=\"url(#clip430)\" d=\"M2296.84 1517.37 Q2293.22 1517.37 2291.4 1520.93 Q2289.59 1524.47 2289.59 1531.6 Q2289.59 1538.71 2291.4 1542.27 Q2293.22 1545.82 2296.84 1545.82 Q2300.47 1545.82 2302.28 1542.27 Q2304.1 1538.71 2304.1 1531.6 Q2304.1 1524.47 2302.28 1520.93 Q2300.47 1517.37 2296.84 1517.37 M2296.84 1513.66 Q2302.65 1513.66 2305.7 1518.27 Q2308.78 1522.85 2308.78 1531.6 Q2308.78 1540.33 2305.7 1544.94 Q2302.65 1549.52 2296.84 1549.52 Q2291.03 1549.52 2287.95 1544.94 Q2284.89 1540.33 2284.89 1531.6 Q2284.89 1522.85 2287.95 1518.27 Q2291.03 1513.66 2296.84 1513.66 Z\" fill=\"#000000\" fill-rule=\"evenodd\" fill-opacity=\"1\" /><path clip-path=\"url(#clip430)\" d=\"M2327 1517.37 Q2323.39 1517.37 2321.56 1520.93 Q2319.75 1524.47 2319.75 1531.6 Q2319.75 1538.71 2321.56 1542.27 Q2323.39 1545.82 2327 1545.82 Q2330.63 1545.82 2332.44 1542.27 Q2334.27 1538.71 2334.27 1531.6 Q2334.27 1524.47 2332.44 1520.93 Q2330.63 1517.37 2327 1517.37 M2327 1513.66 Q2332.81 1513.66 2335.86 1518.27 Q2338.94 1522.85 2338.94 1531.6 Q2338.94 1540.33 2335.86 1544.94 Q2332.81 1549.52 2327 1549.52 Q2321.19 1549.52 2318.11 1544.94 Q2315.05 1540.33 2315.05 1531.6 Q2315.05 1522.85 2318.11 1518.27 Q2321.19 1513.66 2327 1513.66 Z\" fill=\"#000000\" fill-rule=\"evenodd\" fill-opacity=\"1\" /><polyline clip-path=\"url(#clip432)\" style=\"stroke:#000000; stroke-linecap:butt; stroke-linejoin:round; stroke-width:2; stroke-opacity:0.1; fill:none\" points=\"\n",
       "  147.478,1445.72 2352.76,1445.72 \n",
       "  \"/>\n",
       "<polyline clip-path=\"url(#clip432)\" style=\"stroke:#000000; stroke-linecap:butt; stroke-linejoin:round; stroke-width:2; stroke-opacity:0.1; fill:none\" points=\"\n",
       "  147.478,1106.28 2352.76,1106.28 \n",
       "  \"/>\n",
       "<polyline clip-path=\"url(#clip432)\" style=\"stroke:#000000; stroke-linecap:butt; stroke-linejoin:round; stroke-width:2; stroke-opacity:0.1; fill:none\" points=\"\n",
       "  147.478,766.846 2352.76,766.846 \n",
       "  \"/>\n",
       "<polyline clip-path=\"url(#clip432)\" style=\"stroke:#000000; stroke-linecap:butt; stroke-linejoin:round; stroke-width:2; stroke-opacity:0.1; fill:none\" points=\"\n",
       "  147.478,427.411 2352.76,427.411 \n",
       "  \"/>\n",
       "<polyline clip-path=\"url(#clip432)\" style=\"stroke:#000000; stroke-linecap:butt; stroke-linejoin:round; stroke-width:2; stroke-opacity:0.1; fill:none\" points=\"\n",
       "  147.478,87.9763 2352.76,87.9763 \n",
       "  \"/>\n",
       "<polyline clip-path=\"url(#clip430)\" style=\"stroke:#000000; stroke-linecap:butt; stroke-linejoin:round; stroke-width:4; stroke-opacity:1; fill:none\" points=\"\n",
       "  147.478,1486.45 147.478,47.2441 \n",
       "  \"/>\n",
       "<polyline clip-path=\"url(#clip430)\" style=\"stroke:#000000; stroke-linecap:butt; stroke-linejoin:round; stroke-width:4; stroke-opacity:1; fill:none\" points=\"\n",
       "  147.478,1445.72 166.376,1445.72 \n",
       "  \"/>\n",
       "<polyline clip-path=\"url(#clip430)\" style=\"stroke:#000000; stroke-linecap:butt; stroke-linejoin:round; stroke-width:4; stroke-opacity:1; fill:none\" points=\"\n",
       "  147.478,1106.28 166.376,1106.28 \n",
       "  \"/>\n",
       "<polyline clip-path=\"url(#clip430)\" style=\"stroke:#000000; stroke-linecap:butt; stroke-linejoin:round; stroke-width:4; stroke-opacity:1; fill:none\" points=\"\n",
       "  147.478,766.846 166.376,766.846 \n",
       "  \"/>\n",
       "<polyline clip-path=\"url(#clip430)\" style=\"stroke:#000000; stroke-linecap:butt; stroke-linejoin:round; stroke-width:4; stroke-opacity:1; fill:none\" points=\"\n",
       "  147.478,427.411 166.376,427.411 \n",
       "  \"/>\n",
       "<polyline clip-path=\"url(#clip430)\" style=\"stroke:#000000; stroke-linecap:butt; stroke-linejoin:round; stroke-width:4; stroke-opacity:1; fill:none\" points=\"\n",
       "  147.478,87.9763 166.376,87.9763 \n",
       "  \"/>\n",
       "<path clip-path=\"url(#clip430)\" d=\"M51.3625 1446.17 L81.0383 1446.17 L81.0383 1450.1 L51.3625 1450.1 L51.3625 1446.17 Z\" fill=\"#000000\" fill-rule=\"evenodd\" fill-opacity=\"1\" /><path clip-path=\"url(#clip430)\" d=\"M95.1586 1459.06 L111.478 1459.06 L111.478 1463 L89.5336 1463 L89.5336 1459.06 Q92.1956 1456.31 96.7789 1451.68 Q101.385 1447.02 102.566 1445.68 Q104.811 1443.16 105.691 1441.42 Q106.594 1439.66 106.594 1437.97 Q106.594 1435.22 104.649 1433.48 Q102.728 1431.75 99.6261 1431.75 Q97.4271 1431.75 94.9734 1432.51 Q92.5428 1433.27 89.7651 1434.82 L89.7651 1430.1 Q92.5891 1428.97 95.0428 1428.39 Q97.4965 1427.81 99.5335 1427.81 Q104.904 1427.81 108.098 1430.5 Q111.293 1433.18 111.293 1437.67 Q111.293 1439.8 110.483 1441.72 Q109.696 1443.62 107.589 1446.21 Q107.01 1446.88 103.909 1450.1 Q100.807 1453.3 95.1586 1459.06 Z\" fill=\"#000000\" fill-rule=\"evenodd\" fill-opacity=\"1\" /><path clip-path=\"url(#clip430)\" d=\"M50.9921 1106.73 L80.6679 1106.73 L80.6679 1110.67 L50.9921 1110.67 L50.9921 1106.73 Z\" fill=\"#000000\" fill-rule=\"evenodd\" fill-opacity=\"1\" /><path clip-path=\"url(#clip430)\" d=\"M91.5706 1119.63 L99.2095 1119.63 L99.2095 1093.26 L90.8993 1094.93 L90.8993 1090.67 L99.1632 1089 L103.839 1089 L103.839 1119.63 L111.478 1119.63 L111.478 1123.56 L91.5706 1123.56 L91.5706 1119.63 Z\" fill=\"#000000\" fill-rule=\"evenodd\" fill-opacity=\"1\" /><path clip-path=\"url(#clip430)\" d=\"M99.5335 752.645 Q95.9224 752.645 94.0937 756.209 Q92.2882 759.751 92.2882 766.881 Q92.2882 773.987 94.0937 777.552 Q95.9224 781.094 99.5335 781.094 Q103.168 781.094 104.973 777.552 Q106.802 773.987 106.802 766.881 Q106.802 759.751 104.973 756.209 Q103.168 752.645 99.5335 752.645 M99.5335 748.941 Q105.344 748.941 108.399 753.547 Q111.478 758.131 111.478 766.881 Q111.478 775.608 108.399 780.214 Q105.344 784.797 99.5335 784.797 Q93.7234 784.797 90.6447 780.214 Q87.5892 775.608 87.5892 766.881 Q87.5892 758.131 90.6447 753.547 Q93.7234 748.941 99.5335 748.941 Z\" fill=\"#000000\" fill-rule=\"evenodd\" fill-opacity=\"1\" /><path clip-path=\"url(#clip430)\" d=\"M91.5706 440.756 L99.2095 440.756 L99.2095 414.39 L90.8993 416.057 L90.8993 411.798 L99.1632 410.131 L103.839 410.131 L103.839 440.756 L111.478 440.756 L111.478 444.691 L91.5706 444.691 L91.5706 440.756 Z\" fill=\"#000000\" fill-rule=\"evenodd\" fill-opacity=\"1\" /><path clip-path=\"url(#clip430)\" d=\"M95.1586 101.321 L111.478 101.321 L111.478 105.256 L89.5336 105.256 L89.5336 101.321 Q92.1956 98.5665 96.7789 93.9369 Q101.385 89.2841 102.566 87.9416 Q104.811 85.4184 105.691 83.6823 Q106.594 81.9231 106.594 80.2333 Q106.594 77.4786 104.649 75.7425 Q102.728 74.0064 99.6261 74.0064 Q97.4271 74.0064 94.9734 74.7703 Q92.5428 75.5342 89.7651 77.0851 L89.7651 72.3629 Q92.5891 71.2287 95.0428 70.65 Q97.4965 70.0713 99.5335 70.0713 Q104.904 70.0713 108.098 72.7565 Q111.293 75.4416 111.293 79.9323 Q111.293 82.062 110.483 83.9832 Q109.696 85.8814 107.589 88.474 Q107.01 89.1453 103.909 92.3628 Q100.807 95.5573 95.1586 101.321 Z\" fill=\"#000000\" fill-rule=\"evenodd\" fill-opacity=\"1\" /><circle clip-path=\"url(#clip432)\" cx=\"209.891\" cy=\"556.664\" r=\"14\" fill=\"#009af9\" fill-rule=\"evenodd\" fill-opacity=\"1\" stroke=\"#000000\" stroke-opacity=\"1\" stroke-width=\"3.2\"/>\n",
       "<circle clip-path=\"url(#clip432)\" cx=\"441.053\" cy=\"258.646\" r=\"14\" fill=\"#009af9\" fill-rule=\"evenodd\" fill-opacity=\"1\" stroke=\"#000000\" stroke-opacity=\"1\" stroke-width=\"3.2\"/>\n",
       "<circle clip-path=\"url(#clip432)\" cx=\"672.214\" cy=\"350.147\" r=\"14\" fill=\"#009af9\" fill-rule=\"evenodd\" fill-opacity=\"1\" stroke=\"#000000\" stroke-opacity=\"1\" stroke-width=\"3.2\"/>\n",
       "<circle clip-path=\"url(#clip432)\" cx=\"903.375\" cy=\"520.117\" r=\"14\" fill=\"#009af9\" fill-rule=\"evenodd\" fill-opacity=\"1\" stroke=\"#000000\" stroke-opacity=\"1\" stroke-width=\"3.2\"/>\n",
       "<circle clip-path=\"url(#clip432)\" cx=\"1134.54\" cy=\"410.103\" r=\"14\" fill=\"#009af9\" fill-rule=\"evenodd\" fill-opacity=\"1\" stroke=\"#000000\" stroke-opacity=\"1\" stroke-width=\"3.2\"/>\n",
       "<circle clip-path=\"url(#clip432)\" cx=\"1365.7\" cy=\"569.353\" r=\"14\" fill=\"#009af9\" fill-rule=\"evenodd\" fill-opacity=\"1\" stroke=\"#000000\" stroke-opacity=\"1\" stroke-width=\"3.2\"/>\n",
       "<circle clip-path=\"url(#clip432)\" cx=\"1596.86\" cy=\"666.968\" r=\"14\" fill=\"#009af9\" fill-rule=\"evenodd\" fill-opacity=\"1\" stroke=\"#000000\" stroke-opacity=\"1\" stroke-width=\"3.2\"/>\n",
       "<circle clip-path=\"url(#clip432)\" cx=\"1828.02\" cy=\"699.319\" r=\"14\" fill=\"#009af9\" fill-rule=\"evenodd\" fill-opacity=\"1\" stroke=\"#000000\" stroke-opacity=\"1\" stroke-width=\"3.2\"/>\n",
       "<circle clip-path=\"url(#clip432)\" cx=\"2059.18\" cy=\"1024.84\" r=\"14\" fill=\"#009af9\" fill-rule=\"evenodd\" fill-opacity=\"1\" stroke=\"#000000\" stroke-opacity=\"1\" stroke-width=\"3.2\"/>\n",
       "<polyline clip-path=\"url(#clip432)\" style=\"stroke:#ff0000; stroke-linecap:butt; stroke-linejoin:round; stroke-width:4; stroke-opacity:1; fill:none\" points=\"\n",
       "  209.891,504.536 230.209,494.159 418.072,416 530.969,384.471 626.423,366.858 730.112,357.116 825.705,356.798 928.19,365.689 1046.93,387.935 1152.45,418.467 \n",
       "  1244.98,453.575 1345.87,500.726 1447.35,557.497 1559.56,631.169 1666.32,711.896 1777.32,806.828 1870.77,895.427 1984.85,1014.36 2092.09,1136.96 2263.9,1355.18 \n",
       "  2290.34,1391.14 \n",
       "  \"/>\n",
       "</svg>\n"
      ]
     },
     "execution_count": 43,
     "metadata": {},
     "output_type": "execute_result"
    }
   ],
   "source": [
    "# Exemplo 3\n",
    "n = 10\n",
    "x = range(0,1,length=n)\n",
    "y = -5*x.^5 +4*x.^4 -3*x.^3 +2*x.^2 - 1*x.^1 .+1  + randn(n)*0.3 #ruido\n",
    "polinomio = regressão_coeficientes_lineares(x,y,2)\n",
    "scatter(x,y,leg=false)\n",
    "plot!(polinomio,c=:red,\n",
    "    xaxis=([0,1]),\n",
    "    yaxis=([-2,2]))"
   ]
  },
  {
   "cell_type": "code",
   "execution_count": null,
   "id": "1d34e22a",
   "metadata": {},
   "outputs": [],
   "source": [
    "# 6)Problema: Regressão com coeficiente lineares (generalização do problema anterior)\n",
    "# Entrada: n pontos: (x_0,y_0) … (x_n,y_n), e k funções f_1(x), f_2(x),...,f_k(x) (um vetor de funções)\n",
    "# Saída: uma  função F(x) = c_1*f_1(x)+...+c_k*f_k(x) ou coeficientes\n",
    "# Especificação: Para todo 1<=i<=n, F(x_i) aproximadamente y_i"
   ]
  },
  {
   "cell_type": "code",
   "execution_count": 44,
   "id": "31b49cb4",
   "metadata": {},
   "outputs": [
    {
     "data": {
      "text/plain": [
       "vandermonde_geral (generic function with 1 method)"
      ]
     },
     "execution_count": 44,
     "metadata": {},
     "output_type": "execute_result"
    }
   ],
   "source": [
    "# Recebe um conjunto de pontos x e y e um conjunto de vetor de funções \n",
    "# Retorna um conjunto de coeficientes\n",
    "f(x)=x^3\n",
    "g(x)=x^2\n",
    "h(x)=x\n",
    "vetor =[f,g,h]\n",
    "function vandermonde_geral(x,y,grau)\n",
    "    n,=size(y)\n",
    "    V=zeros(n,grau+1)\n",
    "    for i=1:n #linhas\n",
    "        for j=1:(grau+1)\n",
    "            V[i,j]=vetor[j](x[i])\n",
    "        end\n",
    "    end\n",
    "    return V\n",
    "end"
   ]
  },
  {
   "cell_type": "code",
   "execution_count": 45,
   "id": "4497b7a0",
   "metadata": {},
   "outputs": [
    {
     "data": {
      "text/plain": [
       "3×1 Matrix{Float64}:\n",
       " -0.3777777777777778\n",
       "  0.2222222222222222\n",
       "  3.0666666666666673"
      ]
     },
     "execution_count": 45,
     "metadata": {},
     "output_type": "execute_result"
    }
   ],
   "source": [
    "# Exemplo 1\n",
    "x = [-3; 2; 3]\n",
    "y = [3; 4; 1]\n",
    "V=vandermonde_geral(x,y,2)\n",
    "sistema_denso(V'*V,V'*y)"
   ]
  },
  {
   "cell_type": "code",
   "execution_count": 46,
   "id": "cd4448a0",
   "metadata": {},
   "outputs": [
    {
     "data": {
      "text/plain": [
       "p (generic function with 1 method)"
      ]
     },
     "execution_count": 46,
     "metadata": {},
     "output_type": "execute_result"
    }
   ],
   "source": [
    "p(x)= -0.3777777777777779 + 0.2222222222222222*x + 3.0666666666666673*x^2"
   ]
  },
  {
   "cell_type": "code",
   "execution_count": 47,
   "id": "c9438ad7",
   "metadata": {},
   "outputs": [
    {
     "data": {
      "image/svg+xml": [
       "<?xml version=\"1.0\" encoding=\"utf-8\"?>\n",
       "<svg xmlns=\"http://www.w3.org/2000/svg\" xmlns:xlink=\"http://www.w3.org/1999/xlink\" width=\"600\" height=\"400\" viewBox=\"0 0 2400 1600\">\n",
       "<defs>\n",
       "  <clipPath id=\"clip470\">\n",
       "    <rect x=\"0\" y=\"0\" width=\"2400\" height=\"1600\"/>\n",
       "  </clipPath>\n",
       "</defs>\n",
       "<path clip-path=\"url(#clip470)\" d=\"\n",
       "M0 1600 L2400 1600 L2400 0 L0 0  Z\n",
       "  \" fill=\"#ffffff\" fill-rule=\"evenodd\" fill-opacity=\"1\"/>\n",
       "<defs>\n",
       "  <clipPath id=\"clip471\">\n",
       "    <rect x=\"480\" y=\"0\" width=\"1681\" height=\"1600\"/>\n",
       "  </clipPath>\n",
       "</defs>\n",
       "<path clip-path=\"url(#clip470)\" d=\"\n",
       "M178.867 1486.45 L2352.76 1486.45 L2352.76 47.2441 L178.867 47.2441  Z\n",
       "  \" fill=\"#ffffff\" fill-rule=\"evenodd\" fill-opacity=\"1\"/>\n",
       "<defs>\n",
       "  <clipPath id=\"clip472\">\n",
       "    <rect x=\"178\" y=\"47\" width=\"2175\" height=\"1440\"/>\n",
       "  </clipPath>\n",
       "</defs>\n",
       "<polyline clip-path=\"url(#clip472)\" style=\"stroke:#000000; stroke-linecap:butt; stroke-linejoin:round; stroke-width:2; stroke-opacity:0.1; fill:none\" points=\"\n",
       "  240.392,1486.45 240.392,47.2441 \n",
       "  \"/>\n",
       "<polyline clip-path=\"url(#clip472)\" style=\"stroke:#000000; stroke-linecap:butt; stroke-linejoin:round; stroke-width:2; stroke-opacity:0.1; fill:none\" points=\"\n",
       "  582.198,1486.45 582.198,47.2441 \n",
       "  \"/>\n",
       "<polyline clip-path=\"url(#clip472)\" style=\"stroke:#000000; stroke-linecap:butt; stroke-linejoin:round; stroke-width:2; stroke-opacity:0.1; fill:none\" points=\"\n",
       "  924.005,1486.45 924.005,47.2441 \n",
       "  \"/>\n",
       "<polyline clip-path=\"url(#clip472)\" style=\"stroke:#000000; stroke-linecap:butt; stroke-linejoin:round; stroke-width:2; stroke-opacity:0.1; fill:none\" points=\"\n",
       "  1265.81,1486.45 1265.81,47.2441 \n",
       "  \"/>\n",
       "<polyline clip-path=\"url(#clip472)\" style=\"stroke:#000000; stroke-linecap:butt; stroke-linejoin:round; stroke-width:2; stroke-opacity:0.1; fill:none\" points=\"\n",
       "  1607.62,1486.45 1607.62,47.2441 \n",
       "  \"/>\n",
       "<polyline clip-path=\"url(#clip472)\" style=\"stroke:#000000; stroke-linecap:butt; stroke-linejoin:round; stroke-width:2; stroke-opacity:0.1; fill:none\" points=\"\n",
       "  1949.42,1486.45 1949.42,47.2441 \n",
       "  \"/>\n",
       "<polyline clip-path=\"url(#clip472)\" style=\"stroke:#000000; stroke-linecap:butt; stroke-linejoin:round; stroke-width:2; stroke-opacity:0.1; fill:none\" points=\"\n",
       "  2291.23,1486.45 2291.23,47.2441 \n",
       "  \"/>\n",
       "<polyline clip-path=\"url(#clip470)\" style=\"stroke:#000000; stroke-linecap:butt; stroke-linejoin:round; stroke-width:4; stroke-opacity:1; fill:none\" points=\"\n",
       "  178.867,1486.45 2352.76,1486.45 \n",
       "  \"/>\n",
       "<polyline clip-path=\"url(#clip470)\" style=\"stroke:#000000; stroke-linecap:butt; stroke-linejoin:round; stroke-width:4; stroke-opacity:1; fill:none\" points=\"\n",
       "  240.392,1486.45 240.392,1467.55 \n",
       "  \"/>\n",
       "<polyline clip-path=\"url(#clip470)\" style=\"stroke:#000000; stroke-linecap:butt; stroke-linejoin:round; stroke-width:4; stroke-opacity:1; fill:none\" points=\"\n",
       "  582.198,1486.45 582.198,1467.55 \n",
       "  \"/>\n",
       "<polyline clip-path=\"url(#clip470)\" style=\"stroke:#000000; stroke-linecap:butt; stroke-linejoin:round; stroke-width:4; stroke-opacity:1; fill:none\" points=\"\n",
       "  924.005,1486.45 924.005,1467.55 \n",
       "  \"/>\n",
       "<polyline clip-path=\"url(#clip470)\" style=\"stroke:#000000; stroke-linecap:butt; stroke-linejoin:round; stroke-width:4; stroke-opacity:1; fill:none\" points=\"\n",
       "  1265.81,1486.45 1265.81,1467.55 \n",
       "  \"/>\n",
       "<polyline clip-path=\"url(#clip470)\" style=\"stroke:#000000; stroke-linecap:butt; stroke-linejoin:round; stroke-width:4; stroke-opacity:1; fill:none\" points=\"\n",
       "  1607.62,1486.45 1607.62,1467.55 \n",
       "  \"/>\n",
       "<polyline clip-path=\"url(#clip470)\" style=\"stroke:#000000; stroke-linecap:butt; stroke-linejoin:round; stroke-width:4; stroke-opacity:1; fill:none\" points=\"\n",
       "  1949.42,1486.45 1949.42,1467.55 \n",
       "  \"/>\n",
       "<polyline clip-path=\"url(#clip470)\" style=\"stroke:#000000; stroke-linecap:butt; stroke-linejoin:round; stroke-width:4; stroke-opacity:1; fill:none\" points=\"\n",
       "  2291.23,1486.45 2291.23,1467.55 \n",
       "  \"/>\n",
       "<path clip-path=\"url(#clip470)\" d=\"M209.86 1532.02 L239.535 1532.02 L239.535 1535.95 L209.86 1535.95 L209.86 1532.02 Z\" fill=\"#000000\" fill-rule=\"evenodd\" fill-opacity=\"1\" /><path clip-path=\"url(#clip470)\" d=\"M263.794 1530.21 Q267.151 1530.93 269.026 1533.2 Q270.924 1535.47 270.924 1538.8 Q270.924 1543.92 267.406 1546.72 Q263.887 1549.52 257.406 1549.52 Q255.23 1549.52 252.915 1549.08 Q250.623 1548.66 248.17 1547.81 L248.17 1543.29 Q250.114 1544.43 252.429 1545.01 Q254.744 1545.58 257.267 1545.58 Q261.665 1545.58 263.956 1543.85 Q266.271 1542.11 266.271 1538.8 Q266.271 1535.75 264.119 1534.03 Q261.989 1532.3 258.169 1532.3 L254.142 1532.3 L254.142 1528.45 L258.355 1528.45 Q261.804 1528.45 263.632 1527.09 Q265.461 1525.7 265.461 1523.11 Q265.461 1520.45 263.563 1519.03 Q261.688 1517.6 258.169 1517.6 Q256.248 1517.6 254.049 1518.01 Q251.85 1518.43 249.211 1519.31 L249.211 1515.14 Q251.873 1514.4 254.188 1514.03 Q256.526 1513.66 258.586 1513.66 Q263.91 1513.66 267.012 1516.09 Q270.114 1518.5 270.114 1522.62 Q270.114 1525.49 268.47 1527.48 Q266.827 1529.45 263.794 1530.21 Z\" fill=\"#000000\" fill-rule=\"evenodd\" fill-opacity=\"1\" /><path clip-path=\"url(#clip470)\" d=\"M552.141 1532.02 L581.816 1532.02 L581.816 1535.95 L552.141 1535.95 L552.141 1532.02 Z\" fill=\"#000000\" fill-rule=\"evenodd\" fill-opacity=\"1\" /><path clip-path=\"url(#clip470)\" d=\"M595.937 1544.91 L612.256 1544.91 L612.256 1548.85 L590.312 1548.85 L590.312 1544.91 Q592.974 1542.16 597.557 1537.53 Q602.163 1532.88 603.344 1531.53 Q605.589 1529.01 606.469 1527.27 Q607.372 1525.51 607.372 1523.82 Q607.372 1521.07 605.427 1519.33 Q603.506 1517.6 600.404 1517.6 Q598.205 1517.6 595.751 1518.36 Q593.321 1519.13 590.543 1520.68 L590.543 1515.95 Q593.367 1514.82 595.821 1514.24 Q598.275 1513.66 600.312 1513.66 Q605.682 1513.66 608.876 1516.35 Q612.071 1519.03 612.071 1523.52 Q612.071 1525.65 611.261 1527.57 Q610.474 1529.47 608.367 1532.07 Q607.788 1532.74 604.687 1535.95 Q601.585 1539.15 595.937 1544.91 Z\" fill=\"#000000\" fill-rule=\"evenodd\" fill-opacity=\"1\" /><path clip-path=\"url(#clip470)\" d=\"M893.762 1532.02 L923.438 1532.02 L923.438 1535.95 L893.762 1535.95 L893.762 1532.02 Z\" fill=\"#000000\" fill-rule=\"evenodd\" fill-opacity=\"1\" /><path clip-path=\"url(#clip470)\" d=\"M934.34 1544.91 L941.979 1544.91 L941.979 1518.55 L933.669 1520.21 L933.669 1515.95 L941.933 1514.29 L946.609 1514.29 L946.609 1544.91 L954.248 1544.91 L954.248 1548.85 L934.34 1548.85 L934.34 1544.91 Z\" fill=\"#000000\" fill-rule=\"evenodd\" fill-opacity=\"1\" /><path clip-path=\"url(#clip470)\" d=\"M1265.81 1517.37 Q1262.2 1517.37 1260.37 1520.93 Q1258.57 1524.47 1258.57 1531.6 Q1258.57 1538.71 1260.37 1542.27 Q1262.2 1545.82 1265.81 1545.82 Q1269.45 1545.82 1271.25 1542.27 Q1273.08 1538.71 1273.08 1531.6 Q1273.08 1524.47 1271.25 1520.93 Q1269.45 1517.37 1265.81 1517.37 M1265.81 1513.66 Q1271.62 1513.66 1274.68 1518.27 Q1277.76 1522.85 1277.76 1531.6 Q1277.76 1540.33 1274.68 1544.94 Q1271.62 1549.52 1265.81 1549.52 Q1260 1549.52 1256.92 1544.94 Q1253.87 1540.33 1253.87 1531.6 Q1253.87 1522.85 1256.92 1518.27 Q1260 1513.66 1265.81 1513.66 Z\" fill=\"#000000\" fill-rule=\"evenodd\" fill-opacity=\"1\" /><path clip-path=\"url(#clip470)\" d=\"M1598 1544.91 L1605.64 1544.91 L1605.64 1518.55 L1597.33 1520.21 L1597.33 1515.95 L1605.59 1514.29 L1610.27 1514.29 L1610.27 1544.91 L1617.91 1544.91 L1617.91 1548.85 L1598 1548.85 L1598 1544.91 Z\" fill=\"#000000\" fill-rule=\"evenodd\" fill-opacity=\"1\" /><path clip-path=\"url(#clip470)\" d=\"M1944.08 1544.91 L1960.4 1544.91 L1960.4 1548.85 L1938.45 1548.85 L1938.45 1544.91 Q1941.11 1542.16 1945.7 1537.53 Q1950.3 1532.88 1951.48 1531.53 Q1953.73 1529.01 1954.61 1527.27 Q1955.51 1525.51 1955.51 1523.82 Q1955.51 1521.07 1953.57 1519.33 Q1951.65 1517.6 1948.54 1517.6 Q1946.35 1517.6 1943.89 1518.36 Q1941.46 1519.13 1938.68 1520.68 L1938.68 1515.95 Q1941.51 1514.82 1943.96 1514.24 Q1946.42 1513.66 1948.45 1513.66 Q1953.82 1513.66 1957.02 1516.35 Q1960.21 1519.03 1960.21 1523.52 Q1960.21 1525.65 1959.4 1527.57 Q1958.61 1529.47 1956.51 1532.07 Q1955.93 1532.74 1952.83 1535.95 Q1949.73 1539.15 1944.08 1544.91 Z\" fill=\"#000000\" fill-rule=\"evenodd\" fill-opacity=\"1\" /><path clip-path=\"url(#clip470)\" d=\"M2295.48 1530.21 Q2298.83 1530.93 2300.71 1533.2 Q2302.61 1535.47 2302.61 1538.8 Q2302.61 1543.92 2299.09 1546.72 Q2295.57 1549.52 2289.09 1549.52 Q2286.91 1549.52 2284.6 1549.08 Q2282.31 1548.66 2279.85 1547.81 L2279.85 1543.29 Q2281.8 1544.43 2284.11 1545.01 Q2286.43 1545.58 2288.95 1545.58 Q2293.35 1545.58 2295.64 1543.85 Q2297.96 1542.11 2297.96 1538.8 Q2297.96 1535.75 2295.8 1534.03 Q2293.67 1532.3 2289.85 1532.3 L2285.83 1532.3 L2285.83 1528.45 L2290.04 1528.45 Q2293.49 1528.45 2295.32 1527.09 Q2297.15 1525.7 2297.15 1523.11 Q2297.15 1520.45 2295.25 1519.03 Q2293.37 1517.6 2289.85 1517.6 Q2287.93 1517.6 2285.73 1518.01 Q2283.53 1518.43 2280.9 1519.31 L2280.9 1515.14 Q2283.56 1514.4 2285.87 1514.03 Q2288.21 1513.66 2290.27 1513.66 Q2295.59 1513.66 2298.7 1516.09 Q2301.8 1518.5 2301.8 1522.62 Q2301.8 1525.49 2300.15 1527.48 Q2298.51 1529.45 2295.48 1530.21 Z\" fill=\"#000000\" fill-rule=\"evenodd\" fill-opacity=\"1\" /><polyline clip-path=\"url(#clip472)\" style=\"stroke:#000000; stroke-linecap:butt; stroke-linejoin:round; stroke-width:2; stroke-opacity:0.1; fill:none\" points=\"\n",
       "  178.867,1272.56 2352.76,1272.56 \n",
       "  \"/>\n",
       "<polyline clip-path=\"url(#clip472)\" style=\"stroke:#000000; stroke-linecap:butt; stroke-linejoin:round; stroke-width:2; stroke-opacity:0.1; fill:none\" points=\"\n",
       "  178.867,1025.2 2352.76,1025.2 \n",
       "  \"/>\n",
       "<polyline clip-path=\"url(#clip472)\" style=\"stroke:#000000; stroke-linecap:butt; stroke-linejoin:round; stroke-width:2; stroke-opacity:0.1; fill:none\" points=\"\n",
       "  178.867,777.84 2352.76,777.84 \n",
       "  \"/>\n",
       "<polyline clip-path=\"url(#clip472)\" style=\"stroke:#000000; stroke-linecap:butt; stroke-linejoin:round; stroke-width:2; stroke-opacity:0.1; fill:none\" points=\"\n",
       "  178.867,530.478 2352.76,530.478 \n",
       "  \"/>\n",
       "<polyline clip-path=\"url(#clip472)\" style=\"stroke:#000000; stroke-linecap:butt; stroke-linejoin:round; stroke-width:2; stroke-opacity:0.1; fill:none\" points=\"\n",
       "  178.867,283.117 2352.76,283.117 \n",
       "  \"/>\n",
       "<polyline clip-path=\"url(#clip470)\" style=\"stroke:#000000; stroke-linecap:butt; stroke-linejoin:round; stroke-width:4; stroke-opacity:1; fill:none\" points=\"\n",
       "  178.867,1486.45 178.867,47.2441 \n",
       "  \"/>\n",
       "<polyline clip-path=\"url(#clip470)\" style=\"stroke:#000000; stroke-linecap:butt; stroke-linejoin:round; stroke-width:4; stroke-opacity:1; fill:none\" points=\"\n",
       "  178.867,1272.56 197.764,1272.56 \n",
       "  \"/>\n",
       "<polyline clip-path=\"url(#clip470)\" style=\"stroke:#000000; stroke-linecap:butt; stroke-linejoin:round; stroke-width:4; stroke-opacity:1; fill:none\" points=\"\n",
       "  178.867,1025.2 197.764,1025.2 \n",
       "  \"/>\n",
       "<polyline clip-path=\"url(#clip470)\" style=\"stroke:#000000; stroke-linecap:butt; stroke-linejoin:round; stroke-width:4; stroke-opacity:1; fill:none\" points=\"\n",
       "  178.867,777.84 197.764,777.84 \n",
       "  \"/>\n",
       "<polyline clip-path=\"url(#clip470)\" style=\"stroke:#000000; stroke-linecap:butt; stroke-linejoin:round; stroke-width:4; stroke-opacity:1; fill:none\" points=\"\n",
       "  178.867,530.478 197.764,530.478 \n",
       "  \"/>\n",
       "<polyline clip-path=\"url(#clip470)\" style=\"stroke:#000000; stroke-linecap:butt; stroke-linejoin:round; stroke-width:4; stroke-opacity:1; fill:none\" points=\"\n",
       "  178.867,283.117 197.764,283.117 \n",
       "  \"/>\n",
       "<path clip-path=\"url(#clip470)\" d=\"M50.9921 1273.01 L80.6679 1273.01 L80.6679 1276.95 L50.9921 1276.95 L50.9921 1273.01 Z\" fill=\"#000000\" fill-rule=\"evenodd\" fill-opacity=\"1\" /><path clip-path=\"url(#clip470)\" d=\"M94.7882 1285.91 L111.108 1285.91 L111.108 1289.84 L89.1632 1289.84 L89.1632 1285.91 Q91.8252 1283.15 96.4085 1278.52 Q101.015 1273.87 102.196 1272.53 Q104.441 1270 105.321 1268.27 Q106.223 1266.51 106.223 1264.82 Q106.223 1262.07 104.279 1260.33 Q102.358 1258.59 99.2558 1258.59 Q97.0567 1258.59 94.603 1259.36 Q92.1725 1260.12 89.3947 1261.67 L89.3947 1256.95 Q92.2188 1255.82 94.6724 1255.24 Q97.1261 1254.66 99.1632 1254.66 Q104.534 1254.66 107.728 1257.34 Q110.922 1260.03 110.922 1264.52 Q110.922 1266.65 110.112 1268.57 Q109.325 1270.47 107.219 1273.06 Q106.64 1273.73 103.538 1276.95 Q100.436 1280.14 94.7882 1285.91 Z\" fill=\"#000000\" fill-rule=\"evenodd\" fill-opacity=\"1\" /><path clip-path=\"url(#clip470)\" d=\"M130.922 1258.36 Q127.311 1258.36 125.482 1261.93 Q123.677 1265.47 123.677 1272.6 Q123.677 1279.7 125.482 1283.27 Q127.311 1286.81 130.922 1286.81 Q134.556 1286.81 136.362 1283.27 Q138.191 1279.7 138.191 1272.6 Q138.191 1265.47 136.362 1261.93 Q134.556 1258.36 130.922 1258.36 M130.922 1254.66 Q136.732 1254.66 139.788 1259.26 Q142.867 1263.85 142.867 1272.6 Q142.867 1281.32 139.788 1285.93 Q136.732 1290.51 130.922 1290.51 Q125.112 1290.51 122.033 1285.93 Q118.978 1281.32 118.978 1272.6 Q118.978 1263.85 122.033 1259.26 Q125.112 1254.66 130.922 1254.66 Z\" fill=\"#000000\" fill-rule=\"evenodd\" fill-opacity=\"1\" /><path clip-path=\"url(#clip470)\" d=\"M50.9921 1025.65 L80.6679 1025.65 L80.6679 1029.59 L50.9921 1029.59 L50.9921 1025.65 Z\" fill=\"#000000\" fill-rule=\"evenodd\" fill-opacity=\"1\" /><path clip-path=\"url(#clip470)\" d=\"M91.5706 1038.55 L99.2095 1038.55 L99.2095 1012.18 L90.8993 1013.85 L90.8993 1009.59 L99.1632 1007.92 L103.839 1007.92 L103.839 1038.55 L111.478 1038.55 L111.478 1042.48 L91.5706 1042.48 L91.5706 1038.55 Z\" fill=\"#000000\" fill-rule=\"evenodd\" fill-opacity=\"1\" /><path clip-path=\"url(#clip470)\" d=\"M130.922 1011 Q127.311 1011 125.482 1014.56 Q123.677 1018.11 123.677 1025.24 Q123.677 1032.34 125.482 1035.91 Q127.311 1039.45 130.922 1039.45 Q134.556 1039.45 136.362 1035.91 Q138.191 1032.34 138.191 1025.24 Q138.191 1018.11 136.362 1014.56 Q134.556 1011 130.922 1011 M130.922 1007.3 Q136.732 1007.3 139.788 1011.9 Q142.867 1016.49 142.867 1025.24 Q142.867 1033.96 139.788 1038.57 Q136.732 1043.15 130.922 1043.15 Q125.112 1043.15 122.033 1038.57 Q118.978 1033.96 118.978 1025.24 Q118.978 1016.49 122.033 1011.9 Q125.112 1007.3 130.922 1007.3 Z\" fill=\"#000000\" fill-rule=\"evenodd\" fill-opacity=\"1\" /><path clip-path=\"url(#clip470)\" d=\"M130.922 763.639 Q127.311 763.639 125.482 767.203 Q123.677 770.745 123.677 777.875 Q123.677 784.981 125.482 788.546 Q127.311 792.087 130.922 792.087 Q134.556 792.087 136.362 788.546 Q138.191 784.981 138.191 777.875 Q138.191 770.745 136.362 767.203 Q134.556 763.639 130.922 763.639 M130.922 759.935 Q136.732 759.935 139.788 764.541 Q142.867 769.125 142.867 777.875 Q142.867 786.601 139.788 791.208 Q136.732 795.791 130.922 795.791 Q125.112 795.791 122.033 791.208 Q118.978 786.601 118.978 777.875 Q118.978 769.125 122.033 764.541 Q125.112 759.935 130.922 759.935 Z\" fill=\"#000000\" fill-rule=\"evenodd\" fill-opacity=\"1\" /><path clip-path=\"url(#clip470)\" d=\"M91.5706 543.823 L99.2095 543.823 L99.2095 517.458 L90.8993 519.124 L90.8993 514.865 L99.1632 513.198 L103.839 513.198 L103.839 543.823 L111.478 543.823 L111.478 547.758 L91.5706 547.758 L91.5706 543.823 Z\" fill=\"#000000\" fill-rule=\"evenodd\" fill-opacity=\"1\" /><path clip-path=\"url(#clip470)\" d=\"M130.922 516.277 Q127.311 516.277 125.482 519.842 Q123.677 523.384 123.677 530.513 Q123.677 537.62 125.482 541.184 Q127.311 544.726 130.922 544.726 Q134.556 544.726 136.362 541.184 Q138.191 537.62 138.191 530.513 Q138.191 523.384 136.362 519.842 Q134.556 516.277 130.922 516.277 M130.922 512.573 Q136.732 512.573 139.788 517.18 Q142.867 521.763 142.867 530.513 Q142.867 539.24 139.788 543.846 Q136.732 548.43 130.922 548.43 Q125.112 548.43 122.033 543.846 Q118.978 539.24 118.978 530.513 Q118.978 521.763 122.033 517.18 Q125.112 512.573 130.922 512.573 Z\" fill=\"#000000\" fill-rule=\"evenodd\" fill-opacity=\"1\" /><path clip-path=\"url(#clip470)\" d=\"M94.7882 296.462 L111.108 296.462 L111.108 300.397 L89.1632 300.397 L89.1632 296.462 Q91.8252 293.707 96.4085 289.078 Q101.015 284.425 102.196 283.082 Q104.441 280.559 105.321 278.823 Q106.223 277.064 106.223 275.374 Q106.223 272.619 104.279 270.883 Q102.358 269.147 99.2558 269.147 Q97.0567 269.147 94.603 269.911 Q92.1725 270.675 89.3947 272.226 L89.3947 267.504 Q92.2188 266.369 94.6724 265.791 Q97.1261 265.212 99.1632 265.212 Q104.534 265.212 107.728 267.897 Q110.922 270.582 110.922 275.073 Q110.922 277.203 110.112 279.124 Q109.325 281.022 107.219 283.615 Q106.64 284.286 103.538 287.504 Q100.436 290.698 94.7882 296.462 Z\" fill=\"#000000\" fill-rule=\"evenodd\" fill-opacity=\"1\" /><path clip-path=\"url(#clip470)\" d=\"M130.922 268.916 Q127.311 268.916 125.482 272.48 Q123.677 276.022 123.677 283.152 Q123.677 290.258 125.482 293.823 Q127.311 297.365 130.922 297.365 Q134.556 297.365 136.362 293.823 Q138.191 290.258 138.191 283.152 Q138.191 276.022 136.362 272.48 Q134.556 268.916 130.922 268.916 M130.922 265.212 Q136.732 265.212 139.788 269.818 Q142.867 274.402 142.867 283.152 Q142.867 291.878 139.788 296.485 Q136.732 301.068 130.922 301.068 Q125.112 301.068 122.033 296.485 Q118.978 291.878 118.978 283.152 Q118.978 274.402 122.033 269.818 Q125.112 265.212 130.922 265.212 Z\" fill=\"#000000\" fill-rule=\"evenodd\" fill-opacity=\"1\" /><circle clip-path=\"url(#clip472)\" cx=\"240.392\" cy=\"703.631\" r=\"14\" fill=\"#009af9\" fill-rule=\"evenodd\" fill-opacity=\"1\" stroke=\"#000000\" stroke-opacity=\"1\" stroke-width=\"3.2\"/>\n",
       "<circle clip-path=\"url(#clip472)\" cx=\"1949.42\" cy=\"678.895\" r=\"14\" fill=\"#009af9\" fill-rule=\"evenodd\" fill-opacity=\"1\" stroke=\"#000000\" stroke-opacity=\"1\" stroke-width=\"3.2\"/>\n",
       "<circle clip-path=\"url(#clip472)\" cx=\"2291.23\" cy=\"753.104\" r=\"14\" fill=\"#009af9\" fill-rule=\"evenodd\" fill-opacity=\"1\" stroke=\"#000000\" stroke-opacity=\"1\" stroke-width=\"3.2\"/>\n",
       "<polyline clip-path=\"url(#clip472)\" style=\"stroke:#ffa500; stroke-linecap:butt; stroke-linejoin:round; stroke-width:4; stroke-opacity:1; fill:none\" points=\"\n",
       "  240.392,1445.72 245.399,1435.98 250.406,1426.34 255.413,1416.79 260.42,1407.34 306.717,1324.32 353.014,1248.94 399.312,1180.83 445.609,1119.63 501.254,1054.67 \n",
       "  556.9,998.522 603.947,957.436 650.995,921.795 753.208,861.272 847.44,823.2 948.466,797.636 1065.52,782.817 1169.53,778.393 1260.75,777.84 1360.2,777.319 \n",
       "  1460.24,773.287 1570.85,760.259 1676.09,735.061 1730.8,715.564 1785.51,690.892 1831.57,665.667 1877.63,635.982 1933.86,593.164 1990.09,542.496 2042.94,487.118 \n",
       "  2095.8,423.67 2138.14,366.656 2180.48,303.829 2222.83,234.907 2265.17,159.609 2271.68,147.437 2278.2,135.106 2284.71,122.615 2291.23,109.964 \n",
       "  \"/>\n",
       "<polyline clip-path=\"url(#clip472)\" style=\"stroke:#008000; stroke-linecap:butt; stroke-linejoin:round; stroke-width:4; stroke-opacity:1; fill:none\" points=\"\n",
       "  240.392,555.215 250.406,559.542 260.42,563.826 353.014,601.431 445.609,635.406 501.254,654.077 556.9,671.436 603.947,685.091 650.995,697.808 702.101,710.56 \n",
       "  753.208,722.207 800.324,731.964 847.44,740.781 897.953,749.189 948.466,756.518 1006.99,763.657 1065.52,769.346 1117.53,773.184 1169.53,775.877 1215.14,777.296 \n",
       "  1260.75,777.834 1310.48,777.417 1360.2,775.954 1410.22,773.425 1460.24,769.836 1515.54,764.635 1570.85,758.139 1623.47,750.756 1676.09,742.201 1730.8,732.062 \n",
       "  1785.51,720.655 1831.57,710.07 1877.63,698.587 1933.86,683.35 1990.09,666.774 2042.94,649.972 2095.8,631.986 2180.48,600.705 2265.17,566.388 2278.2,560.837 \n",
       "  2291.23,555.215 \n",
       "  \"/>\n",
       "<polyline clip-path=\"url(#clip472)\" style=\"stroke:#ff0000; stroke-linecap:butt; stroke-linejoin:round; stroke-width:4; stroke-opacity:1; fill:none\" points=\"\n",
       "  240.392,852.048 260.42,850.599 445.609,837.197 556.9,829.143 650.995,822.333 753.208,814.936 847.44,808.117 948.466,800.806 1065.52,792.335 1169.53,784.807 \n",
       "  1260.75,778.206 1360.2,771.009 1460.24,763.769 1570.85,755.765 1676.09,748.149 1785.51,740.23 1877.63,733.563 1990.09,725.425 2095.8,717.774 2265.17,705.518 \n",
       "  2291.23,703.631 \n",
       "  \"/>\n",
       "<polyline clip-path=\"url(#clip472)\" style=\"stroke:#000000; stroke-linecap:butt; stroke-linejoin:round; stroke-width:4; stroke-opacity:1; fill:none\" points=\"\n",
       "  240.392,120.958 250.406,134.066 260.42,147.044 353.014,260.878 445.609,363.578 501.254,419.94 556.9,472.281 603.947,513.399 650.995,551.641 702.101,589.926 \n",
       "  753.208,624.82 800.324,653.984 847.44,680.265 897.953,705.239 948.466,726.9 1006.99,747.852 1065.52,764.357 1117.53,775.292 1169.53,782.715 1215.14,786.333 \n",
       "  1260.75,787.249 1310.48,785.171 1360.2,779.882 1410.22,771.322 1460.24,759.513 1515.54,742.674 1570.85,721.864 1623.47,698.377 1676.09,671.293 1730.8,639.32 \n",
       "  1785.51,603.46 1831.57,570.259 1877.63,534.304 1933.86,486.673 1990.09,434.936 2042.94,382.558 2095.8,326.551 2180.48,229.262 2265.17,122.661 2278.2,105.429 \n",
       "  2291.23,87.9763 \n",
       "  \"/>\n",
       "</svg>\n"
      ]
     },
     "execution_count": 47,
     "metadata": {},
     "output_type": "execute_result"
    }
   ],
   "source": [
    "scatter(x,y,leg=false)\n",
    "plot!(f,label=\"f\", c=:orange)\n",
    "plot!(g,label=\"g\", c=:green)\n",
    "plot!(h,label=\"h\", c=:red)\n",
    "plot!(p, c=:black)"
   ]
  },
  {
   "cell_type": "code",
   "execution_count": 48,
   "id": "655119a2",
   "metadata": {},
   "outputs": [
    {
     "data": {
      "text/plain": [
       "3×1 Matrix{Float64}:\n",
       "  1.9833333333333065\n",
       "  0.058333333333328914\n",
       " -3.05833333333325"
      ]
     },
     "execution_count": 48,
     "metadata": {},
     "output_type": "execute_result"
    }
   ],
   "source": [
    "# Exemplo 2\n",
    "f(x)=x+5\n",
    "g(x)=x^2\n",
    "h(x)=x\n",
    "vetor =[f,g,h]\n",
    "x = [2; 5; 10]\n",
    "y = [8; 6; 5]\n",
    "V=vandermonde_geral(x,y,2)\n",
    "sistema_denso(V'*V,V'*y)"
   ]
  },
  {
   "cell_type": "code",
   "execution_count": 49,
   "id": "da29f653",
   "metadata": {},
   "outputs": [
    {
     "data": {
      "text/plain": [
       "p (generic function with 1 method)"
      ]
     },
     "execution_count": 49,
     "metadata": {},
     "output_type": "execute_result"
    }
   ],
   "source": [
    "p(x)= 1.9833333333333327 +0.05833333333333325*x -3.058333333333332*x^2"
   ]
  },
  {
   "cell_type": "code",
   "execution_count": 50,
   "id": "1e95fedc",
   "metadata": {},
   "outputs": [
    {
     "data": {
      "image/svg+xml": [
       "<?xml version=\"1.0\" encoding=\"utf-8\"?>\n",
       "<svg xmlns=\"http://www.w3.org/2000/svg\" xmlns:xlink=\"http://www.w3.org/1999/xlink\" width=\"600\" height=\"400\" viewBox=\"0 0 2400 1600\">\n",
       "<defs>\n",
       "  <clipPath id=\"clip510\">\n",
       "    <rect x=\"0\" y=\"0\" width=\"2400\" height=\"1600\"/>\n",
       "  </clipPath>\n",
       "</defs>\n",
       "<path clip-path=\"url(#clip510)\" d=\"\n",
       "M0 1600 L2400 1600 L2400 0 L0 0  Z\n",
       "  \" fill=\"#ffffff\" fill-rule=\"evenodd\" fill-opacity=\"1\"/>\n",
       "<defs>\n",
       "  <clipPath id=\"clip511\">\n",
       "    <rect x=\"480\" y=\"0\" width=\"1681\" height=\"1600\"/>\n",
       "  </clipPath>\n",
       "</defs>\n",
       "<path clip-path=\"url(#clip510)\" d=\"\n",
       "M209.029 1486.45 L2352.76 1486.45 L2352.76 47.2441 L209.029 47.2441  Z\n",
       "  \" fill=\"#ffffff\" fill-rule=\"evenodd\" fill-opacity=\"1\"/>\n",
       "<defs>\n",
       "  <clipPath id=\"clip512\">\n",
       "    <rect x=\"209\" y=\"47\" width=\"2145\" height=\"1440\"/>\n",
       "  </clipPath>\n",
       "</defs>\n",
       "<polyline clip-path=\"url(#clip512)\" style=\"stroke:#000000; stroke-linecap:butt; stroke-linejoin:round; stroke-width:2; stroke-opacity:0.1; fill:none\" points=\"\n",
       "  269.7,1486.45 269.7,47.2441 \n",
       "  \"/>\n",
       "<polyline clip-path=\"url(#clip512)\" style=\"stroke:#000000; stroke-linecap:butt; stroke-linejoin:round; stroke-width:2; stroke-opacity:0.1; fill:none\" points=\"\n",
       "  775.296,1486.45 775.296,47.2441 \n",
       "  \"/>\n",
       "<polyline clip-path=\"url(#clip512)\" style=\"stroke:#000000; stroke-linecap:butt; stroke-linejoin:round; stroke-width:2; stroke-opacity:0.1; fill:none\" points=\"\n",
       "  1280.89,1486.45 1280.89,47.2441 \n",
       "  \"/>\n",
       "<polyline clip-path=\"url(#clip512)\" style=\"stroke:#000000; stroke-linecap:butt; stroke-linejoin:round; stroke-width:2; stroke-opacity:0.1; fill:none\" points=\"\n",
       "  1786.49,1486.45 1786.49,47.2441 \n",
       "  \"/>\n",
       "<polyline clip-path=\"url(#clip512)\" style=\"stroke:#000000; stroke-linecap:butt; stroke-linejoin:round; stroke-width:2; stroke-opacity:0.1; fill:none\" points=\"\n",
       "  2292.08,1486.45 2292.08,47.2441 \n",
       "  \"/>\n",
       "<polyline clip-path=\"url(#clip510)\" style=\"stroke:#000000; stroke-linecap:butt; stroke-linejoin:round; stroke-width:4; stroke-opacity:1; fill:none\" points=\"\n",
       "  209.029,1486.45 2352.76,1486.45 \n",
       "  \"/>\n",
       "<polyline clip-path=\"url(#clip510)\" style=\"stroke:#000000; stroke-linecap:butt; stroke-linejoin:round; stroke-width:4; stroke-opacity:1; fill:none\" points=\"\n",
       "  269.7,1486.45 269.7,1467.55 \n",
       "  \"/>\n",
       "<polyline clip-path=\"url(#clip510)\" style=\"stroke:#000000; stroke-linecap:butt; stroke-linejoin:round; stroke-width:4; stroke-opacity:1; fill:none\" points=\"\n",
       "  775.296,1486.45 775.296,1467.55 \n",
       "  \"/>\n",
       "<polyline clip-path=\"url(#clip510)\" style=\"stroke:#000000; stroke-linecap:butt; stroke-linejoin:round; stroke-width:4; stroke-opacity:1; fill:none\" points=\"\n",
       "  1280.89,1486.45 1280.89,1467.55 \n",
       "  \"/>\n",
       "<polyline clip-path=\"url(#clip510)\" style=\"stroke:#000000; stroke-linecap:butt; stroke-linejoin:round; stroke-width:4; stroke-opacity:1; fill:none\" points=\"\n",
       "  1786.49,1486.45 1786.49,1467.55 \n",
       "  \"/>\n",
       "<polyline clip-path=\"url(#clip510)\" style=\"stroke:#000000; stroke-linecap:butt; stroke-linejoin:round; stroke-width:4; stroke-opacity:1; fill:none\" points=\"\n",
       "  2292.08,1486.45 2292.08,1467.55 \n",
       "  \"/>\n",
       "<path clip-path=\"url(#clip510)\" d=\"M264.353 1544.91 L280.672 1544.91 L280.672 1548.85 L258.728 1548.85 L258.728 1544.91 Q261.39 1542.16 265.973 1537.53 Q270.58 1532.88 271.76 1531.53 Q274.006 1529.01 274.885 1527.27 Q275.788 1525.51 275.788 1523.82 Q275.788 1521.07 273.844 1519.33 Q271.922 1517.6 268.82 1517.6 Q266.621 1517.6 264.168 1518.36 Q261.737 1519.13 258.959 1520.68 L258.959 1515.95 Q261.783 1514.82 264.237 1514.24 Q266.691 1513.66 268.728 1513.66 Q274.098 1513.66 277.293 1516.35 Q280.487 1519.03 280.487 1523.52 Q280.487 1525.65 279.677 1527.57 Q278.89 1529.47 276.783 1532.07 Q276.205 1532.74 273.103 1535.95 Q270.001 1539.15 264.353 1544.91 Z\" fill=\"#000000\" fill-rule=\"evenodd\" fill-opacity=\"1\" /><path clip-path=\"url(#clip510)\" d=\"M778.305 1518.36 L766.5 1536.81 L778.305 1536.81 L778.305 1518.36 M777.079 1514.29 L782.958 1514.29 L782.958 1536.81 L787.889 1536.81 L787.889 1540.7 L782.958 1540.7 L782.958 1548.85 L778.305 1548.85 L778.305 1540.7 L762.704 1540.7 L762.704 1536.19 L777.079 1514.29 Z\" fill=\"#000000\" fill-rule=\"evenodd\" fill-opacity=\"1\" /><path clip-path=\"url(#clip510)\" d=\"M1281.3 1529.7 Q1278.15 1529.7 1276.3 1531.86 Q1274.47 1534.01 1274.47 1537.76 Q1274.47 1541.49 1276.3 1543.66 Q1278.15 1545.82 1281.3 1545.82 Q1284.45 1545.82 1286.27 1543.66 Q1288.13 1541.49 1288.13 1537.76 Q1288.13 1534.01 1286.27 1531.86 Q1284.45 1529.7 1281.3 1529.7 M1290.58 1515.05 L1290.58 1519.31 Q1288.82 1518.48 1287.01 1518.04 Q1285.23 1517.6 1283.47 1517.6 Q1278.84 1517.6 1276.39 1520.72 Q1273.96 1523.85 1273.61 1530.17 Q1274.98 1528.15 1277.04 1527.09 Q1279.1 1526 1281.58 1526 Q1286.78 1526 1289.79 1529.17 Q1292.83 1532.32 1292.83 1537.76 Q1292.83 1543.08 1289.68 1546.3 Q1286.53 1549.52 1281.3 1549.52 Q1275.3 1549.52 1272.13 1544.94 Q1268.96 1540.33 1268.96 1531.6 Q1268.96 1523.41 1272.85 1518.55 Q1276.74 1513.66 1283.29 1513.66 Q1285.05 1513.66 1286.83 1514.01 Q1288.64 1514.36 1290.58 1515.05 Z\" fill=\"#000000\" fill-rule=\"evenodd\" fill-opacity=\"1\" /><path clip-path=\"url(#clip510)\" d=\"M1786.49 1532.44 Q1783.15 1532.44 1781.23 1534.22 Q1779.34 1536 1779.34 1539.13 Q1779.34 1542.25 1781.23 1544.03 Q1783.15 1545.82 1786.49 1545.82 Q1789.82 1545.82 1791.74 1544.03 Q1793.66 1542.23 1793.66 1539.13 Q1793.66 1536 1791.74 1534.22 Q1789.84 1532.44 1786.49 1532.44 M1781.81 1530.45 Q1778.8 1529.7 1777.11 1527.64 Q1775.45 1525.58 1775.45 1522.62 Q1775.45 1518.48 1778.39 1516.07 Q1781.35 1513.66 1786.49 1513.66 Q1791.65 1513.66 1794.59 1516.07 Q1797.53 1518.48 1797.53 1522.62 Q1797.53 1525.58 1795.84 1527.64 Q1794.17 1529.7 1791.19 1530.45 Q1794.57 1531.23 1796.44 1533.52 Q1798.34 1535.82 1798.34 1539.13 Q1798.34 1544.15 1795.26 1546.83 Q1792.21 1549.52 1786.49 1549.52 Q1780.77 1549.52 1777.69 1546.83 Q1774.64 1544.15 1774.64 1539.13 Q1774.64 1535.82 1776.53 1533.52 Q1778.43 1531.23 1781.81 1530.45 M1780.1 1523.06 Q1780.1 1525.75 1781.77 1527.25 Q1783.46 1528.76 1786.49 1528.76 Q1789.5 1528.76 1791.19 1527.25 Q1792.9 1525.75 1792.9 1523.06 Q1792.9 1520.38 1791.19 1518.87 Q1789.5 1517.37 1786.49 1517.37 Q1783.46 1517.37 1781.77 1518.87 Q1780.1 1520.38 1780.1 1523.06 Z\" fill=\"#000000\" fill-rule=\"evenodd\" fill-opacity=\"1\" /><path clip-path=\"url(#clip510)\" d=\"M2266.77 1544.91 L2274.41 1544.91 L2274.41 1518.55 L2266.1 1520.21 L2266.1 1515.95 L2274.36 1514.29 L2279.04 1514.29 L2279.04 1544.91 L2286.68 1544.91 L2286.68 1548.85 L2266.77 1548.85 L2266.77 1544.91 Z\" fill=\"#000000\" fill-rule=\"evenodd\" fill-opacity=\"1\" /><path clip-path=\"url(#clip510)\" d=\"M2306.12 1517.37 Q2302.51 1517.37 2300.68 1520.93 Q2298.88 1524.47 2298.88 1531.6 Q2298.88 1538.71 2300.68 1542.27 Q2302.51 1545.82 2306.12 1545.82 Q2309.76 1545.82 2311.56 1542.27 Q2313.39 1538.71 2313.39 1531.6 Q2313.39 1524.47 2311.56 1520.93 Q2309.76 1517.37 2306.12 1517.37 M2306.12 1513.66 Q2311.93 1513.66 2314.99 1518.27 Q2318.07 1522.85 2318.07 1531.6 Q2318.07 1540.33 2314.99 1544.94 Q2311.93 1549.52 2306.12 1549.52 Q2300.31 1549.52 2297.23 1544.94 Q2294.18 1540.33 2294.18 1531.6 Q2294.18 1522.85 2297.23 1518.27 Q2300.31 1513.66 2306.12 1513.66 Z\" fill=\"#000000\" fill-rule=\"evenodd\" fill-opacity=\"1\" /><polyline clip-path=\"url(#clip512)\" style=\"stroke:#000000; stroke-linecap:butt; stroke-linejoin:round; stroke-width:2; stroke-opacity:0.1; fill:none\" points=\"\n",
       "  209.029,1434.72 2352.76,1434.72 \n",
       "  \"/>\n",
       "<polyline clip-path=\"url(#clip512)\" style=\"stroke:#000000; stroke-linecap:butt; stroke-linejoin:round; stroke-width:2; stroke-opacity:0.1; fill:none\" points=\"\n",
       "  209.029,1098.03 2352.76,1098.03 \n",
       "  \"/>\n",
       "<polyline clip-path=\"url(#clip512)\" style=\"stroke:#000000; stroke-linecap:butt; stroke-linejoin:round; stroke-width:2; stroke-opacity:0.1; fill:none\" points=\"\n",
       "  209.029,761.347 2352.76,761.347 \n",
       "  \"/>\n",
       "<polyline clip-path=\"url(#clip512)\" style=\"stroke:#000000; stroke-linecap:butt; stroke-linejoin:round; stroke-width:2; stroke-opacity:0.1; fill:none\" points=\"\n",
       "  209.029,424.662 2352.76,424.662 \n",
       "  \"/>\n",
       "<polyline clip-path=\"url(#clip512)\" style=\"stroke:#000000; stroke-linecap:butt; stroke-linejoin:round; stroke-width:2; stroke-opacity:0.1; fill:none\" points=\"\n",
       "  209.029,87.9763 2352.76,87.9763 \n",
       "  \"/>\n",
       "<polyline clip-path=\"url(#clip510)\" style=\"stroke:#000000; stroke-linecap:butt; stroke-linejoin:round; stroke-width:4; stroke-opacity:1; fill:none\" points=\"\n",
       "  209.029,1486.45 209.029,47.2441 \n",
       "  \"/>\n",
       "<polyline clip-path=\"url(#clip510)\" style=\"stroke:#000000; stroke-linecap:butt; stroke-linejoin:round; stroke-width:4; stroke-opacity:1; fill:none\" points=\"\n",
       "  209.029,1434.72 227.926,1434.72 \n",
       "  \"/>\n",
       "<polyline clip-path=\"url(#clip510)\" style=\"stroke:#000000; stroke-linecap:butt; stroke-linejoin:round; stroke-width:4; stroke-opacity:1; fill:none\" points=\"\n",
       "  209.029,1098.03 227.926,1098.03 \n",
       "  \"/>\n",
       "<polyline clip-path=\"url(#clip510)\" style=\"stroke:#000000; stroke-linecap:butt; stroke-linejoin:round; stroke-width:4; stroke-opacity:1; fill:none\" points=\"\n",
       "  209.029,761.347 227.926,761.347 \n",
       "  \"/>\n",
       "<polyline clip-path=\"url(#clip510)\" style=\"stroke:#000000; stroke-linecap:butt; stroke-linejoin:round; stroke-width:4; stroke-opacity:1; fill:none\" points=\"\n",
       "  209.029,424.662 227.926,424.662 \n",
       "  \"/>\n",
       "<polyline clip-path=\"url(#clip510)\" style=\"stroke:#000000; stroke-linecap:butt; stroke-linejoin:round; stroke-width:4; stroke-opacity:1; fill:none\" points=\"\n",
       "  209.029,87.9763 227.926,87.9763 \n",
       "  \"/>\n",
       "<path clip-path=\"url(#clip510)\" d=\"M50.9921 1435.17 L80.6679 1435.17 L80.6679 1439.1 L50.9921 1439.1 L50.9921 1435.17 Z\" fill=\"#000000\" fill-rule=\"evenodd\" fill-opacity=\"1\" /><path clip-path=\"url(#clip510)\" d=\"M104.927 1433.36 Q108.283 1434.08 110.158 1436.35 Q112.057 1438.62 112.057 1441.95 Q112.057 1447.07 108.538 1449.87 Q105.02 1452.67 98.5382 1452.67 Q96.3623 1452.67 94.0475 1452.23 Q91.7558 1451.81 89.3021 1450.96 L89.3021 1446.44 Q91.2465 1447.58 93.5613 1448.15 Q95.8761 1448.73 98.3993 1448.73 Q102.797 1448.73 105.089 1447 Q107.404 1445.26 107.404 1441.95 Q107.404 1438.9 105.251 1437.18 Q103.121 1435.45 99.3021 1435.45 L95.2743 1435.45 L95.2743 1431.6 L99.4872 1431.6 Q102.936 1431.6 104.765 1430.24 Q106.594 1428.85 106.594 1426.26 Q106.594 1423.59 104.696 1422.18 Q102.821 1420.75 99.3021 1420.75 Q97.3808 1420.75 95.1817 1421.16 Q92.9826 1421.58 90.3438 1422.46 L90.3438 1418.29 Q93.0058 1417.55 95.3206 1417.18 Q97.6585 1416.81 99.7187 1416.81 Q105.043 1416.81 108.145 1419.24 Q111.246 1421.65 111.246 1425.77 Q111.246 1428.64 109.603 1430.63 Q107.959 1432.6 104.927 1433.36 Z\" fill=\"#000000\" fill-rule=\"evenodd\" fill-opacity=\"1\" /><path clip-path=\"url(#clip510)\" d=\"M130.922 1420.52 Q127.311 1420.52 125.482 1424.08 Q123.677 1427.62 123.677 1434.75 Q123.677 1441.86 125.482 1445.42 Q127.311 1448.96 130.922 1448.96 Q134.556 1448.96 136.362 1445.42 Q138.191 1441.86 138.191 1434.75 Q138.191 1427.62 136.362 1424.08 Q134.556 1420.52 130.922 1420.52 M130.922 1416.81 Q136.732 1416.81 139.788 1421.42 Q142.867 1426 142.867 1434.75 Q142.867 1443.48 139.788 1448.09 Q136.732 1452.67 130.922 1452.67 Q125.112 1452.67 122.033 1448.09 Q118.978 1443.48 118.978 1434.75 Q118.978 1426 122.033 1421.42 Q125.112 1416.81 130.922 1416.81 Z\" fill=\"#000000\" fill-rule=\"evenodd\" fill-opacity=\"1\" /><path clip-path=\"url(#clip510)\" d=\"M161.084 1420.52 Q157.473 1420.52 155.644 1424.08 Q153.839 1427.62 153.839 1434.75 Q153.839 1441.86 155.644 1445.42 Q157.473 1448.96 161.084 1448.96 Q164.718 1448.96 166.524 1445.42 Q168.353 1441.86 168.353 1434.75 Q168.353 1427.62 166.524 1424.08 Q164.718 1420.52 161.084 1420.52 M161.084 1416.81 Q166.894 1416.81 169.95 1421.42 Q173.029 1426 173.029 1434.75 Q173.029 1443.48 169.95 1448.09 Q166.894 1452.67 161.084 1452.67 Q155.274 1452.67 152.195 1448.09 Q149.14 1443.48 149.14 1434.75 Q149.14 1426 152.195 1421.42 Q155.274 1416.81 161.084 1416.81 Z\" fill=\"#000000\" fill-rule=\"evenodd\" fill-opacity=\"1\" /><path clip-path=\"url(#clip510)\" d=\"M50.9921 1098.48 L80.6679 1098.48 L80.6679 1102.42 L50.9921 1102.42 L50.9921 1098.48 Z\" fill=\"#000000\" fill-rule=\"evenodd\" fill-opacity=\"1\" /><path clip-path=\"url(#clip510)\" d=\"M94.7882 1111.38 L111.108 1111.38 L111.108 1115.31 L89.1632 1115.31 L89.1632 1111.38 Q91.8252 1108.62 96.4085 1103.99 Q101.015 1099.34 102.196 1098 Q104.441 1095.47 105.321 1093.74 Q106.223 1091.98 106.223 1090.29 Q106.223 1087.53 104.279 1085.8 Q102.358 1084.06 99.2558 1084.06 Q97.0567 1084.06 94.603 1084.83 Q92.1725 1085.59 89.3947 1087.14 L89.3947 1082.42 Q92.2188 1081.28 94.6724 1080.71 Q97.1261 1080.13 99.1632 1080.13 Q104.534 1080.13 107.728 1082.81 Q110.922 1085.5 110.922 1089.99 Q110.922 1092.12 110.112 1094.04 Q109.325 1095.94 107.219 1098.53 Q106.64 1099.2 103.538 1102.42 Q100.436 1105.61 94.7882 1111.38 Z\" fill=\"#000000\" fill-rule=\"evenodd\" fill-opacity=\"1\" /><path clip-path=\"url(#clip510)\" d=\"M130.922 1083.83 Q127.311 1083.83 125.482 1087.4 Q123.677 1090.94 123.677 1098.07 Q123.677 1105.17 125.482 1108.74 Q127.311 1112.28 130.922 1112.28 Q134.556 1112.28 136.362 1108.74 Q138.191 1105.17 138.191 1098.07 Q138.191 1090.94 136.362 1087.4 Q134.556 1083.83 130.922 1083.83 M130.922 1080.13 Q136.732 1080.13 139.788 1084.73 Q142.867 1089.32 142.867 1098.07 Q142.867 1106.79 139.788 1111.4 Q136.732 1115.98 130.922 1115.98 Q125.112 1115.98 122.033 1111.4 Q118.978 1106.79 118.978 1098.07 Q118.978 1089.32 122.033 1084.73 Q125.112 1080.13 130.922 1080.13 Z\" fill=\"#000000\" fill-rule=\"evenodd\" fill-opacity=\"1\" /><path clip-path=\"url(#clip510)\" d=\"M161.084 1083.83 Q157.473 1083.83 155.644 1087.4 Q153.839 1090.94 153.839 1098.07 Q153.839 1105.17 155.644 1108.74 Q157.473 1112.28 161.084 1112.28 Q164.718 1112.28 166.524 1108.74 Q168.353 1105.17 168.353 1098.07 Q168.353 1090.94 166.524 1087.4 Q164.718 1083.83 161.084 1083.83 M161.084 1080.13 Q166.894 1080.13 169.95 1084.73 Q173.029 1089.32 173.029 1098.07 Q173.029 1106.79 169.95 1111.4 Q166.894 1115.98 161.084 1115.98 Q155.274 1115.98 152.195 1111.4 Q149.14 1106.79 149.14 1098.07 Q149.14 1089.32 152.195 1084.73 Q155.274 1080.13 161.084 1080.13 Z\" fill=\"#000000\" fill-rule=\"evenodd\" fill-opacity=\"1\" /><path clip-path=\"url(#clip510)\" d=\"M50.9921 761.798 L80.6679 761.798 L80.6679 765.733 L50.9921 765.733 L50.9921 761.798 Z\" fill=\"#000000\" fill-rule=\"evenodd\" fill-opacity=\"1\" /><path clip-path=\"url(#clip510)\" d=\"M91.5706 774.692 L99.2095 774.692 L99.2095 748.326 L90.8993 749.993 L90.8993 745.733 L99.1632 744.067 L103.839 744.067 L103.839 774.692 L111.478 774.692 L111.478 778.627 L91.5706 778.627 L91.5706 774.692 Z\" fill=\"#000000\" fill-rule=\"evenodd\" fill-opacity=\"1\" /><path clip-path=\"url(#clip510)\" d=\"M130.922 747.145 Q127.311 747.145 125.482 750.71 Q123.677 754.252 123.677 761.382 Q123.677 768.488 125.482 772.053 Q127.311 775.594 130.922 775.594 Q134.556 775.594 136.362 772.053 Q138.191 768.488 138.191 761.382 Q138.191 754.252 136.362 750.71 Q134.556 747.145 130.922 747.145 M130.922 743.442 Q136.732 743.442 139.788 748.048 Q142.867 752.632 142.867 761.382 Q142.867 770.108 139.788 774.715 Q136.732 779.298 130.922 779.298 Q125.112 779.298 122.033 774.715 Q118.978 770.108 118.978 761.382 Q118.978 752.632 122.033 748.048 Q125.112 743.442 130.922 743.442 Z\" fill=\"#000000\" fill-rule=\"evenodd\" fill-opacity=\"1\" /><path clip-path=\"url(#clip510)\" d=\"M161.084 747.145 Q157.473 747.145 155.644 750.71 Q153.839 754.252 153.839 761.382 Q153.839 768.488 155.644 772.053 Q157.473 775.594 161.084 775.594 Q164.718 775.594 166.524 772.053 Q168.353 768.488 168.353 761.382 Q168.353 754.252 166.524 750.71 Q164.718 747.145 161.084 747.145 M161.084 743.442 Q166.894 743.442 169.95 748.048 Q173.029 752.632 173.029 761.382 Q173.029 770.108 169.95 774.715 Q166.894 779.298 161.084 779.298 Q155.274 779.298 152.195 774.715 Q149.14 770.108 149.14 761.382 Q149.14 752.632 152.195 748.048 Q155.274 743.442 161.084 743.442 Z\" fill=\"#000000\" fill-rule=\"evenodd\" fill-opacity=\"1\" /><path clip-path=\"url(#clip510)\" d=\"M161.084 410.46 Q157.473 410.46 155.644 414.025 Q153.839 417.567 153.839 424.696 Q153.839 431.803 155.644 435.367 Q157.473 438.909 161.084 438.909 Q164.718 438.909 166.524 435.367 Q168.353 431.803 168.353 424.696 Q168.353 417.567 166.524 414.025 Q164.718 410.46 161.084 410.46 M161.084 406.757 Q166.894 406.757 169.95 411.363 Q173.029 415.946 173.029 424.696 Q173.029 433.423 169.95 438.03 Q166.894 442.613 161.084 442.613 Q155.274 442.613 152.195 438.03 Q149.14 433.423 149.14 424.696 Q149.14 415.946 152.195 411.363 Q155.274 406.757 161.084 406.757 Z\" fill=\"#000000\" fill-rule=\"evenodd\" fill-opacity=\"1\" /><path clip-path=\"url(#clip510)\" d=\"M91.5706 101.321 L99.2095 101.321 L99.2095 74.9555 L90.8993 76.6222 L90.8993 72.3629 L99.1632 70.6963 L103.839 70.6963 L103.839 101.321 L111.478 101.321 L111.478 105.256 L91.5706 105.256 L91.5706 101.321 Z\" fill=\"#000000\" fill-rule=\"evenodd\" fill-opacity=\"1\" /><path clip-path=\"url(#clip510)\" d=\"M130.922 73.775 Q127.311 73.775 125.482 77.3398 Q123.677 80.8814 123.677 88.011 Q123.677 95.1174 125.482 98.6822 Q127.311 102.224 130.922 102.224 Q134.556 102.224 136.362 98.6822 Q138.191 95.1174 138.191 88.011 Q138.191 80.8814 136.362 77.3398 Q134.556 73.775 130.922 73.775 M130.922 70.0713 Q136.732 70.0713 139.788 74.6777 Q142.867 79.261 142.867 88.011 Q142.867 96.7378 139.788 101.344 Q136.732 105.928 130.922 105.928 Q125.112 105.928 122.033 101.344 Q118.978 96.7378 118.978 88.011 Q118.978 79.261 122.033 74.6777 Q125.112 70.0713 130.922 70.0713 Z\" fill=\"#000000\" fill-rule=\"evenodd\" fill-opacity=\"1\" /><path clip-path=\"url(#clip510)\" d=\"M161.084 73.775 Q157.473 73.775 155.644 77.3398 Q153.839 80.8814 153.839 88.011 Q153.839 95.1174 155.644 98.6822 Q157.473 102.224 161.084 102.224 Q164.718 102.224 166.524 98.6822 Q168.353 95.1174 168.353 88.011 Q168.353 80.8814 166.524 77.3398 Q164.718 73.775 161.084 73.775 M161.084 70.0713 Q166.894 70.0713 169.95 74.6777 Q173.029 79.261 173.029 88.011 Q173.029 96.7378 169.95 101.344 Q166.894 105.928 161.084 105.928 Q155.274 105.928 152.195 101.344 Q149.14 96.7378 149.14 88.011 Q149.14 79.261 152.195 74.6777 Q155.274 70.0713 161.084 70.0713 Z\" fill=\"#000000\" fill-rule=\"evenodd\" fill-opacity=\"1\" /><circle clip-path=\"url(#clip512)\" cx=\"269.7\" cy=\"397.727\" r=\"14\" fill=\"#009af9\" fill-rule=\"evenodd\" fill-opacity=\"1\" stroke=\"#000000\" stroke-opacity=\"1\" stroke-width=\"3.2\"/>\n",
       "<circle clip-path=\"url(#clip512)\" cx=\"1028.09\" cy=\"404.46\" r=\"14\" fill=\"#009af9\" fill-rule=\"evenodd\" fill-opacity=\"1\" stroke=\"#000000\" stroke-opacity=\"1\" stroke-width=\"3.2\"/>\n",
       "<circle clip-path=\"url(#clip512)\" cx=\"2292.08\" cy=\"407.827\" r=\"14\" fill=\"#009af9\" fill-rule=\"evenodd\" fill-opacity=\"1\" stroke=\"#000000\" stroke-opacity=\"1\" stroke-width=\"3.2\"/>\n",
       "<polyline clip-path=\"url(#clip512)\" style=\"stroke:#ffa500; stroke-linecap:butt; stroke-linejoin:round; stroke-width:4; stroke-opacity:1; fill:none\" points=\"\n",
       "  269.7,401.094 289.45,400.831 472.07,398.398 581.816,396.937 674.606,395.701 775.401,394.358 868.326,393.121 967.95,391.794 1083.38,390.257 1185.95,388.891 \n",
       "  1275.9,387.693 1373.97,386.386 1472.62,385.073 1581.7,383.62 1685.48,382.238 1793.38,380.801 1884.22,379.591 1995.12,378.114 2099.37,376.725 2266.38,374.501 \n",
       "  2292.08,374.159 \n",
       "  \"/>\n",
       "<polyline clip-path=\"url(#clip512)\" style=\"stroke:#008000; stroke-linecap:butt; stroke-linejoin:round; stroke-width:4; stroke-opacity:1; fill:none\" points=\"\n",
       "  269.7,411.194 289.45,410.121 472.07,398.256 581.816,389.434 674.606,380.986 775.401,370.781 868.326,360.424 967.95,348.31 1083.38,332.967 1185.95,318.153 \n",
       "  1275.9,304.251 1373.97,288.122 1472.62,270.876 1581.7,250.613 1685.48,230.17 1793.38,207.711 1884.22,187.854 1995.12,162.432 2099.37,137.353 2266.38,94.7878 \n",
       "  2292.08,87.9763 \n",
       "  \"/>\n",
       "<polyline clip-path=\"url(#clip512)\" style=\"stroke:#ff0000; stroke-linecap:butt; stroke-linejoin:round; stroke-width:4; stroke-opacity:1; fill:none\" points=\"\n",
       "  269.7,417.928 289.45,417.665 472.07,415.233 581.816,413.771 674.606,412.535 775.401,411.193 868.326,409.955 967.95,408.628 1083.38,407.091 1185.95,405.725 \n",
       "  1275.9,404.527 1373.97,403.221 1472.62,401.907 1581.7,400.454 1685.48,399.072 1793.38,397.635 1884.22,396.425 1995.12,394.948 2099.37,393.56 2266.38,391.335 \n",
       "  2292.08,390.993 \n",
       "  \"/>\n",
       "<polyline clip-path=\"url(#clip512)\" style=\"stroke:#000000; stroke-linecap:butt; stroke-linejoin:round; stroke-width:4; stroke-opacity:1; fill:none\" points=\"\n",
       "  269.7,458.779 289.45,462.044 472.07,498.192 581.816,525.085 674.606,550.851 775.401,581.984 868.326,613.586 967.95,650.558 1083.38,697.392 1185.95,742.617 \n",
       "  1275.9,785.065 1373.97,834.315 1472.62,886.985 1581.7,948.87 1685.48,1011.31 1793.38,1079.91 1884.22,1140.57 1995.12,1218.24 2099.37,1294.85 2266.38,1424.9 \n",
       "  2292.08,1445.72 \n",
       "  \"/>\n",
       "</svg>\n"
      ]
     },
     "execution_count": 50,
     "metadata": {},
     "output_type": "execute_result"
    }
   ],
   "source": [
    "scatter(x,y,leg=false)\n",
    "plot!(f,label=\"f\", c=:orange)\n",
    "plot!(g,label=\"g\", c=:green)\n",
    "plot!(h,label=\"h\", c=:red)\n",
    "plot!(p, c=:black)"
   ]
  },
  {
   "cell_type": "code",
   "execution_count": 51,
   "id": "dc1d1dc8",
   "metadata": {},
   "outputs": [
    {
     "data": {
      "text/plain": [
       "3×1 Matrix{Float64}:\n",
       "  0.12386976021096462\n",
       " -1.639367353562063\n",
       " 19.572338621649475"
      ]
     },
     "execution_count": 51,
     "metadata": {},
     "output_type": "execute_result"
    }
   ],
   "source": [
    "# Exemplo 3\n",
    "f(x)=x^3\n",
    "g(x)=x^2\n",
    "h(x)=log(x)\n",
    "vetor =[f,g,h]\n",
    "x = [2; 5; 10]\n",
    "y = [8; 6; 5]\n",
    "V=vandermonde_geral(x,y,2)\n",
    "sistema_denso(V'*V,V'*y)"
   ]
  },
  {
   "cell_type": "code",
   "execution_count": 52,
   "id": "53e8a616",
   "metadata": {},
   "outputs": [
    {
     "data": {
      "text/plain": [
       "p (generic function with 1 method)"
      ]
     },
     "execution_count": 52,
     "metadata": {},
     "output_type": "execute_result"
    }
   ],
   "source": [
    "p(x)= 0.12386976021096462 -1.639367353562063*x +19.572338621649475*x^2"
   ]
  },
  {
   "cell_type": "code",
   "execution_count": 53,
   "id": "f539c540",
   "metadata": {},
   "outputs": [
    {
     "data": {
      "image/svg+xml": [
       "<?xml version=\"1.0\" encoding=\"utf-8\"?>\n",
       "<svg xmlns=\"http://www.w3.org/2000/svg\" xmlns:xlink=\"http://www.w3.org/1999/xlink\" width=\"600\" height=\"400\" viewBox=\"0 0 2400 1600\">\n",
       "<defs>\n",
       "  <clipPath id=\"clip550\">\n",
       "    <rect x=\"0\" y=\"0\" width=\"2400\" height=\"1600\"/>\n",
       "  </clipPath>\n",
       "</defs>\n",
       "<path clip-path=\"url(#clip550)\" d=\"\n",
       "M0 1600 L2400 1600 L2400 0 L0 0  Z\n",
       "  \" fill=\"#ffffff\" fill-rule=\"evenodd\" fill-opacity=\"1\"/>\n",
       "<defs>\n",
       "  <clipPath id=\"clip551\">\n",
       "    <rect x=\"480\" y=\"0\" width=\"1681\" height=\"1600\"/>\n",
       "  </clipPath>\n",
       "</defs>\n",
       "<path clip-path=\"url(#clip550)\" d=\"\n",
       "M199.283 1486.45 L2352.76 1486.45 L2352.76 47.2441 L199.283 47.2441  Z\n",
       "  \" fill=\"#ffffff\" fill-rule=\"evenodd\" fill-opacity=\"1\"/>\n",
       "<defs>\n",
       "  <clipPath id=\"clip552\">\n",
       "    <rect x=\"199\" y=\"47\" width=\"2154\" height=\"1440\"/>\n",
       "  </clipPath>\n",
       "</defs>\n",
       "<polyline clip-path=\"url(#clip552)\" style=\"stroke:#000000; stroke-linecap:butt; stroke-linejoin:round; stroke-width:2; stroke-opacity:0.1; fill:none\" points=\"\n",
       "  260.231,1486.45 260.231,47.2441 \n",
       "  \"/>\n",
       "<polyline clip-path=\"url(#clip552)\" style=\"stroke:#000000; stroke-linecap:butt; stroke-linejoin:round; stroke-width:2; stroke-opacity:0.1; fill:none\" points=\"\n",
       "  768.125,1486.45 768.125,47.2441 \n",
       "  \"/>\n",
       "<polyline clip-path=\"url(#clip552)\" style=\"stroke:#000000; stroke-linecap:butt; stroke-linejoin:round; stroke-width:2; stroke-opacity:0.1; fill:none\" points=\"\n",
       "  1276.02,1486.45 1276.02,47.2441 \n",
       "  \"/>\n",
       "<polyline clip-path=\"url(#clip552)\" style=\"stroke:#000000; stroke-linecap:butt; stroke-linejoin:round; stroke-width:2; stroke-opacity:0.1; fill:none\" points=\"\n",
       "  1783.91,1486.45 1783.91,47.2441 \n",
       "  \"/>\n",
       "<polyline clip-path=\"url(#clip552)\" style=\"stroke:#000000; stroke-linecap:butt; stroke-linejoin:round; stroke-width:2; stroke-opacity:0.1; fill:none\" points=\"\n",
       "  2291.81,1486.45 2291.81,47.2441 \n",
       "  \"/>\n",
       "<polyline clip-path=\"url(#clip550)\" style=\"stroke:#000000; stroke-linecap:butt; stroke-linejoin:round; stroke-width:4; stroke-opacity:1; fill:none\" points=\"\n",
       "  199.283,1486.45 2352.76,1486.45 \n",
       "  \"/>\n",
       "<polyline clip-path=\"url(#clip550)\" style=\"stroke:#000000; stroke-linecap:butt; stroke-linejoin:round; stroke-width:4; stroke-opacity:1; fill:none\" points=\"\n",
       "  260.231,1486.45 260.231,1467.55 \n",
       "  \"/>\n",
       "<polyline clip-path=\"url(#clip550)\" style=\"stroke:#000000; stroke-linecap:butt; stroke-linejoin:round; stroke-width:4; stroke-opacity:1; fill:none\" points=\"\n",
       "  768.125,1486.45 768.125,1467.55 \n",
       "  \"/>\n",
       "<polyline clip-path=\"url(#clip550)\" style=\"stroke:#000000; stroke-linecap:butt; stroke-linejoin:round; stroke-width:4; stroke-opacity:1; fill:none\" points=\"\n",
       "  1276.02,1486.45 1276.02,1467.55 \n",
       "  \"/>\n",
       "<polyline clip-path=\"url(#clip550)\" style=\"stroke:#000000; stroke-linecap:butt; stroke-linejoin:round; stroke-width:4; stroke-opacity:1; fill:none\" points=\"\n",
       "  1783.91,1486.45 1783.91,1467.55 \n",
       "  \"/>\n",
       "<polyline clip-path=\"url(#clip550)\" style=\"stroke:#000000; stroke-linecap:butt; stroke-linejoin:round; stroke-width:4; stroke-opacity:1; fill:none\" points=\"\n",
       "  2291.81,1486.45 2291.81,1467.55 \n",
       "  \"/>\n",
       "<path clip-path=\"url(#clip550)\" d=\"M254.883 1544.91 L271.203 1544.91 L271.203 1548.85 L249.258 1548.85 L249.258 1544.91 Q251.92 1542.16 256.504 1537.53 Q261.11 1532.88 262.291 1531.53 Q264.536 1529.01 265.416 1527.27 Q266.318 1525.51 266.318 1523.82 Q266.318 1521.07 264.374 1519.33 Q262.453 1517.6 259.351 1517.6 Q257.152 1517.6 254.698 1518.36 Q252.268 1519.13 249.49 1520.68 L249.49 1515.95 Q252.314 1514.82 254.768 1514.24 Q257.221 1513.66 259.258 1513.66 Q264.629 1513.66 267.823 1516.35 Q271.018 1519.03 271.018 1523.52 Q271.018 1525.65 270.207 1527.57 Q269.42 1529.47 267.314 1532.07 Q266.735 1532.74 263.633 1535.95 Q260.531 1539.15 254.883 1544.91 Z\" fill=\"#000000\" fill-rule=\"evenodd\" fill-opacity=\"1\" /><path clip-path=\"url(#clip550)\" d=\"M771.134 1518.36 L759.329 1536.81 L771.134 1536.81 L771.134 1518.36 M769.907 1514.29 L775.787 1514.29 L775.787 1536.81 L780.718 1536.81 L780.718 1540.7 L775.787 1540.7 L775.787 1548.85 L771.134 1548.85 L771.134 1540.7 L755.533 1540.7 L755.533 1536.19 L769.907 1514.29 Z\" fill=\"#000000\" fill-rule=\"evenodd\" fill-opacity=\"1\" /><path clip-path=\"url(#clip550)\" d=\"M1276.42 1529.7 Q1273.28 1529.7 1271.42 1531.86 Q1269.6 1534.01 1269.6 1537.76 Q1269.6 1541.49 1271.42 1543.66 Q1273.28 1545.82 1276.42 1545.82 Q1279.57 1545.82 1281.4 1543.66 Q1283.25 1541.49 1283.25 1537.76 Q1283.25 1534.01 1281.4 1531.86 Q1279.57 1529.7 1276.42 1529.7 M1285.71 1515.05 L1285.71 1519.31 Q1283.95 1518.48 1282.14 1518.04 Q1280.36 1517.6 1278.6 1517.6 Q1273.97 1517.6 1271.52 1520.72 Q1269.09 1523.85 1268.74 1530.17 Q1270.11 1528.15 1272.17 1527.09 Q1274.23 1526 1276.7 1526 Q1281.91 1526 1284.92 1529.17 Q1287.95 1532.32 1287.95 1537.76 Q1287.95 1543.08 1284.8 1546.3 Q1281.66 1549.52 1276.42 1549.52 Q1270.43 1549.52 1267.26 1544.94 Q1264.09 1540.33 1264.09 1531.6 Q1264.09 1523.41 1267.98 1518.55 Q1271.86 1513.66 1278.42 1513.66 Q1280.17 1513.66 1281.96 1514.01 Q1283.76 1514.36 1285.71 1515.05 Z\" fill=\"#000000\" fill-rule=\"evenodd\" fill-opacity=\"1\" /><path clip-path=\"url(#clip550)\" d=\"M1783.91 1532.44 Q1780.58 1532.44 1778.66 1534.22 Q1776.76 1536 1776.76 1539.13 Q1776.76 1542.25 1778.66 1544.03 Q1780.58 1545.82 1783.91 1545.82 Q1787.25 1545.82 1789.17 1544.03 Q1791.09 1542.23 1791.09 1539.13 Q1791.09 1536 1789.17 1534.22 Q1787.27 1532.44 1783.91 1532.44 M1779.24 1530.45 Q1776.23 1529.7 1774.54 1527.64 Q1772.87 1525.58 1772.87 1522.62 Q1772.87 1518.48 1775.81 1516.07 Q1778.78 1513.66 1783.91 1513.66 Q1789.08 1513.66 1792.02 1516.07 Q1794.96 1518.48 1794.96 1522.62 Q1794.96 1525.58 1793.27 1527.64 Q1791.6 1529.7 1788.61 1530.45 Q1791.99 1531.23 1793.87 1533.52 Q1795.77 1535.82 1795.77 1539.13 Q1795.77 1544.15 1792.69 1546.83 Q1789.63 1549.52 1783.91 1549.52 Q1778.2 1549.52 1775.12 1546.83 Q1772.06 1544.15 1772.06 1539.13 Q1772.06 1535.82 1773.96 1533.52 Q1775.86 1531.23 1779.24 1530.45 M1777.53 1523.06 Q1777.53 1525.75 1779.19 1527.25 Q1780.88 1528.76 1783.91 1528.76 Q1786.92 1528.76 1788.61 1527.25 Q1790.33 1525.75 1790.33 1523.06 Q1790.33 1520.38 1788.61 1518.87 Q1786.92 1517.37 1783.91 1517.37 Q1780.88 1517.37 1779.19 1518.87 Q1777.53 1520.38 1777.53 1523.06 Z\" fill=\"#000000\" fill-rule=\"evenodd\" fill-opacity=\"1\" /><path clip-path=\"url(#clip550)\" d=\"M2266.5 1544.91 L2274.14 1544.91 L2274.14 1518.55 L2265.82 1520.21 L2265.82 1515.95 L2274.09 1514.29 L2278.76 1514.29 L2278.76 1544.91 L2286.4 1544.91 L2286.4 1548.85 L2266.5 1548.85 L2266.5 1544.91 Z\" fill=\"#000000\" fill-rule=\"evenodd\" fill-opacity=\"1\" /><path clip-path=\"url(#clip550)\" d=\"M2305.85 1517.37 Q2302.24 1517.37 2300.41 1520.93 Q2298.6 1524.47 2298.6 1531.6 Q2298.6 1538.71 2300.41 1542.27 Q2302.24 1545.82 2305.85 1545.82 Q2309.48 1545.82 2311.29 1542.27 Q2313.12 1538.71 2313.12 1531.6 Q2313.12 1524.47 2311.29 1520.93 Q2309.48 1517.37 2305.85 1517.37 M2305.85 1513.66 Q2311.66 1513.66 2314.71 1518.27 Q2317.79 1522.85 2317.79 1531.6 Q2317.79 1540.33 2314.71 1544.94 Q2311.66 1549.52 2305.85 1549.52 Q2300.04 1549.52 2296.96 1544.94 Q2293.9 1540.33 2293.9 1531.6 Q2293.9 1522.85 2296.96 1518.27 Q2300.04 1513.66 2305.85 1513.66 Z\" fill=\"#000000\" fill-rule=\"evenodd\" fill-opacity=\"1\" /><polyline clip-path=\"url(#clip552)\" style=\"stroke:#000000; stroke-linecap:butt; stroke-linejoin:round; stroke-width:2; stroke-opacity:0.1; fill:none\" points=\"\n",
       "  199.283,1446.2 2352.76,1446.2 \n",
       "  \"/>\n",
       "<polyline clip-path=\"url(#clip552)\" style=\"stroke:#000000; stroke-linecap:butt; stroke-linejoin:round; stroke-width:2; stroke-opacity:0.1; fill:none\" points=\"\n",
       "  199.283,1096.32 2352.76,1096.32 \n",
       "  \"/>\n",
       "<polyline clip-path=\"url(#clip552)\" style=\"stroke:#000000; stroke-linecap:butt; stroke-linejoin:round; stroke-width:2; stroke-opacity:0.1; fill:none\" points=\"\n",
       "  199.283,746.433 2352.76,746.433 \n",
       "  \"/>\n",
       "<polyline clip-path=\"url(#clip552)\" style=\"stroke:#000000; stroke-linecap:butt; stroke-linejoin:round; stroke-width:2; stroke-opacity:0.1; fill:none\" points=\"\n",
       "  199.283,396.549 2352.76,396.549 \n",
       "  \"/>\n",
       "<polyline clip-path=\"url(#clip550)\" style=\"stroke:#000000; stroke-linecap:butt; stroke-linejoin:round; stroke-width:4; stroke-opacity:1; fill:none\" points=\"\n",
       "  199.283,1486.45 199.283,47.2441 \n",
       "  \"/>\n",
       "<polyline clip-path=\"url(#clip550)\" style=\"stroke:#000000; stroke-linecap:butt; stroke-linejoin:round; stroke-width:4; stroke-opacity:1; fill:none\" points=\"\n",
       "  199.283,1446.2 218.181,1446.2 \n",
       "  \"/>\n",
       "<polyline clip-path=\"url(#clip550)\" style=\"stroke:#000000; stroke-linecap:butt; stroke-linejoin:round; stroke-width:4; stroke-opacity:1; fill:none\" points=\"\n",
       "  199.283,1096.32 218.181,1096.32 \n",
       "  \"/>\n",
       "<polyline clip-path=\"url(#clip550)\" style=\"stroke:#000000; stroke-linecap:butt; stroke-linejoin:round; stroke-width:4; stroke-opacity:1; fill:none\" points=\"\n",
       "  199.283,746.433 218.181,746.433 \n",
       "  \"/>\n",
       "<polyline clip-path=\"url(#clip550)\" style=\"stroke:#000000; stroke-linecap:butt; stroke-linejoin:round; stroke-width:4; stroke-opacity:1; fill:none\" points=\"\n",
       "  199.283,396.549 218.181,396.549 \n",
       "  \"/>\n",
       "<path clip-path=\"url(#clip550)\" d=\"M151.339 1432 Q147.728 1432 145.899 1435.56 Q144.093 1439.11 144.093 1446.24 Q144.093 1453.34 145.899 1456.91 Q147.728 1460.45 151.339 1460.45 Q154.973 1460.45 156.779 1456.91 Q158.607 1453.34 158.607 1446.24 Q158.607 1439.11 156.779 1435.56 Q154.973 1432 151.339 1432 M151.339 1428.3 Q157.149 1428.3 160.205 1432.9 Q163.283 1437.49 163.283 1446.24 Q163.283 1454.96 160.205 1459.57 Q157.149 1464.15 151.339 1464.15 Q145.529 1464.15 142.45 1459.57 Q139.394 1454.96 139.394 1446.24 Q139.394 1437.49 142.45 1432.9 Q145.529 1428.3 151.339 1428.3 Z\" fill=\"#000000\" fill-rule=\"evenodd\" fill-opacity=\"1\" /><path clip-path=\"url(#clip550)\" d=\"M81.0614 1079.04 L99.4178 1079.04 L99.4178 1082.97 L85.3438 1082.97 L85.3438 1091.44 Q86.3623 1091.1 87.3808 1090.93 Q88.3993 1090.75 89.4178 1090.75 Q95.2049 1090.75 98.5845 1093.92 Q101.964 1097.09 101.964 1102.51 Q101.964 1108.09 98.4919 1111.19 Q95.0197 1114.27 88.7003 1114.27 Q86.5243 1114.27 84.2558 1113.9 Q82.0105 1113.53 79.6031 1112.79 L79.6031 1108.09 Q81.6864 1109.22 83.9086 1109.78 Q86.1308 1110.33 88.6077 1110.33 Q92.6123 1110.33 94.9502 1108.23 Q97.2882 1106.12 97.2882 1102.51 Q97.2882 1098.9 94.9502 1096.79 Q92.6123 1094.68 88.6077 1094.68 Q86.7327 1094.68 84.8577 1095.1 Q83.0058 1095.52 81.0614 1096.4 L81.0614 1079.04 Z\" fill=\"#000000\" fill-rule=\"evenodd\" fill-opacity=\"1\" /><path clip-path=\"url(#clip550)\" d=\"M121.177 1082.12 Q117.566 1082.12 115.737 1085.68 Q113.932 1089.22 113.932 1096.35 Q113.932 1103.46 115.737 1107.02 Q117.566 1110.56 121.177 1110.56 Q124.811 1110.56 126.617 1107.02 Q128.445 1103.46 128.445 1096.35 Q128.445 1089.22 126.617 1085.68 Q124.811 1082.12 121.177 1082.12 M121.177 1078.41 Q126.987 1078.41 130.043 1083.02 Q133.121 1087.6 133.121 1096.35 Q133.121 1105.08 130.043 1109.68 Q126.987 1114.27 121.177 1114.27 Q115.367 1114.27 112.288 1109.68 Q109.233 1105.08 109.233 1096.35 Q109.233 1087.6 112.288 1083.02 Q115.367 1078.41 121.177 1078.41 Z\" fill=\"#000000\" fill-rule=\"evenodd\" fill-opacity=\"1\" /><path clip-path=\"url(#clip550)\" d=\"M151.339 1082.12 Q147.728 1082.12 145.899 1085.68 Q144.093 1089.22 144.093 1096.35 Q144.093 1103.46 145.899 1107.02 Q147.728 1110.56 151.339 1110.56 Q154.973 1110.56 156.779 1107.02 Q158.607 1103.46 158.607 1096.35 Q158.607 1089.22 156.779 1085.68 Q154.973 1082.12 151.339 1082.12 M151.339 1078.41 Q157.149 1078.41 160.205 1083.02 Q163.283 1087.6 163.283 1096.35 Q163.283 1105.08 160.205 1109.68 Q157.149 1114.27 151.339 1114.27 Q145.529 1114.27 142.45 1109.68 Q139.394 1105.08 139.394 1096.35 Q139.394 1087.6 142.45 1083.02 Q145.529 1078.41 151.339 1078.41 Z\" fill=\"#000000\" fill-rule=\"evenodd\" fill-opacity=\"1\" /><path clip-path=\"url(#clip550)\" d=\"M51.6634 759.778 L59.3023 759.778 L59.3023 733.412 L50.9921 735.079 L50.9921 730.819 L59.256 729.153 L63.9319 729.153 L63.9319 759.778 L71.5707 759.778 L71.5707 763.713 L51.6634 763.713 L51.6634 759.778 Z\" fill=\"#000000\" fill-rule=\"evenodd\" fill-opacity=\"1\" /><path clip-path=\"url(#clip550)\" d=\"M91.0151 732.231 Q87.404 732.231 85.5753 735.796 Q83.7697 739.338 83.7697 746.467 Q83.7697 753.574 85.5753 757.139 Q87.404 760.68 91.0151 760.68 Q94.6493 760.68 96.4548 757.139 Q98.2835 753.574 98.2835 746.467 Q98.2835 739.338 96.4548 735.796 Q94.6493 732.231 91.0151 732.231 M91.0151 728.528 Q96.8252 728.528 99.8808 733.134 Q102.959 737.718 102.959 746.467 Q102.959 755.194 99.8808 759.801 Q96.8252 764.384 91.0151 764.384 Q85.2049 764.384 82.1262 759.801 Q79.0707 755.194 79.0707 746.467 Q79.0707 737.718 82.1262 733.134 Q85.2049 728.528 91.0151 728.528 Z\" fill=\"#000000\" fill-rule=\"evenodd\" fill-opacity=\"1\" /><path clip-path=\"url(#clip550)\" d=\"M121.177 732.231 Q117.566 732.231 115.737 735.796 Q113.932 739.338 113.932 746.467 Q113.932 753.574 115.737 757.139 Q117.566 760.68 121.177 760.68 Q124.811 760.68 126.617 757.139 Q128.445 753.574 128.445 746.467 Q128.445 739.338 126.617 735.796 Q124.811 732.231 121.177 732.231 M121.177 728.528 Q126.987 728.528 130.043 733.134 Q133.121 737.718 133.121 746.467 Q133.121 755.194 130.043 759.801 Q126.987 764.384 121.177 764.384 Q115.367 764.384 112.288 759.801 Q109.233 755.194 109.233 746.467 Q109.233 737.718 112.288 733.134 Q115.367 728.528 121.177 728.528 Z\" fill=\"#000000\" fill-rule=\"evenodd\" fill-opacity=\"1\" /><path clip-path=\"url(#clip550)\" d=\"M151.339 732.231 Q147.728 732.231 145.899 735.796 Q144.093 739.338 144.093 746.467 Q144.093 753.574 145.899 757.139 Q147.728 760.68 151.339 760.68 Q154.973 760.68 156.779 757.139 Q158.607 753.574 158.607 746.467 Q158.607 739.338 156.779 735.796 Q154.973 732.231 151.339 732.231 M151.339 728.528 Q157.149 728.528 160.205 733.134 Q163.283 737.718 163.283 746.467 Q163.283 755.194 160.205 759.801 Q157.149 764.384 151.339 764.384 Q145.529 764.384 142.45 759.801 Q139.394 755.194 139.394 746.467 Q139.394 737.718 142.45 733.134 Q145.529 728.528 151.339 728.528 Z\" fill=\"#000000\" fill-rule=\"evenodd\" fill-opacity=\"1\" /><path clip-path=\"url(#clip550)\" d=\"M51.6634 409.894 L59.3023 409.894 L59.3023 383.528 L50.9921 385.195 L50.9921 380.935 L59.256 379.269 L63.9319 379.269 L63.9319 409.894 L71.5707 409.894 L71.5707 413.829 L51.6634 413.829 L51.6634 409.894 Z\" fill=\"#000000\" fill-rule=\"evenodd\" fill-opacity=\"1\" /><path clip-path=\"url(#clip550)\" d=\"M81.0614 379.269 L99.4178 379.269 L99.4178 383.204 L85.3438 383.204 L85.3438 391.676 Q86.3623 391.329 87.3808 391.167 Q88.3993 390.982 89.4178 390.982 Q95.2049 390.982 98.5845 394.153 Q101.964 397.324 101.964 402.741 Q101.964 408.32 98.4919 411.421 Q95.0197 414.5 88.7003 414.5 Q86.5243 414.5 84.2558 414.13 Q82.0105 413.759 79.6031 413.019 L79.6031 408.32 Q81.6864 409.454 83.9086 410.009 Q86.1308 410.565 88.6077 410.565 Q92.6123 410.565 94.9502 408.458 Q97.2882 406.352 97.2882 402.741 Q97.2882 399.13 94.9502 397.023 Q92.6123 394.917 88.6077 394.917 Q86.7327 394.917 84.8577 395.334 Q83.0058 395.75 81.0614 396.63 L81.0614 379.269 Z\" fill=\"#000000\" fill-rule=\"evenodd\" fill-opacity=\"1\" /><path clip-path=\"url(#clip550)\" d=\"M121.177 382.347 Q117.566 382.347 115.737 385.912 Q113.932 389.454 113.932 396.584 Q113.932 403.69 115.737 407.255 Q117.566 410.796 121.177 410.796 Q124.811 410.796 126.617 407.255 Q128.445 403.69 128.445 396.584 Q128.445 389.454 126.617 385.912 Q124.811 382.347 121.177 382.347 M121.177 378.644 Q126.987 378.644 130.043 383.25 Q133.121 387.834 133.121 396.584 Q133.121 405.31 130.043 409.917 Q126.987 414.5 121.177 414.5 Q115.367 414.5 112.288 409.917 Q109.233 405.31 109.233 396.584 Q109.233 387.834 112.288 383.25 Q115.367 378.644 121.177 378.644 Z\" fill=\"#000000\" fill-rule=\"evenodd\" fill-opacity=\"1\" /><path clip-path=\"url(#clip550)\" d=\"M151.339 382.347 Q147.728 382.347 145.899 385.912 Q144.093 389.454 144.093 396.584 Q144.093 403.69 145.899 407.255 Q147.728 410.796 151.339 410.796 Q154.973 410.796 156.779 407.255 Q158.607 403.69 158.607 396.584 Q158.607 389.454 156.779 385.912 Q154.973 382.347 151.339 382.347 M151.339 378.644 Q157.149 378.644 160.205 383.25 Q163.283 387.834 163.283 396.584 Q163.283 405.31 160.205 409.917 Q157.149 414.5 151.339 414.5 Q145.529 414.5 142.45 409.917 Q139.394 405.31 139.394 396.584 Q139.394 387.834 142.45 383.25 Q145.529 378.644 151.339 378.644 Z\" fill=\"#000000\" fill-rule=\"evenodd\" fill-opacity=\"1\" /><circle clip-path=\"url(#clip552)\" cx=\"260.231\" cy=\"1440.6\" r=\"14\" fill=\"#009af9\" fill-rule=\"evenodd\" fill-opacity=\"1\" stroke=\"#000000\" stroke-opacity=\"1\" stroke-width=\"3.2\"/>\n",
       "<circle clip-path=\"url(#clip552)\" cx=\"1022.07\" cy=\"1442\" r=\"14\" fill=\"#009af9\" fill-rule=\"evenodd\" fill-opacity=\"1\" stroke=\"#000000\" stroke-opacity=\"1\" stroke-width=\"3.2\"/>\n",
       "<circle clip-path=\"url(#clip552)\" cx=\"2291.81\" cy=\"1442.7\" r=\"14\" fill=\"#009af9\" fill-rule=\"evenodd\" fill-opacity=\"1\" stroke=\"#000000\" stroke-opacity=\"1\" stroke-width=\"3.2\"/>\n",
       "<polyline clip-path=\"url(#clip552)\" style=\"stroke:#ffa500; stroke-linecap:butt; stroke-linejoin:round; stroke-width:4; stroke-opacity:1; fill:none\" points=\"\n",
       "  260.231,1440.6 280.071,1439.92 463.52,1430.83 573.766,1422.52 666.977,1413.51 768.231,1401.4 861.577,1387.88 961.655,1370.63 1077.6,1346.74 1180.65,1321.69 \n",
       "  1271.01,1296.54 1369.52,1265.48 1468.62,1230.18 1578.19,1186.11 1682.44,1138.97 1790.84,1084.24 1882.09,1033.43 1993.49,965.206 2098.22,894.58 2265.99,767.561 \n",
       "  2291.81,746.433 \n",
       "  \"/>\n",
       "<polyline clip-path=\"url(#clip552)\" style=\"stroke:#008000; stroke-linecap:butt; stroke-linejoin:round; stroke-width:4; stroke-opacity:1; fill:none\" points=\"\n",
       "  260.231,1443.4 280.071,1443.18 463.52,1440.71 573.766,1438.88 666.977,1437.12 768.231,1435 861.577,1432.85 961.655,1430.33 1077.6,1427.14 1180.65,1424.06 \n",
       "  1271.01,1421.17 1369.52,1417.82 1468.62,1414.24 1578.19,1410.03 1682.44,1405.78 1790.84,1401.11 1882.09,1396.98 1993.49,1391.7 2098.22,1386.49 2265.99,1377.64 \n",
       "  2291.81,1376.22 \n",
       "  \"/>\n",
       "<polyline clip-path=\"url(#clip552)\" style=\"stroke:#ff0000; stroke-linecap:butt; stroke-linejoin:round; stroke-width:4; stroke-opacity:1; fill:none\" points=\"\n",
       "  260.231,1445.72 270.151,1445.7 280.071,1445.69 371.795,1445.58 463.52,1445.48 518.643,1445.43 573.766,1445.38 620.371,1445.34 666.977,1445.3 768.231,1445.23 \n",
       "  861.577,1445.17 961.655,1445.11 1077.6,1445.04 1180.65,1444.99 1271.01,1444.95 1369.52,1444.91 1468.62,1444.86 1578.19,1444.82 1682.44,1444.78 1790.84,1444.74 \n",
       "  1882.09,1444.71 1993.49,1444.68 2098.22,1444.64 2265.99,1444.6 2291.81,1444.59 \n",
       "  \"/>\n",
       "<polyline clip-path=\"url(#clip552)\" style=\"stroke:#000000; stroke-linecap:butt; stroke-linejoin:round; stroke-width:4; stroke-opacity:1; fill:none\" points=\"\n",
       "  260.231,1393.62 280.071,1389.35 463.52,1341.91 573.766,1306.52 666.977,1272.58 768.231,1231.52 861.577,1189.81 961.655,1140.98 1077.6,1079.09 1180.65,1019.3 \n",
       "  1271.01,963.154 1369.52,897.989 1468.62,828.278 1578.19,746.347 1682.44,663.658 1790.84,572.784 1882.09,492.42 1993.49,389.509 2098.22,287.963 2265.99,115.569 \n",
       "  2291.81,87.9763 \n",
       "  \"/>\n",
       "</svg>\n"
      ]
     },
     "execution_count": 53,
     "metadata": {},
     "output_type": "execute_result"
    }
   ],
   "source": [
    "scatter(x,y,leg=false)\n",
    "plot!(f,label=\"f\", c=:orange)\n",
    "plot!(g,label=\"g\", c=:green)\n",
    "plot!(h,label=\"h\", c=:red)\n",
    "plot!(p, c=:black)"
   ]
  },
  {
   "cell_type": "code",
   "execution_count": null,
   "id": "1fe2c4bb",
   "metadata": {},
   "outputs": [],
   "source": [
    "# 7)Problema: Regressão com coeficientes não lineares. Regressão com o modelo exponencial, potência e geométrica (mencionado na aula 24) (uma função para cada modelo)\n",
    "# Entrada: n pontos: (x_0,y_0) … (x_n,y_n)\n",
    "# Saída: modelo escolhido com o coeficientes ou coeficientes\n",
    "# Especificação: Para todo 1<=i<=n, F(x_i) aproximadamente y_i"
   ]
  },
  {
   "cell_type": "code",
   "execution_count": 130,
   "id": "59baf9e6",
   "metadata": {},
   "outputs": [
    {
     "data": {
      "text/plain": [
       "regressão_função_exponencial (generic function with 1 method)"
      ]
     },
     "execution_count": 130,
     "metadata": {},
     "output_type": "execute_result"
    }
   ],
   "source": [
    "# Função faz a regressão de coefifientes no modelo exponencial dados dos conjuntos x e y\n",
    "# Retorna um conjunto de coeficientes\n",
    "# Considerando a função: f(x) = c1*e\n",
    "# Transformando ela em linear temos:\n",
    "# ln(y) = ln(c1*e^(c2x))\n",
    "# ln(y) = ln(c1) + ln(e^(c2x))\n",
    "# ln(y) = ln(c1) + c2x\n",
    "# Realizando a troca de variáveis:\n",
    "# y_barra = ln(y)\n",
    "# x_barra = x\n",
    "# c1_barra = ln(c1)\n",
    "# c2_barra = c2\n",
    "# Encontramos:\n",
    "# y_barra = c1_barra + x_barra*c2_barra\n",
    "function regressão_função_exponencial(x, y)\n",
    "    #Criamos um vetor preechido com zeros para guardar os valores de y_barra\n",
    "    y_barra = zeros(length(y))\n",
    "    for j in 1:length(y)\n",
    "        y_barra[j] = log(y[j]) # Aplicamos log nos valores de y\n",
    "    end\n",
    "    x_barra = x # Os valores de x se mantém os mesmos\n",
    "    # Realizando a regressão para encontrar os coeficientes c1_barra e c2_barra do polinômio\n",
    "    V=vandermonde(x_barra,y_barra,1)\n",
    "    c_barra=sistema_denso(V'*V,V'*y_barra) #mínimos quadrados\n",
    "    return c_barra #Coeficientes\n",
    "end"
   ]
  },
  {
   "cell_type": "code",
   "execution_count": 131,
   "id": "ddb18923",
   "metadata": {},
   "outputs": [
    {
     "data": {
      "image/svg+xml": [
       "<?xml version=\"1.0\" encoding=\"utf-8\"?>\n",
       "<svg xmlns=\"http://www.w3.org/2000/svg\" xmlns:xlink=\"http://www.w3.org/1999/xlink\" width=\"600\" height=\"400\" viewBox=\"0 0 2400 1600\">\n",
       "<defs>\n",
       "  <clipPath id=\"clip990\">\n",
       "    <rect x=\"0\" y=\"0\" width=\"2400\" height=\"1600\"/>\n",
       "  </clipPath>\n",
       "</defs>\n",
       "<path clip-path=\"url(#clip990)\" d=\"\n",
       "M0 1600 L2400 1600 L2400 0 L0 0  Z\n",
       "  \" fill=\"#ffffff\" fill-rule=\"evenodd\" fill-opacity=\"1\"/>\n",
       "<defs>\n",
       "  <clipPath id=\"clip991\">\n",
       "    <rect x=\"480\" y=\"0\" width=\"1681\" height=\"1600\"/>\n",
       "  </clipPath>\n",
       "</defs>\n",
       "<path clip-path=\"url(#clip990)\" d=\"\n",
       "M141.853 1486.45 L2352.76 1486.45 L2352.76 47.2441 L141.853 47.2441  Z\n",
       "  \" fill=\"#ffffff\" fill-rule=\"evenodd\" fill-opacity=\"1\"/>\n",
       "<defs>\n",
       "  <clipPath id=\"clip992\">\n",
       "    <rect x=\"141\" y=\"47\" width=\"2212\" height=\"1440\"/>\n",
       "  </clipPath>\n",
       "</defs>\n",
       "<polyline clip-path=\"url(#clip992)\" style=\"stroke:#000000; stroke-linecap:butt; stroke-linejoin:round; stroke-width:2; stroke-opacity:0.1; fill:none\" points=\"\n",
       "  502.391,1486.45 502.391,47.2441 \n",
       "  \"/>\n",
       "<polyline clip-path=\"url(#clip992)\" style=\"stroke:#000000; stroke-linecap:butt; stroke-linejoin:round; stroke-width:2; stroke-opacity:0.1; fill:none\" points=\"\n",
       "  1098.32,1486.45 1098.32,47.2441 \n",
       "  \"/>\n",
       "<polyline clip-path=\"url(#clip992)\" style=\"stroke:#000000; stroke-linecap:butt; stroke-linejoin:round; stroke-width:2; stroke-opacity:0.1; fill:none\" points=\"\n",
       "  1694.25,1486.45 1694.25,47.2441 \n",
       "  \"/>\n",
       "<polyline clip-path=\"url(#clip992)\" style=\"stroke:#000000; stroke-linecap:butt; stroke-linejoin:round; stroke-width:2; stroke-opacity:0.1; fill:none\" points=\"\n",
       "  2290.18,1486.45 2290.18,47.2441 \n",
       "  \"/>\n",
       "<polyline clip-path=\"url(#clip990)\" style=\"stroke:#000000; stroke-linecap:butt; stroke-linejoin:round; stroke-width:4; stroke-opacity:1; fill:none\" points=\"\n",
       "  141.853,1486.45 2352.76,1486.45 \n",
       "  \"/>\n",
       "<polyline clip-path=\"url(#clip990)\" style=\"stroke:#000000; stroke-linecap:butt; stroke-linejoin:round; stroke-width:4; stroke-opacity:1; fill:none\" points=\"\n",
       "  502.391,1486.45 502.391,1467.55 \n",
       "  \"/>\n",
       "<polyline clip-path=\"url(#clip990)\" style=\"stroke:#000000; stroke-linecap:butt; stroke-linejoin:round; stroke-width:4; stroke-opacity:1; fill:none\" points=\"\n",
       "  1098.32,1486.45 1098.32,1467.55 \n",
       "  \"/>\n",
       "<polyline clip-path=\"url(#clip990)\" style=\"stroke:#000000; stroke-linecap:butt; stroke-linejoin:round; stroke-width:4; stroke-opacity:1; fill:none\" points=\"\n",
       "  1694.25,1486.45 1694.25,1467.55 \n",
       "  \"/>\n",
       "<polyline clip-path=\"url(#clip990)\" style=\"stroke:#000000; stroke-linecap:butt; stroke-linejoin:round; stroke-width:4; stroke-opacity:1; fill:none\" points=\"\n",
       "  2290.18,1486.45 2290.18,1467.55 \n",
       "  \"/>\n",
       "<path clip-path=\"url(#clip990)\" d=\"M476.836 1544.91 L484.474 1544.91 L484.474 1518.55 L476.164 1520.21 L476.164 1515.95 L484.428 1514.29 L489.104 1514.29 L489.104 1544.91 L496.743 1544.91 L496.743 1548.85 L476.836 1548.85 L476.836 1544.91 Z\" fill=\"#000000\" fill-rule=\"evenodd\" fill-opacity=\"1\" /><path clip-path=\"url(#clip990)\" d=\"M519.034 1518.36 L507.229 1536.81 L519.034 1536.81 L519.034 1518.36 M517.808 1514.29 L523.687 1514.29 L523.687 1536.81 L528.618 1536.81 L528.618 1540.7 L523.687 1540.7 L523.687 1548.85 L519.034 1548.85 L519.034 1540.7 L503.433 1540.7 L503.433 1536.19 L517.808 1514.29 Z\" fill=\"#000000\" fill-rule=\"evenodd\" fill-opacity=\"1\" /><path clip-path=\"url(#clip990)\" d=\"M1072.93 1544.91 L1080.57 1544.91 L1080.57 1518.55 L1072.26 1520.21 L1072.26 1515.95 L1080.52 1514.29 L1085.2 1514.29 L1085.2 1544.91 L1092.84 1544.91 L1092.84 1548.85 L1072.93 1548.85 L1072.93 1544.91 Z\" fill=\"#000000\" fill-rule=\"evenodd\" fill-opacity=\"1\" /><path clip-path=\"url(#clip990)\" d=\"M1112.86 1529.7 Q1109.71 1529.7 1107.86 1531.86 Q1106.03 1534.01 1106.03 1537.76 Q1106.03 1541.49 1107.86 1543.66 Q1109.71 1545.82 1112.86 1545.82 Q1116.01 1545.82 1117.84 1543.66 Q1119.69 1541.49 1119.69 1537.76 Q1119.69 1534.01 1117.84 1531.86 Q1116.01 1529.7 1112.86 1529.7 M1122.14 1515.05 L1122.14 1519.31 Q1120.38 1518.48 1118.58 1518.04 Q1116.79 1517.6 1115.03 1517.6 Q1110.41 1517.6 1107.95 1520.72 Q1105.52 1523.85 1105.17 1530.17 Q1106.54 1528.15 1108.6 1527.09 Q1110.66 1526 1113.14 1526 Q1118.34 1526 1121.35 1529.17 Q1124.39 1532.32 1124.39 1537.76 Q1124.39 1543.08 1121.24 1546.3 Q1118.09 1549.52 1112.86 1549.52 Q1106.86 1549.52 1103.69 1544.94 Q1100.52 1540.33 1100.52 1531.6 Q1100.52 1523.41 1104.41 1518.55 Q1108.3 1513.66 1114.85 1513.66 Q1116.61 1513.66 1118.39 1514.01 Q1120.2 1514.36 1122.14 1515.05 Z\" fill=\"#000000\" fill-rule=\"evenodd\" fill-opacity=\"1\" /><path clip-path=\"url(#clip990)\" d=\"M1668.99 1544.91 L1676.63 1544.91 L1676.63 1518.55 L1668.32 1520.21 L1668.32 1515.95 L1676.58 1514.29 L1681.25 1514.29 L1681.25 1544.91 L1688.89 1544.91 L1688.89 1548.85 L1668.99 1548.85 L1668.99 1544.91 Z\" fill=\"#000000\" fill-rule=\"evenodd\" fill-opacity=\"1\" /><path clip-path=\"url(#clip990)\" d=\"M1708.34 1532.44 Q1705 1532.44 1703.08 1534.22 Q1701.19 1536 1701.19 1539.13 Q1701.19 1542.25 1703.08 1544.03 Q1705 1545.82 1708.34 1545.82 Q1711.67 1545.82 1713.59 1544.03 Q1715.51 1542.23 1715.51 1539.13 Q1715.51 1536 1713.59 1534.22 Q1711.69 1532.44 1708.34 1532.44 M1703.66 1530.45 Q1700.65 1529.7 1698.96 1527.64 Q1697.3 1525.58 1697.3 1522.62 Q1697.3 1518.48 1700.24 1516.07 Q1703.2 1513.66 1708.34 1513.66 Q1713.5 1513.66 1716.44 1516.07 Q1719.38 1518.48 1719.38 1522.62 Q1719.38 1525.58 1717.69 1527.64 Q1716.02 1529.7 1713.04 1530.45 Q1716.42 1531.23 1718.29 1533.52 Q1720.19 1535.82 1720.19 1539.13 Q1720.19 1544.15 1717.11 1546.83 Q1714.06 1549.52 1708.34 1549.52 Q1702.62 1549.52 1699.54 1546.83 Q1696.49 1544.15 1696.49 1539.13 Q1696.49 1535.82 1698.38 1533.52 Q1700.28 1531.23 1703.66 1530.45 M1701.95 1523.06 Q1701.95 1525.75 1703.62 1527.25 Q1705.31 1528.76 1708.34 1528.76 Q1711.35 1528.76 1713.04 1527.25 Q1714.75 1525.75 1714.75 1523.06 Q1714.75 1520.38 1713.04 1518.87 Q1711.35 1517.37 1708.34 1517.37 Q1705.31 1517.37 1703.62 1518.87 Q1701.95 1520.38 1701.95 1523.06 Z\" fill=\"#000000\" fill-rule=\"evenodd\" fill-opacity=\"1\" /><path clip-path=\"url(#clip990)\" d=\"M2268.96 1544.91 L2285.28 1544.91 L2285.28 1548.85 L2263.33 1548.85 L2263.33 1544.91 Q2265.99 1542.16 2270.58 1537.53 Q2275.18 1532.88 2276.36 1531.53 Q2278.61 1529.01 2279.49 1527.27 Q2280.39 1525.51 2280.39 1523.82 Q2280.39 1521.07 2278.45 1519.33 Q2276.53 1517.6 2273.42 1517.6 Q2271.22 1517.6 2268.77 1518.36 Q2266.34 1519.13 2263.56 1520.68 L2263.56 1515.95 Q2266.39 1514.82 2268.84 1514.24 Q2271.29 1513.66 2273.33 1513.66 Q2278.7 1513.66 2281.9 1516.35 Q2285.09 1519.03 2285.09 1523.52 Q2285.09 1525.65 2284.28 1527.57 Q2283.49 1529.47 2281.39 1532.07 Q2280.81 1532.74 2277.71 1535.95 Q2274.6 1539.15 2268.96 1544.91 Z\" fill=\"#000000\" fill-rule=\"evenodd\" fill-opacity=\"1\" /><path clip-path=\"url(#clip990)\" d=\"M2305.09 1517.37 Q2301.48 1517.37 2299.65 1520.93 Q2297.85 1524.47 2297.85 1531.6 Q2297.85 1538.71 2299.65 1542.27 Q2301.48 1545.82 2305.09 1545.82 Q2308.72 1545.82 2310.53 1542.27 Q2312.36 1538.71 2312.36 1531.6 Q2312.36 1524.47 2310.53 1520.93 Q2308.72 1517.37 2305.09 1517.37 M2305.09 1513.66 Q2310.9 1513.66 2313.96 1518.27 Q2317.03 1522.85 2317.03 1531.6 Q2317.03 1540.33 2313.96 1544.94 Q2310.9 1549.52 2305.09 1549.52 Q2299.28 1549.52 2296.2 1544.94 Q2293.15 1540.33 2293.15 1531.6 Q2293.15 1522.85 2296.2 1518.27 Q2299.28 1513.66 2305.09 1513.66 Z\" fill=\"#000000\" fill-rule=\"evenodd\" fill-opacity=\"1\" /><polyline clip-path=\"url(#clip992)\" style=\"stroke:#000000; stroke-linecap:butt; stroke-linejoin:round; stroke-width:2; stroke-opacity:0.1; fill:none\" points=\"\n",
       "  141.853,1389.36 2352.76,1389.36 \n",
       "  \"/>\n",
       "<polyline clip-path=\"url(#clip992)\" style=\"stroke:#000000; stroke-linecap:butt; stroke-linejoin:round; stroke-width:2; stroke-opacity:0.1; fill:none\" points=\"\n",
       "  141.853,1117 2352.76,1117 \n",
       "  \"/>\n",
       "<polyline clip-path=\"url(#clip992)\" style=\"stroke:#000000; stroke-linecap:butt; stroke-linejoin:round; stroke-width:2; stroke-opacity:0.1; fill:none\" points=\"\n",
       "  141.853,844.649 2352.76,844.649 \n",
       "  \"/>\n",
       "<polyline clip-path=\"url(#clip992)\" style=\"stroke:#000000; stroke-linecap:butt; stroke-linejoin:round; stroke-width:2; stroke-opacity:0.1; fill:none\" points=\"\n",
       "  141.853,572.294 2352.76,572.294 \n",
       "  \"/>\n",
       "<polyline clip-path=\"url(#clip992)\" style=\"stroke:#000000; stroke-linecap:butt; stroke-linejoin:round; stroke-width:2; stroke-opacity:0.1; fill:none\" points=\"\n",
       "  141.853,299.939 2352.76,299.939 \n",
       "  \"/>\n",
       "<polyline clip-path=\"url(#clip990)\" style=\"stroke:#000000; stroke-linecap:butt; stroke-linejoin:round; stroke-width:4; stroke-opacity:1; fill:none\" points=\"\n",
       "  141.853,1486.45 141.853,47.2441 \n",
       "  \"/>\n",
       "<polyline clip-path=\"url(#clip990)\" style=\"stroke:#000000; stroke-linecap:butt; stroke-linejoin:round; stroke-width:4; stroke-opacity:1; fill:none\" points=\"\n",
       "  141.853,1389.36 160.751,1389.36 \n",
       "  \"/>\n",
       "<polyline clip-path=\"url(#clip990)\" style=\"stroke:#000000; stroke-linecap:butt; stroke-linejoin:round; stroke-width:4; stroke-opacity:1; fill:none\" points=\"\n",
       "  141.853,1117 160.751,1117 \n",
       "  \"/>\n",
       "<polyline clip-path=\"url(#clip990)\" style=\"stroke:#000000; stroke-linecap:butt; stroke-linejoin:round; stroke-width:4; stroke-opacity:1; fill:none\" points=\"\n",
       "  141.853,844.649 160.751,844.649 \n",
       "  \"/>\n",
       "<polyline clip-path=\"url(#clip990)\" style=\"stroke:#000000; stroke-linecap:butt; stroke-linejoin:round; stroke-width:4; stroke-opacity:1; fill:none\" points=\"\n",
       "  141.853,572.294 160.751,572.294 \n",
       "  \"/>\n",
       "<polyline clip-path=\"url(#clip990)\" style=\"stroke:#000000; stroke-linecap:butt; stroke-linejoin:round; stroke-width:4; stroke-opacity:1; fill:none\" points=\"\n",
       "  141.853,299.939 160.751,299.939 \n",
       "  \"/>\n",
       "<path clip-path=\"url(#clip990)\" d=\"M57.7745 1402.7 L74.0939 1402.7 L74.0939 1406.64 L52.1495 1406.64 L52.1495 1402.7 Q54.8115 1399.95 59.3949 1395.32 Q64.0013 1390.67 65.1819 1389.33 Q67.4272 1386.8 68.3068 1385.07 Q69.2096 1383.31 69.2096 1381.62 Q69.2096 1378.86 67.2652 1377.13 Q65.3439 1375.39 62.2421 1375.39 Q60.043 1375.39 57.5893 1376.15 Q55.1588 1376.92 52.381 1378.47 L52.381 1373.75 Q55.2051 1372.61 57.6588 1372.03 Q60.1124 1371.45 62.1495 1371.45 Q67.5198 1371.45 70.7142 1374.14 Q73.9087 1376.83 73.9087 1381.32 Q73.9087 1383.45 73.0985 1385.37 Q72.3115 1387.26 70.205 1389.86 Q69.6263 1390.53 66.5245 1393.75 Q63.4226 1396.94 57.7745 1402.7 Z\" fill=\"#000000\" fill-rule=\"evenodd\" fill-opacity=\"1\" /><path clip-path=\"url(#clip990)\" d=\"M93.9086 1375.16 Q90.2975 1375.16 88.4688 1378.72 Q86.6632 1382.27 86.6632 1389.39 Q86.6632 1396.5 88.4688 1400.07 Q90.2975 1403.61 93.9086 1403.61 Q97.5428 1403.61 99.3483 1400.07 Q101.177 1396.5 101.177 1389.39 Q101.177 1382.27 99.3483 1378.72 Q97.5428 1375.16 93.9086 1375.16 M93.9086 1371.45 Q99.7187 1371.45 102.774 1376.06 Q105.853 1380.64 105.853 1389.39 Q105.853 1398.12 102.774 1402.73 Q99.7187 1407.31 93.9086 1407.31 Q88.0984 1407.31 85.0197 1402.73 Q81.9642 1398.12 81.9642 1389.39 Q81.9642 1380.64 85.0197 1376.06 Q88.0984 1371.45 93.9086 1371.45 Z\" fill=\"#000000\" fill-rule=\"evenodd\" fill-opacity=\"1\" /><path clip-path=\"url(#clip990)\" d=\"M58.7699 1130.35 L75.0892 1130.35 L75.0892 1134.28 L53.1449 1134.28 L53.1449 1130.35 Q55.8069 1127.59 60.3902 1122.97 Q64.9967 1118.31 66.1772 1116.97 Q68.4226 1114.45 69.3022 1112.71 Q70.205 1110.95 70.205 1109.26 Q70.205 1106.51 68.2606 1104.77 Q66.3393 1103.03 63.2374 1103.03 Q61.0384 1103.03 58.5847 1103.8 Q56.1541 1104.56 53.3764 1106.11 L53.3764 1101.39 Q56.2004 1100.26 58.6541 1099.68 Q61.1078 1099.1 63.1448 1099.1 Q68.5152 1099.1 71.7096 1101.78 Q74.904 1104.47 74.904 1108.96 Q74.904 1111.09 74.0939 1113.01 Q73.3068 1114.91 71.2004 1117.5 Q70.6217 1118.17 67.5198 1121.39 Q64.418 1124.59 58.7699 1130.35 Z\" fill=\"#000000\" fill-rule=\"evenodd\" fill-opacity=\"1\" /><path clip-path=\"url(#clip990)\" d=\"M84.9503 1099.72 L103.307 1099.72 L103.307 1103.66 L89.2327 1103.66 L89.2327 1112.13 Q90.2512 1111.78 91.2697 1111.62 Q92.2882 1111.44 93.3067 1111.44 Q99.0937 1111.44 102.473 1114.61 Q105.853 1117.78 105.853 1123.2 Q105.853 1128.78 102.381 1131.88 Q98.9085 1134.96 92.5891 1134.96 Q90.4132 1134.96 88.1447 1134.59 Q85.8993 1134.22 83.492 1133.47 L83.492 1128.78 Q85.5753 1129.91 87.7975 1130.47 Q90.0197 1131.02 92.4965 1131.02 Q96.5011 1131.02 98.8391 1128.91 Q101.177 1126.81 101.177 1123.2 Q101.177 1119.59 98.8391 1117.48 Q96.5011 1115.37 92.4965 1115.37 Q90.6215 1115.37 88.7466 1115.79 Q86.8947 1116.21 84.9503 1117.09 L84.9503 1099.72 Z\" fill=\"#000000\" fill-rule=\"evenodd\" fill-opacity=\"1\" /><path clip-path=\"url(#clip990)\" d=\"M67.9133 843.295 Q71.2698 844.013 73.1448 846.281 Q75.0429 848.55 75.0429 851.883 Q75.0429 856.999 71.5244 859.8 Q68.0059 862.601 61.5245 862.601 Q59.3486 862.601 57.0338 862.161 Q54.7421 861.744 52.2884 860.888 L52.2884 856.374 Q54.2328 857.508 56.5477 858.087 Q58.8625 858.665 61.3856 858.665 Q65.7837 858.665 68.0754 856.929 Q70.3902 855.193 70.3902 851.883 Q70.3902 848.828 68.2374 847.115 Q66.1078 845.378 62.2884 845.378 L58.2606 845.378 L58.2606 841.536 L62.4735 841.536 Q65.9226 841.536 67.7513 840.17 Q69.58 838.781 69.58 836.189 Q69.58 833.527 67.6819 832.115 Q65.8069 830.679 62.2884 830.679 Q60.3671 830.679 58.168 831.096 Q55.969 831.513 53.3301 832.392 L53.3301 828.226 Q55.9921 827.485 58.3069 827.115 Q60.6449 826.744 62.705 826.744 Q68.0291 826.744 71.1309 829.175 Q74.2327 831.582 74.2327 835.703 Q74.2327 838.573 72.5892 840.564 Q70.9457 842.531 67.9133 843.295 Z\" fill=\"#000000\" fill-rule=\"evenodd\" fill-opacity=\"1\" /><path clip-path=\"url(#clip990)\" d=\"M93.9086 830.448 Q90.2975 830.448 88.4688 834.013 Q86.6632 837.554 86.6632 844.684 Q86.6632 851.79 88.4688 855.355 Q90.2975 858.897 93.9086 858.897 Q97.5428 858.897 99.3483 855.355 Q101.177 851.79 101.177 844.684 Q101.177 837.554 99.3483 834.013 Q97.5428 830.448 93.9086 830.448 M93.9086 826.744 Q99.7187 826.744 102.774 831.351 Q105.853 835.934 105.853 844.684 Q105.853 853.411 102.774 858.017 Q99.7187 862.601 93.9086 862.601 Q88.0984 862.601 85.0197 858.017 Q81.9642 853.411 81.9642 844.684 Q81.9642 835.934 85.0197 831.351 Q88.0984 826.744 93.9086 826.744 Z\" fill=\"#000000\" fill-rule=\"evenodd\" fill-opacity=\"1\" /><path clip-path=\"url(#clip990)\" d=\"M68.9087 570.94 Q72.2652 571.657 74.1402 573.926 Q76.0383 576.194 76.0383 579.528 Q76.0383 584.644 72.5198 587.444 Q69.0013 590.245 62.5198 590.245 Q60.3439 590.245 58.0291 589.806 Q55.7375 589.389 53.2838 588.532 L53.2838 584.019 Q55.2282 585.153 57.543 585.731 Q59.8578 586.31 62.381 586.31 Q66.7791 586.31 69.0707 584.574 Q71.3855 582.838 71.3855 579.528 Q71.3855 576.472 69.2328 574.759 Q67.1032 573.023 63.2837 573.023 L59.256 573.023 L59.256 569.181 L63.4689 569.181 Q66.918 569.181 68.7467 567.815 Q70.5754 566.426 70.5754 563.833 Q70.5754 561.171 68.6772 559.759 Q66.8022 558.324 63.2837 558.324 Q61.3624 558.324 59.1634 558.741 Q56.9643 559.158 54.3254 560.037 L54.3254 555.871 Q56.9875 555.13 59.3023 554.759 Q61.6402 554.389 63.7004 554.389 Q69.0244 554.389 72.1263 556.82 Q75.2281 559.227 75.2281 563.347 Q75.2281 566.218 73.5846 568.208 Q71.9411 570.176 68.9087 570.94 Z\" fill=\"#000000\" fill-rule=\"evenodd\" fill-opacity=\"1\" /><path clip-path=\"url(#clip990)\" d=\"M84.9503 555.014 L103.307 555.014 L103.307 558.949 L89.2327 558.949 L89.2327 567.421 Q90.2512 567.074 91.2697 566.912 Q92.2882 566.727 93.3067 566.727 Q99.0937 566.727 102.473 569.898 Q105.853 573.069 105.853 578.486 Q105.853 584.065 102.381 587.167 Q98.9085 590.245 92.5891 590.245 Q90.4132 590.245 88.1447 589.875 Q85.8993 589.505 83.492 588.764 L83.492 584.065 Q85.5753 585.199 87.7975 585.755 Q90.0197 586.31 92.4965 586.31 Q96.5011 586.31 98.8391 584.204 Q101.177 582.097 101.177 578.486 Q101.177 574.875 98.8391 572.769 Q96.5011 570.662 92.4965 570.662 Q90.6215 570.662 88.7466 571.079 Q86.8947 571.495 84.9503 572.375 L84.9503 555.014 Z\" fill=\"#000000\" fill-rule=\"evenodd\" fill-opacity=\"1\" /><path clip-path=\"url(#clip990)\" d=\"M66.5939 286.733 L54.7884 305.182 L66.5939 305.182 L66.5939 286.733 M65.367 282.659 L71.2466 282.659 L71.2466 305.182 L76.1772 305.182 L76.1772 309.071 L71.2466 309.071 L71.2466 317.219 L66.5939 317.219 L66.5939 309.071 L50.9921 309.071 L50.9921 304.557 L65.367 282.659 Z\" fill=\"#000000\" fill-rule=\"evenodd\" fill-opacity=\"1\" /><path clip-path=\"url(#clip990)\" d=\"M93.9086 285.737 Q90.2975 285.737 88.4688 289.302 Q86.6632 292.844 86.6632 299.973 Q86.6632 307.08 88.4688 310.645 Q90.2975 314.186 93.9086 314.186 Q97.5428 314.186 99.3483 310.645 Q101.177 307.08 101.177 299.973 Q101.177 292.844 99.3483 289.302 Q97.5428 285.737 93.9086 285.737 M93.9086 282.034 Q99.7187 282.034 102.774 286.64 Q105.853 291.224 105.853 299.973 Q105.853 308.7 102.774 313.307 Q99.7187 317.89 93.9086 317.89 Q88.0984 317.89 85.0197 313.307 Q81.9642 308.7 81.9642 299.973 Q81.9642 291.224 85.0197 286.64 Q88.0984 282.034 93.9086 282.034 Z\" fill=\"#000000\" fill-rule=\"evenodd\" fill-opacity=\"1\" /><circle clip-path=\"url(#clip992)\" cx=\"800.356\" cy=\"626.765\" r=\"10\" fill=\"#ff0000\" fill-rule=\"evenodd\" fill-opacity=\"1\" stroke=\"#000000\" stroke-opacity=\"1\" stroke-width=\"3.2\"/>\n",
       "<circle clip-path=\"url(#clip992)\" cx=\"1247.3\" cy=\"844.649\" r=\"10\" fill=\"#ff0000\" fill-rule=\"evenodd\" fill-opacity=\"1\" stroke=\"#000000\" stroke-opacity=\"1\" stroke-width=\"3.2\"/>\n",
       "<circle clip-path=\"url(#clip992)\" cx=\"1545.27\" cy=\"1117\" r=\"10\" fill=\"#ff0000\" fill-rule=\"evenodd\" fill-opacity=\"1\" stroke=\"#000000\" stroke-opacity=\"1\" stroke-width=\"3.2\"/>\n",
       "<polyline clip-path=\"url(#clip992)\" style=\"stroke:#e26f46; stroke-linecap:butt; stroke-linejoin:round; stroke-width:4; stroke-opacity:1; fill:none\" points=\"\n",
       "  204.426,87.9763 224.795,107.488 413.137,280.522 526.323,378.374 622.02,457.701 725.973,540.481 821.81,613.789 924.556,689.307 1043.6,772.986 1149.39,844.061 \n",
       "  1242.16,903.945 1343.3,966.739 1445.04,1027.38 1557.54,1091.6 1664.57,1150.06 1775.86,1208.24 1869.54,1255.23 1983.91,1310.25 2091.43,1359.72 2263.68,1434.64 \n",
       "  2290.18,1445.72 \n",
       "  \"/>\n",
       "</svg>\n"
      ]
     },
     "execution_count": 131,
     "metadata": {},
     "output_type": "execute_result"
    }
   ],
   "source": [
    "# Exemplo 1\n",
    "pontos_x = [15;16.5;17.5]\n",
    "pontos_y = [34;30;25]\n",
    "\n",
    "c_barra=regressão_função_exponencial(pontos_x, pontos_y)\n",
    "c1=exp(c_barra[1])\n",
    "c2=c_barra[2]\n",
    "#Retornando o modelo exponencial\n",
    "exponencial(x)=c1*exp(c2*x)\n",
    "\n",
    "#Plotando os pontos x e y passados\n",
    "scatter(pontos_x, pontos_y, c=:red, ms=3, leg=false)\n",
    "#Plotando a função exponencial no intervalo de 13 até 20\n",
    "plot!(exponencial,13,20)"
   ]
  },
  {
   "cell_type": "code",
   "execution_count": 56,
   "id": "106bd127",
   "metadata": {},
   "outputs": [
    {
     "data": {
      "image/svg+xml": [
       "<?xml version=\"1.0\" encoding=\"utf-8\"?>\n",
       "<svg xmlns=\"http://www.w3.org/2000/svg\" xmlns:xlink=\"http://www.w3.org/1999/xlink\" width=\"600\" height=\"400\" viewBox=\"0 0 2400 1600\">\n",
       "<defs>\n",
       "  <clipPath id=\"clip630\">\n",
       "    <rect x=\"0\" y=\"0\" width=\"2400\" height=\"1600\"/>\n",
       "  </clipPath>\n",
       "</defs>\n",
       "<path clip-path=\"url(#clip630)\" d=\"\n",
       "M0 1600 L2400 1600 L2400 0 L0 0  Z\n",
       "  \" fill=\"#ffffff\" fill-rule=\"evenodd\" fill-opacity=\"1\"/>\n",
       "<defs>\n",
       "  <clipPath id=\"clip631\">\n",
       "    <rect x=\"480\" y=\"0\" width=\"1681\" height=\"1600\"/>\n",
       "  </clipPath>\n",
       "</defs>\n",
       "<path clip-path=\"url(#clip630)\" d=\"\n",
       "M141.853 1486.45 L2352.76 1486.45 L2352.76 47.2441 L141.853 47.2441  Z\n",
       "  \" fill=\"#ffffff\" fill-rule=\"evenodd\" fill-opacity=\"1\"/>\n",
       "<defs>\n",
       "  <clipPath id=\"clip632\">\n",
       "    <rect x=\"141\" y=\"47\" width=\"2212\" height=\"1440\"/>\n",
       "  </clipPath>\n",
       "</defs>\n",
       "<polyline clip-path=\"url(#clip632)\" style=\"stroke:#000000; stroke-linecap:butt; stroke-linejoin:round; stroke-width:2; stroke-opacity:0.1; fill:none\" points=\"\n",
       "  413.001,1486.45 413.001,47.2441 \n",
       "  \"/>\n",
       "<polyline clip-path=\"url(#clip632)\" style=\"stroke:#000000; stroke-linecap:butt; stroke-linejoin:round; stroke-width:2; stroke-opacity:0.1; fill:none\" points=\"\n",
       "  830.153,1486.45 830.153,47.2441 \n",
       "  \"/>\n",
       "<polyline clip-path=\"url(#clip632)\" style=\"stroke:#000000; stroke-linecap:butt; stroke-linejoin:round; stroke-width:2; stroke-opacity:0.1; fill:none\" points=\"\n",
       "  1247.3,1486.45 1247.3,47.2441 \n",
       "  \"/>\n",
       "<polyline clip-path=\"url(#clip632)\" style=\"stroke:#000000; stroke-linecap:butt; stroke-linejoin:round; stroke-width:2; stroke-opacity:0.1; fill:none\" points=\"\n",
       "  1664.46,1486.45 1664.46,47.2441 \n",
       "  \"/>\n",
       "<polyline clip-path=\"url(#clip632)\" style=\"stroke:#000000; stroke-linecap:butt; stroke-linejoin:round; stroke-width:2; stroke-opacity:0.1; fill:none\" points=\"\n",
       "  2081.61,1486.45 2081.61,47.2441 \n",
       "  \"/>\n",
       "<polyline clip-path=\"url(#clip630)\" style=\"stroke:#000000; stroke-linecap:butt; stroke-linejoin:round; stroke-width:4; stroke-opacity:1; fill:none\" points=\"\n",
       "  141.853,1486.45 2352.76,1486.45 \n",
       "  \"/>\n",
       "<polyline clip-path=\"url(#clip630)\" style=\"stroke:#000000; stroke-linecap:butt; stroke-linejoin:round; stroke-width:4; stroke-opacity:1; fill:none\" points=\"\n",
       "  413.001,1486.45 413.001,1467.55 \n",
       "  \"/>\n",
       "<polyline clip-path=\"url(#clip630)\" style=\"stroke:#000000; stroke-linecap:butt; stroke-linejoin:round; stroke-width:4; stroke-opacity:1; fill:none\" points=\"\n",
       "  830.153,1486.45 830.153,1467.55 \n",
       "  \"/>\n",
       "<polyline clip-path=\"url(#clip630)\" style=\"stroke:#000000; stroke-linecap:butt; stroke-linejoin:round; stroke-width:4; stroke-opacity:1; fill:none\" points=\"\n",
       "  1247.3,1486.45 1247.3,1467.55 \n",
       "  \"/>\n",
       "<polyline clip-path=\"url(#clip630)\" style=\"stroke:#000000; stroke-linecap:butt; stroke-linejoin:round; stroke-width:4; stroke-opacity:1; fill:none\" points=\"\n",
       "  1664.46,1486.45 1664.46,1467.55 \n",
       "  \"/>\n",
       "<polyline clip-path=\"url(#clip630)\" style=\"stroke:#000000; stroke-linecap:butt; stroke-linejoin:round; stroke-width:4; stroke-opacity:1; fill:none\" points=\"\n",
       "  2081.61,1486.45 2081.61,1467.55 \n",
       "  \"/>\n",
       "<path clip-path=\"url(#clip630)\" d=\"M391.775 1544.91 L408.094 1544.91 L408.094 1548.85 L386.15 1548.85 L386.15 1544.91 Q388.812 1542.16 393.395 1537.53 Q398.002 1532.88 399.182 1531.53 Q401.427 1529.01 402.307 1527.27 Q403.21 1525.51 403.21 1523.82 Q403.21 1521.07 401.265 1519.33 Q399.344 1517.6 396.242 1517.6 Q394.043 1517.6 391.589 1518.36 Q389.159 1519.13 386.381 1520.68 L386.381 1515.95 Q389.205 1514.82 391.659 1514.24 Q394.113 1513.66 396.15 1513.66 Q401.52 1513.66 404.714 1516.35 Q407.909 1519.03 407.909 1523.52 Q407.909 1525.65 407.099 1527.57 Q406.312 1529.47 404.205 1532.07 Q403.626 1532.74 400.525 1535.95 Q397.423 1539.15 391.775 1544.91 Z\" fill=\"#000000\" fill-rule=\"evenodd\" fill-opacity=\"1\" /><path clip-path=\"url(#clip630)\" d=\"M427.909 1517.37 Q424.298 1517.37 422.469 1520.93 Q420.663 1524.47 420.663 1531.6 Q420.663 1538.71 422.469 1542.27 Q424.298 1545.82 427.909 1545.82 Q431.543 1545.82 433.349 1542.27 Q435.177 1538.71 435.177 1531.6 Q435.177 1524.47 433.349 1520.93 Q431.543 1517.37 427.909 1517.37 M427.909 1513.66 Q433.719 1513.66 436.774 1518.27 Q439.853 1522.85 439.853 1531.6 Q439.853 1540.33 436.774 1544.94 Q433.719 1549.52 427.909 1549.52 Q422.099 1549.52 419.02 1544.94 Q415.964 1540.33 415.964 1531.6 Q415.964 1522.85 419.02 1518.27 Q422.099 1513.66 427.909 1513.66 Z\" fill=\"#000000\" fill-rule=\"evenodd\" fill-opacity=\"1\" /><path clip-path=\"url(#clip630)\" d=\"M818.324 1518.36 L806.519 1536.81 L818.324 1536.81 L818.324 1518.36 M817.097 1514.29 L822.977 1514.29 L822.977 1536.81 L827.908 1536.81 L827.908 1540.7 L822.977 1540.7 L822.977 1548.85 L818.324 1548.85 L818.324 1540.7 L802.723 1540.7 L802.723 1536.19 L817.097 1514.29 Z\" fill=\"#000000\" fill-rule=\"evenodd\" fill-opacity=\"1\" /><path clip-path=\"url(#clip630)\" d=\"M845.639 1517.37 Q842.028 1517.37 840.199 1520.93 Q838.394 1524.47 838.394 1531.6 Q838.394 1538.71 840.199 1542.27 Q842.028 1545.82 845.639 1545.82 Q849.273 1545.82 851.079 1542.27 Q852.907 1538.71 852.907 1531.6 Q852.907 1524.47 851.079 1520.93 Q849.273 1517.37 845.639 1517.37 M845.639 1513.66 Q851.449 1513.66 854.505 1518.27 Q857.583 1522.85 857.583 1531.6 Q857.583 1540.33 854.505 1544.94 Q851.449 1549.52 845.639 1549.52 Q839.829 1549.52 836.75 1544.94 Q833.695 1540.33 833.695 1531.6 Q833.695 1522.85 836.75 1518.27 Q839.829 1513.66 845.639 1513.66 Z\" fill=\"#000000\" fill-rule=\"evenodd\" fill-opacity=\"1\" /><path clip-path=\"url(#clip630)\" d=\"M1232.71 1529.7 Q1229.56 1529.7 1227.71 1531.86 Q1225.88 1534.01 1225.88 1537.76 Q1225.88 1541.49 1227.71 1543.66 Q1229.56 1545.82 1232.71 1545.82 Q1235.86 1545.82 1237.69 1543.66 Q1239.54 1541.49 1239.54 1537.76 Q1239.54 1534.01 1237.69 1531.86 Q1235.86 1529.7 1232.71 1529.7 M1241.99 1515.05 L1241.99 1519.31 Q1240.23 1518.48 1238.43 1518.04 Q1236.64 1517.6 1234.89 1517.6 Q1230.26 1517.6 1227.8 1520.72 Q1225.37 1523.85 1225.02 1530.17 Q1226.39 1528.15 1228.45 1527.09 Q1230.51 1526 1232.99 1526 Q1238.2 1526 1241.2 1529.17 Q1244.24 1532.32 1244.24 1537.76 Q1244.24 1543.08 1241.09 1546.3 Q1237.94 1549.52 1232.71 1549.52 Q1226.71 1549.52 1223.54 1544.94 Q1220.37 1540.33 1220.37 1531.6 Q1220.37 1523.41 1224.26 1518.55 Q1228.15 1513.66 1234.7 1513.66 Q1236.46 1513.66 1238.24 1514.01 Q1240.05 1514.36 1241.99 1515.05 Z\" fill=\"#000000\" fill-rule=\"evenodd\" fill-opacity=\"1\" /><path clip-path=\"url(#clip630)\" d=\"M1262.29 1517.37 Q1258.68 1517.37 1256.85 1520.93 Q1255.05 1524.47 1255.05 1531.6 Q1255.05 1538.71 1256.85 1542.27 Q1258.68 1545.82 1262.29 1545.82 Q1265.93 1545.82 1267.73 1542.27 Q1269.56 1538.71 1269.56 1531.6 Q1269.56 1524.47 1267.73 1520.93 Q1265.93 1517.37 1262.29 1517.37 M1262.29 1513.66 Q1268.1 1513.66 1271.16 1518.27 Q1274.24 1522.85 1274.24 1531.6 Q1274.24 1540.33 1271.16 1544.94 Q1268.1 1549.52 1262.29 1549.52 Q1256.48 1549.52 1253.4 1544.94 Q1250.35 1540.33 1250.35 1531.6 Q1250.35 1522.85 1253.4 1518.27 Q1256.48 1513.66 1262.29 1513.66 Z\" fill=\"#000000\" fill-rule=\"evenodd\" fill-opacity=\"1\" /><path clip-path=\"url(#clip630)\" d=\"M1649.33 1532.44 Q1646 1532.44 1644.07 1534.22 Q1642.18 1536 1642.18 1539.13 Q1642.18 1542.25 1644.07 1544.03 Q1646 1545.82 1649.33 1545.82 Q1652.66 1545.82 1654.58 1544.03 Q1656.5 1542.23 1656.5 1539.13 Q1656.5 1536 1654.58 1534.22 Q1652.69 1532.44 1649.33 1532.44 M1644.65 1530.45 Q1641.64 1529.7 1639.95 1527.64 Q1638.29 1525.58 1638.29 1522.62 Q1638.29 1518.48 1641.23 1516.07 Q1644.19 1513.66 1649.33 1513.66 Q1654.49 1513.66 1657.43 1516.07 Q1660.37 1518.48 1660.37 1522.62 Q1660.37 1525.58 1658.68 1527.64 Q1657.01 1529.7 1654.03 1530.45 Q1657.41 1531.23 1659.28 1533.52 Q1661.18 1535.82 1661.18 1539.13 Q1661.18 1544.15 1658.1 1546.83 Q1655.05 1549.52 1649.33 1549.52 Q1643.61 1549.52 1640.53 1546.83 Q1637.48 1544.15 1637.48 1539.13 Q1637.48 1535.82 1639.38 1533.52 Q1641.27 1531.23 1644.65 1530.45 M1642.94 1523.06 Q1642.94 1525.75 1644.61 1527.25 Q1646.3 1528.76 1649.33 1528.76 Q1652.34 1528.76 1654.03 1527.25 Q1655.74 1525.75 1655.74 1523.06 Q1655.74 1520.38 1654.03 1518.87 Q1652.34 1517.37 1649.33 1517.37 Q1646.3 1517.37 1644.61 1518.87 Q1642.94 1520.38 1642.94 1523.06 Z\" fill=\"#000000\" fill-rule=\"evenodd\" fill-opacity=\"1\" /><path clip-path=\"url(#clip630)\" d=\"M1679.49 1517.37 Q1675.88 1517.37 1674.05 1520.93 Q1672.25 1524.47 1672.25 1531.6 Q1672.25 1538.71 1674.05 1542.27 Q1675.88 1545.82 1679.49 1545.82 Q1683.12 1545.82 1684.93 1542.27 Q1686.76 1538.71 1686.76 1531.6 Q1686.76 1524.47 1684.93 1520.93 Q1683.12 1517.37 1679.49 1517.37 M1679.49 1513.66 Q1685.3 1513.66 1688.36 1518.27 Q1691.43 1522.85 1691.43 1531.6 Q1691.43 1540.33 1688.36 1544.94 Q1685.3 1549.52 1679.49 1549.52 Q1673.68 1549.52 1670.6 1544.94 Q1667.55 1540.33 1667.55 1531.6 Q1667.55 1522.85 1670.6 1518.27 Q1673.68 1513.66 1679.49 1513.66 Z\" fill=\"#000000\" fill-rule=\"evenodd\" fill-opacity=\"1\" /><path clip-path=\"url(#clip630)\" d=\"M2041.21 1544.91 L2048.85 1544.91 L2048.85 1518.55 L2040.54 1520.21 L2040.54 1515.95 L2048.81 1514.29 L2053.48 1514.29 L2053.48 1544.91 L2061.12 1544.91 L2061.12 1548.85 L2041.21 1548.85 L2041.21 1544.91 Z\" fill=\"#000000\" fill-rule=\"evenodd\" fill-opacity=\"1\" /><path clip-path=\"url(#clip630)\" d=\"M2080.57 1517.37 Q2076.95 1517.37 2075.13 1520.93 Q2073.32 1524.47 2073.32 1531.6 Q2073.32 1538.71 2075.13 1542.27 Q2076.95 1545.82 2080.57 1545.82 Q2084.2 1545.82 2086.01 1542.27 Q2087.83 1538.71 2087.83 1531.6 Q2087.83 1524.47 2086.01 1520.93 Q2084.2 1517.37 2080.57 1517.37 M2080.57 1513.66 Q2086.38 1513.66 2089.43 1518.27 Q2092.51 1522.85 2092.51 1531.6 Q2092.51 1540.33 2089.43 1544.94 Q2086.38 1549.52 2080.57 1549.52 Q2074.76 1549.52 2071.68 1544.94 Q2068.62 1540.33 2068.62 1531.6 Q2068.62 1522.85 2071.68 1518.27 Q2074.76 1513.66 2080.57 1513.66 Z\" fill=\"#000000\" fill-rule=\"evenodd\" fill-opacity=\"1\" /><path clip-path=\"url(#clip630)\" d=\"M2110.73 1517.37 Q2107.12 1517.37 2105.29 1520.93 Q2103.48 1524.47 2103.48 1531.6 Q2103.48 1538.71 2105.29 1542.27 Q2107.12 1545.82 2110.73 1545.82 Q2114.36 1545.82 2116.17 1542.27 Q2118 1538.71 2118 1531.6 Q2118 1524.47 2116.17 1520.93 Q2114.36 1517.37 2110.73 1517.37 M2110.73 1513.66 Q2116.54 1513.66 2119.59 1518.27 Q2122.67 1522.85 2122.67 1531.6 Q2122.67 1540.33 2119.59 1544.94 Q2116.54 1549.52 2110.73 1549.52 Q2104.92 1549.52 2101.84 1544.94 Q2098.78 1540.33 2098.78 1531.6 Q2098.78 1522.85 2101.84 1518.27 Q2104.92 1513.66 2110.73 1513.66 Z\" fill=\"#000000\" fill-rule=\"evenodd\" fill-opacity=\"1\" /><polyline clip-path=\"url(#clip632)\" style=\"stroke:#000000; stroke-linecap:butt; stroke-linejoin:round; stroke-width:2; stroke-opacity:0.1; fill:none\" points=\"\n",
       "  141.853,1257.14 2352.76,1257.14 \n",
       "  \"/>\n",
       "<polyline clip-path=\"url(#clip632)\" style=\"stroke:#000000; stroke-linecap:butt; stroke-linejoin:round; stroke-width:2; stroke-opacity:0.1; fill:none\" points=\"\n",
       "  141.853,879.991 2352.76,879.991 \n",
       "  \"/>\n",
       "<polyline clip-path=\"url(#clip632)\" style=\"stroke:#000000; stroke-linecap:butt; stroke-linejoin:round; stroke-width:2; stroke-opacity:0.1; fill:none\" points=\"\n",
       "  141.853,502.841 2352.76,502.841 \n",
       "  \"/>\n",
       "<polyline clip-path=\"url(#clip632)\" style=\"stroke:#000000; stroke-linecap:butt; stroke-linejoin:round; stroke-width:2; stroke-opacity:0.1; fill:none\" points=\"\n",
       "  141.853,125.691 2352.76,125.691 \n",
       "  \"/>\n",
       "<polyline clip-path=\"url(#clip630)\" style=\"stroke:#000000; stroke-linecap:butt; stroke-linejoin:round; stroke-width:4; stroke-opacity:1; fill:none\" points=\"\n",
       "  141.853,1486.45 141.853,47.2441 \n",
       "  \"/>\n",
       "<polyline clip-path=\"url(#clip630)\" style=\"stroke:#000000; stroke-linecap:butt; stroke-linejoin:round; stroke-width:4; stroke-opacity:1; fill:none\" points=\"\n",
       "  141.853,1257.14 160.751,1257.14 \n",
       "  \"/>\n",
       "<polyline clip-path=\"url(#clip630)\" style=\"stroke:#000000; stroke-linecap:butt; stroke-linejoin:round; stroke-width:4; stroke-opacity:1; fill:none\" points=\"\n",
       "  141.853,879.991 160.751,879.991 \n",
       "  \"/>\n",
       "<polyline clip-path=\"url(#clip630)\" style=\"stroke:#000000; stroke-linecap:butt; stroke-linejoin:round; stroke-width:4; stroke-opacity:1; fill:none\" points=\"\n",
       "  141.853,502.841 160.751,502.841 \n",
       "  \"/>\n",
       "<polyline clip-path=\"url(#clip630)\" style=\"stroke:#000000; stroke-linecap:butt; stroke-linejoin:round; stroke-width:4; stroke-opacity:1; fill:none\" points=\"\n",
       "  141.853,125.691 160.751,125.691 \n",
       "  \"/>\n",
       "<path clip-path=\"url(#clip630)\" d=\"M57.7745 1270.49 L74.0939 1270.49 L74.0939 1274.42 L52.1495 1274.42 L52.1495 1270.49 Q54.8115 1267.73 59.3949 1263.1 Q64.0013 1258.45 65.1819 1257.11 Q67.4272 1254.58 68.3068 1252.85 Q69.2096 1251.09 69.2096 1249.4 Q69.2096 1246.64 67.2652 1244.91 Q65.3439 1243.17 62.2421 1243.17 Q60.043 1243.17 57.5893 1243.93 Q55.1588 1244.7 52.381 1246.25 L52.381 1241.53 Q55.2051 1240.39 57.6588 1239.81 Q60.1124 1239.24 62.1495 1239.24 Q67.5198 1239.24 70.7142 1241.92 Q73.9087 1244.61 73.9087 1249.1 Q73.9087 1251.23 73.0985 1253.15 Q72.3115 1255.05 70.205 1257.64 Q69.6263 1258.31 66.5245 1261.53 Q63.4226 1264.72 57.7745 1270.49 Z\" fill=\"#000000\" fill-rule=\"evenodd\" fill-opacity=\"1\" /><path clip-path=\"url(#clip630)\" d=\"M93.9086 1242.94 Q90.2975 1242.94 88.4688 1246.5 Q86.6632 1250.05 86.6632 1257.18 Q86.6632 1264.28 88.4688 1267.85 Q90.2975 1271.39 93.9086 1271.39 Q97.5428 1271.39 99.3483 1267.85 Q101.177 1264.28 101.177 1257.18 Q101.177 1250.05 99.3483 1246.5 Q97.5428 1242.94 93.9086 1242.94 M93.9086 1239.24 Q99.7187 1239.24 102.774 1243.84 Q105.853 1248.43 105.853 1257.18 Q105.853 1265.9 102.774 1270.51 Q99.7187 1275.09 93.9086 1275.09 Q88.0984 1275.09 85.0197 1270.51 Q81.9642 1265.9 81.9642 1257.18 Q81.9642 1248.43 85.0197 1243.84 Q88.0984 1239.24 93.9086 1239.24 Z\" fill=\"#000000\" fill-rule=\"evenodd\" fill-opacity=\"1\" /><path clip-path=\"url(#clip630)\" d=\"M66.5939 866.785 L54.7884 885.234 L66.5939 885.234 L66.5939 866.785 M65.367 862.711 L71.2466 862.711 L71.2466 885.234 L76.1772 885.234 L76.1772 889.123 L71.2466 889.123 L71.2466 897.271 L66.5939 897.271 L66.5939 889.123 L50.9921 889.123 L50.9921 884.609 L65.367 862.711 Z\" fill=\"#000000\" fill-rule=\"evenodd\" fill-opacity=\"1\" /><path clip-path=\"url(#clip630)\" d=\"M93.9086 865.79 Q90.2975 865.79 88.4688 869.354 Q86.6632 872.896 86.6632 880.026 Q86.6632 887.132 88.4688 890.697 Q90.2975 894.239 93.9086 894.239 Q97.5428 894.239 99.3483 890.697 Q101.177 887.132 101.177 880.026 Q101.177 872.896 99.3483 869.354 Q97.5428 865.79 93.9086 865.79 M93.9086 862.086 Q99.7187 862.086 102.774 866.692 Q105.853 871.276 105.853 880.026 Q105.853 888.752 102.774 893.359 Q99.7187 897.942 93.9086 897.942 Q88.0984 897.942 85.0197 893.359 Q81.9642 888.752 81.9642 880.026 Q81.9642 871.276 85.0197 866.692 Q88.0984 862.086 93.9086 862.086 Z\" fill=\"#000000\" fill-rule=\"evenodd\" fill-opacity=\"1\" /><path clip-path=\"url(#clip630)\" d=\"M64.3254 500.978 Q61.1773 500.978 59.3254 503.13 Q57.4967 505.283 57.4967 509.033 Q57.4967 512.76 59.3254 514.936 Q61.1773 517.089 64.3254 517.089 Q67.4735 517.089 69.3022 514.936 Q71.1541 512.76 71.1541 509.033 Q71.1541 505.283 69.3022 503.13 Q67.4735 500.978 64.3254 500.978 M73.6077 486.325 L73.6077 490.584 Q71.8485 489.751 70.0429 489.311 Q68.2606 488.871 66.5013 488.871 Q61.8717 488.871 59.418 491.996 Q56.9875 495.121 56.6402 501.441 Q58.006 499.427 60.0662 498.362 Q62.1263 497.274 64.6032 497.274 Q69.8115 497.274 72.8207 500.445 Q75.8531 503.593 75.8531 509.033 Q75.8531 514.357 72.705 517.575 Q69.5568 520.792 64.3254 520.792 Q58.33 520.792 55.1588 516.209 Q51.9875 511.603 51.9875 502.876 Q51.9875 494.681 55.8764 489.82 Q59.7652 484.936 66.3161 484.936 Q68.0754 484.936 69.8578 485.283 Q71.6633 485.631 73.6077 486.325 Z\" fill=\"#000000\" fill-rule=\"evenodd\" fill-opacity=\"1\" /><path clip-path=\"url(#clip630)\" d=\"M93.9086 488.64 Q90.2975 488.64 88.4688 492.205 Q86.6632 495.746 86.6632 502.876 Q86.6632 509.982 88.4688 513.547 Q90.2975 517.089 93.9086 517.089 Q97.5428 517.089 99.3483 513.547 Q101.177 509.982 101.177 502.876 Q101.177 495.746 99.3483 492.205 Q97.5428 488.64 93.9086 488.64 M93.9086 484.936 Q99.7187 484.936 102.774 489.543 Q105.853 494.126 105.853 502.876 Q105.853 511.603 102.774 516.209 Q99.7187 520.792 93.9086 520.792 Q88.0984 520.792 85.0197 516.209 Q81.9642 511.603 81.9642 502.876 Q81.9642 494.126 85.0197 489.543 Q88.0984 484.936 93.9086 484.936 Z\" fill=\"#000000\" fill-rule=\"evenodd\" fill-opacity=\"1\" /><path clip-path=\"url(#clip630)\" d=\"M63.7467 126.559 Q60.4134 126.559 58.4921 128.342 Q56.5939 130.124 56.5939 133.249 Q56.5939 136.374 58.4921 138.156 Q60.4134 139.939 63.7467 139.939 Q67.08 139.939 69.0013 138.156 Q70.9226 136.351 70.9226 133.249 Q70.9226 130.124 69.0013 128.342 Q67.1032 126.559 63.7467 126.559 M59.0708 124.569 Q56.0615 123.828 54.3717 121.768 Q52.7051 119.707 52.7051 116.745 Q52.7051 112.601 55.6449 110.194 Q58.6078 107.786 63.7467 107.786 Q68.9087 107.786 71.8485 110.194 Q74.7883 112.601 74.7883 116.745 Q74.7883 119.707 73.0985 121.768 Q71.4318 123.828 68.4457 124.569 Q71.8253 125.356 73.7003 127.647 Q75.5985 129.939 75.5985 133.249 Q75.5985 138.272 72.5198 140.957 Q69.4642 143.643 63.7467 143.643 Q58.0291 143.643 54.9504 140.957 Q51.8949 138.272 51.8949 133.249 Q51.8949 129.939 53.793 127.647 Q55.6912 125.356 59.0708 124.569 M57.3578 117.184 Q57.3578 119.87 59.0245 121.374 Q60.7143 122.879 63.7467 122.879 Q66.7559 122.879 68.4457 121.374 Q70.1587 119.87 70.1587 117.184 Q70.1587 114.499 68.4457 112.995 Q66.7559 111.49 63.7467 111.49 Q60.7143 111.49 59.0245 112.995 Q57.3578 114.499 57.3578 117.184 Z\" fill=\"#000000\" fill-rule=\"evenodd\" fill-opacity=\"1\" /><path clip-path=\"url(#clip630)\" d=\"M93.9086 111.49 Q90.2975 111.49 88.4688 115.055 Q86.6632 118.596 86.6632 125.726 Q86.6632 132.832 88.4688 136.397 Q90.2975 139.939 93.9086 139.939 Q97.5428 139.939 99.3483 136.397 Q101.177 132.832 101.177 125.726 Q101.177 118.596 99.3483 115.055 Q97.5428 111.49 93.9086 111.49 M93.9086 107.786 Q99.7187 107.786 102.774 112.393 Q105.853 116.976 105.853 125.726 Q105.853 134.453 102.774 139.059 Q99.7187 143.643 93.9086 143.643 Q88.0984 143.643 85.0197 139.059 Q81.9642 134.453 81.9642 125.726 Q81.9642 116.976 85.0197 112.393 Q88.0984 107.786 93.9086 107.786 Z\" fill=\"#000000\" fill-rule=\"evenodd\" fill-opacity=\"1\" /><circle clip-path=\"url(#clip632)\" cx=\"1143.02\" cy=\"1049.71\" r=\"10\" fill=\"#0000ff\" fill-rule=\"evenodd\" fill-opacity=\"1\" stroke=\"#000000\" stroke-opacity=\"1\" stroke-width=\"3.2\"/>\n",
       "<circle clip-path=\"url(#clip632)\" cx=\"2081.61\" cy=\"87.9763\" r=\"10\" fill=\"#0000ff\" fill-rule=\"evenodd\" fill-opacity=\"1\" stroke=\"#000000\" stroke-opacity=\"1\" stroke-width=\"3.2\"/>\n",
       "<circle clip-path=\"url(#clip632)\" cx=\"621.577\" cy=\"1162.85\" r=\"10\" fill=\"#0000ff\" fill-rule=\"evenodd\" fill-opacity=\"1\" stroke=\"#000000\" stroke-opacity=\"1\" stroke-width=\"3.2\"/>\n",
       "<circle clip-path=\"url(#clip632)\" cx=\"1247.3\" cy=\"1144\" r=\"10\" fill=\"#0000ff\" fill-rule=\"evenodd\" fill-opacity=\"1\" stroke=\"#000000\" stroke-opacity=\"1\" stroke-width=\"3.2\"/>\n",
       "<circle clip-path=\"url(#clip632)\" cx=\"830.153\" cy=\"1219.43\" r=\"10\" fill=\"#0000ff\" fill-rule=\"evenodd\" fill-opacity=\"1\" stroke=\"#000000\" stroke-opacity=\"1\" stroke-width=\"3.2\"/>\n",
       "<circle clip-path=\"url(#clip632)\" cx=\"1789.6\" cy=\"502.841\" r=\"10\" fill=\"#0000ff\" fill-rule=\"evenodd\" fill-opacity=\"1\" stroke=\"#000000\" stroke-opacity=\"1\" stroke-width=\"3.2\"/>\n",
       "<circle clip-path=\"url(#clip632)\" cx=\"413.001\" cy=\"1238.28\" r=\"10\" fill=\"#0000ff\" fill-rule=\"evenodd\" fill-opacity=\"1\" stroke=\"#000000\" stroke-opacity=\"1\" stroke-width=\"3.2\"/>\n",
       "<circle clip-path=\"url(#clip632)\" cx=\"1351.59\" cy=\"1068.57\" r=\"10\" fill=\"#0000ff\" fill-rule=\"evenodd\" fill-opacity=\"1\" stroke=\"#000000\" stroke-opacity=\"1\" stroke-width=\"3.2\"/>\n",
       "<circle clip-path=\"url(#clip632)\" cx=\"517.289\" cy=\"1445.72\" r=\"10\" fill=\"#0000ff\" fill-rule=\"evenodd\" fill-opacity=\"1\" stroke=\"#000000\" stroke-opacity=\"1\" stroke-width=\"3.2\"/>\n",
       "<circle clip-path=\"url(#clip632)\" cx=\"830.153\" cy=\"1068.57\" r=\"10\" fill=\"#0000ff\" fill-rule=\"evenodd\" fill-opacity=\"1\" stroke=\"#000000\" stroke-opacity=\"1\" stroke-width=\"3.2\"/>\n",
       "<circle clip-path=\"url(#clip632)\" cx=\"2290.18\" cy=\"314.266\" r=\"10\" fill=\"#0000ff\" fill-rule=\"evenodd\" fill-opacity=\"1\" stroke=\"#000000\" stroke-opacity=\"1\" stroke-width=\"3.2\"/>\n",
       "<polyline clip-path=\"url(#clip632)\" style=\"stroke:#e26f46; stroke-linecap:butt; stroke-linejoin:round; stroke-width:4; stroke-opacity:1; fill:none\" points=\"\n",
       "  204.426,1381.11 224.795,1376.64 413.137,1331.41 526.323,1300.49 622.02,1271.9 725.973,1238.06 821.81,1204.07 924.556,1164.39 1043.6,1113.81 1149.39,1064.31 \n",
       "  1242.16,1017.05 1343.3,961.039 1445.04,899.568 1557.54,825.052 1664.57,747.145 1775.86,658.178 1869.54,576.405 1983.91,467.226 2091.43,354.341 2263.68,150.294 \n",
       "  2290.18,116.125 \n",
       "  \"/>\n",
       "</svg>\n"
      ]
     },
     "execution_count": 56,
     "metadata": {},
     "output_type": "execute_result"
    }
   ],
   "source": [
    "# Exemplo 2\n",
    "pontos_x = [55; 100; 30; 60; 40; 86; 20; 65; 25; 40; 110]\n",
    "pontos_y = [31; 82; 25; 26; 22; 60; 21; 30; 10; 30; 70]\n",
    "\n",
    "c_barra=regressão_função_exponencial(pontos_x, pontos_y)\n",
    "c1=exp(c_barra[1])\n",
    "c2=c_barra[2]\n",
    "#Retornando o modelo exponencial\n",
    "exponencial(x)=c1*exp(c2*x)\n",
    "\n",
    "#Plotando os pontos x e y passados\n",
    "scatter(pontos_x, pontos_y, c=:blue, ms=3, leg=false)\n",
    "#Plotando a função exponencial \n",
    "plot!(exponencial,10,110)"
   ]
  },
  {
   "cell_type": "code",
   "execution_count": 57,
   "id": "607b2dab",
   "metadata": {},
   "outputs": [
    {
     "data": {
      "image/svg+xml": [
       "<?xml version=\"1.0\" encoding=\"utf-8\"?>\n",
       "<svg xmlns=\"http://www.w3.org/2000/svg\" xmlns:xlink=\"http://www.w3.org/1999/xlink\" width=\"600\" height=\"400\" viewBox=\"0 0 2400 1600\">\n",
       "<defs>\n",
       "  <clipPath id=\"clip670\">\n",
       "    <rect x=\"0\" y=\"0\" width=\"2400\" height=\"1600\"/>\n",
       "  </clipPath>\n",
       "</defs>\n",
       "<path clip-path=\"url(#clip670)\" d=\"\n",
       "M0 1600 L2400 1600 L2400 0 L0 0  Z\n",
       "  \" fill=\"#ffffff\" fill-rule=\"evenodd\" fill-opacity=\"1\"/>\n",
       "<defs>\n",
       "  <clipPath id=\"clip671\">\n",
       "    <rect x=\"480\" y=\"0\" width=\"1681\" height=\"1600\"/>\n",
       "  </clipPath>\n",
       "</defs>\n",
       "<path clip-path=\"url(#clip670)\" d=\"\n",
       "M141.853 1486.45 L2352.76 1486.45 L2352.76 47.2441 L141.853 47.2441  Z\n",
       "  \" fill=\"#ffffff\" fill-rule=\"evenodd\" fill-opacity=\"1\"/>\n",
       "<defs>\n",
       "  <clipPath id=\"clip672\">\n",
       "    <rect x=\"141\" y=\"47\" width=\"2212\" height=\"1440\"/>\n",
       "  </clipPath>\n",
       "</defs>\n",
       "<polyline clip-path=\"url(#clip672)\" style=\"stroke:#000000; stroke-linecap:butt; stroke-linejoin:round; stroke-width:2; stroke-opacity:0.1; fill:none\" points=\"\n",
       "  502.391,1486.45 502.391,47.2441 \n",
       "  \"/>\n",
       "<polyline clip-path=\"url(#clip672)\" style=\"stroke:#000000; stroke-linecap:butt; stroke-linejoin:round; stroke-width:2; stroke-opacity:0.1; fill:none\" points=\"\n",
       "  1098.32,1486.45 1098.32,47.2441 \n",
       "  \"/>\n",
       "<polyline clip-path=\"url(#clip672)\" style=\"stroke:#000000; stroke-linecap:butt; stroke-linejoin:round; stroke-width:2; stroke-opacity:0.1; fill:none\" points=\"\n",
       "  1694.25,1486.45 1694.25,47.2441 \n",
       "  \"/>\n",
       "<polyline clip-path=\"url(#clip672)\" style=\"stroke:#000000; stroke-linecap:butt; stroke-linejoin:round; stroke-width:2; stroke-opacity:0.1; fill:none\" points=\"\n",
       "  2290.18,1486.45 2290.18,47.2441 \n",
       "  \"/>\n",
       "<polyline clip-path=\"url(#clip670)\" style=\"stroke:#000000; stroke-linecap:butt; stroke-linejoin:round; stroke-width:4; stroke-opacity:1; fill:none\" points=\"\n",
       "  141.853,1486.45 2352.76,1486.45 \n",
       "  \"/>\n",
       "<polyline clip-path=\"url(#clip670)\" style=\"stroke:#000000; stroke-linecap:butt; stroke-linejoin:round; stroke-width:4; stroke-opacity:1; fill:none\" points=\"\n",
       "  502.391,1486.45 502.391,1467.55 \n",
       "  \"/>\n",
       "<polyline clip-path=\"url(#clip670)\" style=\"stroke:#000000; stroke-linecap:butt; stroke-linejoin:round; stroke-width:4; stroke-opacity:1; fill:none\" points=\"\n",
       "  1098.32,1486.45 1098.32,1467.55 \n",
       "  \"/>\n",
       "<polyline clip-path=\"url(#clip670)\" style=\"stroke:#000000; stroke-linecap:butt; stroke-linejoin:round; stroke-width:4; stroke-opacity:1; fill:none\" points=\"\n",
       "  1694.25,1486.45 1694.25,1467.55 \n",
       "  \"/>\n",
       "<polyline clip-path=\"url(#clip670)\" style=\"stroke:#000000; stroke-linecap:butt; stroke-linejoin:round; stroke-width:4; stroke-opacity:1; fill:none\" points=\"\n",
       "  2290.18,1486.45 2290.18,1467.55 \n",
       "  \"/>\n",
       "<path clip-path=\"url(#clip670)\" d=\"M476.836 1544.91 L484.474 1544.91 L484.474 1518.55 L476.164 1520.21 L476.164 1515.95 L484.428 1514.29 L489.104 1514.29 L489.104 1544.91 L496.743 1544.91 L496.743 1548.85 L476.836 1548.85 L476.836 1544.91 Z\" fill=\"#000000\" fill-rule=\"evenodd\" fill-opacity=\"1\" /><path clip-path=\"url(#clip670)\" d=\"M519.034 1518.36 L507.229 1536.81 L519.034 1536.81 L519.034 1518.36 M517.808 1514.29 L523.687 1514.29 L523.687 1536.81 L528.618 1536.81 L528.618 1540.7 L523.687 1540.7 L523.687 1548.85 L519.034 1548.85 L519.034 1540.7 L503.433 1540.7 L503.433 1536.19 L517.808 1514.29 Z\" fill=\"#000000\" fill-rule=\"evenodd\" fill-opacity=\"1\" /><path clip-path=\"url(#clip670)\" d=\"M1072.93 1544.91 L1080.57 1544.91 L1080.57 1518.55 L1072.26 1520.21 L1072.26 1515.95 L1080.52 1514.29 L1085.2 1514.29 L1085.2 1544.91 L1092.84 1544.91 L1092.84 1548.85 L1072.93 1548.85 L1072.93 1544.91 Z\" fill=\"#000000\" fill-rule=\"evenodd\" fill-opacity=\"1\" /><path clip-path=\"url(#clip670)\" d=\"M1112.86 1529.7 Q1109.71 1529.7 1107.86 1531.86 Q1106.03 1534.01 1106.03 1537.76 Q1106.03 1541.49 1107.86 1543.66 Q1109.71 1545.82 1112.86 1545.82 Q1116.01 1545.82 1117.84 1543.66 Q1119.69 1541.49 1119.69 1537.76 Q1119.69 1534.01 1117.84 1531.86 Q1116.01 1529.7 1112.86 1529.7 M1122.14 1515.05 L1122.14 1519.31 Q1120.38 1518.48 1118.58 1518.04 Q1116.79 1517.6 1115.03 1517.6 Q1110.41 1517.6 1107.95 1520.72 Q1105.52 1523.85 1105.17 1530.17 Q1106.54 1528.15 1108.6 1527.09 Q1110.66 1526 1113.14 1526 Q1118.34 1526 1121.35 1529.17 Q1124.39 1532.32 1124.39 1537.76 Q1124.39 1543.08 1121.24 1546.3 Q1118.09 1549.52 1112.86 1549.52 Q1106.86 1549.52 1103.69 1544.94 Q1100.52 1540.33 1100.52 1531.6 Q1100.52 1523.41 1104.41 1518.55 Q1108.3 1513.66 1114.85 1513.66 Q1116.61 1513.66 1118.39 1514.01 Q1120.2 1514.36 1122.14 1515.05 Z\" fill=\"#000000\" fill-rule=\"evenodd\" fill-opacity=\"1\" /><path clip-path=\"url(#clip670)\" d=\"M1668.99 1544.91 L1676.63 1544.91 L1676.63 1518.55 L1668.32 1520.21 L1668.32 1515.95 L1676.58 1514.29 L1681.25 1514.29 L1681.25 1544.91 L1688.89 1544.91 L1688.89 1548.85 L1668.99 1548.85 L1668.99 1544.91 Z\" fill=\"#000000\" fill-rule=\"evenodd\" fill-opacity=\"1\" /><path clip-path=\"url(#clip670)\" d=\"M1708.34 1532.44 Q1705 1532.44 1703.08 1534.22 Q1701.19 1536 1701.19 1539.13 Q1701.19 1542.25 1703.08 1544.03 Q1705 1545.82 1708.34 1545.82 Q1711.67 1545.82 1713.59 1544.03 Q1715.51 1542.23 1715.51 1539.13 Q1715.51 1536 1713.59 1534.22 Q1711.69 1532.44 1708.34 1532.44 M1703.66 1530.45 Q1700.65 1529.7 1698.96 1527.64 Q1697.3 1525.58 1697.3 1522.62 Q1697.3 1518.48 1700.24 1516.07 Q1703.2 1513.66 1708.34 1513.66 Q1713.5 1513.66 1716.44 1516.07 Q1719.38 1518.48 1719.38 1522.62 Q1719.38 1525.58 1717.69 1527.64 Q1716.02 1529.7 1713.04 1530.45 Q1716.42 1531.23 1718.29 1533.52 Q1720.19 1535.82 1720.19 1539.13 Q1720.19 1544.15 1717.11 1546.83 Q1714.06 1549.52 1708.34 1549.52 Q1702.62 1549.52 1699.54 1546.83 Q1696.49 1544.15 1696.49 1539.13 Q1696.49 1535.82 1698.38 1533.52 Q1700.28 1531.23 1703.66 1530.45 M1701.95 1523.06 Q1701.95 1525.75 1703.62 1527.25 Q1705.31 1528.76 1708.34 1528.76 Q1711.35 1528.76 1713.04 1527.25 Q1714.75 1525.75 1714.75 1523.06 Q1714.75 1520.38 1713.04 1518.87 Q1711.35 1517.37 1708.34 1517.37 Q1705.31 1517.37 1703.62 1518.87 Q1701.95 1520.38 1701.95 1523.06 Z\" fill=\"#000000\" fill-rule=\"evenodd\" fill-opacity=\"1\" /><path clip-path=\"url(#clip670)\" d=\"M2268.96 1544.91 L2285.28 1544.91 L2285.28 1548.85 L2263.33 1548.85 L2263.33 1544.91 Q2265.99 1542.16 2270.58 1537.53 Q2275.18 1532.88 2276.36 1531.53 Q2278.61 1529.01 2279.49 1527.27 Q2280.39 1525.51 2280.39 1523.82 Q2280.39 1521.07 2278.45 1519.33 Q2276.53 1517.6 2273.42 1517.6 Q2271.22 1517.6 2268.77 1518.36 Q2266.34 1519.13 2263.56 1520.68 L2263.56 1515.95 Q2266.39 1514.82 2268.84 1514.24 Q2271.29 1513.66 2273.33 1513.66 Q2278.7 1513.66 2281.9 1516.35 Q2285.09 1519.03 2285.09 1523.52 Q2285.09 1525.65 2284.28 1527.57 Q2283.49 1529.47 2281.39 1532.07 Q2280.81 1532.74 2277.71 1535.95 Q2274.6 1539.15 2268.96 1544.91 Z\" fill=\"#000000\" fill-rule=\"evenodd\" fill-opacity=\"1\" /><path clip-path=\"url(#clip670)\" d=\"M2305.09 1517.37 Q2301.48 1517.37 2299.65 1520.93 Q2297.85 1524.47 2297.85 1531.6 Q2297.85 1538.71 2299.65 1542.27 Q2301.48 1545.82 2305.09 1545.82 Q2308.72 1545.82 2310.53 1542.27 Q2312.36 1538.71 2312.36 1531.6 Q2312.36 1524.47 2310.53 1520.93 Q2308.72 1517.37 2305.09 1517.37 M2305.09 1513.66 Q2310.9 1513.66 2313.96 1518.27 Q2317.03 1522.85 2317.03 1531.6 Q2317.03 1540.33 2313.96 1544.94 Q2310.9 1549.52 2305.09 1549.52 Q2299.28 1549.52 2296.2 1544.94 Q2293.15 1540.33 2293.15 1531.6 Q2293.15 1522.85 2296.2 1518.27 Q2299.28 1513.66 2305.09 1513.66 Z\" fill=\"#000000\" fill-rule=\"evenodd\" fill-opacity=\"1\" /><polyline clip-path=\"url(#clip672)\" style=\"stroke:#000000; stroke-linecap:butt; stroke-linejoin:round; stroke-width:2; stroke-opacity:0.1; fill:none\" points=\"\n",
       "  141.853,1442.12 2352.76,1442.12 \n",
       "  \"/>\n",
       "<polyline clip-path=\"url(#clip672)\" style=\"stroke:#000000; stroke-linecap:butt; stroke-linejoin:round; stroke-width:2; stroke-opacity:0.1; fill:none\" points=\"\n",
       "  141.853,1219.55 2352.76,1219.55 \n",
       "  \"/>\n",
       "<polyline clip-path=\"url(#clip672)\" style=\"stroke:#000000; stroke-linecap:butt; stroke-linejoin:round; stroke-width:2; stroke-opacity:0.1; fill:none\" points=\"\n",
       "  141.853,996.975 2352.76,996.975 \n",
       "  \"/>\n",
       "<polyline clip-path=\"url(#clip672)\" style=\"stroke:#000000; stroke-linecap:butt; stroke-linejoin:round; stroke-width:2; stroke-opacity:0.1; fill:none\" points=\"\n",
       "  141.853,774.404 2352.76,774.404 \n",
       "  \"/>\n",
       "<polyline clip-path=\"url(#clip672)\" style=\"stroke:#000000; stroke-linecap:butt; stroke-linejoin:round; stroke-width:2; stroke-opacity:0.1; fill:none\" points=\"\n",
       "  141.853,551.833 2352.76,551.833 \n",
       "  \"/>\n",
       "<polyline clip-path=\"url(#clip672)\" style=\"stroke:#000000; stroke-linecap:butt; stroke-linejoin:round; stroke-width:2; stroke-opacity:0.1; fill:none\" points=\"\n",
       "  141.853,329.261 2352.76,329.261 \n",
       "  \"/>\n",
       "<polyline clip-path=\"url(#clip672)\" style=\"stroke:#000000; stroke-linecap:butt; stroke-linejoin:round; stroke-width:2; stroke-opacity:0.1; fill:none\" points=\"\n",
       "  141.853,106.69 2352.76,106.69 \n",
       "  \"/>\n",
       "<polyline clip-path=\"url(#clip670)\" style=\"stroke:#000000; stroke-linecap:butt; stroke-linejoin:round; stroke-width:4; stroke-opacity:1; fill:none\" points=\"\n",
       "  141.853,1486.45 141.853,47.2441 \n",
       "  \"/>\n",
       "<polyline clip-path=\"url(#clip670)\" style=\"stroke:#000000; stroke-linecap:butt; stroke-linejoin:round; stroke-width:4; stroke-opacity:1; fill:none\" points=\"\n",
       "  141.853,1442.12 160.751,1442.12 \n",
       "  \"/>\n",
       "<polyline clip-path=\"url(#clip670)\" style=\"stroke:#000000; stroke-linecap:butt; stroke-linejoin:round; stroke-width:4; stroke-opacity:1; fill:none\" points=\"\n",
       "  141.853,1219.55 160.751,1219.55 \n",
       "  \"/>\n",
       "<polyline clip-path=\"url(#clip670)\" style=\"stroke:#000000; stroke-linecap:butt; stroke-linejoin:round; stroke-width:4; stroke-opacity:1; fill:none\" points=\"\n",
       "  141.853,996.975 160.751,996.975 \n",
       "  \"/>\n",
       "<polyline clip-path=\"url(#clip670)\" style=\"stroke:#000000; stroke-linecap:butt; stroke-linejoin:round; stroke-width:4; stroke-opacity:1; fill:none\" points=\"\n",
       "  141.853,774.404 160.751,774.404 \n",
       "  \"/>\n",
       "<polyline clip-path=\"url(#clip670)\" style=\"stroke:#000000; stroke-linecap:butt; stroke-linejoin:round; stroke-width:4; stroke-opacity:1; fill:none\" points=\"\n",
       "  141.853,551.833 160.751,551.833 \n",
       "  \"/>\n",
       "<polyline clip-path=\"url(#clip670)\" style=\"stroke:#000000; stroke-linecap:butt; stroke-linejoin:round; stroke-width:4; stroke-opacity:1; fill:none\" points=\"\n",
       "  141.853,329.261 160.751,329.261 \n",
       "  \"/>\n",
       "<polyline clip-path=\"url(#clip670)\" style=\"stroke:#000000; stroke-linecap:butt; stroke-linejoin:round; stroke-width:4; stroke-opacity:1; fill:none\" points=\"\n",
       "  141.853,106.69 160.751,106.69 \n",
       "  \"/>\n",
       "<path clip-path=\"url(#clip670)\" d=\"M54.5569 1455.46 L62.1958 1455.46 L62.1958 1429.1 L53.8856 1430.76 L53.8856 1426.5 L62.1495 1424.84 L66.8254 1424.84 L66.8254 1455.46 L74.4642 1455.46 L74.4642 1459.4 L54.5569 1459.4 L54.5569 1455.46 Z\" fill=\"#000000\" fill-rule=\"evenodd\" fill-opacity=\"1\" /><path clip-path=\"url(#clip670)\" d=\"M93.9086 1427.92 Q90.2975 1427.92 88.4688 1431.48 Q86.6632 1435.02 86.6632 1442.15 Q86.6632 1449.26 88.4688 1452.82 Q90.2975 1456.37 93.9086 1456.37 Q97.5428 1456.37 99.3483 1452.82 Q101.177 1449.26 101.177 1442.15 Q101.177 1435.02 99.3483 1431.48 Q97.5428 1427.92 93.9086 1427.92 M93.9086 1424.21 Q99.7187 1424.21 102.774 1428.82 Q105.853 1433.4 105.853 1442.15 Q105.853 1450.88 102.774 1455.49 Q99.7187 1460.07 93.9086 1460.07 Q88.0984 1460.07 85.0197 1455.49 Q81.9642 1450.88 81.9642 1442.15 Q81.9642 1433.4 85.0197 1428.82 Q88.0984 1424.21 93.9086 1424.21 Z\" fill=\"#000000\" fill-rule=\"evenodd\" fill-opacity=\"1\" /><path clip-path=\"url(#clip670)\" d=\"M57.7745 1232.89 L74.0939 1232.89 L74.0939 1236.83 L52.1495 1236.83 L52.1495 1232.89 Q54.8115 1230.14 59.3949 1225.51 Q64.0013 1220.85 65.1819 1219.51 Q67.4272 1216.99 68.3068 1215.25 Q69.2096 1213.49 69.2096 1211.8 Q69.2096 1209.05 67.2652 1207.31 Q65.3439 1205.58 62.2421 1205.58 Q60.043 1205.58 57.5893 1206.34 Q55.1588 1207.1 52.381 1208.66 L52.381 1203.93 Q55.2051 1202.8 57.6588 1202.22 Q60.1124 1201.64 62.1495 1201.64 Q67.5198 1201.64 70.7142 1204.33 Q73.9087 1207.01 73.9087 1211.5 Q73.9087 1213.63 73.0985 1215.55 Q72.3115 1217.45 70.205 1220.04 Q69.6263 1220.72 66.5245 1223.93 Q63.4226 1227.13 57.7745 1232.89 Z\" fill=\"#000000\" fill-rule=\"evenodd\" fill-opacity=\"1\" /><path clip-path=\"url(#clip670)\" d=\"M93.9086 1205.35 Q90.2975 1205.35 88.4688 1208.91 Q86.6632 1212.45 86.6632 1219.58 Q86.6632 1226.69 88.4688 1230.25 Q90.2975 1233.79 93.9086 1233.79 Q97.5428 1233.79 99.3483 1230.25 Q101.177 1226.69 101.177 1219.58 Q101.177 1212.45 99.3483 1208.91 Q97.5428 1205.35 93.9086 1205.35 M93.9086 1201.64 Q99.7187 1201.64 102.774 1206.25 Q105.853 1210.83 105.853 1219.58 Q105.853 1228.31 102.774 1232.91 Q99.7187 1237.5 93.9086 1237.5 Q88.0984 1237.5 85.0197 1232.91 Q81.9642 1228.31 81.9642 1219.58 Q81.9642 1210.83 85.0197 1206.25 Q88.0984 1201.64 93.9086 1201.64 Z\" fill=\"#000000\" fill-rule=\"evenodd\" fill-opacity=\"1\" /><path clip-path=\"url(#clip670)\" d=\"M67.9133 995.621 Q71.2698 996.339 73.1448 998.607 Q75.0429 1000.88 75.0429 1004.21 Q75.0429 1009.32 71.5244 1012.13 Q68.0059 1014.93 61.5245 1014.93 Q59.3486 1014.93 57.0338 1014.49 Q54.7421 1014.07 52.2884 1013.21 L52.2884 1008.7 Q54.2328 1009.83 56.5477 1010.41 Q58.8625 1010.99 61.3856 1010.99 Q65.7837 1010.99 68.0754 1009.26 Q70.3902 1007.52 70.3902 1004.21 Q70.3902 1001.15 68.2374 999.441 Q66.1078 997.704 62.2884 997.704 L58.2606 997.704 L58.2606 993.862 L62.4735 993.862 Q65.9226 993.862 67.7513 992.496 Q69.58 991.107 69.58 988.515 Q69.58 985.853 67.6819 984.441 Q65.8069 983.005 62.2884 983.005 Q60.3671 983.005 58.168 983.422 Q55.969 983.839 53.3301 984.718 L53.3301 980.552 Q55.9921 979.811 58.3069 979.441 Q60.6449 979.07 62.705 979.07 Q68.0291 979.07 71.1309 981.501 Q74.2327 983.908 74.2327 988.029 Q74.2327 990.899 72.5892 992.89 Q70.9457 994.857 67.9133 995.621 Z\" fill=\"#000000\" fill-rule=\"evenodd\" fill-opacity=\"1\" /><path clip-path=\"url(#clip670)\" d=\"M93.9086 982.774 Q90.2975 982.774 88.4688 986.339 Q86.6632 989.88 86.6632 997.01 Q86.6632 1004.12 88.4688 1007.68 Q90.2975 1011.22 93.9086 1011.22 Q97.5428 1011.22 99.3483 1007.68 Q101.177 1004.12 101.177 997.01 Q101.177 989.88 99.3483 986.339 Q97.5428 982.774 93.9086 982.774 M93.9086 979.07 Q99.7187 979.07 102.774 983.677 Q105.853 988.26 105.853 997.01 Q105.853 1005.74 102.774 1010.34 Q99.7187 1014.93 93.9086 1014.93 Q88.0984 1014.93 85.0197 1010.34 Q81.9642 1005.74 81.9642 997.01 Q81.9642 988.26 85.0197 983.677 Q88.0984 979.07 93.9086 979.07 Z\" fill=\"#000000\" fill-rule=\"evenodd\" fill-opacity=\"1\" /><path clip-path=\"url(#clip670)\" d=\"M66.5939 761.198 L54.7884 779.647 L66.5939 779.647 L66.5939 761.198 M65.367 757.124 L71.2466 757.124 L71.2466 779.647 L76.1772 779.647 L76.1772 783.536 L71.2466 783.536 L71.2466 791.684 L66.5939 791.684 L66.5939 783.536 L50.9921 783.536 L50.9921 779.022 L65.367 757.124 Z\" fill=\"#000000\" fill-rule=\"evenodd\" fill-opacity=\"1\" /><path clip-path=\"url(#clip670)\" d=\"M93.9086 760.203 Q90.2975 760.203 88.4688 763.767 Q86.6632 767.309 86.6632 774.439 Q86.6632 781.545 88.4688 785.11 Q90.2975 788.652 93.9086 788.652 Q97.5428 788.652 99.3483 785.11 Q101.177 781.545 101.177 774.439 Q101.177 767.309 99.3483 763.767 Q97.5428 760.203 93.9086 760.203 M93.9086 756.499 Q99.7187 756.499 102.774 761.105 Q105.853 765.689 105.853 774.439 Q105.853 783.165 102.774 787.772 Q99.7187 792.355 93.9086 792.355 Q88.0984 792.355 85.0197 787.772 Q81.9642 783.165 81.9642 774.439 Q81.9642 765.689 85.0197 761.105 Q88.0984 756.499 93.9086 756.499 Z\" fill=\"#000000\" fill-rule=\"evenodd\" fill-opacity=\"1\" /><path clip-path=\"url(#clip670)\" d=\"M53.793 534.553 L72.1494 534.553 L72.1494 538.488 L58.0754 538.488 L58.0754 546.96 Q59.0939 546.613 60.1124 546.451 Q61.131 546.266 62.1495 546.266 Q67.9365 546.266 71.3161 549.437 Q74.6957 552.608 74.6957 558.025 Q74.6957 563.603 71.2235 566.705 Q67.7513 569.784 61.4319 569.784 Q59.256 569.784 56.9875 569.414 Q54.7421 569.043 52.3347 568.302 L52.3347 563.603 Q54.418 564.738 56.6402 565.293 Q58.8625 565.849 61.3393 565.849 Q65.3439 565.849 67.6819 563.742 Q70.0198 561.636 70.0198 558.025 Q70.0198 554.414 67.6819 552.307 Q65.3439 550.201 61.3393 550.201 Q59.4643 550.201 57.5893 550.617 Q55.7375 551.034 53.793 551.914 L53.793 534.553 Z\" fill=\"#000000\" fill-rule=\"evenodd\" fill-opacity=\"1\" /><path clip-path=\"url(#clip670)\" d=\"M93.9086 537.631 Q90.2975 537.631 88.4688 541.196 Q86.6632 544.738 86.6632 551.867 Q86.6632 558.974 88.4688 562.539 Q90.2975 566.08 93.9086 566.08 Q97.5428 566.08 99.3483 562.539 Q101.177 558.974 101.177 551.867 Q101.177 544.738 99.3483 541.196 Q97.5428 537.631 93.9086 537.631 M93.9086 533.928 Q99.7187 533.928 102.774 538.534 Q105.853 543.117 105.853 551.867 Q105.853 560.594 102.774 565.201 Q99.7187 569.784 93.9086 569.784 Q88.0984 569.784 85.0197 565.201 Q81.9642 560.594 81.9642 551.867 Q81.9642 543.117 85.0197 538.534 Q88.0984 533.928 93.9086 533.928 Z\" fill=\"#000000\" fill-rule=\"evenodd\" fill-opacity=\"1\" /><path clip-path=\"url(#clip670)\" d=\"M64.3254 327.398 Q61.1773 327.398 59.3254 329.551 Q57.4967 331.703 57.4967 335.453 Q57.4967 339.18 59.3254 341.356 Q61.1773 343.509 64.3254 343.509 Q67.4735 343.509 69.3022 341.356 Q71.1541 339.18 71.1541 335.453 Q71.1541 331.703 69.3022 329.551 Q67.4735 327.398 64.3254 327.398 M73.6077 312.745 L73.6077 317.004 Q71.8485 316.171 70.0429 315.731 Q68.2606 315.291 66.5013 315.291 Q61.8717 315.291 59.418 318.416 Q56.9875 321.541 56.6402 327.861 Q58.006 325.847 60.0662 324.782 Q62.1263 323.694 64.6032 323.694 Q69.8115 323.694 72.8207 326.866 Q75.8531 330.014 75.8531 335.453 Q75.8531 340.777 72.705 343.995 Q69.5568 347.213 64.3254 347.213 Q58.33 347.213 55.1588 342.629 Q51.9875 338.023 51.9875 329.296 Q51.9875 321.102 55.8764 316.241 Q59.7652 311.356 66.3161 311.356 Q68.0754 311.356 69.8578 311.704 Q71.6633 312.051 73.6077 312.745 Z\" fill=\"#000000\" fill-rule=\"evenodd\" fill-opacity=\"1\" /><path clip-path=\"url(#clip670)\" d=\"M93.9086 315.06 Q90.2975 315.06 88.4688 318.625 Q86.6632 322.166 86.6632 329.296 Q86.6632 336.402 88.4688 339.967 Q90.2975 343.509 93.9086 343.509 Q97.5428 343.509 99.3483 339.967 Q101.177 336.402 101.177 329.296 Q101.177 322.166 99.3483 318.625 Q97.5428 315.06 93.9086 315.06 M93.9086 311.356 Q99.7187 311.356 102.774 315.963 Q105.853 320.546 105.853 329.296 Q105.853 338.023 102.774 342.629 Q99.7187 347.213 93.9086 347.213 Q88.0984 347.213 85.0197 342.629 Q81.9642 338.023 81.9642 329.296 Q81.9642 320.546 85.0197 315.963 Q88.0984 311.356 93.9086 311.356 Z\" fill=\"#000000\" fill-rule=\"evenodd\" fill-opacity=\"1\" /><path clip-path=\"url(#clip670)\" d=\"M52.5662 89.41 L74.7883 89.41 L74.7883 91.4007 L62.2421 123.97 L57.3578 123.97 L69.1633 93.3452 L52.5662 93.3452 L52.5662 89.41 Z\" fill=\"#000000\" fill-rule=\"evenodd\" fill-opacity=\"1\" /><path clip-path=\"url(#clip670)\" d=\"M93.9086 92.4887 Q90.2975 92.4887 88.4688 96.0535 Q86.6632 99.5951 86.6632 106.725 Q86.6632 113.831 88.4688 117.396 Q90.2975 120.938 93.9086 120.938 Q97.5428 120.938 99.3483 117.396 Q101.177 113.831 101.177 106.725 Q101.177 99.5951 99.3483 96.0535 Q97.5428 92.4887 93.9086 92.4887 M93.9086 88.785 Q99.7187 88.785 102.774 93.3915 Q105.853 97.9748 105.853 106.725 Q105.853 115.452 102.774 120.058 Q99.7187 124.641 93.9086 124.641 Q88.0984 124.641 85.0197 120.058 Q81.9642 115.452 81.9642 106.725 Q81.9642 97.9748 85.0197 93.3915 Q88.0984 88.785 93.9086 88.785 Z\" fill=\"#000000\" fill-rule=\"evenodd\" fill-opacity=\"1\" /><circle clip-path=\"url(#clip672)\" cx=\"800.356\" cy=\"774.404\" r=\"10\" fill=\"#ff0000\" fill-rule=\"evenodd\" fill-opacity=\"1\" stroke=\"#000000\" stroke-opacity=\"1\" stroke-width=\"3.2\"/>\n",
       "<circle clip-path=\"url(#clip672)\" cx=\"1247.3\" cy=\"996.975\" r=\"10\" fill=\"#ff0000\" fill-rule=\"evenodd\" fill-opacity=\"1\" stroke=\"#000000\" stroke-opacity=\"1\" stroke-width=\"3.2\"/>\n",
       "<circle clip-path=\"url(#clip672)\" cx=\"1396.29\" cy=\"1219.55\" r=\"10\" fill=\"#ff0000\" fill-rule=\"evenodd\" fill-opacity=\"1\" stroke=\"#000000\" stroke-opacity=\"1\" stroke-width=\"3.2\"/>\n",
       "<circle clip-path=\"url(#clip672)\" cx=\"2290.18\" cy=\"1442.12\" r=\"10\" fill=\"#ff0000\" fill-rule=\"evenodd\" fill-opacity=\"1\" stroke=\"#000000\" stroke-opacity=\"1\" stroke-width=\"3.2\"/>\n",
       "<polyline clip-path=\"url(#clip672)\" style=\"stroke:#e26f46; stroke-linecap:butt; stroke-linejoin:round; stroke-width:4; stroke-opacity:1; fill:none\" points=\"\n",
       "  204.426,87.9763 224.795,118.083 413.137,370.61 526.323,502.076 622.02,602.753 725.973,702.262 821.81,785.72 924.556,867.173 1043.6,952.154 1149.39,1020.04 \n",
       "  1242.16,1074.23 1343.3,1128.14 1445.04,1177.4 1557.54,1226.61 1664.57,1268.82 1775.86,1308.4 1869.54,1338.63 1983.91,1372.08 2091.43,1400.39 2263.68,1440.15 \n",
       "  2290.18,1445.72 \n",
       "  \"/>\n",
       "</svg>\n"
      ]
     },
     "execution_count": 57,
     "metadata": {},
     "output_type": "execute_result"
    }
   ],
   "source": [
    "# Exemplo 3\n",
    "pontos_x = [15;16.5;17;20]\n",
    "pontos_y = [40;30;20;10]\n",
    "\n",
    "c_barra=regressão_função_exponencial(pontos_x, pontos_y)\n",
    "c1=exp(c_barra[1])\n",
    "c2=c_barra[2]\n",
    "#Retornando o modelo exponencial\n",
    "exponencial(x)=c1*exp(c2*x)\n",
    "\n",
    "#Plotando os pontos x e y passados\n",
    "scatter(pontos_x, pontos_y, c=:red, ms=3, leg=false)\n",
    "#Plotando a função exponencial no intervalo de 13 até 20\n",
    "plot!(exponencial,13,20)"
   ]
  },
  {
   "cell_type": "code",
   "execution_count": 73,
   "id": "14abc026",
   "metadata": {},
   "outputs": [
    {
     "data": {
      "text/plain": [
       "regressão_função_potencia (generic function with 1 method)"
      ]
     },
     "execution_count": 73,
     "metadata": {},
     "output_type": "execute_result"
    }
   ],
   "source": [
    "# Função faz a regressão de coeficientes no modelo potencia dados dos conjuntos x e y\n",
    "# O dicionario é semelhante ao modelo exponencial\n",
    "# lny) = ln(c1) + c2ln(x)\n",
    "# y_barra = ln(y)\n",
    "# x_barra = ln(x)\n",
    "# c1_barra = ln(c1)\n",
    "# c2_barra = c2\n",
    "function regressão_função_potencia(x, y)\n",
    "    #Criamos dois vetores preechidos com zeros para guardar os valores de y_barra e y_barra\n",
    "    y_barra = zeros(length(y))\n",
    "    x_barra = zeros(length(x))\n",
    "    for j in 1:length(y)\n",
    "        y_barra[j] = log(y[j]) # Aplicamos log nos valores de y\n",
    "        x_barra[j] = log(x[j]) # Aplicamos log nos valores de x\n",
    "    end\n",
    "    # Realizando a regressão para encontrar os coeficientes c1_barra e c2_barra do polinômio\n",
    "    V=vandermonde(x_barra,y_barra,1)\n",
    "    c_barra=sistema_denso(V'*V,V'*y_barra) #mínimos quadrados\n",
    "    return c_barra #Coeficientes\n",
    "end"
   ]
  },
  {
   "cell_type": "code",
   "execution_count": 104,
   "id": "83567836",
   "metadata": {},
   "outputs": [
    {
     "data": {
      "image/svg+xml": [
       "<?xml version=\"1.0\" encoding=\"utf-8\"?>\n",
       "<svg xmlns=\"http://www.w3.org/2000/svg\" xmlns:xlink=\"http://www.w3.org/1999/xlink\" width=\"600\" height=\"400\" viewBox=\"0 0 2400 1600\">\n",
       "<defs>\n",
       "  <clipPath id=\"clip830\">\n",
       "    <rect x=\"0\" y=\"0\" width=\"2400\" height=\"1600\"/>\n",
       "  </clipPath>\n",
       "</defs>\n",
       "<path clip-path=\"url(#clip830)\" d=\"\n",
       "M0 1600 L2400 1600 L2400 0 L0 0  Z\n",
       "  \" fill=\"#ffffff\" fill-rule=\"evenodd\" fill-opacity=\"1\"/>\n",
       "<defs>\n",
       "  <clipPath id=\"clip831\">\n",
       "    <rect x=\"480\" y=\"0\" width=\"1681\" height=\"1600\"/>\n",
       "  </clipPath>\n",
       "</defs>\n",
       "<path clip-path=\"url(#clip830)\" d=\"\n",
       "M199.283 1486.45 L2352.76 1486.45 L2352.76 47.2441 L199.283 47.2441  Z\n",
       "  \" fill=\"#ffffff\" fill-rule=\"evenodd\" fill-opacity=\"1\"/>\n",
       "<defs>\n",
       "  <clipPath id=\"clip832\">\n",
       "    <rect x=\"199\" y=\"47\" width=\"2154\" height=\"1440\"/>\n",
       "  </clipPath>\n",
       "</defs>\n",
       "<polyline clip-path=\"url(#clip832)\" style=\"stroke:#000000; stroke-linecap:butt; stroke-linejoin:round; stroke-width:2; stroke-opacity:0.1; fill:none\" points=\"\n",
       "  550.456,1486.45 550.456,47.2441 \n",
       "  \"/>\n",
       "<polyline clip-path=\"url(#clip832)\" style=\"stroke:#000000; stroke-linecap:butt; stroke-linejoin:round; stroke-width:2; stroke-opacity:0.1; fill:none\" points=\"\n",
       "  1130.91,1486.45 1130.91,47.2441 \n",
       "  \"/>\n",
       "<polyline clip-path=\"url(#clip832)\" style=\"stroke:#000000; stroke-linecap:butt; stroke-linejoin:round; stroke-width:2; stroke-opacity:0.1; fill:none\" points=\"\n",
       "  1711.36,1486.45 1711.36,47.2441 \n",
       "  \"/>\n",
       "<polyline clip-path=\"url(#clip832)\" style=\"stroke:#000000; stroke-linecap:butt; stroke-linejoin:round; stroke-width:2; stroke-opacity:0.1; fill:none\" points=\"\n",
       "  2291.81,1486.45 2291.81,47.2441 \n",
       "  \"/>\n",
       "<polyline clip-path=\"url(#clip830)\" style=\"stroke:#000000; stroke-linecap:butt; stroke-linejoin:round; stroke-width:4; stroke-opacity:1; fill:none\" points=\"\n",
       "  199.283,1486.45 2352.76,1486.45 \n",
       "  \"/>\n",
       "<polyline clip-path=\"url(#clip830)\" style=\"stroke:#000000; stroke-linecap:butt; stroke-linejoin:round; stroke-width:4; stroke-opacity:1; fill:none\" points=\"\n",
       "  550.456,1486.45 550.456,1467.55 \n",
       "  \"/>\n",
       "<polyline clip-path=\"url(#clip830)\" style=\"stroke:#000000; stroke-linecap:butt; stroke-linejoin:round; stroke-width:4; stroke-opacity:1; fill:none\" points=\"\n",
       "  1130.91,1486.45 1130.91,1467.55 \n",
       "  \"/>\n",
       "<polyline clip-path=\"url(#clip830)\" style=\"stroke:#000000; stroke-linecap:butt; stroke-linejoin:round; stroke-width:4; stroke-opacity:1; fill:none\" points=\"\n",
       "  1711.36,1486.45 1711.36,1467.55 \n",
       "  \"/>\n",
       "<polyline clip-path=\"url(#clip830)\" style=\"stroke:#000000; stroke-linecap:butt; stroke-linejoin:round; stroke-width:4; stroke-opacity:1; fill:none\" points=\"\n",
       "  2291.81,1486.45 2291.81,1467.55 \n",
       "  \"/>\n",
       "<path clip-path=\"url(#clip830)\" d=\"M529.229 1544.91 L545.549 1544.91 L545.549 1548.85 L523.604 1548.85 L523.604 1544.91 Q526.266 1542.16 530.85 1537.53 Q535.456 1532.88 536.637 1531.53 Q538.882 1529.01 539.762 1527.27 Q540.664 1525.51 540.664 1523.82 Q540.664 1521.07 538.72 1519.33 Q536.799 1517.6 533.697 1517.6 Q531.498 1517.6 529.044 1518.36 Q526.614 1519.13 523.836 1520.68 L523.836 1515.95 Q526.66 1514.82 529.113 1514.24 Q531.567 1513.66 533.604 1513.66 Q538.975 1513.66 542.169 1516.35 Q545.363 1519.03 545.363 1523.52 Q545.363 1525.65 544.553 1527.57 Q543.766 1529.47 541.66 1532.07 Q541.081 1532.74 537.979 1535.95 Q534.877 1539.15 529.229 1544.91 Z\" fill=\"#000000\" fill-rule=\"evenodd\" fill-opacity=\"1\" /><path clip-path=\"url(#clip830)\" d=\"M565.363 1517.37 Q561.752 1517.37 559.924 1520.93 Q558.118 1524.47 558.118 1531.6 Q558.118 1538.71 559.924 1542.27 Q561.752 1545.82 565.363 1545.82 Q568.998 1545.82 570.803 1542.27 Q572.632 1538.71 572.632 1531.6 Q572.632 1524.47 570.803 1520.93 Q568.998 1517.37 565.363 1517.37 M565.363 1513.66 Q571.173 1513.66 574.229 1518.27 Q577.308 1522.85 577.308 1531.6 Q577.308 1540.33 574.229 1544.94 Q571.173 1549.52 565.363 1549.52 Q559.553 1549.52 556.474 1544.94 Q553.419 1540.33 553.419 1531.6 Q553.419 1522.85 556.474 1518.27 Q559.553 1513.66 565.363 1513.66 Z\" fill=\"#000000\" fill-rule=\"evenodd\" fill-opacity=\"1\" /><path clip-path=\"url(#clip830)\" d=\"M1119.08 1518.36 L1107.27 1536.81 L1119.08 1536.81 L1119.08 1518.36 M1117.85 1514.29 L1123.73 1514.29 L1123.73 1536.81 L1128.66 1536.81 L1128.66 1540.7 L1123.73 1540.7 L1123.73 1548.85 L1119.08 1548.85 L1119.08 1540.7 L1103.48 1540.7 L1103.48 1536.19 L1117.85 1514.29 Z\" fill=\"#000000\" fill-rule=\"evenodd\" fill-opacity=\"1\" /><path clip-path=\"url(#clip830)\" d=\"M1146.39 1517.37 Q1142.78 1517.37 1140.95 1520.93 Q1139.15 1524.47 1139.15 1531.6 Q1139.15 1538.71 1140.95 1542.27 Q1142.78 1545.82 1146.39 1545.82 Q1150.03 1545.82 1151.83 1542.27 Q1153.66 1538.71 1153.66 1531.6 Q1153.66 1524.47 1151.83 1520.93 Q1150.03 1517.37 1146.39 1517.37 M1146.39 1513.66 Q1152.2 1513.66 1155.26 1518.27 Q1158.34 1522.85 1158.34 1531.6 Q1158.34 1540.33 1155.26 1544.94 Q1152.2 1549.52 1146.39 1549.52 Q1140.58 1549.52 1137.5 1544.94 Q1134.45 1540.33 1134.45 1531.6 Q1134.45 1522.85 1137.5 1518.27 Q1140.58 1513.66 1146.39 1513.66 Z\" fill=\"#000000\" fill-rule=\"evenodd\" fill-opacity=\"1\" /><path clip-path=\"url(#clip830)\" d=\"M1696.76 1529.7 Q1693.61 1529.7 1691.76 1531.86 Q1689.93 1534.01 1689.93 1537.76 Q1689.93 1541.49 1691.76 1543.66 Q1693.61 1545.82 1696.76 1545.82 Q1699.91 1545.82 1701.74 1543.66 Q1703.59 1541.49 1703.59 1537.76 Q1703.59 1534.01 1701.74 1531.86 Q1699.91 1529.7 1696.76 1529.7 M1706.05 1515.05 L1706.05 1519.31 Q1704.29 1518.48 1702.48 1518.04 Q1700.7 1517.6 1698.94 1517.6 Q1694.31 1517.6 1691.86 1520.72 Q1689.42 1523.85 1689.08 1530.17 Q1690.44 1528.15 1692.5 1527.09 Q1694.56 1526 1697.04 1526 Q1702.25 1526 1705.26 1529.17 Q1708.29 1532.32 1708.29 1537.76 Q1708.29 1543.08 1705.14 1546.3 Q1701.99 1549.52 1696.76 1549.52 Q1690.77 1549.52 1687.6 1544.94 Q1684.42 1540.33 1684.42 1531.6 Q1684.42 1523.41 1688.31 1518.55 Q1692.2 1513.66 1698.75 1513.66 Q1700.51 1513.66 1702.3 1514.01 Q1704.1 1514.36 1706.05 1515.05 Z\" fill=\"#000000\" fill-rule=\"evenodd\" fill-opacity=\"1\" /><path clip-path=\"url(#clip830)\" d=\"M1726.35 1517.37 Q1722.73 1517.37 1720.91 1520.93 Q1719.1 1524.47 1719.1 1531.6 Q1719.1 1538.71 1720.91 1542.27 Q1722.73 1545.82 1726.35 1545.82 Q1729.98 1545.82 1731.79 1542.27 Q1733.61 1538.71 1733.61 1531.6 Q1733.61 1524.47 1731.79 1520.93 Q1729.98 1517.37 1726.35 1517.37 M1726.35 1513.66 Q1732.16 1513.66 1735.21 1518.27 Q1738.29 1522.85 1738.29 1531.6 Q1738.29 1540.33 1735.21 1544.94 Q1732.16 1549.52 1726.35 1549.52 Q1720.54 1549.52 1717.46 1544.94 Q1714.4 1540.33 1714.4 1531.6 Q1714.4 1522.85 1717.46 1518.27 Q1720.54 1513.66 1726.35 1513.66 Z\" fill=\"#000000\" fill-rule=\"evenodd\" fill-opacity=\"1\" /><path clip-path=\"url(#clip830)\" d=\"M2276.68 1532.44 Q2273.35 1532.44 2271.43 1534.22 Q2269.53 1536 2269.53 1539.13 Q2269.53 1542.25 2271.43 1544.03 Q2273.35 1545.82 2276.68 1545.82 Q2280.01 1545.82 2281.94 1544.03 Q2283.86 1542.23 2283.86 1539.13 Q2283.86 1536 2281.94 1534.22 Q2280.04 1532.44 2276.68 1532.44 M2272.01 1530.45 Q2269 1529.7 2267.31 1527.64 Q2265.64 1525.58 2265.64 1522.62 Q2265.64 1518.48 2268.58 1516.07 Q2271.54 1513.66 2276.68 1513.66 Q2281.84 1513.66 2284.78 1516.07 Q2287.72 1518.48 2287.72 1522.62 Q2287.72 1525.58 2286.03 1527.64 Q2284.37 1529.7 2281.38 1530.45 Q2284.76 1531.23 2286.63 1533.52 Q2288.53 1535.82 2288.53 1539.13 Q2288.53 1544.15 2285.45 1546.83 Q2282.4 1549.52 2276.68 1549.52 Q2270.96 1549.52 2267.89 1546.83 Q2264.83 1544.15 2264.83 1539.13 Q2264.83 1535.82 2266.73 1533.52 Q2268.63 1531.23 2272.01 1530.45 M2270.29 1523.06 Q2270.29 1525.75 2271.96 1527.25 Q2273.65 1528.76 2276.68 1528.76 Q2279.69 1528.76 2281.38 1527.25 Q2283.09 1525.75 2283.09 1523.06 Q2283.09 1520.38 2281.38 1518.87 Q2279.69 1517.37 2276.68 1517.37 Q2273.65 1517.37 2271.96 1518.87 Q2270.29 1520.38 2270.29 1523.06 Z\" fill=\"#000000\" fill-rule=\"evenodd\" fill-opacity=\"1\" /><path clip-path=\"url(#clip830)\" d=\"M2306.84 1517.37 Q2303.23 1517.37 2301.4 1520.93 Q2299.6 1524.47 2299.6 1531.6 Q2299.6 1538.71 2301.4 1542.27 Q2303.23 1545.82 2306.84 1545.82 Q2310.48 1545.82 2312.28 1542.27 Q2314.11 1538.71 2314.11 1531.6 Q2314.11 1524.47 2312.28 1520.93 Q2310.48 1517.37 2306.84 1517.37 M2306.84 1513.66 Q2312.65 1513.66 2315.71 1518.27 Q2318.79 1522.85 2318.79 1531.6 Q2318.79 1540.33 2315.71 1544.94 Q2312.65 1549.52 2306.84 1549.52 Q2301.03 1549.52 2297.95 1544.94 Q2294.9 1540.33 2294.9 1531.6 Q2294.9 1522.85 2297.95 1518.27 Q2301.03 1513.66 2306.84 1513.66 Z\" fill=\"#000000\" fill-rule=\"evenodd\" fill-opacity=\"1\" /><polyline clip-path=\"url(#clip832)\" style=\"stroke:#000000; stroke-linecap:butt; stroke-linejoin:round; stroke-width:2; stroke-opacity:0.1; fill:none\" points=\"\n",
       "  199.283,1466.77 2352.76,1466.77 \n",
       "  \"/>\n",
       "<polyline clip-path=\"url(#clip832)\" style=\"stroke:#000000; stroke-linecap:butt; stroke-linejoin:round; stroke-width:2; stroke-opacity:0.1; fill:none\" points=\"\n",
       "  199.283,1045.62 2352.76,1045.62 \n",
       "  \"/>\n",
       "<polyline clip-path=\"url(#clip832)\" style=\"stroke:#000000; stroke-linecap:butt; stroke-linejoin:round; stroke-width:2; stroke-opacity:0.1; fill:none\" points=\"\n",
       "  199.283,624.474 2352.76,624.474 \n",
       "  \"/>\n",
       "<polyline clip-path=\"url(#clip832)\" style=\"stroke:#000000; stroke-linecap:butt; stroke-linejoin:round; stroke-width:2; stroke-opacity:0.1; fill:none\" points=\"\n",
       "  199.283,203.325 2352.76,203.325 \n",
       "  \"/>\n",
       "<polyline clip-path=\"url(#clip830)\" style=\"stroke:#000000; stroke-linecap:butt; stroke-linejoin:round; stroke-width:4; stroke-opacity:1; fill:none\" points=\"\n",
       "  199.283,1486.45 199.283,47.2441 \n",
       "  \"/>\n",
       "<polyline clip-path=\"url(#clip830)\" style=\"stroke:#000000; stroke-linecap:butt; stroke-linejoin:round; stroke-width:4; stroke-opacity:1; fill:none\" points=\"\n",
       "  199.283,1466.77 218.181,1466.77 \n",
       "  \"/>\n",
       "<polyline clip-path=\"url(#clip830)\" style=\"stroke:#000000; stroke-linecap:butt; stroke-linejoin:round; stroke-width:4; stroke-opacity:1; fill:none\" points=\"\n",
       "  199.283,1045.62 218.181,1045.62 \n",
       "  \"/>\n",
       "<polyline clip-path=\"url(#clip830)\" style=\"stroke:#000000; stroke-linecap:butt; stroke-linejoin:round; stroke-width:4; stroke-opacity:1; fill:none\" points=\"\n",
       "  199.283,624.474 218.181,624.474 \n",
       "  \"/>\n",
       "<polyline clip-path=\"url(#clip830)\" style=\"stroke:#000000; stroke-linecap:butt; stroke-linejoin:round; stroke-width:4; stroke-opacity:1; fill:none\" points=\"\n",
       "  199.283,203.325 218.181,203.325 \n",
       "  \"/>\n",
       "<path clip-path=\"url(#clip830)\" d=\"M151.339 1452.57 Q147.728 1452.57 145.899 1456.14 Q144.093 1459.68 144.093 1466.81 Q144.093 1473.91 145.899 1477.48 Q147.728 1481.02 151.339 1481.02 Q154.973 1481.02 156.779 1477.48 Q158.607 1473.91 158.607 1466.81 Q158.607 1459.68 156.779 1456.14 Q154.973 1452.57 151.339 1452.57 M151.339 1448.87 Q157.149 1448.87 160.205 1453.47 Q163.283 1458.06 163.283 1466.81 Q163.283 1475.53 160.205 1480.14 Q157.149 1484.72 151.339 1484.72 Q145.529 1484.72 142.45 1480.14 Q139.394 1475.53 139.394 1466.81 Q139.394 1458.06 142.45 1453.47 Q145.529 1448.87 151.339 1448.87 Z\" fill=\"#000000\" fill-rule=\"evenodd\" fill-opacity=\"1\" /><path clip-path=\"url(#clip830)\" d=\"M81.0614 1028.34 L99.4178 1028.34 L99.4178 1032.28 L85.3438 1032.28 L85.3438 1040.75 Q86.3623 1040.4 87.3808 1040.24 Q88.3993 1040.06 89.4178 1040.06 Q95.2049 1040.06 98.5845 1043.23 Q101.964 1046.4 101.964 1051.82 Q101.964 1057.39 98.4919 1060.5 Q95.0197 1063.58 88.7003 1063.58 Q86.5243 1063.58 84.2558 1063.2 Q82.0105 1062.83 79.6031 1062.09 L79.6031 1057.39 Q81.6864 1058.53 83.9086 1059.08 Q86.1308 1059.64 88.6077 1059.64 Q92.6123 1059.64 94.9502 1057.53 Q97.2882 1055.43 97.2882 1051.82 Q97.2882 1048.2 94.9502 1046.1 Q92.6123 1043.99 88.6077 1043.99 Q86.7327 1043.99 84.8577 1044.41 Q83.0058 1044.83 81.0614 1045.7 L81.0614 1028.34 Z\" fill=\"#000000\" fill-rule=\"evenodd\" fill-opacity=\"1\" /><path clip-path=\"url(#clip830)\" d=\"M121.177 1031.42 Q117.566 1031.42 115.737 1034.99 Q113.932 1038.53 113.932 1045.66 Q113.932 1052.76 115.737 1056.33 Q117.566 1059.87 121.177 1059.87 Q124.811 1059.87 126.617 1056.33 Q128.445 1052.76 128.445 1045.66 Q128.445 1038.53 126.617 1034.99 Q124.811 1031.42 121.177 1031.42 M121.177 1027.72 Q126.987 1027.72 130.043 1032.33 Q133.121 1036.91 133.121 1045.66 Q133.121 1054.39 130.043 1058.99 Q126.987 1063.58 121.177 1063.58 Q115.367 1063.58 112.288 1058.99 Q109.233 1054.39 109.233 1045.66 Q109.233 1036.91 112.288 1032.33 Q115.367 1027.72 121.177 1027.72 Z\" fill=\"#000000\" fill-rule=\"evenodd\" fill-opacity=\"1\" /><path clip-path=\"url(#clip830)\" d=\"M151.339 1031.42 Q147.728 1031.42 145.899 1034.99 Q144.093 1038.53 144.093 1045.66 Q144.093 1052.76 145.899 1056.33 Q147.728 1059.87 151.339 1059.87 Q154.973 1059.87 156.779 1056.33 Q158.607 1052.76 158.607 1045.66 Q158.607 1038.53 156.779 1034.99 Q154.973 1031.42 151.339 1031.42 M151.339 1027.72 Q157.149 1027.72 160.205 1032.33 Q163.283 1036.91 163.283 1045.66 Q163.283 1054.39 160.205 1058.99 Q157.149 1063.58 151.339 1063.58 Q145.529 1063.58 142.45 1058.99 Q139.394 1054.39 139.394 1045.66 Q139.394 1036.91 142.45 1032.33 Q145.529 1027.72 151.339 1027.72 Z\" fill=\"#000000\" fill-rule=\"evenodd\" fill-opacity=\"1\" /><path clip-path=\"url(#clip830)\" d=\"M51.6634 637.819 L59.3023 637.819 L59.3023 611.454 L50.9921 613.12 L50.9921 608.861 L59.256 607.194 L63.9319 607.194 L63.9319 637.819 L71.5707 637.819 L71.5707 641.754 L51.6634 641.754 L51.6634 637.819 Z\" fill=\"#000000\" fill-rule=\"evenodd\" fill-opacity=\"1\" /><path clip-path=\"url(#clip830)\" d=\"M91.0151 610.273 Q87.404 610.273 85.5753 613.838 Q83.7697 617.38 83.7697 624.509 Q83.7697 631.616 85.5753 635.18 Q87.404 638.722 91.0151 638.722 Q94.6493 638.722 96.4548 635.18 Q98.2835 631.616 98.2835 624.509 Q98.2835 617.38 96.4548 613.838 Q94.6493 610.273 91.0151 610.273 M91.0151 606.569 Q96.8252 606.569 99.8808 611.176 Q102.959 615.759 102.959 624.509 Q102.959 633.236 99.8808 637.842 Q96.8252 642.426 91.0151 642.426 Q85.2049 642.426 82.1262 637.842 Q79.0707 633.236 79.0707 624.509 Q79.0707 615.759 82.1262 611.176 Q85.2049 606.569 91.0151 606.569 Z\" fill=\"#000000\" fill-rule=\"evenodd\" fill-opacity=\"1\" /><path clip-path=\"url(#clip830)\" d=\"M121.177 610.273 Q117.566 610.273 115.737 613.838 Q113.932 617.38 113.932 624.509 Q113.932 631.616 115.737 635.18 Q117.566 638.722 121.177 638.722 Q124.811 638.722 126.617 635.18 Q128.445 631.616 128.445 624.509 Q128.445 617.38 126.617 613.838 Q124.811 610.273 121.177 610.273 M121.177 606.569 Q126.987 606.569 130.043 611.176 Q133.121 615.759 133.121 624.509 Q133.121 633.236 130.043 637.842 Q126.987 642.426 121.177 642.426 Q115.367 642.426 112.288 637.842 Q109.233 633.236 109.233 624.509 Q109.233 615.759 112.288 611.176 Q115.367 606.569 121.177 606.569 Z\" fill=\"#000000\" fill-rule=\"evenodd\" fill-opacity=\"1\" /><path clip-path=\"url(#clip830)\" d=\"M151.339 610.273 Q147.728 610.273 145.899 613.838 Q144.093 617.38 144.093 624.509 Q144.093 631.616 145.899 635.18 Q147.728 638.722 151.339 638.722 Q154.973 638.722 156.779 635.18 Q158.607 631.616 158.607 624.509 Q158.607 617.38 156.779 613.838 Q154.973 610.273 151.339 610.273 M151.339 606.569 Q157.149 606.569 160.205 611.176 Q163.283 615.759 163.283 624.509 Q163.283 633.236 160.205 637.842 Q157.149 642.426 151.339 642.426 Q145.529 642.426 142.45 637.842 Q139.394 633.236 139.394 624.509 Q139.394 615.759 142.45 611.176 Q145.529 606.569 151.339 606.569 Z\" fill=\"#000000\" fill-rule=\"evenodd\" fill-opacity=\"1\" /><path clip-path=\"url(#clip830)\" d=\"M51.6634 216.67 L59.3023 216.67 L59.3023 190.304 L50.9921 191.971 L50.9921 187.712 L59.256 186.045 L63.9319 186.045 L63.9319 216.67 L71.5707 216.67 L71.5707 220.605 L51.6634 220.605 L51.6634 216.67 Z\" fill=\"#000000\" fill-rule=\"evenodd\" fill-opacity=\"1\" /><path clip-path=\"url(#clip830)\" d=\"M81.0614 186.045 L99.4178 186.045 L99.4178 189.98 L85.3438 189.98 L85.3438 198.452 Q86.3623 198.105 87.3808 197.943 Q88.3993 197.758 89.4178 197.758 Q95.2049 197.758 98.5845 200.929 Q101.964 204.101 101.964 209.517 Q101.964 215.096 98.4919 218.198 Q95.0197 221.276 88.7003 221.276 Q86.5243 221.276 84.2558 220.906 Q82.0105 220.536 79.6031 219.795 L79.6031 215.096 Q81.6864 216.23 83.9086 216.786 Q86.1308 217.341 88.6077 217.341 Q92.6123 217.341 94.9502 215.235 Q97.2882 213.128 97.2882 209.517 Q97.2882 205.906 94.9502 203.8 Q92.6123 201.693 88.6077 201.693 Q86.7327 201.693 84.8577 202.11 Q83.0058 202.527 81.0614 203.406 L81.0614 186.045 Z\" fill=\"#000000\" fill-rule=\"evenodd\" fill-opacity=\"1\" /><path clip-path=\"url(#clip830)\" d=\"M121.177 189.124 Q117.566 189.124 115.737 192.689 Q113.932 196.23 113.932 203.36 Q113.932 210.466 115.737 214.031 Q117.566 217.573 121.177 217.573 Q124.811 217.573 126.617 214.031 Q128.445 210.466 128.445 203.36 Q128.445 196.23 126.617 192.689 Q124.811 189.124 121.177 189.124 M121.177 185.42 Q126.987 185.42 130.043 190.027 Q133.121 194.61 133.121 203.36 Q133.121 212.087 130.043 216.693 Q126.987 221.276 121.177 221.276 Q115.367 221.276 112.288 216.693 Q109.233 212.087 109.233 203.36 Q109.233 194.61 112.288 190.027 Q115.367 185.42 121.177 185.42 Z\" fill=\"#000000\" fill-rule=\"evenodd\" fill-opacity=\"1\" /><path clip-path=\"url(#clip830)\" d=\"M151.339 189.124 Q147.728 189.124 145.899 192.689 Q144.093 196.23 144.093 203.36 Q144.093 210.466 145.899 214.031 Q147.728 217.573 151.339 217.573 Q154.973 217.573 156.779 214.031 Q158.607 210.466 158.607 203.36 Q158.607 196.23 156.779 192.689 Q154.973 189.124 151.339 189.124 M151.339 185.42 Q157.149 185.42 160.205 190.027 Q163.283 194.61 163.283 203.36 Q163.283 212.087 160.205 216.693 Q157.149 221.276 151.339 221.276 Q145.529 221.276 142.45 216.693 Q139.394 212.087 139.394 203.36 Q139.394 194.61 142.45 190.027 Q145.529 185.42 151.339 185.42 Z\" fill=\"#000000\" fill-rule=\"evenodd\" fill-opacity=\"1\" /><circle clip-path=\"url(#clip832)\" cx=\"260.231\" cy=\"1445.72\" r=\"10\" fill=\"#ff0000\" fill-rule=\"evenodd\" fill-opacity=\"1\" stroke=\"#000000\" stroke-opacity=\"1\" stroke-width=\"3.2\"/>\n",
       "<circle clip-path=\"url(#clip832)\" cx=\"550.456\" cy=\"1407.81\" r=\"10\" fill=\"#ff0000\" fill-rule=\"evenodd\" fill-opacity=\"1\" stroke=\"#000000\" stroke-opacity=\"1\" stroke-width=\"3.2\"/>\n",
       "<circle clip-path=\"url(#clip832)\" cx=\"840.681\" cy=\"1146.7\" r=\"10\" fill=\"#ff0000\" fill-rule=\"evenodd\" fill-opacity=\"1\" stroke=\"#000000\" stroke-opacity=\"1\" stroke-width=\"3.2\"/>\n",
       "<circle clip-path=\"url(#clip832)\" cx=\"1130.91\" cy=\"1003.51\" r=\"10\" fill=\"#ff0000\" fill-rule=\"evenodd\" fill-opacity=\"1\" stroke=\"#000000\" stroke-opacity=\"1\" stroke-width=\"3.2\"/>\n",
       "<circle clip-path=\"url(#clip832)\" cx=\"1421.13\" cy=\"952.971\" r=\"10\" fill=\"#ff0000\" fill-rule=\"evenodd\" fill-opacity=\"1\" stroke=\"#000000\" stroke-opacity=\"1\" stroke-width=\"3.2\"/>\n",
       "<circle clip-path=\"url(#clip832)\" cx=\"1711.36\" cy=\"439.169\" r=\"10\" fill=\"#ff0000\" fill-rule=\"evenodd\" fill-opacity=\"1\" stroke=\"#000000\" stroke-opacity=\"1\" stroke-width=\"3.2\"/>\n",
       "<circle clip-path=\"url(#clip832)\" cx=\"2001.58\" cy=\"767.665\" r=\"10\" fill=\"#ff0000\" fill-rule=\"evenodd\" fill-opacity=\"1\" stroke=\"#000000\" stroke-opacity=\"1\" stroke-width=\"3.2\"/>\n",
       "<circle clip-path=\"url(#clip832)\" cx=\"2291.81\" cy=\"245.44\" r=\"10\" fill=\"#ff0000\" fill-rule=\"evenodd\" fill-opacity=\"1\" stroke=\"#000000\" stroke-opacity=\"1\" stroke-width=\"3.2\"/>\n",
       "<polyline clip-path=\"url(#clip832)\" style=\"stroke:#e26f46; stroke-linecap:butt; stroke-linejoin:round; stroke-width:4; stroke-opacity:1; fill:none\" points=\"\n",
       "  260.231,1444.51 280.071,1441.39 463.52,1402.93 573.766,1371.53 666.977,1340.14 768.231,1301.03 861.577,1260.36 961.655,1211.85 1077.6,1149.3 1180.65,1088.02 \n",
       "  1271.01,1029.87 1369.52,961.781 1468.62,888.358 1578.19,801.43 1682.44,713.12 1790.84,615.514 1882.09,528.784 1993.49,417.241 2098.22,306.723 2265.99,118.233 \n",
       "  2291.81,87.9763 \n",
       "  \"/>\n",
       "</svg>\n"
      ]
     },
     "execution_count": 104,
     "metadata": {},
     "output_type": "execute_result"
    }
   ],
   "source": [
    "# Exemplo 1\n",
    "pontos_x =  [10,20,30,40,50,60,70,80]\n",
    "pontos_y = [25,70,380,550,610,1220,830,1450]\n",
    "\n",
    "\n",
    "c_barra=regressão_função_potencia(pontos_x, pontos_y)\n",
    "c1=exp(c_barra[1])\n",
    "c2=c_barra[2]\n",
    "#Retornando o modelo potencia\n",
    "potencia(x)=c1*(x^(c2))\n",
    "\n",
    "#Plotando os pontos x e y passados\n",
    "scatter(pontos_x, pontos_y, c=:red, ms=3, leg=false)\n",
    "#Plotando a função potencia \n",
    "plot!(potencia,10,80)"
   ]
  },
  {
   "cell_type": "code",
   "execution_count": 106,
   "id": "8daaaf92",
   "metadata": {},
   "outputs": [
    {
     "data": {
      "image/svg+xml": [
       "<?xml version=\"1.0\" encoding=\"utf-8\"?>\n",
       "<svg xmlns=\"http://www.w3.org/2000/svg\" xmlns:xlink=\"http://www.w3.org/1999/xlink\" width=\"600\" height=\"400\" viewBox=\"0 0 2400 1600\">\n",
       "<defs>\n",
       "  <clipPath id=\"clip910\">\n",
       "    <rect x=\"0\" y=\"0\" width=\"2400\" height=\"1600\"/>\n",
       "  </clipPath>\n",
       "</defs>\n",
       "<path clip-path=\"url(#clip910)\" d=\"\n",
       "M0 1600 L2400 1600 L2400 0 L0 0  Z\n",
       "  \" fill=\"#ffffff\" fill-rule=\"evenodd\" fill-opacity=\"1\"/>\n",
       "<defs>\n",
       "  <clipPath id=\"clip911\">\n",
       "    <rect x=\"480\" y=\"0\" width=\"1681\" height=\"1600\"/>\n",
       "  </clipPath>\n",
       "</defs>\n",
       "<path clip-path=\"url(#clip910)\" d=\"\n",
       "M170.857 1486.45 L2352.76 1486.45 L2352.76 47.2441 L170.857 47.2441  Z\n",
       "  \" fill=\"#ffffff\" fill-rule=\"evenodd\" fill-opacity=\"1\"/>\n",
       "<defs>\n",
       "  <clipPath id=\"clip912\">\n",
       "    <rect x=\"170\" y=\"47\" width=\"2183\" height=\"1440\"/>\n",
       "  </clipPath>\n",
       "</defs>\n",
       "<polyline clip-path=\"url(#clip912)\" style=\"stroke:#000000; stroke-linecap:butt; stroke-linejoin:round; stroke-width:2; stroke-opacity:0.1; fill:none\" points=\"\n",
       "  232.609,1486.45 232.609,47.2441 \n",
       "  \"/>\n",
       "<polyline clip-path=\"url(#clip912)\" style=\"stroke:#000000; stroke-linecap:butt; stroke-linejoin:round; stroke-width:2; stroke-opacity:0.1; fill:none\" points=\"\n",
       "  747.208,1486.45 747.208,47.2441 \n",
       "  \"/>\n",
       "<polyline clip-path=\"url(#clip912)\" style=\"stroke:#000000; stroke-linecap:butt; stroke-linejoin:round; stroke-width:2; stroke-opacity:0.1; fill:none\" points=\"\n",
       "  1261.81,1486.45 1261.81,47.2441 \n",
       "  \"/>\n",
       "<polyline clip-path=\"url(#clip912)\" style=\"stroke:#000000; stroke-linecap:butt; stroke-linejoin:round; stroke-width:2; stroke-opacity:0.1; fill:none\" points=\"\n",
       "  1776.41,1486.45 1776.41,47.2441 \n",
       "  \"/>\n",
       "<polyline clip-path=\"url(#clip912)\" style=\"stroke:#000000; stroke-linecap:butt; stroke-linejoin:round; stroke-width:2; stroke-opacity:0.1; fill:none\" points=\"\n",
       "  2291,1486.45 2291,47.2441 \n",
       "  \"/>\n",
       "<polyline clip-path=\"url(#clip910)\" style=\"stroke:#000000; stroke-linecap:butt; stroke-linejoin:round; stroke-width:4; stroke-opacity:1; fill:none\" points=\"\n",
       "  170.857,1486.45 2352.76,1486.45 \n",
       "  \"/>\n",
       "<polyline clip-path=\"url(#clip910)\" style=\"stroke:#000000; stroke-linecap:butt; stroke-linejoin:round; stroke-width:4; stroke-opacity:1; fill:none\" points=\"\n",
       "  232.609,1486.45 232.609,1467.55 \n",
       "  \"/>\n",
       "<polyline clip-path=\"url(#clip910)\" style=\"stroke:#000000; stroke-linecap:butt; stroke-linejoin:round; stroke-width:4; stroke-opacity:1; fill:none\" points=\"\n",
       "  747.208,1486.45 747.208,1467.55 \n",
       "  \"/>\n",
       "<polyline clip-path=\"url(#clip910)\" style=\"stroke:#000000; stroke-linecap:butt; stroke-linejoin:round; stroke-width:4; stroke-opacity:1; fill:none\" points=\"\n",
       "  1261.81,1486.45 1261.81,1467.55 \n",
       "  \"/>\n",
       "<polyline clip-path=\"url(#clip910)\" style=\"stroke:#000000; stroke-linecap:butt; stroke-linejoin:round; stroke-width:4; stroke-opacity:1; fill:none\" points=\"\n",
       "  1776.41,1486.45 1776.41,1467.55 \n",
       "  \"/>\n",
       "<polyline clip-path=\"url(#clip910)\" style=\"stroke:#000000; stroke-linecap:butt; stroke-linejoin:round; stroke-width:4; stroke-opacity:1; fill:none\" points=\"\n",
       "  2291,1486.45 2291,1467.55 \n",
       "  \"/>\n",
       "<path clip-path=\"url(#clip910)\" d=\"M209.994 1517.37 Q206.383 1517.37 204.554 1520.93 Q202.748 1524.47 202.748 1531.6 Q202.748 1538.71 204.554 1542.27 Q206.383 1545.82 209.994 1545.82 Q213.628 1545.82 215.433 1542.27 Q217.262 1538.71 217.262 1531.6 Q217.262 1524.47 215.433 1520.93 Q213.628 1517.37 209.994 1517.37 M209.994 1513.66 Q215.804 1513.66 218.859 1518.27 Q221.938 1522.85 221.938 1531.6 Q221.938 1540.33 218.859 1544.94 Q215.804 1549.52 209.994 1549.52 Q204.183 1549.52 201.105 1544.94 Q198.049 1540.33 198.049 1531.6 Q198.049 1522.85 201.105 1518.27 Q204.183 1513.66 209.994 1513.66 Z\" fill=\"#000000\" fill-rule=\"evenodd\" fill-opacity=\"1\" /><path clip-path=\"url(#clip910)\" d=\"M230.156 1542.97 L235.04 1542.97 L235.04 1548.85 L230.156 1548.85 L230.156 1542.97 Z\" fill=\"#000000\" fill-rule=\"evenodd\" fill-opacity=\"1\" /><path clip-path=\"url(#clip910)\" d=\"M255.225 1517.37 Q251.614 1517.37 249.785 1520.93 Q247.98 1524.47 247.98 1531.6 Q247.98 1538.71 249.785 1542.27 Q251.614 1545.82 255.225 1545.82 Q258.859 1545.82 260.665 1542.27 Q262.493 1538.71 262.493 1531.6 Q262.493 1524.47 260.665 1520.93 Q258.859 1517.37 255.225 1517.37 M255.225 1513.66 Q261.035 1513.66 264.091 1518.27 Q267.169 1522.85 267.169 1531.6 Q267.169 1540.33 264.091 1544.94 Q261.035 1549.52 255.225 1549.52 Q249.415 1549.52 246.336 1544.94 Q243.281 1540.33 243.281 1531.6 Q243.281 1522.85 246.336 1518.27 Q249.415 1513.66 255.225 1513.66 Z\" fill=\"#000000\" fill-rule=\"evenodd\" fill-opacity=\"1\" /><path clip-path=\"url(#clip910)\" d=\"M725.09 1517.37 Q721.479 1517.37 719.65 1520.93 Q717.845 1524.47 717.845 1531.6 Q717.845 1538.71 719.65 1542.27 Q721.479 1545.82 725.09 1545.82 Q728.724 1545.82 730.53 1542.27 Q732.359 1538.71 732.359 1531.6 Q732.359 1524.47 730.53 1520.93 Q728.724 1517.37 725.09 1517.37 M725.09 1513.66 Q730.9 1513.66 733.956 1518.27 Q737.034 1522.85 737.034 1531.6 Q737.034 1540.33 733.956 1544.94 Q730.9 1549.52 725.09 1549.52 Q719.28 1549.52 716.201 1544.94 Q713.146 1540.33 713.146 1531.6 Q713.146 1522.85 716.201 1518.27 Q719.28 1513.66 725.09 1513.66 Z\" fill=\"#000000\" fill-rule=\"evenodd\" fill-opacity=\"1\" /><path clip-path=\"url(#clip910)\" d=\"M745.252 1542.97 L750.136 1542.97 L750.136 1548.85 L745.252 1548.85 L745.252 1542.97 Z\" fill=\"#000000\" fill-rule=\"evenodd\" fill-opacity=\"1\" /><path clip-path=\"url(#clip910)\" d=\"M760.368 1514.29 L778.724 1514.29 L778.724 1518.22 L764.65 1518.22 L764.65 1526.7 Q765.669 1526.35 766.687 1526.19 Q767.706 1526 768.724 1526 Q774.511 1526 777.891 1529.17 Q781.27 1532.34 781.27 1537.76 Q781.27 1543.34 777.798 1546.44 Q774.326 1549.52 768.006 1549.52 Q765.831 1549.52 763.562 1549.15 Q761.317 1548.78 758.909 1548.04 L758.909 1543.34 Q760.993 1544.47 763.215 1545.03 Q765.437 1545.58 767.914 1545.58 Q771.918 1545.58 774.256 1543.48 Q776.594 1541.37 776.594 1537.76 Q776.594 1534.15 774.256 1532.04 Q771.918 1529.94 767.914 1529.94 Q766.039 1529.94 764.164 1530.35 Q762.312 1530.77 760.368 1531.65 L760.368 1514.29 Z\" fill=\"#000000\" fill-rule=\"evenodd\" fill-opacity=\"1\" /><path clip-path=\"url(#clip910)\" d=\"M1228.96 1544.91 L1236.6 1544.91 L1236.6 1518.55 L1228.29 1520.21 L1228.29 1515.95 L1236.55 1514.29 L1241.23 1514.29 L1241.23 1544.91 L1248.87 1544.91 L1248.87 1548.85 L1228.96 1548.85 L1228.96 1544.91 Z\" fill=\"#000000\" fill-rule=\"evenodd\" fill-opacity=\"1\" /><path clip-path=\"url(#clip910)\" d=\"M1258.31 1542.97 L1263.2 1542.97 L1263.2 1548.85 L1258.31 1548.85 L1258.31 1542.97 Z\" fill=\"#000000\" fill-rule=\"evenodd\" fill-opacity=\"1\" /><path clip-path=\"url(#clip910)\" d=\"M1283.38 1517.37 Q1279.77 1517.37 1277.94 1520.93 Q1276.14 1524.47 1276.14 1531.6 Q1276.14 1538.71 1277.94 1542.27 Q1279.77 1545.82 1283.38 1545.82 Q1287.01 1545.82 1288.82 1542.27 Q1290.65 1538.71 1290.65 1531.6 Q1290.65 1524.47 1288.82 1520.93 Q1287.01 1517.37 1283.38 1517.37 M1283.38 1513.66 Q1289.19 1513.66 1292.25 1518.27 Q1295.33 1522.85 1295.33 1531.6 Q1295.33 1540.33 1292.25 1544.94 Q1289.19 1549.52 1283.38 1549.52 Q1277.57 1549.52 1274.49 1544.94 Q1271.44 1540.33 1271.44 1531.6 Q1271.44 1522.85 1274.49 1518.27 Q1277.57 1513.66 1283.38 1513.66 Z\" fill=\"#000000\" fill-rule=\"evenodd\" fill-opacity=\"1\" /><path clip-path=\"url(#clip910)\" d=\"M1744.06 1544.91 L1751.69 1544.91 L1751.69 1518.55 L1743.38 1520.21 L1743.38 1515.95 L1751.65 1514.29 L1756.32 1514.29 L1756.32 1544.91 L1763.96 1544.91 L1763.96 1548.85 L1744.06 1548.85 L1744.06 1544.91 Z\" fill=\"#000000\" fill-rule=\"evenodd\" fill-opacity=\"1\" /><path clip-path=\"url(#clip910)\" d=\"M1773.41 1542.97 L1778.29 1542.97 L1778.29 1548.85 L1773.41 1548.85 L1773.41 1542.97 Z\" fill=\"#000000\" fill-rule=\"evenodd\" fill-opacity=\"1\" /><path clip-path=\"url(#clip910)\" d=\"M1788.52 1514.29 L1806.88 1514.29 L1806.88 1518.22 L1792.81 1518.22 L1792.81 1526.7 Q1793.82 1526.35 1794.84 1526.19 Q1795.86 1526 1796.88 1526 Q1802.67 1526 1806.05 1529.17 Q1809.43 1532.34 1809.43 1537.76 Q1809.43 1543.34 1805.95 1546.44 Q1802.48 1549.52 1796.16 1549.52 Q1793.99 1549.52 1791.72 1549.15 Q1789.47 1548.78 1787.07 1548.04 L1787.07 1543.34 Q1789.15 1544.47 1791.37 1545.03 Q1793.59 1545.58 1796.07 1545.58 Q1800.07 1545.58 1802.41 1543.48 Q1804.75 1541.37 1804.75 1537.76 Q1804.75 1534.15 1802.41 1532.04 Q1800.07 1529.94 1796.07 1529.94 Q1794.19 1529.94 1792.32 1530.35 Q1790.47 1530.77 1788.52 1531.65 L1788.52 1514.29 Z\" fill=\"#000000\" fill-rule=\"evenodd\" fill-opacity=\"1\" /><path clip-path=\"url(#clip910)\" d=\"M2262.24 1544.91 L2278.56 1544.91 L2278.56 1548.85 L2256.62 1548.85 L2256.62 1544.91 Q2259.28 1542.16 2263.86 1537.53 Q2268.47 1532.88 2269.65 1531.53 Q2271.9 1529.01 2272.77 1527.27 Q2273.68 1525.51 2273.68 1523.82 Q2273.68 1521.07 2271.73 1519.33 Q2269.81 1517.6 2266.71 1517.6 Q2264.51 1517.6 2262.06 1518.36 Q2259.63 1519.13 2256.85 1520.68 L2256.85 1515.95 Q2259.67 1514.82 2262.13 1514.24 Q2264.58 1513.66 2266.62 1513.66 Q2271.99 1513.66 2275.18 1516.35 Q2278.38 1519.03 2278.38 1523.52 Q2278.38 1525.65 2277.57 1527.57 Q2276.78 1529.47 2274.67 1532.07 Q2274.09 1532.74 2270.99 1535.95 Q2267.89 1539.15 2262.24 1544.91 Z\" fill=\"#000000\" fill-rule=\"evenodd\" fill-opacity=\"1\" /><path clip-path=\"url(#clip910)\" d=\"M2288.38 1542.97 L2293.26 1542.97 L2293.26 1548.85 L2288.38 1548.85 L2288.38 1542.97 Z\" fill=\"#000000\" fill-rule=\"evenodd\" fill-opacity=\"1\" /><path clip-path=\"url(#clip910)\" d=\"M2313.45 1517.37 Q2309.83 1517.37 2308.01 1520.93 Q2306.2 1524.47 2306.2 1531.6 Q2306.2 1538.71 2308.01 1542.27 Q2309.83 1545.82 2313.45 1545.82 Q2317.08 1545.82 2318.89 1542.27 Q2320.71 1538.71 2320.71 1531.6 Q2320.71 1524.47 2318.89 1520.93 Q2317.08 1517.37 2313.45 1517.37 M2313.45 1513.66 Q2319.26 1513.66 2322.31 1518.27 Q2325.39 1522.85 2325.39 1531.6 Q2325.39 1540.33 2322.31 1544.94 Q2319.26 1549.52 2313.45 1549.52 Q2307.64 1549.52 2304.56 1544.94 Q2301.5 1540.33 2301.5 1531.6 Q2301.5 1522.85 2304.56 1518.27 Q2307.64 1513.66 2313.45 1513.66 Z\" fill=\"#000000\" fill-rule=\"evenodd\" fill-opacity=\"1\" /><polyline clip-path=\"url(#clip912)\" style=\"stroke:#000000; stroke-linecap:butt; stroke-linejoin:round; stroke-width:2; stroke-opacity:0.1; fill:none\" points=\"\n",
       "  170.857,1445.72 2352.76,1445.72 \n",
       "  \"/>\n",
       "<polyline clip-path=\"url(#clip912)\" style=\"stroke:#000000; stroke-linecap:butt; stroke-linejoin:round; stroke-width:2; stroke-opacity:0.1; fill:none\" points=\"\n",
       "  170.857,1034.28 2352.76,1034.28 \n",
       "  \"/>\n",
       "<polyline clip-path=\"url(#clip912)\" style=\"stroke:#000000; stroke-linecap:butt; stroke-linejoin:round; stroke-width:2; stroke-opacity:0.1; fill:none\" points=\"\n",
       "  170.857,622.843 2352.76,622.843 \n",
       "  \"/>\n",
       "<polyline clip-path=\"url(#clip912)\" style=\"stroke:#000000; stroke-linecap:butt; stroke-linejoin:round; stroke-width:2; stroke-opacity:0.1; fill:none\" points=\"\n",
       "  170.857,211.407 2352.76,211.407 \n",
       "  \"/>\n",
       "<polyline clip-path=\"url(#clip910)\" style=\"stroke:#000000; stroke-linecap:butt; stroke-linejoin:round; stroke-width:4; stroke-opacity:1; fill:none\" points=\"\n",
       "  170.857,1486.45 170.857,47.2441 \n",
       "  \"/>\n",
       "<polyline clip-path=\"url(#clip910)\" style=\"stroke:#000000; stroke-linecap:butt; stroke-linejoin:round; stroke-width:4; stroke-opacity:1; fill:none\" points=\"\n",
       "  170.857,1445.72 189.755,1445.72 \n",
       "  \"/>\n",
       "<polyline clip-path=\"url(#clip910)\" style=\"stroke:#000000; stroke-linecap:butt; stroke-linejoin:round; stroke-width:4; stroke-opacity:1; fill:none\" points=\"\n",
       "  170.857,1034.28 189.755,1034.28 \n",
       "  \"/>\n",
       "<polyline clip-path=\"url(#clip910)\" style=\"stroke:#000000; stroke-linecap:butt; stroke-linejoin:round; stroke-width:4; stroke-opacity:1; fill:none\" points=\"\n",
       "  170.857,622.843 189.755,622.843 \n",
       "  \"/>\n",
       "<polyline clip-path=\"url(#clip910)\" style=\"stroke:#000000; stroke-linecap:butt; stroke-linejoin:round; stroke-width:4; stroke-opacity:1; fill:none\" points=\"\n",
       "  170.857,211.407 189.755,211.407 \n",
       "  \"/>\n",
       "<path clip-path=\"url(#clip910)\" d=\"M122.913 1431.51 Q119.302 1431.51 117.473 1435.08 Q115.668 1438.62 115.668 1445.75 Q115.668 1452.86 117.473 1456.42 Q119.302 1459.96 122.913 1459.96 Q126.547 1459.96 128.353 1456.42 Q130.182 1452.86 130.182 1445.75 Q130.182 1438.62 128.353 1435.08 Q126.547 1431.51 122.913 1431.51 M122.913 1427.81 Q128.723 1427.81 131.779 1432.42 Q134.857 1437 134.857 1445.75 Q134.857 1454.48 131.779 1459.08 Q128.723 1463.67 122.913 1463.67 Q117.103 1463.67 114.024 1459.08 Q110.969 1454.48 110.969 1445.75 Q110.969 1437 114.024 1432.42 Q117.103 1427.81 122.913 1427.81 Z\" fill=\"#000000\" fill-rule=\"evenodd\" fill-opacity=\"1\" /><path clip-path=\"url(#clip910)\" d=\"M53.3995 1047.62 L61.0384 1047.62 L61.0384 1021.26 L52.7282 1022.93 L52.7282 1018.67 L60.9921 1017 L65.668 1017 L65.668 1047.62 L73.3068 1047.62 L73.3068 1051.56 L53.3995 1051.56 L53.3995 1047.62 Z\" fill=\"#000000\" fill-rule=\"evenodd\" fill-opacity=\"1\" /><path clip-path=\"url(#clip910)\" d=\"M92.7512 1020.08 Q89.1401 1020.08 87.3114 1023.64 Q85.5058 1027.18 85.5058 1034.31 Q85.5058 1041.42 87.3114 1044.99 Q89.1401 1048.53 92.7512 1048.53 Q96.3854 1048.53 98.1909 1044.99 Q100.02 1041.42 100.02 1034.31 Q100.02 1027.18 98.1909 1023.64 Q96.3854 1020.08 92.7512 1020.08 M92.7512 1016.37 Q98.5613 1016.37 101.617 1020.98 Q104.696 1025.56 104.696 1034.31 Q104.696 1043.04 101.617 1047.65 Q98.5613 1052.23 92.7512 1052.23 Q86.941 1052.23 83.8623 1047.65 Q80.8068 1043.04 80.8068 1034.31 Q80.8068 1025.56 83.8623 1020.98 Q86.941 1016.37 92.7512 1016.37 Z\" fill=\"#000000\" fill-rule=\"evenodd\" fill-opacity=\"1\" /><path clip-path=\"url(#clip910)\" d=\"M122.913 1020.08 Q119.302 1020.08 117.473 1023.64 Q115.668 1027.18 115.668 1034.31 Q115.668 1041.42 117.473 1044.99 Q119.302 1048.53 122.913 1048.53 Q126.547 1048.53 128.353 1044.99 Q130.182 1041.42 130.182 1034.31 Q130.182 1027.18 128.353 1023.64 Q126.547 1020.08 122.913 1020.08 M122.913 1016.37 Q128.723 1016.37 131.779 1020.98 Q134.857 1025.56 134.857 1034.31 Q134.857 1043.04 131.779 1047.65 Q128.723 1052.23 122.913 1052.23 Q117.103 1052.23 114.024 1047.65 Q110.969 1043.04 110.969 1034.31 Q110.969 1025.56 114.024 1020.98 Q117.103 1016.37 122.913 1016.37 Z\" fill=\"#000000\" fill-rule=\"evenodd\" fill-opacity=\"1\" /><path clip-path=\"url(#clip910)\" d=\"M56.6171 636.188 L72.9365 636.188 L72.9365 640.123 L50.9921 640.123 L50.9921 636.188 Q53.6541 633.434 58.2375 628.804 Q62.8439 624.151 64.0245 622.809 Q66.2698 620.285 67.1494 618.549 Q68.0522 616.79 68.0522 615.1 Q68.0522 612.346 66.1078 610.61 Q64.1865 608.873 61.0847 608.873 Q58.8856 608.873 56.4319 609.637 Q54.0014 610.401 51.2236 611.952 L51.2236 607.23 Q54.0477 606.096 56.5014 605.517 Q58.955 604.938 60.9921 604.938 Q66.3624 604.938 69.5568 607.623 Q72.7513 610.309 72.7513 614.799 Q72.7513 616.929 71.9411 618.85 Q71.1541 620.748 69.0476 623.341 Q68.4689 624.012 65.367 627.23 Q62.2652 630.424 56.6171 636.188 Z\" fill=\"#000000\" fill-rule=\"evenodd\" fill-opacity=\"1\" /><path clip-path=\"url(#clip910)\" d=\"M92.7512 608.642 Q89.1401 608.642 87.3114 612.207 Q85.5058 615.748 85.5058 622.878 Q85.5058 629.984 87.3114 633.549 Q89.1401 637.091 92.7512 637.091 Q96.3854 637.091 98.1909 633.549 Q100.02 629.984 100.02 622.878 Q100.02 615.748 98.1909 612.207 Q96.3854 608.642 92.7512 608.642 M92.7512 604.938 Q98.5613 604.938 101.617 609.545 Q104.696 614.128 104.696 622.878 Q104.696 631.605 101.617 636.211 Q98.5613 640.795 92.7512 640.795 Q86.941 640.795 83.8623 636.211 Q80.8068 631.605 80.8068 622.878 Q80.8068 614.128 83.8623 609.545 Q86.941 604.938 92.7512 604.938 Z\" fill=\"#000000\" fill-rule=\"evenodd\" fill-opacity=\"1\" /><path clip-path=\"url(#clip910)\" d=\"M122.913 608.642 Q119.302 608.642 117.473 612.207 Q115.668 615.748 115.668 622.878 Q115.668 629.984 117.473 633.549 Q119.302 637.091 122.913 637.091 Q126.547 637.091 128.353 633.549 Q130.182 629.984 130.182 622.878 Q130.182 615.748 128.353 612.207 Q126.547 608.642 122.913 608.642 M122.913 604.938 Q128.723 604.938 131.779 609.545 Q134.857 614.128 134.857 622.878 Q134.857 631.605 131.779 636.211 Q128.723 640.795 122.913 640.795 Q117.103 640.795 114.024 636.211 Q110.969 631.605 110.969 622.878 Q110.969 614.128 114.024 609.545 Q117.103 604.938 122.913 604.938 Z\" fill=\"#000000\" fill-rule=\"evenodd\" fill-opacity=\"1\" /><path clip-path=\"url(#clip910)\" d=\"M66.7559 210.053 Q70.1124 210.771 71.9874 213.039 Q73.8855 215.308 73.8855 218.641 Q73.8855 223.757 70.367 226.558 Q66.8485 229.358 60.3671 229.358 Q58.1912 229.358 55.8764 228.919 Q53.5847 228.502 51.131 227.645 L51.131 223.132 Q53.0754 224.266 55.3903 224.845 Q57.7051 225.423 60.2282 225.423 Q64.6263 225.423 66.918 223.687 Q69.2328 221.951 69.2328 218.641 Q69.2328 215.585 67.08 213.872 Q64.9504 212.136 61.131 212.136 L57.1032 212.136 L57.1032 208.294 L61.3161 208.294 Q64.7652 208.294 66.5939 206.928 Q68.4226 205.539 68.4226 202.947 Q68.4226 200.285 66.5245 198.872 Q64.6495 197.437 61.131 197.437 Q59.2097 197.437 57.0106 197.854 Q54.8115 198.271 52.1727 199.15 L52.1727 194.984 Q54.8347 194.243 57.1495 193.873 Q59.4875 193.502 61.5476 193.502 Q66.8717 193.502 69.9735 195.933 Q73.0753 198.34 73.0753 202.46 Q73.0753 205.331 71.4318 207.322 Q69.7883 209.289 66.7559 210.053 Z\" fill=\"#000000\" fill-rule=\"evenodd\" fill-opacity=\"1\" /><path clip-path=\"url(#clip910)\" d=\"M92.7512 197.206 Q89.1401 197.206 87.3114 200.771 Q85.5058 204.312 85.5058 211.442 Q85.5058 218.548 87.3114 222.113 Q89.1401 225.655 92.7512 225.655 Q96.3854 225.655 98.1909 222.113 Q100.02 218.548 100.02 211.442 Q100.02 204.312 98.1909 200.771 Q96.3854 197.206 92.7512 197.206 M92.7512 193.502 Q98.5613 193.502 101.617 198.109 Q104.696 202.692 104.696 211.442 Q104.696 220.169 101.617 224.775 Q98.5613 229.358 92.7512 229.358 Q86.941 229.358 83.8623 224.775 Q80.8068 220.169 80.8068 211.442 Q80.8068 202.692 83.8623 198.109 Q86.941 193.502 92.7512 193.502 Z\" fill=\"#000000\" fill-rule=\"evenodd\" fill-opacity=\"1\" /><path clip-path=\"url(#clip910)\" d=\"M122.913 197.206 Q119.302 197.206 117.473 200.771 Q115.668 204.312 115.668 211.442 Q115.668 218.548 117.473 222.113 Q119.302 225.655 122.913 225.655 Q126.547 225.655 128.353 222.113 Q130.182 218.548 130.182 211.442 Q130.182 204.312 128.353 200.771 Q126.547 197.206 122.913 197.206 M122.913 193.502 Q128.723 193.502 131.779 198.109 Q134.857 202.692 134.857 211.442 Q134.857 220.169 131.779 224.775 Q128.723 229.358 122.913 229.358 Q117.103 229.358 114.024 224.775 Q110.969 220.169 110.969 211.442 Q110.969 202.692 114.024 198.109 Q117.103 193.502 122.913 193.502 Z\" fill=\"#000000\" fill-rule=\"evenodd\" fill-opacity=\"1\" /><circle clip-path=\"url(#clip912)\" cx=\"438.449\" cy=\"1363.43\" r=\"10\" fill=\"#ff0000\" fill-rule=\"evenodd\" fill-opacity=\"1\" stroke=\"#000000\" stroke-opacity=\"1\" stroke-width=\"3.2\"/>\n",
       "<circle clip-path=\"url(#clip912)\" cx=\"747.208\" cy=\"1240\" r=\"10\" fill=\"#ff0000\" fill-rule=\"evenodd\" fill-opacity=\"1\" stroke=\"#000000\" stroke-opacity=\"1\" stroke-width=\"3.2\"/>\n",
       "<circle clip-path=\"url(#clip912)\" cx=\"850.128\" cy=\"1116.57\" r=\"10\" fill=\"#ff0000\" fill-rule=\"evenodd\" fill-opacity=\"1\" stroke=\"#000000\" stroke-opacity=\"1\" stroke-width=\"3.2\"/>\n",
       "<circle clip-path=\"url(#clip912)\" cx=\"1776.41\" cy=\"622.843\" r=\"10\" fill=\"#ff0000\" fill-rule=\"evenodd\" fill-opacity=\"1\" stroke=\"#000000\" stroke-opacity=\"1\" stroke-width=\"3.2\"/>\n",
       "<circle clip-path=\"url(#clip912)\" cx=\"2188.08\" cy=\"87.9763\" r=\"10\" fill=\"#ff0000\" fill-rule=\"evenodd\" fill-opacity=\"1\" stroke=\"#000000\" stroke-opacity=\"1\" stroke-width=\"3.2\"/>\n",
       "<polyline clip-path=\"url(#clip912)\" style=\"stroke:#e26f46; stroke-linecap:butt; stroke-linejoin:round; stroke-width:4; stroke-opacity:1; fill:none\" points=\"\n",
       "  232.609,1445.72 252.711,1441.14 438.582,1367.44 550.283,1312.92 644.725,1263.3 747.315,1206.47 841.894,1151.8 943.293,1091.09 1060.77,1018.32 1165.18,951.712 \n",
       "  1256.73,891.926 1356.54,825.393 1456.95,757.138 1567.97,680.229 1673.6,605.733 1783.42,526.99 1875.88,459.743 1988.75,376.511 2094.86,297.188 2264.84,168.038 \n",
       "  2291,147.946 \n",
       "  \"/>\n",
       "</svg>\n"
      ]
     },
     "execution_count": 106,
     "metadata": {},
     "output_type": "execute_result"
    }
   ],
   "source": [
    "# Exemplo 2\n",
    "pontos_x =  [0.2, 0.5, 0.6, 1.5, 1.9]\n",
    "pontos_y = [20, 50, 80, 200, 330]\n",
    "\n",
    "\n",
    "c_barra=regressão_função_potencia(pontos_x, pontos_y)\n",
    "c1=exp(c_barra[1])\n",
    "c2=c_barra[2]\n",
    "#Retornando o modelo potencia\n",
    "potencia(x)=c1*(x^(c2))\n",
    "\n",
    "#Plotando os pontos x e y passados\n",
    "scatter(pontos_x, pontos_y, c=:red, ms=3, leg=false)\n",
    "#Plotando a função potencia \n",
    "plot!(potencia,0,2)"
   ]
  },
  {
   "cell_type": "code",
   "execution_count": 107,
   "id": "d04f09ea",
   "metadata": {},
   "outputs": [
    {
     "data": {
      "image/svg+xml": [
       "<?xml version=\"1.0\" encoding=\"utf-8\"?>\n",
       "<svg xmlns=\"http://www.w3.org/2000/svg\" xmlns:xlink=\"http://www.w3.org/1999/xlink\" width=\"600\" height=\"400\" viewBox=\"0 0 2400 1600\">\n",
       "<defs>\n",
       "  <clipPath id=\"clip950\">\n",
       "    <rect x=\"0\" y=\"0\" width=\"2400\" height=\"1600\"/>\n",
       "  </clipPath>\n",
       "</defs>\n",
       "<path clip-path=\"url(#clip950)\" d=\"\n",
       "M0 1600 L2400 1600 L2400 0 L0 0  Z\n",
       "  \" fill=\"#ffffff\" fill-rule=\"evenodd\" fill-opacity=\"1\"/>\n",
       "<defs>\n",
       "  <clipPath id=\"clip951\">\n",
       "    <rect x=\"480\" y=\"0\" width=\"1681\" height=\"1600\"/>\n",
       "  </clipPath>\n",
       "</defs>\n",
       "<path clip-path=\"url(#clip950)\" d=\"\n",
       "M172.015 1486.45 L2352.76 1486.45 L2352.76 47.2441 L172.015 47.2441  Z\n",
       "  \" fill=\"#ffffff\" fill-rule=\"evenodd\" fill-opacity=\"1\"/>\n",
       "<defs>\n",
       "  <clipPath id=\"clip952\">\n",
       "    <rect x=\"172\" y=\"47\" width=\"2182\" height=\"1440\"/>\n",
       "  </clipPath>\n",
       "</defs>\n",
       "<polyline clip-path=\"url(#clip952)\" style=\"stroke:#000000; stroke-linecap:butt; stroke-linejoin:round; stroke-width:2; stroke-opacity:0.1; fill:none\" points=\"\n",
       "  233.734,1486.45 233.734,47.2441 \n",
       "  \"/>\n",
       "<polyline clip-path=\"url(#clip952)\" style=\"stroke:#000000; stroke-linecap:butt; stroke-linejoin:round; stroke-width:2; stroke-opacity:0.1; fill:none\" points=\"\n",
       "  748.06,1486.45 748.06,47.2441 \n",
       "  \"/>\n",
       "<polyline clip-path=\"url(#clip952)\" style=\"stroke:#000000; stroke-linecap:butt; stroke-linejoin:round; stroke-width:2; stroke-opacity:0.1; fill:none\" points=\"\n",
       "  1262.39,1486.45 1262.39,47.2441 \n",
       "  \"/>\n",
       "<polyline clip-path=\"url(#clip952)\" style=\"stroke:#000000; stroke-linecap:butt; stroke-linejoin:round; stroke-width:2; stroke-opacity:0.1; fill:none\" points=\"\n",
       "  1776.71,1486.45 1776.71,47.2441 \n",
       "  \"/>\n",
       "<polyline clip-path=\"url(#clip952)\" style=\"stroke:#000000; stroke-linecap:butt; stroke-linejoin:round; stroke-width:2; stroke-opacity:0.1; fill:none\" points=\"\n",
       "  2291.04,1486.45 2291.04,47.2441 \n",
       "  \"/>\n",
       "<polyline clip-path=\"url(#clip950)\" style=\"stroke:#000000; stroke-linecap:butt; stroke-linejoin:round; stroke-width:4; stroke-opacity:1; fill:none\" points=\"\n",
       "  172.015,1486.45 2352.76,1486.45 \n",
       "  \"/>\n",
       "<polyline clip-path=\"url(#clip950)\" style=\"stroke:#000000; stroke-linecap:butt; stroke-linejoin:round; stroke-width:4; stroke-opacity:1; fill:none\" points=\"\n",
       "  233.734,1486.45 233.734,1467.55 \n",
       "  \"/>\n",
       "<polyline clip-path=\"url(#clip950)\" style=\"stroke:#000000; stroke-linecap:butt; stroke-linejoin:round; stroke-width:4; stroke-opacity:1; fill:none\" points=\"\n",
       "  748.06,1486.45 748.06,1467.55 \n",
       "  \"/>\n",
       "<polyline clip-path=\"url(#clip950)\" style=\"stroke:#000000; stroke-linecap:butt; stroke-linejoin:round; stroke-width:4; stroke-opacity:1; fill:none\" points=\"\n",
       "  1262.39,1486.45 1262.39,1467.55 \n",
       "  \"/>\n",
       "<polyline clip-path=\"url(#clip950)\" style=\"stroke:#000000; stroke-linecap:butt; stroke-linejoin:round; stroke-width:4; stroke-opacity:1; fill:none\" points=\"\n",
       "  1776.71,1486.45 1776.71,1467.55 \n",
       "  \"/>\n",
       "<polyline clip-path=\"url(#clip950)\" style=\"stroke:#000000; stroke-linecap:butt; stroke-linejoin:round; stroke-width:4; stroke-opacity:1; fill:none\" points=\"\n",
       "  2291.04,1486.45 2291.04,1467.55 \n",
       "  \"/>\n",
       "<path clip-path=\"url(#clip950)\" d=\"M211.118 1517.37 Q207.507 1517.37 205.679 1520.93 Q203.873 1524.47 203.873 1531.6 Q203.873 1538.71 205.679 1542.27 Q207.507 1545.82 211.118 1545.82 Q214.753 1545.82 216.558 1542.27 Q218.387 1538.71 218.387 1531.6 Q218.387 1524.47 216.558 1520.93 Q214.753 1517.37 211.118 1517.37 M211.118 1513.66 Q216.928 1513.66 219.984 1518.27 Q223.063 1522.85 223.063 1531.6 Q223.063 1540.33 219.984 1544.94 Q216.928 1549.52 211.118 1549.52 Q205.308 1549.52 202.229 1544.94 Q199.174 1540.33 199.174 1531.6 Q199.174 1522.85 202.229 1518.27 Q205.308 1513.66 211.118 1513.66 Z\" fill=\"#000000\" fill-rule=\"evenodd\" fill-opacity=\"1\" /><path clip-path=\"url(#clip950)\" d=\"M231.28 1542.97 L236.164 1542.97 L236.164 1548.85 L231.28 1548.85 L231.28 1542.97 Z\" fill=\"#000000\" fill-rule=\"evenodd\" fill-opacity=\"1\" /><path clip-path=\"url(#clip950)\" d=\"M256.35 1517.37 Q252.738 1517.37 250.91 1520.93 Q249.104 1524.47 249.104 1531.6 Q249.104 1538.71 250.91 1542.27 Q252.738 1545.82 256.35 1545.82 Q259.984 1545.82 261.789 1542.27 Q263.618 1538.71 263.618 1531.6 Q263.618 1524.47 261.789 1520.93 Q259.984 1517.37 256.35 1517.37 M256.35 1513.66 Q262.16 1513.66 265.215 1518.27 Q268.294 1522.85 268.294 1531.6 Q268.294 1540.33 265.215 1544.94 Q262.16 1549.52 256.35 1549.52 Q250.539 1549.52 247.461 1544.94 Q244.405 1540.33 244.405 1531.6 Q244.405 1522.85 247.461 1518.27 Q250.539 1513.66 256.35 1513.66 Z\" fill=\"#000000\" fill-rule=\"evenodd\" fill-opacity=\"1\" /><path clip-path=\"url(#clip950)\" d=\"M719.796 1544.91 L736.115 1544.91 L736.115 1548.85 L714.171 1548.85 L714.171 1544.91 Q716.833 1542.16 721.416 1537.53 Q726.023 1532.88 727.203 1531.53 Q729.449 1529.01 730.328 1527.27 Q731.231 1525.51 731.231 1523.82 Q731.231 1521.07 729.287 1519.33 Q727.365 1517.6 724.263 1517.6 Q722.064 1517.6 719.611 1518.36 Q717.18 1519.13 714.402 1520.68 L714.402 1515.95 Q717.226 1514.82 719.68 1514.24 Q722.134 1513.66 724.171 1513.66 Q729.541 1513.66 732.736 1516.35 Q735.93 1519.03 735.93 1523.52 Q735.93 1525.65 735.12 1527.57 Q734.333 1529.47 732.226 1532.07 Q731.648 1532.74 728.546 1535.95 Q725.444 1539.15 719.796 1544.91 Z\" fill=\"#000000\" fill-rule=\"evenodd\" fill-opacity=\"1\" /><path clip-path=\"url(#clip950)\" d=\"M745.93 1542.97 L750.814 1542.97 L750.814 1548.85 L745.93 1548.85 L745.93 1542.97 Z\" fill=\"#000000\" fill-rule=\"evenodd\" fill-opacity=\"1\" /><path clip-path=\"url(#clip950)\" d=\"M761.046 1514.29 L779.402 1514.29 L779.402 1518.22 L765.328 1518.22 L765.328 1526.7 Q766.347 1526.35 767.365 1526.19 Q768.384 1526 769.402 1526 Q775.189 1526 778.569 1529.17 Q781.948 1532.34 781.948 1537.76 Q781.948 1543.34 778.476 1546.44 Q775.004 1549.52 768.685 1549.52 Q766.509 1549.52 764.24 1549.15 Q761.995 1548.78 759.587 1548.04 L759.587 1543.34 Q761.671 1544.47 763.893 1545.03 Q766.115 1545.58 768.592 1545.58 Q772.597 1545.58 774.934 1543.48 Q777.272 1541.37 777.272 1537.76 Q777.272 1534.15 774.934 1532.04 Q772.597 1529.94 768.592 1529.94 Q766.717 1529.94 764.842 1530.35 Q762.99 1530.77 761.046 1531.65 L761.046 1514.29 Z\" fill=\"#000000\" fill-rule=\"evenodd\" fill-opacity=\"1\" /><path clip-path=\"url(#clip950)\" d=\"M1229.55 1514.29 L1247.91 1514.29 L1247.91 1518.22 L1233.83 1518.22 L1233.83 1526.7 Q1234.85 1526.35 1235.87 1526.19 Q1236.89 1526 1237.91 1526 Q1243.69 1526 1247.07 1529.17 Q1250.45 1532.34 1250.45 1537.76 Q1250.45 1543.34 1246.98 1546.44 Q1243.51 1549.52 1237.19 1549.52 Q1235.01 1549.52 1232.74 1549.15 Q1230.5 1548.78 1228.09 1548.04 L1228.09 1543.34 Q1230.17 1544.47 1232.4 1545.03 Q1234.62 1545.58 1237.1 1545.58 Q1241.1 1545.58 1243.44 1543.48 Q1245.78 1541.37 1245.78 1537.76 Q1245.78 1534.15 1243.44 1532.04 Q1241.1 1529.94 1237.1 1529.94 Q1235.22 1529.94 1233.35 1530.35 Q1231.49 1530.77 1229.55 1531.65 L1229.55 1514.29 Z\" fill=\"#000000\" fill-rule=\"evenodd\" fill-opacity=\"1\" /><path clip-path=\"url(#clip950)\" d=\"M1259.67 1542.97 L1264.55 1542.97 L1264.55 1548.85 L1259.67 1548.85 L1259.67 1542.97 Z\" fill=\"#000000\" fill-rule=\"evenodd\" fill-opacity=\"1\" /><path clip-path=\"url(#clip950)\" d=\"M1284.73 1517.37 Q1281.12 1517.37 1279.29 1520.93 Q1277.49 1524.47 1277.49 1531.6 Q1277.49 1538.71 1279.29 1542.27 Q1281.12 1545.82 1284.73 1545.82 Q1288.37 1545.82 1290.17 1542.27 Q1292 1538.71 1292 1531.6 Q1292 1524.47 1290.17 1520.93 Q1288.37 1517.37 1284.73 1517.37 M1284.73 1513.66 Q1290.54 1513.66 1293.6 1518.27 Q1296.68 1522.85 1296.68 1531.6 Q1296.68 1540.33 1293.6 1544.94 Q1290.54 1549.52 1284.73 1549.52 Q1278.92 1549.52 1275.85 1544.94 Q1272.79 1540.33 1272.79 1531.6 Q1272.79 1522.85 1275.85 1518.27 Q1278.92 1513.66 1284.73 1513.66 Z\" fill=\"#000000\" fill-rule=\"evenodd\" fill-opacity=\"1\" /><path clip-path=\"url(#clip950)\" d=\"M1743.03 1514.29 L1765.25 1514.29 L1765.25 1516.28 L1752.71 1548.85 L1747.82 1548.85 L1759.63 1518.22 L1743.03 1518.22 L1743.03 1514.29 Z\" fill=\"#000000\" fill-rule=\"evenodd\" fill-opacity=\"1\" /><path clip-path=\"url(#clip950)\" d=\"M1774.37 1542.97 L1779.26 1542.97 L1779.26 1548.85 L1774.37 1548.85 L1774.37 1542.97 Z\" fill=\"#000000\" fill-rule=\"evenodd\" fill-opacity=\"1\" /><path clip-path=\"url(#clip950)\" d=\"M1789.49 1514.29 L1807.85 1514.29 L1807.85 1518.22 L1793.77 1518.22 L1793.77 1526.7 Q1794.79 1526.35 1795.81 1526.19 Q1796.83 1526 1797.85 1526 Q1803.63 1526 1807.01 1529.17 Q1810.39 1532.34 1810.39 1537.76 Q1810.39 1543.34 1806.92 1546.44 Q1803.45 1549.52 1797.13 1549.52 Q1794.95 1549.52 1792.68 1549.15 Q1790.44 1548.78 1788.03 1548.04 L1788.03 1543.34 Q1790.11 1544.47 1792.34 1545.03 Q1794.56 1545.58 1797.04 1545.58 Q1801.04 1545.58 1803.38 1543.48 Q1805.72 1541.37 1805.72 1537.76 Q1805.72 1534.15 1803.38 1532.04 Q1801.04 1529.94 1797.04 1529.94 Q1795.16 1529.94 1793.29 1530.35 Q1791.43 1530.77 1789.49 1531.65 L1789.49 1514.29 Z\" fill=\"#000000\" fill-rule=\"evenodd\" fill-opacity=\"1\" /><path clip-path=\"url(#clip950)\" d=\"M2243.11 1544.91 L2250.75 1544.91 L2250.75 1518.55 L2242.44 1520.21 L2242.44 1515.95 L2250.7 1514.29 L2255.38 1514.29 L2255.38 1544.91 L2263.02 1544.91 L2263.02 1548.85 L2243.11 1548.85 L2243.11 1544.91 Z\" fill=\"#000000\" fill-rule=\"evenodd\" fill-opacity=\"1\" /><path clip-path=\"url(#clip950)\" d=\"M2282.46 1517.37 Q2278.85 1517.37 2277.02 1520.93 Q2275.22 1524.47 2275.22 1531.6 Q2275.22 1538.71 2277.02 1542.27 Q2278.85 1545.82 2282.46 1545.82 Q2286.09 1545.82 2287.9 1542.27 Q2289.73 1538.71 2289.73 1531.6 Q2289.73 1524.47 2287.9 1520.93 Q2286.09 1517.37 2282.46 1517.37 M2282.46 1513.66 Q2288.27 1513.66 2291.33 1518.27 Q2294.4 1522.85 2294.4 1531.6 Q2294.4 1540.33 2291.33 1544.94 Q2288.27 1549.52 2282.46 1549.52 Q2276.65 1549.52 2273.57 1544.94 Q2270.52 1540.33 2270.52 1531.6 Q2270.52 1522.85 2273.57 1518.27 Q2276.65 1513.66 2282.46 1513.66 Z\" fill=\"#000000\" fill-rule=\"evenodd\" fill-opacity=\"1\" /><path clip-path=\"url(#clip950)\" d=\"M2302.62 1542.97 L2307.51 1542.97 L2307.51 1548.85 L2302.62 1548.85 L2302.62 1542.97 Z\" fill=\"#000000\" fill-rule=\"evenodd\" fill-opacity=\"1\" /><path clip-path=\"url(#clip950)\" d=\"M2327.69 1517.37 Q2324.08 1517.37 2322.25 1520.93 Q2320.45 1524.47 2320.45 1531.6 Q2320.45 1538.71 2322.25 1542.27 Q2324.08 1545.82 2327.69 1545.82 Q2331.33 1545.82 2333.13 1542.27 Q2334.96 1538.71 2334.96 1531.6 Q2334.96 1524.47 2333.13 1520.93 Q2331.33 1517.37 2327.69 1517.37 M2327.69 1513.66 Q2333.5 1513.66 2336.56 1518.27 Q2339.64 1522.85 2339.64 1531.6 Q2339.64 1540.33 2336.56 1544.94 Q2333.5 1549.52 2327.69 1549.52 Q2321.88 1549.52 2318.8 1544.94 Q2315.75 1540.33 2315.75 1531.6 Q2315.75 1522.85 2318.8 1518.27 Q2321.88 1513.66 2327.69 1513.66 Z\" fill=\"#000000\" fill-rule=\"evenodd\" fill-opacity=\"1\" /><polyline clip-path=\"url(#clip952)\" style=\"stroke:#000000; stroke-linecap:butt; stroke-linejoin:round; stroke-width:2; stroke-opacity:0.1; fill:none\" points=\"\n",
       "  172.015,1445.72 2352.76,1445.72 \n",
       "  \"/>\n",
       "<polyline clip-path=\"url(#clip952)\" style=\"stroke:#000000; stroke-linecap:butt; stroke-linejoin:round; stroke-width:2; stroke-opacity:0.1; fill:none\" points=\"\n",
       "  172.015,1219.43 2352.76,1219.43 \n",
       "  \"/>\n",
       "<polyline clip-path=\"url(#clip952)\" style=\"stroke:#000000; stroke-linecap:butt; stroke-linejoin:round; stroke-width:2; stroke-opacity:0.1; fill:none\" points=\"\n",
       "  172.015,993.136 2352.76,993.136 \n",
       "  \"/>\n",
       "<polyline clip-path=\"url(#clip952)\" style=\"stroke:#000000; stroke-linecap:butt; stroke-linejoin:round; stroke-width:2; stroke-opacity:0.1; fill:none\" points=\"\n",
       "  172.015,766.846 2352.76,766.846 \n",
       "  \"/>\n",
       "<polyline clip-path=\"url(#clip952)\" style=\"stroke:#000000; stroke-linecap:butt; stroke-linejoin:round; stroke-width:2; stroke-opacity:0.1; fill:none\" points=\"\n",
       "  172.015,540.556 2352.76,540.556 \n",
       "  \"/>\n",
       "<polyline clip-path=\"url(#clip952)\" style=\"stroke:#000000; stroke-linecap:butt; stroke-linejoin:round; stroke-width:2; stroke-opacity:0.1; fill:none\" points=\"\n",
       "  172.015,314.266 2352.76,314.266 \n",
       "  \"/>\n",
       "<polyline clip-path=\"url(#clip952)\" style=\"stroke:#000000; stroke-linecap:butt; stroke-linejoin:round; stroke-width:2; stroke-opacity:0.1; fill:none\" points=\"\n",
       "  172.015,87.9763 2352.76,87.9763 \n",
       "  \"/>\n",
       "<polyline clip-path=\"url(#clip950)\" style=\"stroke:#000000; stroke-linecap:butt; stroke-linejoin:round; stroke-width:4; stroke-opacity:1; fill:none\" points=\"\n",
       "  172.015,1486.45 172.015,47.2441 \n",
       "  \"/>\n",
       "<polyline clip-path=\"url(#clip950)\" style=\"stroke:#000000; stroke-linecap:butt; stroke-linejoin:round; stroke-width:4; stroke-opacity:1; fill:none\" points=\"\n",
       "  172.015,1445.72 190.912,1445.72 \n",
       "  \"/>\n",
       "<polyline clip-path=\"url(#clip950)\" style=\"stroke:#000000; stroke-linecap:butt; stroke-linejoin:round; stroke-width:4; stroke-opacity:1; fill:none\" points=\"\n",
       "  172.015,1219.43 190.912,1219.43 \n",
       "  \"/>\n",
       "<polyline clip-path=\"url(#clip950)\" style=\"stroke:#000000; stroke-linecap:butt; stroke-linejoin:round; stroke-width:4; stroke-opacity:1; fill:none\" points=\"\n",
       "  172.015,993.136 190.912,993.136 \n",
       "  \"/>\n",
       "<polyline clip-path=\"url(#clip950)\" style=\"stroke:#000000; stroke-linecap:butt; stroke-linejoin:round; stroke-width:4; stroke-opacity:1; fill:none\" points=\"\n",
       "  172.015,766.846 190.912,766.846 \n",
       "  \"/>\n",
       "<polyline clip-path=\"url(#clip950)\" style=\"stroke:#000000; stroke-linecap:butt; stroke-linejoin:round; stroke-width:4; stroke-opacity:1; fill:none\" points=\"\n",
       "  172.015,540.556 190.912,540.556 \n",
       "  \"/>\n",
       "<polyline clip-path=\"url(#clip950)\" style=\"stroke:#000000; stroke-linecap:butt; stroke-linejoin:round; stroke-width:4; stroke-opacity:1; fill:none\" points=\"\n",
       "  172.015,314.266 190.912,314.266 \n",
       "  \"/>\n",
       "<polyline clip-path=\"url(#clip950)\" style=\"stroke:#000000; stroke-linecap:butt; stroke-linejoin:round; stroke-width:4; stroke-opacity:1; fill:none\" points=\"\n",
       "  172.015,87.9763 190.912,87.9763 \n",
       "  \"/>\n",
       "<path clip-path=\"url(#clip950)\" d=\"M124.07 1431.51 Q120.459 1431.51 118.631 1435.08 Q116.825 1438.62 116.825 1445.75 Q116.825 1452.86 118.631 1456.42 Q120.459 1459.96 124.07 1459.96 Q127.705 1459.96 129.51 1456.42 Q131.339 1452.86 131.339 1445.75 Q131.339 1438.62 129.51 1435.08 Q127.705 1431.51 124.07 1431.51 M124.07 1427.81 Q129.881 1427.81 132.936 1432.42 Q136.015 1437 136.015 1445.75 Q136.015 1454.48 132.936 1459.08 Q129.881 1463.67 124.07 1463.67 Q118.26 1463.67 115.182 1459.08 Q112.126 1454.48 112.126 1445.75 Q112.126 1437 115.182 1432.42 Q118.26 1427.81 124.07 1427.81 Z\" fill=\"#000000\" fill-rule=\"evenodd\" fill-opacity=\"1\" /><path clip-path=\"url(#clip950)\" d=\"M54.5569 1232.77 L62.1958 1232.77 L62.1958 1206.41 L53.8856 1208.07 L53.8856 1203.81 L62.1495 1202.15 L66.8254 1202.15 L66.8254 1232.77 L74.4642 1232.77 L74.4642 1236.71 L54.5569 1236.71 L54.5569 1232.77 Z\" fill=\"#000000\" fill-rule=\"evenodd\" fill-opacity=\"1\" /><path clip-path=\"url(#clip950)\" d=\"M93.9086 1205.22 Q90.2975 1205.22 88.4688 1208.79 Q86.6632 1212.33 86.6632 1219.46 Q86.6632 1226.57 88.4688 1230.13 Q90.2975 1233.67 93.9086 1233.67 Q97.5428 1233.67 99.3483 1230.13 Q101.177 1226.57 101.177 1219.46 Q101.177 1212.33 99.3483 1208.79 Q97.5428 1205.22 93.9086 1205.22 M93.9086 1201.52 Q99.7187 1201.52 102.774 1206.13 Q105.853 1210.71 105.853 1219.46 Q105.853 1228.19 102.774 1232.79 Q99.7187 1237.38 93.9086 1237.38 Q88.0984 1237.38 85.0197 1232.79 Q81.9642 1228.19 81.9642 1219.46 Q81.9642 1210.71 85.0197 1206.13 Q88.0984 1201.52 93.9086 1201.52 Z\" fill=\"#000000\" fill-rule=\"evenodd\" fill-opacity=\"1\" /><path clip-path=\"url(#clip950)\" d=\"M124.07 1205.22 Q120.459 1205.22 118.631 1208.79 Q116.825 1212.33 116.825 1219.46 Q116.825 1226.57 118.631 1230.13 Q120.459 1233.67 124.07 1233.67 Q127.705 1233.67 129.51 1230.13 Q131.339 1226.57 131.339 1219.46 Q131.339 1212.33 129.51 1208.79 Q127.705 1205.22 124.07 1205.22 M124.07 1201.52 Q129.881 1201.52 132.936 1206.13 Q136.015 1210.71 136.015 1219.46 Q136.015 1228.19 132.936 1232.79 Q129.881 1237.38 124.07 1237.38 Q118.26 1237.38 115.182 1232.79 Q112.126 1228.19 112.126 1219.46 Q112.126 1210.71 115.182 1206.13 Q118.26 1201.52 124.07 1201.52 Z\" fill=\"#000000\" fill-rule=\"evenodd\" fill-opacity=\"1\" /><path clip-path=\"url(#clip950)\" d=\"M57.7745 1006.48 L74.0939 1006.48 L74.0939 1010.42 L52.1495 1010.42 L52.1495 1006.48 Q54.8115 1003.73 59.3949 999.097 Q64.0013 994.444 65.1819 993.101 Q67.4272 990.578 68.3068 988.842 Q69.2096 987.083 69.2096 985.393 Q69.2096 982.638 67.2652 980.902 Q65.3439 979.166 62.2421 979.166 Q60.043 979.166 57.5893 979.93 Q55.1588 980.694 52.381 982.245 L52.381 977.523 Q55.2051 976.388 57.6588 975.81 Q60.1124 975.231 62.1495 975.231 Q67.5198 975.231 70.7142 977.916 Q73.9087 980.601 73.9087 985.092 Q73.9087 987.222 73.0985 989.143 Q72.3115 991.041 70.205 993.634 Q69.6263 994.305 66.5245 997.522 Q63.4226 1000.72 57.7745 1006.48 Z\" fill=\"#000000\" fill-rule=\"evenodd\" fill-opacity=\"1\" /><path clip-path=\"url(#clip950)\" d=\"M93.9086 978.935 Q90.2975 978.935 88.4688 982.499 Q86.6632 986.041 86.6632 993.171 Q86.6632 1000.28 88.4688 1003.84 Q90.2975 1007.38 93.9086 1007.38 Q97.5428 1007.38 99.3483 1003.84 Q101.177 1000.28 101.177 993.171 Q101.177 986.041 99.3483 982.499 Q97.5428 978.935 93.9086 978.935 M93.9086 975.231 Q99.7187 975.231 102.774 979.837 Q105.853 984.421 105.853 993.171 Q105.853 1001.9 102.774 1006.5 Q99.7187 1011.09 93.9086 1011.09 Q88.0984 1011.09 85.0197 1006.5 Q81.9642 1001.9 81.9642 993.171 Q81.9642 984.421 85.0197 979.837 Q88.0984 975.231 93.9086 975.231 Z\" fill=\"#000000\" fill-rule=\"evenodd\" fill-opacity=\"1\" /><path clip-path=\"url(#clip950)\" d=\"M124.07 978.935 Q120.459 978.935 118.631 982.499 Q116.825 986.041 116.825 993.171 Q116.825 1000.28 118.631 1003.84 Q120.459 1007.38 124.07 1007.38 Q127.705 1007.38 129.51 1003.84 Q131.339 1000.28 131.339 993.171 Q131.339 986.041 129.51 982.499 Q127.705 978.935 124.07 978.935 M124.07 975.231 Q129.881 975.231 132.936 979.837 Q136.015 984.421 136.015 993.171 Q136.015 1001.9 132.936 1006.5 Q129.881 1011.09 124.07 1011.09 Q118.26 1011.09 115.182 1006.5 Q112.126 1001.9 112.126 993.171 Q112.126 984.421 115.182 979.837 Q118.26 975.231 124.07 975.231 Z\" fill=\"#000000\" fill-rule=\"evenodd\" fill-opacity=\"1\" /><path clip-path=\"url(#clip950)\" d=\"M67.9133 765.492 Q71.2698 766.209 73.1448 768.478 Q75.0429 770.746 75.0429 774.08 Q75.0429 779.195 71.5244 781.996 Q68.0059 784.797 61.5245 784.797 Q59.3486 784.797 57.0338 784.357 Q54.7421 783.941 52.2884 783.084 L52.2884 778.57 Q54.2328 779.705 56.5477 780.283 Q58.8625 780.862 61.3856 780.862 Q65.7837 780.862 68.0754 779.126 Q70.3902 777.39 70.3902 774.08 Q70.3902 771.024 68.2374 769.311 Q66.1078 767.575 62.2884 767.575 L58.2606 767.575 L58.2606 763.733 L62.4735 763.733 Q65.9226 763.733 67.7513 762.367 Q69.58 760.978 69.58 758.385 Q69.58 755.723 67.6819 754.311 Q65.8069 752.876 62.2884 752.876 Q60.3671 752.876 58.168 753.293 Q55.969 753.709 53.3301 754.589 L53.3301 750.422 Q55.9921 749.682 58.3069 749.311 Q60.6449 748.941 62.705 748.941 Q68.0291 748.941 71.1309 751.372 Q74.2327 753.779 74.2327 757.899 Q74.2327 760.77 72.5892 762.76 Q70.9457 764.728 67.9133 765.492 Z\" fill=\"#000000\" fill-rule=\"evenodd\" fill-opacity=\"1\" /><path clip-path=\"url(#clip950)\" d=\"M93.9086 752.645 Q90.2975 752.645 88.4688 756.209 Q86.6632 759.751 86.6632 766.881 Q86.6632 773.987 88.4688 777.552 Q90.2975 781.094 93.9086 781.094 Q97.5428 781.094 99.3483 777.552 Q101.177 773.987 101.177 766.881 Q101.177 759.751 99.3483 756.209 Q97.5428 752.645 93.9086 752.645 M93.9086 748.941 Q99.7187 748.941 102.774 753.547 Q105.853 758.131 105.853 766.881 Q105.853 775.608 102.774 780.214 Q99.7187 784.797 93.9086 784.797 Q88.0984 784.797 85.0197 780.214 Q81.9642 775.608 81.9642 766.881 Q81.9642 758.131 85.0197 753.547 Q88.0984 748.941 93.9086 748.941 Z\" fill=\"#000000\" fill-rule=\"evenodd\" fill-opacity=\"1\" /><path clip-path=\"url(#clip950)\" d=\"M124.07 752.645 Q120.459 752.645 118.631 756.209 Q116.825 759.751 116.825 766.881 Q116.825 773.987 118.631 777.552 Q120.459 781.094 124.07 781.094 Q127.705 781.094 129.51 777.552 Q131.339 773.987 131.339 766.881 Q131.339 759.751 129.51 756.209 Q127.705 752.645 124.07 752.645 M124.07 748.941 Q129.881 748.941 132.936 753.547 Q136.015 758.131 136.015 766.881 Q136.015 775.608 132.936 780.214 Q129.881 784.797 124.07 784.797 Q118.26 784.797 115.182 780.214 Q112.126 775.608 112.126 766.881 Q112.126 758.131 115.182 753.547 Q118.26 748.941 124.07 748.941 Z\" fill=\"#000000\" fill-rule=\"evenodd\" fill-opacity=\"1\" /><path clip-path=\"url(#clip950)\" d=\"M66.5939 527.35 L54.7884 545.799 L66.5939 545.799 L66.5939 527.35 M65.367 523.276 L71.2466 523.276 L71.2466 545.799 L76.1772 545.799 L76.1772 549.688 L71.2466 549.688 L71.2466 557.836 L66.5939 557.836 L66.5939 549.688 L50.9921 549.688 L50.9921 545.174 L65.367 523.276 Z\" fill=\"#000000\" fill-rule=\"evenodd\" fill-opacity=\"1\" /><path clip-path=\"url(#clip950)\" d=\"M93.9086 526.355 Q90.2975 526.355 88.4688 529.92 Q86.6632 533.461 86.6632 540.591 Q86.6632 547.697 88.4688 551.262 Q90.2975 554.804 93.9086 554.804 Q97.5428 554.804 99.3483 551.262 Q101.177 547.697 101.177 540.591 Q101.177 533.461 99.3483 529.92 Q97.5428 526.355 93.9086 526.355 M93.9086 522.651 Q99.7187 522.651 102.774 527.258 Q105.853 531.841 105.853 540.591 Q105.853 549.318 102.774 553.924 Q99.7187 558.507 93.9086 558.507 Q88.0984 558.507 85.0197 553.924 Q81.9642 549.318 81.9642 540.591 Q81.9642 531.841 85.0197 527.258 Q88.0984 522.651 93.9086 522.651 Z\" fill=\"#000000\" fill-rule=\"evenodd\" fill-opacity=\"1\" /><path clip-path=\"url(#clip950)\" d=\"M124.07 526.355 Q120.459 526.355 118.631 529.92 Q116.825 533.461 116.825 540.591 Q116.825 547.697 118.631 551.262 Q120.459 554.804 124.07 554.804 Q127.705 554.804 129.51 551.262 Q131.339 547.697 131.339 540.591 Q131.339 533.461 129.51 529.92 Q127.705 526.355 124.07 526.355 M124.07 522.651 Q129.881 522.651 132.936 527.258 Q136.015 531.841 136.015 540.591 Q136.015 549.318 132.936 553.924 Q129.881 558.507 124.07 558.507 Q118.26 558.507 115.182 553.924 Q112.126 549.318 112.126 540.591 Q112.126 531.841 115.182 527.258 Q118.26 522.651 124.07 522.651 Z\" fill=\"#000000\" fill-rule=\"evenodd\" fill-opacity=\"1\" /><path clip-path=\"url(#clip950)\" d=\"M53.793 296.986 L72.1494 296.986 L72.1494 300.921 L58.0754 300.921 L58.0754 309.394 Q59.0939 309.046 60.1124 308.884 Q61.131 308.699 62.1495 308.699 Q67.9365 308.699 71.3161 311.87 Q74.6957 315.042 74.6957 320.458 Q74.6957 326.037 71.2235 329.139 Q67.7513 332.217 61.4319 332.217 Q59.256 332.217 56.9875 331.847 Q54.7421 331.477 52.3347 330.736 L52.3347 326.037 Q54.418 327.171 56.6402 327.727 Q58.8625 328.282 61.3393 328.282 Q65.3439 328.282 67.6819 326.176 Q70.0198 324.069 70.0198 320.458 Q70.0198 316.847 67.6819 314.741 Q65.3439 312.634 61.3393 312.634 Q59.4643 312.634 57.5893 313.051 Q55.7375 313.468 53.793 314.347 L53.793 296.986 Z\" fill=\"#000000\" fill-rule=\"evenodd\" fill-opacity=\"1\" /><path clip-path=\"url(#clip950)\" d=\"M93.9086 300.065 Q90.2975 300.065 88.4688 303.63 Q86.6632 307.171 86.6632 314.301 Q86.6632 321.407 88.4688 324.972 Q90.2975 328.514 93.9086 328.514 Q97.5428 328.514 99.3483 324.972 Q101.177 321.407 101.177 314.301 Q101.177 307.171 99.3483 303.63 Q97.5428 300.065 93.9086 300.065 M93.9086 296.361 Q99.7187 296.361 102.774 300.968 Q105.853 305.551 105.853 314.301 Q105.853 323.028 102.774 327.634 Q99.7187 332.217 93.9086 332.217 Q88.0984 332.217 85.0197 327.634 Q81.9642 323.028 81.9642 314.301 Q81.9642 305.551 85.0197 300.968 Q88.0984 296.361 93.9086 296.361 Z\" fill=\"#000000\" fill-rule=\"evenodd\" fill-opacity=\"1\" /><path clip-path=\"url(#clip950)\" d=\"M124.07 300.065 Q120.459 300.065 118.631 303.63 Q116.825 307.171 116.825 314.301 Q116.825 321.407 118.631 324.972 Q120.459 328.514 124.07 328.514 Q127.705 328.514 129.51 324.972 Q131.339 321.407 131.339 314.301 Q131.339 307.171 129.51 303.63 Q127.705 300.065 124.07 300.065 M124.07 296.361 Q129.881 296.361 132.936 300.968 Q136.015 305.551 136.015 314.301 Q136.015 323.028 132.936 327.634 Q129.881 332.217 124.07 332.217 Q118.26 332.217 115.182 327.634 Q112.126 323.028 112.126 314.301 Q112.126 305.551 115.182 300.968 Q118.26 296.361 124.07 296.361 Z\" fill=\"#000000\" fill-rule=\"evenodd\" fill-opacity=\"1\" /><path clip-path=\"url(#clip950)\" d=\"M64.3254 86.1129 Q61.1773 86.1129 59.3254 88.2656 Q57.4967 90.4184 57.4967 94.1684 Q57.4967 97.8952 59.3254 100.071 Q61.1773 102.224 64.3254 102.224 Q67.4735 102.224 69.3022 100.071 Q71.1541 97.8952 71.1541 94.1684 Q71.1541 90.4184 69.3022 88.2656 Q67.4735 86.1129 64.3254 86.1129 M73.6077 71.4602 L73.6077 75.7194 Q71.8485 74.8861 70.0429 74.4463 Q68.2606 74.0064 66.5013 74.0064 Q61.8717 74.0064 59.418 77.1314 Q56.9875 80.2564 56.6402 86.5758 Q58.006 84.5619 60.0662 83.4971 Q62.1263 82.4092 64.6032 82.4092 Q69.8115 82.4092 72.8207 85.5805 Q75.8531 88.7286 75.8531 94.1684 Q75.8531 99.4924 72.705 102.71 Q69.5568 105.928 64.3254 105.928 Q58.33 105.928 55.1588 101.344 Q51.9875 96.7378 51.9875 88.011 Q51.9875 79.8166 55.8764 74.9555 Q59.7652 70.0713 66.3161 70.0713 Q68.0754 70.0713 69.8578 70.4185 Q71.6633 70.7657 73.6077 71.4602 Z\" fill=\"#000000\" fill-rule=\"evenodd\" fill-opacity=\"1\" /><path clip-path=\"url(#clip950)\" d=\"M93.9086 73.775 Q90.2975 73.775 88.4688 77.3398 Q86.6632 80.8814 86.6632 88.011 Q86.6632 95.1174 88.4688 98.6822 Q90.2975 102.224 93.9086 102.224 Q97.5428 102.224 99.3483 98.6822 Q101.177 95.1174 101.177 88.011 Q101.177 80.8814 99.3483 77.3398 Q97.5428 73.775 93.9086 73.775 M93.9086 70.0713 Q99.7187 70.0713 102.774 74.6777 Q105.853 79.261 105.853 88.011 Q105.853 96.7378 102.774 101.344 Q99.7187 105.928 93.9086 105.928 Q88.0984 105.928 85.0197 101.344 Q81.9642 96.7378 81.9642 88.011 Q81.9642 79.261 85.0197 74.6777 Q88.0984 70.0713 93.9086 70.0713 Z\" fill=\"#000000\" fill-rule=\"evenodd\" fill-opacity=\"1\" /><path clip-path=\"url(#clip950)\" d=\"M124.07 73.775 Q120.459 73.775 118.631 77.3398 Q116.825 80.8814 116.825 88.011 Q116.825 95.1174 118.631 98.6822 Q120.459 102.224 124.07 102.224 Q127.705 102.224 129.51 98.6822 Q131.339 95.1174 131.339 88.011 Q131.339 80.8814 129.51 77.3398 Q127.705 73.775 124.07 73.775 M124.07 70.0713 Q129.881 70.0713 132.936 74.6777 Q136.015 79.261 136.015 88.011 Q136.015 96.7378 132.936 101.344 Q129.881 105.928 124.07 105.928 Q118.26 105.928 115.182 101.344 Q112.126 96.7378 112.126 88.011 Q112.126 79.261 115.182 74.6777 Q118.26 70.0713 124.07 70.0713 Z\" fill=\"#000000\" fill-rule=\"evenodd\" fill-opacity=\"1\" /><circle clip-path=\"url(#clip952)\" cx=\"439.464\" cy=\"1441.19\" r=\"10\" fill=\"#ff0000\" fill-rule=\"evenodd\" fill-opacity=\"1\" stroke=\"#000000\" stroke-opacity=\"1\" stroke-width=\"3.2\"/>\n",
       "<circle clip-path=\"url(#clip952)\" cx=\"645.194\" cy=\"1436.66\" r=\"10\" fill=\"#ff0000\" fill-rule=\"evenodd\" fill-opacity=\"1\" stroke=\"#000000\" stroke-opacity=\"1\" stroke-width=\"3.2\"/>\n",
       "<circle clip-path=\"url(#clip952)\" cx=\"850.925\" cy=\"1427.61\" r=\"10\" fill=\"#ff0000\" fill-rule=\"evenodd\" fill-opacity=\"1\" stroke=\"#000000\" stroke-opacity=\"1\" stroke-width=\"3.2\"/>\n",
       "<circle clip-path=\"url(#clip952)\" cx=\"1056.66\" cy=\"1411.77\" r=\"10\" fill=\"#ff0000\" fill-rule=\"evenodd\" fill-opacity=\"1\" stroke=\"#000000\" stroke-opacity=\"1\" stroke-width=\"3.2\"/>\n",
       "<circle clip-path=\"url(#clip952)\" cx=\"1262.39\" cy=\"1364.25\" r=\"10\" fill=\"#ff0000\" fill-rule=\"evenodd\" fill-opacity=\"1\" stroke=\"#000000\" stroke-opacity=\"1\" stroke-width=\"3.2\"/>\n",
       "<circle clip-path=\"url(#clip952)\" cx=\"1468.12\" cy=\"1287.31\" r=\"10\" fill=\"#ff0000\" fill-rule=\"evenodd\" fill-opacity=\"1\" stroke=\"#000000\" stroke-opacity=\"1\" stroke-width=\"3.2\"/>\n",
       "<circle clip-path=\"url(#clip952)\" cx=\"1673.85\" cy=\"1151.54\" r=\"10\" fill=\"#ff0000\" fill-rule=\"evenodd\" fill-opacity=\"1\" stroke=\"#000000\" stroke-opacity=\"1\" stroke-width=\"3.2\"/>\n",
       "<circle clip-path=\"url(#clip952)\" cx=\"1879.58\" cy=\"870.939\" r=\"10\" fill=\"#ff0000\" fill-rule=\"evenodd\" fill-opacity=\"1\" stroke=\"#000000\" stroke-opacity=\"1\" stroke-width=\"3.2\"/>\n",
       "<circle clip-path=\"url(#clip952)\" cx=\"2085.31\" cy=\"87.9763\" r=\"10\" fill=\"#ff0000\" fill-rule=\"evenodd\" fill-opacity=\"1\" stroke=\"#000000\" stroke-opacity=\"1\" stroke-width=\"3.2\"/>\n",
       "<polyline clip-path=\"url(#clip952)\" style=\"stroke:#e26f46; stroke-linecap:butt; stroke-linejoin:round; stroke-width:4; stroke-opacity:1; fill:none\" points=\"\n",
       "  233.734,1445.72 253.825,1445.71 439.598,1443.76 551.239,1439.78 645.631,1434.14 748.167,1425.24 842.695,1414.16 944.04,1398.88 1061.46,1376.38 1165.81,1351.7 \n",
       "  1257.31,1326.18 1357.07,1293.98 1457.43,1256.75 1568.38,1209.64 1673.96,1158.74 1783.73,1099.26 1876.13,1043.79 1988.94,969.137 2094.99,891.764 2264.89,752.673 \n",
       "  2291.04,729.563 \n",
       "  \"/>\n",
       "</svg>\n"
      ]
     },
     "execution_count": 107,
     "metadata": {},
     "output_type": "execute_result"
    }
   ],
   "source": [
    "# Exemplo 3\n",
    "pontos_x =  [1, 2, 3, 4, 5, 6, 7, 8, 9]\n",
    "pontos_y =  [2, 4, 8, 15, 36, 70, 130, 254, 600]\n",
    "\n",
    "\n",
    "c_barra=regressão_função_potencia(pontos_x, pontos_y)\n",
    "c1=exp(c_barra[1])\n",
    "c2=c_barra[2]\n",
    "#Retornando o modelo potencia\n",
    "potencia(x)=c1*(x^(c2))\n",
    "\n",
    "#Plotando os pontos x e y passados\n",
    "scatter(pontos_x, pontos_y, c=:red, ms=3, leg=false)\n",
    "#Plotando a função potencia \n",
    "plot!(potencia,0,10)"
   ]
  },
  {
   "cell_type": "code",
   "execution_count": 132,
   "id": "abf393cc",
   "metadata": {},
   "outputs": [
    {
     "data": {
      "text/plain": [
       "regressão_função_geometrica (generic function with 1 method)"
      ]
     },
     "execution_count": 132,
     "metadata": {},
     "output_type": "execute_result"
    }
   ],
   "source": [
    "# Função faz a regressão de coeficientes no modelo potencia dados dos conjuntos x e y\n",
    "# O dicionario é semelhante ao modelo exponecial\n",
    "# y = 1/(c1+c2x)\n",
    "# y_barra = 1/y\n",
    "# x_barra = x\n",
    "# c1_barra = c1\n",
    "# c2_barra = c2\n",
    "function regressão_função_geometrica(x, y)\n",
    "    #Criamos um vetor preechido com zeros para guardar os valores de y_barra\n",
    "    y_barra = zeros(length(y))\n",
    "    for j in 1:length(y)\n",
    "        y_barra[j] = 1/y[j] # Inverso de y\n",
    "    end\n",
    "    x_barra = x # Os valores de x se mantém os mesmos\n",
    "    # Realizando a regressão para encontrar os coeficientes c1_barra e c2_barra do polinômio\n",
    "    V=vandermonde(x_barra,y_barra,1)\n",
    "    c_barra = V\\y_barra\n",
    "    #c_barra=sistema_denso(V'*V,V'*y_barra) #mínimos quadrados\n",
    "    return c_barra #Coeficientes\n",
    "end"
   ]
  },
  {
   "cell_type": "code",
   "execution_count": 134,
   "id": "b9569eb8",
   "metadata": {},
   "outputs": [
    {
     "data": {
      "image/svg+xml": [
       "<?xml version=\"1.0\" encoding=\"utf-8\"?>\n",
       "<svg xmlns=\"http://www.w3.org/2000/svg\" xmlns:xlink=\"http://www.w3.org/1999/xlink\" width=\"600\" height=\"400\" viewBox=\"0 0 2400 1600\">\n",
       "<defs>\n",
       "  <clipPath id=\"clip030\">\n",
       "    <rect x=\"0\" y=\"0\" width=\"2400\" height=\"1600\"/>\n",
       "  </clipPath>\n",
       "</defs>\n",
       "<path clip-path=\"url(#clip030)\" d=\"\n",
       "M0 1600 L2400 1600 L2400 0 L0 0  Z\n",
       "  \" fill=\"#ffffff\" fill-rule=\"evenodd\" fill-opacity=\"1\"/>\n",
       "<defs>\n",
       "  <clipPath id=\"clip031\">\n",
       "    <rect x=\"480\" y=\"0\" width=\"1681\" height=\"1600\"/>\n",
       "  </clipPath>\n",
       "</defs>\n",
       "<path clip-path=\"url(#clip030)\" d=\"\n",
       "M141.853 1486.45 L2352.76 1486.45 L2352.76 47.2441 L141.853 47.2441  Z\n",
       "  \" fill=\"#ffffff\" fill-rule=\"evenodd\" fill-opacity=\"1\"/>\n",
       "<defs>\n",
       "  <clipPath id=\"clip032\">\n",
       "    <rect x=\"141\" y=\"47\" width=\"2212\" height=\"1440\"/>\n",
       "  </clipPath>\n",
       "</defs>\n",
       "<polyline clip-path=\"url(#clip032)\" style=\"stroke:#000000; stroke-linecap:butt; stroke-linejoin:round; stroke-width:2; stroke-opacity:0.1; fill:none\" points=\"\n",
       "  204.426,1486.45 204.426,47.2441 \n",
       "  \"/>\n",
       "<polyline clip-path=\"url(#clip032)\" style=\"stroke:#000000; stroke-linecap:butt; stroke-linejoin:round; stroke-width:2; stroke-opacity:0.1; fill:none\" points=\"\n",
       "  621.577,1486.45 621.577,47.2441 \n",
       "  \"/>\n",
       "<polyline clip-path=\"url(#clip032)\" style=\"stroke:#000000; stroke-linecap:butt; stroke-linejoin:round; stroke-width:2; stroke-opacity:0.1; fill:none\" points=\"\n",
       "  1038.73,1486.45 1038.73,47.2441 \n",
       "  \"/>\n",
       "<polyline clip-path=\"url(#clip032)\" style=\"stroke:#000000; stroke-linecap:butt; stroke-linejoin:round; stroke-width:2; stroke-opacity:0.1; fill:none\" points=\"\n",
       "  1455.88,1486.45 1455.88,47.2441 \n",
       "  \"/>\n",
       "<polyline clip-path=\"url(#clip032)\" style=\"stroke:#000000; stroke-linecap:butt; stroke-linejoin:round; stroke-width:2; stroke-opacity:0.1; fill:none\" points=\"\n",
       "  1873.03,1486.45 1873.03,47.2441 \n",
       "  \"/>\n",
       "<polyline clip-path=\"url(#clip032)\" style=\"stroke:#000000; stroke-linecap:butt; stroke-linejoin:round; stroke-width:2; stroke-opacity:0.1; fill:none\" points=\"\n",
       "  2290.18,1486.45 2290.18,47.2441 \n",
       "  \"/>\n",
       "<polyline clip-path=\"url(#clip030)\" style=\"stroke:#000000; stroke-linecap:butt; stroke-linejoin:round; stroke-width:4; stroke-opacity:1; fill:none\" points=\"\n",
       "  141.853,1486.45 2352.76,1486.45 \n",
       "  \"/>\n",
       "<polyline clip-path=\"url(#clip030)\" style=\"stroke:#000000; stroke-linecap:butt; stroke-linejoin:round; stroke-width:4; stroke-opacity:1; fill:none\" points=\"\n",
       "  204.426,1486.45 204.426,1467.55 \n",
       "  \"/>\n",
       "<polyline clip-path=\"url(#clip030)\" style=\"stroke:#000000; stroke-linecap:butt; stroke-linejoin:round; stroke-width:4; stroke-opacity:1; fill:none\" points=\"\n",
       "  621.577,1486.45 621.577,1467.55 \n",
       "  \"/>\n",
       "<polyline clip-path=\"url(#clip030)\" style=\"stroke:#000000; stroke-linecap:butt; stroke-linejoin:round; stroke-width:4; stroke-opacity:1; fill:none\" points=\"\n",
       "  1038.73,1486.45 1038.73,1467.55 \n",
       "  \"/>\n",
       "<polyline clip-path=\"url(#clip030)\" style=\"stroke:#000000; stroke-linecap:butt; stroke-linejoin:round; stroke-width:4; stroke-opacity:1; fill:none\" points=\"\n",
       "  1455.88,1486.45 1455.88,1467.55 \n",
       "  \"/>\n",
       "<polyline clip-path=\"url(#clip030)\" style=\"stroke:#000000; stroke-linecap:butt; stroke-linejoin:round; stroke-width:4; stroke-opacity:1; fill:none\" points=\"\n",
       "  1873.03,1486.45 1873.03,1467.55 \n",
       "  \"/>\n",
       "<polyline clip-path=\"url(#clip030)\" style=\"stroke:#000000; stroke-linecap:butt; stroke-linejoin:round; stroke-width:4; stroke-opacity:1; fill:none\" points=\"\n",
       "  2290.18,1486.45 2290.18,1467.55 \n",
       "  \"/>\n",
       "<path clip-path=\"url(#clip030)\" d=\"M179.611 1544.91 L187.25 1544.91 L187.25 1518.55 L178.94 1520.21 L178.94 1515.95 L187.204 1514.29 L191.879 1514.29 L191.879 1544.91 L199.518 1544.91 L199.518 1548.85 L179.611 1548.85 L179.611 1544.91 Z\" fill=\"#000000\" fill-rule=\"evenodd\" fill-opacity=\"1\" /><path clip-path=\"url(#clip030)\" d=\"M209.009 1514.29 L227.365 1514.29 L227.365 1518.22 L213.291 1518.22 L213.291 1526.7 Q214.31 1526.35 215.328 1526.19 Q216.347 1526 217.365 1526 Q223.152 1526 226.532 1529.17 Q229.912 1532.34 229.912 1537.76 Q229.912 1543.34 226.439 1546.44 Q222.967 1549.52 216.648 1549.52 Q214.472 1549.52 212.203 1549.15 Q209.958 1548.78 207.551 1548.04 L207.551 1543.34 Q209.634 1544.47 211.856 1545.03 Q214.078 1545.58 216.555 1545.58 Q220.56 1545.58 222.898 1543.48 Q225.236 1541.37 225.236 1537.76 Q225.236 1534.15 222.898 1532.04 Q220.56 1529.94 216.555 1529.94 Q214.68 1529.94 212.805 1530.35 Q210.953 1530.77 209.009 1531.65 L209.009 1514.29 Z\" fill=\"#000000\" fill-rule=\"evenodd\" fill-opacity=\"1\" /><path clip-path=\"url(#clip030)\" d=\"M596.184 1544.91 L603.823 1544.91 L603.823 1518.55 L595.512 1520.21 L595.512 1515.95 L603.776 1514.29 L608.452 1514.29 L608.452 1544.91 L616.091 1544.91 L616.091 1548.85 L596.184 1548.85 L596.184 1544.91 Z\" fill=\"#000000\" fill-rule=\"evenodd\" fill-opacity=\"1\" /><path clip-path=\"url(#clip030)\" d=\"M636.114 1529.7 Q632.966 1529.7 631.114 1531.86 Q629.285 1534.01 629.285 1537.76 Q629.285 1541.49 631.114 1543.66 Q632.966 1545.82 636.114 1545.82 Q639.262 1545.82 641.091 1543.66 Q642.943 1541.49 642.943 1537.76 Q642.943 1534.01 641.091 1531.86 Q639.262 1529.7 636.114 1529.7 M645.396 1515.05 L645.396 1519.31 Q643.637 1518.48 641.832 1518.04 Q640.049 1517.6 638.29 1517.6 Q633.66 1517.6 631.207 1520.72 Q628.776 1523.85 628.429 1530.17 Q629.795 1528.15 631.855 1527.09 Q633.915 1526 636.392 1526 Q641.6 1526 644.609 1529.17 Q647.642 1532.32 647.642 1537.76 Q647.642 1543.08 644.494 1546.3 Q641.346 1549.52 636.114 1549.52 Q630.119 1549.52 626.948 1544.94 Q623.776 1540.33 623.776 1531.6 Q623.776 1523.41 627.665 1518.55 Q631.554 1513.66 638.105 1513.66 Q639.864 1513.66 641.647 1514.01 Q643.452 1514.36 645.396 1515.05 Z\" fill=\"#000000\" fill-rule=\"evenodd\" fill-opacity=\"1\" /><path clip-path=\"url(#clip030)\" d=\"M1013.87 1544.91 L1021.51 1544.91 L1021.51 1518.55 L1013.2 1520.21 L1013.2 1515.95 L1021.46 1514.29 L1026.14 1514.29 L1026.14 1544.91 L1033.77 1544.91 L1033.77 1548.85 L1013.87 1548.85 L1013.87 1544.91 Z\" fill=\"#000000\" fill-rule=\"evenodd\" fill-opacity=\"1\" /><path clip-path=\"url(#clip030)\" d=\"M1042.04 1514.29 L1064.26 1514.29 L1064.26 1516.28 L1051.71 1548.85 L1046.83 1548.85 L1058.64 1518.22 L1042.04 1518.22 L1042.04 1514.29 Z\" fill=\"#000000\" fill-rule=\"evenodd\" fill-opacity=\"1\" /><path clip-path=\"url(#clip030)\" d=\"M1430.61 1544.91 L1438.25 1544.91 L1438.25 1518.55 L1429.94 1520.21 L1429.94 1515.95 L1438.21 1514.29 L1442.88 1514.29 L1442.88 1544.91 L1450.52 1544.91 L1450.52 1548.85 L1430.61 1548.85 L1430.61 1544.91 Z\" fill=\"#000000\" fill-rule=\"evenodd\" fill-opacity=\"1\" /><path clip-path=\"url(#clip030)\" d=\"M1469.97 1532.44 Q1466.63 1532.44 1464.71 1534.22 Q1462.81 1536 1462.81 1539.13 Q1462.81 1542.25 1464.71 1544.03 Q1466.63 1545.82 1469.97 1545.82 Q1473.3 1545.82 1475.22 1544.03 Q1477.14 1542.23 1477.14 1539.13 Q1477.14 1536 1475.22 1534.22 Q1473.32 1532.44 1469.97 1532.44 M1465.29 1530.45 Q1462.28 1529.7 1460.59 1527.64 Q1458.92 1525.58 1458.92 1522.62 Q1458.92 1518.48 1461.86 1516.07 Q1464.83 1513.66 1469.97 1513.66 Q1475.13 1513.66 1478.07 1516.07 Q1481.01 1518.48 1481.01 1522.62 Q1481.01 1525.58 1479.32 1527.64 Q1477.65 1529.7 1474.66 1530.45 Q1478.04 1531.23 1479.92 1533.52 Q1481.82 1535.82 1481.82 1539.13 Q1481.82 1544.15 1478.74 1546.83 Q1475.68 1549.52 1469.97 1549.52 Q1464.25 1549.52 1461.17 1546.83 Q1458.11 1544.15 1458.11 1539.13 Q1458.11 1535.82 1460.01 1533.52 Q1461.91 1531.23 1465.29 1530.45 M1463.58 1523.06 Q1463.58 1525.75 1465.24 1527.25 Q1466.93 1528.76 1469.97 1528.76 Q1472.97 1528.76 1474.66 1527.25 Q1476.38 1525.75 1476.38 1523.06 Q1476.38 1520.38 1474.66 1518.87 Q1472.97 1517.37 1469.97 1517.37 Q1466.93 1517.37 1465.24 1518.87 Q1463.58 1520.38 1463.58 1523.06 Z\" fill=\"#000000\" fill-rule=\"evenodd\" fill-opacity=\"1\" /><path clip-path=\"url(#clip030)\" d=\"M1847.81 1544.91 L1855.45 1544.91 L1855.45 1518.55 L1847.14 1520.21 L1847.14 1515.95 L1855.4 1514.29 L1860.08 1514.29 L1860.08 1544.91 L1867.72 1544.91 L1867.72 1548.85 L1847.81 1548.85 L1847.81 1544.91 Z\" fill=\"#000000\" fill-rule=\"evenodd\" fill-opacity=\"1\" /><path clip-path=\"url(#clip030)\" d=\"M1877.3 1548.13 L1877.3 1543.87 Q1879.06 1544.7 1880.87 1545.14 Q1882.67 1545.58 1884.41 1545.58 Q1889.04 1545.58 1891.47 1542.48 Q1893.92 1539.36 1894.27 1533.01 Q1892.93 1535.01 1890.87 1536.07 Q1888.81 1537.13 1886.31 1537.13 Q1881.12 1537.13 1878.09 1534.01 Q1875.08 1530.86 1875.08 1525.42 Q1875.08 1520.1 1878.23 1516.88 Q1881.38 1513.66 1886.61 1513.66 Q1892.6 1513.66 1895.75 1518.27 Q1898.92 1522.85 1898.92 1531.6 Q1898.92 1539.77 1895.03 1544.66 Q1891.17 1549.52 1884.62 1549.52 Q1882.86 1549.52 1881.05 1549.17 Q1879.25 1548.82 1877.3 1548.13 M1886.61 1533.48 Q1889.76 1533.48 1891.58 1531.32 Q1893.44 1529.17 1893.44 1525.42 Q1893.44 1521.7 1891.58 1519.54 Q1889.76 1517.37 1886.61 1517.37 Q1883.46 1517.37 1881.61 1519.54 Q1879.78 1521.7 1879.78 1525.42 Q1879.78 1529.17 1881.61 1531.32 Q1883.46 1533.48 1886.61 1533.48 Z\" fill=\"#000000\" fill-rule=\"evenodd\" fill-opacity=\"1\" /><path clip-path=\"url(#clip030)\" d=\"M2268.96 1544.91 L2285.28 1544.91 L2285.28 1548.85 L2263.33 1548.85 L2263.33 1544.91 Q2265.99 1542.16 2270.58 1537.53 Q2275.18 1532.88 2276.36 1531.53 Q2278.61 1529.01 2279.49 1527.27 Q2280.39 1525.51 2280.39 1523.82 Q2280.39 1521.07 2278.45 1519.33 Q2276.53 1517.6 2273.42 1517.6 Q2271.22 1517.6 2268.77 1518.36 Q2266.34 1519.13 2263.56 1520.68 L2263.56 1515.95 Q2266.39 1514.82 2268.84 1514.24 Q2271.29 1513.66 2273.33 1513.66 Q2278.7 1513.66 2281.9 1516.35 Q2285.09 1519.03 2285.09 1523.52 Q2285.09 1525.65 2284.28 1527.57 Q2283.49 1529.47 2281.39 1532.07 Q2280.81 1532.74 2277.71 1535.95 Q2274.6 1539.15 2268.96 1544.91 Z\" fill=\"#000000\" fill-rule=\"evenodd\" fill-opacity=\"1\" /><path clip-path=\"url(#clip030)\" d=\"M2305.09 1517.37 Q2301.48 1517.37 2299.65 1520.93 Q2297.85 1524.47 2297.85 1531.6 Q2297.85 1538.71 2299.65 1542.27 Q2301.48 1545.82 2305.09 1545.82 Q2308.72 1545.82 2310.53 1542.27 Q2312.36 1538.71 2312.36 1531.6 Q2312.36 1524.47 2310.53 1520.93 Q2308.72 1517.37 2305.09 1517.37 M2305.09 1513.66 Q2310.9 1513.66 2313.96 1518.27 Q2317.03 1522.85 2317.03 1531.6 Q2317.03 1540.33 2313.96 1544.94 Q2310.9 1549.52 2305.09 1549.52 Q2299.28 1549.52 2296.2 1544.94 Q2293.15 1540.33 2293.15 1531.6 Q2293.15 1522.85 2296.2 1518.27 Q2299.28 1513.66 2305.09 1513.66 Z\" fill=\"#000000\" fill-rule=\"evenodd\" fill-opacity=\"1\" /><polyline clip-path=\"url(#clip032)\" style=\"stroke:#000000; stroke-linecap:butt; stroke-linejoin:round; stroke-width:2; stroke-opacity:0.1; fill:none\" points=\"\n",
       "  141.853,1445.72 2352.76,1445.72 \n",
       "  \"/>\n",
       "<polyline clip-path=\"url(#clip032)\" style=\"stroke:#000000; stroke-linecap:butt; stroke-linejoin:round; stroke-width:2; stroke-opacity:0.1; fill:none\" points=\"\n",
       "  141.853,1133.81 2352.76,1133.81 \n",
       "  \"/>\n",
       "<polyline clip-path=\"url(#clip032)\" style=\"stroke:#000000; stroke-linecap:butt; stroke-linejoin:round; stroke-width:2; stroke-opacity:0.1; fill:none\" points=\"\n",
       "  141.853,821.907 2352.76,821.907 \n",
       "  \"/>\n",
       "<polyline clip-path=\"url(#clip032)\" style=\"stroke:#000000; stroke-linecap:butt; stroke-linejoin:round; stroke-width:2; stroke-opacity:0.1; fill:none\" points=\"\n",
       "  141.853,510.003 2352.76,510.003 \n",
       "  \"/>\n",
       "<polyline clip-path=\"url(#clip032)\" style=\"stroke:#000000; stroke-linecap:butt; stroke-linejoin:round; stroke-width:2; stroke-opacity:0.1; fill:none\" points=\"\n",
       "  141.853,198.099 2352.76,198.099 \n",
       "  \"/>\n",
       "<polyline clip-path=\"url(#clip030)\" style=\"stroke:#000000; stroke-linecap:butt; stroke-linejoin:round; stroke-width:4; stroke-opacity:1; fill:none\" points=\"\n",
       "  141.853,1486.45 141.853,47.2441 \n",
       "  \"/>\n",
       "<polyline clip-path=\"url(#clip030)\" style=\"stroke:#000000; stroke-linecap:butt; stroke-linejoin:round; stroke-width:4; stroke-opacity:1; fill:none\" points=\"\n",
       "  141.853,1445.72 160.751,1445.72 \n",
       "  \"/>\n",
       "<polyline clip-path=\"url(#clip030)\" style=\"stroke:#000000; stroke-linecap:butt; stroke-linejoin:round; stroke-width:4; stroke-opacity:1; fill:none\" points=\"\n",
       "  141.853,1133.81 160.751,1133.81 \n",
       "  \"/>\n",
       "<polyline clip-path=\"url(#clip030)\" style=\"stroke:#000000; stroke-linecap:butt; stroke-linejoin:round; stroke-width:4; stroke-opacity:1; fill:none\" points=\"\n",
       "  141.853,821.907 160.751,821.907 \n",
       "  \"/>\n",
       "<polyline clip-path=\"url(#clip030)\" style=\"stroke:#000000; stroke-linecap:butt; stroke-linejoin:round; stroke-width:4; stroke-opacity:1; fill:none\" points=\"\n",
       "  141.853,510.003 160.751,510.003 \n",
       "  \"/>\n",
       "<polyline clip-path=\"url(#clip030)\" style=\"stroke:#000000; stroke-linecap:butt; stroke-linejoin:round; stroke-width:4; stroke-opacity:1; fill:none\" points=\"\n",
       "  141.853,198.099 160.751,198.099 \n",
       "  \"/>\n",
       "<path clip-path=\"url(#clip030)\" d=\"M54.5569 1459.06 L62.1958 1459.06 L62.1958 1432.69 L53.8856 1434.36 L53.8856 1430.1 L62.1495 1428.44 L66.8254 1428.44 L66.8254 1459.06 L74.4642 1459.06 L74.4642 1463 L54.5569 1463 L54.5569 1459.06 Z\" fill=\"#000000\" fill-rule=\"evenodd\" fill-opacity=\"1\" /><path clip-path=\"url(#clip030)\" d=\"M93.9086 1431.51 Q90.2975 1431.51 88.4688 1435.08 Q86.6632 1438.62 86.6632 1445.75 Q86.6632 1452.86 88.4688 1456.42 Q90.2975 1459.96 93.9086 1459.96 Q97.5428 1459.96 99.3483 1456.42 Q101.177 1452.86 101.177 1445.75 Q101.177 1438.62 99.3483 1435.08 Q97.5428 1431.51 93.9086 1431.51 M93.9086 1427.81 Q99.7187 1427.81 102.774 1432.42 Q105.853 1437 105.853 1445.75 Q105.853 1454.48 102.774 1459.08 Q99.7187 1463.67 93.9086 1463.67 Q88.0984 1463.67 85.0197 1459.08 Q81.9642 1454.48 81.9642 1445.75 Q81.9642 1437 85.0197 1432.42 Q88.0984 1427.81 93.9086 1427.81 Z\" fill=\"#000000\" fill-rule=\"evenodd\" fill-opacity=\"1\" /><path clip-path=\"url(#clip030)\" d=\"M57.7745 1147.16 L74.0939 1147.16 L74.0939 1151.09 L52.1495 1151.09 L52.1495 1147.16 Q54.8115 1144.4 59.3949 1139.77 Q64.0013 1135.12 65.1819 1133.78 Q67.4272 1131.25 68.3068 1129.52 Q69.2096 1127.76 69.2096 1126.07 Q69.2096 1123.31 67.2652 1121.58 Q65.3439 1119.84 62.2421 1119.84 Q60.043 1119.84 57.5893 1120.61 Q55.1588 1121.37 52.381 1122.92 L52.381 1118.2 Q55.2051 1117.06 57.6588 1116.49 Q60.1124 1115.91 62.1495 1115.91 Q67.5198 1115.91 70.7142 1118.59 Q73.9087 1121.28 73.9087 1125.77 Q73.9087 1127.9 73.0985 1129.82 Q72.3115 1131.72 70.205 1134.31 Q69.6263 1134.98 66.5245 1138.2 Q63.4226 1141.39 57.7745 1147.16 Z\" fill=\"#000000\" fill-rule=\"evenodd\" fill-opacity=\"1\" /><path clip-path=\"url(#clip030)\" d=\"M93.9086 1119.61 Q90.2975 1119.61 88.4688 1123.17 Q86.6632 1126.72 86.6632 1133.85 Q86.6632 1140.95 88.4688 1144.52 Q90.2975 1148.06 93.9086 1148.06 Q97.5428 1148.06 99.3483 1144.52 Q101.177 1140.95 101.177 1133.85 Q101.177 1126.72 99.3483 1123.17 Q97.5428 1119.61 93.9086 1119.61 M93.9086 1115.91 Q99.7187 1115.91 102.774 1120.51 Q105.853 1125.1 105.853 1133.85 Q105.853 1142.57 102.774 1147.18 Q99.7187 1151.76 93.9086 1151.76 Q88.0984 1151.76 85.0197 1147.18 Q81.9642 1142.57 81.9642 1133.85 Q81.9642 1125.1 85.0197 1120.51 Q88.0984 1115.91 93.9086 1115.91 Z\" fill=\"#000000\" fill-rule=\"evenodd\" fill-opacity=\"1\" /><path clip-path=\"url(#clip030)\" d=\"M67.9133 820.553 Q71.2698 821.271 73.1448 823.539 Q75.0429 825.808 75.0429 829.141 Q75.0429 834.257 71.5244 837.058 Q68.0059 839.859 61.5245 839.859 Q59.3486 839.859 57.0338 839.419 Q54.7421 839.002 52.2884 838.146 L52.2884 833.632 Q54.2328 834.766 56.5477 835.345 Q58.8625 835.923 61.3856 835.923 Q65.7837 835.923 68.0754 834.187 Q70.3902 832.451 70.3902 829.141 Q70.3902 826.086 68.2374 824.373 Q66.1078 822.636 62.2884 822.636 L58.2606 822.636 L58.2606 818.794 L62.4735 818.794 Q65.9226 818.794 67.7513 817.428 Q69.58 816.039 69.58 813.447 Q69.58 810.785 67.6819 809.373 Q65.8069 807.937 62.2884 807.937 Q60.3671 807.937 58.168 808.354 Q55.969 808.771 53.3301 809.65 L53.3301 805.484 Q55.9921 804.743 58.3069 804.373 Q60.6449 804.002 62.705 804.002 Q68.0291 804.002 71.1309 806.433 Q74.2327 808.84 74.2327 812.961 Q74.2327 815.831 72.5892 817.822 Q70.9457 819.789 67.9133 820.553 Z\" fill=\"#000000\" fill-rule=\"evenodd\" fill-opacity=\"1\" /><path clip-path=\"url(#clip030)\" d=\"M93.9086 807.706 Q90.2975 807.706 88.4688 811.271 Q86.6632 814.812 86.6632 821.942 Q86.6632 829.048 88.4688 832.613 Q90.2975 836.155 93.9086 836.155 Q97.5428 836.155 99.3483 832.613 Q101.177 829.048 101.177 821.942 Q101.177 814.812 99.3483 811.271 Q97.5428 807.706 93.9086 807.706 M93.9086 804.002 Q99.7187 804.002 102.774 808.609 Q105.853 813.192 105.853 821.942 Q105.853 830.669 102.774 835.275 Q99.7187 839.859 93.9086 839.859 Q88.0984 839.859 85.0197 835.275 Q81.9642 830.669 81.9642 821.942 Q81.9642 813.192 85.0197 808.609 Q88.0984 804.002 93.9086 804.002 Z\" fill=\"#000000\" fill-rule=\"evenodd\" fill-opacity=\"1\" /><path clip-path=\"url(#clip030)\" d=\"M66.5939 496.797 L54.7884 515.246 L66.5939 515.246 L66.5939 496.797 M65.367 492.723 L71.2466 492.723 L71.2466 515.246 L76.1772 515.246 L76.1772 519.135 L71.2466 519.135 L71.2466 527.283 L66.5939 527.283 L66.5939 519.135 L50.9921 519.135 L50.9921 514.621 L65.367 492.723 Z\" fill=\"#000000\" fill-rule=\"evenodd\" fill-opacity=\"1\" /><path clip-path=\"url(#clip030)\" d=\"M93.9086 495.802 Q90.2975 495.802 88.4688 499.367 Q86.6632 502.908 86.6632 510.038 Q86.6632 517.144 88.4688 520.709 Q90.2975 524.251 93.9086 524.251 Q97.5428 524.251 99.3483 520.709 Q101.177 517.144 101.177 510.038 Q101.177 502.908 99.3483 499.367 Q97.5428 495.802 93.9086 495.802 M93.9086 492.098 Q99.7187 492.098 102.774 496.705 Q105.853 501.288 105.853 510.038 Q105.853 518.765 102.774 523.371 Q99.7187 527.954 93.9086 527.954 Q88.0984 527.954 85.0197 523.371 Q81.9642 518.765 81.9642 510.038 Q81.9642 501.288 85.0197 496.705 Q88.0984 492.098 93.9086 492.098 Z\" fill=\"#000000\" fill-rule=\"evenodd\" fill-opacity=\"1\" /><path clip-path=\"url(#clip030)\" d=\"M53.793 180.819 L72.1494 180.819 L72.1494 184.754 L58.0754 184.754 L58.0754 193.226 Q59.0939 192.879 60.1124 192.717 Q61.131 192.532 62.1495 192.532 Q67.9365 192.532 71.3161 195.703 Q74.6957 198.874 74.6957 204.291 Q74.6957 209.87 71.2235 212.972 Q67.7513 216.05 61.4319 216.05 Q59.256 216.05 56.9875 215.68 Q54.7421 215.309 52.3347 214.569 L52.3347 209.87 Q54.418 211.004 56.6402 211.559 Q58.8625 212.115 61.3393 212.115 Q65.3439 212.115 67.6819 210.009 Q70.0198 207.902 70.0198 204.291 Q70.0198 200.68 67.6819 198.573 Q65.3439 196.467 61.3393 196.467 Q59.4643 196.467 57.5893 196.884 Q55.7375 197.3 53.793 198.18 L53.793 180.819 Z\" fill=\"#000000\" fill-rule=\"evenodd\" fill-opacity=\"1\" /><path clip-path=\"url(#clip030)\" d=\"M93.9086 183.898 Q90.2975 183.898 88.4688 187.462 Q86.6632 191.004 86.6632 198.134 Q86.6632 205.24 88.4688 208.805 Q90.2975 212.347 93.9086 212.347 Q97.5428 212.347 99.3483 208.805 Q101.177 205.24 101.177 198.134 Q101.177 191.004 99.3483 187.462 Q97.5428 183.898 93.9086 183.898 M93.9086 180.194 Q99.7187 180.194 102.774 184.8 Q105.853 189.384 105.853 198.134 Q105.853 206.86 102.774 211.467 Q99.7187 216.05 93.9086 216.05 Q88.0984 216.05 85.0197 211.467 Q81.9642 206.86 81.9642 198.134 Q81.9642 189.384 85.0197 184.8 Q88.0984 180.194 93.9086 180.194 Z\" fill=\"#000000\" fill-rule=\"evenodd\" fill-opacity=\"1\" /><circle clip-path=\"url(#clip032)\" cx=\"204.426\" cy=\"510.003\" r=\"10\" fill=\"#ff0000\" fill-rule=\"evenodd\" fill-opacity=\"1\" stroke=\"#000000\" stroke-opacity=\"1\" stroke-width=\"3.2\"/>\n",
       "<circle clip-path=\"url(#clip032)\" cx=\"830.153\" cy=\"821.907\" r=\"10\" fill=\"#ff0000\" fill-rule=\"evenodd\" fill-opacity=\"1\" stroke=\"#000000\" stroke-opacity=\"1\" stroke-width=\"3.2\"/>\n",
       "<circle clip-path=\"url(#clip032)\" cx=\"1038.73\" cy=\"1133.81\" r=\"10\" fill=\"#ff0000\" fill-rule=\"evenodd\" fill-opacity=\"1\" stroke=\"#000000\" stroke-opacity=\"1\" stroke-width=\"3.2\"/>\n",
       "<circle clip-path=\"url(#clip032)\" cx=\"2290.18\" cy=\"1445.72\" r=\"10\" fill=\"#ff0000\" fill-rule=\"evenodd\" fill-opacity=\"1\" stroke=\"#000000\" stroke-opacity=\"1\" stroke-width=\"3.2\"/>\n",
       "<polyline clip-path=\"url(#clip032)\" style=\"stroke:#e26f46; stroke-linecap:butt; stroke-linejoin:round; stroke-width:4; stroke-opacity:1; fill:none\" points=\"\n",
       "  204.426,87.9763 209.518,104.952 214.61,121.586 219.703,137.888 224.795,153.869 271.88,287.945 318.966,401.332 366.051,498.477 413.137,582.635 469.73,670.007 \n",
       "  526.323,745.285 574.171,801.251 622.02,851.353 725.973,943.96 821.81,1014.01 924.556,1076.85 1043.6,1137.56 1149.39,1183.09 1242.16,1217.84 1343.3,1251.24 \n",
       "  1445.04,1280.91 1557.54,1309.92 1664.57,1334.42 1775.86,1357.2 1869.54,1374.56 1983.91,1393.82 2091.43,1410.23 2263.68,1433.65 2290.18,1436.98 \n",
       "  \"/>\n",
       "</svg>\n"
      ]
     },
     "execution_count": 134,
     "metadata": {},
     "output_type": "execute_result"
    }
   ],
   "source": [
    "pontos_x = [15;16.5;17;20]\n",
    "pontos_y = [40;30;20;10]\n",
    "\n",
    "c_barra=regressão_função_geometrica(pontos_x, pontos_y)\n",
    "c1=c_barra[1]\n",
    "c2=c_barra[2]\n",
    "#Retornando o modelo geometrico\n",
    "geometrico(x)=1/(c1+c2*x)\n",
    "\n",
    "#Plotando os pontos x e y passados\n",
    "scatter(pontos_x, pontos_y, c=:red, ms=3, leg=false)\n",
    "#Plotando a função potencia \n",
    "plot!(geometrico,15,20)\n"
   ]
  },
  {
   "cell_type": "code",
   "execution_count": 146,
   "id": "b5473a44",
   "metadata": {},
   "outputs": [
    {
     "data": {
      "image/svg+xml": [
       "<?xml version=\"1.0\" encoding=\"utf-8\"?>\n",
       "<svg xmlns=\"http://www.w3.org/2000/svg\" xmlns:xlink=\"http://www.w3.org/1999/xlink\" width=\"600\" height=\"400\" viewBox=\"0 0 2400 1600\">\n",
       "<defs>\n",
       "  <clipPath id=\"clip510\">\n",
       "    <rect x=\"0\" y=\"0\" width=\"2400\" height=\"1600\"/>\n",
       "  </clipPath>\n",
       "</defs>\n",
       "<path clip-path=\"url(#clip510)\" d=\"\n",
       "M0 1600 L2400 1600 L2400 0 L0 0  Z\n",
       "  \" fill=\"#ffffff\" fill-rule=\"evenodd\" fill-opacity=\"1\"/>\n",
       "<defs>\n",
       "  <clipPath id=\"clip511\">\n",
       "    <rect x=\"480\" y=\"0\" width=\"1681\" height=\"1600\"/>\n",
       "  </clipPath>\n",
       "</defs>\n",
       "<path clip-path=\"url(#clip510)\" d=\"\n",
       "M169.121 1486.45 L2352.76 1486.45 L2352.76 47.2441 L169.121 47.2441  Z\n",
       "  \" fill=\"#ffffff\" fill-rule=\"evenodd\" fill-opacity=\"1\"/>\n",
       "<defs>\n",
       "  <clipPath id=\"clip512\">\n",
       "    <rect x=\"169\" y=\"47\" width=\"2185\" height=\"1440\"/>\n",
       "  </clipPath>\n",
       "</defs>\n",
       "<polyline clip-path=\"url(#clip512)\" style=\"stroke:#000000; stroke-linecap:butt; stroke-linejoin:round; stroke-width:2; stroke-opacity:0.1; fill:none\" points=\"\n",
       "  436.926,1486.45 436.926,47.2441 \n",
       "  \"/>\n",
       "<polyline clip-path=\"url(#clip512)\" style=\"stroke:#000000; stroke-linecap:butt; stroke-linejoin:round; stroke-width:2; stroke-opacity:0.1; fill:none\" points=\"\n",
       "  848.932,1486.45 848.932,47.2441 \n",
       "  \"/>\n",
       "<polyline clip-path=\"url(#clip512)\" style=\"stroke:#000000; stroke-linecap:butt; stroke-linejoin:round; stroke-width:2; stroke-opacity:0.1; fill:none\" points=\"\n",
       "  1260.94,1486.45 1260.94,47.2441 \n",
       "  \"/>\n",
       "<polyline clip-path=\"url(#clip512)\" style=\"stroke:#000000; stroke-linecap:butt; stroke-linejoin:round; stroke-width:2; stroke-opacity:0.1; fill:none\" points=\"\n",
       "  1672.95,1486.45 1672.95,47.2441 \n",
       "  \"/>\n",
       "<polyline clip-path=\"url(#clip512)\" style=\"stroke:#000000; stroke-linecap:butt; stroke-linejoin:round; stroke-width:2; stroke-opacity:0.1; fill:none\" points=\"\n",
       "  2084.95,1486.45 2084.95,47.2441 \n",
       "  \"/>\n",
       "<polyline clip-path=\"url(#clip510)\" style=\"stroke:#000000; stroke-linecap:butt; stroke-linejoin:round; stroke-width:4; stroke-opacity:1; fill:none\" points=\"\n",
       "  169.121,1486.45 2352.76,1486.45 \n",
       "  \"/>\n",
       "<polyline clip-path=\"url(#clip510)\" style=\"stroke:#000000; stroke-linecap:butt; stroke-linejoin:round; stroke-width:4; stroke-opacity:1; fill:none\" points=\"\n",
       "  436.926,1486.45 436.926,1467.55 \n",
       "  \"/>\n",
       "<polyline clip-path=\"url(#clip510)\" style=\"stroke:#000000; stroke-linecap:butt; stroke-linejoin:round; stroke-width:4; stroke-opacity:1; fill:none\" points=\"\n",
       "  848.932,1486.45 848.932,1467.55 \n",
       "  \"/>\n",
       "<polyline clip-path=\"url(#clip510)\" style=\"stroke:#000000; stroke-linecap:butt; stroke-linejoin:round; stroke-width:4; stroke-opacity:1; fill:none\" points=\"\n",
       "  1260.94,1486.45 1260.94,1467.55 \n",
       "  \"/>\n",
       "<polyline clip-path=\"url(#clip510)\" style=\"stroke:#000000; stroke-linecap:butt; stroke-linejoin:round; stroke-width:4; stroke-opacity:1; fill:none\" points=\"\n",
       "  1672.95,1486.45 1672.95,1467.55 \n",
       "  \"/>\n",
       "<polyline clip-path=\"url(#clip510)\" style=\"stroke:#000000; stroke-linecap:butt; stroke-linejoin:round; stroke-width:4; stroke-opacity:1; fill:none\" points=\"\n",
       "  2084.95,1486.45 2084.95,1467.55 \n",
       "  \"/>\n",
       "<path clip-path=\"url(#clip510)\" d=\"M415.699 1544.91 L432.018 1544.91 L432.018 1548.85 L410.074 1548.85 L410.074 1544.91 Q412.736 1542.16 417.319 1537.53 Q421.926 1532.88 423.106 1531.53 Q425.352 1529.01 426.231 1527.27 Q427.134 1525.51 427.134 1523.82 Q427.134 1521.07 425.19 1519.33 Q423.268 1517.6 420.166 1517.6 Q417.967 1517.6 415.514 1518.36 Q413.083 1519.13 410.305 1520.68 L410.305 1515.95 Q413.129 1514.82 415.583 1514.24 Q418.037 1513.66 420.074 1513.66 Q425.444 1513.66 428.639 1516.35 Q431.833 1519.03 431.833 1523.52 Q431.833 1525.65 431.023 1527.57 Q430.236 1529.47 428.129 1532.07 Q427.551 1532.74 424.449 1535.95 Q421.347 1539.15 415.699 1544.91 Z\" fill=\"#000000\" fill-rule=\"evenodd\" fill-opacity=\"1\" /><path clip-path=\"url(#clip510)\" d=\"M451.833 1517.37 Q448.222 1517.37 446.393 1520.93 Q444.588 1524.47 444.588 1531.6 Q444.588 1538.71 446.393 1542.27 Q448.222 1545.82 451.833 1545.82 Q455.467 1545.82 457.273 1542.27 Q459.101 1538.71 459.101 1531.6 Q459.101 1524.47 457.273 1520.93 Q455.467 1517.37 451.833 1517.37 M451.833 1513.66 Q457.643 1513.66 460.699 1518.27 Q463.777 1522.85 463.777 1531.6 Q463.777 1540.33 460.699 1544.94 Q457.643 1549.52 451.833 1549.52 Q446.023 1549.52 442.944 1544.94 Q439.889 1540.33 439.889 1531.6 Q439.889 1522.85 442.944 1518.27 Q446.023 1513.66 451.833 1513.66 Z\" fill=\"#000000\" fill-rule=\"evenodd\" fill-opacity=\"1\" /><path clip-path=\"url(#clip510)\" d=\"M837.103 1518.36 L825.298 1536.81 L837.103 1536.81 L837.103 1518.36 M835.877 1514.29 L841.756 1514.29 L841.756 1536.81 L846.687 1536.81 L846.687 1540.7 L841.756 1540.7 L841.756 1548.85 L837.103 1548.85 L837.103 1540.7 L821.502 1540.7 L821.502 1536.19 L835.877 1514.29 Z\" fill=\"#000000\" fill-rule=\"evenodd\" fill-opacity=\"1\" /><path clip-path=\"url(#clip510)\" d=\"M864.418 1517.37 Q860.807 1517.37 858.978 1520.93 Q857.173 1524.47 857.173 1531.6 Q857.173 1538.71 858.978 1542.27 Q860.807 1545.82 864.418 1545.82 Q868.052 1545.82 869.858 1542.27 Q871.687 1538.71 871.687 1531.6 Q871.687 1524.47 869.858 1520.93 Q868.052 1517.37 864.418 1517.37 M864.418 1513.66 Q870.228 1513.66 873.284 1518.27 Q876.362 1522.85 876.362 1531.6 Q876.362 1540.33 873.284 1544.94 Q870.228 1549.52 864.418 1549.52 Q858.608 1549.52 855.529 1544.94 Q852.474 1540.33 852.474 1531.6 Q852.474 1522.85 855.529 1518.27 Q858.608 1513.66 864.418 1513.66 Z\" fill=\"#000000\" fill-rule=\"evenodd\" fill-opacity=\"1\" /><path clip-path=\"url(#clip510)\" d=\"M1246.34 1529.7 Q1243.2 1529.7 1241.34 1531.86 Q1239.52 1534.01 1239.52 1537.76 Q1239.52 1541.49 1241.34 1543.66 Q1243.2 1545.82 1246.34 1545.82 Q1249.49 1545.82 1251.32 1543.66 Q1253.17 1541.49 1253.17 1537.76 Q1253.17 1534.01 1251.32 1531.86 Q1249.49 1529.7 1246.34 1529.7 M1255.63 1515.05 L1255.63 1519.31 Q1253.87 1518.48 1252.06 1518.04 Q1250.28 1517.6 1248.52 1517.6 Q1243.89 1517.6 1241.44 1520.72 Q1239.01 1523.85 1238.66 1530.17 Q1240.02 1528.15 1242.08 1527.09 Q1244.14 1526 1246.62 1526 Q1251.83 1526 1254.84 1529.17 Q1257.87 1532.32 1257.87 1537.76 Q1257.87 1543.08 1254.72 1546.3 Q1251.58 1549.52 1246.34 1549.52 Q1240.35 1549.52 1237.18 1544.94 Q1234.01 1540.33 1234.01 1531.6 Q1234.01 1523.41 1237.89 1518.55 Q1241.78 1513.66 1248.33 1513.66 Q1250.09 1513.66 1251.88 1514.01 Q1253.68 1514.36 1255.63 1515.05 Z\" fill=\"#000000\" fill-rule=\"evenodd\" fill-opacity=\"1\" /><path clip-path=\"url(#clip510)\" d=\"M1275.93 1517.37 Q1272.32 1517.37 1270.49 1520.93 Q1268.68 1524.47 1268.68 1531.6 Q1268.68 1538.71 1270.49 1542.27 Q1272.32 1545.82 1275.93 1545.82 Q1279.56 1545.82 1281.37 1542.27 Q1283.2 1538.71 1283.2 1531.6 Q1283.2 1524.47 1281.37 1520.93 Q1279.56 1517.37 1275.93 1517.37 M1275.93 1513.66 Q1281.74 1513.66 1284.79 1518.27 Q1287.87 1522.85 1287.87 1531.6 Q1287.87 1540.33 1284.79 1544.94 Q1281.74 1549.52 1275.93 1549.52 Q1270.12 1549.52 1267.04 1544.94 Q1263.98 1540.33 1263.98 1531.6 Q1263.98 1522.85 1267.04 1518.27 Q1270.12 1513.66 1275.93 1513.66 Z\" fill=\"#000000\" fill-rule=\"evenodd\" fill-opacity=\"1\" /><path clip-path=\"url(#clip510)\" d=\"M1657.82 1532.44 Q1654.48 1532.44 1652.56 1534.22 Q1650.67 1536 1650.67 1539.13 Q1650.67 1542.25 1652.56 1544.03 Q1654.48 1545.82 1657.82 1545.82 Q1661.15 1545.82 1663.07 1544.03 Q1664.99 1542.23 1664.99 1539.13 Q1664.99 1536 1663.07 1534.22 Q1661.17 1532.44 1657.82 1532.44 M1653.14 1530.45 Q1650.13 1529.7 1648.44 1527.64 Q1646.78 1525.58 1646.78 1522.62 Q1646.78 1518.48 1649.72 1516.07 Q1652.68 1513.66 1657.82 1513.66 Q1662.98 1513.66 1665.92 1516.07 Q1668.86 1518.48 1668.86 1522.62 Q1668.86 1525.58 1667.17 1527.64 Q1665.5 1529.7 1662.52 1530.45 Q1665.9 1531.23 1667.77 1533.52 Q1669.67 1535.82 1669.67 1539.13 Q1669.67 1544.15 1666.59 1546.83 Q1663.54 1549.52 1657.82 1549.52 Q1652.1 1549.52 1649.02 1546.83 Q1645.97 1544.15 1645.97 1539.13 Q1645.97 1535.82 1647.86 1533.52 Q1649.76 1531.23 1653.14 1530.45 M1651.43 1523.06 Q1651.43 1525.75 1653.1 1527.25 Q1654.79 1528.76 1657.82 1528.76 Q1660.83 1528.76 1662.52 1527.25 Q1664.23 1525.75 1664.23 1523.06 Q1664.23 1520.38 1662.52 1518.87 Q1660.83 1517.37 1657.82 1517.37 Q1654.79 1517.37 1653.1 1518.87 Q1651.43 1520.38 1651.43 1523.06 Z\" fill=\"#000000\" fill-rule=\"evenodd\" fill-opacity=\"1\" /><path clip-path=\"url(#clip510)\" d=\"M1687.98 1517.37 Q1684.37 1517.37 1682.54 1520.93 Q1680.73 1524.47 1680.73 1531.6 Q1680.73 1538.71 1682.54 1542.27 Q1684.37 1545.82 1687.98 1545.82 Q1691.61 1545.82 1693.42 1542.27 Q1695.25 1538.71 1695.25 1531.6 Q1695.25 1524.47 1693.42 1520.93 Q1691.61 1517.37 1687.98 1517.37 M1687.98 1513.66 Q1693.79 1513.66 1696.85 1518.27 Q1699.92 1522.85 1699.92 1531.6 Q1699.92 1540.33 1696.85 1544.94 Q1693.79 1549.52 1687.98 1549.52 Q1682.17 1549.52 1679.09 1544.94 Q1676.04 1540.33 1676.04 1531.6 Q1676.04 1522.85 1679.09 1518.27 Q1682.17 1513.66 1687.98 1513.66 Z\" fill=\"#000000\" fill-rule=\"evenodd\" fill-opacity=\"1\" /><path clip-path=\"url(#clip510)\" d=\"M2044.56 1544.91 L2052.2 1544.91 L2052.2 1518.55 L2043.89 1520.21 L2043.89 1515.95 L2052.15 1514.29 L2056.83 1514.29 L2056.83 1544.91 L2064.47 1544.91 L2064.47 1548.85 L2044.56 1548.85 L2044.56 1544.91 Z\" fill=\"#000000\" fill-rule=\"evenodd\" fill-opacity=\"1\" /><path clip-path=\"url(#clip510)\" d=\"M2083.91 1517.37 Q2080.3 1517.37 2078.47 1520.93 Q2076.66 1524.47 2076.66 1531.6 Q2076.66 1538.71 2078.47 1542.27 Q2080.3 1545.82 2083.91 1545.82 Q2087.54 1545.82 2089.35 1542.27 Q2091.18 1538.71 2091.18 1531.6 Q2091.18 1524.47 2089.35 1520.93 Q2087.54 1517.37 2083.91 1517.37 M2083.91 1513.66 Q2089.72 1513.66 2092.78 1518.27 Q2095.85 1522.85 2095.85 1531.6 Q2095.85 1540.33 2092.78 1544.94 Q2089.72 1549.52 2083.91 1549.52 Q2078.1 1549.52 2075.02 1544.94 Q2071.97 1540.33 2071.97 1531.6 Q2071.97 1522.85 2075.02 1518.27 Q2078.1 1513.66 2083.91 1513.66 Z\" fill=\"#000000\" fill-rule=\"evenodd\" fill-opacity=\"1\" /><path clip-path=\"url(#clip510)\" d=\"M2114.07 1517.37 Q2110.46 1517.37 2108.63 1520.93 Q2106.83 1524.47 2106.83 1531.6 Q2106.83 1538.71 2108.63 1542.27 Q2110.46 1545.82 2114.07 1545.82 Q2117.71 1545.82 2119.51 1542.27 Q2121.34 1538.71 2121.34 1531.6 Q2121.34 1524.47 2119.51 1520.93 Q2117.71 1517.37 2114.07 1517.37 M2114.07 1513.66 Q2119.88 1513.66 2122.94 1518.27 Q2126.02 1522.85 2126.02 1531.6 Q2126.02 1540.33 2122.94 1544.94 Q2119.88 1549.52 2114.07 1549.52 Q2108.26 1549.52 2105.18 1544.94 Q2102.13 1540.33 2102.13 1531.6 Q2102.13 1522.85 2105.18 1518.27 Q2108.26 1513.66 2114.07 1513.66 Z\" fill=\"#000000\" fill-rule=\"evenodd\" fill-opacity=\"1\" /><polyline clip-path=\"url(#clip512)\" style=\"stroke:#000000; stroke-linecap:butt; stroke-linejoin:round; stroke-width:2; stroke-opacity:0.1; fill:none\" points=\"\n",
       "  169.121,1348.62 2352.76,1348.62 \n",
       "  \"/>\n",
       "<polyline clip-path=\"url(#clip512)\" style=\"stroke:#000000; stroke-linecap:butt; stroke-linejoin:round; stroke-width:2; stroke-opacity:0.1; fill:none\" points=\"\n",
       "  169.121,1154.43 2352.76,1154.43 \n",
       "  \"/>\n",
       "<polyline clip-path=\"url(#clip512)\" style=\"stroke:#000000; stroke-linecap:butt; stroke-linejoin:round; stroke-width:2; stroke-opacity:0.1; fill:none\" points=\"\n",
       "  169.121,960.242 2352.76,960.242 \n",
       "  \"/>\n",
       "<polyline clip-path=\"url(#clip512)\" style=\"stroke:#000000; stroke-linecap:butt; stroke-linejoin:round; stroke-width:2; stroke-opacity:0.1; fill:none\" points=\"\n",
       "  169.121,766.052 2352.76,766.052 \n",
       "  \"/>\n",
       "<polyline clip-path=\"url(#clip512)\" style=\"stroke:#000000; stroke-linecap:butt; stroke-linejoin:round; stroke-width:2; stroke-opacity:0.1; fill:none\" points=\"\n",
       "  169.121,571.862 2352.76,571.862 \n",
       "  \"/>\n",
       "<polyline clip-path=\"url(#clip512)\" style=\"stroke:#000000; stroke-linecap:butt; stroke-linejoin:round; stroke-width:2; stroke-opacity:0.1; fill:none\" points=\"\n",
       "  169.121,377.673 2352.76,377.673 \n",
       "  \"/>\n",
       "<polyline clip-path=\"url(#clip512)\" style=\"stroke:#000000; stroke-linecap:butt; stroke-linejoin:round; stroke-width:2; stroke-opacity:0.1; fill:none\" points=\"\n",
       "  169.121,183.483 2352.76,183.483 \n",
       "  \"/>\n",
       "<polyline clip-path=\"url(#clip510)\" style=\"stroke:#000000; stroke-linecap:butt; stroke-linejoin:round; stroke-width:4; stroke-opacity:1; fill:none\" points=\"\n",
       "  169.121,1486.45 169.121,47.2441 \n",
       "  \"/>\n",
       "<polyline clip-path=\"url(#clip510)\" style=\"stroke:#000000; stroke-linecap:butt; stroke-linejoin:round; stroke-width:4; stroke-opacity:1; fill:none\" points=\"\n",
       "  169.121,1348.62 188.019,1348.62 \n",
       "  \"/>\n",
       "<polyline clip-path=\"url(#clip510)\" style=\"stroke:#000000; stroke-linecap:butt; stroke-linejoin:round; stroke-width:4; stroke-opacity:1; fill:none\" points=\"\n",
       "  169.121,1154.43 188.019,1154.43 \n",
       "  \"/>\n",
       "<polyline clip-path=\"url(#clip510)\" style=\"stroke:#000000; stroke-linecap:butt; stroke-linejoin:round; stroke-width:4; stroke-opacity:1; fill:none\" points=\"\n",
       "  169.121,960.242 188.019,960.242 \n",
       "  \"/>\n",
       "<polyline clip-path=\"url(#clip510)\" style=\"stroke:#000000; stroke-linecap:butt; stroke-linejoin:round; stroke-width:4; stroke-opacity:1; fill:none\" points=\"\n",
       "  169.121,766.052 188.019,766.052 \n",
       "  \"/>\n",
       "<polyline clip-path=\"url(#clip510)\" style=\"stroke:#000000; stroke-linecap:butt; stroke-linejoin:round; stroke-width:4; stroke-opacity:1; fill:none\" points=\"\n",
       "  169.121,571.862 188.019,571.862 \n",
       "  \"/>\n",
       "<polyline clip-path=\"url(#clip510)\" style=\"stroke:#000000; stroke-linecap:butt; stroke-linejoin:round; stroke-width:4; stroke-opacity:1; fill:none\" points=\"\n",
       "  169.121,377.673 188.019,377.673 \n",
       "  \"/>\n",
       "<polyline clip-path=\"url(#clip510)\" style=\"stroke:#000000; stroke-linecap:butt; stroke-linejoin:round; stroke-width:4; stroke-opacity:1; fill:none\" points=\"\n",
       "  169.121,183.483 188.019,183.483 \n",
       "  \"/>\n",
       "<path clip-path=\"url(#clip510)\" d=\"M85.0429 1361.97 L101.362 1361.97 L101.362 1365.9 L79.4179 1365.9 L79.4179 1361.97 Q82.0799 1359.21 86.6632 1354.58 Q91.2697 1349.93 92.4502 1348.59 Q94.6956 1346.06 95.5752 1344.33 Q96.478 1342.57 96.478 1340.88 Q96.478 1338.12 94.5336 1336.39 Q92.6123 1334.65 89.5104 1334.65 Q87.3114 1334.65 84.8577 1335.41 Q82.4271 1336.18 79.6494 1337.73 L79.6494 1333.01 Q82.4734 1331.87 84.9271 1331.29 Q87.3808 1330.72 89.4178 1330.72 Q94.7882 1330.72 97.9826 1333.4 Q101.177 1336.09 101.177 1340.58 Q101.177 1342.71 100.367 1344.63 Q99.5798 1346.53 97.4734 1349.12 Q96.8947 1349.79 93.7928 1353.01 Q90.691 1356.2 85.0429 1361.97 Z\" fill=\"#000000\" fill-rule=\"evenodd\" fill-opacity=\"1\" /><path clip-path=\"url(#clip510)\" d=\"M121.177 1334.42 Q117.566 1334.42 115.737 1337.98 Q113.932 1341.53 113.932 1348.66 Q113.932 1355.76 115.737 1359.33 Q117.566 1362.87 121.177 1362.87 Q124.811 1362.87 126.617 1359.33 Q128.445 1355.76 128.445 1348.66 Q128.445 1341.53 126.617 1337.98 Q124.811 1334.42 121.177 1334.42 M121.177 1330.72 Q126.987 1330.72 130.043 1335.32 Q133.121 1339.91 133.121 1348.66 Q133.121 1357.38 130.043 1361.99 Q126.987 1366.57 121.177 1366.57 Q115.367 1366.57 112.288 1361.99 Q109.233 1357.38 109.233 1348.66 Q109.233 1339.91 112.288 1335.32 Q115.367 1330.72 121.177 1330.72 Z\" fill=\"#000000\" fill-rule=\"evenodd\" fill-opacity=\"1\" /><path clip-path=\"url(#clip510)\" d=\"M93.8623 1141.23 L82.0568 1159.67 L93.8623 1159.67 L93.8623 1141.23 M92.6354 1137.15 L98.515 1137.15 L98.515 1159.67 L103.446 1159.67 L103.446 1163.56 L98.515 1163.56 L98.515 1171.71 L93.8623 1171.71 L93.8623 1163.56 L78.2605 1163.56 L78.2605 1159.05 L92.6354 1137.15 Z\" fill=\"#000000\" fill-rule=\"evenodd\" fill-opacity=\"1\" /><path clip-path=\"url(#clip510)\" d=\"M121.177 1140.23 Q117.566 1140.23 115.737 1143.79 Q113.932 1147.34 113.932 1154.47 Q113.932 1161.57 115.737 1165.14 Q117.566 1168.68 121.177 1168.68 Q124.811 1168.68 126.617 1165.14 Q128.445 1161.57 128.445 1154.47 Q128.445 1147.34 126.617 1143.79 Q124.811 1140.23 121.177 1140.23 M121.177 1136.53 Q126.987 1136.53 130.043 1141.13 Q133.121 1145.72 133.121 1154.47 Q133.121 1163.19 130.043 1167.8 Q126.987 1172.38 121.177 1172.38 Q115.367 1172.38 112.288 1167.8 Q109.233 1163.19 109.233 1154.47 Q109.233 1145.72 112.288 1141.13 Q115.367 1136.53 121.177 1136.53 Z\" fill=\"#000000\" fill-rule=\"evenodd\" fill-opacity=\"1\" /><path clip-path=\"url(#clip510)\" d=\"M91.5938 958.378 Q88.4456 958.378 86.5938 960.531 Q84.7651 962.684 84.7651 966.434 Q84.7651 970.161 86.5938 972.336 Q88.4456 974.489 91.5938 974.489 Q94.7419 974.489 96.5706 972.336 Q98.4224 970.161 98.4224 966.434 Q98.4224 962.684 96.5706 960.531 Q94.7419 958.378 91.5938 958.378 M100.876 943.725 L100.876 947.985 Q99.1169 947.151 97.3113 946.712 Q95.5289 946.272 93.7697 946.272 Q89.1401 946.272 86.6864 949.397 Q84.2558 952.522 83.9086 958.841 Q85.2743 956.827 87.3345 955.762 Q89.3947 954.675 91.8715 954.675 Q97.0798 954.675 100.089 957.846 Q103.121 960.994 103.121 966.434 Q103.121 971.758 99.9733 974.975 Q96.8252 978.193 91.5938 978.193 Q85.5984 978.193 82.4271 973.61 Q79.2559 969.003 79.2559 960.276 Q79.2559 952.082 83.1447 947.221 Q87.0336 942.337 93.5845 942.337 Q95.3437 942.337 97.1261 942.684 Q98.9317 943.031 100.876 943.725 Z\" fill=\"#000000\" fill-rule=\"evenodd\" fill-opacity=\"1\" /><path clip-path=\"url(#clip510)\" d=\"M121.177 946.04 Q117.566 946.04 115.737 949.605 Q113.932 953.147 113.932 960.276 Q113.932 967.383 115.737 970.948 Q117.566 974.489 121.177 974.489 Q124.811 974.489 126.617 970.948 Q128.445 967.383 128.445 960.276 Q128.445 953.147 126.617 949.605 Q124.811 946.04 121.177 946.04 M121.177 942.337 Q126.987 942.337 130.043 946.943 Q133.121 951.526 133.121 960.276 Q133.121 969.003 130.043 973.61 Q126.987 978.193 121.177 978.193 Q115.367 978.193 112.288 973.61 Q109.233 969.003 109.233 960.276 Q109.233 951.526 112.288 946.943 Q115.367 942.337 121.177 942.337 Z\" fill=\"#000000\" fill-rule=\"evenodd\" fill-opacity=\"1\" /><path clip-path=\"url(#clip510)\" d=\"M91.0151 766.92 Q87.6817 766.92 85.7605 768.702 Q83.8623 770.485 83.8623 773.61 Q83.8623 776.735 85.7605 778.517 Q87.6817 780.3 91.0151 780.3 Q94.3484 780.3 96.2697 778.517 Q98.1909 776.712 98.1909 773.61 Q98.1909 770.485 96.2697 768.702 Q94.3715 766.92 91.0151 766.92 M86.3392 764.929 Q83.3299 764.189 81.6401 762.128 Q79.9735 760.068 79.9735 757.105 Q79.9735 752.962 82.9133 750.554 Q85.8762 748.147 91.0151 748.147 Q96.1771 748.147 99.1169 750.554 Q102.057 752.962 102.057 757.105 Q102.057 760.068 100.367 762.128 Q98.7002 764.189 95.7141 764.929 Q99.0937 765.716 100.969 768.008 Q102.867 770.3 102.867 773.61 Q102.867 778.633 99.7882 781.318 Q96.7326 784.003 91.0151 784.003 Q85.2975 784.003 82.2188 781.318 Q79.1633 778.633 79.1633 773.61 Q79.1633 770.3 81.0614 768.008 Q82.9595 765.716 86.3392 764.929 M84.6262 757.545 Q84.6262 760.23 86.2929 761.735 Q87.9827 763.239 91.0151 763.239 Q94.0243 763.239 95.7141 761.735 Q97.4271 760.23 97.4271 757.545 Q97.4271 754.86 95.7141 753.355 Q94.0243 751.851 91.0151 751.851 Q87.9827 751.851 86.2929 753.355 Q84.6262 754.86 84.6262 757.545 Z\" fill=\"#000000\" fill-rule=\"evenodd\" fill-opacity=\"1\" /><path clip-path=\"url(#clip510)\" d=\"M121.177 751.851 Q117.566 751.851 115.737 755.415 Q113.932 758.957 113.932 766.087 Q113.932 773.193 115.737 776.758 Q117.566 780.3 121.177 780.3 Q124.811 780.3 126.617 776.758 Q128.445 773.193 128.445 766.087 Q128.445 758.957 126.617 755.415 Q124.811 751.851 121.177 751.851 M121.177 748.147 Q126.987 748.147 130.043 752.753 Q133.121 757.337 133.121 766.087 Q133.121 774.813 130.043 779.42 Q126.987 784.003 121.177 784.003 Q115.367 784.003 112.288 779.42 Q109.233 774.813 109.233 766.087 Q109.233 757.337 112.288 752.753 Q115.367 748.147 121.177 748.147 Z\" fill=\"#000000\" fill-rule=\"evenodd\" fill-opacity=\"1\" /><path clip-path=\"url(#clip510)\" d=\"M51.6634 585.207 L59.3023 585.207 L59.3023 558.842 L50.9921 560.508 L50.9921 556.249 L59.256 554.582 L63.9319 554.582 L63.9319 585.207 L71.5707 585.207 L71.5707 589.142 L51.6634 589.142 L51.6634 585.207 Z\" fill=\"#000000\" fill-rule=\"evenodd\" fill-opacity=\"1\" /><path clip-path=\"url(#clip510)\" d=\"M91.0151 557.661 Q87.404 557.661 85.5753 561.226 Q83.7697 564.767 83.7697 571.897 Q83.7697 579.004 85.5753 582.568 Q87.404 586.11 91.0151 586.11 Q94.6493 586.11 96.4548 582.568 Q98.2835 579.004 98.2835 571.897 Q98.2835 564.767 96.4548 561.226 Q94.6493 557.661 91.0151 557.661 M91.0151 553.957 Q96.8252 553.957 99.8808 558.564 Q102.959 563.147 102.959 571.897 Q102.959 580.624 99.8808 585.23 Q96.8252 589.814 91.0151 589.814 Q85.2049 589.814 82.1262 585.23 Q79.0707 580.624 79.0707 571.897 Q79.0707 563.147 82.1262 558.564 Q85.2049 553.957 91.0151 553.957 Z\" fill=\"#000000\" fill-rule=\"evenodd\" fill-opacity=\"1\" /><path clip-path=\"url(#clip510)\" d=\"M121.177 557.661 Q117.566 557.661 115.737 561.226 Q113.932 564.767 113.932 571.897 Q113.932 579.004 115.737 582.568 Q117.566 586.11 121.177 586.11 Q124.811 586.11 126.617 582.568 Q128.445 579.004 128.445 571.897 Q128.445 564.767 126.617 561.226 Q124.811 557.661 121.177 557.661 M121.177 553.957 Q126.987 553.957 130.043 558.564 Q133.121 563.147 133.121 571.897 Q133.121 580.624 130.043 585.23 Q126.987 589.814 121.177 589.814 Q115.367 589.814 112.288 585.23 Q109.233 580.624 109.233 571.897 Q109.233 563.147 112.288 558.564 Q115.367 553.957 121.177 553.957 Z\" fill=\"#000000\" fill-rule=\"evenodd\" fill-opacity=\"1\" /><path clip-path=\"url(#clip510)\" d=\"M51.6634 391.018 L59.3023 391.018 L59.3023 364.652 L50.9921 366.319 L50.9921 362.059 L59.256 360.393 L63.9319 360.393 L63.9319 391.018 L71.5707 391.018 L71.5707 394.953 L51.6634 394.953 L51.6634 391.018 Z\" fill=\"#000000\" fill-rule=\"evenodd\" fill-opacity=\"1\" /><path clip-path=\"url(#clip510)\" d=\"M85.0429 391.018 L101.362 391.018 L101.362 394.953 L79.4179 394.953 L79.4179 391.018 Q82.0799 388.263 86.6632 383.633 Q91.2697 378.981 92.4502 377.638 Q94.6956 375.115 95.5752 373.379 Q96.478 371.619 96.478 369.93 Q96.478 367.175 94.5336 365.439 Q92.6123 363.703 89.5104 363.703 Q87.3114 363.703 84.8577 364.467 Q82.4271 365.231 79.6494 366.782 L79.6494 362.059 Q82.4734 360.925 84.9271 360.346 Q87.3808 359.768 89.4178 359.768 Q94.7882 359.768 97.9826 362.453 Q101.177 365.138 101.177 369.629 Q101.177 371.758 100.367 373.68 Q99.5798 375.578 97.4734 378.17 Q96.8947 378.842 93.7928 382.059 Q90.691 385.254 85.0429 391.018 Z\" fill=\"#000000\" fill-rule=\"evenodd\" fill-opacity=\"1\" /><path clip-path=\"url(#clip510)\" d=\"M121.177 363.471 Q117.566 363.471 115.737 367.036 Q113.932 370.578 113.932 377.707 Q113.932 384.814 115.737 388.379 Q117.566 391.92 121.177 391.92 Q124.811 391.92 126.617 388.379 Q128.445 384.814 128.445 377.707 Q128.445 370.578 126.617 367.036 Q124.811 363.471 121.177 363.471 M121.177 359.768 Q126.987 359.768 130.043 364.374 Q133.121 368.957 133.121 377.707 Q133.121 386.434 130.043 391.041 Q126.987 395.624 121.177 395.624 Q115.367 395.624 112.288 391.041 Q109.233 386.434 109.233 377.707 Q109.233 368.957 112.288 364.374 Q115.367 359.768 121.177 359.768 Z\" fill=\"#000000\" fill-rule=\"evenodd\" fill-opacity=\"1\" /><path clip-path=\"url(#clip510)\" d=\"M51.6634 196.828 L59.3023 196.828 L59.3023 170.462 L50.9921 172.129 L50.9921 167.87 L59.256 166.203 L63.9319 166.203 L63.9319 196.828 L71.5707 196.828 L71.5707 200.763 L51.6634 200.763 L51.6634 196.828 Z\" fill=\"#000000\" fill-rule=\"evenodd\" fill-opacity=\"1\" /><path clip-path=\"url(#clip510)\" d=\"M93.8623 170.277 L82.0568 188.726 L93.8623 188.726 L93.8623 170.277 M92.6354 166.203 L98.515 166.203 L98.515 188.726 L103.446 188.726 L103.446 192.615 L98.515 192.615 L98.515 200.763 L93.8623 200.763 L93.8623 192.615 L78.2605 192.615 L78.2605 188.101 L92.6354 166.203 Z\" fill=\"#000000\" fill-rule=\"evenodd\" fill-opacity=\"1\" /><path clip-path=\"url(#clip510)\" d=\"M121.177 169.282 Q117.566 169.282 115.737 172.847 Q113.932 176.388 113.932 183.518 Q113.932 190.624 115.737 194.189 Q117.566 197.731 121.177 197.731 Q124.811 197.731 126.617 194.189 Q128.445 190.624 128.445 183.518 Q128.445 176.388 126.617 172.847 Q124.811 169.282 121.177 169.282 M121.177 165.578 Q126.987 165.578 130.043 170.185 Q133.121 174.768 133.121 183.518 Q133.121 192.245 130.043 196.851 Q126.987 201.434 121.177 201.434 Q115.367 201.434 112.288 196.851 Q109.233 192.245 109.233 183.518 Q109.233 174.768 112.288 170.185 Q115.367 165.578 121.177 165.578 Z\" fill=\"#000000\" fill-rule=\"evenodd\" fill-opacity=\"1\" /><circle clip-path=\"url(#clip512)\" cx=\"1157.94\" cy=\"1241.82\" r=\"10\" fill=\"#0000ff\" fill-rule=\"evenodd\" fill-opacity=\"1\" stroke=\"#000000\" stroke-opacity=\"1\" stroke-width=\"3.2\"/>\n",
       "<circle clip-path=\"url(#clip512)\" cx=\"2084.95\" cy=\"746.633\" r=\"10\" fill=\"#0000ff\" fill-rule=\"evenodd\" fill-opacity=\"1\" stroke=\"#000000\" stroke-opacity=\"1\" stroke-width=\"3.2\"/>\n",
       "<circle clip-path=\"url(#clip512)\" cx=\"642.929\" cy=\"1300.07\" r=\"10\" fill=\"#0000ff\" fill-rule=\"evenodd\" fill-opacity=\"1\" stroke=\"#000000\" stroke-opacity=\"1\" stroke-width=\"3.2\"/>\n",
       "<circle clip-path=\"url(#clip512)\" cx=\"1260.94\" cy=\"1290.36\" r=\"10\" fill=\"#0000ff\" fill-rule=\"evenodd\" fill-opacity=\"1\" stroke=\"#000000\" stroke-opacity=\"1\" stroke-width=\"3.2\"/>\n",
       "<circle clip-path=\"url(#clip512)\" cx=\"848.932\" cy=\"1329.2\" r=\"10\" fill=\"#0000ff\" fill-rule=\"evenodd\" fill-opacity=\"1\" stroke=\"#000000\" stroke-opacity=\"1\" stroke-width=\"3.2\"/>\n",
       "<circle clip-path=\"url(#clip512)\" cx=\"1796.55\" cy=\"960.242\" r=\"10\" fill=\"#0000ff\" fill-rule=\"evenodd\" fill-opacity=\"1\" stroke=\"#000000\" stroke-opacity=\"1\" stroke-width=\"3.2\"/>\n",
       "<circle clip-path=\"url(#clip512)\" cx=\"436.926\" cy=\"1338.91\" r=\"10\" fill=\"#0000ff\" fill-rule=\"evenodd\" fill-opacity=\"1\" stroke=\"#000000\" stroke-opacity=\"1\" stroke-width=\"3.2\"/>\n",
       "<circle clip-path=\"url(#clip512)\" cx=\"1363.94\" cy=\"1251.53\" r=\"10\" fill=\"#0000ff\" fill-rule=\"evenodd\" fill-opacity=\"1\" stroke=\"#000000\" stroke-opacity=\"1\" stroke-width=\"3.2\"/>\n",
       "<circle clip-path=\"url(#clip512)\" cx=\"539.927\" cy=\"1445.72\" r=\"10\" fill=\"#0000ff\" fill-rule=\"evenodd\" fill-opacity=\"1\" stroke=\"#000000\" stroke-opacity=\"1\" stroke-width=\"3.2\"/>\n",
       "<circle clip-path=\"url(#clip512)\" cx=\"848.932\" cy=\"1251.53\" r=\"10\" fill=\"#0000ff\" fill-rule=\"evenodd\" fill-opacity=\"1\" stroke=\"#000000\" stroke-opacity=\"1\" stroke-width=\"3.2\"/>\n",
       "<circle clip-path=\"url(#clip512)\" cx=\"2290.95\" cy=\"863.147\" r=\"10\" fill=\"#0000ff\" fill-rule=\"evenodd\" fill-opacity=\"1\" stroke=\"#000000\" stroke-opacity=\"1\" stroke-width=\"3.2\"/>\n",
       "<polyline clip-path=\"url(#clip512)\" style=\"stroke:#e26f46; stroke-linecap:butt; stroke-linejoin:round; stroke-width:4; stroke-opacity:1; fill:none\" points=\"\n",
       "  230.922,1394.41 251.04,1393.1 437.059,1379.76 548.849,1370.54 643.366,1361.89 746.038,1351.44 840.692,1340.69 942.171,1327.73 1059.74,1310.47 1164.23,1292.63 \n",
       "  1255.86,1274.57 1355.75,1251.65 1456.24,1224.27 1567.34,1187.31 1673.06,1143.2 1728.01,1115.64 1782.97,1084 1829.23,1053.49 1875.5,1018.64 1931.98,968.71 \n",
       "  1988.46,908.268 2015.01,875.234 2041.56,838.572 2068.1,797.649 2094.65,751.677 2115.92,710.546 2137.18,664.904 2158.45,613.966 2179.71,556.753 2200.98,492.029 \n",
       "  2222.24,418.211 2243.51,333.238 2264.77,234.374 2271.32,200.608 2277.86,165.053 2284.41,127.563 2290.95,87.9763 \n",
       "  \"/>\n",
       "</svg>\n"
      ]
     },
     "execution_count": 146,
     "metadata": {},
     "output_type": "execute_result"
    }
   ],
   "source": [
    "# Exemplo 2\n",
    "pontos_x = [55; 100; 30; 60; 40; 86; 20; 65; 25; 40; 110]\n",
    "pontos_y = [31; 82; 25; 26; 22; 60; 21; 30; 10; 30; 70]\n",
    "\n",
    "c_barra=regressão_função_geometrica(pontos_x, pontos_y)\n",
    "c1=c_barra[1]\n",
    "c2=c_barra[2]\n",
    "#Retornando o modelo geometrico\n",
    "geometrico(x)=1/(c1+c2*x)\n",
    "\n",
    "#Plotando os pontos x e y passados\n",
    "scatter(pontos_x, pontos_y, c=:blue, ms=3, leg=false)\n",
    "plot!(geometrico,10,110)"
   ]
  },
  {
   "cell_type": "code",
   "execution_count": 147,
   "id": "e9b73842",
   "metadata": {},
   "outputs": [
    {
     "data": {
      "image/svg+xml": [
       "<?xml version=\"1.0\" encoding=\"utf-8\"?>\n",
       "<svg xmlns=\"http://www.w3.org/2000/svg\" xmlns:xlink=\"http://www.w3.org/1999/xlink\" width=\"600\" height=\"400\" viewBox=\"0 0 2400 1600\">\n",
       "<defs>\n",
       "  <clipPath id=\"clip550\">\n",
       "    <rect x=\"0\" y=\"0\" width=\"2400\" height=\"1600\"/>\n",
       "  </clipPath>\n",
       "</defs>\n",
       "<path clip-path=\"url(#clip550)\" d=\"\n",
       "M0 1600 L2400 1600 L2400 0 L0 0  Z\n",
       "  \" fill=\"#ffffff\" fill-rule=\"evenodd\" fill-opacity=\"1\"/>\n",
       "<defs>\n",
       "  <clipPath id=\"clip551\">\n",
       "    <rect x=\"480\" y=\"0\" width=\"1681\" height=\"1600\"/>\n",
       "  </clipPath>\n",
       "</defs>\n",
       "<path clip-path=\"url(#clip550)\" d=\"\n",
       "M141.853 1486.45 L2352.76 1486.45 L2352.76 47.2441 L141.853 47.2441  Z\n",
       "  \" fill=\"#ffffff\" fill-rule=\"evenodd\" fill-opacity=\"1\"/>\n",
       "<defs>\n",
       "  <clipPath id=\"clip552\">\n",
       "    <rect x=\"141\" y=\"47\" width=\"2212\" height=\"1440\"/>\n",
       "  </clipPath>\n",
       "</defs>\n",
       "<polyline clip-path=\"url(#clip552)\" style=\"stroke:#000000; stroke-linecap:butt; stroke-linejoin:round; stroke-width:2; stroke-opacity:0.1; fill:none\" points=\"\n",
       "  204.426,1486.45 204.426,47.2441 \n",
       "  \"/>\n",
       "<polyline clip-path=\"url(#clip552)\" style=\"stroke:#000000; stroke-linecap:butt; stroke-linejoin:round; stroke-width:2; stroke-opacity:0.1; fill:none\" points=\"\n",
       "  621.577,1486.45 621.577,47.2441 \n",
       "  \"/>\n",
       "<polyline clip-path=\"url(#clip552)\" style=\"stroke:#000000; stroke-linecap:butt; stroke-linejoin:round; stroke-width:2; stroke-opacity:0.1; fill:none\" points=\"\n",
       "  1038.73,1486.45 1038.73,47.2441 \n",
       "  \"/>\n",
       "<polyline clip-path=\"url(#clip552)\" style=\"stroke:#000000; stroke-linecap:butt; stroke-linejoin:round; stroke-width:2; stroke-opacity:0.1; fill:none\" points=\"\n",
       "  1455.88,1486.45 1455.88,47.2441 \n",
       "  \"/>\n",
       "<polyline clip-path=\"url(#clip552)\" style=\"stroke:#000000; stroke-linecap:butt; stroke-linejoin:round; stroke-width:2; stroke-opacity:0.1; fill:none\" points=\"\n",
       "  1873.03,1486.45 1873.03,47.2441 \n",
       "  \"/>\n",
       "<polyline clip-path=\"url(#clip552)\" style=\"stroke:#000000; stroke-linecap:butt; stroke-linejoin:round; stroke-width:2; stroke-opacity:0.1; fill:none\" points=\"\n",
       "  2290.18,1486.45 2290.18,47.2441 \n",
       "  \"/>\n",
       "<polyline clip-path=\"url(#clip550)\" style=\"stroke:#000000; stroke-linecap:butt; stroke-linejoin:round; stroke-width:4; stroke-opacity:1; fill:none\" points=\"\n",
       "  141.853,1486.45 2352.76,1486.45 \n",
       "  \"/>\n",
       "<polyline clip-path=\"url(#clip550)\" style=\"stroke:#000000; stroke-linecap:butt; stroke-linejoin:round; stroke-width:4; stroke-opacity:1; fill:none\" points=\"\n",
       "  204.426,1486.45 204.426,1467.55 \n",
       "  \"/>\n",
       "<polyline clip-path=\"url(#clip550)\" style=\"stroke:#000000; stroke-linecap:butt; stroke-linejoin:round; stroke-width:4; stroke-opacity:1; fill:none\" points=\"\n",
       "  621.577,1486.45 621.577,1467.55 \n",
       "  \"/>\n",
       "<polyline clip-path=\"url(#clip550)\" style=\"stroke:#000000; stroke-linecap:butt; stroke-linejoin:round; stroke-width:4; stroke-opacity:1; fill:none\" points=\"\n",
       "  1038.73,1486.45 1038.73,1467.55 \n",
       "  \"/>\n",
       "<polyline clip-path=\"url(#clip550)\" style=\"stroke:#000000; stroke-linecap:butt; stroke-linejoin:round; stroke-width:4; stroke-opacity:1; fill:none\" points=\"\n",
       "  1455.88,1486.45 1455.88,1467.55 \n",
       "  \"/>\n",
       "<polyline clip-path=\"url(#clip550)\" style=\"stroke:#000000; stroke-linecap:butt; stroke-linejoin:round; stroke-width:4; stroke-opacity:1; fill:none\" points=\"\n",
       "  1873.03,1486.45 1873.03,1467.55 \n",
       "  \"/>\n",
       "<polyline clip-path=\"url(#clip550)\" style=\"stroke:#000000; stroke-linecap:butt; stroke-linejoin:round; stroke-width:4; stroke-opacity:1; fill:none\" points=\"\n",
       "  2290.18,1486.45 2290.18,1467.55 \n",
       "  \"/>\n",
       "<path clip-path=\"url(#clip550)\" d=\"M179.611 1544.91 L187.25 1544.91 L187.25 1518.55 L178.94 1520.21 L178.94 1515.95 L187.204 1514.29 L191.879 1514.29 L191.879 1544.91 L199.518 1544.91 L199.518 1548.85 L179.611 1548.85 L179.611 1544.91 Z\" fill=\"#000000\" fill-rule=\"evenodd\" fill-opacity=\"1\" /><path clip-path=\"url(#clip550)\" d=\"M209.009 1514.29 L227.365 1514.29 L227.365 1518.22 L213.291 1518.22 L213.291 1526.7 Q214.31 1526.35 215.328 1526.19 Q216.347 1526 217.365 1526 Q223.152 1526 226.532 1529.17 Q229.912 1532.34 229.912 1537.76 Q229.912 1543.34 226.439 1546.44 Q222.967 1549.52 216.648 1549.52 Q214.472 1549.52 212.203 1549.15 Q209.958 1548.78 207.551 1548.04 L207.551 1543.34 Q209.634 1544.47 211.856 1545.03 Q214.078 1545.58 216.555 1545.58 Q220.56 1545.58 222.898 1543.48 Q225.236 1541.37 225.236 1537.76 Q225.236 1534.15 222.898 1532.04 Q220.56 1529.94 216.555 1529.94 Q214.68 1529.94 212.805 1530.35 Q210.953 1530.77 209.009 1531.65 L209.009 1514.29 Z\" fill=\"#000000\" fill-rule=\"evenodd\" fill-opacity=\"1\" /><path clip-path=\"url(#clip550)\" d=\"M596.184 1544.91 L603.823 1544.91 L603.823 1518.55 L595.512 1520.21 L595.512 1515.95 L603.776 1514.29 L608.452 1514.29 L608.452 1544.91 L616.091 1544.91 L616.091 1548.85 L596.184 1548.85 L596.184 1544.91 Z\" fill=\"#000000\" fill-rule=\"evenodd\" fill-opacity=\"1\" /><path clip-path=\"url(#clip550)\" d=\"M636.114 1529.7 Q632.966 1529.7 631.114 1531.86 Q629.285 1534.01 629.285 1537.76 Q629.285 1541.49 631.114 1543.66 Q632.966 1545.82 636.114 1545.82 Q639.262 1545.82 641.091 1543.66 Q642.943 1541.49 642.943 1537.76 Q642.943 1534.01 641.091 1531.86 Q639.262 1529.7 636.114 1529.7 M645.396 1515.05 L645.396 1519.31 Q643.637 1518.48 641.832 1518.04 Q640.049 1517.6 638.29 1517.6 Q633.66 1517.6 631.207 1520.72 Q628.776 1523.85 628.429 1530.17 Q629.795 1528.15 631.855 1527.09 Q633.915 1526 636.392 1526 Q641.6 1526 644.609 1529.17 Q647.642 1532.32 647.642 1537.76 Q647.642 1543.08 644.494 1546.3 Q641.346 1549.52 636.114 1549.52 Q630.119 1549.52 626.948 1544.94 Q623.776 1540.33 623.776 1531.6 Q623.776 1523.41 627.665 1518.55 Q631.554 1513.66 638.105 1513.66 Q639.864 1513.66 641.647 1514.01 Q643.452 1514.36 645.396 1515.05 Z\" fill=\"#000000\" fill-rule=\"evenodd\" fill-opacity=\"1\" /><path clip-path=\"url(#clip550)\" d=\"M1013.87 1544.91 L1021.51 1544.91 L1021.51 1518.55 L1013.2 1520.21 L1013.2 1515.95 L1021.46 1514.29 L1026.14 1514.29 L1026.14 1544.91 L1033.77 1544.91 L1033.77 1548.85 L1013.87 1548.85 L1013.87 1544.91 Z\" fill=\"#000000\" fill-rule=\"evenodd\" fill-opacity=\"1\" /><path clip-path=\"url(#clip550)\" d=\"M1042.04 1514.29 L1064.26 1514.29 L1064.26 1516.28 L1051.71 1548.85 L1046.83 1548.85 L1058.64 1518.22 L1042.04 1518.22 L1042.04 1514.29 Z\" fill=\"#000000\" fill-rule=\"evenodd\" fill-opacity=\"1\" /><path clip-path=\"url(#clip550)\" d=\"M1430.61 1544.91 L1438.25 1544.91 L1438.25 1518.55 L1429.94 1520.21 L1429.94 1515.95 L1438.21 1514.29 L1442.88 1514.29 L1442.88 1544.91 L1450.52 1544.91 L1450.52 1548.85 L1430.61 1548.85 L1430.61 1544.91 Z\" fill=\"#000000\" fill-rule=\"evenodd\" fill-opacity=\"1\" /><path clip-path=\"url(#clip550)\" d=\"M1469.97 1532.44 Q1466.63 1532.44 1464.71 1534.22 Q1462.81 1536 1462.81 1539.13 Q1462.81 1542.25 1464.71 1544.03 Q1466.63 1545.82 1469.97 1545.82 Q1473.3 1545.82 1475.22 1544.03 Q1477.14 1542.23 1477.14 1539.13 Q1477.14 1536 1475.22 1534.22 Q1473.32 1532.44 1469.97 1532.44 M1465.29 1530.45 Q1462.28 1529.7 1460.59 1527.64 Q1458.92 1525.58 1458.92 1522.62 Q1458.92 1518.48 1461.86 1516.07 Q1464.83 1513.66 1469.97 1513.66 Q1475.13 1513.66 1478.07 1516.07 Q1481.01 1518.48 1481.01 1522.62 Q1481.01 1525.58 1479.32 1527.64 Q1477.65 1529.7 1474.66 1530.45 Q1478.04 1531.23 1479.92 1533.52 Q1481.82 1535.82 1481.82 1539.13 Q1481.82 1544.15 1478.74 1546.83 Q1475.68 1549.52 1469.97 1549.52 Q1464.25 1549.52 1461.17 1546.83 Q1458.11 1544.15 1458.11 1539.13 Q1458.11 1535.82 1460.01 1533.52 Q1461.91 1531.23 1465.29 1530.45 M1463.58 1523.06 Q1463.58 1525.75 1465.24 1527.25 Q1466.93 1528.76 1469.97 1528.76 Q1472.97 1528.76 1474.66 1527.25 Q1476.38 1525.75 1476.38 1523.06 Q1476.38 1520.38 1474.66 1518.87 Q1472.97 1517.37 1469.97 1517.37 Q1466.93 1517.37 1465.24 1518.87 Q1463.58 1520.38 1463.58 1523.06 Z\" fill=\"#000000\" fill-rule=\"evenodd\" fill-opacity=\"1\" /><path clip-path=\"url(#clip550)\" d=\"M1847.81 1544.91 L1855.45 1544.91 L1855.45 1518.55 L1847.14 1520.21 L1847.14 1515.95 L1855.4 1514.29 L1860.08 1514.29 L1860.08 1544.91 L1867.72 1544.91 L1867.72 1548.85 L1847.81 1548.85 L1847.81 1544.91 Z\" fill=\"#000000\" fill-rule=\"evenodd\" fill-opacity=\"1\" /><path clip-path=\"url(#clip550)\" d=\"M1877.3 1548.13 L1877.3 1543.87 Q1879.06 1544.7 1880.87 1545.14 Q1882.67 1545.58 1884.41 1545.58 Q1889.04 1545.58 1891.47 1542.48 Q1893.92 1539.36 1894.27 1533.01 Q1892.93 1535.01 1890.87 1536.07 Q1888.81 1537.13 1886.31 1537.13 Q1881.12 1537.13 1878.09 1534.01 Q1875.08 1530.86 1875.08 1525.42 Q1875.08 1520.1 1878.23 1516.88 Q1881.38 1513.66 1886.61 1513.66 Q1892.6 1513.66 1895.75 1518.27 Q1898.92 1522.85 1898.92 1531.6 Q1898.92 1539.77 1895.03 1544.66 Q1891.17 1549.52 1884.62 1549.52 Q1882.86 1549.52 1881.05 1549.17 Q1879.25 1548.82 1877.3 1548.13 M1886.61 1533.48 Q1889.76 1533.48 1891.58 1531.32 Q1893.44 1529.17 1893.44 1525.42 Q1893.44 1521.7 1891.58 1519.54 Q1889.76 1517.37 1886.61 1517.37 Q1883.46 1517.37 1881.61 1519.54 Q1879.78 1521.7 1879.78 1525.42 Q1879.78 1529.17 1881.61 1531.32 Q1883.46 1533.48 1886.61 1533.48 Z\" fill=\"#000000\" fill-rule=\"evenodd\" fill-opacity=\"1\" /><path clip-path=\"url(#clip550)\" d=\"M2268.96 1544.91 L2285.28 1544.91 L2285.28 1548.85 L2263.33 1548.85 L2263.33 1544.91 Q2265.99 1542.16 2270.58 1537.53 Q2275.18 1532.88 2276.36 1531.53 Q2278.61 1529.01 2279.49 1527.27 Q2280.39 1525.51 2280.39 1523.82 Q2280.39 1521.07 2278.45 1519.33 Q2276.53 1517.6 2273.42 1517.6 Q2271.22 1517.6 2268.77 1518.36 Q2266.34 1519.13 2263.56 1520.68 L2263.56 1515.95 Q2266.39 1514.82 2268.84 1514.24 Q2271.29 1513.66 2273.33 1513.66 Q2278.7 1513.66 2281.9 1516.35 Q2285.09 1519.03 2285.09 1523.52 Q2285.09 1525.65 2284.28 1527.57 Q2283.49 1529.47 2281.39 1532.07 Q2280.81 1532.74 2277.71 1535.95 Q2274.6 1539.15 2268.96 1544.91 Z\" fill=\"#000000\" fill-rule=\"evenodd\" fill-opacity=\"1\" /><path clip-path=\"url(#clip550)\" d=\"M2305.09 1517.37 Q2301.48 1517.37 2299.65 1520.93 Q2297.85 1524.47 2297.85 1531.6 Q2297.85 1538.71 2299.65 1542.27 Q2301.48 1545.82 2305.09 1545.82 Q2308.72 1545.82 2310.53 1542.27 Q2312.36 1538.71 2312.36 1531.6 Q2312.36 1524.47 2310.53 1520.93 Q2308.72 1517.37 2305.09 1517.37 M2305.09 1513.66 Q2310.9 1513.66 2313.96 1518.27 Q2317.03 1522.85 2317.03 1531.6 Q2317.03 1540.33 2313.96 1544.94 Q2310.9 1549.52 2305.09 1549.52 Q2299.28 1549.52 2296.2 1544.94 Q2293.15 1540.33 2293.15 1531.6 Q2293.15 1522.85 2296.2 1518.27 Q2299.28 1513.66 2305.09 1513.66 Z\" fill=\"#000000\" fill-rule=\"evenodd\" fill-opacity=\"1\" /><polyline clip-path=\"url(#clip552)\" style=\"stroke:#000000; stroke-linecap:butt; stroke-linejoin:round; stroke-width:2; stroke-opacity:0.1; fill:none\" points=\"\n",
       "  141.853,1445.72 2352.76,1445.72 \n",
       "  \"/>\n",
       "<polyline clip-path=\"url(#clip552)\" style=\"stroke:#000000; stroke-linecap:butt; stroke-linejoin:round; stroke-width:2; stroke-opacity:0.1; fill:none\" points=\"\n",
       "  141.853,1133.81 2352.76,1133.81 \n",
       "  \"/>\n",
       "<polyline clip-path=\"url(#clip552)\" style=\"stroke:#000000; stroke-linecap:butt; stroke-linejoin:round; stroke-width:2; stroke-opacity:0.1; fill:none\" points=\"\n",
       "  141.853,821.907 2352.76,821.907 \n",
       "  \"/>\n",
       "<polyline clip-path=\"url(#clip552)\" style=\"stroke:#000000; stroke-linecap:butt; stroke-linejoin:round; stroke-width:2; stroke-opacity:0.1; fill:none\" points=\"\n",
       "  141.853,510.003 2352.76,510.003 \n",
       "  \"/>\n",
       "<polyline clip-path=\"url(#clip552)\" style=\"stroke:#000000; stroke-linecap:butt; stroke-linejoin:round; stroke-width:2; stroke-opacity:0.1; fill:none\" points=\"\n",
       "  141.853,198.099 2352.76,198.099 \n",
       "  \"/>\n",
       "<polyline clip-path=\"url(#clip550)\" style=\"stroke:#000000; stroke-linecap:butt; stroke-linejoin:round; stroke-width:4; stroke-opacity:1; fill:none\" points=\"\n",
       "  141.853,1486.45 141.853,47.2441 \n",
       "  \"/>\n",
       "<polyline clip-path=\"url(#clip550)\" style=\"stroke:#000000; stroke-linecap:butt; stroke-linejoin:round; stroke-width:4; stroke-opacity:1; fill:none\" points=\"\n",
       "  141.853,1445.72 160.751,1445.72 \n",
       "  \"/>\n",
       "<polyline clip-path=\"url(#clip550)\" style=\"stroke:#000000; stroke-linecap:butt; stroke-linejoin:round; stroke-width:4; stroke-opacity:1; fill:none\" points=\"\n",
       "  141.853,1133.81 160.751,1133.81 \n",
       "  \"/>\n",
       "<polyline clip-path=\"url(#clip550)\" style=\"stroke:#000000; stroke-linecap:butt; stroke-linejoin:round; stroke-width:4; stroke-opacity:1; fill:none\" points=\"\n",
       "  141.853,821.907 160.751,821.907 \n",
       "  \"/>\n",
       "<polyline clip-path=\"url(#clip550)\" style=\"stroke:#000000; stroke-linecap:butt; stroke-linejoin:round; stroke-width:4; stroke-opacity:1; fill:none\" points=\"\n",
       "  141.853,510.003 160.751,510.003 \n",
       "  \"/>\n",
       "<polyline clip-path=\"url(#clip550)\" style=\"stroke:#000000; stroke-linecap:butt; stroke-linejoin:round; stroke-width:4; stroke-opacity:1; fill:none\" points=\"\n",
       "  141.853,198.099 160.751,198.099 \n",
       "  \"/>\n",
       "<path clip-path=\"url(#clip550)\" d=\"M54.5569 1459.06 L62.1958 1459.06 L62.1958 1432.69 L53.8856 1434.36 L53.8856 1430.1 L62.1495 1428.44 L66.8254 1428.44 L66.8254 1459.06 L74.4642 1459.06 L74.4642 1463 L54.5569 1463 L54.5569 1459.06 Z\" fill=\"#000000\" fill-rule=\"evenodd\" fill-opacity=\"1\" /><path clip-path=\"url(#clip550)\" d=\"M93.9086 1431.51 Q90.2975 1431.51 88.4688 1435.08 Q86.6632 1438.62 86.6632 1445.75 Q86.6632 1452.86 88.4688 1456.42 Q90.2975 1459.96 93.9086 1459.96 Q97.5428 1459.96 99.3483 1456.42 Q101.177 1452.86 101.177 1445.75 Q101.177 1438.62 99.3483 1435.08 Q97.5428 1431.51 93.9086 1431.51 M93.9086 1427.81 Q99.7187 1427.81 102.774 1432.42 Q105.853 1437 105.853 1445.75 Q105.853 1454.48 102.774 1459.08 Q99.7187 1463.67 93.9086 1463.67 Q88.0984 1463.67 85.0197 1459.08 Q81.9642 1454.48 81.9642 1445.75 Q81.9642 1437 85.0197 1432.42 Q88.0984 1427.81 93.9086 1427.81 Z\" fill=\"#000000\" fill-rule=\"evenodd\" fill-opacity=\"1\" /><path clip-path=\"url(#clip550)\" d=\"M57.7745 1147.16 L74.0939 1147.16 L74.0939 1151.09 L52.1495 1151.09 L52.1495 1147.16 Q54.8115 1144.4 59.3949 1139.77 Q64.0013 1135.12 65.1819 1133.78 Q67.4272 1131.25 68.3068 1129.52 Q69.2096 1127.76 69.2096 1126.07 Q69.2096 1123.31 67.2652 1121.58 Q65.3439 1119.84 62.2421 1119.84 Q60.043 1119.84 57.5893 1120.61 Q55.1588 1121.37 52.381 1122.92 L52.381 1118.2 Q55.2051 1117.06 57.6588 1116.49 Q60.1124 1115.91 62.1495 1115.91 Q67.5198 1115.91 70.7142 1118.59 Q73.9087 1121.28 73.9087 1125.77 Q73.9087 1127.9 73.0985 1129.82 Q72.3115 1131.72 70.205 1134.31 Q69.6263 1134.98 66.5245 1138.2 Q63.4226 1141.39 57.7745 1147.16 Z\" fill=\"#000000\" fill-rule=\"evenodd\" fill-opacity=\"1\" /><path clip-path=\"url(#clip550)\" d=\"M93.9086 1119.61 Q90.2975 1119.61 88.4688 1123.17 Q86.6632 1126.72 86.6632 1133.85 Q86.6632 1140.95 88.4688 1144.52 Q90.2975 1148.06 93.9086 1148.06 Q97.5428 1148.06 99.3483 1144.52 Q101.177 1140.95 101.177 1133.85 Q101.177 1126.72 99.3483 1123.17 Q97.5428 1119.61 93.9086 1119.61 M93.9086 1115.91 Q99.7187 1115.91 102.774 1120.51 Q105.853 1125.1 105.853 1133.85 Q105.853 1142.57 102.774 1147.18 Q99.7187 1151.76 93.9086 1151.76 Q88.0984 1151.76 85.0197 1147.18 Q81.9642 1142.57 81.9642 1133.85 Q81.9642 1125.1 85.0197 1120.51 Q88.0984 1115.91 93.9086 1115.91 Z\" fill=\"#000000\" fill-rule=\"evenodd\" fill-opacity=\"1\" /><path clip-path=\"url(#clip550)\" d=\"M67.9133 820.553 Q71.2698 821.271 73.1448 823.539 Q75.0429 825.808 75.0429 829.141 Q75.0429 834.257 71.5244 837.058 Q68.0059 839.859 61.5245 839.859 Q59.3486 839.859 57.0338 839.419 Q54.7421 839.002 52.2884 838.146 L52.2884 833.632 Q54.2328 834.766 56.5477 835.345 Q58.8625 835.923 61.3856 835.923 Q65.7837 835.923 68.0754 834.187 Q70.3902 832.451 70.3902 829.141 Q70.3902 826.086 68.2374 824.373 Q66.1078 822.636 62.2884 822.636 L58.2606 822.636 L58.2606 818.794 L62.4735 818.794 Q65.9226 818.794 67.7513 817.428 Q69.58 816.039 69.58 813.447 Q69.58 810.785 67.6819 809.373 Q65.8069 807.937 62.2884 807.937 Q60.3671 807.937 58.168 808.354 Q55.969 808.771 53.3301 809.65 L53.3301 805.484 Q55.9921 804.743 58.3069 804.373 Q60.6449 804.002 62.705 804.002 Q68.0291 804.002 71.1309 806.433 Q74.2327 808.84 74.2327 812.961 Q74.2327 815.831 72.5892 817.822 Q70.9457 819.789 67.9133 820.553 Z\" fill=\"#000000\" fill-rule=\"evenodd\" fill-opacity=\"1\" /><path clip-path=\"url(#clip550)\" d=\"M93.9086 807.706 Q90.2975 807.706 88.4688 811.271 Q86.6632 814.812 86.6632 821.942 Q86.6632 829.048 88.4688 832.613 Q90.2975 836.155 93.9086 836.155 Q97.5428 836.155 99.3483 832.613 Q101.177 829.048 101.177 821.942 Q101.177 814.812 99.3483 811.271 Q97.5428 807.706 93.9086 807.706 M93.9086 804.002 Q99.7187 804.002 102.774 808.609 Q105.853 813.192 105.853 821.942 Q105.853 830.669 102.774 835.275 Q99.7187 839.859 93.9086 839.859 Q88.0984 839.859 85.0197 835.275 Q81.9642 830.669 81.9642 821.942 Q81.9642 813.192 85.0197 808.609 Q88.0984 804.002 93.9086 804.002 Z\" fill=\"#000000\" fill-rule=\"evenodd\" fill-opacity=\"1\" /><path clip-path=\"url(#clip550)\" d=\"M66.5939 496.797 L54.7884 515.246 L66.5939 515.246 L66.5939 496.797 M65.367 492.723 L71.2466 492.723 L71.2466 515.246 L76.1772 515.246 L76.1772 519.135 L71.2466 519.135 L71.2466 527.283 L66.5939 527.283 L66.5939 519.135 L50.9921 519.135 L50.9921 514.621 L65.367 492.723 Z\" fill=\"#000000\" fill-rule=\"evenodd\" fill-opacity=\"1\" /><path clip-path=\"url(#clip550)\" d=\"M93.9086 495.802 Q90.2975 495.802 88.4688 499.367 Q86.6632 502.908 86.6632 510.038 Q86.6632 517.144 88.4688 520.709 Q90.2975 524.251 93.9086 524.251 Q97.5428 524.251 99.3483 520.709 Q101.177 517.144 101.177 510.038 Q101.177 502.908 99.3483 499.367 Q97.5428 495.802 93.9086 495.802 M93.9086 492.098 Q99.7187 492.098 102.774 496.705 Q105.853 501.288 105.853 510.038 Q105.853 518.765 102.774 523.371 Q99.7187 527.954 93.9086 527.954 Q88.0984 527.954 85.0197 523.371 Q81.9642 518.765 81.9642 510.038 Q81.9642 501.288 85.0197 496.705 Q88.0984 492.098 93.9086 492.098 Z\" fill=\"#000000\" fill-rule=\"evenodd\" fill-opacity=\"1\" /><path clip-path=\"url(#clip550)\" d=\"M53.793 180.819 L72.1494 180.819 L72.1494 184.754 L58.0754 184.754 L58.0754 193.226 Q59.0939 192.879 60.1124 192.717 Q61.131 192.532 62.1495 192.532 Q67.9365 192.532 71.3161 195.703 Q74.6957 198.874 74.6957 204.291 Q74.6957 209.87 71.2235 212.972 Q67.7513 216.05 61.4319 216.05 Q59.256 216.05 56.9875 215.68 Q54.7421 215.309 52.3347 214.569 L52.3347 209.87 Q54.418 211.004 56.6402 211.559 Q58.8625 212.115 61.3393 212.115 Q65.3439 212.115 67.6819 210.009 Q70.0198 207.902 70.0198 204.291 Q70.0198 200.68 67.6819 198.573 Q65.3439 196.467 61.3393 196.467 Q59.4643 196.467 57.5893 196.884 Q55.7375 197.3 53.793 198.18 L53.793 180.819 Z\" fill=\"#000000\" fill-rule=\"evenodd\" fill-opacity=\"1\" /><path clip-path=\"url(#clip550)\" d=\"M93.9086 183.898 Q90.2975 183.898 88.4688 187.462 Q86.6632 191.004 86.6632 198.134 Q86.6632 205.24 88.4688 208.805 Q90.2975 212.347 93.9086 212.347 Q97.5428 212.347 99.3483 208.805 Q101.177 205.24 101.177 198.134 Q101.177 191.004 99.3483 187.462 Q97.5428 183.898 93.9086 183.898 M93.9086 180.194 Q99.7187 180.194 102.774 184.8 Q105.853 189.384 105.853 198.134 Q105.853 206.86 102.774 211.467 Q99.7187 216.05 93.9086 216.05 Q88.0984 216.05 85.0197 211.467 Q81.9642 206.86 81.9642 198.134 Q81.9642 189.384 85.0197 184.8 Q88.0984 180.194 93.9086 180.194 Z\" fill=\"#000000\" fill-rule=\"evenodd\" fill-opacity=\"1\" /><circle clip-path=\"url(#clip552)\" cx=\"204.426\" cy=\"510.003\" r=\"10\" fill=\"#ff0000\" fill-rule=\"evenodd\" fill-opacity=\"1\" stroke=\"#000000\" stroke-opacity=\"1\" stroke-width=\"3.2\"/>\n",
       "<circle clip-path=\"url(#clip552)\" cx=\"830.153\" cy=\"821.907\" r=\"10\" fill=\"#ff0000\" fill-rule=\"evenodd\" fill-opacity=\"1\" stroke=\"#000000\" stroke-opacity=\"1\" stroke-width=\"3.2\"/>\n",
       "<circle clip-path=\"url(#clip552)\" cx=\"1038.73\" cy=\"1133.81\" r=\"10\" fill=\"#ff0000\" fill-rule=\"evenodd\" fill-opacity=\"1\" stroke=\"#000000\" stroke-opacity=\"1\" stroke-width=\"3.2\"/>\n",
       "<circle clip-path=\"url(#clip552)\" cx=\"2290.18\" cy=\"1445.72\" r=\"10\" fill=\"#ff0000\" fill-rule=\"evenodd\" fill-opacity=\"1\" stroke=\"#000000\" stroke-opacity=\"1\" stroke-width=\"3.2\"/>\n",
       "<polyline clip-path=\"url(#clip552)\" style=\"stroke:#e26f46; stroke-linecap:butt; stroke-linejoin:round; stroke-width:4; stroke-opacity:1; fill:none\" points=\"\n",
       "  204.426,87.9763 209.518,104.952 214.61,121.586 219.703,137.888 224.795,153.869 271.88,287.945 318.966,401.332 366.051,498.477 413.137,582.635 469.73,670.007 \n",
       "  526.323,745.285 574.171,801.251 622.02,851.353 725.973,943.96 821.81,1014.01 924.556,1076.85 1043.6,1137.56 1149.39,1183.09 1242.16,1217.84 1343.3,1251.24 \n",
       "  1445.04,1280.91 1557.54,1309.92 1664.57,1334.42 1775.86,1357.2 1869.54,1374.56 1983.91,1393.82 2091.43,1410.23 2263.68,1433.65 2290.18,1436.98 \n",
       "  \"/>\n",
       "</svg>\n"
      ]
     },
     "execution_count": 147,
     "metadata": {},
     "output_type": "execute_result"
    }
   ],
   "source": [
    "# Exemplo 3\n",
    "pontos_x = [15;16.5;17;20]\n",
    "pontos_y = [40;30;20;10]\n",
    "\n",
    "c_barra=regressão_função_geometrica(pontos_x, pontos_y)\n",
    "c1=(c_barra[1])\n",
    "c2=c_barra[2]\n",
    "#Retornando o modelo geometrico\n",
    "geometrico(x)=1/(c1+c2*x)\n",
    "\n",
    "#Plotando os pontos x e y passados\n",
    "scatter(pontos_x, pontos_y, c=:red, ms=3, leg=false)\n",
    "plot!(geometrico,15,20)"
   ]
  },
  {
   "cell_type": "code",
   "execution_count": null,
   "id": "7a9fabb3",
   "metadata": {},
   "outputs": [],
   "source": [
    "# 8)Problema: Interpolação 2D\n",
    "# Entrada: x_0, x_1 ,y_0,y_1, z_00,z_01, z_10, z_11\n",
    "# Saída: um polinômio de grau 2 de duas variáveis\n",
    "# Especificação: Para todo 1<=i<=n, F(x_i,y_j)=zij"
   ]
  },
  {
   "cell_type": "code",
   "execution_count": 41,
   "id": "185047ef",
   "metadata": {},
   "outputs": [
    {
     "data": {
      "text/plain": [
       "Interpolaçao_Lagrange2d (generic function with 1 method)"
      ]
     },
     "execution_count": 41,
     "metadata": {},
     "output_type": "execute_result"
    }
   ],
   "source": [
    "# Funçaõ recebe 4 pontos e o valor deles e retorna um polinomio\n",
    "# A interpolação bilinear será dada pelo seguinte polinômio:\n",
    "# P(x,y) = 𝐴(𝑥0, 𝑦0)*(𝑥1 − 𝑥)(𝑦1 − 𝑦)/((𝑥1 − 𝑥0)(𝑦1 − 𝑦0)) +\n",
    "#          𝐴(𝑥1, 𝑦0)*(𝑥 − 𝑥0)(𝑦1 − 𝑦)/((𝑥1 − 𝑥0)(𝑦1 − 𝑦0)) +\n",
    "#          𝐴(𝑥0, 𝑦1)*(𝑥1 − 𝑥)(𝑦 − 𝑦0)/((𝑥1 − 𝑥0)(𝑦1 − 𝑦0))  + \n",
    "#          𝐴(𝑥1, 𝑦1)*(𝑥 − 𝑥0)(𝑦 − 𝑦0)/((𝑥1 − 𝑥0)(𝑦1 − 𝑦0)) \n",
    "function Interpolaçao_Lagrange2d(pontos_x, pontos_y,A)\n",
    "    resposta(x,y)=A[1]*(pontos_x[2]-x)/(pontos_x[2]-pontos_x[1])*(pontos_y[2]-y)/(pontos_y[2]-pontos_y[1])+\n",
    "    A[2]*(pontos_x[2]-x)/(pontos_x[2]-pontos_x[1])*(y-pontos_y[1])/(pontos_y[2]-pontos_y[1])+\n",
    "    A[3]*(x-pontos_x[1])/(pontos_x[2]-pontos_x[1])*(pontos_y[2]-y)/(pontos_y[2]-pontos_y[1])+\n",
    "    A[4]*(x-pontos_x[1])/(pontos_x[2]-pontos_x[1])*(y-pontos_y[1])/(pontos_y[2]-pontos_y[1])\n",
    "    return resposta\n",
    "end"
   ]
  },
  {
   "cell_type": "code",
   "execution_count": 42,
   "id": "e3193dcc",
   "metadata": {},
   "outputs": [
    {
     "data": {
      "text/plain": [
       "resposta (generic function with 1 method)"
      ]
     },
     "execution_count": 42,
     "metadata": {},
     "output_type": "execute_result"
    }
   ],
   "source": [
    "#Exemplo 1 \n",
    "pontos_x=[1.0,3]\n",
    "pontos_y=[2.0,4]\n",
    "A=[800.0,400,600,500]\n",
    "resposta=Interpolaçao_Lagrange2d(pontos_x, pontos_y,A)"
   ]
  },
  {
   "cell_type": "code",
   "execution_count": 43,
   "id": "1d0e6c71",
   "metadata": {},
   "outputs": [
    {
     "name": "stdout",
     "output_type": "stream",
     "text": [
      "800.0\n",
      "400.0\n",
      "600.0\n",
      "500.0\n"
     ]
    }
   ],
   "source": [
    "println(resposta(1,2))\n",
    "println(resposta(1,4))\n",
    "println(resposta(3,2))\n",
    "println(resposta(3,4))"
   ]
  },
  {
   "cell_type": "code",
   "execution_count": 44,
   "id": "2e39b9ff",
   "metadata": {},
   "outputs": [
    {
     "data": {
      "text/plain": [
       "resposta (generic function with 1 method)"
      ]
     },
     "execution_count": 44,
     "metadata": {},
     "output_type": "execute_result"
    }
   ],
   "source": [
    "#Exemplo 2 \n",
    "pontos_x=[2.0,7]\n",
    "pontos_y=[8.0,9]\n",
    "A=[100.0,400,600,1500]\n",
    "resposta=Interpolaçao_Lagrange2d(pontos_x, pontos_y,A)"
   ]
  },
  {
   "cell_type": "code",
   "execution_count": 45,
   "id": "94228666",
   "metadata": {},
   "outputs": [
    {
     "name": "stdout",
     "output_type": "stream",
     "text": [
      "100.0\n",
      "400.0\n",
      "600.0\n",
      "1500.0\n"
     ]
    }
   ],
   "source": [
    "println(resposta(2,8))\n",
    "println(resposta(2,9))\n",
    "println(resposta(7,8))\n",
    "println(resposta(7,9))"
   ]
  },
  {
   "cell_type": "code",
   "execution_count": 46,
   "id": "19da1b80",
   "metadata": {},
   "outputs": [
    {
     "data": {
      "text/plain": [
       "resposta (generic function with 1 method)"
      ]
     },
     "execution_count": 46,
     "metadata": {},
     "output_type": "execute_result"
    }
   ],
   "source": [
    "#Exemplo 3 \n",
    "pontos_x=[2.0,10]\n",
    "pontos_y=[8.0,11]\n",
    "A=[100.0,900,800,1000]\n",
    "resposta=Interpolaçao_Lagrange2d(pontos_x, pontos_y,A)"
   ]
  },
  {
   "cell_type": "code",
   "execution_count": 47,
   "id": "3214ecec",
   "metadata": {},
   "outputs": [
    {
     "name": "stdout",
     "output_type": "stream",
     "text": [
      "100.0\n",
      "900.0\n",
      "800.0\n",
      "1000.0\n"
     ]
    }
   ],
   "source": [
    "println(resposta(2,8))\n",
    "println(resposta(2,11))\n",
    "println(resposta(10,8))\n",
    "println(resposta(10,11))"
   ]
  },
  {
   "cell_type": "code",
   "execution_count": 2,
   "id": "2aeb58fb",
   "metadata": {},
   "outputs": [],
   "source": [
    "# 9)Calcular a norma de um vetor v\n",
    "# Entrada: um vetor v e um vetor\n",
    "# Saída: um número z\n",
    "# Especificação z= sqrt(v_1^2 +v_2^2 + … + v_n^2)"
   ]
  },
  {
   "cell_type": "code",
   "execution_count": 24,
   "id": "203ce8ca",
   "metadata": {},
   "outputs": [
    {
     "data": {
      "text/plain": [
       "norma_vetor (generic function with 1 method)"
      ]
     },
     "execution_count": 24,
     "metadata": {},
     "output_type": "execute_result"
    }
   ],
   "source": [
    "# Dado um vetor v a função retorna a norma de v\n",
    "function norma_vetor(v)\n",
    "    #Calculando o tamamho do vetor\n",
    "    s = length(v)\n",
    "    #Realizando o calculo da norma de um vetor \"z= sqrt(v_1^2 +v_2^2 + … + v_n^2)\"\n",
    "    norma = sqrt(sum((v[i])^2 for i in 1:s))\n",
    "    return norma\n",
    "end"
   ]
  },
  {
   "cell_type": "code",
   "execution_count": 122,
   "id": "c131ff03",
   "metadata": {},
   "outputs": [
    {
     "data": {
      "text/plain": [
       "true"
      ]
     },
     "execution_count": 122,
     "metadata": {},
     "output_type": "execute_result"
    }
   ],
   "source": [
    "# Exemplo 1\n",
    "# Calculando a norma do vetor[1,2] via metodo criado\n",
    "v1 = [1,2]\n",
    "v1_calculado = norma_vetor(v1)\n",
    "\n",
    "#Calculando a norma do vetor dado\n",
    "v1_verdadeiro = sqrt((v1[1]^2)+(v1[2]^2))\n",
    "\n",
    "#Conferindo se o valor é o esperado\n",
    "norm(v1_verdadeiro-v1_calculado) < 0.000000000001"
   ]
  },
  {
   "cell_type": "code",
   "execution_count": 123,
   "id": "e3470a9c",
   "metadata": {},
   "outputs": [
    {
     "data": {
      "text/plain": [
       "true"
      ]
     },
     "execution_count": 123,
     "metadata": {},
     "output_type": "execute_result"
    }
   ],
   "source": [
    "# Exemplo 2\n",
    "# Calculando a norma do vetor[5,6,8] via metodo criado\n",
    "v2 = [5,6,8]\n",
    "v2_calculado = norma_vetor(v2)\n",
    "\n",
    "#Calculando a norma do vetor dado\n",
    "v2_verdadeiro = sqrt((v2[1]^2)+(v2[2]^2)+(v2[3]^2))\n",
    "\n",
    "#Conferindo se o valor é o esperado\n",
    "norm(v2_verdadeiro-v2_calculado) < 0.000000000001"
   ]
  },
  {
   "cell_type": "code",
   "execution_count": 124,
   "id": "7f32f32f",
   "metadata": {},
   "outputs": [
    {
     "data": {
      "text/plain": [
       "true"
      ]
     },
     "execution_count": 124,
     "metadata": {},
     "output_type": "execute_result"
    }
   ],
   "source": [
    "# Exemplo 3\n",
    "#Calculando a norma do vetor[2,2,2,2,2] via metodo criado\n",
    "v3 = [2,2,2,2,2]\n",
    "v3_calculado = norma_vetor(v3)\n",
    "\n",
    "#Calculando a norma do vetor dado\n",
    "v3_verdadeiro = sqrt((v3[1]^2)+(v3[2]^2)+(v3[3]^2)+(v3[4]^2)+(v3[5]^2))\n",
    "\n",
    "#Conferindo se o valor é o esperado\n",
    "norm(v3_verdadeiro-v3_calculado) < 0.000000000001"
   ]
  },
  {
   "cell_type": "code",
   "execution_count": null,
   "id": "4c3dce25",
   "metadata": {},
   "outputs": [],
   "source": [
    "# 10)Problema: Resolver um sistema linear denso aproximadamente (Mínimos Quadrados) (resolver n equações lineares com n variáveis)\n",
    "# Entrada: Uma matriz densa nxn A e um vetor b\n",
    "# Saída: Um vetor x* nx1\n",
    "# Especificação: Ax* aproximadamente b ( x*=argmin ||Ax-b|| )"
   ]
  },
  {
   "cell_type": "code",
   "execution_count": null,
   "id": "c58e1a31",
   "metadata": {},
   "outputs": [],
   "source": [
    "# Vamos aproveitar a função já implementada sistema_denso para resolver o problema com minimos quadrados. \n",
    "# Como a fórmula para mínimos quadrados é A'Ax = A'b, passamos como entrada A e b, e para a função sistema_denso\n",
    "# passamos como entrada A'*A e A'*b. \n",
    "# A saida é um vetor com a solução do sistema."
   ]
  },
  {
   "cell_type": "code",
   "execution_count": 23,
   "id": "d48bdeb5",
   "metadata": {},
   "outputs": [
    {
     "data": {
      "text/plain": [
       "minimos_quadrados (generic function with 1 method)"
      ]
     },
     "execution_count": 23,
     "metadata": {},
     "output_type": "execute_result"
    }
   ],
   "source": [
    "function minimos_quadrados(A,b) \n",
    "    x = sistema_denso(A'*A,A'*b) # Resolve o Sistema A'Ax = A'b \n",
    "    return x                     # Vetor solução do sistema\n",
    "end"
   ]
  },
  {
   "cell_type": "code",
   "execution_count": 151,
   "id": "4033195b",
   "metadata": {},
   "outputs": [
    {
     "data": {
      "text/plain": [
       "true"
      ]
     },
     "execution_count": 151,
     "metadata": {},
     "output_type": "execute_result"
    }
   ],
   "source": [
    "# Exemplo 1\n",
    "# Matriz densa nxn A\n",
    "A = [2.0 3 1 1; 4 7 4 3; 4 7 6 4; 6 9 9 8]\n",
    "# Gerando valores aleatorios para a matriz x\n",
    "x_verdadeiro=randn(4,1)\n",
    "#Encontrando b por meio de b = Ax\n",
    "b = A*x_verdadeiro\n",
    "#Chamando a função\n",
    "x_calculado=minimos_quadrados(A,b)\n",
    "#Conferindo se o valor é o esperado\n",
    "norm(x_verdadeiro-x_calculado) < 0.000000000001"
   ]
  },
  {
   "cell_type": "code",
   "execution_count": 127,
   "id": "e2d1b2bf",
   "metadata": {},
   "outputs": [
    {
     "data": {
      "text/plain": [
       "true"
      ]
     },
     "execution_count": 127,
     "metadata": {},
     "output_type": "execute_result"
    }
   ],
   "source": [
    "# Exemplo 2\n",
    "# Matriz densa nxn A\n",
    "A =  [1.0 2 3; 5 4 3; 7 5 4]\n",
    "# Gerando valores aleatorios para a matriz x\n",
    "x_verdadeiro=randn(3,1)\n",
    "#Encontrando b por meio de b = Ax\n",
    "b = A*x_verdadeiro\n",
    "#Chamando a função\n",
    "x_calculado=minimos_quadrados(A,b)\n",
    "#Conferindo se o valor é o esperado\n",
    "norm(x_verdadeiro-x_calculado) < 0.000000000001"
   ]
  },
  {
   "cell_type": "code",
   "execution_count": 128,
   "id": "eeb7e2c7",
   "metadata": {},
   "outputs": [
    {
     "data": {
      "text/plain": [
       "true"
      ]
     },
     "execution_count": 128,
     "metadata": {},
     "output_type": "execute_result"
    }
   ],
   "source": [
    "# Exemplo 3\n",
    "# Matriz densa nxn A\n",
    "A = [-4.0 1 1 0; 1 -4 0 1; 1 0 -4 1; 0 1 1 -4]\n",
    "# Gerando valores aleatorios para a matriz x\n",
    "x_verdadeiro=randn(4,1)\n",
    "#Encontrando b por meio de b = Ax\n",
    "b = A*x_verdadeiro\n",
    "#Chamando a função\n",
    "x_calculado=minimos_quadrados(A,b)\n",
    "#Conferindo se o valor é o esperado\n",
    "norm(x_verdadeiro-x_calculado) < 0.000000001"
   ]
  },
  {
   "cell_type": "code",
   "execution_count": null,
   "id": "03abcedb",
   "metadata": {},
   "outputs": [],
   "source": [
    "# 11)Problema: Resolver exatamente uma sistema linear denso\n",
    "# Entrada: Uma matriz densa nxn A e um vetor b\n",
    "# Saída: Um vetor x nx1\n",
    "# Especificação: Ax=b"
   ]
  },
  {
   "cell_type": "code",
   "execution_count": 22,
   "id": "01f52c02",
   "metadata": {},
   "outputs": [
    {
     "data": {
      "text/plain": [
       "sistema_denso (generic function with 1 method)"
      ]
     },
     "execution_count": 22,
     "metadata": {},
     "output_type": "execute_result"
    }
   ],
   "source": [
    "# Função que dado A e b de um sistema do tipo Ax=b retorna x\n",
    "function sistema_denso(A,b)\n",
    "    #Realiza a decomposição LU\n",
    "    L,U=decomposicao_lu(A)\n",
    "    #Resolve matriz triangular inferior\n",
    "    y=resolve_triangular_inferior(L,b)\n",
    "    #Resolve matriz triangular superior\n",
    "    x=resolve_triangular_superior(U,y)\n",
    "    #Retorna x de Ax=b\n",
    "    return x\n",
    "end"
   ]
  },
  {
   "cell_type": "code",
   "execution_count": 130,
   "id": "d361a9f1",
   "metadata": {},
   "outputs": [
    {
     "data": {
      "text/plain": [
       "true"
      ]
     },
     "execution_count": 130,
     "metadata": {},
     "output_type": "execute_result"
    }
   ],
   "source": [
    "# Exemplo 1\n",
    "# Matriz densa nxn A\n",
    "A = [2.0 3 1 1; 4 7 4 3; 4 7 6 4; 6 9 9 8]\n",
    "# Gerando valores aleatorios para a matriz x\n",
    "x_verdadeiro=randn(4,1)\n",
    "# Encontrando b por meio de b = Ax\n",
    "b = A*x_verdadeiro\n",
    "# Chamando a função\n",
    "x_calculado=sistema_denso(A,b)\n",
    "# Conferindo se o valor é o esperado\n",
    "norm(x_verdadeiro-x_calculado) < 0.000000000001"
   ]
  },
  {
   "cell_type": "code",
   "execution_count": 131,
   "id": "37db2c8d",
   "metadata": {},
   "outputs": [
    {
     "data": {
      "text/plain": [
       "true"
      ]
     },
     "execution_count": 131,
     "metadata": {},
     "output_type": "execute_result"
    }
   ],
   "source": [
    "# Exemplo 2\n",
    "# Matriz densa nxn A\n",
    "A =  [1.0 2 3; 5 4 3; 7 5 4]\n",
    "# Gerando valores aleatorios para a matriz x\n",
    "x_verdadeiro=randn(3,1)\n",
    "# Encontrando b por meio de b = Ax\n",
    "b = A*x_verdadeiro\n",
    "# Chamando a função\n",
    "x_calculado=sistema_denso(A,b)\n",
    "# Conferindo se o valor é o esperado\n",
    "norm(x_verdadeiro-x_calculado) < 0.000000000001"
   ]
  },
  {
   "cell_type": "code",
   "execution_count": 132,
   "id": "3eff7fee",
   "metadata": {},
   "outputs": [
    {
     "data": {
      "text/plain": [
       "true"
      ]
     },
     "execution_count": 132,
     "metadata": {},
     "output_type": "execute_result"
    }
   ],
   "source": [
    "# Exemplo 3\n",
    "# Matriz densa nxn A\n",
    "A = [-4.0 1 1 0; 1 -4 0 1; 1 0 -4 1; 0 1 1 -4]\n",
    "# Gerando valores aleatorios para a matriz x\n",
    "x_verdadeiro=randn(4,1)\n",
    "# Encontrando b por meio de b = Ax\n",
    "b = A*x_verdadeiro\n",
    "# Chamando a função\n",
    "x_calculado=sistema_denso(A,b)\n",
    "# Conferindo se o valor é o esperado\n",
    "norm(x_verdadeiro-x_calculado) < 0.000000001"
   ]
  },
  {
   "cell_type": "code",
   "execution_count": null,
   "id": "e3daa737",
   "metadata": {},
   "outputs": [],
   "source": [
    "# 12)Problema: Resolver um sistema triangular superior\n",
    "# Entrada: Uma matriz triangular superior nxn U e um vetor b\n",
    "# Saída: Um vetor x nx1\n",
    "# Especificação: Ux=b"
   ]
  },
  {
   "cell_type": "code",
   "execution_count": 21,
   "id": "e2e51e94",
   "metadata": {},
   "outputs": [
    {
     "data": {
      "text/plain": [
       "resolve_triangular_superior (generic function with 1 method)"
      ]
     },
     "execution_count": 21,
     "metadata": {},
     "output_type": "execute_result"
    }
   ],
   "source": [
    "# Matriz Diagonal Superior\n",
    "# Recebe como parâmetro duas matrizes A e b e retorna x tal que Ax = b.\n",
    "# A deve ser triangular superior\n",
    "function resolve_triangular_superior(A, b)\n",
    "   #Recebe tamanho da matriz A\n",
    "    n = size(A, 1)\n",
    "   #Cria matriz zerada de x(nx1)\n",
    "    x = zeros(n, 1)\n",
    "   #Matriz triangular superior, então pegamos a matriz ao \"contrário\" para iniciarmos a substituição dos valores e solução\n",
    "    for i = reverse(1:n)\n",
    "        #x recebe o que está em b \n",
    "        x[i] = b[i]\n",
    "        #Diminui dos outros coeficientes (substituindo)\n",
    "        for j = reverse(i+1:n)\n",
    "            x[i] -= A[i, j] * x[j]\n",
    "        end\n",
    "       #Realiza a divisão do coeficiente pela 'resposta' \n",
    "        x[i] /= A[i, i]\n",
    "    end\n",
    "    #Retorna a matriz x de Ax=b\n",
    "    x\n",
    "end"
   ]
  },
  {
   "cell_type": "code",
   "execution_count": 134,
   "id": "ab77a02d",
   "metadata": {},
   "outputs": [
    {
     "data": {
      "text/plain": [
       "true"
      ]
     },
     "execution_count": 134,
     "metadata": {},
     "output_type": "execute_result"
    }
   ],
   "source": [
    "# Matriz triangular superior\n",
    "A = [2 2 2 ;0 3 3; 0 0 4]\n",
    "\n",
    "# Gerando valores aleatorios para a matriz x\n",
    "x_verdadeiro=randn(3,1)\n",
    "\n",
    "# Encontrando b por meio de b = Ax\n",
    "b= A*x_verdadeiro\n",
    "\n",
    "# Chamando a função \n",
    "x_calculado=resolve_triangular_superior(A ,b)\n",
    "\n",
    "# Conferindo se o valor é o esperado\n",
    "norm(x_verdadeiro-x_calculado) < 0.000000000001"
   ]
  },
  {
   "cell_type": "code",
   "execution_count": 135,
   "id": "a09d9645",
   "metadata": {},
   "outputs": [
    {
     "data": {
      "text/plain": [
       "true"
      ]
     },
     "execution_count": 135,
     "metadata": {},
     "output_type": "execute_result"
    }
   ],
   "source": [
    "# Matriz triangular superior\n",
    "A = [10 244 421 33 1;0 3 33 22 11; 0 0 7 6 5; 0 0 0 92 1; 0 0 0 0 68]\n",
    "\n",
    "# Gerando valores aleatorios para a matriz x\n",
    "x_verdadeiro=randn(5,1)\n",
    "\n",
    "# Encontrando b por meio de b = Ax\n",
    "b= A*x_verdadeiro\n",
    "\n",
    "# Chamando a função \n",
    "x_calculado=resolve_triangular_superior(A,b)\n",
    "\n",
    "# Conferindo se o valor é o esperado\n",
    "norm(x_verdadeiro-x_calculado) < 0.000000000001"
   ]
  },
  {
   "cell_type": "code",
   "execution_count": 136,
   "id": "ecd471ec",
   "metadata": {},
   "outputs": [
    {
     "data": {
      "text/plain": [
       "true"
      ]
     },
     "execution_count": 136,
     "metadata": {},
     "output_type": "execute_result"
    }
   ],
   "source": [
    "# Matriz triangular superior\n",
    "A = [10 20 30 40 50 60 70;0 82 2 3 40 1 1; 0 0 17 20 30 40 110; 0 0 0 99 33 55 44; 0 0 0 0 66 11 22; 0 0 0 0 0 111 3; 0 0 0 0 0 0 7 ]\n",
    "\n",
    "# Gerando valores aleatorios para a matriz x\n",
    "x_verdadeiro=randn(7,1)\n",
    "\n",
    "# Encontrando b por meio de b = Ax\n",
    "b= A*x_verdadeiro\n",
    "\n",
    "# Chamando a função \n",
    "x_calculado=resolve_triangular_superior(A,b)\n",
    "\n",
    "# Conferindo se o valor é o esperado\n",
    "norm(x_verdadeiro-x_calculado) < 0.000000000001"
   ]
  },
  {
   "cell_type": "code",
   "execution_count": null,
   "id": "939cda04",
   "metadata": {},
   "outputs": [],
   "source": [
    "# 13)Problema: Resolver um sistema triangular inferior\n",
    "# Entrada: Uma matriz triangular inferior nxn L e um vetor b\n",
    "# Saída: Um vetor x nx1\n",
    "# Especificação: Lx=b"
   ]
  },
  {
   "cell_type": "code",
   "execution_count": 20,
   "id": "8caa9ff6",
   "metadata": {},
   "outputs": [
    {
     "data": {
      "text/plain": [
       "resolve_triangular_inferior (generic function with 1 method)"
      ]
     },
     "execution_count": 20,
     "metadata": {},
     "output_type": "execute_result"
    }
   ],
   "source": [
    "# Matriz Diagonal Inferior\n",
    "# Recebe como parâmetro duas matrizes A e b e retorna x tal que Ax = b.\n",
    "# A deve ser triangular inferior\n",
    "function resolve_triangular_inferior(A, b)\n",
    "    #Recebe tamanho da matriz A\n",
    "    n = size(A, 1)\n",
    " \n",
    "    #Cria matriz zerada de x(nx1)\n",
    "    x = zeros(n, 1)\n",
    "    \n",
    "       for i = 1:n\n",
    "       #Dizemos que x é igual a b, pois é triangular inferior\n",
    "        x[i] = b[i]\n",
    " \n",
    "        #Diminui dos outros coeficientes (substituindo)\n",
    "        for j = 1:i-1\n",
    "            x[i] -= A[i, j] * x[j]\n",
    "        end\n",
    "       #Realiza a divisão do valor do coeficiente pela 'resposta' \n",
    "        x[i] /= A[i, i]\n",
    "    end\n",
    "    #Retorna a matriz x de Ax=b\n",
    "    x\n",
    "end"
   ]
  },
  {
   "cell_type": "code",
   "execution_count": 138,
   "id": "c444f15c",
   "metadata": {},
   "outputs": [
    {
     "data": {
      "text/plain": [
       "true"
      ]
     },
     "execution_count": 138,
     "metadata": {},
     "output_type": "execute_result"
    }
   ],
   "source": [
    "# Matriz triangular inferior\n",
    "A = [1 0 0; 3 2 0; 1 4 3]\n",
    "\n",
    "# Gerando valores aleatorios para a matriz x\n",
    "x_verdadeiro=randn(3,1)\n",
    "\n",
    "#Encontrando b por meio de b = Ax\n",
    "b = A*x_verdadeiro\n",
    "\n",
    "#Chamando a função\n",
    "x_calculado=resolve_triangular_inferior(A ,b)\n",
    "\n",
    "#Conferindo se o valor é o esperado\n",
    "norm(x_verdadeiro-x_calculado) < 0.000000000001"
   ]
  },
  {
   "cell_type": "code",
   "execution_count": 139,
   "id": "9c7b4a99",
   "metadata": {},
   "outputs": [
    {
     "data": {
      "text/plain": [
       "true"
      ]
     },
     "execution_count": 139,
     "metadata": {},
     "output_type": "execute_result"
    }
   ],
   "source": [
    "# Matriz triangular inferior\n",
    "A= [10 0 0 0 0;3 3 0 0 0; 7 6 5 0 0; 1 92 33 1 0; 244 421 33 1 68]\n",
    "\n",
    "# Gerando valores aleatorios para a matriz x\n",
    "x_verdadeiro=randn(5,1)\n",
    "\n",
    "# Encontrando b por meio de b = Ax\n",
    "b= A*x_verdadeiro\n",
    "\n",
    "# Chamando a função\n",
    "x_calculado=resolve_triangular_inferior(A,b)\n",
    "\n",
    "# Conferindo se o valor é o esperado\n",
    "norm(x_verdadeiro-x_calculado) < 0.000000000001"
   ]
  },
  {
   "cell_type": "code",
   "execution_count": 140,
   "id": "03bb19c1",
   "metadata": {},
   "outputs": [
    {
     "data": {
      "text/plain": [
       "true"
      ]
     },
     "execution_count": 140,
     "metadata": {},
     "output_type": "execute_result"
    }
   ],
   "source": [
    "# Matriz triangular inferior\n",
    "A = [1 0 0; 1 1 0; 1 1 1]\n",
    "\n",
    "# Gerando valores aleatorios para a matriz x\n",
    "x_verdadeiro=randn(3,1)\n",
    "\n",
    "# Encontrando b por meio de b = Ax\n",
    "b= A*x_verdadeiro\n",
    "\n",
    "# Chamando a função\n",
    "x_calculado=resolve_triangular_inferior(A ,b)\n",
    "\n",
    "# Conferindo se o valor é o esperado\n",
    "norm(x_verdadeiro-x_calculado) < 0.000000000001"
   ]
  },
  {
   "cell_type": "code",
   "execution_count": null,
   "id": "daeb1880",
   "metadata": {},
   "outputs": [],
   "source": [
    "# 14)Problema: Resolver um sistema diagonal\n",
    "# Entrada: Uma matriz triangular diagonal nxn D e um vetor b\n",
    "# Saída: Um vetor x nx1\n",
    "# Especificação: Dx=b"
   ]
  },
  {
   "cell_type": "code",
   "execution_count": 19,
   "id": "cc033b99",
   "metadata": {},
   "outputs": [
    {
     "data": {
      "text/plain": [
       "resolve_diagonal (generic function with 1 method)"
      ]
     },
     "execution_count": 19,
     "metadata": {},
     "output_type": "execute_result"
    }
   ],
   "source": [
    "# Matriz Diagonal\n",
    "# Recebe como parâmetro duas matrizes A e b e retorna x tal que Ax = b.\n",
    "#(A deve ser uma matriz diagonal)\n",
    "function resolve_diagonal(A, b)\n",
    "    #Pega tamanho da matriz A\n",
    "    n = size(A, 1)\n",
    "    #Cria matriz x zerada do tamanho (nx1)\n",
    "    x = zeros(n, 1)\n",
    "    #Lopping que realiza a resolução do sistema\n",
    "    for i = 1:n\n",
    "        x[i] = b[i] / A[i, i]\n",
    "    end\n",
    "    #Retorna x tal que Ax = b\n",
    "    x\n",
    "end"
   ]
  },
  {
   "cell_type": "code",
   "execution_count": 142,
   "id": "5dafcdf1",
   "metadata": {},
   "outputs": [
    {
     "data": {
      "text/plain": [
       "true"
      ]
     },
     "execution_count": 142,
     "metadata": {},
     "output_type": "execute_result"
    }
   ],
   "source": [
    "# Exemplo 1\n",
    "# Criando a matriz A\n",
    "Teste1 = [2 0 0 ;0 3 0; 0 0 4]\n",
    "# Gerando valores aleatorios para a matriz x\n",
    "x_verdadeiro=randn(3,1)\n",
    "\n",
    "# Multiplicando os numeros aleatorios pela matriz A (b=AX)\n",
    "b= Teste1*x_verdadeiro\n",
    "\n",
    "# Aplicando a função\n",
    "x_calculado=resolve_diagonal(Teste1 ,b)\n",
    "\n",
    "# Conferindo se o valor é o esperado\n",
    "norm(x_verdadeiro-x_calculado) < 0.000000000001"
   ]
  },
  {
   "cell_type": "code",
   "execution_count": 143,
   "id": "ce813b5a",
   "metadata": {},
   "outputs": [
    {
     "data": {
      "text/plain": [
       "true"
      ]
     },
     "execution_count": 143,
     "metadata": {},
     "output_type": "execute_result"
    }
   ],
   "source": [
    "# Exemplo 2\n",
    "# Criando a matriz A\n",
    "Teste2= [10 0 0 0 0;0 3 0 0 0; 0 0 7 0 0; 0 0 0 9 0; 0 0 0 0 6]\n",
    "#Valores aleatorios para a matriz x\n",
    "x_verdadeiro=randn(5,1)\n",
    "\n",
    "#Multiplicando os números aleatorios pela matriz A (b=Ax)\n",
    "b= Teste2*x_verdadeiro\n",
    "\n",
    "#Aplicando a função\n",
    "x_calculado=resolve_diagonal(Teste2,b)\n",
    "\n",
    "\n",
    "#Verificando se o valor é o esperado\n",
    "norm(x_verdadeiro-x_calculado) < 0.000000000001"
   ]
  },
  {
   "cell_type": "code",
   "execution_count": 144,
   "id": "40d9bf71",
   "metadata": {},
   "outputs": [
    {
     "data": {
      "text/plain": [
       "true"
      ]
     },
     "execution_count": 144,
     "metadata": {},
     "output_type": "execute_result"
    }
   ],
   "source": [
    "# Exemplo 3 \n",
    "# Criando matriz A\n",
    "Teste3 = [10 0 0 0 0 0 0;0 8 0 0 0 0 0; 0 0 17 0 0 0 0; 0 0 0 99 0 0 0; 0 0 0 0 66 0 0; 0 0 0 0 0 111 0; 0 0 0 0 0 0 7 ]\n",
    "# Gerando valores aleatorios para a matriz x\n",
    "x_verdadeiro=randn(7,1)\n",
    "\n",
    "# Multiplicando os números aleatorios pela matriz A (b=Ax)\n",
    "b= Teste3*x_verdadeiro\n",
    "\n",
    "# Aplicando a função\n",
    "x_calculado=resolve_diagonal(Teste3,b)\n",
    "\n",
    "# Conferindo se o valor é o esperado\n",
    "norm(x_verdadeiro-x_calculado) < 0.000000000001"
   ]
  },
  {
   "cell_type": "code",
   "execution_count": null,
   "id": "4f9de411",
   "metadata": {},
   "outputs": [],
   "source": [
    "# 15)Problema: achar a inversa de uma matriz\n",
    "# Entrada: uma matrix inversível A nxn (não-singular)\n",
    "# Saída: uma matrix B nxn\n",
    "# Especificação: A*B=B*A=I"
   ]
  },
  {
   "cell_type": "code",
   "execution_count": 145,
   "id": "fac06630",
   "metadata": {},
   "outputs": [
    {
     "data": {
      "text/plain": [
       "MatrizInversa (generic function with 1 method)"
      ]
     },
     "execution_count": 145,
     "metadata": {},
     "output_type": "execute_result"
    }
   ],
   "source": [
    "#Função que recebe uma matriz T e retorna sua inversa\n",
    "# AX = LUX = B\n",
    "# Supondo que B seja matriz identidade então X será a inversa de A\n",
    "# Substituindo UX por y =>\n",
    "# Ly = B\n",
    "# UX = y\n",
    "function MatrizInversa(T)\n",
    " \n",
    "    #Pega o tamanho de t\n",
    "    n = size(T,1)\n",
    " \n",
    "    #Cria matriz identidade\n",
    "    identidade = Matrix{Int64}(I,n,n)\n",
    " \n",
    "    #Realiza a decomposição lu\n",
    "    L,U = decomposicao_lu(T)\n",
    " \n",
    "    #Matriz triangular\n",
    "    y = L\\identidade\n",
    "    x=U\\y\n",
    "    #Retorna a inversa de t\n",
    "    return x\n",
    "end"
   ]
  },
  {
   "cell_type": "code",
   "execution_count": 26,
   "id": "c0a56aa4",
   "metadata": {},
   "outputs": [
    {
     "data": {
      "text/plain": [
       "3×3 Matrix{Float64}:\n",
       "  1.05      -0.2  -0.35\n",
       " -0.3        0.2   0.1\n",
       " -0.383333   0.2   0.0166667"
      ]
     },
     "execution_count": 26,
     "metadata": {},
     "output_type": "execute_result"
    }
   ],
   "source": [
    "# Exemplo 1\n",
    "# Matriz A\n",
    "a = [1 4 -3; 2 7 0; -1 8 -9]\n",
    "# Matriz inversa de A\n",
    "MatrizInversa(a)"
   ]
  },
  {
   "cell_type": "code",
   "execution_count": 27,
   "id": "81e0ef3d",
   "metadata": {},
   "outputs": [
    {
     "data": {
      "text/plain": [
       "2×2 Matrix{Float64}:\n",
       "  0.428571  0.142857\n",
       " -0.285714  0.0714286"
      ]
     },
     "execution_count": 27,
     "metadata": {},
     "output_type": "execute_result"
    }
   ],
   "source": [
    "# Exemplo 2\n",
    "# Matriz A\n",
    "a = [1 -2; 4 6]\n",
    "# Matriz inversa de A\n",
    "MatrizInversa(a)"
   ]
  },
  {
   "cell_type": "code",
   "execution_count": 28,
   "id": "2e970d57",
   "metadata": {},
   "outputs": [
    {
     "data": {
      "text/plain": [
       "2×2 Matrix{Float64}:\n",
       " -2.0   1.0\n",
       "  1.5  -0.5"
      ]
     },
     "execution_count": 28,
     "metadata": {},
     "output_type": "execute_result"
    }
   ],
   "source": [
    "# Exemplo 3\n",
    "# Matriz A\n",
    "a = [1 2; 3 4]\n",
    "# Matriz inversa de A\n",
    "MatrizInversa(a)"
   ]
  },
  {
   "cell_type": "code",
   "execution_count": null,
   "id": "6525f580",
   "metadata": {},
   "outputs": [],
   "source": [
    "# 16)Problema: Decomposição LU\n",
    "# Entrada: uma matrix A nxn\n",
    "# Saída: uma matrix triangular inferior L e um matriz triangular superior U\n",
    "# Especificação: A=LU"
   ]
  },
  {
   "cell_type": "code",
   "execution_count": 15,
   "id": "9bd6756b",
   "metadata": {},
   "outputs": [
    {
     "data": {
      "text/plain": [
       "decomposicao_lu (generic function with 1 method)"
      ]
     },
     "execution_count": 15,
     "metadata": {},
     "output_type": "execute_result"
    }
   ],
   "source": [
    "# Decomposição LU\n",
    "# Recebe uma matriz a e retorna as matrizes L e U.\n",
    "function decomposicao_lu(A)\n",
    "    U = copy(A)\n",
    "    n = size(A, 1)\n",
    "    L = Matrix{Float64}(I, n, n) #Matriz identidade\n",
    "    for i = 1:n\n",
    "        for j = i+1:n\n",
    "            coef=U[j, i] / U[i, i]\n",
    "            L[j, i] = coef\n",
    "            U[j, :] -= coef * U[i, :]\n",
    "        end\n",
    "    end\n",
    "    L, U\n",
    "end"
   ]
  },
  {
   "cell_type": "code",
   "execution_count": 16,
   "id": "1f79a0d8",
   "metadata": {},
   "outputs": [
    {
     "data": {
      "text/plain": [
       "([1.0 0.0 0.0 0.0; 2.0 1.0 0.0 0.0; 2.0 1.0 1.0 0.0; 3.0 0.0 3.0 1.0], [2 3 1 1; 0 1 2 1; 0 0 2 1; 0 0 0 2])"
      ]
     },
     "execution_count": 16,
     "metadata": {},
     "output_type": "execute_result"
    }
   ],
   "source": [
    "# Exemplo 1\n",
    "# Matriz que vamos decompor\n",
    "k = [2 3 1 1; 4 7 4 3; 4 7 6 4; 6 9 9 8]\n",
    "# Chamando a função\n",
    "l,U=decomposicao_lu(k)"
   ]
  },
  {
   "cell_type": "code",
   "execution_count": 17,
   "id": "ac5ba78c",
   "metadata": {},
   "outputs": [
    {
     "data": {
      "text/plain": [
       "([1.0 0.0; 1.5 1.0], [4.0 3.0; 0.0 -1.5])"
      ]
     },
     "execution_count": 17,
     "metadata": {},
     "output_type": "execute_result"
    }
   ],
   "source": [
    "# Exemplo 2\n",
    "# Matriz que vamos decompor\n",
    "k = [4.0 3; 6 3]\n",
    "# Chamando a função\n",
    "l,U=decomposicao_lu(k)"
   ]
  },
  {
   "cell_type": "code",
   "execution_count": 18,
   "id": "6f47126c",
   "metadata": {},
   "outputs": [
    {
     "data": {
      "text/plain": [
       "([1.0 0.0 0.0; 2.0 1.0 0.0; -1.0 -0.0 1.0], [2.0 3.0 -1.0; 0.0 -2.0 1.0; 0.0 0.0 3.0])"
      ]
     },
     "execution_count": 18,
     "metadata": {},
     "output_type": "execute_result"
    }
   ],
   "source": [
    "# Exemplo 3\n",
    "# Matriz que vamos decompor\n",
    "k = [2.0 3 -1; 4 4 -1; -2 -3 4]\n",
    "# Chamando a função\n",
    "l,U=decomposicao_lu(k)"
   ]
  },
  {
   "cell_type": "code",
   "execution_count": null,
   "id": "5ec846a8",
   "metadata": {},
   "outputs": [],
   "source": [
    "# 18)Problema: Integração Numérica (com o número de intervalos)"
   ]
  },
  {
   "cell_type": "code",
   "execution_count": 7,
   "id": "4373d145",
   "metadata": {},
   "outputs": [
    {
     "data": {
      "text/plain": [
       "trapezio (generic function with 1 method)"
      ]
     },
     "execution_count": 7,
     "metadata": {},
     "output_type": "execute_result"
    }
   ],
   "source": [
    "function trapezio(f,a,b,n) #calcular a integral f(x) de a até b\n",
    "    h=(b-a)/n            #tamanho dos intervalos baseado no limite de integração e o numero de intervalos\n",
    "    S=0.0                #soma da integral\n",
    "    for i=1:(n-1)        #calcula o \"meio\"\n",
    "        x=a+i*h          #avanço de x\n",
    "        S+=2*f(x)        #incrementando a soma\n",
    "    end\n",
    "    S=h/2*(S+f(a)+f(b))  #calcula \"as pontas\"\n",
    "    return S\n",
    "end"
   ]
  },
  {
   "cell_type": "code",
   "execution_count": 8,
   "id": "867593d2",
   "metadata": {},
   "outputs": [
    {
     "data": {
      "text/plain": [
       "true"
      ]
     },
     "execution_count": 8,
     "metadata": {},
     "output_type": "execute_result"
    }
   ],
   "source": [
    "#Exemplo 1\n",
    "\n",
    "#Dados para o metodo do trapezio\n",
    "f(x) = x\n",
    "a = 0\n",
    "b = 1\n",
    "n = 10000\n",
    "\n",
    "#Calculando a integral de outra forma\n",
    "#Integral de x de 0 até 1\n",
    "v1_verdadeiro  = 1/2\n",
    "\n",
    "#Usando metodo do trapezio\n",
    "v1_calculado = trapezio(f,a,b,n)\n",
    "\n",
    "#Conferindo se o valor é o esperado\n",
    "norm(v1_verdadeiro-v1_calculado) < 0.0000001"
   ]
  },
  {
   "cell_type": "code",
   "execution_count": 9,
   "id": "57b86260",
   "metadata": {},
   "outputs": [
    {
     "data": {
      "text/plain": [
       "true"
      ]
     },
     "execution_count": 9,
     "metadata": {},
     "output_type": "execute_result"
    }
   ],
   "source": [
    "#Exemplo 2\n",
    "\n",
    "#Dados para o metodo do trapezio\n",
    "g(x) = 5*x\n",
    "a = 5\n",
    "b = -5\n",
    "n = 10000\n",
    "\n",
    "#Calculando a integral de outra forma\n",
    "#Integral de 5x de 5 até -5 (função impar = zero)\n",
    "v2_verdadeiro  = 0\n",
    "\n",
    "#Usando metodo do trapezio\n",
    "v2_calculado = trapezio(g,a,b,n)\n",
    "\n",
    "#Conferindo se o valor é o esperado\n",
    "norm(v2_verdadeiro-v2_calculado) < 0.0000001"
   ]
  },
  {
   "cell_type": "code",
   "execution_count": 10,
   "id": "1bcf4161",
   "metadata": {},
   "outputs": [
    {
     "data": {
      "text/plain": [
       "true"
      ]
     },
     "execution_count": 10,
     "metadata": {},
     "output_type": "execute_result"
    }
   ],
   "source": [
    "#Exemplo 3\n",
    "\n",
    "#Dados para o metodo do trapezio\n",
    "h(x) = x^2\n",
    "a = 0\n",
    "b = 1\n",
    "n = 10000\n",
    "\n",
    "#Calculando a integral de outra forma\n",
    "#Integral de x^2 de 0 até 1\n",
    "v3_verdadeiro  = 1/3\n",
    "\n",
    "#Usando metodo do trapezio\n",
    "v3_calculado = trapezio(h,a,b,n)\n",
    "\n",
    "#Conferindo se o valor é o esperado\n",
    "norm(v3_verdadeiro-v3_calculado) < 0.0000001"
   ]
  },
  {
   "cell_type": "code",
   "execution_count": 11,
   "id": "988fea1e",
   "metadata": {},
   "outputs": [
    {
     "data": {
      "text/plain": [
       "Integral_Dupla (generic function with 1 method)"
      ]
     },
     "execution_count": 11,
     "metadata": {},
     "output_type": "execute_result"
    }
   ],
   "source": [
    "# 20)Bônus: Problema: Integração Dupla\n",
    "# Função que dada uma função (x,y) e seus intervalos de integração retorna a integral dupla determinada \n",
    "function Integral_Dupla(h,a,b,c,d)\n",
    "    function g(y)\n",
    "        f(x)=h(x,y)\n",
    "    #Realizando a integração de f de a até b\n",
    "        return trapezio(f,a,b,1000)\n",
    "    end\n",
    "    #Retorna a integral\n",
    "    return trapezio(g,c,d,1000)\n",
    "end"
   ]
  },
  {
   "cell_type": "code",
   "execution_count": 12,
   "id": "ab9eb6e4",
   "metadata": {},
   "outputs": [
    {
     "data": {
      "text/plain": [
       "true"
      ]
     },
     "execution_count": 12,
     "metadata": {},
     "output_type": "execute_result"
    }
   ],
   "source": [
    "# Exemplo 1\n",
    "# Função\n",
    "h(x,y)=x^2*y\n",
    "# Intervalos de integração\n",
    "a = 1\n",
    "b = 2\n",
    "c = 5\n",
    "d = 6\n",
    "\n",
    "# Valor encontrado na calculadora\n",
    "v1_verdadeiro = 12.83\n",
    "\n",
    "# Valor via metodo criado\n",
    "v1_calculado = round(Integral_Dupla(h,a,b,c,d), digits=2)\n",
    "\n",
    "# Conferindo se o valor é o esperado\n",
    "norm(v1_verdadeiro-v1_calculado) < 0.0000001"
   ]
  },
  {
   "cell_type": "code",
   "execution_count": 13,
   "id": "77afbda8",
   "metadata": {},
   "outputs": [
    {
     "data": {
      "text/plain": [
       "true"
      ]
     },
     "execution_count": 13,
     "metadata": {},
     "output_type": "execute_result"
    }
   ],
   "source": [
    "# Exemplo 2\n",
    "# Função\n",
    "g(x,y)=x + y\n",
    "# Intervalos de integração\n",
    "a = 0\n",
    "b = 1\n",
    "c = 0\n",
    "d = 1\n",
    "\n",
    "# Valor encontrado na calculadora\n",
    "v2_verdadeiro = 1\n",
    "\n",
    "# Valor via metodo criado\n",
    "v2_calculado = round(Integral_Dupla(g,a,b,c,d), digits=2)\n",
    "\n",
    "# Conferindo se o valor é o esperado\n",
    "norm(v2_verdadeiro-v2_calculado) < 0.000001"
   ]
  },
  {
   "cell_type": "code",
   "execution_count": 14,
   "id": "23b77f94",
   "metadata": {},
   "outputs": [
    {
     "data": {
      "text/plain": [
       "true"
      ]
     },
     "execution_count": 14,
     "metadata": {},
     "output_type": "execute_result"
    }
   ],
   "source": [
    "# Exemplo 3\n",
    "# Função\n",
    "k(x,y)=x + (y^2)\n",
    "# Intervalos de integração\n",
    "a = 2\n",
    "b = 4\n",
    "c = 0\n",
    "d = 1\n",
    "\n",
    "# Valor encontrado na calculadora\n",
    "v3_verdadeiro = 20/3\n",
    "\n",
    "# Valor via metodo criado\n",
    "v3_calculado = Integral_Dupla(k,a,b,c,d)\n",
    "\n",
    "# Conferindo se o valor é o esperado\n",
    "norm(v3_verdadeiro-v3_calculado) < 0.000001"
   ]
  }
 ],
 "metadata": {
  "kernelspec": {
   "display_name": "Julia 1.7.2",
   "language": "julia",
   "name": "julia-1.7"
  },
  "language_info": {
   "file_extension": ".jl",
   "mimetype": "application/julia",
   "name": "julia",
   "version": "1.7.2"
  }
 },
 "nbformat": 4,
 "nbformat_minor": 5
}
